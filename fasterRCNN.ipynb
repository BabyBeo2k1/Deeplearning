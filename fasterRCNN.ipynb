{
 "cells": [
  {
   "cell_type": "code",
   "execution_count": 1,
   "id": "e4281320-f5a7-4e79-983b-b5c8c5e089d5",
   "metadata": {},
   "outputs": [
    {
     "data": {
      "text/plain": [
       "'import xml.etree.ElementTree as ET\\nimport os\\nimport xmltodict\\nimport torch\\nfrom torch.utils.data import Dataset\\nimport transformers as T\\nimport shutil\\nimport random\\nfrom PIL import Image\\nimport numpy as np'"
      ]
     },
     "execution_count": 1,
     "metadata": {},
     "output_type": "execute_result"
    }
   ],
   "source": [
    "\"\"\"import xml.etree.ElementTree as ET\n",
    "import os\n",
    "import xmltodict\n",
    "import torch\n",
    "from torch.utils.data import Dataset\n",
    "import transformers as T\n",
    "import shutil\n",
    "import random\n",
    "from PIL import Image\n",
    "import numpy as np\"\"\""
   ]
  },
  {
   "cell_type": "code",
   "execution_count": 2,
   "id": "e7ff9e54-d58a-4abc-a7d6-8fadfac6eee2",
   "metadata": {},
   "outputs": [
    {
     "data": {
      "text/plain": [
       "'\\ndef xml_handling(root=\\'./archive\\', target_root=\\'data\\'):\\n    root=\\'./archive\\'\\n    target_root=\\'data\\'\\n    root_label=root+\\'/annotations\\'\\n    root_img=root+\\'/images/\\'\\n    \\n    xml_files=os.listdir(root_label)    \\n    i=0\\n    for file in xml_files:\\n        if file[0]==\\'.\\':\\n            continue\\n        file=root_label+\"/\"+file\\n        train=False\\n        if random.random()<0.8:\\n            train=True\\n        tree = ET.parse(file)\\n        root = tree.getroot()\\n        base_name=os.path.basename(file)\\n        \\n        base_name,ext=os.path.splitext(base_name)\\n        result = ET.tostring(root,encoding=\\'utf-8\\').decode(\\'utf-8\\')\\n        dict_data=xmltodict.parse(result)\\n        data=dict_data[\\'annotation\\'][\\'object\\']\\n        if len(data)==2:\\n            continue\\n        src_img=root_img+base_name+\\'.png\\'\\n        img_path,label_path=\"\",\"\"\\n        if data[\\'name\\']==\\'cat\\':\\n            note=\\'Cat\\'+\" \"+str(data[\\'bndbox\\'][\\'xmin\\'])+\" \"+str(data[\\'bndbox\\'][\\'ymin\\'])+\" \"+str(data[\\'bndbox\\'][\\'xmax\\'])+\" \"+str(data[\\'bndbox\\'][\\'ymax\\'])\\n            if train:\\n                label_path=target_root+\\'/train/Cat/Label/\\'+base_name+\\'.txt\\'\\n                img_path=target_root+\\'/train/Cat/\\'+base_name+\\'.png\\'\\n            else:\\n                label_path=target_root+\\'/val/Cat/Label/\\'+base_name+\\'.txt\\'\\n                img_path=target_root+\\'/val/Cat/\\'+base_name+\\'.png\\'\\n        else:\\n            note=\\'Dog\\'+\" \"+str(data[\\'bndbox\\'][\\'xmin\\'])+\" \"+str(data[\\'bndbox\\'][\\'ymin\\'])+\" \"+str(data[\\'bndbox\\'][\\'xmax\\'])+\" \"+str(data[\\'bndbox\\'][\\'ymax\\'])\\n            \\n            if train:\\n                label_path=target_root+\\'/train/Dog/Label/\\'+base_name+\\'.txt\\'\\n                img_path=target_root+\\'/train/Dog/\\'+base_name+\\'.png\\'\\n            else:\\n                \\n                label_path=target_root+\\'/val/Dog/Label/\\'+base_name+\\'.txt\\'\\n                img_path=target_root+\\'/val/Dog/\\'+base_name+\\'.png\\'\\n        shutil.copy2(src_img,img_path)\\n        print(label_path)\\n        with open(label_path,\\'w\\') as f:\\n            f.write(note)\\n        \\n        \\n'"
      ]
     },
     "execution_count": 2,
     "metadata": {},
     "output_type": "execute_result"
    }
   ],
   "source": [
    "\"\"\"\n",
    "def xml_handling(root='./archive', target_root='data'):\n",
    "    root='./archive'\n",
    "    target_root='data'\n",
    "    root_label=root+'/annotations'\n",
    "    root_img=root+'/images/'\n",
    "    \n",
    "    xml_files=os.listdir(root_label)    \n",
    "    i=0\n",
    "    for file in xml_files:\n",
    "        if file[0]=='.':\n",
    "            continue\n",
    "        file=root_label+\"/\"+file\n",
    "        train=False\n",
    "        if random.random()<0.8:\n",
    "            train=True\n",
    "        tree = ET.parse(file)\n",
    "        root = tree.getroot()\n",
    "        base_name=os.path.basename(file)\n",
    "        \n",
    "        base_name,ext=os.path.splitext(base_name)\n",
    "        result = ET.tostring(root,encoding='utf-8').decode('utf-8')\n",
    "        dict_data=xmltodict.parse(result)\n",
    "        data=dict_data['annotation']['object']\n",
    "        if len(data)==2:\n",
    "            continue\n",
    "        src_img=root_img+base_name+'.png'\n",
    "        img_path,label_path=\"\",\"\"\n",
    "        if data['name']=='cat':\n",
    "            note='Cat'+\" \"+str(data['bndbox']['xmin'])+\" \"+str(data['bndbox']['ymin'])+\" \"+str(data['bndbox']['xmax'])+\" \"+str(data['bndbox']['ymax'])\n",
    "            if train:\n",
    "                label_path=target_root+'/train/Cat/Label/'+base_name+'.txt'\n",
    "                img_path=target_root+'/train/Cat/'+base_name+'.png'\n",
    "            else:\n",
    "                label_path=target_root+'/val/Cat/Label/'+base_name+'.txt'\n",
    "                img_path=target_root+'/val/Cat/'+base_name+'.png'\n",
    "        else:\n",
    "            note='Dog'+\" \"+str(data['bndbox']['xmin'])+\" \"+str(data['bndbox']['ymin'])+\" \"+str(data['bndbox']['xmax'])+\" \"+str(data['bndbox']['ymax'])\n",
    "            \n",
    "            if train:\n",
    "                label_path=target_root+'/train/Dog/Label/'+base_name+'.txt'\n",
    "                img_path=target_root+'/train/Dog/'+base_name+'.png'\n",
    "            else:\n",
    "                \n",
    "                label_path=target_root+'/val/Dog/Label/'+base_name+'.txt'\n",
    "                img_path=target_root+'/val/Dog/'+base_name+'.png'\n",
    "        shutil.copy2(src_img,img_path)\n",
    "        print(label_path)\n",
    "        with open(label_path,'w') as f:\n",
    "            f.write(note)\n",
    "        \n",
    "        \n",
    "\"\"\""
   ]
  },
  {
   "cell_type": "code",
   "execution_count": 1,
   "id": "3746bb02-7307-49c5-a408-879d74849f75",
   "metadata": {},
   "outputs": [],
   "source": [
    "\"\"\"class AnimalData:\n",
    "    def __init__(self,root,transforms):\n",
    "        self.root=root\n",
    "        self.transforms=transforms\n",
    "        classes=sort(list(os.listdir(root)))\n",
    "        images=[]\n",
    "        for c in classes:\n",
    "            if c=='Label':\n",
    "                continue\n",
    "            for img in sort(list(os.listdir(c))):\n",
    "                images.append(root+c+img)\n",
    "        self.images=images\n",
    "        label_dir=[c+'/Label' for c in classes]\n",
    "        labels=[]\n",
    "        for c in classes:\n",
    "            for label in sort(list(os.listdir(label_dir))):\n",
    "                labels.append(root+label_dir+label)\n",
    "        self.labels=labels\n",
    "    def __getitem__(self,idx):\n",
    "        img =Image.open(self.img[idx]).convert(\"RGB\")\n",
    "        with open(self.labels,'r') as f:\n",
    "            content= f.read()\n",
    "            lines=contents.split(' ')\n",
    "            for i in range(1, len(lines)):\n",
    "                lines[i]=int(lines[i])\n",
    "        \n",
    "        \"\"\"\n",
    "# This Python 3 environment comes with many helpful analytics libraries installed\n",
    "# It is defined by the kaggle/python Docker image: https://github.com/kaggle/docker-python\n",
    "# For example, here's several helpful packages to load\n",
    "\n",
    "import numpy as np # linear algebra\n",
    "import pandas as pd # data processing, CSV file I/O (e.g. pd.read_csv)\n",
    "#from bs4 import BeautifulSoup\n",
    "import torchvision\n",
    "from torchvision import transforms, datasets, models\n",
    "import torch\n",
    "from torchvision.models.detection.faster_rcnn import FastRCNNPredictor\n",
    "from PIL import Image\n",
    "import matplotlib.pyplot as plt\n",
    "from torchvision.models.detection.mask_rcnn import MaskRCNNPredictor\n",
    "import matplotlib.patches as patches\n",
    "from torchvision.models.detection.mask_rcnn import MaskRCNNPredictor\n",
    "\n",
    "# Input data files are available in the read-only \"../input/\" directory\n",
    "# For example, running this (by clicking run or pressing Shift+Enter) will list all files under the input directory\n",
    "import random\n",
    "import os\n",
    "\n",
    "# You can write up to 5GB to the current directory (/kaggle/working/) that gets preserved as output when you create a version using \"Save & Run All\" \n",
    "# You can also write temporary files to /kaggle/temp/, but they won't be saved outside of the current session"
   ]
  },
  {
   "cell_type": "code",
   "execution_count": 2,
   "id": "217cf022-932d-4b3d-955c-f29172ec9853",
   "metadata": {},
   "outputs": [],
   "source": [
    "train_labels0=[]\n",
    "test_labels0=[]\n",
    "train_imgs0=[]\n",
    "test_imgs0=[]\n",
    "classes=['Bear', 'Bull', 'Cat', 'Cattle',\n",
    "           'Cheetah', 'Chicken', 'Crocodile',\n",
    "           'Deer', 'Dog', 'Fox', 'Goat', 'Hippopotamus', \n",
    "           'Horse', 'Jaguar', 'Leopard', 'Lion', 'Lynx',\n",
    "           'Monkey', 'Mule', 'Ostrich', 'Owl', \n",
    "           'Pig', 'Raccoon', 'Raven', 'Rhinoceros', \n",
    "           'Sheep', 'Snake', 'Tiger', 'Turkey', 'Turtle', 'Zebra']\n",
    "\"\"\"classes=['Cat','Dog']\"\"\"\n",
    "encode={}\n",
    "for i in range(len(classes)):\n",
    "    encode[classes[i]]=i+1\n",
    "\n",
    "def checkclass(dirname):\n",
    "    \n",
    "    for animal in classes:\n",
    "        if dirname.endswith(animal):\n",
    "            return True\n",
    "    return False\n",
    "\n",
    "for dirname, dirs, filenames in os.walk('./data/'):\n",
    "    \n",
    "    if 'train' in dirname and checkclass(dirname):\n",
    "        labels= dirname +'/Label/'\n",
    "        \n",
    "        for label in sorted(os.listdir(labels)):\n",
    "            \n",
    "            \n",
    "            if label.endswith('txt'):\n",
    "                train_labels0.append(labels+label)\n",
    "        \n",
    "        for image in sorted(filenames):\n",
    "            \n",
    "            \n",
    "            if image.endswith('png') or image.endswith('jpg'):\n",
    "                train_imgs0.append(dirname+'/'+image)\n",
    "    if 'val' in dirname and checkclass(dirname):\n",
    "        labels= dirname +'/Label/'\n",
    "        for label in sorted(os.listdir(labels)):\n",
    "            if label.endswith('.txt'):\n",
    "                test_labels0.append(labels+label)\n",
    "        for image in sorted(filenames):\n",
    "            if image.endswith('png')or image.endswith('jpg'):\n",
    "                test_imgs0.append(dirname+'/'+image)\n"
   ]
  },
  {
   "cell_type": "code",
   "execution_count": 3,
   "id": "9806e096-f681-445d-ba87-9197c87ac4de",
   "metadata": {},
   "outputs": [
    {
     "name": "stdout",
     "output_type": "stream",
     "text": [
      "14620\n",
      "14620\n",
      "6864\n",
      "6864\n",
      "1045\n",
      "1045\n",
      "344\n",
      "344\n"
     ]
    }
   ],
   "source": [
    "print(len(train_imgs0))\n",
    "print(len(train_labels0))\n",
    "print(len(test_imgs0))\n",
    "print(len(test_labels0))\n",
    "train_labels=[]\n",
    "test_labels=[]\n",
    "train_imgs=[]\n",
    "test_imgs=[]\n",
    "for i in range(len(train_labels0)):\n",
    "    if i%14==0:\n",
    "        \n",
    "        train_labels.append(train_labels0[i])\n",
    "        train_imgs.append(train_imgs0[i])\n",
    "for i in range(len(test_labels0)):\n",
    "    if i%20==0:\n",
    "        test_labels.append(test_labels0[i])\n",
    "        test_imgs.append(test_imgs0[i])\n",
    "print(len(train_imgs))\n",
    "print(len(train_labels))\n",
    "print(len(test_imgs))\n",
    "print(len(test_labels))\n"
   ]
  },
  {
   "cell_type": "code",
   "execution_count": 4,
   "id": "14d3c431-843f-4748-9e75-b0aa2001eeff",
   "metadata": {},
   "outputs": [],
   "source": [
    "class AnimalDataset(object):\n",
    "    def __init__(self, transforms,img_dir,label_dir):\n",
    "        self.transforms = transforms\n",
    "        # load all image files, sorting them to\n",
    "        # ensure that they are aligned\n",
    "        self.imgs = img_dir\n",
    "        self.label=label_dir\n",
    "#         self.labels = list(sorted(os.listdir(\"/kaggle/input/face-mask-detection/annotations/\")))\n",
    "\n",
    "    def __getitem__(self, idx):\n",
    "        # load images ad masks\n",
    "        file_image = self.imgs[idx]\n",
    "        file_label = self.label[idx]\n",
    "        img = Image.open(file_image).convert(\"RGB\")\n",
    "        target={}\n",
    "        target['image_id']=torch.tensor([idx])\n",
    "        labels=[]\n",
    "        boxes=[]\n",
    "        #Generate Label\n",
    "        with open(file_label,'r')as f:\n",
    "            lines=f.readlines()\n",
    "            for line in lines:\n",
    "                line_list=line.strip().split(' ')\n",
    "                labels.append(encode[line_list[0]])\n",
    "                boxes.append([float(i) for i in line_list[1:]])\n",
    "                \n",
    "            \n",
    "        boxes = torch.as_tensor(boxes, dtype=torch.float32)\n",
    "        # Labels (In my case, I only one class: target class or background)\n",
    "        labels = torch.as_tensor(labels, dtype=torch.int64)        \n",
    "        \n",
    "        \n",
    "        area = (boxes[:, 3] - boxes[:, 1]) * (boxes[:, 2] - boxes[:, 0])\n",
    "        \n",
    "        \n",
    "        iscrowd = torch.zeros((len(classes),), dtype=torch.int64)\n",
    "\n",
    "        target['boxes']=boxes\n",
    "        target['labels']=labels\n",
    "       \n",
    "        target[\"area\"] = area\n",
    "        target[\"iscrowd\"] = iscrowd\n",
    "        if self.transforms is not None:\n",
    "            img, target = self.transforms(img, target)\n",
    "\n",
    "        return img, target\n",
    "\n",
    "    def __len__(self):\n",
    "        return len(self.imgs)"
   ]
  },
  {
   "cell_type": "code",
   "execution_count": 5,
   "id": "e3fe233c-0c69-4006-9c81-73c68b4aefe0",
   "metadata": {},
   "outputs": [],
   "source": [
    "\n",
    "class AugmentImageBboxes(object):\n",
    "    def __init__(self):\n",
    "        pass\n",
    "    \n",
    "    def __call__(self, image, bboxes):\n",
    "        # decide if flip or rotate\n",
    "        if random.random() < 0.5:\n",
    "            # Flip\n",
    "            image = transforms.functional.hflip(image)\n",
    "            h,w=image.shape[-2:]\n",
    "            bboxes[:, [0, 2]] = h - bboxes[:, [2, 0]] \n",
    "        else:\n",
    "            # Rotate by 90 degrees\n",
    "            image = transforms.functional.rotate(image, 90)\n",
    "            h, w = image.shape[-2:]\n",
    "            bboxes[:, [0, 1, 2, 3]] = [w - bboxes[:, 3], bboxes[:, 0], h - bboxes[:, 1], w - bboxes[:, 0]]\n",
    "        return image, bboxes"
   ]
  },
  {
   "cell_type": "code",
   "execution_count": 6,
   "id": "f33b8b64-c012-4106-9715-36cdf9cd8297",
   "metadata": {},
   "outputs": [],
   "source": [
    "from engine import train_one_epoch, evaluate\n",
    "import utils\n",
    "import transforms as T\n",
    "\n",
    "\n",
    "def get_transform(train):\n",
    "    transforms = []\n",
    "    # converts the image, a PIL image, into a PyTorch Tensor\n",
    "    transforms.append(T.ToTensor())\n",
    "    if train:\n",
    "        # during training, randomly flip the training images\n",
    "        # and ground-truth for data augmentation\n",
    "        transforms.append(T.RandomHorizontalFlip(0.5))\n",
    "    return T.Compose(transforms)"
   ]
  },
  {
   "cell_type": "markdown",
   "id": "1e258f5a",
   "metadata": {},
   "source": [
    "DEFAULT MODEL"
   ]
  },
  {
   "cell_type": "code",
   "execution_count": 7,
   "id": "4a635332",
   "metadata": {},
   "outputs": [],
   "source": [
    "def get_model_instance_segmentation(num_classes):\n",
    "    \n",
    "    # load a model pre-trained on COCO\n",
    "    model = torchvision.models.detection.fasterrcnn_resnet50_fpn(weights=\"DEFAULT\")\n",
    "\n",
    "    # replace the classifier with a new one, that has\n",
    "    # num_classes which is user-defined\n",
    "    num_classes = len(classes)+1  # 1 class (person) + background\n",
    "    # get number of input features for the classifier\n",
    "    in_features = model.roi_heads.box_predictor.cls_score.in_features\n",
    "    # replace the pre-trained head with a new one\n",
    "    model.roi_heads.box_predictor = FastRCNNPredictor(in_features, num_classes)\n",
    "    return model\n",
    "\n",
    "    "
   ]
  },
  {
   "cell_type": "code",
   "execution_count": 8,
   "id": "d1d2250e-98d2-409a-a81a-87fd431349ed",
   "metadata": {},
   "outputs": [],
   "source": [
    "\n",
    "from engine import train_one_epoch , evaluate\n",
    "import utils\n",
    "\n",
    "\n",
    "def main():\n",
    "    # train on the GPU or on the CPU, if a GPU is not available\n",
    "    device = torch.device('cuda') if torch.cuda.is_available() else torch.device('cpu')\n",
    "\n",
    "    # our dataset has two classes only - background and person\n",
    "    num_classes = len(classes)+1\n",
    "    # use our dataset and defined transformations\n",
    "    train_data=AnimalDataset(get_transform(train=True),train_imgs,train_labels)\n",
    "    test_data=AnimalDataset(get_transform(train=False),test_imgs,test_labels)\n",
    "\n",
    "    # define training and validation data loaders\n",
    "    train_loader = torch.utils.data.DataLoader(\n",
    "        train_data, batch_size=4, shuffle=True, num_workers=4,\n",
    "        collate_fn=utils.collate_fn)\n",
    "\n",
    "    test_loader = torch.utils.data.DataLoader(\n",
    "        test_data, batch_size=1, shuffle=False, num_workers=4,\n",
    "        collate_fn=utils.collate_fn)\n",
    "\n",
    "    # get the model using our helper function\n",
    "    model = get_model_instance_segmentation(num_classes)\n",
    "\n",
    "    # move model to the right device\n",
    "    model.to(device)\n",
    "    \n",
    "    model.load_state_dict(torch.load('./model/fasterRCNN/fasterRCNN0.pt'))\n",
    "    # construct an optimizer\n",
    "    params = [p for p in model.parameters() if p.requires_grad]\n",
    "    optimizer = torch.optim.SGD(params, lr=0.05,\n",
    "                                momentum=0.9, weight_decay=0.005)\n",
    "    # and a learning rate scheduler\n",
    "    lr_scheduler = torch.optim.lr_scheduler.StepLR(optimizer,\n",
    "                                                   step_size=3,\n",
    "                                                   gamma=0.1)\n",
    "\n",
    "    # let's train it for 10 epochs\n",
    "    num_epochs = 10\n",
    "\n",
    "    for epoch in range(num_epochs):\n",
    "        # train for one epoch, printing every 10 iterations\n",
    "        train_one_epoch(model, optimizer, train_loader, device, epoch, print_freq=10)\n",
    "        # update the learning rate\n",
    "        lr_scheduler.step()\n",
    "        torch.save(model.state_dict(), \"./model/fasterRCNN/fasterRCNN\"+str(epoch+10)+\".pt\")\n",
    "        # evaluate on the test dataset\n",
    "        evaluate(model, train_loader, device=device)\n",
    "\n",
    "    print(\"That's it!\")"
   ]
  },
  {
   "cell_type": "code",
   "execution_count": 9,
   "id": "4978b8a3-63c3-49c5-aa83-e3e6fae137d4",
   "metadata": {},
   "outputs": [
    {
     "name": "stderr",
     "output_type": "stream",
     "text": [
      "1it [00:02,  2.23s/it]"
     ]
    },
    {
     "name": "stdout",
     "output_type": "stream",
     "text": [
      "Epoch: [0]  [  0/262]  eta: 0:09:44  lr: 0.000024  loss: 0.1786 (0.1786)  loss_classifier: 0.1066 (0.1066)  loss_box_reg: 0.0582 (0.0582)  loss_objectness: 0.0008 (0.0008)  loss_rpn_box_reg: 0.0130 (0.0130)  time: 2.2298  data: 0.3021  max mem: 3869\n"
     ]
    },
    {
     "name": "stderr",
     "output_type": "stream",
     "text": [
      "11it [00:10,  1.34it/s]"
     ]
    },
    {
     "name": "stdout",
     "output_type": "stream",
     "text": [
      "Epoch: [0]  [ 10/262]  eta: 0:03:52  lr: 0.000216  loss: 0.1373 (0.1561)  loss_classifier: 0.0638 (0.0762)  loss_box_reg: 0.0507 (0.0585)  loss_objectness: 0.0011 (0.0017)  loss_rpn_box_reg: 0.0141 (0.0197)  time: 0.9238  data: 0.0345  max mem: 6905\n"
     ]
    },
    {
     "name": "stderr",
     "output_type": "stream",
     "text": [
      "21it [00:18,  1.13it/s]"
     ]
    },
    {
     "name": "stdout",
     "output_type": "stream",
     "text": [
      "Epoch: [0]  [ 20/262]  eta: 0:03:38  lr: 0.000407  loss: 0.1323 (0.1520)  loss_classifier: 0.0533 (0.0695)  loss_box_reg: 0.0476 (0.0592)  loss_objectness: 0.0012 (0.0020)  loss_rpn_box_reg: 0.0166 (0.0213)  time: 0.8345  data: 0.0063  max mem: 7574\n"
     ]
    },
    {
     "name": "stderr",
     "output_type": "stream",
     "text": [
      "31it [00:26,  1.18it/s]"
     ]
    },
    {
     "name": "stdout",
     "output_type": "stream",
     "text": [
      "Epoch: [0]  [ 30/262]  eta: 0:03:19  lr: 0.000598  loss: 0.1355 (0.1499)  loss_classifier: 0.0653 (0.0711)  loss_box_reg: 0.0476 (0.0566)  loss_objectness: 0.0013 (0.0020)  loss_rpn_box_reg: 0.0159 (0.0202)  time: 0.8222  data: 0.0049  max mem: 7574\n"
     ]
    },
    {
     "name": "stderr",
     "output_type": "stream",
     "text": [
      "41it [00:34,  1.35it/s]"
     ]
    },
    {
     "name": "stdout",
     "output_type": "stream",
     "text": [
      "Epoch: [0]  [ 40/262]  eta: 0:03:04  lr: 0.000790  loss: 0.1289 (0.1449)  loss_classifier: 0.0658 (0.0685)  loss_box_reg: 0.0411 (0.0538)  loss_objectness: 0.0014 (0.0019)  loss_rpn_box_reg: 0.0190 (0.0207)  time: 0.7592  data: 0.0049  max mem: 7574\n"
     ]
    },
    {
     "name": "stderr",
     "output_type": "stream",
     "text": [
      "51it [00:41,  1.36it/s]"
     ]
    },
    {
     "name": "stdout",
     "output_type": "stream",
     "text": [
      "Epoch: [0]  [ 50/262]  eta: 0:02:52  lr: 0.000981  loss: 0.1106 (0.1382)  loss_classifier: 0.0371 (0.0642)  loss_box_reg: 0.0393 (0.0522)  loss_objectness: 0.0015 (0.0018)  loss_rpn_box_reg: 0.0190 (0.0200)  time: 0.7427  data: 0.0049  max mem: 7574\n"
     ]
    },
    {
     "name": "stderr",
     "output_type": "stream",
     "text": [
      "61it [00:49,  1.30it/s]"
     ]
    },
    {
     "name": "stdout",
     "output_type": "stream",
     "text": [
      "Epoch: [0]  [ 60/262]  eta: 0:02:44  lr: 0.001172  loss: 0.1256 (0.1376)  loss_classifier: 0.0568 (0.0644)  loss_box_reg: 0.0457 (0.0517)  loss_objectness: 0.0021 (0.0020)  loss_rpn_box_reg: 0.0139 (0.0195)  time: 0.7787  data: 0.0049  max mem: 7574\n"
     ]
    },
    {
     "name": "stderr",
     "output_type": "stream",
     "text": [
      "71it [00:57,  1.20it/s]"
     ]
    },
    {
     "name": "stdout",
     "output_type": "stream",
     "text": [
      "Epoch: [0]  [ 70/262]  eta: 0:02:35  lr: 0.001364  loss: 0.1078 (0.1320)  loss_classifier: 0.0540 (0.0617)  loss_box_reg: 0.0368 (0.0493)  loss_objectness: 0.0009 (0.0019)  loss_rpn_box_reg: 0.0114 (0.0190)  time: 0.8027  data: 0.0050  max mem: 7574\n"
     ]
    },
    {
     "name": "stderr",
     "output_type": "stream",
     "text": [
      "81it [01:05,  1.18it/s]"
     ]
    },
    {
     "name": "stdout",
     "output_type": "stream",
     "text": [
      "Epoch: [0]  [ 80/262]  eta: 0:02:26  lr: 0.001555  loss: 0.0960 (0.1330)  loss_classifier: 0.0489 (0.0622)  loss_box_reg: 0.0368 (0.0499)  loss_objectness: 0.0009 (0.0020)  loss_rpn_box_reg: 0.0112 (0.0188)  time: 0.7865  data: 0.0050  max mem: 7574\n"
     ]
    },
    {
     "name": "stderr",
     "output_type": "stream",
     "text": [
      "91it [01:13,  1.17it/s]"
     ]
    },
    {
     "name": "stdout",
     "output_type": "stream",
     "text": [
      "Epoch: [0]  [ 90/262]  eta: 0:02:19  lr: 0.001747  loss: 0.1222 (0.1347)  loss_classifier: 0.0589 (0.0629)  loss_box_reg: 0.0508 (0.0507)  loss_objectness: 0.0014 (0.0020)  loss_rpn_box_reg: 0.0160 (0.0190)  time: 0.8080  data: 0.0048  max mem: 7574\n"
     ]
    },
    {
     "name": "stderr",
     "output_type": "stream",
     "text": [
      "101it [01:22,  1.26it/s]"
     ]
    },
    {
     "name": "stdout",
     "output_type": "stream",
     "text": [
      "Epoch: [0]  [100/262]  eta: 0:02:11  lr: 0.001938  loss: 0.1222 (0.1338)  loss_classifier: 0.0589 (0.0630)  loss_box_reg: 0.0474 (0.0500)  loss_objectness: 0.0010 (0.0020)  loss_rpn_box_reg: 0.0197 (0.0188)  time: 0.8357  data: 0.0047  max mem: 7574\n"
     ]
    },
    {
     "name": "stderr",
     "output_type": "stream",
     "text": [
      "111it [01:29,  1.35it/s]"
     ]
    },
    {
     "name": "stdout",
     "output_type": "stream",
     "text": [
      "Epoch: [0]  [110/262]  eta: 0:02:03  lr: 0.002129  loss: 0.1125 (0.1304)  loss_classifier: 0.0479 (0.0613)  loss_box_reg: 0.0348 (0.0484)  loss_objectness: 0.0008 (0.0019)  loss_rpn_box_reg: 0.0171 (0.0189)  time: 0.8074  data: 0.0046  max mem: 7574\n"
     ]
    },
    {
     "name": "stderr",
     "output_type": "stream",
     "text": [
      "121it [01:37,  1.33it/s]"
     ]
    },
    {
     "name": "stdout",
     "output_type": "stream",
     "text": [
      "Epoch: [0]  [120/262]  eta: 0:01:54  lr: 0.002321  loss: 0.1136 (0.1316)  loss_classifier: 0.0417 (0.0613)  loss_box_reg: 0.0357 (0.0488)  loss_objectness: 0.0011 (0.0020)  loss_rpn_box_reg: 0.0196 (0.0196)  time: 0.7925  data: 0.0046  max mem: 7574\n"
     ]
    },
    {
     "name": "stderr",
     "output_type": "stream",
     "text": [
      "131it [01:45,  1.40it/s]"
     ]
    },
    {
     "name": "stdout",
     "output_type": "stream",
     "text": [
      "Epoch: [0]  [130/262]  eta: 0:01:45  lr: 0.002512  loss: 0.1376 (0.1316)  loss_classifier: 0.0628 (0.0616)  loss_box_reg: 0.0521 (0.0489)  loss_objectness: 0.0014 (0.0019)  loss_rpn_box_reg: 0.0171 (0.0192)  time: 0.7655  data: 0.0046  max mem: 7574\n"
     ]
    },
    {
     "name": "stderr",
     "output_type": "stream",
     "text": [
      "141it [01:52,  1.33it/s]"
     ]
    },
    {
     "name": "stdout",
     "output_type": "stream",
     "text": [
      "Epoch: [0]  [140/262]  eta: 0:01:37  lr: 0.002703  loss: 0.1302 (0.1321)  loss_classifier: 0.0551 (0.0620)  loss_box_reg: 0.0485 (0.0490)  loss_objectness: 0.0015 (0.0020)  loss_rpn_box_reg: 0.0149 (0.0192)  time: 0.7466  data: 0.0046  max mem: 7574\n"
     ]
    },
    {
     "name": "stderr",
     "output_type": "stream",
     "text": [
      "151it [02:01,  1.27it/s]"
     ]
    },
    {
     "name": "stdout",
     "output_type": "stream",
     "text": [
      "Epoch: [0]  [150/262]  eta: 0:01:29  lr: 0.002895  loss: 0.1079 (0.1309)  loss_classifier: 0.0478 (0.0613)  loss_box_reg: 0.0405 (0.0485)  loss_objectness: 0.0016 (0.0020)  loss_rpn_box_reg: 0.0172 (0.0191)  time: 0.7961  data: 0.0046  max mem: 7574\n"
     ]
    },
    {
     "name": "stderr",
     "output_type": "stream",
     "text": [
      "161it [02:08,  1.22it/s]"
     ]
    },
    {
     "name": "stdout",
     "output_type": "stream",
     "text": [
      "Epoch: [0]  [160/262]  eta: 0:01:21  lr: 0.003086  loss: 0.1104 (0.1310)  loss_classifier: 0.0510 (0.0614)  loss_box_reg: 0.0432 (0.0487)  loss_objectness: 0.0011 (0.0020)  loss_rpn_box_reg: 0.0154 (0.0189)  time: 0.7992  data: 0.0048  max mem: 7574\n"
     ]
    },
    {
     "name": "stderr",
     "output_type": "stream",
     "text": [
      "171it [02:17,  1.18it/s]"
     ]
    },
    {
     "name": "stdout",
     "output_type": "stream",
     "text": [
      "Epoch: [0]  [170/262]  eta: 0:01:13  lr: 0.003278  loss: 0.1092 (0.1300)  loss_classifier: 0.0455 (0.0606)  loss_box_reg: 0.0408 (0.0482)  loss_objectness: 0.0018 (0.0021)  loss_rpn_box_reg: 0.0154 (0.0191)  time: 0.8160  data: 0.0051  max mem: 7574\n"
     ]
    },
    {
     "name": "stderr",
     "output_type": "stream",
     "text": [
      "181it [02:25,  1.40it/s]"
     ]
    },
    {
     "name": "stdout",
     "output_type": "stream",
     "text": [
      "Epoch: [0]  [180/262]  eta: 0:01:05  lr: 0.003469  loss: 0.1028 (0.1299)  loss_classifier: 0.0399 (0.0604)  loss_box_reg: 0.0410 (0.0482)  loss_objectness: 0.0020 (0.0021)  loss_rpn_box_reg: 0.0176 (0.0191)  time: 0.8095  data: 0.0050  max mem: 7574\n"
     ]
    },
    {
     "name": "stderr",
     "output_type": "stream",
     "text": [
      "191it [02:33,  1.24it/s]"
     ]
    },
    {
     "name": "stdout",
     "output_type": "stream",
     "text": [
      "Epoch: [0]  [190/262]  eta: 0:00:57  lr: 0.003660  loss: 0.1204 (0.1298)  loss_classifier: 0.0510 (0.0605)  loss_box_reg: 0.0469 (0.0484)  loss_objectness: 0.0013 (0.0021)  loss_rpn_box_reg: 0.0133 (0.0188)  time: 0.7916  data: 0.0048  max mem: 7574\n"
     ]
    },
    {
     "name": "stderr",
     "output_type": "stream",
     "text": [
      "201it [02:41,  1.20it/s]"
     ]
    },
    {
     "name": "stdout",
     "output_type": "stream",
     "text": [
      "Epoch: [0]  [200/262]  eta: 0:00:49  lr: 0.003852  loss: 0.1204 (0.1293)  loss_classifier: 0.0538 (0.0602)  loss_box_reg: 0.0409 (0.0482)  loss_objectness: 0.0014 (0.0021)  loss_rpn_box_reg: 0.0176 (0.0189)  time: 0.8005  data: 0.0048  max mem: 7574\n"
     ]
    },
    {
     "name": "stderr",
     "output_type": "stream",
     "text": [
      "211it [02:49,  1.23it/s]"
     ]
    },
    {
     "name": "stdout",
     "output_type": "stream",
     "text": [
      "Epoch: [0]  [210/262]  eta: 0:00:41  lr: 0.004043  loss: 0.1118 (0.1294)  loss_classifier: 0.0538 (0.0602)  loss_box_reg: 0.0377 (0.0481)  loss_objectness: 0.0009 (0.0022)  loss_rpn_box_reg: 0.0191 (0.0189)  time: 0.8132  data: 0.0049  max mem: 7576\n"
     ]
    },
    {
     "name": "stderr",
     "output_type": "stream",
     "text": [
      "221it [02:56,  1.37it/s]"
     ]
    },
    {
     "name": "stdout",
     "output_type": "stream",
     "text": [
      "Epoch: [0]  [220/262]  eta: 0:00:33  lr: 0.004234  loss: 0.1116 (0.1291)  loss_classifier: 0.0472 (0.0599)  loss_box_reg: 0.0421 (0.0483)  loss_objectness: 0.0013 (0.0022)  loss_rpn_box_reg: 0.0161 (0.0187)  time: 0.7775  data: 0.0047  max mem: 7576\n"
     ]
    },
    {
     "name": "stderr",
     "output_type": "stream",
     "text": [
      "231it [03:04,  1.20it/s]"
     ]
    },
    {
     "name": "stdout",
     "output_type": "stream",
     "text": [
      "Epoch: [0]  [230/262]  eta: 0:00:25  lr: 0.004426  loss: 0.1058 (0.1284)  loss_classifier: 0.0411 (0.0597)  loss_box_reg: 0.0391 (0.0478)  loss_objectness: 0.0013 (0.0022)  loss_rpn_box_reg: 0.0151 (0.0187)  time: 0.7678  data: 0.0044  max mem: 7576\n"
     ]
    },
    {
     "name": "stderr",
     "output_type": "stream",
     "text": [
      "241it [03:12,  1.39it/s]"
     ]
    },
    {
     "name": "stdout",
     "output_type": "stream",
     "text": [
      "Epoch: [0]  [240/262]  eta: 0:00:17  lr: 0.004617  loss: 0.1082 (0.1284)  loss_classifier: 0.0484 (0.0598)  loss_box_reg: 0.0380 (0.0476)  loss_objectness: 0.0017 (0.0023)  loss_rpn_box_reg: 0.0157 (0.0188)  time: 0.7882  data: 0.0044  max mem: 7576\n"
     ]
    },
    {
     "name": "stderr",
     "output_type": "stream",
     "text": [
      "251it [03:19,  1.36it/s]"
     ]
    },
    {
     "name": "stdout",
     "output_type": "stream",
     "text": [
      "Epoch: [0]  [250/262]  eta: 0:00:09  lr: 0.004809  loss: 0.1328 (0.1291)  loss_classifier: 0.0613 (0.0605)  loss_box_reg: 0.0403 (0.0476)  loss_objectness: 0.0021 (0.0022)  loss_rpn_box_reg: 0.0141 (0.0187)  time: 0.7542  data: 0.0045  max mem: 7576\n"
     ]
    },
    {
     "name": "stderr",
     "output_type": "stream",
     "text": [
      "262it [03:28,  1.53it/s]"
     ]
    },
    {
     "name": "stdout",
     "output_type": "stream",
     "text": [
      "Epoch: [0]  [260/262]  eta: 0:00:01  lr: 0.005000  loss: 0.1079 (0.1286)  loss_classifier: 0.0594 (0.0602)  loss_box_reg: 0.0399 (0.0475)  loss_objectness: 0.0016 (0.0023)  loss_rpn_box_reg: 0.0146 (0.0187)  time: 0.7826  data: 0.0046  max mem: 7576\n",
      "Epoch: [0]  [261/262]  eta: 0:00:00  lr: 0.005000  loss: 0.1079 (0.1286)  loss_classifier: 0.0594 (0.0602)  loss_box_reg: 0.0399 (0.0474)  loss_objectness: 0.0011 (0.0023)  loss_rpn_box_reg: 0.0134 (0.0187)  time: 0.7446  data: 0.0044  max mem: 7576\n"
     ]
    },
    {
     "name": "stderr",
     "output_type": "stream",
     "text": [
      "262it [03:28,  1.26it/s]\n"
     ]
    },
    {
     "name": "stdout",
     "output_type": "stream",
     "text": [
      "Epoch: [0] Total time: 0:03:28 (0.7951 s / it)\n",
      "creating index...\n",
      "index created!\n",
      "Test:  [  0/262]  eta: 0:03:16  model_time: 0.4316 (0.4316)  evaluator_time: 0.0045 (0.0045)  time: 0.7490  data: 0.2824  max mem: 7576\n",
      "Test:  [100/262]  eta: 0:01:00  model_time: 0.3212 (0.3478)  evaluator_time: 0.0029 (0.0031)  time: 0.3638  data: 0.0079  max mem: 7576\n",
      "Test:  [200/262]  eta: 0:00:22  model_time: 0.3231 (0.3471)  evaluator_time: 0.0030 (0.0030)  time: 0.3631  data: 0.0079  max mem: 7576\n",
      "Test:  [261/262]  eta: 0:00:00  model_time: 0.3036 (0.3484)  evaluator_time: 0.0030 (0.0030)  time: 0.3446  data: 0.0077  max mem: 7576\n",
      "Test: Total time: 0:01:36 (0.3696 s / it)\n",
      "Averaged stats: model_time: 0.3036 (0.3484)  evaluator_time: 0.0030 (0.0030)\n",
      "Accumulating evaluation results...\n",
      "DONE (t=0.31s).\n",
      "IoU metric: bbox\n",
      " Average Precision  (AP) @[ IoU=0.50:0.95 | area=   all | maxDets=100 ] = 0.132\n",
      " Average Precision  (AP) @[ IoU=0.50      | area=   all | maxDets=100 ] = 0.261\n",
      " Average Precision  (AP) @[ IoU=0.75      | area=   all | maxDets=100 ] = 0.128\n",
      " Average Precision  (AP) @[ IoU=0.50:0.95 | area= small | maxDets=100 ] = -1.000\n",
      " Average Precision  (AP) @[ IoU=0.50:0.95 | area=medium | maxDets=100 ] = 0.012\n",
      " Average Precision  (AP) @[ IoU=0.50:0.95 | area= large | maxDets=100 ] = 0.135\n",
      " Average Recall     (AR) @[ IoU=0.50:0.95 | area=   all | maxDets=  1 ] = 0.267\n",
      " Average Recall     (AR) @[ IoU=0.50:0.95 | area=   all | maxDets= 10 ] = 0.296\n",
      " Average Recall     (AR) @[ IoU=0.50:0.95 | area=   all | maxDets=100 ] = 0.297\n",
      " Average Recall     (AR) @[ IoU=0.50:0.95 | area= small | maxDets=100 ] = -1.000\n",
      " Average Recall     (AR) @[ IoU=0.50:0.95 | area=medium | maxDets=100 ] = 0.075\n",
      " Average Recall     (AR) @[ IoU=0.50:0.95 | area= large | maxDets=100 ] = 0.298\n"
     ]
    },
    {
     "name": "stderr",
     "output_type": "stream",
     "text": [
      "1it [00:01,  1.36s/it]"
     ]
    },
    {
     "name": "stdout",
     "output_type": "stream",
     "text": [
      "Epoch: [1]  [  0/262]  eta: 0:05:56  lr: 0.005000  loss: 0.0712 (0.0712)  loss_classifier: 0.0219 (0.0219)  loss_box_reg: 0.0237 (0.0237)  loss_objectness: 0.0002 (0.0002)  loss_rpn_box_reg: 0.0254 (0.0254)  time: 1.3615  data: 0.2918  max mem: 7576\n"
     ]
    },
    {
     "name": "stderr",
     "output_type": "stream",
     "text": [
      "11it [00:09,  1.35it/s]"
     ]
    },
    {
     "name": "stdout",
     "output_type": "stream",
     "text": [
      "Epoch: [1]  [ 10/262]  eta: 0:03:36  lr: 0.005000  loss: 0.1428 (0.1517)  loss_classifier: 0.0595 (0.0752)  loss_box_reg: 0.0505 (0.0531)  loss_objectness: 0.0014 (0.0021)  loss_rpn_box_reg: 0.0160 (0.0213)  time: 0.8597  data: 0.0309  max mem: 7576\n"
     ]
    },
    {
     "name": "stderr",
     "output_type": "stream",
     "text": [
      "21it [00:17,  1.18it/s]"
     ]
    },
    {
     "name": "stdout",
     "output_type": "stream",
     "text": [
      "Epoch: [1]  [ 20/262]  eta: 0:03:23  lr: 0.005000  loss: 0.1384 (0.1353)  loss_classifier: 0.0492 (0.0626)  loss_box_reg: 0.0437 (0.0477)  loss_objectness: 0.0016 (0.0022)  loss_rpn_box_reg: 0.0157 (0.0228)  time: 0.8148  data: 0.0049  max mem: 7576\n"
     ]
    },
    {
     "name": "stderr",
     "output_type": "stream",
     "text": [
      "31it [00:26,  1.11it/s]"
     ]
    },
    {
     "name": "stdout",
     "output_type": "stream",
     "text": [
      "Epoch: [1]  [ 30/262]  eta: 0:03:15  lr: 0.005000  loss: 0.1154 (0.1317)  loss_classifier: 0.0429 (0.0610)  loss_box_reg: 0.0370 (0.0470)  loss_objectness: 0.0016 (0.0021)  loss_rpn_box_reg: 0.0202 (0.0217)  time: 0.8337  data: 0.0050  max mem: 7576\n"
     ]
    },
    {
     "name": "stderr",
     "output_type": "stream",
     "text": [
      "41it [00:34,  1.33it/s]"
     ]
    },
    {
     "name": "stdout",
     "output_type": "stream",
     "text": [
      "Epoch: [1]  [ 40/262]  eta: 0:03:04  lr: 0.005000  loss: 0.1155 (0.1371)  loss_classifier: 0.0455 (0.0648)  loss_box_reg: 0.0420 (0.0485)  loss_objectness: 0.0011 (0.0019)  loss_rpn_box_reg: 0.0204 (0.0219)  time: 0.8181  data: 0.0051  max mem: 7576\n"
     ]
    },
    {
     "name": "stderr",
     "output_type": "stream",
     "text": [
      "51it [00:41,  1.24it/s]"
     ]
    },
    {
     "name": "stdout",
     "output_type": "stream",
     "text": [
      "Epoch: [1]  [ 50/262]  eta: 0:02:53  lr: 0.005000  loss: 0.1155 (0.1354)  loss_classifier: 0.0510 (0.0637)  loss_box_reg: 0.0369 (0.0483)  loss_objectness: 0.0011 (0.0019)  loss_rpn_box_reg: 0.0159 (0.0214)  time: 0.7764  data: 0.0050  max mem: 7576\n"
     ]
    },
    {
     "name": "stderr",
     "output_type": "stream",
     "text": [
      "61it [00:49,  1.21it/s]"
     ]
    },
    {
     "name": "stdout",
     "output_type": "stream",
     "text": [
      "Epoch: [1]  [ 60/262]  eta: 0:02:43  lr: 0.005000  loss: 0.1100 (0.1323)  loss_classifier: 0.0528 (0.0610)  loss_box_reg: 0.0398 (0.0471)  loss_objectness: 0.0011 (0.0024)  loss_rpn_box_reg: 0.0159 (0.0218)  time: 0.7716  data: 0.0046  max mem: 7576\n"
     ]
    },
    {
     "name": "stderr",
     "output_type": "stream",
     "text": [
      "71it [00:57,  1.22it/s]"
     ]
    },
    {
     "name": "stdout",
     "output_type": "stream",
     "text": [
      "Epoch: [1]  [ 70/262]  eta: 0:02:34  lr: 0.005000  loss: 0.1317 (0.1325)  loss_classifier: 0.0528 (0.0614)  loss_box_reg: 0.0468 (0.0484)  loss_objectness: 0.0006 (0.0022)  loss_rpn_box_reg: 0.0156 (0.0205)  time: 0.7829  data: 0.0045  max mem: 7576\n"
     ]
    },
    {
     "name": "stderr",
     "output_type": "stream",
     "text": [
      "81it [01:05,  1.18it/s]"
     ]
    },
    {
     "name": "stdout",
     "output_type": "stream",
     "text": [
      "Epoch: [1]  [ 80/262]  eta: 0:02:27  lr: 0.005000  loss: 0.1334 (0.1350)  loss_classifier: 0.0587 (0.0628)  loss_box_reg: 0.0558 (0.0497)  loss_objectness: 0.0013 (0.0023)  loss_rpn_box_reg: 0.0142 (0.0202)  time: 0.8118  data: 0.0045  max mem: 7576\n"
     ]
    },
    {
     "name": "stderr",
     "output_type": "stream",
     "text": [
      "91it [01:14,  1.16it/s]"
     ]
    },
    {
     "name": "stdout",
     "output_type": "stream",
     "text": [
      "Epoch: [1]  [ 90/262]  eta: 0:02:19  lr: 0.005000  loss: 0.1191 (0.1332)  loss_classifier: 0.0528 (0.0622)  loss_box_reg: 0.0410 (0.0485)  loss_objectness: 0.0020 (0.0024)  loss_rpn_box_reg: 0.0175 (0.0201)  time: 0.8368  data: 0.0045  max mem: 7576\n"
     ]
    },
    {
     "name": "stderr",
     "output_type": "stream",
     "text": [
      "101it [01:22,  1.18it/s]"
     ]
    },
    {
     "name": "stdout",
     "output_type": "stream",
     "text": [
      "Epoch: [1]  [100/262]  eta: 0:02:11  lr: 0.005000  loss: 0.1117 (0.1298)  loss_classifier: 0.0431 (0.0598)  loss_box_reg: 0.0382 (0.0480)  loss_objectness: 0.0010 (0.0023)  loss_rpn_box_reg: 0.0165 (0.0198)  time: 0.8276  data: 0.0046  max mem: 7576\n"
     ]
    },
    {
     "name": "stderr",
     "output_type": "stream",
     "text": [
      "111it [01:30,  1.18it/s]"
     ]
    },
    {
     "name": "stdout",
     "output_type": "stream",
     "text": [
      "Epoch: [1]  [110/262]  eta: 0:02:03  lr: 0.005000  loss: 0.0972 (0.1274)  loss_classifier: 0.0346 (0.0582)  loss_box_reg: 0.0372 (0.0470)  loss_objectness: 0.0012 (0.0023)  loss_rpn_box_reg: 0.0165 (0.0199)  time: 0.8096  data: 0.0045  max mem: 7576\n"
     ]
    },
    {
     "name": "stderr",
     "output_type": "stream",
     "text": [
      "121it [01:38,  1.25it/s]"
     ]
    },
    {
     "name": "stdout",
     "output_type": "stream",
     "text": [
      "Epoch: [1]  [120/262]  eta: 0:01:55  lr: 0.005000  loss: 0.1022 (0.1279)  loss_classifier: 0.0430 (0.0583)  loss_box_reg: 0.0423 (0.0476)  loss_objectness: 0.0017 (0.0023)  loss_rpn_box_reg: 0.0171 (0.0197)  time: 0.7939  data: 0.0045  max mem: 7576\n"
     ]
    },
    {
     "name": "stderr",
     "output_type": "stream",
     "text": [
      "131it [01:46,  1.29it/s]"
     ]
    },
    {
     "name": "stdout",
     "output_type": "stream",
     "text": [
      "Epoch: [1]  [130/262]  eta: 0:01:46  lr: 0.005000  loss: 0.1097 (0.1268)  loss_classifier: 0.0501 (0.0577)  loss_box_reg: 0.0434 (0.0472)  loss_objectness: 0.0011 (0.0022)  loss_rpn_box_reg: 0.0186 (0.0197)  time: 0.7927  data: 0.0046  max mem: 7576\n"
     ]
    },
    {
     "name": "stderr",
     "output_type": "stream",
     "text": [
      "141it [01:54,  1.20it/s]"
     ]
    },
    {
     "name": "stdout",
     "output_type": "stream",
     "text": [
      "Epoch: [1]  [140/262]  eta: 0:01:38  lr: 0.005000  loss: 0.1074 (0.1258)  loss_classifier: 0.0445 (0.0567)  loss_box_reg: 0.0358 (0.0465)  loss_objectness: 0.0011 (0.0022)  loss_rpn_box_reg: 0.0205 (0.0202)  time: 0.8062  data: 0.0045  max mem: 7576\n"
     ]
    },
    {
     "name": "stderr",
     "output_type": "stream",
     "text": [
      "151it [02:02,  1.25it/s]"
     ]
    },
    {
     "name": "stdout",
     "output_type": "stream",
     "text": [
      "Epoch: [1]  [150/262]  eta: 0:01:30  lr: 0.005000  loss: 0.1180 (0.1283)  loss_classifier: 0.0461 (0.0579)  loss_box_reg: 0.0390 (0.0472)  loss_objectness: 0.0016 (0.0022)  loss_rpn_box_reg: 0.0250 (0.0209)  time: 0.8283  data: 0.0047  max mem: 7576\n"
     ]
    },
    {
     "name": "stderr",
     "output_type": "stream",
     "text": [
      "161it [02:10,  1.30it/s]"
     ]
    },
    {
     "name": "stdout",
     "output_type": "stream",
     "text": [
      "Epoch: [1]  [160/262]  eta: 0:01:22  lr: 0.005000  loss: 0.1144 (0.1266)  loss_classifier: 0.0486 (0.0569)  loss_box_reg: 0.0405 (0.0467)  loss_objectness: 0.0015 (0.0022)  loss_rpn_box_reg: 0.0190 (0.0207)  time: 0.8169  data: 0.0048  max mem: 7576\n"
     ]
    },
    {
     "name": "stderr",
     "output_type": "stream",
     "text": [
      "171it [02:18,  1.23it/s]"
     ]
    },
    {
     "name": "stdout",
     "output_type": "stream",
     "text": [
      "Epoch: [1]  [170/262]  eta: 0:01:14  lr: 0.005000  loss: 0.0926 (0.1254)  loss_classifier: 0.0312 (0.0564)  loss_box_reg: 0.0378 (0.0465)  loss_objectness: 0.0009 (0.0021)  loss_rpn_box_reg: 0.0153 (0.0204)  time: 0.8059  data: 0.0047  max mem: 7576\n"
     ]
    },
    {
     "name": "stderr",
     "output_type": "stream",
     "text": [
      "181it [02:26,  1.21it/s]"
     ]
    },
    {
     "name": "stdout",
     "output_type": "stream",
     "text": [
      "Epoch: [1]  [180/262]  eta: 0:01:06  lr: 0.005000  loss: 0.1062 (0.1255)  loss_classifier: 0.0543 (0.0566)  loss_box_reg: 0.0410 (0.0464)  loss_objectness: 0.0009 (0.0021)  loss_rpn_box_reg: 0.0170 (0.0204)  time: 0.8068  data: 0.0048  max mem: 7576\n"
     ]
    },
    {
     "name": "stderr",
     "output_type": "stream",
     "text": [
      "191it [02:34,  1.21it/s]"
     ]
    },
    {
     "name": "stdout",
     "output_type": "stream",
     "text": [
      "Epoch: [1]  [190/262]  eta: 0:00:58  lr: 0.005000  loss: 0.1269 (0.1253)  loss_classifier: 0.0599 (0.0566)  loss_box_reg: 0.0419 (0.0463)  loss_objectness: 0.0012 (0.0021)  loss_rpn_box_reg: 0.0185 (0.0202)  time: 0.7998  data: 0.0048  max mem: 7576\n"
     ]
    },
    {
     "name": "stderr",
     "output_type": "stream",
     "text": [
      "201it [02:42,  1.21it/s]"
     ]
    },
    {
     "name": "stdout",
     "output_type": "stream",
     "text": [
      "Epoch: [1]  [200/262]  eta: 0:00:50  lr: 0.005000  loss: 0.1021 (0.1252)  loss_classifier: 0.0523 (0.0568)  loss_box_reg: 0.0393 (0.0463)  loss_objectness: 0.0019 (0.0021)  loss_rpn_box_reg: 0.0169 (0.0200)  time: 0.7966  data: 0.0047  max mem: 7576\n"
     ]
    },
    {
     "name": "stderr",
     "output_type": "stream",
     "text": [
      "211it [02:50,  1.17it/s]"
     ]
    },
    {
     "name": "stdout",
     "output_type": "stream",
     "text": [
      "Epoch: [1]  [210/262]  eta: 0:00:42  lr: 0.005000  loss: 0.1174 (0.1257)  loss_classifier: 0.0523 (0.0571)  loss_box_reg: 0.0470 (0.0465)  loss_objectness: 0.0015 (0.0021)  loss_rpn_box_reg: 0.0129 (0.0199)  time: 0.8002  data: 0.0047  max mem: 7576\n"
     ]
    },
    {
     "name": "stderr",
     "output_type": "stream",
     "text": [
      "221it [02:58,  1.29it/s]"
     ]
    },
    {
     "name": "stdout",
     "output_type": "stream",
     "text": [
      "Epoch: [1]  [220/262]  eta: 0:00:33  lr: 0.005000  loss: 0.1174 (0.1251)  loss_classifier: 0.0437 (0.0566)  loss_box_reg: 0.0467 (0.0467)  loss_objectness: 0.0008 (0.0021)  loss_rpn_box_reg: 0.0113 (0.0197)  time: 0.7913  data: 0.0046  max mem: 7576\n"
     ]
    },
    {
     "name": "stderr",
     "output_type": "stream",
     "text": [
      "231it [03:06,  1.31it/s]"
     ]
    },
    {
     "name": "stdout",
     "output_type": "stream",
     "text": [
      "Epoch: [1]  [230/262]  eta: 0:00:25  lr: 0.005000  loss: 0.0989 (0.1243)  loss_classifier: 0.0415 (0.0563)  loss_box_reg: 0.0430 (0.0464)  loss_objectness: 0.0016 (0.0021)  loss_rpn_box_reg: 0.0131 (0.0195)  time: 0.7647  data: 0.0046  max mem: 7576\n"
     ]
    },
    {
     "name": "stderr",
     "output_type": "stream",
     "text": [
      "241it [03:13,  1.27it/s]"
     ]
    },
    {
     "name": "stdout",
     "output_type": "stream",
     "text": [
      "Epoch: [1]  [240/262]  eta: 0:00:17  lr: 0.005000  loss: 0.1123 (0.1248)  loss_classifier: 0.0584 (0.0568)  loss_box_reg: 0.0384 (0.0464)  loss_objectness: 0.0012 (0.0021)  loss_rpn_box_reg: 0.0158 (0.0195)  time: 0.7706  data: 0.0045  max mem: 7576\n"
     ]
    },
    {
     "name": "stderr",
     "output_type": "stream",
     "text": [
      "251it [03:22,  1.10it/s]"
     ]
    },
    {
     "name": "stdout",
     "output_type": "stream",
     "text": [
      "Epoch: [1]  [250/262]  eta: 0:00:09  lr: 0.005000  loss: 0.1356 (0.1258)  loss_classifier: 0.0584 (0.0576)  loss_box_reg: 0.0393 (0.0465)  loss_objectness: 0.0011 (0.0021)  loss_rpn_box_reg: 0.0158 (0.0196)  time: 0.8185  data: 0.0045  max mem: 7576\n"
     ]
    },
    {
     "name": "stderr",
     "output_type": "stream",
     "text": [
      "262it [03:29,  1.85it/s]"
     ]
    },
    {
     "name": "stdout",
     "output_type": "stream",
     "text": [
      "Epoch: [1]  [260/262]  eta: 0:00:01  lr: 0.005000  loss: 0.1106 (0.1254)  loss_classifier: 0.0492 (0.0574)  loss_box_reg: 0.0407 (0.0465)  loss_objectness: 0.0010 (0.0021)  loss_rpn_box_reg: 0.0135 (0.0194)  time: 0.7937  data: 0.0045  max mem: 7576\n",
      "Epoch: [1]  [261/262]  eta: 0:00:00  lr: 0.005000  loss: 0.1118 (0.1254)  loss_classifier: 0.0515 (0.0574)  loss_box_reg: 0.0426 (0.0466)  loss_objectness: 0.0010 (0.0021)  loss_rpn_box_reg: 0.0135 (0.0194)  time: 0.7585  data: 0.0043  max mem: 7576\n"
     ]
    },
    {
     "name": "stderr",
     "output_type": "stream",
     "text": [
      "262it [03:29,  1.25it/s]\n"
     ]
    },
    {
     "name": "stdout",
     "output_type": "stream",
     "text": [
      "Epoch: [1] Total time: 0:03:29 (0.8015 s / it)\n",
      "creating index...\n",
      "index created!\n",
      "Test:  [  0/262]  eta: 0:02:56  model_time: 0.3047 (0.3047)  evaluator_time: 0.0034 (0.0034)  time: 0.6749  data: 0.3321  max mem: 7576\n",
      "Test:  [100/262]  eta: 0:00:58  model_time: 0.3167 (0.3386)  evaluator_time: 0.0027 (0.0029)  time: 0.3484  data: 0.0078  max mem: 7576\n",
      "Test:  [200/262]  eta: 0:00:22  model_time: 0.3048 (0.3424)  evaluator_time: 0.0026 (0.0029)  time: 0.3559  data: 0.0079  max mem: 7576\n",
      "Test:  [261/262]  eta: 0:00:00  model_time: 0.2985 (0.3421)  evaluator_time: 0.0026 (0.0028)  time: 0.3350  data: 0.0078  max mem: 7576\n",
      "Test: Total time: 0:01:35 (0.3633 s / it)\n",
      "Averaged stats: model_time: 0.2985 (0.3421)  evaluator_time: 0.0026 (0.0028)\n",
      "Accumulating evaluation results...\n",
      "DONE (t=0.22s).\n",
      "IoU metric: bbox\n",
      " Average Precision  (AP) @[ IoU=0.50:0.95 | area=   all | maxDets=100 ] = 0.208\n",
      " Average Precision  (AP) @[ IoU=0.50      | area=   all | maxDets=100 ] = 0.370\n",
      " Average Precision  (AP) @[ IoU=0.75      | area=   all | maxDets=100 ] = 0.210\n",
      " Average Precision  (AP) @[ IoU=0.50:0.95 | area= small | maxDets=100 ] = -1.000\n",
      " Average Precision  (AP) @[ IoU=0.50:0.95 | area=medium | maxDets=100 ] = 0.006\n",
      " Average Precision  (AP) @[ IoU=0.50:0.95 | area= large | maxDets=100 ] = 0.210\n",
      " Average Recall     (AR) @[ IoU=0.50:0.95 | area=   all | maxDets=  1 ] = 0.357\n",
      " Average Recall     (AR) @[ IoU=0.50:0.95 | area=   all | maxDets= 10 ] = 0.385\n",
      " Average Recall     (AR) @[ IoU=0.50:0.95 | area=   all | maxDets=100 ] = 0.386\n",
      " Average Recall     (AR) @[ IoU=0.50:0.95 | area= small | maxDets=100 ] = -1.000\n",
      " Average Recall     (AR) @[ IoU=0.50:0.95 | area=medium | maxDets=100 ] = 0.037\n",
      " Average Recall     (AR) @[ IoU=0.50:0.95 | area= large | maxDets=100 ] = 0.389\n"
     ]
    },
    {
     "name": "stderr",
     "output_type": "stream",
     "text": [
      "1it [00:00,  1.02it/s]"
     ]
    },
    {
     "name": "stdout",
     "output_type": "stream",
     "text": [
      "Epoch: [2]  [  0/262]  eta: 0:04:16  lr: 0.005000  loss: 0.2695 (0.2695)  loss_classifier: 0.1636 (0.1636)  loss_box_reg: 0.0977 (0.0977)  loss_objectness: 0.0031 (0.0031)  loss_rpn_box_reg: 0.0052 (0.0052)  time: 0.9784  data: 0.2845  max mem: 7576\n"
     ]
    },
    {
     "name": "stderr",
     "output_type": "stream",
     "text": [
      "11it [00:09,  1.28it/s]"
     ]
    },
    {
     "name": "stdout",
     "output_type": "stream",
     "text": [
      "Epoch: [2]  [ 10/262]  eta: 0:03:27  lr: 0.005000  loss: 0.1387 (0.1548)  loss_classifier: 0.0779 (0.0830)  loss_box_reg: 0.0505 (0.0547)  loss_objectness: 0.0010 (0.0017)  loss_rpn_box_reg: 0.0117 (0.0155)  time: 0.8241  data: 0.0293  max mem: 7576\n"
     ]
    },
    {
     "name": "stderr",
     "output_type": "stream",
     "text": [
      "21it [00:17,  1.18it/s]"
     ]
    },
    {
     "name": "stdout",
     "output_type": "stream",
     "text": [
      "Epoch: [2]  [ 20/262]  eta: 0:03:23  lr: 0.005000  loss: 0.1098 (0.1270)  loss_classifier: 0.0421 (0.0619)  loss_box_reg: 0.0401 (0.0465)  loss_objectness: 0.0006 (0.0012)  loss_rpn_box_reg: 0.0152 (0.0174)  time: 0.8321  data: 0.0040  max mem: 7576\n"
     ]
    },
    {
     "name": "stderr",
     "output_type": "stream",
     "text": [
      "31it [00:24,  1.43it/s]"
     ]
    },
    {
     "name": "stdout",
     "output_type": "stream",
     "text": [
      "Epoch: [2]  [ 30/262]  eta: 0:03:05  lr: 0.005000  loss: 0.1003 (0.1234)  loss_classifier: 0.0378 (0.0567)  loss_box_reg: 0.0393 (0.0467)  loss_objectness: 0.0008 (0.0015)  loss_rpn_box_reg: 0.0179 (0.0184)  time: 0.7867  data: 0.0043  max mem: 7576\n"
     ]
    },
    {
     "name": "stderr",
     "output_type": "stream",
     "text": [
      "41it [00:32,  1.34it/s]"
     ]
    },
    {
     "name": "stdout",
     "output_type": "stream",
     "text": [
      "Epoch: [2]  [ 40/262]  eta: 0:02:55  lr: 0.005000  loss: 0.1059 (0.1221)  loss_classifier: 0.0378 (0.0544)  loss_box_reg: 0.0393 (0.0462)  loss_objectness: 0.0017 (0.0018)  loss_rpn_box_reg: 0.0179 (0.0197)  time: 0.7359  data: 0.0043  max mem: 7576\n"
     ]
    },
    {
     "name": "stderr",
     "output_type": "stream",
     "text": [
      "51it [00:39,  1.27it/s]"
     ]
    },
    {
     "name": "stdout",
     "output_type": "stream",
     "text": [
      "Epoch: [2]  [ 50/262]  eta: 0:02:46  lr: 0.005000  loss: 0.1059 (0.1218)  loss_classifier: 0.0411 (0.0533)  loss_box_reg: 0.0430 (0.0463)  loss_objectness: 0.0013 (0.0019)  loss_rpn_box_reg: 0.0165 (0.0203)  time: 0.7570  data: 0.0043  max mem: 7576\n"
     ]
    },
    {
     "name": "stderr",
     "output_type": "stream",
     "text": [
      "61it [00:47,  1.29it/s]"
     ]
    },
    {
     "name": "stdout",
     "output_type": "stream",
     "text": [
      "Epoch: [2]  [ 60/262]  eta: 0:02:37  lr: 0.005000  loss: 0.1049 (0.1180)  loss_classifier: 0.0341 (0.0509)  loss_box_reg: 0.0423 (0.0446)  loss_objectness: 0.0011 (0.0019)  loss_rpn_box_reg: 0.0193 (0.0205)  time: 0.7550  data: 0.0042  max mem: 7576\n"
     ]
    },
    {
     "name": "stderr",
     "output_type": "stream",
     "text": [
      "71it [00:55,  1.31it/s]"
     ]
    },
    {
     "name": "stdout",
     "output_type": "stream",
     "text": [
      "Epoch: [2]  [ 70/262]  eta: 0:02:30  lr: 0.005000  loss: 0.1066 (0.1182)  loss_classifier: 0.0448 (0.0518)  loss_box_reg: 0.0447 (0.0450)  loss_objectness: 0.0009 (0.0019)  loss_rpn_box_reg: 0.0118 (0.0196)  time: 0.7872  data: 0.0043  max mem: 7576\n"
     ]
    },
    {
     "name": "stderr",
     "output_type": "stream",
     "text": [
      "81it [01:03,  1.23it/s]"
     ]
    },
    {
     "name": "stdout",
     "output_type": "stream",
     "text": [
      "Epoch: [2]  [ 80/262]  eta: 0:02:22  lr: 0.005000  loss: 0.1067 (0.1180)  loss_classifier: 0.0457 (0.0519)  loss_box_reg: 0.0491 (0.0450)  loss_objectness: 0.0009 (0.0018)  loss_rpn_box_reg: 0.0121 (0.0193)  time: 0.8023  data: 0.0044  max mem: 7576\n"
     ]
    },
    {
     "name": "stderr",
     "output_type": "stream",
     "text": [
      "91it [01:10,  1.38it/s]"
     ]
    },
    {
     "name": "stdout",
     "output_type": "stream",
     "text": [
      "Epoch: [2]  [ 90/262]  eta: 0:02:13  lr: 0.005000  loss: 0.1077 (0.1178)  loss_classifier: 0.0448 (0.0521)  loss_box_reg: 0.0442 (0.0448)  loss_objectness: 0.0008 (0.0019)  loss_rpn_box_reg: 0.0148 (0.0190)  time: 0.7521  data: 0.0043  max mem: 7576\n"
     ]
    },
    {
     "name": "stderr",
     "output_type": "stream",
     "text": [
      "101it [01:18,  1.34it/s]"
     ]
    },
    {
     "name": "stdout",
     "output_type": "stream",
     "text": [
      "Epoch: [2]  [100/262]  eta: 0:02:05  lr: 0.005000  loss: 0.0979 (0.1163)  loss_classifier: 0.0378 (0.0512)  loss_box_reg: 0.0409 (0.0446)  loss_objectness: 0.0009 (0.0018)  loss_rpn_box_reg: 0.0127 (0.0187)  time: 0.7527  data: 0.0042  max mem: 7576\n"
     ]
    },
    {
     "name": "stderr",
     "output_type": "stream",
     "text": [
      "111it [01:26,  1.13it/s]"
     ]
    },
    {
     "name": "stdout",
     "output_type": "stream",
     "text": [
      "Epoch: [2]  [110/262]  eta: 0:01:58  lr: 0.005000  loss: 0.0892 (0.1158)  loss_classifier: 0.0348 (0.0507)  loss_box_reg: 0.0381 (0.0442)  loss_objectness: 0.0014 (0.0019)  loss_rpn_box_reg: 0.0141 (0.0191)  time: 0.7897  data: 0.0042  max mem: 7576\n"
     ]
    },
    {
     "name": "stderr",
     "output_type": "stream",
     "text": [
      "121it [01:34,  1.28it/s]"
     ]
    },
    {
     "name": "stdout",
     "output_type": "stream",
     "text": [
      "Epoch: [2]  [120/262]  eta: 0:01:50  lr: 0.005000  loss: 0.0868 (0.1137)  loss_classifier: 0.0304 (0.0496)  loss_box_reg: 0.0341 (0.0436)  loss_objectness: 0.0013 (0.0018)  loss_rpn_box_reg: 0.0143 (0.0187)  time: 0.7888  data: 0.0042  max mem: 7576\n"
     ]
    },
    {
     "name": "stderr",
     "output_type": "stream",
     "text": [
      "131it [01:42,  1.21it/s]"
     ]
    },
    {
     "name": "stdout",
     "output_type": "stream",
     "text": [
      "Epoch: [2]  [130/262]  eta: 0:01:42  lr: 0.005000  loss: 0.0997 (0.1135)  loss_classifier: 0.0388 (0.0496)  loss_box_reg: 0.0341 (0.0434)  loss_objectness: 0.0008 (0.0018)  loss_rpn_box_reg: 0.0134 (0.0187)  time: 0.7832  data: 0.0042  max mem: 7576\n"
     ]
    },
    {
     "name": "stderr",
     "output_type": "stream",
     "text": [
      "141it [01:49,  1.30it/s]"
     ]
    },
    {
     "name": "stdout",
     "output_type": "stream",
     "text": [
      "Epoch: [2]  [140/262]  eta: 0:01:35  lr: 0.005000  loss: 0.1056 (0.1134)  loss_classifier: 0.0445 (0.0495)  loss_box_reg: 0.0362 (0.0432)  loss_objectness: 0.0017 (0.0018)  loss_rpn_box_reg: 0.0167 (0.0189)  time: 0.7834  data: 0.0042  max mem: 7576\n"
     ]
    },
    {
     "name": "stderr",
     "output_type": "stream",
     "text": [
      "151it [01:58,  1.23it/s]"
     ]
    },
    {
     "name": "stdout",
     "output_type": "stream",
     "text": [
      "Epoch: [2]  [150/262]  eta: 0:01:27  lr: 0.005000  loss: 0.1004 (0.1131)  loss_classifier: 0.0412 (0.0495)  loss_box_reg: 0.0362 (0.0430)  loss_objectness: 0.0013 (0.0018)  loss_rpn_box_reg: 0.0155 (0.0188)  time: 0.7909  data: 0.0043  max mem: 7576\n"
     ]
    },
    {
     "name": "stderr",
     "output_type": "stream",
     "text": [
      "161it [02:05,  1.37it/s]"
     ]
    },
    {
     "name": "stdout",
     "output_type": "stream",
     "text": [
      "Epoch: [2]  [160/262]  eta: 0:01:19  lr: 0.005000  loss: 0.1046 (0.1127)  loss_classifier: 0.0408 (0.0493)  loss_box_reg: 0.0336 (0.0428)  loss_objectness: 0.0010 (0.0018)  loss_rpn_box_reg: 0.0123 (0.0188)  time: 0.7877  data: 0.0042  max mem: 7576\n"
     ]
    },
    {
     "name": "stderr",
     "output_type": "stream",
     "text": [
      "171it [02:13,  1.17it/s]"
     ]
    },
    {
     "name": "stdout",
     "output_type": "stream",
     "text": [
      "Epoch: [2]  [170/262]  eta: 0:01:11  lr: 0.005000  loss: 0.1046 (0.1130)  loss_classifier: 0.0408 (0.0493)  loss_box_reg: 0.0367 (0.0428)  loss_objectness: 0.0014 (0.0018)  loss_rpn_box_reg: 0.0123 (0.0191)  time: 0.7906  data: 0.0042  max mem: 7576\n"
     ]
    },
    {
     "name": "stderr",
     "output_type": "stream",
     "text": [
      "181it [02:21,  1.29it/s]"
     ]
    },
    {
     "name": "stdout",
     "output_type": "stream",
     "text": [
      "Epoch: [2]  [180/262]  eta: 0:01:04  lr: 0.005000  loss: 0.1161 (0.1136)  loss_classifier: 0.0404 (0.0497)  loss_box_reg: 0.0391 (0.0430)  loss_objectness: 0.0008 (0.0018)  loss_rpn_box_reg: 0.0116 (0.0191)  time: 0.8103  data: 0.0042  max mem: 7576\n"
     ]
    },
    {
     "name": "stderr",
     "output_type": "stream",
     "text": [
      "191it [02:29,  1.27it/s]"
     ]
    },
    {
     "name": "stdout",
     "output_type": "stream",
     "text": [
      "Epoch: [2]  [190/262]  eta: 0:00:56  lr: 0.005000  loss: 0.1022 (0.1137)  loss_classifier: 0.0396 (0.0498)  loss_box_reg: 0.0418 (0.0430)  loss_objectness: 0.0009 (0.0018)  loss_rpn_box_reg: 0.0167 (0.0191)  time: 0.7941  data: 0.0042  max mem: 7576\n"
     ]
    },
    {
     "name": "stderr",
     "output_type": "stream",
     "text": [
      "201it [02:37,  1.31it/s]"
     ]
    },
    {
     "name": "stdout",
     "output_type": "stream",
     "text": [
      "Epoch: [2]  [200/262]  eta: 0:00:48  lr: 0.005000  loss: 0.1005 (0.1139)  loss_classifier: 0.0382 (0.0500)  loss_box_reg: 0.0418 (0.0431)  loss_objectness: 0.0014 (0.0019)  loss_rpn_box_reg: 0.0164 (0.0190)  time: 0.7682  data: 0.0042  max mem: 7576\n"
     ]
    },
    {
     "name": "stderr",
     "output_type": "stream",
     "text": [
      "211it [02:45,  1.22it/s]"
     ]
    },
    {
     "name": "stdout",
     "output_type": "stream",
     "text": [
      "Epoch: [2]  [210/262]  eta: 0:00:40  lr: 0.005000  loss: 0.1005 (0.1137)  loss_classifier: 0.0488 (0.0499)  loss_box_reg: 0.0345 (0.0430)  loss_objectness: 0.0014 (0.0018)  loss_rpn_box_reg: 0.0151 (0.0190)  time: 0.7881  data: 0.0042  max mem: 7576\n"
     ]
    },
    {
     "name": "stderr",
     "output_type": "stream",
     "text": [
      "221it [02:52,  1.30it/s]"
     ]
    },
    {
     "name": "stdout",
     "output_type": "stream",
     "text": [
      "Epoch: [2]  [220/262]  eta: 0:00:32  lr: 0.005000  loss: 0.1005 (0.1132)  loss_classifier: 0.0448 (0.0497)  loss_box_reg: 0.0345 (0.0429)  loss_objectness: 0.0008 (0.0018)  loss_rpn_box_reg: 0.0143 (0.0188)  time: 0.7783  data: 0.0042  max mem: 7576\n"
     ]
    },
    {
     "name": "stderr",
     "output_type": "stream",
     "text": [
      "231it [03:00,  1.33it/s]"
     ]
    },
    {
     "name": "stdout",
     "output_type": "stream",
     "text": [
      "Epoch: [2]  [230/262]  eta: 0:00:25  lr: 0.005000  loss: 0.0948 (0.1133)  loss_classifier: 0.0394 (0.0496)  loss_box_reg: 0.0382 (0.0431)  loss_objectness: 0.0004 (0.0018)  loss_rpn_box_reg: 0.0134 (0.0188)  time: 0.7725  data: 0.0042  max mem: 7576\n"
     ]
    },
    {
     "name": "stderr",
     "output_type": "stream",
     "text": [
      "241it [03:08,  1.36it/s]"
     ]
    },
    {
     "name": "stdout",
     "output_type": "stream",
     "text": [
      "Epoch: [2]  [240/262]  eta: 0:00:17  lr: 0.005000  loss: 0.1085 (0.1127)  loss_classifier: 0.0382 (0.0494)  loss_box_reg: 0.0383 (0.0429)  loss_objectness: 0.0007 (0.0018)  loss_rpn_box_reg: 0.0141 (0.0186)  time: 0.7964  data: 0.0042  max mem: 7576\n"
     ]
    },
    {
     "name": "stderr",
     "output_type": "stream",
     "text": [
      "251it [03:16,  1.26it/s]"
     ]
    },
    {
     "name": "stdout",
     "output_type": "stream",
     "text": [
      "Epoch: [2]  [250/262]  eta: 0:00:09  lr: 0.005000  loss: 0.1051 (0.1126)  loss_classifier: 0.0367 (0.0490)  loss_box_reg: 0.0388 (0.0433)  loss_objectness: 0.0014 (0.0018)  loss_rpn_box_reg: 0.0141 (0.0186)  time: 0.7735  data: 0.0042  max mem: 7576\n"
     ]
    },
    {
     "name": "stderr",
     "output_type": "stream",
     "text": [
      "262it [03:24,  1.74it/s]"
     ]
    },
    {
     "name": "stdout",
     "output_type": "stream",
     "text": [
      "Epoch: [2]  [260/262]  eta: 0:00:01  lr: 0.005000  loss: 0.1061 (0.1126)  loss_classifier: 0.0447 (0.0490)  loss_box_reg: 0.0436 (0.0434)  loss_objectness: 0.0016 (0.0018)  loss_rpn_box_reg: 0.0145 (0.0185)  time: 0.7691  data: 0.0042  max mem: 7576\n",
      "Epoch: [2]  [261/262]  eta: 0:00:00  lr: 0.005000  loss: 0.1061 (0.1123)  loss_classifier: 0.0421 (0.0488)  loss_box_reg: 0.0436 (0.0433)  loss_objectness: 0.0016 (0.0018)  loss_rpn_box_reg: 0.0145 (0.0184)  time: 0.7433  data: 0.0040  max mem: 7576\n"
     ]
    },
    {
     "name": "stderr",
     "output_type": "stream",
     "text": [
      "262it [03:24,  1.28it/s]\n"
     ]
    },
    {
     "name": "stdout",
     "output_type": "stream",
     "text": [
      "Epoch: [2] Total time: 0:03:24 (0.7802 s / it)\n",
      "creating index...\n",
      "index created!\n",
      "Test:  [  0/262]  eta: 0:02:39  model_time: 0.2924 (0.2924)  evaluator_time: 0.0033 (0.0033)  time: 0.6086  data: 0.2933  max mem: 7576\n",
      "Test:  [100/262]  eta: 0:00:56  model_time: 0.3751 (0.3276)  evaluator_time: 0.0026 (0.0028)  time: 0.3773  data: 0.0079  max mem: 7576\n",
      "Test:  [200/262]  eta: 0:00:21  model_time: 0.2974 (0.3296)  evaluator_time: 0.0027 (0.0027)  time: 0.3451  data: 0.0078  max mem: 7576\n",
      "Test:  [261/262]  eta: 0:00:00  model_time: 0.2914 (0.3314)  evaluator_time: 0.0026 (0.0027)  time: 0.3302  data: 0.0075  max mem: 7576\n",
      "Test: Total time: 0:01:32 (0.3521 s / it)\n",
      "Averaged stats: model_time: 0.2914 (0.3314)  evaluator_time: 0.0026 (0.0027)\n",
      "Accumulating evaluation results...\n",
      "DONE (t=0.21s).\n",
      "IoU metric: bbox\n",
      " Average Precision  (AP) @[ IoU=0.50:0.95 | area=   all | maxDets=100 ] = 0.235\n",
      " Average Precision  (AP) @[ IoU=0.50      | area=   all | maxDets=100 ] = 0.424\n",
      " Average Precision  (AP) @[ IoU=0.75      | area=   all | maxDets=100 ] = 0.240\n",
      " Average Precision  (AP) @[ IoU=0.50:0.95 | area= small | maxDets=100 ] = -1.000\n",
      " Average Precision  (AP) @[ IoU=0.50:0.95 | area=medium | maxDets=100 ] = 0.391\n",
      " Average Precision  (AP) @[ IoU=0.50:0.95 | area= large | maxDets=100 ] = 0.235\n",
      " Average Recall     (AR) @[ IoU=0.50:0.95 | area=   all | maxDets=  1 ] = 0.393\n",
      " Average Recall     (AR) @[ IoU=0.50:0.95 | area=   all | maxDets= 10 ] = 0.417\n",
      " Average Recall     (AR) @[ IoU=0.50:0.95 | area=   all | maxDets=100 ] = 0.417\n",
      " Average Recall     (AR) @[ IoU=0.50:0.95 | area= small | maxDets=100 ] = -1.000\n",
      " Average Recall     (AR) @[ IoU=0.50:0.95 | area=medium | maxDets=100 ] = 0.412\n",
      " Average Recall     (AR) @[ IoU=0.50:0.95 | area= large | maxDets=100 ] = 0.417\n"
     ]
    },
    {
     "name": "stderr",
     "output_type": "stream",
     "text": [
      "1it [00:00,  1.00it/s]"
     ]
    },
    {
     "name": "stdout",
     "output_type": "stream",
     "text": [
      "Epoch: [3]  [  0/262]  eta: 0:04:21  lr: 0.000500  loss: 0.1027 (0.1027)  loss_classifier: 0.0225 (0.0225)  loss_box_reg: 0.0733 (0.0733)  loss_objectness: 0.0014 (0.0014)  loss_rpn_box_reg: 0.0055 (0.0055)  time: 0.9990  data: 0.3211  max mem: 7576\n"
     ]
    },
    {
     "name": "stderr",
     "output_type": "stream",
     "text": [
      "11it [00:08,  1.36it/s]"
     ]
    },
    {
     "name": "stdout",
     "output_type": "stream",
     "text": [
      "Epoch: [3]  [ 10/262]  eta: 0:03:06  lr: 0.000500  loss: 0.0858 (0.0910)  loss_classifier: 0.0288 (0.0327)  loss_box_reg: 0.0340 (0.0414)  loss_objectness: 0.0014 (0.0015)  loss_rpn_box_reg: 0.0114 (0.0153)  time: 0.7414  data: 0.0318  max mem: 7576\n"
     ]
    },
    {
     "name": "stderr",
     "output_type": "stream",
     "text": [
      "21it [00:15,  1.31it/s]"
     ]
    },
    {
     "name": "stdout",
     "output_type": "stream",
     "text": [
      "Epoch: [3]  [ 20/262]  eta: 0:03:03  lr: 0.000500  loss: 0.0813 (0.0943)  loss_classifier: 0.0288 (0.0386)  loss_box_reg: 0.0340 (0.0383)  loss_objectness: 0.0013 (0.0015)  loss_rpn_box_reg: 0.0117 (0.0158)  time: 0.7482  data: 0.0036  max mem: 7576\n"
     ]
    },
    {
     "name": "stderr",
     "output_type": "stream",
     "text": [
      "31it [00:23,  1.42it/s]"
     ]
    },
    {
     "name": "stdout",
     "output_type": "stream",
     "text": [
      "Epoch: [3]  [ 30/262]  eta: 0:02:55  lr: 0.000500  loss: 0.1018 (0.1015)  loss_classifier: 0.0459 (0.0453)  loss_box_reg: 0.0368 (0.0397)  loss_objectness: 0.0011 (0.0013)  loss_rpn_box_reg: 0.0122 (0.0151)  time: 0.7630  data: 0.0042  max mem: 7576\n"
     ]
    },
    {
     "name": "stderr",
     "output_type": "stream",
     "text": [
      "41it [00:30,  1.46it/s]"
     ]
    },
    {
     "name": "stdout",
     "output_type": "stream",
     "text": [
      "Epoch: [3]  [ 40/262]  eta: 0:02:43  lr: 0.000500  loss: 0.0847 (0.0946)  loss_classifier: 0.0314 (0.0408)  loss_box_reg: 0.0297 (0.0374)  loss_objectness: 0.0007 (0.0015)  loss_rpn_box_reg: 0.0122 (0.0150)  time: 0.7126  data: 0.0042  max mem: 7576\n"
     ]
    },
    {
     "name": "stderr",
     "output_type": "stream",
     "text": [
      "51it [00:38,  1.31it/s]"
     ]
    },
    {
     "name": "stdout",
     "output_type": "stream",
     "text": [
      "Epoch: [3]  [ 50/262]  eta: 0:02:38  lr: 0.000500  loss: 0.0809 (0.0951)  loss_classifier: 0.0311 (0.0417)  loss_box_reg: 0.0321 (0.0376)  loss_objectness: 0.0007 (0.0014)  loss_rpn_box_reg: 0.0117 (0.0143)  time: 0.7327  data: 0.0043  max mem: 7576\n"
     ]
    },
    {
     "name": "stderr",
     "output_type": "stream",
     "text": [
      "61it [00:45,  1.33it/s]"
     ]
    },
    {
     "name": "stdout",
     "output_type": "stream",
     "text": [
      "Epoch: [3]  [ 60/262]  eta: 0:02:30  lr: 0.000500  loss: 0.0878 (0.0955)  loss_classifier: 0.0363 (0.0424)  loss_box_reg: 0.0336 (0.0372)  loss_objectness: 0.0006 (0.0013)  loss_rpn_box_reg: 0.0116 (0.0146)  time: 0.7683  data: 0.0043  max mem: 7576\n"
     ]
    },
    {
     "name": "stderr",
     "output_type": "stream",
     "text": [
      "71it [00:53,  1.26it/s]"
     ]
    },
    {
     "name": "stdout",
     "output_type": "stream",
     "text": [
      "Epoch: [3]  [ 70/262]  eta: 0:02:24  lr: 0.000500  loss: 0.0866 (0.0963)  loss_classifier: 0.0331 (0.0422)  loss_box_reg: 0.0396 (0.0379)  loss_objectness: 0.0006 (0.0013)  loss_rpn_box_reg: 0.0134 (0.0148)  time: 0.7638  data: 0.0042  max mem: 7576\n"
     ]
    },
    {
     "name": "stderr",
     "output_type": "stream",
     "text": [
      "81it [01:01,  1.27it/s]"
     ]
    },
    {
     "name": "stdout",
     "output_type": "stream",
     "text": [
      "Epoch: [3]  [ 80/262]  eta: 0:02:17  lr: 0.000500  loss: 0.0814 (0.0953)  loss_classifier: 0.0308 (0.0418)  loss_box_reg: 0.0369 (0.0371)  loss_objectness: 0.0005 (0.0013)  loss_rpn_box_reg: 0.0136 (0.0151)  time: 0.7751  data: 0.0042  max mem: 7576\n"
     ]
    },
    {
     "name": "stderr",
     "output_type": "stream",
     "text": [
      "91it [01:08,  1.31it/s]"
     ]
    },
    {
     "name": "stdout",
     "output_type": "stream",
     "text": [
      "Epoch: [3]  [ 90/262]  eta: 0:02:09  lr: 0.000500  loss: 0.0817 (0.0939)  loss_classifier: 0.0309 (0.0409)  loss_box_reg: 0.0296 (0.0365)  loss_objectness: 0.0007 (0.0013)  loss_rpn_box_reg: 0.0122 (0.0151)  time: 0.7563  data: 0.0042  max mem: 7576\n"
     ]
    },
    {
     "name": "stderr",
     "output_type": "stream",
     "text": [
      "101it [01:16,  1.31it/s]"
     ]
    },
    {
     "name": "stdout",
     "output_type": "stream",
     "text": [
      "Epoch: [3]  [100/262]  eta: 0:02:02  lr: 0.000500  loss: 0.0830 (0.0937)  loss_classifier: 0.0378 (0.0408)  loss_box_reg: 0.0293 (0.0369)  loss_objectness: 0.0009 (0.0013)  loss_rpn_box_reg: 0.0072 (0.0147)  time: 0.7653  data: 0.0042  max mem: 8318\n"
     ]
    },
    {
     "name": "stderr",
     "output_type": "stream",
     "text": [
      "111it [01:23,  1.30it/s]"
     ]
    },
    {
     "name": "stdout",
     "output_type": "stream",
     "text": [
      "Epoch: [3]  [110/262]  eta: 0:01:54  lr: 0.000500  loss: 0.0884 (0.0934)  loss_classifier: 0.0378 (0.0405)  loss_box_reg: 0.0323 (0.0370)  loss_objectness: 0.0009 (0.0014)  loss_rpn_box_reg: 0.0080 (0.0146)  time: 0.7556  data: 0.0042  max mem: 8318\n"
     ]
    },
    {
     "name": "stderr",
     "output_type": "stream",
     "text": [
      "121it [01:31,  1.23it/s]"
     ]
    },
    {
     "name": "stdout",
     "output_type": "stream",
     "text": [
      "Epoch: [3]  [120/262]  eta: 0:01:47  lr: 0.000500  loss: 0.0841 (0.0929)  loss_classifier: 0.0278 (0.0393)  loss_box_reg: 0.0313 (0.0366)  loss_objectness: 0.0009 (0.0015)  loss_rpn_box_reg: 0.0194 (0.0155)  time: 0.7610  data: 0.0042  max mem: 8318\n"
     ]
    },
    {
     "name": "stderr",
     "output_type": "stream",
     "text": [
      "131it [01:38,  1.36it/s]"
     ]
    },
    {
     "name": "stdout",
     "output_type": "stream",
     "text": [
      "Epoch: [3]  [130/262]  eta: 0:01:39  lr: 0.000500  loss: 0.0849 (0.0922)  loss_classifier: 0.0291 (0.0387)  loss_box_reg: 0.0326 (0.0365)  loss_objectness: 0.0014 (0.0015)  loss_rpn_box_reg: 0.0179 (0.0155)  time: 0.7689  data: 0.0042  max mem: 8318\n"
     ]
    },
    {
     "name": "stderr",
     "output_type": "stream",
     "text": [
      "141it [01:45,  1.35it/s]"
     ]
    },
    {
     "name": "stdout",
     "output_type": "stream",
     "text": [
      "Epoch: [3]  [140/262]  eta: 0:01:31  lr: 0.000500  loss: 0.0849 (0.0916)  loss_classifier: 0.0321 (0.0386)  loss_box_reg: 0.0316 (0.0361)  loss_objectness: 0.0009 (0.0015)  loss_rpn_box_reg: 0.0137 (0.0154)  time: 0.7186  data: 0.0042  max mem: 8318\n"
     ]
    },
    {
     "name": "stderr",
     "output_type": "stream",
     "text": [
      "151it [01:54,  1.12it/s]"
     ]
    },
    {
     "name": "stdout",
     "output_type": "stream",
     "text": [
      "Epoch: [3]  [150/262]  eta: 0:01:24  lr: 0.000500  loss: 0.0884 (0.0923)  loss_classifier: 0.0307 (0.0391)  loss_box_reg: 0.0316 (0.0362)  loss_objectness: 0.0007 (0.0015)  loss_rpn_box_reg: 0.0117 (0.0156)  time: 0.7604  data: 0.0042  max mem: 8318\n"
     ]
    },
    {
     "name": "stderr",
     "output_type": "stream",
     "text": [
      "161it [02:01,  1.30it/s]"
     ]
    },
    {
     "name": "stdout",
     "output_type": "stream",
     "text": [
      "Epoch: [3]  [160/262]  eta: 0:01:17  lr: 0.000500  loss: 0.0884 (0.0926)  loss_classifier: 0.0393 (0.0393)  loss_box_reg: 0.0352 (0.0363)  loss_objectness: 0.0007 (0.0015)  loss_rpn_box_reg: 0.0119 (0.0155)  time: 0.7825  data: 0.0042  max mem: 8318\n"
     ]
    },
    {
     "name": "stderr",
     "output_type": "stream",
     "text": [
      "171it [02:09,  1.18it/s]"
     ]
    },
    {
     "name": "stdout",
     "output_type": "stream",
     "text": [
      "Epoch: [3]  [170/262]  eta: 0:01:09  lr: 0.000500  loss: 0.0905 (0.0930)  loss_classifier: 0.0366 (0.0393)  loss_box_reg: 0.0338 (0.0367)  loss_objectness: 0.0008 (0.0015)  loss_rpn_box_reg: 0.0144 (0.0156)  time: 0.7643  data: 0.0042  max mem: 8318\n"
     ]
    },
    {
     "name": "stderr",
     "output_type": "stream",
     "text": [
      "181it [02:16,  1.39it/s]"
     ]
    },
    {
     "name": "stdout",
     "output_type": "stream",
     "text": [
      "Epoch: [3]  [180/262]  eta: 0:01:02  lr: 0.000500  loss: 0.0813 (0.0923)  loss_classifier: 0.0286 (0.0387)  loss_box_reg: 0.0289 (0.0362)  loss_objectness: 0.0014 (0.0015)  loss_rpn_box_reg: 0.0160 (0.0159)  time: 0.7624  data: 0.0042  max mem: 8318\n"
     ]
    },
    {
     "name": "stderr",
     "output_type": "stream",
     "text": [
      "191it [02:24,  1.25it/s]"
     ]
    },
    {
     "name": "stdout",
     "output_type": "stream",
     "text": [
      "Epoch: [3]  [190/262]  eta: 0:00:54  lr: 0.000500  loss: 0.0802 (0.0923)  loss_classifier: 0.0274 (0.0386)  loss_box_reg: 0.0301 (0.0362)  loss_objectness: 0.0010 (0.0015)  loss_rpn_box_reg: 0.0150 (0.0161)  time: 0.7733  data: 0.0042  max mem: 8318\n"
     ]
    },
    {
     "name": "stderr",
     "output_type": "stream",
     "text": [
      "201it [02:32,  1.23it/s]"
     ]
    },
    {
     "name": "stdout",
     "output_type": "stream",
     "text": [
      "Epoch: [3]  [200/262]  eta: 0:00:47  lr: 0.000500  loss: 0.0802 (0.0915)  loss_classifier: 0.0342 (0.0383)  loss_box_reg: 0.0292 (0.0358)  loss_objectness: 0.0005 (0.0015)  loss_rpn_box_reg: 0.0143 (0.0159)  time: 0.8041  data: 0.0042  max mem: 8318\n"
     ]
    },
    {
     "name": "stderr",
     "output_type": "stream",
     "text": [
      "211it [02:41,  1.25it/s]"
     ]
    },
    {
     "name": "stdout",
     "output_type": "stream",
     "text": [
      "Epoch: [3]  [210/262]  eta: 0:00:39  lr: 0.000500  loss: 0.0720 (0.0911)  loss_classifier: 0.0285 (0.0381)  loss_box_reg: 0.0285 (0.0355)  loss_objectness: 0.0007 (0.0015)  loss_rpn_box_reg: 0.0118 (0.0160)  time: 0.8120  data: 0.0042  max mem: 8318\n"
     ]
    },
    {
     "name": "stderr",
     "output_type": "stream",
     "text": [
      "221it [02:48,  1.32it/s]"
     ]
    },
    {
     "name": "stdout",
     "output_type": "stream",
     "text": [
      "Epoch: [3]  [220/262]  eta: 0:00:32  lr: 0.000500  loss: 0.0795 (0.0914)  loss_classifier: 0.0283 (0.0383)  loss_box_reg: 0.0285 (0.0354)  loss_objectness: 0.0009 (0.0016)  loss_rpn_box_reg: 0.0146 (0.0161)  time: 0.7715  data: 0.0042  max mem: 8318\n"
     ]
    },
    {
     "name": "stderr",
     "output_type": "stream",
     "text": [
      "231it [02:56,  1.25it/s]"
     ]
    },
    {
     "name": "stdout",
     "output_type": "stream",
     "text": [
      "Epoch: [3]  [230/262]  eta: 0:00:24  lr: 0.000500  loss: 0.0780 (0.0911)  loss_classifier: 0.0277 (0.0382)  loss_box_reg: 0.0273 (0.0353)  loss_objectness: 0.0009 (0.0016)  loss_rpn_box_reg: 0.0135 (0.0160)  time: 0.7698  data: 0.0042  max mem: 8318\n"
     ]
    },
    {
     "name": "stderr",
     "output_type": "stream",
     "text": [
      "241it [03:04,  1.24it/s]"
     ]
    },
    {
     "name": "stdout",
     "output_type": "stream",
     "text": [
      "Epoch: [3]  [240/262]  eta: 0:00:16  lr: 0.000500  loss: 0.0752 (0.0903)  loss_classifier: 0.0244 (0.0377)  loss_box_reg: 0.0258 (0.0349)  loss_objectness: 0.0006 (0.0016)  loss_rpn_box_reg: 0.0143 (0.0161)  time: 0.7800  data: 0.0042  max mem: 8318\n"
     ]
    },
    {
     "name": "stderr",
     "output_type": "stream",
     "text": [
      "251it [03:11,  1.42it/s]"
     ]
    },
    {
     "name": "stdout",
     "output_type": "stream",
     "text": [
      "Epoch: [3]  [250/262]  eta: 0:00:09  lr: 0.000500  loss: 0.0811 (0.0903)  loss_classifier: 0.0254 (0.0376)  loss_box_reg: 0.0259 (0.0348)  loss_objectness: 0.0010 (0.0016)  loss_rpn_box_reg: 0.0100 (0.0162)  time: 0.7413  data: 0.0042  max mem: 8318\n"
     ]
    },
    {
     "name": "stderr",
     "output_type": "stream",
     "text": [
      "262it [03:19,  1.32it/s]\n"
     ]
    },
    {
     "name": "stdout",
     "output_type": "stream",
     "text": [
      "Epoch: [3]  [260/262]  eta: 0:00:01  lr: 0.000500  loss: 0.0936 (0.0906)  loss_classifier: 0.0349 (0.0379)  loss_box_reg: 0.0292 (0.0348)  loss_objectness: 0.0010 (0.0016)  loss_rpn_box_reg: 0.0094 (0.0163)  time: 0.7430  data: 0.0042  max mem: 8318\n",
      "Epoch: [3]  [261/262]  eta: 0:00:00  lr: 0.000500  loss: 0.0936 (0.0905)  loss_classifier: 0.0349 (0.0378)  loss_box_reg: 0.0305 (0.0349)  loss_objectness: 0.0010 (0.0016)  loss_rpn_box_reg: 0.0094 (0.0162)  time: 0.7164  data: 0.0041  max mem: 8318\n",
      "Epoch: [3] Total time: 0:03:19 (0.7597 s / it)\n",
      "creating index...\n",
      "index created!\n",
      "Test:  [  0/262]  eta: 0:03:08  model_time: 0.4052 (0.4052)  evaluator_time: 0.0025 (0.0025)  time: 0.7197  data: 0.2941  max mem: 8318\n",
      "Test:  [100/262]  eta: 0:00:58  model_time: 0.3141 (0.3403)  evaluator_time: 0.0026 (0.0035)  time: 0.3587  data: 0.0079  max mem: 8318\n",
      "Test:  [200/262]  eta: 0:00:22  model_time: 0.3283 (0.3350)  evaluator_time: 0.0028 (0.0031)  time: 0.3635  data: 0.0079  max mem: 8318\n",
      "Test:  [261/262]  eta: 0:00:00  model_time: 0.3413 (0.3335)  evaluator_time: 0.0024 (0.0030)  time: 0.3510  data: 0.0075  max mem: 8318\n",
      "Test: Total time: 0:01:32 (0.3542 s / it)\n",
      "Averaged stats: model_time: 0.3413 (0.3335)  evaluator_time: 0.0024 (0.0030)\n",
      "Accumulating evaluation results...\n",
      "DONE (t=0.21s).\n",
      "IoU metric: bbox\n",
      " Average Precision  (AP) @[ IoU=0.50:0.95 | area=   all | maxDets=100 ] = 0.255\n",
      " Average Precision  (AP) @[ IoU=0.50      | area=   all | maxDets=100 ] = 0.433\n",
      " Average Precision  (AP) @[ IoU=0.75      | area=   all | maxDets=100 ] = 0.243\n",
      " Average Precision  (AP) @[ IoU=0.50:0.95 | area= small | maxDets=100 ] = -1.000\n",
      " Average Precision  (AP) @[ IoU=0.50:0.95 | area=medium | maxDets=100 ] = 0.405\n",
      " Average Precision  (AP) @[ IoU=0.50:0.95 | area= large | maxDets=100 ] = 0.256\n",
      " Average Recall     (AR) @[ IoU=0.50:0.95 | area=   all | maxDets=  1 ] = 0.432\n",
      " Average Recall     (AR) @[ IoU=0.50:0.95 | area=   all | maxDets= 10 ] = 0.465\n",
      " Average Recall     (AR) @[ IoU=0.50:0.95 | area=   all | maxDets=100 ] = 0.466\n",
      " Average Recall     (AR) @[ IoU=0.50:0.95 | area= small | maxDets=100 ] = -1.000\n",
      " Average Recall     (AR) @[ IoU=0.50:0.95 | area=medium | maxDets=100 ] = 0.406\n",
      " Average Recall     (AR) @[ IoU=0.50:0.95 | area= large | maxDets=100 ] = 0.467\n"
     ]
    },
    {
     "name": "stderr",
     "output_type": "stream",
     "text": [
      "1it [00:01,  1.02s/it]"
     ]
    },
    {
     "name": "stdout",
     "output_type": "stream",
     "text": [
      "Epoch: [4]  [  0/262]  eta: 0:04:28  lr: 0.000500  loss: 0.0691 (0.0691)  loss_classifier: 0.0243 (0.0243)  loss_box_reg: 0.0359 (0.0359)  loss_objectness: 0.0007 (0.0007)  loss_rpn_box_reg: 0.0082 (0.0082)  time: 1.0229  data: 0.3172  max mem: 8318\n"
     ]
    },
    {
     "name": "stderr",
     "output_type": "stream",
     "text": [
      "11it [00:08,  1.24it/s]"
     ]
    },
    {
     "name": "stdout",
     "output_type": "stream",
     "text": [
      "Epoch: [4]  [ 10/262]  eta: 0:03:15  lr: 0.000500  loss: 0.0754 (0.0738)  loss_classifier: 0.0243 (0.0295)  loss_box_reg: 0.0254 (0.0266)  loss_objectness: 0.0007 (0.0010)  loss_rpn_box_reg: 0.0135 (0.0168)  time: 0.7746  data: 0.0329  max mem: 8318\n"
     ]
    },
    {
     "name": "stderr",
     "output_type": "stream",
     "text": [
      "21it [00:16,  1.27it/s]"
     ]
    },
    {
     "name": "stdout",
     "output_type": "stream",
     "text": [
      "Epoch: [4]  [ 20/262]  eta: 0:03:07  lr: 0.000500  loss: 0.0599 (0.0707)  loss_classifier: 0.0237 (0.0265)  loss_box_reg: 0.0229 (0.0261)  loss_objectness: 0.0007 (0.0012)  loss_rpn_box_reg: 0.0161 (0.0170)  time: 0.7611  data: 0.0045  max mem: 8318\n"
     ]
    },
    {
     "name": "stderr",
     "output_type": "stream",
     "text": [
      "31it [00:23,  1.38it/s]"
     ]
    },
    {
     "name": "stdout",
     "output_type": "stream",
     "text": [
      "Epoch: [4]  [ 30/262]  eta: 0:02:57  lr: 0.000500  loss: 0.0599 (0.0707)  loss_classifier: 0.0238 (0.0268)  loss_box_reg: 0.0242 (0.0274)  loss_objectness: 0.0016 (0.0016)  loss_rpn_box_reg: 0.0118 (0.0150)  time: 0.7587  data: 0.0045  max mem: 8318\n"
     ]
    },
    {
     "name": "stderr",
     "output_type": "stream",
     "text": [
      "41it [00:31,  1.25it/s]"
     ]
    },
    {
     "name": "stdout",
     "output_type": "stream",
     "text": [
      "Epoch: [4]  [ 40/262]  eta: 0:02:52  lr: 0.000500  loss: 0.0670 (0.0738)  loss_classifier: 0.0251 (0.0281)  loss_box_reg: 0.0269 (0.0276)  loss_objectness: 0.0012 (0.0015)  loss_rpn_box_reg: 0.0139 (0.0166)  time: 0.7783  data: 0.0045  max mem: 8318\n"
     ]
    },
    {
     "name": "stderr",
     "output_type": "stream",
     "text": [
      "51it [00:40,  1.19it/s]"
     ]
    },
    {
     "name": "stdout",
     "output_type": "stream",
     "text": [
      "Epoch: [4]  [ 50/262]  eta: 0:02:46  lr: 0.000500  loss: 0.0903 (0.0793)  loss_classifier: 0.0385 (0.0312)  loss_box_reg: 0.0291 (0.0295)  loss_objectness: 0.0008 (0.0015)  loss_rpn_box_reg: 0.0202 (0.0171)  time: 0.8190  data: 0.0045  max mem: 8318\n"
     ]
    },
    {
     "name": "stderr",
     "output_type": "stream",
     "text": [
      "61it [00:47,  1.22it/s]"
     ]
    },
    {
     "name": "stdout",
     "output_type": "stream",
     "text": [
      "Epoch: [4]  [ 60/262]  eta: 0:02:38  lr: 0.000500  loss: 0.0988 (0.0821)  loss_classifier: 0.0388 (0.0344)  loss_box_reg: 0.0292 (0.0302)  loss_objectness: 0.0004 (0.0013)  loss_rpn_box_reg: 0.0100 (0.0161)  time: 0.8002  data: 0.0045  max mem: 8318\n"
     ]
    },
    {
     "name": "stderr",
     "output_type": "stream",
     "text": [
      "71it [00:55,  1.25it/s]"
     ]
    },
    {
     "name": "stdout",
     "output_type": "stream",
     "text": [
      "Epoch: [4]  [ 70/262]  eta: 0:02:29  lr: 0.000500  loss: 0.0820 (0.0827)  loss_classifier: 0.0346 (0.0343)  loss_box_reg: 0.0297 (0.0314)  loss_objectness: 0.0004 (0.0012)  loss_rpn_box_reg: 0.0101 (0.0157)  time: 0.7659  data: 0.0045  max mem: 8318\n"
     ]
    },
    {
     "name": "stderr",
     "output_type": "stream",
     "text": [
      "81it [01:02,  1.44it/s]"
     ]
    },
    {
     "name": "stdout",
     "output_type": "stream",
     "text": [
      "Epoch: [4]  [ 80/262]  eta: 0:02:21  lr: 0.000500  loss: 0.0914 (0.0844)  loss_classifier: 0.0357 (0.0350)  loss_box_reg: 0.0344 (0.0318)  loss_objectness: 0.0008 (0.0012)  loss_rpn_box_reg: 0.0147 (0.0164)  time: 0.7567  data: 0.0045  max mem: 8318\n"
     ]
    },
    {
     "name": "stderr",
     "output_type": "stream",
     "text": [
      "91it [01:10,  1.25it/s]"
     ]
    },
    {
     "name": "stdout",
     "output_type": "stream",
     "text": [
      "Epoch: [4]  [ 90/262]  eta: 0:02:13  lr: 0.000500  loss: 0.0914 (0.0864)  loss_classifier: 0.0357 (0.0365)  loss_box_reg: 0.0330 (0.0324)  loss_objectness: 0.0008 (0.0012)  loss_rpn_box_reg: 0.0145 (0.0163)  time: 0.7710  data: 0.0045  max mem: 8318\n"
     ]
    },
    {
     "name": "stderr",
     "output_type": "stream",
     "text": [
      "101it [01:18,  1.32it/s]"
     ]
    },
    {
     "name": "stdout",
     "output_type": "stream",
     "text": [
      "Epoch: [4]  [100/262]  eta: 0:02:05  lr: 0.000500  loss: 0.0766 (0.0850)  loss_classifier: 0.0310 (0.0359)  loss_box_reg: 0.0302 (0.0321)  loss_objectness: 0.0008 (0.0012)  loss_rpn_box_reg: 0.0103 (0.0157)  time: 0.7564  data: 0.0044  max mem: 8318\n"
     ]
    },
    {
     "name": "stderr",
     "output_type": "stream",
     "text": [
      "111it [01:25,  1.23it/s]"
     ]
    },
    {
     "name": "stdout",
     "output_type": "stream",
     "text": [
      "Epoch: [4]  [110/262]  eta: 0:01:57  lr: 0.000500  loss: 0.0721 (0.0854)  loss_classifier: 0.0283 (0.0360)  loss_box_reg: 0.0274 (0.0321)  loss_objectness: 0.0007 (0.0012)  loss_rpn_box_reg: 0.0112 (0.0160)  time: 0.7326  data: 0.0042  max mem: 8318\n"
     ]
    },
    {
     "name": "stderr",
     "output_type": "stream",
     "text": [
      "121it [01:33,  1.33it/s]"
     ]
    },
    {
     "name": "stdout",
     "output_type": "stream",
     "text": [
      "Epoch: [4]  [120/262]  eta: 0:01:49  lr: 0.000500  loss: 0.0888 (0.0858)  loss_classifier: 0.0339 (0.0363)  loss_box_reg: 0.0294 (0.0323)  loss_objectness: 0.0008 (0.0012)  loss_rpn_box_reg: 0.0146 (0.0159)  time: 0.7483  data: 0.0042  max mem: 8318\n"
     ]
    },
    {
     "name": "stderr",
     "output_type": "stream",
     "text": [
      "131it [01:40,  1.35it/s]"
     ]
    },
    {
     "name": "stdout",
     "output_type": "stream",
     "text": [
      "Epoch: [4]  [130/262]  eta: 0:01:41  lr: 0.000500  loss: 0.0825 (0.0849)  loss_classifier: 0.0317 (0.0359)  loss_box_reg: 0.0287 (0.0321)  loss_objectness: 0.0011 (0.0013)  loss_rpn_box_reg: 0.0127 (0.0157)  time: 0.7651  data: 0.0042  max mem: 8318\n"
     ]
    },
    {
     "name": "stderr",
     "output_type": "stream",
     "text": [
      "141it [01:48,  1.45it/s]"
     ]
    },
    {
     "name": "stdout",
     "output_type": "stream",
     "text": [
      "Epoch: [4]  [140/262]  eta: 0:01:33  lr: 0.000500  loss: 0.0695 (0.0848)  loss_classifier: 0.0260 (0.0360)  loss_box_reg: 0.0269 (0.0320)  loss_objectness: 0.0013 (0.0013)  loss_rpn_box_reg: 0.0119 (0.0155)  time: 0.7694  data: 0.0042  max mem: 8318\n"
     ]
    },
    {
     "name": "stderr",
     "output_type": "stream",
     "text": [
      "151it [01:56,  1.26it/s]"
     ]
    },
    {
     "name": "stdout",
     "output_type": "stream",
     "text": [
      "Epoch: [4]  [150/262]  eta: 0:01:26  lr: 0.000500  loss: 0.0722 (0.0845)  loss_classifier: 0.0350 (0.0362)  loss_box_reg: 0.0261 (0.0317)  loss_objectness: 0.0009 (0.0013)  loss_rpn_box_reg: 0.0127 (0.0153)  time: 0.7768  data: 0.0042  max mem: 8318\n"
     ]
    },
    {
     "name": "stderr",
     "output_type": "stream",
     "text": [
      "161it [02:03,  1.47it/s]"
     ]
    },
    {
     "name": "stdout",
     "output_type": "stream",
     "text": [
      "Epoch: [4]  [160/262]  eta: 0:01:18  lr: 0.000500  loss: 0.0715 (0.0838)  loss_classifier: 0.0345 (0.0359)  loss_box_reg: 0.0255 (0.0315)  loss_objectness: 0.0004 (0.0012)  loss_rpn_box_reg: 0.0100 (0.0151)  time: 0.7356  data: 0.0042  max mem: 8318\n"
     ]
    },
    {
     "name": "stderr",
     "output_type": "stream",
     "text": [
      "171it [02:10,  1.23it/s]"
     ]
    },
    {
     "name": "stdout",
     "output_type": "stream",
     "text": [
      "Epoch: [4]  [170/262]  eta: 0:01:10  lr: 0.000500  loss: 0.0723 (0.0831)  loss_classifier: 0.0246 (0.0352)  loss_box_reg: 0.0235 (0.0312)  loss_objectness: 0.0005 (0.0013)  loss_rpn_box_reg: 0.0111 (0.0154)  time: 0.7042  data: 0.0042  max mem: 8318\n"
     ]
    },
    {
     "name": "stderr",
     "output_type": "stream",
     "text": [
      "181it [02:18,  1.32it/s]"
     ]
    },
    {
     "name": "stdout",
     "output_type": "stream",
     "text": [
      "Epoch: [4]  [180/262]  eta: 0:01:02  lr: 0.000500  loss: 0.0680 (0.0827)  loss_classifier: 0.0246 (0.0352)  loss_box_reg: 0.0253 (0.0310)  loss_objectness: 0.0008 (0.0013)  loss_rpn_box_reg: 0.0105 (0.0152)  time: 0.7460  data: 0.0042  max mem: 8318\n"
     ]
    },
    {
     "name": "stderr",
     "output_type": "stream",
     "text": [
      "191it [02:25,  1.29it/s]"
     ]
    },
    {
     "name": "stdout",
     "output_type": "stream",
     "text": [
      "Epoch: [4]  [190/262]  eta: 0:00:55  lr: 0.000500  loss: 0.0700 (0.0831)  loss_classifier: 0.0323 (0.0356)  loss_box_reg: 0.0302 (0.0312)  loss_objectness: 0.0005 (0.0012)  loss_rpn_box_reg: 0.0105 (0.0151)  time: 0.7771  data: 0.0042  max mem: 8318\n"
     ]
    },
    {
     "name": "stderr",
     "output_type": "stream",
     "text": [
      "201it [02:33,  1.41it/s]"
     ]
    },
    {
     "name": "stdout",
     "output_type": "stream",
     "text": [
      "Epoch: [4]  [200/262]  eta: 0:00:47  lr: 0.000500  loss: 0.0879 (0.0827)  loss_classifier: 0.0278 (0.0353)  loss_box_reg: 0.0305 (0.0310)  loss_objectness: 0.0005 (0.0012)  loss_rpn_box_reg: 0.0147 (0.0152)  time: 0.7528  data: 0.0042  max mem: 8318\n"
     ]
    },
    {
     "name": "stderr",
     "output_type": "stream",
     "text": [
      "211it [02:41,  1.21it/s]"
     ]
    },
    {
     "name": "stdout",
     "output_type": "stream",
     "text": [
      "Epoch: [4]  [210/262]  eta: 0:00:39  lr: 0.000500  loss: 0.0728 (0.0830)  loss_classifier: 0.0239 (0.0352)  loss_box_reg: 0.0264 (0.0309)  loss_objectness: 0.0006 (0.0013)  loss_rpn_box_reg: 0.0186 (0.0156)  time: 0.7727  data: 0.0041  max mem: 8318\n"
     ]
    },
    {
     "name": "stderr",
     "output_type": "stream",
     "text": [
      "221it [02:48,  1.30it/s]"
     ]
    },
    {
     "name": "stdout",
     "output_type": "stream",
     "text": [
      "Epoch: [4]  [220/262]  eta: 0:00:32  lr: 0.000500  loss: 0.0714 (0.0832)  loss_classifier: 0.0281 (0.0351)  loss_box_reg: 0.0263 (0.0309)  loss_objectness: 0.0010 (0.0013)  loss_rpn_box_reg: 0.0205 (0.0158)  time: 0.7841  data: 0.0042  max mem: 8318\n"
     ]
    },
    {
     "name": "stderr",
     "output_type": "stream",
     "text": [
      "231it [02:55,  1.38it/s]"
     ]
    },
    {
     "name": "stdout",
     "output_type": "stream",
     "text": [
      "Epoch: [4]  [230/262]  eta: 0:00:24  lr: 0.000500  loss: 0.0820 (0.0831)  loss_classifier: 0.0322 (0.0352)  loss_box_reg: 0.0240 (0.0309)  loss_objectness: 0.0006 (0.0013)  loss_rpn_box_reg: 0.0161 (0.0157)  time: 0.7215  data: 0.0041  max mem: 8318\n"
     ]
    },
    {
     "name": "stderr",
     "output_type": "stream",
     "text": [
      "241it [03:03,  1.19it/s]"
     ]
    },
    {
     "name": "stdout",
     "output_type": "stream",
     "text": [
      "Epoch: [4]  [240/262]  eta: 0:00:16  lr: 0.000500  loss: 0.0838 (0.0835)  loss_classifier: 0.0362 (0.0355)  loss_box_reg: 0.0294 (0.0311)  loss_objectness: 0.0006 (0.0013)  loss_rpn_box_reg: 0.0109 (0.0156)  time: 0.7420  data: 0.0042  max mem: 8318\n"
     ]
    },
    {
     "name": "stderr",
     "output_type": "stream",
     "text": [
      "251it [03:11,  1.28it/s]"
     ]
    },
    {
     "name": "stdout",
     "output_type": "stream",
     "text": [
      "Epoch: [4]  [250/262]  eta: 0:00:09  lr: 0.000500  loss: 0.0831 (0.0836)  loss_classifier: 0.0299 (0.0353)  loss_box_reg: 0.0307 (0.0311)  loss_objectness: 0.0007 (0.0013)  loss_rpn_box_reg: 0.0139 (0.0159)  time: 0.7886  data: 0.0043  max mem: 8318\n"
     ]
    },
    {
     "name": "stderr",
     "output_type": "stream",
     "text": [
      "262it [03:19,  1.80it/s]"
     ]
    },
    {
     "name": "stdout",
     "output_type": "stream",
     "text": [
      "Epoch: [4]  [260/262]  eta: 0:00:01  lr: 0.000500  loss: 0.0855 (0.0837)  loss_classifier: 0.0303 (0.0353)  loss_box_reg: 0.0307 (0.0313)  loss_objectness: 0.0005 (0.0013)  loss_rpn_box_reg: 0.0152 (0.0159)  time: 0.7734  data: 0.0044  max mem: 8318\n",
      "Epoch: [4]  [261/262]  eta: 0:00:00  lr: 0.000500  loss: 0.0825 (0.0836)  loss_classifier: 0.0256 (0.0352)  loss_box_reg: 0.0307 (0.0313)  loss_objectness: 0.0007 (0.0013)  loss_rpn_box_reg: 0.0144 (0.0158)  time: 0.7365  data: 0.0043  max mem: 8318\n"
     ]
    },
    {
     "name": "stderr",
     "output_type": "stream",
     "text": [
      "262it [03:19,  1.31it/s]\n"
     ]
    },
    {
     "name": "stdout",
     "output_type": "stream",
     "text": [
      "Epoch: [4] Total time: 0:03:19 (0.7609 s / it)\n",
      "creating index...\n",
      "index created!\n",
      "Test:  [  0/262]  eta: 0:03:06  model_time: 0.3859 (0.3859)  evaluator_time: 0.0039 (0.0039)  time: 0.7103  data: 0.2960  max mem: 8318\n",
      "Test:  [100/262]  eta: 0:00:58  model_time: 0.3264 (0.3369)  evaluator_time: 0.0024 (0.0027)  time: 0.3594  data: 0.0078  max mem: 8318\n",
      "Test:  [200/262]  eta: 0:00:21  model_time: 0.2913 (0.3336)  evaluator_time: 0.0026 (0.0027)  time: 0.3449  data: 0.0078  max mem: 8318\n",
      "Test:  [261/262]  eta: 0:00:00  model_time: 0.3148 (0.3322)  evaluator_time: 0.0024 (0.0027)  time: 0.3495  data: 0.0076  max mem: 8318\n",
      "Test: Total time: 0:01:32 (0.3531 s / it)\n",
      "Averaged stats: model_time: 0.3148 (0.3322)  evaluator_time: 0.0024 (0.0027)\n",
      "Accumulating evaluation results...\n",
      "DONE (t=0.21s).\n",
      "IoU metric: bbox\n",
      " Average Precision  (AP) @[ IoU=0.50:0.95 | area=   all | maxDets=100 ] = 0.306\n",
      " Average Precision  (AP) @[ IoU=0.50      | area=   all | maxDets=100 ] = 0.470\n",
      " Average Precision  (AP) @[ IoU=0.75      | area=   all | maxDets=100 ] = 0.324\n",
      " Average Precision  (AP) @[ IoU=0.50:0.95 | area= small | maxDets=100 ] = -1.000\n",
      " Average Precision  (AP) @[ IoU=0.50:0.95 | area=medium | maxDets=100 ] = 0.436\n",
      " Average Precision  (AP) @[ IoU=0.50:0.95 | area= large | maxDets=100 ] = 0.306\n",
      " Average Recall     (AR) @[ IoU=0.50:0.95 | area=   all | maxDets=  1 ] = 0.471\n",
      " Average Recall     (AR) @[ IoU=0.50:0.95 | area=   all | maxDets= 10 ] = 0.502\n",
      " Average Recall     (AR) @[ IoU=0.50:0.95 | area=   all | maxDets=100 ] = 0.503\n",
      " Average Recall     (AR) @[ IoU=0.50:0.95 | area= small | maxDets=100 ] = -1.000\n",
      " Average Recall     (AR) @[ IoU=0.50:0.95 | area=medium | maxDets=100 ] = 0.469\n",
      " Average Recall     (AR) @[ IoU=0.50:0.95 | area= large | maxDets=100 ] = 0.504\n"
     ]
    },
    {
     "name": "stderr",
     "output_type": "stream",
     "text": [
      "1it [00:01,  1.04s/it]"
     ]
    },
    {
     "name": "stdout",
     "output_type": "stream",
     "text": [
      "Epoch: [5]  [  0/262]  eta: 0:04:31  lr: 0.000500  loss: 0.0840 (0.0840)  loss_classifier: 0.0429 (0.0429)  loss_box_reg: 0.0336 (0.0336)  loss_objectness: 0.0007 (0.0007)  loss_rpn_box_reg: 0.0068 (0.0068)  time: 1.0371  data: 0.3629  max mem: 8318\n"
     ]
    },
    {
     "name": "stderr",
     "output_type": "stream",
     "text": [
      "11it [00:08,  1.41it/s]"
     ]
    },
    {
     "name": "stdout",
     "output_type": "stream",
     "text": [
      "Epoch: [5]  [ 10/262]  eta: 0:03:16  lr: 0.000500  loss: 0.0883 (0.0879)  loss_classifier: 0.0385 (0.0378)  loss_box_reg: 0.0336 (0.0338)  loss_objectness: 0.0007 (0.0016)  loss_rpn_box_reg: 0.0104 (0.0147)  time: 0.7784  data: 0.0356  max mem: 8318\n"
     ]
    },
    {
     "name": "stderr",
     "output_type": "stream",
     "text": [
      "21it [00:16,  1.34it/s]"
     ]
    },
    {
     "name": "stdout",
     "output_type": "stream",
     "text": [
      "Epoch: [5]  [ 20/262]  eta: 0:03:05  lr: 0.000500  loss: 0.0844 (0.0815)  loss_classifier: 0.0293 (0.0327)  loss_box_reg: 0.0262 (0.0302)  loss_objectness: 0.0011 (0.0016)  loss_rpn_box_reg: 0.0108 (0.0170)  time: 0.7519  data: 0.0035  max mem: 8318\n"
     ]
    },
    {
     "name": "stderr",
     "output_type": "stream",
     "text": [
      "31it [00:23,  1.27it/s]"
     ]
    },
    {
     "name": "stdout",
     "output_type": "stream",
     "text": [
      "Epoch: [5]  [ 30/262]  eta: 0:02:56  lr: 0.000500  loss: 0.0657 (0.0810)  loss_classifier: 0.0237 (0.0347)  loss_box_reg: 0.0240 (0.0294)  loss_objectness: 0.0007 (0.0015)  loss_rpn_box_reg: 0.0106 (0.0154)  time: 0.7537  data: 0.0044  max mem: 8318\n"
     ]
    },
    {
     "name": "stderr",
     "output_type": "stream",
     "text": [
      "41it [00:31,  1.27it/s]"
     ]
    },
    {
     "name": "stdout",
     "output_type": "stream",
     "text": [
      "Epoch: [5]  [ 40/262]  eta: 0:02:49  lr: 0.000500  loss: 0.0678 (0.0785)  loss_classifier: 0.0248 (0.0327)  loss_box_reg: 0.0263 (0.0291)  loss_objectness: 0.0006 (0.0017)  loss_rpn_box_reg: 0.0121 (0.0151)  time: 0.7619  data: 0.0044  max mem: 8318\n"
     ]
    },
    {
     "name": "stderr",
     "output_type": "stream",
     "text": [
      "51it [00:38,  1.36it/s]"
     ]
    },
    {
     "name": "stdout",
     "output_type": "stream",
     "text": [
      "Epoch: [5]  [ 50/262]  eta: 0:02:41  lr: 0.000500  loss: 0.0747 (0.0791)  loss_classifier: 0.0286 (0.0328)  loss_box_reg: 0.0296 (0.0295)  loss_objectness: 0.0005 (0.0015)  loss_rpn_box_reg: 0.0126 (0.0154)  time: 0.7590  data: 0.0042  max mem: 8318\n"
     ]
    },
    {
     "name": "stderr",
     "output_type": "stream",
     "text": [
      "61it [00:46,  1.47it/s]"
     ]
    },
    {
     "name": "stdout",
     "output_type": "stream",
     "text": [
      "Epoch: [5]  [ 60/262]  eta: 0:02:33  lr: 0.000500  loss: 0.0738 (0.0793)  loss_classifier: 0.0263 (0.0328)  loss_box_reg: 0.0304 (0.0302)  loss_objectness: 0.0009 (0.0018)  loss_rpn_box_reg: 0.0118 (0.0146)  time: 0.7455  data: 0.0042  max mem: 8318\n"
     ]
    },
    {
     "name": "stderr",
     "output_type": "stream",
     "text": [
      "71it [00:53,  1.31it/s]"
     ]
    },
    {
     "name": "stdout",
     "output_type": "stream",
     "text": [
      "Epoch: [5]  [ 70/262]  eta: 0:02:25  lr: 0.000500  loss: 0.0642 (0.0779)  loss_classifier: 0.0239 (0.0317)  loss_box_reg: 0.0273 (0.0296)  loss_objectness: 0.0011 (0.0019)  loss_rpn_box_reg: 0.0101 (0.0147)  time: 0.7471  data: 0.0043  max mem: 8318\n"
     ]
    },
    {
     "name": "stderr",
     "output_type": "stream",
     "text": [
      "81it [01:01,  1.22it/s]"
     ]
    },
    {
     "name": "stdout",
     "output_type": "stream",
     "text": [
      "Epoch: [5]  [ 80/262]  eta: 0:02:18  lr: 0.000500  loss: 0.0649 (0.0770)  loss_classifier: 0.0229 (0.0310)  loss_box_reg: 0.0252 (0.0292)  loss_objectness: 0.0006 (0.0017)  loss_rpn_box_reg: 0.0114 (0.0151)  time: 0.7642  data: 0.0045  max mem: 8318\n"
     ]
    },
    {
     "name": "stderr",
     "output_type": "stream",
     "text": [
      "91it [01:09,  1.32it/s]"
     ]
    },
    {
     "name": "stdout",
     "output_type": "stream",
     "text": [
      "Epoch: [5]  [ 90/262]  eta: 0:02:11  lr: 0.000500  loss: 0.0772 (0.0785)  loss_classifier: 0.0269 (0.0324)  loss_box_reg: 0.0272 (0.0297)  loss_objectness: 0.0005 (0.0017)  loss_rpn_box_reg: 0.0112 (0.0147)  time: 0.7882  data: 0.0045  max mem: 8318\n"
     ]
    },
    {
     "name": "stderr",
     "output_type": "stream",
     "text": [
      "101it [01:16,  1.48it/s]"
     ]
    },
    {
     "name": "stdout",
     "output_type": "stream",
     "text": [
      "Epoch: [5]  [100/262]  eta: 0:02:02  lr: 0.000500  loss: 0.0772 (0.0793)  loss_classifier: 0.0331 (0.0331)  loss_box_reg: 0.0305 (0.0298)  loss_objectness: 0.0008 (0.0017)  loss_rpn_box_reg: 0.0105 (0.0147)  time: 0.7488  data: 0.0045  max mem: 8318\n"
     ]
    },
    {
     "name": "stderr",
     "output_type": "stream",
     "text": [
      "111it [01:23,  1.41it/s]"
     ]
    },
    {
     "name": "stdout",
     "output_type": "stream",
     "text": [
      "Epoch: [5]  [110/262]  eta: 0:01:54  lr: 0.000500  loss: 0.0707 (0.0789)  loss_classifier: 0.0279 (0.0329)  loss_box_reg: 0.0262 (0.0294)  loss_objectness: 0.0011 (0.0017)  loss_rpn_box_reg: 0.0105 (0.0149)  time: 0.7002  data: 0.0045  max mem: 8318\n"
     ]
    },
    {
     "name": "stderr",
     "output_type": "stream",
     "text": [
      "121it [01:31,  1.32it/s]"
     ]
    },
    {
     "name": "stdout",
     "output_type": "stream",
     "text": [
      "Epoch: [5]  [120/262]  eta: 0:01:47  lr: 0.000500  loss: 0.0678 (0.0788)  loss_classifier: 0.0264 (0.0328)  loss_box_reg: 0.0249 (0.0294)  loss_objectness: 0.0011 (0.0018)  loss_rpn_box_reg: 0.0112 (0.0149)  time: 0.7358  data: 0.0044  max mem: 8318\n"
     ]
    },
    {
     "name": "stderr",
     "output_type": "stream",
     "text": [
      "131it [01:38,  1.45it/s]"
     ]
    },
    {
     "name": "stdout",
     "output_type": "stream",
     "text": [
      "Epoch: [5]  [130/262]  eta: 0:01:39  lr: 0.000500  loss: 0.0738 (0.0783)  loss_classifier: 0.0257 (0.0321)  loss_box_reg: 0.0260 (0.0293)  loss_objectness: 0.0010 (0.0018)  loss_rpn_box_reg: 0.0156 (0.0152)  time: 0.7532  data: 0.0043  max mem: 8318\n"
     ]
    },
    {
     "name": "stderr",
     "output_type": "stream",
     "text": [
      "141it [01:46,  1.35it/s]"
     ]
    },
    {
     "name": "stdout",
     "output_type": "stream",
     "text": [
      "Epoch: [5]  [140/262]  eta: 0:01:31  lr: 0.000500  loss: 0.0763 (0.0794)  loss_classifier: 0.0273 (0.0328)  loss_box_reg: 0.0269 (0.0295)  loss_objectness: 0.0009 (0.0018)  loss_rpn_box_reg: 0.0136 (0.0153)  time: 0.7564  data: 0.0044  max mem: 8318\n"
     ]
    },
    {
     "name": "stderr",
     "output_type": "stream",
     "text": [
      "151it [01:54,  1.22it/s]"
     ]
    },
    {
     "name": "stdout",
     "output_type": "stream",
     "text": [
      "Epoch: [5]  [150/262]  eta: 0:01:25  lr: 0.000500  loss: 0.0763 (0.0798)  loss_classifier: 0.0288 (0.0330)  loss_box_reg: 0.0259 (0.0294)  loss_objectness: 0.0008 (0.0017)  loss_rpn_box_reg: 0.0153 (0.0156)  time: 0.8019  data: 0.0044  max mem: 8318\n"
     ]
    },
    {
     "name": "stderr",
     "output_type": "stream",
     "text": [
      "161it [02:02,  1.36it/s]"
     ]
    },
    {
     "name": "stdout",
     "output_type": "stream",
     "text": [
      "Epoch: [5]  [160/262]  eta: 0:01:17  lr: 0.000500  loss: 0.0702 (0.0794)  loss_classifier: 0.0264 (0.0326)  loss_box_reg: 0.0250 (0.0292)  loss_objectness: 0.0008 (0.0018)  loss_rpn_box_reg: 0.0182 (0.0158)  time: 0.7945  data: 0.0042  max mem: 8318\n"
     ]
    },
    {
     "name": "stderr",
     "output_type": "stream",
     "text": [
      "171it [02:10,  1.35it/s]"
     ]
    },
    {
     "name": "stdout",
     "output_type": "stream",
     "text": [
      "Epoch: [5]  [170/262]  eta: 0:01:09  lr: 0.000500  loss: 0.0805 (0.0802)  loss_classifier: 0.0278 (0.0333)  loss_box_reg: 0.0263 (0.0292)  loss_objectness: 0.0008 (0.0018)  loss_rpn_box_reg: 0.0153 (0.0159)  time: 0.7689  data: 0.0042  max mem: 8318\n"
     ]
    },
    {
     "name": "stderr",
     "output_type": "stream",
     "text": [
      "181it [02:17,  1.27it/s]"
     ]
    },
    {
     "name": "stdout",
     "output_type": "stream",
     "text": [
      "Epoch: [5]  [180/262]  eta: 0:01:02  lr: 0.000500  loss: 0.0838 (0.0802)  loss_classifier: 0.0269 (0.0331)  loss_box_reg: 0.0292 (0.0293)  loss_objectness: 0.0011 (0.0018)  loss_rpn_box_reg: 0.0155 (0.0161)  time: 0.7645  data: 0.0043  max mem: 8318\n"
     ]
    },
    {
     "name": "stderr",
     "output_type": "stream",
     "text": [
      "191it [02:24,  1.42it/s]"
     ]
    },
    {
     "name": "stdout",
     "output_type": "stream",
     "text": [
      "Epoch: [5]  [190/262]  eta: 0:00:54  lr: 0.000500  loss: 0.0848 (0.0808)  loss_classifier: 0.0308 (0.0338)  loss_box_reg: 0.0281 (0.0296)  loss_objectness: 0.0013 (0.0018)  loss_rpn_box_reg: 0.0132 (0.0157)  time: 0.7447  data: 0.0044  max mem: 8318\n"
     ]
    },
    {
     "name": "stderr",
     "output_type": "stream",
     "text": [
      "201it [02:31,  1.43it/s]"
     ]
    },
    {
     "name": "stdout",
     "output_type": "stream",
     "text": [
      "Epoch: [5]  [200/262]  eta: 0:00:46  lr: 0.000500  loss: 0.0831 (0.0807)  loss_classifier: 0.0421 (0.0339)  loss_box_reg: 0.0274 (0.0294)  loss_objectness: 0.0007 (0.0017)  loss_rpn_box_reg: 0.0099 (0.0156)  time: 0.7234  data: 0.0043  max mem: 8318\n"
     ]
    },
    {
     "name": "stderr",
     "output_type": "stream",
     "text": [
      "211it [02:40,  1.20it/s]"
     ]
    },
    {
     "name": "stdout",
     "output_type": "stream",
     "text": [
      "Epoch: [5]  [210/262]  eta: 0:00:39  lr: 0.000500  loss: 0.0831 (0.0810)  loss_classifier: 0.0350 (0.0340)  loss_box_reg: 0.0262 (0.0297)  loss_objectness: 0.0009 (0.0017)  loss_rpn_box_reg: 0.0134 (0.0157)  time: 0.7577  data: 0.0043  max mem: 8318\n"
     ]
    },
    {
     "name": "stderr",
     "output_type": "stream",
     "text": [
      "221it [02:47,  1.39it/s]"
     ]
    },
    {
     "name": "stdout",
     "output_type": "stream",
     "text": [
      "Epoch: [5]  [220/262]  eta: 0:00:31  lr: 0.000500  loss: 0.0851 (0.0814)  loss_classifier: 0.0312 (0.0340)  loss_box_reg: 0.0305 (0.0298)  loss_objectness: 0.0010 (0.0017)  loss_rpn_box_reg: 0.0169 (0.0159)  time: 0.7729  data: 0.0043  max mem: 8318\n"
     ]
    },
    {
     "name": "stderr",
     "output_type": "stream",
     "text": [
      "231it [02:54,  1.41it/s]"
     ]
    },
    {
     "name": "stdout",
     "output_type": "stream",
     "text": [
      "Epoch: [5]  [230/262]  eta: 0:00:24  lr: 0.000500  loss: 0.0764 (0.0822)  loss_classifier: 0.0282 (0.0345)  loss_box_reg: 0.0290 (0.0303)  loss_objectness: 0.0010 (0.0017)  loss_rpn_box_reg: 0.0149 (0.0158)  time: 0.7216  data: 0.0042  max mem: 8318\n"
     ]
    },
    {
     "name": "stderr",
     "output_type": "stream",
     "text": [
      "241it [03:02,  1.23it/s]"
     ]
    },
    {
     "name": "stdout",
     "output_type": "stream",
     "text": [
      "Epoch: [5]  [240/262]  eta: 0:00:16  lr: 0.000500  loss: 0.0716 (0.0822)  loss_classifier: 0.0270 (0.0347)  loss_box_reg: 0.0264 (0.0303)  loss_objectness: 0.0007 (0.0016)  loss_rpn_box_reg: 0.0124 (0.0156)  time: 0.7359  data: 0.0042  max mem: 8318\n"
     ]
    },
    {
     "name": "stderr",
     "output_type": "stream",
     "text": [
      "251it [03:11,  1.12it/s]"
     ]
    },
    {
     "name": "stdout",
     "output_type": "stream",
     "text": [
      "Epoch: [5]  [250/262]  eta: 0:00:09  lr: 0.000500  loss: 0.0808 (0.0823)  loss_classifier: 0.0270 (0.0346)  loss_box_reg: 0.0279 (0.0303)  loss_objectness: 0.0004 (0.0016)  loss_rpn_box_reg: 0.0120 (0.0157)  time: 0.8276  data: 0.0044  max mem: 8318\n"
     ]
    },
    {
     "name": "stderr",
     "output_type": "stream",
     "text": [
      "262it [03:19,  1.60it/s]"
     ]
    },
    {
     "name": "stdout",
     "output_type": "stream",
     "text": [
      "Epoch: [5]  [260/262]  eta: 0:00:01  lr: 0.000500  loss: 0.0808 (0.0821)  loss_classifier: 0.0242 (0.0345)  loss_box_reg: 0.0267 (0.0303)  loss_objectness: 0.0005 (0.0016)  loss_rpn_box_reg: 0.0133 (0.0157)  time: 0.8416  data: 0.0045  max mem: 8318\n",
      "Epoch: [5]  [261/262]  eta: 0:00:00  lr: 0.000500  loss: 0.0714 (0.0819)  loss_classifier: 0.0233 (0.0344)  loss_box_reg: 0.0259 (0.0303)  loss_objectness: 0.0005 (0.0016)  loss_rpn_box_reg: 0.0134 (0.0157)  time: 0.8047  data: 0.0044  max mem: 8318\n"
     ]
    },
    {
     "name": "stderr",
     "output_type": "stream",
     "text": [
      "262it [03:19,  1.32it/s]\n"
     ]
    },
    {
     "name": "stdout",
     "output_type": "stream",
     "text": [
      "Epoch: [5] Total time: 0:03:19 (0.7604 s / it)\n",
      "creating index...\n",
      "index created!\n",
      "Test:  [  0/262]  eta: 0:02:55  model_time: 0.3272 (0.3272)  evaluator_time: 0.0034 (0.0034)  time: 0.6696  data: 0.3073  max mem: 8318\n",
      "Test:  [100/262]  eta: 0:00:59  model_time: 0.2990 (0.3469)  evaluator_time: 0.0028 (0.0029)  time: 0.3432  data: 0.0082  max mem: 8318\n",
      "Test:  [200/262]  eta: 0:00:22  model_time: 0.2983 (0.3437)  evaluator_time: 0.0026 (0.0032)  time: 0.3407  data: 0.0079  max mem: 8318\n",
      "Test:  [261/262]  eta: 0:00:00  model_time: 0.2995 (0.3440)  evaluator_time: 0.0027 (0.0031)  time: 0.3448  data: 0.0081  max mem: 8318\n",
      "Test: Total time: 0:01:35 (0.3653 s / it)\n",
      "Averaged stats: model_time: 0.2995 (0.3440)  evaluator_time: 0.0027 (0.0031)\n",
      "Accumulating evaluation results...\n",
      "DONE (t=0.22s).\n",
      "IoU metric: bbox\n",
      " Average Precision  (AP) @[ IoU=0.50:0.95 | area=   all | maxDets=100 ] = 0.328\n",
      " Average Precision  (AP) @[ IoU=0.50      | area=   all | maxDets=100 ] = 0.505\n",
      " Average Precision  (AP) @[ IoU=0.75      | area=   all | maxDets=100 ] = 0.346\n",
      " Average Precision  (AP) @[ IoU=0.50:0.95 | area= small | maxDets=100 ] = -1.000\n",
      " Average Precision  (AP) @[ IoU=0.50:0.95 | area=medium | maxDets=100 ] = 0.625\n",
      " Average Precision  (AP) @[ IoU=0.50:0.95 | area= large | maxDets=100 ] = 0.327\n",
      " Average Recall     (AR) @[ IoU=0.50:0.95 | area=   all | maxDets=  1 ] = 0.488\n",
      " Average Recall     (AR) @[ IoU=0.50:0.95 | area=   all | maxDets= 10 ] = 0.521\n",
      " Average Recall     (AR) @[ IoU=0.50:0.95 | area=   all | maxDets=100 ] = 0.521\n",
      " Average Recall     (AR) @[ IoU=0.50:0.95 | area= small | maxDets=100 ] = -1.000\n",
      " Average Recall     (AR) @[ IoU=0.50:0.95 | area=medium | maxDets=100 ] = 0.625\n",
      " Average Recall     (AR) @[ IoU=0.50:0.95 | area= large | maxDets=100 ] = 0.521\n"
     ]
    },
    {
     "name": "stderr",
     "output_type": "stream",
     "text": [
      "1it [00:01,  1.05s/it]"
     ]
    },
    {
     "name": "stdout",
     "output_type": "stream",
     "text": [
      "Epoch: [6]  [  0/262]  eta: 0:04:36  lr: 0.000050  loss: 0.0706 (0.0706)  loss_classifier: 0.0413 (0.0413)  loss_box_reg: 0.0188 (0.0188)  loss_objectness: 0.0001 (0.0001)  loss_rpn_box_reg: 0.0104 (0.0104)  time: 1.0537  data: 0.3575  max mem: 8318\n"
     ]
    },
    {
     "name": "stderr",
     "output_type": "stream",
     "text": [
      "11it [00:09,  1.26it/s]"
     ]
    },
    {
     "name": "stdout",
     "output_type": "stream",
     "text": [
      "Epoch: [6]  [ 10/262]  eta: 0:03:32  lr: 0.000050  loss: 0.0706 (0.0701)  loss_classifier: 0.0281 (0.0291)  loss_box_reg: 0.0237 (0.0256)  loss_objectness: 0.0006 (0.0010)  loss_rpn_box_reg: 0.0118 (0.0144)  time: 0.8421  data: 0.0355  max mem: 8318\n"
     ]
    },
    {
     "name": "stderr",
     "output_type": "stream",
     "text": [
      "21it [00:17,  1.16it/s]"
     ]
    },
    {
     "name": "stdout",
     "output_type": "stream",
     "text": [
      "Epoch: [6]  [ 20/262]  eta: 0:03:21  lr: 0.000050  loss: 0.0682 (0.0717)  loss_classifier: 0.0186 (0.0255)  loss_box_reg: 0.0248 (0.0272)  loss_objectness: 0.0006 (0.0010)  loss_rpn_box_reg: 0.0135 (0.0180)  time: 0.8210  data: 0.0039  max mem: 8318\n"
     ]
    },
    {
     "name": "stderr",
     "output_type": "stream",
     "text": [
      "31it [00:25,  1.17it/s]"
     ]
    },
    {
     "name": "stdout",
     "output_type": "stream",
     "text": [
      "Epoch: [6]  [ 30/262]  eta: 0:03:12  lr: 0.000050  loss: 0.0695 (0.0718)  loss_classifier: 0.0186 (0.0259)  loss_box_reg: 0.0250 (0.0264)  loss_objectness: 0.0006 (0.0011)  loss_rpn_box_reg: 0.0189 (0.0183)  time: 0.8206  data: 0.0045  max mem: 8318\n"
     ]
    },
    {
     "name": "stderr",
     "output_type": "stream",
     "text": [
      "41it [00:33,  1.28it/s]"
     ]
    },
    {
     "name": "stdout",
     "output_type": "stream",
     "text": [
      "Epoch: [6]  [ 40/262]  eta: 0:03:03  lr: 0.000050  loss: 0.0695 (0.0744)  loss_classifier: 0.0280 (0.0284)  loss_box_reg: 0.0257 (0.0272)  loss_objectness: 0.0008 (0.0012)  loss_rpn_box_reg: 0.0134 (0.0176)  time: 0.8183  data: 0.0046  max mem: 8318\n"
     ]
    },
    {
     "name": "stderr",
     "output_type": "stream",
     "text": [
      "51it [00:41,  1.33it/s]"
     ]
    },
    {
     "name": "stdout",
     "output_type": "stream",
     "text": [
      "Epoch: [6]  [ 50/262]  eta: 0:02:53  lr: 0.000050  loss: 0.0755 (0.0758)  loss_classifier: 0.0320 (0.0305)  loss_box_reg: 0.0270 (0.0283)  loss_objectness: 0.0009 (0.0012)  loss_rpn_box_reg: 0.0094 (0.0159)  time: 0.8080  data: 0.0046  max mem: 8318\n"
     ]
    },
    {
     "name": "stderr",
     "output_type": "stream",
     "text": [
      "61it [00:49,  1.12it/s]"
     ]
    },
    {
     "name": "stdout",
     "output_type": "stream",
     "text": [
      "Epoch: [6]  [ 60/262]  eta: 0:02:45  lr: 0.000050  loss: 0.0771 (0.0774)  loss_classifier: 0.0320 (0.0305)  loss_box_reg: 0.0298 (0.0296)  loss_objectness: 0.0009 (0.0013)  loss_rpn_box_reg: 0.0104 (0.0159)  time: 0.8064  data: 0.0047  max mem: 8318\n"
     ]
    },
    {
     "name": "stderr",
     "output_type": "stream",
     "text": [
      "71it [00:57,  1.28it/s]"
     ]
    },
    {
     "name": "stdout",
     "output_type": "stream",
     "text": [
      "Epoch: [6]  [ 70/262]  eta: 0:02:36  lr: 0.000050  loss: 0.0636 (0.0756)  loss_classifier: 0.0201 (0.0299)  loss_box_reg: 0.0229 (0.0285)  loss_objectness: 0.0006 (0.0013)  loss_rpn_box_reg: 0.0127 (0.0160)  time: 0.7932  data: 0.0047  max mem: 8318\n"
     ]
    },
    {
     "name": "stderr",
     "output_type": "stream",
     "text": [
      "81it [01:06,  1.20it/s]"
     ]
    },
    {
     "name": "stdout",
     "output_type": "stream",
     "text": [
      "Epoch: [6]  [ 80/262]  eta: 0:02:28  lr: 0.000050  loss: 0.0675 (0.0767)  loss_classifier: 0.0259 (0.0307)  loss_box_reg: 0.0221 (0.0282)  loss_objectness: 0.0004 (0.0013)  loss_rpn_box_reg: 0.0177 (0.0166)  time: 0.8071  data: 0.0047  max mem: 8318\n"
     ]
    },
    {
     "name": "stderr",
     "output_type": "stream",
     "text": [
      "91it [01:13,  1.36it/s]"
     ]
    },
    {
     "name": "stdout",
     "output_type": "stream",
     "text": [
      "Epoch: [6]  [ 90/262]  eta: 0:02:19  lr: 0.000050  loss: 0.0791 (0.0767)  loss_classifier: 0.0333 (0.0307)  loss_box_reg: 0.0259 (0.0282)  loss_objectness: 0.0005 (0.0013)  loss_rpn_box_reg: 0.0177 (0.0166)  time: 0.8032  data: 0.0047  max mem: 8318\n"
     ]
    },
    {
     "name": "stderr",
     "output_type": "stream",
     "text": [
      "101it [01:21,  1.20it/s]"
     ]
    },
    {
     "name": "stdout",
     "output_type": "stream",
     "text": [
      "Epoch: [6]  [100/262]  eta: 0:02:10  lr: 0.000050  loss: 0.0787 (0.0770)  loss_classifier: 0.0333 (0.0314)  loss_box_reg: 0.0243 (0.0280)  loss_objectness: 0.0006 (0.0013)  loss_rpn_box_reg: 0.0132 (0.0163)  time: 0.7752  data: 0.0046  max mem: 8318\n"
     ]
    },
    {
     "name": "stderr",
     "output_type": "stream",
     "text": [
      "111it [01:28,  1.42it/s]"
     ]
    },
    {
     "name": "stdout",
     "output_type": "stream",
     "text": [
      "Epoch: [6]  [110/262]  eta: 0:02:01  lr: 0.000050  loss: 0.0743 (0.0771)  loss_classifier: 0.0356 (0.0321)  loss_box_reg: 0.0247 (0.0278)  loss_objectness: 0.0006 (0.0013)  loss_rpn_box_reg: 0.0132 (0.0160)  time: 0.7607  data: 0.0046  max mem: 8318\n"
     ]
    },
    {
     "name": "stderr",
     "output_type": "stream",
     "text": [
      "121it [01:36,  1.33it/s]"
     ]
    },
    {
     "name": "stdout",
     "output_type": "stream",
     "text": [
      "Epoch: [6]  [120/262]  eta: 0:01:53  lr: 0.000050  loss: 0.0765 (0.0780)  loss_classifier: 0.0277 (0.0324)  loss_box_reg: 0.0271 (0.0283)  loss_objectness: 0.0005 (0.0013)  loss_rpn_box_reg: 0.0143 (0.0159)  time: 0.7561  data: 0.0047  max mem: 8318\n"
     ]
    },
    {
     "name": "stderr",
     "output_type": "stream",
     "text": [
      "131it [01:44,  1.24it/s]"
     ]
    },
    {
     "name": "stdout",
     "output_type": "stream",
     "text": [
      "Epoch: [6]  [130/262]  eta: 0:01:45  lr: 0.000050  loss: 0.0671 (0.0779)  loss_classifier: 0.0263 (0.0321)  loss_box_reg: 0.0273 (0.0285)  loss_objectness: 0.0006 (0.0013)  loss_rpn_box_reg: 0.0170 (0.0161)  time: 0.7896  data: 0.0047  max mem: 8318\n"
     ]
    },
    {
     "name": "stderr",
     "output_type": "stream",
     "text": [
      "141it [01:52,  1.42it/s]"
     ]
    },
    {
     "name": "stdout",
     "output_type": "stream",
     "text": [
      "Epoch: [6]  [140/262]  eta: 0:01:37  lr: 0.000050  loss: 0.0671 (0.0776)  loss_classifier: 0.0246 (0.0317)  loss_box_reg: 0.0262 (0.0286)  loss_objectness: 0.0006 (0.0014)  loss_rpn_box_reg: 0.0134 (0.0159)  time: 0.7690  data: 0.0044  max mem: 8318\n"
     ]
    },
    {
     "name": "stderr",
     "output_type": "stream",
     "text": [
      "151it [01:59,  1.42it/s]"
     ]
    },
    {
     "name": "stdout",
     "output_type": "stream",
     "text": [
      "Epoch: [6]  [150/262]  eta: 0:01:28  lr: 0.000050  loss: 0.0699 (0.0776)  loss_classifier: 0.0281 (0.0318)  loss_box_reg: 0.0278 (0.0288)  loss_objectness: 0.0010 (0.0013)  loss_rpn_box_reg: 0.0101 (0.0158)  time: 0.7420  data: 0.0044  max mem: 8318\n"
     ]
    },
    {
     "name": "stderr",
     "output_type": "stream",
     "text": [
      "161it [02:07,  1.29it/s]"
     ]
    },
    {
     "name": "stdout",
     "output_type": "stream",
     "text": [
      "Epoch: [6]  [160/262]  eta: 0:01:20  lr: 0.000050  loss: 0.0673 (0.0770)  loss_classifier: 0.0292 (0.0314)  loss_box_reg: 0.0252 (0.0285)  loss_objectness: 0.0006 (0.0013)  loss_rpn_box_reg: 0.0134 (0.0157)  time: 0.7722  data: 0.0045  max mem: 8318\n"
     ]
    },
    {
     "name": "stderr",
     "output_type": "stream",
     "text": [
      "171it [02:15,  1.21it/s]"
     ]
    },
    {
     "name": "stdout",
     "output_type": "stream",
     "text": [
      "Epoch: [6]  [170/262]  eta: 0:01:12  lr: 0.000050  loss: 0.0673 (0.0773)  loss_classifier: 0.0287 (0.0318)  loss_box_reg: 0.0256 (0.0286)  loss_objectness: 0.0007 (0.0013)  loss_rpn_box_reg: 0.0143 (0.0156)  time: 0.7842  data: 0.0048  max mem: 8318\n"
     ]
    },
    {
     "name": "stderr",
     "output_type": "stream",
     "text": [
      "181it [02:23,  1.22it/s]"
     ]
    },
    {
     "name": "stdout",
     "output_type": "stream",
     "text": [
      "Epoch: [6]  [180/262]  eta: 0:01:05  lr: 0.000050  loss: 0.0680 (0.0774)  loss_classifier: 0.0287 (0.0318)  loss_box_reg: 0.0276 (0.0287)  loss_objectness: 0.0007 (0.0013)  loss_rpn_box_reg: 0.0128 (0.0156)  time: 0.8002  data: 0.0047  max mem: 8318\n"
     ]
    },
    {
     "name": "stderr",
     "output_type": "stream",
     "text": [
      "191it [02:31,  1.36it/s]"
     ]
    },
    {
     "name": "stdout",
     "output_type": "stream",
     "text": [
      "Epoch: [6]  [190/262]  eta: 0:00:57  lr: 0.000050  loss: 0.0721 (0.0780)  loss_classifier: 0.0251 (0.0323)  loss_box_reg: 0.0306 (0.0290)  loss_objectness: 0.0007 (0.0013)  loss_rpn_box_reg: 0.0110 (0.0153)  time: 0.7973  data: 0.0045  max mem: 8318\n"
     ]
    },
    {
     "name": "stderr",
     "output_type": "stream",
     "text": [
      "201it [02:39,  1.27it/s]"
     ]
    },
    {
     "name": "stdout",
     "output_type": "stream",
     "text": [
      "Epoch: [6]  [200/262]  eta: 0:00:49  lr: 0.000050  loss: 0.0809 (0.0789)  loss_classifier: 0.0361 (0.0328)  loss_box_reg: 0.0328 (0.0293)  loss_objectness: 0.0008 (0.0014)  loss_rpn_box_reg: 0.0110 (0.0153)  time: 0.7959  data: 0.0044  max mem: 8318\n"
     ]
    },
    {
     "name": "stderr",
     "output_type": "stream",
     "text": [
      "211it [02:46,  1.38it/s]"
     ]
    },
    {
     "name": "stdout",
     "output_type": "stream",
     "text": [
      "Epoch: [6]  [210/262]  eta: 0:00:41  lr: 0.000050  loss: 0.0809 (0.0786)  loss_classifier: 0.0338 (0.0325)  loss_box_reg: 0.0292 (0.0293)  loss_objectness: 0.0008 (0.0014)  loss_rpn_box_reg: 0.0135 (0.0154)  time: 0.7714  data: 0.0045  max mem: 8318\n"
     ]
    },
    {
     "name": "stderr",
     "output_type": "stream",
     "text": [
      "221it [02:53,  1.51it/s]"
     ]
    },
    {
     "name": "stdout",
     "output_type": "stream",
     "text": [
      "Epoch: [6]  [220/262]  eta: 0:00:33  lr: 0.000050  loss: 0.0726 (0.0788)  loss_classifier: 0.0269 (0.0327)  loss_box_reg: 0.0270 (0.0292)  loss_objectness: 0.0010 (0.0014)  loss_rpn_box_reg: 0.0135 (0.0154)  time: 0.7099  data: 0.0045  max mem: 8318\n"
     ]
    },
    {
     "name": "stderr",
     "output_type": "stream",
     "text": [
      "231it [03:00,  1.39it/s]"
     ]
    },
    {
     "name": "stdout",
     "output_type": "stream",
     "text": [
      "Epoch: [6]  [230/262]  eta: 0:00:25  lr: 0.000050  loss: 0.0713 (0.0789)  loss_classifier: 0.0245 (0.0326)  loss_box_reg: 0.0257 (0.0293)  loss_objectness: 0.0010 (0.0015)  loss_rpn_box_reg: 0.0165 (0.0156)  time: 0.7039  data: 0.0045  max mem: 8318\n"
     ]
    },
    {
     "name": "stderr",
     "output_type": "stream",
     "text": [
      "241it [03:08,  1.25it/s]"
     ]
    },
    {
     "name": "stdout",
     "output_type": "stream",
     "text": [
      "Epoch: [6]  [240/262]  eta: 0:00:17  lr: 0.000050  loss: 0.0689 (0.0786)  loss_classifier: 0.0243 (0.0326)  loss_box_reg: 0.0230 (0.0291)  loss_objectness: 0.0009 (0.0015)  loss_rpn_box_reg: 0.0124 (0.0154)  time: 0.7343  data: 0.0046  max mem: 8318\n"
     ]
    },
    {
     "name": "stderr",
     "output_type": "stream",
     "text": [
      "251it [03:16,  1.28it/s]"
     ]
    },
    {
     "name": "stdout",
     "output_type": "stream",
     "text": [
      "Epoch: [6]  [250/262]  eta: 0:00:09  lr: 0.000050  loss: 0.0669 (0.0788)  loss_classifier: 0.0285 (0.0329)  loss_box_reg: 0.0259 (0.0292)  loss_objectness: 0.0004 (0.0014)  loss_rpn_box_reg: 0.0096 (0.0154)  time: 0.7919  data: 0.0047  max mem: 8318\n"
     ]
    },
    {
     "name": "stderr",
     "output_type": "stream",
     "text": [
      "262it [03:24,  1.28it/s]\n"
     ]
    },
    {
     "name": "stdout",
     "output_type": "stream",
     "text": [
      "Epoch: [6]  [260/262]  eta: 0:00:01  lr: 0.000050  loss: 0.0725 (0.0789)  loss_classifier: 0.0311 (0.0329)  loss_box_reg: 0.0297 (0.0293)  loss_objectness: 0.0005 (0.0014)  loss_rpn_box_reg: 0.0116 (0.0153)  time: 0.7836  data: 0.0050  max mem: 8318\n",
      "Epoch: [6]  [261/262]  eta: 0:00:00  lr: 0.000050  loss: 0.0741 (0.0793)  loss_classifier: 0.0313 (0.0333)  loss_box_reg: 0.0297 (0.0293)  loss_objectness: 0.0005 (0.0014)  loss_rpn_box_reg: 0.0116 (0.0153)  time: 0.7562  data: 0.0049  max mem: 8318\n",
      "Epoch: [6] Total time: 0:03:24 (0.7796 s / it)\n",
      "creating index...\n",
      "index created!\n",
      "Test:  [  0/262]  eta: 0:03:20  model_time: 0.4231 (0.4231)  evaluator_time: 0.0037 (0.0037)  time: 0.7671  data: 0.3140  max mem: 8318\n",
      "Test:  [100/262]  eta: 0:00:58  model_time: 0.3093 (0.3402)  evaluator_time: 0.0024 (0.0027)  time: 0.3649  data: 0.0076  max mem: 8318\n",
      "Test:  [200/262]  eta: 0:00:22  model_time: 0.3256 (0.3486)  evaluator_time: 0.0029 (0.0028)  time: 0.3796  data: 0.0081  max mem: 8318\n",
      "Test:  [261/262]  eta: 0:00:00  model_time: 0.3231 (0.3502)  evaluator_time: 0.0028 (0.0028)  time: 0.3640  data: 0.0080  max mem: 8318\n",
      "Test: Total time: 0:01:37 (0.3715 s / it)\n",
      "Averaged stats: model_time: 0.3231 (0.3502)  evaluator_time: 0.0028 (0.0028)\n",
      "Accumulating evaluation results...\n",
      "DONE (t=0.22s).\n",
      "IoU metric: bbox\n",
      " Average Precision  (AP) @[ IoU=0.50:0.95 | area=   all | maxDets=100 ] = 0.318\n",
      " Average Precision  (AP) @[ IoU=0.50      | area=   all | maxDets=100 ] = 0.485\n",
      " Average Precision  (AP) @[ IoU=0.75      | area=   all | maxDets=100 ] = 0.329\n",
      " Average Precision  (AP) @[ IoU=0.50:0.95 | area= small | maxDets=100 ] = -1.000\n",
      " Average Precision  (AP) @[ IoU=0.50:0.95 | area=medium | maxDets=100 ] = 0.410\n",
      " Average Precision  (AP) @[ IoU=0.50:0.95 | area= large | maxDets=100 ] = 0.320\n",
      " Average Recall     (AR) @[ IoU=0.50:0.95 | area=   all | maxDets=  1 ] = 0.469\n",
      " Average Recall     (AR) @[ IoU=0.50:0.95 | area=   all | maxDets= 10 ] = 0.500\n",
      " Average Recall     (AR) @[ IoU=0.50:0.95 | area=   all | maxDets=100 ] = 0.502\n",
      " Average Recall     (AR) @[ IoU=0.50:0.95 | area= small | maxDets=100 ] = -1.000\n",
      " Average Recall     (AR) @[ IoU=0.50:0.95 | area=medium | maxDets=100 ] = 0.438\n",
      " Average Recall     (AR) @[ IoU=0.50:0.95 | area= large | maxDets=100 ] = 0.503\n"
     ]
    },
    {
     "name": "stderr",
     "output_type": "stream",
     "text": [
      "1it [00:01,  1.09s/it]"
     ]
    },
    {
     "name": "stdout",
     "output_type": "stream",
     "text": [
      "Epoch: [7]  [  0/262]  eta: 0:04:45  lr: 0.000050  loss: 0.1037 (0.1037)  loss_classifier: 0.0540 (0.0540)  loss_box_reg: 0.0419 (0.0419)  loss_objectness: 0.0049 (0.0049)  loss_rpn_box_reg: 0.0029 (0.0029)  time: 1.0890  data: 0.3479  max mem: 8318\n"
     ]
    },
    {
     "name": "stderr",
     "output_type": "stream",
     "text": [
      "11it [00:09,  1.17it/s]"
     ]
    },
    {
     "name": "stdout",
     "output_type": "stream",
     "text": [
      "Epoch: [7]  [ 10/262]  eta: 0:03:29  lr: 0.000050  loss: 0.0715 (0.0711)  loss_classifier: 0.0241 (0.0270)  loss_box_reg: 0.0276 (0.0262)  loss_objectness: 0.0015 (0.0022)  loss_rpn_box_reg: 0.0146 (0.0157)  time: 0.8296  data: 0.0348  max mem: 8318\n"
     ]
    },
    {
     "name": "stderr",
     "output_type": "stream",
     "text": [
      "21it [00:17,  1.21it/s]"
     ]
    },
    {
     "name": "stdout",
     "output_type": "stream",
     "text": [
      "Epoch: [7]  [ 20/262]  eta: 0:03:17  lr: 0.000050  loss: 0.0715 (0.0753)  loss_classifier: 0.0244 (0.0312)  loss_box_reg: 0.0269 (0.0272)  loss_objectness: 0.0007 (0.0015)  loss_rpn_box_reg: 0.0146 (0.0155)  time: 0.8027  data: 0.0041  max mem: 8318\n"
     ]
    },
    {
     "name": "stderr",
     "output_type": "stream",
     "text": [
      "31it [00:26,  1.16it/s]"
     ]
    },
    {
     "name": "stdout",
     "output_type": "stream",
     "text": [
      "Epoch: [7]  [ 30/262]  eta: 0:03:16  lr: 0.000050  loss: 0.0777 (0.0759)  loss_classifier: 0.0295 (0.0306)  loss_box_reg: 0.0235 (0.0265)  loss_objectness: 0.0004 (0.0012)  loss_rpn_box_reg: 0.0182 (0.0176)  time: 0.8553  data: 0.0045  max mem: 8318\n"
     ]
    },
    {
     "name": "stderr",
     "output_type": "stream",
     "text": [
      "41it [00:33,  1.31it/s]"
     ]
    },
    {
     "name": "stdout",
     "output_type": "stream",
     "text": [
      "Epoch: [7]  [ 40/262]  eta: 0:03:03  lr: 0.000050  loss: 0.0777 (0.0799)  loss_classifier: 0.0304 (0.0323)  loss_box_reg: 0.0236 (0.0292)  loss_objectness: 0.0007 (0.0012)  loss_rpn_box_reg: 0.0172 (0.0172)  time: 0.8365  data: 0.0046  max mem: 8318\n"
     ]
    },
    {
     "name": "stderr",
     "output_type": "stream",
     "text": [
      "51it [00:42,  1.18it/s]"
     ]
    },
    {
     "name": "stdout",
     "output_type": "stream",
     "text": [
      "Epoch: [7]  [ 50/262]  eta: 0:02:56  lr: 0.000050  loss: 0.0660 (0.0797)  loss_classifier: 0.0256 (0.0331)  loss_box_reg: 0.0267 (0.0296)  loss_objectness: 0.0008 (0.0011)  loss_rpn_box_reg: 0.0109 (0.0159)  time: 0.8095  data: 0.0048  max mem: 8318\n"
     ]
    },
    {
     "name": "stderr",
     "output_type": "stream",
     "text": [
      "61it [00:50,  1.21it/s]"
     ]
    },
    {
     "name": "stdout",
     "output_type": "stream",
     "text": [
      "Epoch: [7]  [ 60/262]  eta: 0:02:47  lr: 0.000050  loss: 0.0737 (0.0798)  loss_classifier: 0.0255 (0.0328)  loss_box_reg: 0.0238 (0.0286)  loss_objectness: 0.0006 (0.0011)  loss_rpn_box_reg: 0.0140 (0.0173)  time: 0.8323  data: 0.0047  max mem: 8318\n"
     ]
    },
    {
     "name": "stderr",
     "output_type": "stream",
     "text": [
      "71it [00:57,  1.42it/s]"
     ]
    },
    {
     "name": "stdout",
     "output_type": "stream",
     "text": [
      "Epoch: [7]  [ 70/262]  eta: 0:02:36  lr: 0.000050  loss: 0.0737 (0.0784)  loss_classifier: 0.0255 (0.0322)  loss_box_reg: 0.0238 (0.0288)  loss_objectness: 0.0006 (0.0010)  loss_rpn_box_reg: 0.0145 (0.0163)  time: 0.7662  data: 0.0044  max mem: 8318\n"
     ]
    },
    {
     "name": "stderr",
     "output_type": "stream",
     "text": [
      "81it [01:05,  1.29it/s]"
     ]
    },
    {
     "name": "stdout",
     "output_type": "stream",
     "text": [
      "Epoch: [7]  [ 80/262]  eta: 0:02:27  lr: 0.000050  loss: 0.0666 (0.0793)  loss_classifier: 0.0242 (0.0332)  loss_box_reg: 0.0286 (0.0294)  loss_objectness: 0.0006 (0.0011)  loss_rpn_box_reg: 0.0081 (0.0156)  time: 0.7482  data: 0.0043  max mem: 8318\n"
     ]
    },
    {
     "name": "stderr",
     "output_type": "stream",
     "text": [
      "91it [01:13,  1.34it/s]"
     ]
    },
    {
     "name": "stdout",
     "output_type": "stream",
     "text": [
      "Epoch: [7]  [ 90/262]  eta: 0:02:19  lr: 0.000050  loss: 0.0698 (0.0791)  loss_classifier: 0.0216 (0.0327)  loss_box_reg: 0.0295 (0.0294)  loss_objectness: 0.0009 (0.0012)  loss_rpn_box_reg: 0.0153 (0.0158)  time: 0.7953  data: 0.0043  max mem: 8318\n"
     ]
    },
    {
     "name": "stderr",
     "output_type": "stream",
     "text": [
      "101it [01:21,  1.40it/s]"
     ]
    },
    {
     "name": "stdout",
     "output_type": "stream",
     "text": [
      "Epoch: [7]  [100/262]  eta: 0:02:10  lr: 0.000050  loss: 0.0701 (0.0791)  loss_classifier: 0.0263 (0.0329)  loss_box_reg: 0.0295 (0.0297)  loss_objectness: 0.0009 (0.0012)  loss_rpn_box_reg: 0.0108 (0.0152)  time: 0.7808  data: 0.0044  max mem: 8318\n"
     ]
    },
    {
     "name": "stderr",
     "output_type": "stream",
     "text": [
      "111it [01:29,  1.16it/s]"
     ]
    },
    {
     "name": "stdout",
     "output_type": "stream",
     "text": [
      "Epoch: [7]  [110/262]  eta: 0:02:01  lr: 0.000050  loss: 0.0801 (0.0791)  loss_classifier: 0.0286 (0.0329)  loss_box_reg: 0.0301 (0.0297)  loss_objectness: 0.0008 (0.0012)  loss_rpn_box_reg: 0.0095 (0.0153)  time: 0.7710  data: 0.0046  max mem: 8318\n"
     ]
    },
    {
     "name": "stderr",
     "output_type": "stream",
     "text": [
      "121it [01:37,  1.09it/s]"
     ]
    },
    {
     "name": "stdout",
     "output_type": "stream",
     "text": [
      "Epoch: [7]  [120/262]  eta: 0:01:54  lr: 0.000050  loss: 0.0791 (0.0790)  loss_classifier: 0.0286 (0.0328)  loss_box_reg: 0.0287 (0.0298)  loss_objectness: 0.0006 (0.0012)  loss_rpn_box_reg: 0.0130 (0.0152)  time: 0.8164  data: 0.0047  max mem: 8318\n"
     ]
    },
    {
     "name": "stderr",
     "output_type": "stream",
     "text": [
      "131it [01:45,  1.20it/s]"
     ]
    },
    {
     "name": "stdout",
     "output_type": "stream",
     "text": [
      "Epoch: [7]  [130/262]  eta: 0:01:46  lr: 0.000050  loss: 0.0660 (0.0788)  loss_classifier: 0.0275 (0.0329)  loss_box_reg: 0.0287 (0.0299)  loss_objectness: 0.0006 (0.0012)  loss_rpn_box_reg: 0.0097 (0.0147)  time: 0.8174  data: 0.0046  max mem: 8318\n"
     ]
    },
    {
     "name": "stderr",
     "output_type": "stream",
     "text": [
      "141it [01:53,  1.23it/s]"
     ]
    },
    {
     "name": "stdout",
     "output_type": "stream",
     "text": [
      "Epoch: [7]  [140/262]  eta: 0:01:38  lr: 0.000050  loss: 0.0659 (0.0787)  loss_classifier: 0.0282 (0.0329)  loss_box_reg: 0.0277 (0.0301)  loss_objectness: 0.0008 (0.0012)  loss_rpn_box_reg: 0.0089 (0.0145)  time: 0.7980  data: 0.0046  max mem: 8318\n"
     ]
    },
    {
     "name": "stderr",
     "output_type": "stream",
     "text": [
      "151it [02:01,  1.22it/s]"
     ]
    },
    {
     "name": "stdout",
     "output_type": "stream",
     "text": [
      "Epoch: [7]  [150/262]  eta: 0:01:30  lr: 0.000050  loss: 0.0706 (0.0787)  loss_classifier: 0.0248 (0.0326)  loss_box_reg: 0.0274 (0.0300)  loss_objectness: 0.0008 (0.0012)  loss_rpn_box_reg: 0.0151 (0.0148)  time: 0.7970  data: 0.0047  max mem: 8318\n"
     ]
    },
    {
     "name": "stderr",
     "output_type": "stream",
     "text": [
      "161it [02:09,  1.18it/s]"
     ]
    },
    {
     "name": "stdout",
     "output_type": "stream",
     "text": [
      "Epoch: [7]  [160/262]  eta: 0:01:21  lr: 0.000050  loss: 0.0706 (0.0788)  loss_classifier: 0.0242 (0.0329)  loss_box_reg: 0.0252 (0.0299)  loss_objectness: 0.0008 (0.0013)  loss_rpn_box_reg: 0.0151 (0.0148)  time: 0.7849  data: 0.0046  max mem: 8318\n"
     ]
    },
    {
     "name": "stderr",
     "output_type": "stream",
     "text": [
      "171it [02:17,  1.35it/s]"
     ]
    },
    {
     "name": "stdout",
     "output_type": "stream",
     "text": [
      "Epoch: [7]  [170/262]  eta: 0:01:13  lr: 0.000050  loss: 0.0733 (0.0791)  loss_classifier: 0.0271 (0.0330)  loss_box_reg: 0.0253 (0.0299)  loss_objectness: 0.0005 (0.0012)  loss_rpn_box_reg: 0.0129 (0.0150)  time: 0.7833  data: 0.0045  max mem: 8318\n"
     ]
    },
    {
     "name": "stderr",
     "output_type": "stream",
     "text": [
      "181it [02:24,  1.33it/s]"
     ]
    },
    {
     "name": "stdout",
     "output_type": "stream",
     "text": [
      "Epoch: [7]  [180/262]  eta: 0:01:05  lr: 0.000050  loss: 0.0747 (0.0792)  loss_classifier: 0.0267 (0.0329)  loss_box_reg: 0.0280 (0.0299)  loss_objectness: 0.0007 (0.0012)  loss_rpn_box_reg: 0.0180 (0.0152)  time: 0.7910  data: 0.0046  max mem: 8318\n"
     ]
    },
    {
     "name": "stderr",
     "output_type": "stream",
     "text": [
      "191it [02:32,  1.24it/s]"
     ]
    },
    {
     "name": "stdout",
     "output_type": "stream",
     "text": [
      "Epoch: [7]  [190/262]  eta: 0:00:57  lr: 0.000050  loss: 0.0747 (0.0792)  loss_classifier: 0.0309 (0.0328)  loss_box_reg: 0.0282 (0.0298)  loss_objectness: 0.0006 (0.0012)  loss_rpn_box_reg: 0.0157 (0.0153)  time: 0.7685  data: 0.0045  max mem: 8318\n"
     ]
    },
    {
     "name": "stderr",
     "output_type": "stream",
     "text": [
      "201it [02:39,  1.24it/s]"
     ]
    },
    {
     "name": "stdout",
     "output_type": "stream",
     "text": [
      "Epoch: [7]  [200/262]  eta: 0:00:49  lr: 0.000050  loss: 0.0712 (0.0789)  loss_classifier: 0.0283 (0.0328)  loss_box_reg: 0.0263 (0.0297)  loss_objectness: 0.0005 (0.0012)  loss_rpn_box_reg: 0.0117 (0.0152)  time: 0.7471  data: 0.0044  max mem: 8318\n"
     ]
    },
    {
     "name": "stderr",
     "output_type": "stream",
     "text": [
      "211it [02:47,  1.32it/s]"
     ]
    },
    {
     "name": "stdout",
     "output_type": "stream",
     "text": [
      "Epoch: [7]  [210/262]  eta: 0:00:41  lr: 0.000050  loss: 0.0686 (0.0785)  loss_classifier: 0.0276 (0.0325)  loss_box_reg: 0.0249 (0.0296)  loss_objectness: 0.0007 (0.0012)  loss_rpn_box_reg: 0.0109 (0.0152)  time: 0.7620  data: 0.0046  max mem: 8318\n"
     ]
    },
    {
     "name": "stderr",
     "output_type": "stream",
     "text": [
      "221it [02:56,  1.17it/s]"
     ]
    },
    {
     "name": "stdout",
     "output_type": "stream",
     "text": [
      "Epoch: [7]  [220/262]  eta: 0:00:33  lr: 0.000050  loss: 0.0778 (0.0790)  loss_classifier: 0.0354 (0.0330)  loss_box_reg: 0.0248 (0.0295)  loss_objectness: 0.0007 (0.0012)  loss_rpn_box_reg: 0.0139 (0.0152)  time: 0.8131  data: 0.0046  max mem: 8318\n"
     ]
    },
    {
     "name": "stderr",
     "output_type": "stream",
     "text": [
      "231it [03:03,  1.30it/s]"
     ]
    },
    {
     "name": "stdout",
     "output_type": "stream",
     "text": [
      "Epoch: [7]  [230/262]  eta: 0:00:25  lr: 0.000050  loss: 0.0793 (0.0790)  loss_classifier: 0.0394 (0.0331)  loss_box_reg: 0.0255 (0.0295)  loss_objectness: 0.0007 (0.0012)  loss_rpn_box_reg: 0.0139 (0.0151)  time: 0.7865  data: 0.0044  max mem: 8318\n"
     ]
    },
    {
     "name": "stderr",
     "output_type": "stream",
     "text": [
      "241it [03:11,  1.29it/s]"
     ]
    },
    {
     "name": "stdout",
     "output_type": "stream",
     "text": [
      "Epoch: [7]  [240/262]  eta: 0:00:17  lr: 0.000050  loss: 0.0689 (0.0792)  loss_classifier: 0.0215 (0.0332)  loss_box_reg: 0.0255 (0.0296)  loss_objectness: 0.0008 (0.0012)  loss_rpn_box_reg: 0.0114 (0.0152)  time: 0.7819  data: 0.0044  max mem: 8318\n"
     ]
    },
    {
     "name": "stderr",
     "output_type": "stream",
     "text": [
      "251it [03:19,  1.36it/s]"
     ]
    },
    {
     "name": "stdout",
     "output_type": "stream",
     "text": [
      "Epoch: [7]  [250/262]  eta: 0:00:09  lr: 0.000050  loss: 0.0735 (0.0792)  loss_classifier: 0.0215 (0.0331)  loss_box_reg: 0.0278 (0.0296)  loss_objectness: 0.0007 (0.0012)  loss_rpn_box_reg: 0.0114 (0.0152)  time: 0.8010  data: 0.0043  max mem: 8318\n"
     ]
    },
    {
     "name": "stderr",
     "output_type": "stream",
     "text": [
      "262it [03:27,  1.49it/s]"
     ]
    },
    {
     "name": "stdout",
     "output_type": "stream",
     "text": [
      "Epoch: [7]  [260/262]  eta: 0:00:01  lr: 0.000050  loss: 0.0704 (0.0790)  loss_classifier: 0.0258 (0.0329)  loss_box_reg: 0.0283 (0.0296)  loss_objectness: 0.0005 (0.0012)  loss_rpn_box_reg: 0.0165 (0.0153)  time: 0.7926  data: 0.0044  max mem: 8318\n",
      "Epoch: [7]  [261/262]  eta: 0:00:00  lr: 0.000050  loss: 0.0672 (0.0788)  loss_classifier: 0.0236 (0.0328)  loss_box_reg: 0.0282 (0.0295)  loss_objectness: 0.0005 (0.0012)  loss_rpn_box_reg: 0.0165 (0.0153)  time: 0.7596  data: 0.0043  max mem: 8318\n"
     ]
    },
    {
     "name": "stderr",
     "output_type": "stream",
     "text": [
      "262it [03:27,  1.26it/s]\n"
     ]
    },
    {
     "name": "stdout",
     "output_type": "stream",
     "text": [
      "Epoch: [7] Total time: 0:03:27 (0.7934 s / it)\n",
      "creating index...\n",
      "index created!\n",
      "Test:  [  0/262]  eta: 0:03:22  model_time: 0.4182 (0.4182)  evaluator_time: 0.0053 (0.0053)  time: 0.7717  data: 0.3209  max mem: 8318\n",
      "Test:  [100/262]  eta: 0:01:00  model_time: 0.3643 (0.3509)  evaluator_time: 0.0026 (0.0030)  time: 0.3936  data: 0.0083  max mem: 8318\n",
      "Test:  [200/262]  eta: 0:00:23  model_time: 0.3119 (0.3534)  evaluator_time: 0.0028 (0.0029)  time: 0.3805  data: 0.0081  max mem: 8318\n",
      "Test:  [261/262]  eta: 0:00:00  model_time: 0.3370 (0.3552)  evaluator_time: 0.0028 (0.0029)  time: 0.3714  data: 0.0080  max mem: 8318\n",
      "Test: Total time: 0:01:38 (0.3770 s / it)\n",
      "Averaged stats: model_time: 0.3370 (0.3552)  evaluator_time: 0.0028 (0.0029)\n",
      "Accumulating evaluation results...\n",
      "DONE (t=0.21s).\n",
      "IoU metric: bbox\n",
      " Average Precision  (AP) @[ IoU=0.50:0.95 | area=   all | maxDets=100 ] = 0.326\n",
      " Average Precision  (AP) @[ IoU=0.50      | area=   all | maxDets=100 ] = 0.489\n",
      " Average Precision  (AP) @[ IoU=0.75      | area=   all | maxDets=100 ] = 0.361\n",
      " Average Precision  (AP) @[ IoU=0.50:0.95 | area= small | maxDets=100 ] = -1.000\n",
      " Average Precision  (AP) @[ IoU=0.50:0.95 | area=medium | maxDets=100 ] = 0.183\n",
      " Average Precision  (AP) @[ IoU=0.50:0.95 | area= large | maxDets=100 ] = 0.328\n",
      " Average Recall     (AR) @[ IoU=0.50:0.95 | area=   all | maxDets=  1 ] = 0.491\n",
      " Average Recall     (AR) @[ IoU=0.50:0.95 | area=   all | maxDets= 10 ] = 0.521\n",
      " Average Recall     (AR) @[ IoU=0.50:0.95 | area=   all | maxDets=100 ] = 0.521\n",
      " Average Recall     (AR) @[ IoU=0.50:0.95 | area= small | maxDets=100 ] = -1.000\n",
      " Average Recall     (AR) @[ IoU=0.50:0.95 | area=medium | maxDets=100 ] = 0.212\n",
      " Average Recall     (AR) @[ IoU=0.50:0.95 | area= large | maxDets=100 ] = 0.523\n"
     ]
    },
    {
     "name": "stderr",
     "output_type": "stream",
     "text": [
      "1it [00:01,  1.33s/it]"
     ]
    },
    {
     "name": "stdout",
     "output_type": "stream",
     "text": [
      "Epoch: [8]  [  0/262]  eta: 0:05:47  lr: 0.000050  loss: 0.0858 (0.0858)  loss_classifier: 0.0192 (0.0192)  loss_box_reg: 0.0139 (0.0139)  loss_objectness: 0.0010 (0.0010)  loss_rpn_box_reg: 0.0517 (0.0517)  time: 1.3267  data: 0.3128  max mem: 8318\n"
     ]
    },
    {
     "name": "stderr",
     "output_type": "stream",
     "text": [
      "11it [00:09,  1.22it/s]"
     ]
    },
    {
     "name": "stdout",
     "output_type": "stream",
     "text": [
      "Epoch: [8]  [ 10/262]  eta: 0:03:34  lr: 0.000050  loss: 0.0843 (0.0945)  loss_classifier: 0.0272 (0.0419)  loss_box_reg: 0.0340 (0.0316)  loss_objectness: 0.0010 (0.0016)  loss_rpn_box_reg: 0.0154 (0.0194)  time: 0.8503  data: 0.0323  max mem: 8318\n"
     ]
    },
    {
     "name": "stderr",
     "output_type": "stream",
     "text": [
      "21it [00:16,  1.35it/s]"
     ]
    },
    {
     "name": "stdout",
     "output_type": "stream",
     "text": [
      "Epoch: [8]  [ 20/262]  eta: 0:03:13  lr: 0.000050  loss: 0.0773 (0.0867)  loss_classifier: 0.0348 (0.0391)  loss_box_reg: 0.0262 (0.0293)  loss_objectness: 0.0012 (0.0019)  loss_rpn_box_reg: 0.0098 (0.0164)  time: 0.7741  data: 0.0043  max mem: 8318\n"
     ]
    },
    {
     "name": "stderr",
     "output_type": "stream",
     "text": [
      "31it [00:25,  1.18it/s]"
     ]
    },
    {
     "name": "stdout",
     "output_type": "stream",
     "text": [
      "Epoch: [8]  [ 30/262]  eta: 0:03:07  lr: 0.000050  loss: 0.0737 (0.0788)  loss_classifier: 0.0305 (0.0337)  loss_box_reg: 0.0241 (0.0291)  loss_objectness: 0.0007 (0.0016)  loss_rpn_box_reg: 0.0089 (0.0144)  time: 0.7867  data: 0.0044  max mem: 8318\n"
     ]
    },
    {
     "name": "stderr",
     "output_type": "stream",
     "text": [
      "41it [00:33,  1.22it/s]"
     ]
    },
    {
     "name": "stdout",
     "output_type": "stream",
     "text": [
      "Epoch: [8]  [ 40/262]  eta: 0:03:03  lr: 0.000050  loss: 0.0581 (0.0794)  loss_classifier: 0.0177 (0.0345)  loss_box_reg: 0.0237 (0.0294)  loss_objectness: 0.0005 (0.0013)  loss_rpn_box_reg: 0.0086 (0.0143)  time: 0.8533  data: 0.0043  max mem: 8318\n"
     ]
    },
    {
     "name": "stderr",
     "output_type": "stream",
     "text": [
      "51it [00:42,  1.05it/s]"
     ]
    },
    {
     "name": "stdout",
     "output_type": "stream",
     "text": [
      "Epoch: [8]  [ 50/262]  eta: 0:02:54  lr: 0.000050  loss: 0.0805 (0.0803)  loss_classifier: 0.0267 (0.0347)  loss_box_reg: 0.0237 (0.0291)  loss_objectness: 0.0005 (0.0015)  loss_rpn_box_reg: 0.0135 (0.0149)  time: 0.8471  data: 0.0043  max mem: 8318\n"
     ]
    },
    {
     "name": "stderr",
     "output_type": "stream",
     "text": [
      "61it [00:50,  1.29it/s]"
     ]
    },
    {
     "name": "stdout",
     "output_type": "stream",
     "text": [
      "Epoch: [8]  [ 60/262]  eta: 0:02:47  lr: 0.000050  loss: 0.0704 (0.0782)  loss_classifier: 0.0286 (0.0333)  loss_box_reg: 0.0244 (0.0282)  loss_objectness: 0.0007 (0.0014)  loss_rpn_box_reg: 0.0159 (0.0153)  time: 0.8306  data: 0.0046  max mem: 8318\n"
     ]
    },
    {
     "name": "stderr",
     "output_type": "stream",
     "text": [
      "71it [00:58,  1.16it/s]"
     ]
    },
    {
     "name": "stdout",
     "output_type": "stream",
     "text": [
      "Epoch: [8]  [ 70/262]  eta: 0:02:37  lr: 0.000050  loss: 0.0681 (0.0773)  loss_classifier: 0.0258 (0.0327)  loss_box_reg: 0.0222 (0.0277)  loss_objectness: 0.0007 (0.0013)  loss_rpn_box_reg: 0.0168 (0.0155)  time: 0.8168  data: 0.0047  max mem: 8318\n"
     ]
    },
    {
     "name": "stderr",
     "output_type": "stream",
     "text": [
      "81it [01:06,  1.08it/s]"
     ]
    },
    {
     "name": "stdout",
     "output_type": "stream",
     "text": [
      "Epoch: [8]  [ 80/262]  eta: 0:02:29  lr: 0.000050  loss: 0.0706 (0.0771)  loss_classifier: 0.0294 (0.0321)  loss_box_reg: 0.0267 (0.0283)  loss_objectness: 0.0007 (0.0014)  loss_rpn_box_reg: 0.0133 (0.0154)  time: 0.7958  data: 0.0043  max mem: 8318\n"
     ]
    },
    {
     "name": "stderr",
     "output_type": "stream",
     "text": [
      "91it [01:14,  1.32it/s]"
     ]
    },
    {
     "name": "stdout",
     "output_type": "stream",
     "text": [
      "Epoch: [8]  [ 90/262]  eta: 0:02:20  lr: 0.000050  loss: 0.0706 (0.0760)  loss_classifier: 0.0251 (0.0315)  loss_box_reg: 0.0267 (0.0277)  loss_objectness: 0.0007 (0.0013)  loss_rpn_box_reg: 0.0132 (0.0155)  time: 0.7960  data: 0.0043  max mem: 8318\n"
     ]
    },
    {
     "name": "stderr",
     "output_type": "stream",
     "text": [
      "101it [01:21,  1.38it/s]"
     ]
    },
    {
     "name": "stdout",
     "output_type": "stream",
     "text": [
      "Epoch: [8]  [100/262]  eta: 0:02:11  lr: 0.000050  loss: 0.0741 (0.0762)  loss_classifier: 0.0283 (0.0319)  loss_box_reg: 0.0238 (0.0276)  loss_objectness: 0.0006 (0.0013)  loss_rpn_box_reg: 0.0132 (0.0154)  time: 0.7692  data: 0.0043  max mem: 8318\n"
     ]
    },
    {
     "name": "stderr",
     "output_type": "stream",
     "text": [
      "111it [01:29,  1.35it/s]"
     ]
    },
    {
     "name": "stdout",
     "output_type": "stream",
     "text": [
      "Epoch: [8]  [110/262]  eta: 0:02:02  lr: 0.000050  loss: 0.0788 (0.0769)  loss_classifier: 0.0356 (0.0324)  loss_box_reg: 0.0285 (0.0281)  loss_objectness: 0.0005 (0.0012)  loss_rpn_box_reg: 0.0098 (0.0152)  time: 0.7531  data: 0.0044  max mem: 8318\n"
     ]
    },
    {
     "name": "stderr",
     "output_type": "stream",
     "text": [
      "121it [01:36,  1.38it/s]"
     ]
    },
    {
     "name": "stdout",
     "output_type": "stream",
     "text": [
      "Epoch: [8]  [120/262]  eta: 0:01:53  lr: 0.000050  loss: 0.0730 (0.0764)  loss_classifier: 0.0339 (0.0320)  loss_box_reg: 0.0281 (0.0280)  loss_objectness: 0.0005 (0.0012)  loss_rpn_box_reg: 0.0100 (0.0152)  time: 0.7553  data: 0.0044  max mem: 8318\n"
     ]
    },
    {
     "name": "stderr",
     "output_type": "stream",
     "text": [
      "131it [01:44,  1.28it/s]"
     ]
    },
    {
     "name": "stdout",
     "output_type": "stream",
     "text": [
      "Epoch: [8]  [130/262]  eta: 0:01:45  lr: 0.000050  loss: 0.0722 (0.0773)  loss_classifier: 0.0277 (0.0323)  loss_box_reg: 0.0279 (0.0288)  loss_objectness: 0.0006 (0.0012)  loss_rpn_box_reg: 0.0130 (0.0150)  time: 0.7475  data: 0.0044  max mem: 8318\n"
     ]
    },
    {
     "name": "stderr",
     "output_type": "stream",
     "text": [
      "141it [01:51,  1.44it/s]"
     ]
    },
    {
     "name": "stdout",
     "output_type": "stream",
     "text": [
      "Epoch: [8]  [140/262]  eta: 0:01:36  lr: 0.000050  loss: 0.0811 (0.0769)  loss_classifier: 0.0295 (0.0318)  loss_box_reg: 0.0254 (0.0286)  loss_objectness: 0.0010 (0.0013)  loss_rpn_box_reg: 0.0148 (0.0153)  time: 0.7275  data: 0.0043  max mem: 8318\n"
     ]
    },
    {
     "name": "stderr",
     "output_type": "stream",
     "text": [
      "151it [01:59,  1.31it/s]"
     ]
    },
    {
     "name": "stdout",
     "output_type": "stream",
     "text": [
      "Epoch: [8]  [150/262]  eta: 0:01:28  lr: 0.000050  loss: 0.0720 (0.0766)  loss_classifier: 0.0218 (0.0316)  loss_box_reg: 0.0243 (0.0284)  loss_objectness: 0.0005 (0.0013)  loss_rpn_box_reg: 0.0171 (0.0153)  time: 0.7405  data: 0.0042  max mem: 8318\n"
     ]
    },
    {
     "name": "stderr",
     "output_type": "stream",
     "text": [
      "161it [02:06,  1.34it/s]"
     ]
    },
    {
     "name": "stdout",
     "output_type": "stream",
     "text": [
      "Epoch: [8]  [160/262]  eta: 0:01:20  lr: 0.000050  loss: 0.0732 (0.0767)  loss_classifier: 0.0257 (0.0316)  loss_box_reg: 0.0245 (0.0285)  loss_objectness: 0.0008 (0.0013)  loss_rpn_box_reg: 0.0170 (0.0153)  time: 0.7634  data: 0.0043  max mem: 8318\n"
     ]
    },
    {
     "name": "stderr",
     "output_type": "stream",
     "text": [
      "171it [02:14,  1.29it/s]"
     ]
    },
    {
     "name": "stdout",
     "output_type": "stream",
     "text": [
      "Epoch: [8]  [170/262]  eta: 0:01:12  lr: 0.000050  loss: 0.0807 (0.0771)  loss_classifier: 0.0316 (0.0320)  loss_box_reg: 0.0265 (0.0283)  loss_objectness: 0.0007 (0.0012)  loss_rpn_box_reg: 0.0161 (0.0155)  time: 0.7820  data: 0.0043  max mem: 8318\n"
     ]
    },
    {
     "name": "stderr",
     "output_type": "stream",
     "text": [
      "181it [02:22,  1.28it/s]"
     ]
    },
    {
     "name": "stdout",
     "output_type": "stream",
     "text": [
      "Epoch: [8]  [180/262]  eta: 0:01:04  lr: 0.000050  loss: 0.0710 (0.0768)  loss_classifier: 0.0282 (0.0319)  loss_box_reg: 0.0241 (0.0283)  loss_objectness: 0.0006 (0.0012)  loss_rpn_box_reg: 0.0128 (0.0154)  time: 0.8050  data: 0.0044  max mem: 8318\n"
     ]
    },
    {
     "name": "stderr",
     "output_type": "stream",
     "text": [
      "191it [02:30,  1.33it/s]"
     ]
    },
    {
     "name": "stdout",
     "output_type": "stream",
     "text": [
      "Epoch: [8]  [190/262]  eta: 0:00:56  lr: 0.000050  loss: 0.0669 (0.0767)  loss_classifier: 0.0266 (0.0319)  loss_box_reg: 0.0249 (0.0282)  loss_objectness: 0.0006 (0.0012)  loss_rpn_box_reg: 0.0119 (0.0153)  time: 0.7836  data: 0.0045  max mem: 8318\n"
     ]
    },
    {
     "name": "stderr",
     "output_type": "stream",
     "text": [
      "201it [02:38,  1.13it/s]"
     ]
    },
    {
     "name": "stdout",
     "output_type": "stream",
     "text": [
      "Epoch: [8]  [200/262]  eta: 0:00:48  lr: 0.000050  loss: 0.0604 (0.0759)  loss_classifier: 0.0225 (0.0315)  loss_box_reg: 0.0255 (0.0281)  loss_objectness: 0.0007 (0.0012)  loss_rpn_box_reg: 0.0116 (0.0151)  time: 0.7862  data: 0.0044  max mem: 8318\n"
     ]
    },
    {
     "name": "stderr",
     "output_type": "stream",
     "text": [
      "211it [02:46,  1.20it/s]"
     ]
    },
    {
     "name": "stdout",
     "output_type": "stream",
     "text": [
      "Epoch: [8]  [210/262]  eta: 0:00:41  lr: 0.000050  loss: 0.0601 (0.0758)  loss_classifier: 0.0214 (0.0313)  loss_box_reg: 0.0244 (0.0279)  loss_objectness: 0.0009 (0.0013)  loss_rpn_box_reg: 0.0122 (0.0153)  time: 0.8135  data: 0.0043  max mem: 8318\n"
     ]
    },
    {
     "name": "stderr",
     "output_type": "stream",
     "text": [
      "221it [02:55,  1.19it/s]"
     ]
    },
    {
     "name": "stdout",
     "output_type": "stream",
     "text": [
      "Epoch: [8]  [220/262]  eta: 0:00:33  lr: 0.000050  loss: 0.0801 (0.0768)  loss_classifier: 0.0279 (0.0320)  loss_box_reg: 0.0280 (0.0283)  loss_objectness: 0.0007 (0.0013)  loss_rpn_box_reg: 0.0125 (0.0152)  time: 0.8414  data: 0.0046  max mem: 8318\n"
     ]
    },
    {
     "name": "stderr",
     "output_type": "stream",
     "text": [
      "231it [03:04,  1.22it/s]"
     ]
    },
    {
     "name": "stdout",
     "output_type": "stream",
     "text": [
      "Epoch: [8]  [230/262]  eta: 0:00:25  lr: 0.000050  loss: 0.0899 (0.0777)  loss_classifier: 0.0407 (0.0327)  loss_box_reg: 0.0308 (0.0285)  loss_objectness: 0.0004 (0.0013)  loss_rpn_box_reg: 0.0113 (0.0152)  time: 0.8663  data: 0.0049  max mem: 8318\n"
     ]
    },
    {
     "name": "stderr",
     "output_type": "stream",
     "text": [
      "241it [03:12,  1.10it/s]"
     ]
    },
    {
     "name": "stdout",
     "output_type": "stream",
     "text": [
      "Epoch: [8]  [240/262]  eta: 0:00:17  lr: 0.000050  loss: 0.0863 (0.0776)  loss_classifier: 0.0292 (0.0326)  loss_box_reg: 0.0258 (0.0283)  loss_objectness: 0.0005 (0.0013)  loss_rpn_box_reg: 0.0184 (0.0155)  time: 0.8577  data: 0.0047  max mem: 8318\n"
     ]
    },
    {
     "name": "stderr",
     "output_type": "stream",
     "text": [
      "251it [03:20,  1.30it/s]"
     ]
    },
    {
     "name": "stdout",
     "output_type": "stream",
     "text": [
      "Epoch: [8]  [250/262]  eta: 0:00:09  lr: 0.000050  loss: 0.0705 (0.0778)  loss_classifier: 0.0250 (0.0326)  loss_box_reg: 0.0269 (0.0285)  loss_objectness: 0.0006 (0.0012)  loss_rpn_box_reg: 0.0165 (0.0153)  time: 0.8143  data: 0.0048  max mem: 8318\n"
     ]
    },
    {
     "name": "stderr",
     "output_type": "stream",
     "text": [
      "262it [03:28,  1.53it/s]"
     ]
    },
    {
     "name": "stdout",
     "output_type": "stream",
     "text": [
      "Epoch: [8]  [260/262]  eta: 0:00:01  lr: 0.000050  loss: 0.0739 (0.0779)  loss_classifier: 0.0272 (0.0326)  loss_box_reg: 0.0278 (0.0286)  loss_objectness: 0.0006 (0.0012)  loss_rpn_box_reg: 0.0148 (0.0154)  time: 0.8132  data: 0.0048  max mem: 8318\n",
      "Epoch: [8]  [261/262]  eta: 0:00:00  lr: 0.000050  loss: 0.0730 (0.0777)  loss_classifier: 0.0271 (0.0326)  loss_box_reg: 0.0278 (0.0286)  loss_objectness: 0.0005 (0.0012)  loss_rpn_box_reg: 0.0148 (0.0153)  time: 0.7741  data: 0.0047  max mem: 8318\n"
     ]
    },
    {
     "name": "stderr",
     "output_type": "stream",
     "text": [
      "262it [03:29,  1.25it/s]\n"
     ]
    },
    {
     "name": "stdout",
     "output_type": "stream",
     "text": [
      "Epoch: [8] Total time: 0:03:29 (0.7978 s / it)\n",
      "creating index...\n",
      "index created!\n",
      "Test:  [  0/262]  eta: 0:02:57  model_time: 0.4172 (0.4172)  evaluator_time: 0.0032 (0.0032)  time: 0.6779  data: 0.2294  max mem: 8318\n",
      "Test:  [100/262]  eta: 0:00:58  model_time: 0.3360 (0.3406)  evaluator_time: 0.0026 (0.0028)  time: 0.3749  data: 0.0082  max mem: 8318\n",
      "Test:  [200/262]  eta: 0:00:22  model_time: 0.3262 (0.3447)  evaluator_time: 0.0027 (0.0028)  time: 0.3869  data: 0.0084  max mem: 8318\n",
      "Test:  [261/262]  eta: 0:00:00  model_time: 0.3500 (0.3455)  evaluator_time: 0.0027 (0.0028)  time: 0.3581  data: 0.0081  max mem: 8318\n",
      "Test: Total time: 0:01:36 (0.3667 s / it)\n",
      "Averaged stats: model_time: 0.3500 (0.3455)  evaluator_time: 0.0027 (0.0028)\n",
      "Accumulating evaluation results...\n",
      "DONE (t=0.22s).\n",
      "IoU metric: bbox\n",
      " Average Precision  (AP) @[ IoU=0.50:0.95 | area=   all | maxDets=100 ] = 0.305\n",
      " Average Precision  (AP) @[ IoU=0.50      | area=   all | maxDets=100 ] = 0.465\n",
      " Average Precision  (AP) @[ IoU=0.75      | area=   all | maxDets=100 ] = 0.333\n",
      " Average Precision  (AP) @[ IoU=0.50:0.95 | area= small | maxDets=100 ] = -1.000\n",
      " Average Precision  (AP) @[ IoU=0.50:0.95 | area=medium | maxDets=100 ] = 0.380\n",
      " Average Precision  (AP) @[ IoU=0.50:0.95 | area= large | maxDets=100 ] = 0.307\n",
      " Average Recall     (AR) @[ IoU=0.50:0.95 | area=   all | maxDets=  1 ] = 0.477\n",
      " Average Recall     (AR) @[ IoU=0.50:0.95 | area=   all | maxDets= 10 ] = 0.502\n",
      " Average Recall     (AR) @[ IoU=0.50:0.95 | area=   all | maxDets=100 ] = 0.503\n",
      " Average Recall     (AR) @[ IoU=0.50:0.95 | area= small | maxDets=100 ] = -1.000\n",
      " Average Recall     (AR) @[ IoU=0.50:0.95 | area=medium | maxDets=100 ] = 0.381\n",
      " Average Recall     (AR) @[ IoU=0.50:0.95 | area= large | maxDets=100 ] = 0.505\n"
     ]
    },
    {
     "name": "stderr",
     "output_type": "stream",
     "text": [
      "1it [00:01,  1.09s/it]"
     ]
    },
    {
     "name": "stdout",
     "output_type": "stream",
     "text": [
      "Epoch: [9]  [  0/262]  eta: 0:04:45  lr: 0.000005  loss: 0.0673 (0.0673)  loss_classifier: 0.0262 (0.0262)  loss_box_reg: 0.0217 (0.0217)  loss_objectness: 0.0008 (0.0008)  loss_rpn_box_reg: 0.0186 (0.0186)  time: 1.0903  data: 0.3167  max mem: 8318\n"
     ]
    },
    {
     "name": "stderr",
     "output_type": "stream",
     "text": [
      "11it [00:08,  1.35it/s]"
     ]
    },
    {
     "name": "stdout",
     "output_type": "stream",
     "text": [
      "Epoch: [9]  [ 10/262]  eta: 0:03:18  lr: 0.000005  loss: 0.0660 (0.0677)  loss_classifier: 0.0262 (0.0274)  loss_box_reg: 0.0222 (0.0238)  loss_objectness: 0.0005 (0.0006)  loss_rpn_box_reg: 0.0154 (0.0159)  time: 0.7858  data: 0.0329  max mem: 8318\n"
     ]
    },
    {
     "name": "stderr",
     "output_type": "stream",
     "text": [
      "21it [00:16,  1.35it/s]"
     ]
    },
    {
     "name": "stdout",
     "output_type": "stream",
     "text": [
      "Epoch: [9]  [ 20/262]  eta: 0:03:06  lr: 0.000005  loss: 0.0635 (0.0700)  loss_classifier: 0.0259 (0.0304)  loss_box_reg: 0.0222 (0.0235)  loss_objectness: 0.0005 (0.0009)  loss_rpn_box_reg: 0.0152 (0.0152)  time: 0.7561  data: 0.0046  max mem: 8318\n"
     ]
    },
    {
     "name": "stderr",
     "output_type": "stream",
     "text": [
      "31it [00:24,  1.12it/s]"
     ]
    },
    {
     "name": "stdout",
     "output_type": "stream",
     "text": [
      "Epoch: [9]  [ 30/262]  eta: 0:03:01  lr: 0.000005  loss: 0.0753 (0.0756)  loss_classifier: 0.0293 (0.0331)  loss_box_reg: 0.0232 (0.0263)  loss_objectness: 0.0006 (0.0009)  loss_rpn_box_reg: 0.0132 (0.0154)  time: 0.7802  data: 0.0046  max mem: 8318\n"
     ]
    },
    {
     "name": "stderr",
     "output_type": "stream",
     "text": [
      "41it [00:31,  1.29it/s]"
     ]
    },
    {
     "name": "stdout",
     "output_type": "stream",
     "text": [
      "Epoch: [9]  [ 40/262]  eta: 0:02:52  lr: 0.000005  loss: 0.0797 (0.0764)  loss_classifier: 0.0314 (0.0329)  loss_box_reg: 0.0271 (0.0273)  loss_objectness: 0.0007 (0.0009)  loss_rpn_box_reg: 0.0087 (0.0152)  time: 0.7838  data: 0.0045  max mem: 8318\n"
     ]
    },
    {
     "name": "stderr",
     "output_type": "stream",
     "text": [
      "51it [00:39,  1.26it/s]"
     ]
    },
    {
     "name": "stdout",
     "output_type": "stream",
     "text": [
      "Epoch: [9]  [ 50/262]  eta: 0:02:46  lr: 0.000005  loss: 0.0731 (0.0767)  loss_classifier: 0.0271 (0.0323)  loss_box_reg: 0.0256 (0.0274)  loss_objectness: 0.0010 (0.0015)  loss_rpn_box_reg: 0.0141 (0.0155)  time: 0.7855  data: 0.0044  max mem: 8318\n"
     ]
    },
    {
     "name": "stderr",
     "output_type": "stream",
     "text": [
      "61it [00:48,  1.11it/s]"
     ]
    },
    {
     "name": "stdout",
     "output_type": "stream",
     "text": [
      "Epoch: [9]  [ 60/262]  eta: 0:02:39  lr: 0.000005  loss: 0.0767 (0.0800)  loss_classifier: 0.0275 (0.0335)  loss_box_reg: 0.0256 (0.0295)  loss_objectness: 0.0010 (0.0015)  loss_rpn_box_reg: 0.0155 (0.0155)  time: 0.8196  data: 0.0043  max mem: 8318\n"
     ]
    },
    {
     "name": "stderr",
     "output_type": "stream",
     "text": [
      "71it [00:56,  1.27it/s]"
     ]
    },
    {
     "name": "stdout",
     "output_type": "stream",
     "text": [
      "Epoch: [9]  [ 70/262]  eta: 0:02:32  lr: 0.000005  loss: 0.0720 (0.0805)  loss_classifier: 0.0283 (0.0346)  loss_box_reg: 0.0249 (0.0299)  loss_objectness: 0.0009 (0.0014)  loss_rpn_box_reg: 0.0099 (0.0146)  time: 0.8190  data: 0.0044  max mem: 8318\n"
     ]
    },
    {
     "name": "stderr",
     "output_type": "stream",
     "text": [
      "81it [01:04,  1.29it/s]"
     ]
    },
    {
     "name": "stdout",
     "output_type": "stream",
     "text": [
      "Epoch: [9]  [ 80/262]  eta: 0:02:24  lr: 0.000005  loss: 0.0732 (0.0804)  loss_classifier: 0.0256 (0.0339)  loss_box_reg: 0.0257 (0.0300)  loss_objectness: 0.0009 (0.0015)  loss_rpn_box_reg: 0.0100 (0.0149)  time: 0.8080  data: 0.0045  max mem: 8318\n"
     ]
    },
    {
     "name": "stderr",
     "output_type": "stream",
     "text": [
      "91it [01:11,  1.40it/s]"
     ]
    },
    {
     "name": "stdout",
     "output_type": "stream",
     "text": [
      "Epoch: [9]  [ 90/262]  eta: 0:02:15  lr: 0.000005  loss: 0.0773 (0.0803)  loss_classifier: 0.0260 (0.0343)  loss_box_reg: 0.0284 (0.0301)  loss_objectness: 0.0009 (0.0015)  loss_rpn_box_reg: 0.0113 (0.0143)  time: 0.7718  data: 0.0044  max mem: 8318\n"
     ]
    },
    {
     "name": "stderr",
     "output_type": "stream",
     "text": [
      "101it [01:20,  1.26it/s]"
     ]
    },
    {
     "name": "stdout",
     "output_type": "stream",
     "text": [
      "Epoch: [9]  [100/262]  eta: 0:02:08  lr: 0.000005  loss: 0.0739 (0.0808)  loss_classifier: 0.0348 (0.0345)  loss_box_reg: 0.0263 (0.0298)  loss_objectness: 0.0008 (0.0015)  loss_rpn_box_reg: 0.0113 (0.0149)  time: 0.7801  data: 0.0046  max mem: 8318\n"
     ]
    },
    {
     "name": "stderr",
     "output_type": "stream",
     "text": [
      "111it [01:28,  1.19it/s]"
     ]
    },
    {
     "name": "stdout",
     "output_type": "stream",
     "text": [
      "Epoch: [9]  [110/262]  eta: 0:02:00  lr: 0.000005  loss: 0.0776 (0.0816)  loss_classifier: 0.0325 (0.0350)  loss_box_reg: 0.0262 (0.0302)  loss_objectness: 0.0005 (0.0015)  loss_rpn_box_reg: 0.0123 (0.0150)  time: 0.8203  data: 0.0046  max mem: 8318\n"
     ]
    },
    {
     "name": "stderr",
     "output_type": "stream",
     "text": [
      "121it [01:36,  1.22it/s]"
     ]
    },
    {
     "name": "stdout",
     "output_type": "stream",
     "text": [
      "Epoch: [9]  [120/262]  eta: 0:01:52  lr: 0.000005  loss: 0.0776 (0.0810)  loss_classifier: 0.0288 (0.0346)  loss_box_reg: 0.0258 (0.0297)  loss_objectness: 0.0006 (0.0014)  loss_rpn_box_reg: 0.0122 (0.0153)  time: 0.8084  data: 0.0044  max mem: 8318\n"
     ]
    },
    {
     "name": "stderr",
     "output_type": "stream",
     "text": [
      "131it [01:43,  1.35it/s]"
     ]
    },
    {
     "name": "stdout",
     "output_type": "stream",
     "text": [
      "Epoch: [9]  [130/262]  eta: 0:01:44  lr: 0.000005  loss: 0.0672 (0.0799)  loss_classifier: 0.0213 (0.0338)  loss_box_reg: 0.0246 (0.0295)  loss_objectness: 0.0008 (0.0014)  loss_rpn_box_reg: 0.0131 (0.0151)  time: 0.7848  data: 0.0044  max mem: 8318\n"
     ]
    },
    {
     "name": "stderr",
     "output_type": "stream",
     "text": [
      "141it [01:51,  1.30it/s]"
     ]
    },
    {
     "name": "stdout",
     "output_type": "stream",
     "text": [
      "Epoch: [9]  [140/262]  eta: 0:01:36  lr: 0.000005  loss: 0.0657 (0.0790)  loss_classifier: 0.0226 (0.0333)  loss_box_reg: 0.0283 (0.0296)  loss_objectness: 0.0006 (0.0015)  loss_rpn_box_reg: 0.0082 (0.0146)  time: 0.7870  data: 0.0047  max mem: 8318\n"
     ]
    },
    {
     "name": "stderr",
     "output_type": "stream",
     "text": [
      "151it [02:00,  1.09it/s]"
     ]
    },
    {
     "name": "stdout",
     "output_type": "stream",
     "text": [
      "Epoch: [9]  [150/262]  eta: 0:01:29  lr: 0.000005  loss: 0.0661 (0.0787)  loss_classifier: 0.0262 (0.0330)  loss_box_reg: 0.0258 (0.0293)  loss_objectness: 0.0007 (0.0015)  loss_rpn_box_reg: 0.0093 (0.0148)  time: 0.8452  data: 0.0048  max mem: 8318\n"
     ]
    },
    {
     "name": "stderr",
     "output_type": "stream",
     "text": [
      "161it [02:08,  1.27it/s]"
     ]
    },
    {
     "name": "stdout",
     "output_type": "stream",
     "text": [
      "Epoch: [9]  [160/262]  eta: 0:01:21  lr: 0.000005  loss: 0.0687 (0.0783)  loss_classifier: 0.0262 (0.0327)  loss_box_reg: 0.0250 (0.0294)  loss_objectness: 0.0006 (0.0015)  loss_rpn_box_reg: 0.0153 (0.0148)  time: 0.8147  data: 0.0045  max mem: 8318\n"
     ]
    },
    {
     "name": "stderr",
     "output_type": "stream",
     "text": [
      "171it [02:16,  1.34it/s]"
     ]
    },
    {
     "name": "stdout",
     "output_type": "stream",
     "text": [
      "Epoch: [9]  [170/262]  eta: 0:01:13  lr: 0.000005  loss: 0.0623 (0.0783)  loss_classifier: 0.0251 (0.0326)  loss_box_reg: 0.0247 (0.0292)  loss_objectness: 0.0005 (0.0014)  loss_rpn_box_reg: 0.0151 (0.0150)  time: 0.7658  data: 0.0045  max mem: 8318\n"
     ]
    },
    {
     "name": "stderr",
     "output_type": "stream",
     "text": [
      "181it [02:24,  1.22it/s]"
     ]
    },
    {
     "name": "stdout",
     "output_type": "stream",
     "text": [
      "Epoch: [9]  [180/262]  eta: 0:01:05  lr: 0.000005  loss: 0.0562 (0.0775)  loss_classifier: 0.0209 (0.0320)  loss_box_reg: 0.0233 (0.0290)  loss_objectness: 0.0005 (0.0014)  loss_rpn_box_reg: 0.0102 (0.0150)  time: 0.7876  data: 0.0044  max mem: 8318\n"
     ]
    },
    {
     "name": "stderr",
     "output_type": "stream",
     "text": [
      "191it [02:31,  1.26it/s]"
     ]
    },
    {
     "name": "stdout",
     "output_type": "stream",
     "text": [
      "Epoch: [9]  [190/262]  eta: 0:00:57  lr: 0.000005  loss: 0.0579 (0.0769)  loss_classifier: 0.0205 (0.0317)  loss_box_reg: 0.0262 (0.0289)  loss_objectness: 0.0004 (0.0014)  loss_rpn_box_reg: 0.0122 (0.0149)  time: 0.7876  data: 0.0045  max mem: 8318\n"
     ]
    },
    {
     "name": "stderr",
     "output_type": "stream",
     "text": [
      "201it [02:40,  1.21it/s]"
     ]
    },
    {
     "name": "stdout",
     "output_type": "stream",
     "text": [
      "Epoch: [9]  [200/262]  eta: 0:00:49  lr: 0.000005  loss: 0.0698 (0.0772)  loss_classifier: 0.0269 (0.0321)  loss_box_reg: 0.0262 (0.0288)  loss_objectness: 0.0007 (0.0014)  loss_rpn_box_reg: 0.0113 (0.0149)  time: 0.8090  data: 0.0047  max mem: 8318\n"
     ]
    },
    {
     "name": "stderr",
     "output_type": "stream",
     "text": [
      "211it [02:48,  1.22it/s]"
     ]
    },
    {
     "name": "stdout",
     "output_type": "stream",
     "text": [
      "Epoch: [9]  [210/262]  eta: 0:00:41  lr: 0.000005  loss: 0.0831 (0.0781)  loss_classifier: 0.0342 (0.0325)  loss_box_reg: 0.0268 (0.0291)  loss_objectness: 0.0008 (0.0013)  loss_rpn_box_reg: 0.0124 (0.0151)  time: 0.8209  data: 0.0046  max mem: 8318\n"
     ]
    },
    {
     "name": "stderr",
     "output_type": "stream",
     "text": [
      "221it [02:56,  1.19it/s]"
     ]
    },
    {
     "name": "stdout",
     "output_type": "stream",
     "text": [
      "Epoch: [9]  [220/262]  eta: 0:00:33  lr: 0.000005  loss: 0.0851 (0.0783)  loss_classifier: 0.0346 (0.0327)  loss_box_reg: 0.0271 (0.0291)  loss_objectness: 0.0005 (0.0013)  loss_rpn_box_reg: 0.0132 (0.0152)  time: 0.8130  data: 0.0046  max mem: 8318\n"
     ]
    },
    {
     "name": "stderr",
     "output_type": "stream",
     "text": [
      "231it [03:04,  1.22it/s]"
     ]
    },
    {
     "name": "stdout",
     "output_type": "stream",
     "text": [
      "Epoch: [9]  [230/262]  eta: 0:00:25  lr: 0.000005  loss: 0.0839 (0.0789)  loss_classifier: 0.0310 (0.0331)  loss_box_reg: 0.0250 (0.0292)  loss_objectness: 0.0005 (0.0013)  loss_rpn_box_reg: 0.0145 (0.0153)  time: 0.8208  data: 0.0047  max mem: 8318\n"
     ]
    },
    {
     "name": "stderr",
     "output_type": "stream",
     "text": [
      "241it [03:12,  1.30it/s]"
     ]
    },
    {
     "name": "stdout",
     "output_type": "stream",
     "text": [
      "Epoch: [9]  [240/262]  eta: 0:00:17  lr: 0.000005  loss: 0.0730 (0.0783)  loss_classifier: 0.0263 (0.0328)  loss_box_reg: 0.0247 (0.0291)  loss_objectness: 0.0005 (0.0013)  loss_rpn_box_reg: 0.0109 (0.0151)  time: 0.7981  data: 0.0047  max mem: 8318\n"
     ]
    },
    {
     "name": "stderr",
     "output_type": "stream",
     "text": [
      "251it [03:20,  1.21it/s]"
     ]
    },
    {
     "name": "stdout",
     "output_type": "stream",
     "text": [
      "Epoch: [9]  [250/262]  eta: 0:00:09  lr: 0.000005  loss: 0.0685 (0.0785)  loss_classifier: 0.0276 (0.0329)  loss_box_reg: 0.0280 (0.0293)  loss_objectness: 0.0006 (0.0013)  loss_rpn_box_reg: 0.0096 (0.0150)  time: 0.7827  data: 0.0045  max mem: 8318\n"
     ]
    },
    {
     "name": "stderr",
     "output_type": "stream",
     "text": [
      "262it [03:29,  1.49it/s]"
     ]
    },
    {
     "name": "stdout",
     "output_type": "stream",
     "text": [
      "Epoch: [9]  [260/262]  eta: 0:00:01  lr: 0.000005  loss: 0.0783 (0.0785)  loss_classifier: 0.0249 (0.0328)  loss_box_reg: 0.0278 (0.0291)  loss_objectness: 0.0008 (0.0013)  loss_rpn_box_reg: 0.0184 (0.0154)  time: 0.8198  data: 0.0045  max mem: 8318\n",
      "Epoch: [9]  [261/262]  eta: 0:00:00  lr: 0.000005  loss: 0.0771 (0.0784)  loss_classifier: 0.0231 (0.0327)  loss_box_reg: 0.0278 (0.0291)  loss_objectness: 0.0007 (0.0013)  loss_rpn_box_reg: 0.0146 (0.0154)  time: 0.7802  data: 0.0044  max mem: 8318\n"
     ]
    },
    {
     "name": "stderr",
     "output_type": "stream",
     "text": [
      "262it [03:29,  1.25it/s]\n"
     ]
    },
    {
     "name": "stdout",
     "output_type": "stream",
     "text": [
      "Epoch: [9] Total time: 0:03:29 (0.7979 s / it)\n",
      "creating index...\n",
      "index created!\n",
      "Test:  [  0/262]  eta: 0:04:07  model_time: 0.5044 (0.5044)  evaluator_time: 0.0037 (0.0037)  time: 0.9464  data: 0.3954  max mem: 8318\n",
      "Test:  [100/262]  eta: 0:00:59  model_time: 0.2988 (0.3427)  evaluator_time: 0.0024 (0.0028)  time: 0.3469  data: 0.0083  max mem: 8318\n",
      "Test:  [200/262]  eta: 0:00:22  model_time: 0.3183 (0.3439)  evaluator_time: 0.0024 (0.0028)  time: 0.3568  data: 0.0083  max mem: 8318\n",
      "Test:  [261/262]  eta: 0:00:00  model_time: 0.3247 (0.3413)  evaluator_time: 0.0028 (0.0028)  time: 0.3553  data: 0.0083  max mem: 8318\n",
      "Test: Total time: 0:01:35 (0.3635 s / it)\n",
      "Averaged stats: model_time: 0.3247 (0.3413)  evaluator_time: 0.0028 (0.0028)\n",
      "Accumulating evaluation results...\n",
      "DONE (t=0.21s).\n",
      "IoU metric: bbox\n",
      " Average Precision  (AP) @[ IoU=0.50:0.95 | area=   all | maxDets=100 ] = 0.311\n",
      " Average Precision  (AP) @[ IoU=0.50      | area=   all | maxDets=100 ] = 0.480\n",
      " Average Precision  (AP) @[ IoU=0.75      | area=   all | maxDets=100 ] = 0.340\n",
      " Average Precision  (AP) @[ IoU=0.50:0.95 | area= small | maxDets=100 ] = -1.000\n",
      " Average Precision  (AP) @[ IoU=0.50:0.95 | area=medium | maxDets=100 ] = 0.450\n",
      " Average Precision  (AP) @[ IoU=0.50:0.95 | area= large | maxDets=100 ] = 0.311\n",
      " Average Recall     (AR) @[ IoU=0.50:0.95 | area=   all | maxDets=  1 ] = 0.469\n",
      " Average Recall     (AR) @[ IoU=0.50:0.95 | area=   all | maxDets= 10 ] = 0.498\n",
      " Average Recall     (AR) @[ IoU=0.50:0.95 | area=   all | maxDets=100 ] = 0.498\n",
      " Average Recall     (AR) @[ IoU=0.50:0.95 | area= small | maxDets=100 ] = -1.000\n",
      " Average Recall     (AR) @[ IoU=0.50:0.95 | area=medium | maxDets=100 ] = 0.450\n",
      " Average Recall     (AR) @[ IoU=0.50:0.95 | area= large | maxDets=100 ] = 0.498\n",
      "That's it!\n"
     ]
    }
   ],
   "source": [
    "main()"
   ]
  },
  {
   "cell_type": "code",
   "execution_count": null,
   "id": "24147cd0",
   "metadata": {},
   "outputs": [],
   "source": [
    "def get_model_instance_mobilenet(num_classes):\n",
    "    \n",
    "    backbone = torchvision.models.mobilenet_v2(pretrained=True).features\n",
    "    # FasterRCNN needs to know the number of\n",
    "    # output channels in a backbone. For mobilenet_v2, it's 1280\n",
    "    # so we need to add it here\n",
    "    backbone.out_channels = 1280\n",
    "\n",
    "    # let's make the RPN generate 5 x 3 anchors per spatial\n",
    "    # location, with 5 different sizes and 3 different aspect\n",
    "    # ratios. We have a Tuple[Tuple[int]] because each feature\n",
    "    # map could potentially have different sizes and\n",
    "    # aspect ratios \n",
    "    anchor_generator = AnchorGenerator(sizes=((32, 64, 128, 256, 512),),\n",
    "                                       aspect_ratios=((0.5, 1.0, 2.0),))\n",
    "\n",
    "    # let's define what are the feature maps that we will\n",
    "    # use to perform the region of interest cropping, as well as\n",
    "    # the size of the crop after rescaling.\n",
    "    # if your backbone returns a Tensor, featmap_names is expected to\n",
    "    # be [0]. More generally, the backbone should return an\n",
    "    # OrderedDict[Tensor], and in featmap_names you can choose which\n",
    "    # feature maps to use.\n",
    "    roi_pooler = torchvision.ops.MultiScaleRoIAlign(featmap_names=[0],\n",
    "                                                    output_size=7,\n",
    "                                                    sampling_ratio=2)\n",
    "\n",
    "    # put the pieces together inside a FasterRCNN model\n",
    "    model = FasterRCNN(backbone,\n",
    "                       num_classes=2,\n",
    "                       rpn_anchor_generator=anchor_generator,\n",
    "                       box_roi_pool=roi_pooler)\n",
    "    return model\n"
   ]
  },
  {
   "cell_type": "code",
   "execution_count": null,
   "id": "0cb81d3a",
   "metadata": {},
   "outputs": [],
   "source": [
    "device = torch.device('cuda') if torch.cuda.is_available() else torch.device('cpu')\n",
    "\n",
    "# our dataset has two classes only - background and person\n",
    "num_classes = len(classes)+1\n",
    "# use our dataset and defined transformations\n",
    "train_data=AnimalDataset(get_transform(train=True),train_imgs,train_labels)\n",
    "test_data=AnimalDataset(get_transform(train=False),test_imgs,test_labels)\n",
    "\n",
    "# define training and validation data loaders\n",
    "train_loader = torch.utils.data.DataLoader(\n",
    "    train_data, batch_size=4, shuffle=True, num_workers=4,\n",
    "    collate_fn=utils.collate_fn)\n",
    "\n",
    "test_loader = torch.utils.data.DataLoader(\n",
    "    test_data, batch_size=1, shuffle=False, num_workers=4,\n",
    "    collate_fn=utils.collate_fn)\n",
    "\n",
    "# get the model using our helper function\n",
    "model = get_model_instance_segmentationmobilenet(num_classes)\n",
    "\n",
    "# move model to the right device\n",
    "model.to(device)\n",
    "\n",
    "# construct an optimizer\n",
    "params = [p for p in model.parameters() if p.requires_grad]\n",
    "optimizer = torch.optim.SGD(params, lr=0.005,\n",
    "                            momentum=0.9, weight_decay=0.0005)\n",
    "# and a learning rate scheduler\n",
    "lr_scheduler = torch.optim.lr_scheduler.StepLR(optimizer,\n",
    "                                               step_size=3,\n",
    "                                               gamma=0.1)\n",
    "\n",
    "# let's train it for 10 epochs\n",
    "num_epochs = 10\n",
    "\n",
    "for epoch in range(num_epochs):\n",
    "    # train for one epoch, printing every 10 iterations\n",
    "    train_one_epoch(model, optimizer, train_loader, device, epoch, print_freq=10)\n",
    "    # update the learning rate\n",
    "    lr_scheduler.step()\n",
    "    torch.save(model.state_dict(), \"./model/fasterRCNN/fasterRCNN\"+str(epoch+1)+\".pt\")\n",
    "    # evaluate on the test dataset\n",
    "    evaluate(model, train_loader, device=device)\n"
   ]
  },
  {
   "cell_type": "code",
   "execution_count": 16,
   "id": "d53220fa",
   "metadata": {},
   "outputs": [
    {
     "name": "stdout",
     "output_type": "stream",
     "text": [
      "creating index...\n",
      "index created!\n",
      "Test:  [  0/344]  eta: 0:07:52  model_time: 1.2324 (1.2324)  evaluator_time: 0.0018 (0.0018)  time: 1.3731  data: 0.1328  max mem: 569\n",
      "Test:  [100/344]  eta: 0:00:22  model_time: 0.0704 (0.0838)  evaluator_time: 0.0008 (0.0011)  time: 0.0790  data: 0.0024  max mem: 639\n",
      "Test:  [200/344]  eta: 0:00:12  model_time: 0.0783 (0.0802)  evaluator_time: 0.0011 (0.0011)  time: 0.0839  data: 0.0026  max mem: 646\n",
      "Test:  [300/344]  eta: 0:00:03  model_time: 0.0783 (0.0780)  evaluator_time: 0.0012 (0.0012)  time: 0.0808  data: 0.0025  max mem: 658\n",
      "Test:  [343/344]  eta: 0:00:00  model_time: 0.0781 (0.0775)  evaluator_time: 0.0011 (0.0012)  time: 0.0808  data: 0.0024  max mem: 658\n",
      "Test: Total time: 0:00:28 (0.0840 s / it)\n",
      "Averaged stats: model_time: 0.0781 (0.0775)  evaluator_time: 0.0011 (0.0012)\n",
      "Accumulating evaluation results...\n",
      "DONE (t=0.13s).\n",
      "IoU metric: bbox\n",
      " Average Precision  (AP) @[ IoU=0.50:0.95 | area=   all | maxDets=100 ] = 0.200\n",
      " Average Precision  (AP) @[ IoU=0.50      | area=   all | maxDets=100 ] = 0.323\n",
      " Average Precision  (AP) @[ IoU=0.75      | area=   all | maxDets=100 ] = 0.231\n",
      " Average Precision  (AP) @[ IoU=0.50:0.95 | area= small | maxDets=100 ] = -1.000\n",
      " Average Precision  (AP) @[ IoU=0.50:0.95 | area=medium | maxDets=100 ] = 0.350\n",
      " Average Precision  (AP) @[ IoU=0.50:0.95 | area= large | maxDets=100 ] = 0.206\n",
      " Average Recall     (AR) @[ IoU=0.50:0.95 | area=   all | maxDets=  1 ] = 0.335\n",
      " Average Recall     (AR) @[ IoU=0.50:0.95 | area=   all | maxDets= 10 ] = 0.389\n",
      " Average Recall     (AR) @[ IoU=0.50:0.95 | area=   all | maxDets=100 ] = 0.389\n",
      " Average Recall     (AR) @[ IoU=0.50:0.95 | area= small | maxDets=100 ] = -1.000\n",
      " Average Recall     (AR) @[ IoU=0.50:0.95 | area=medium | maxDets=100 ] = 0.350\n",
      " Average Recall     (AR) @[ IoU=0.50:0.95 | area= large | maxDets=100 ] = 0.399\n"
     ]
    },
    {
     "data": {
      "text/plain": [
       "<coco_eval.CocoEvaluator at 0x7f20d866a530>"
      ]
     },
     "execution_count": 16,
     "metadata": {},
     "output_type": "execute_result"
    }
   ],
   "source": [
    "device = torch.device('cuda') if torch.cuda.is_available() else torch.device('cpu')\n",
    "\n",
    "# our dataset has two classes only - background and person\n",
    "num_classes = len(classes)+1\n",
    "# use our dataset and defined transformations\n",
    "train_data=AnimalDataset(get_transform(train=True),train_imgs,train_labels)\n",
    "test_data=AnimalDataset(get_transform(train=False),test_imgs,test_labels)\n",
    "\n",
    "# define training and validation data loaders\n",
    "train_loader = torch.utils.data.DataLoader(\n",
    "    train_data, batch_size=4, shuffle=True, num_workers=4,\n",
    "    collate_fn=utils.collate_fn)\n",
    "\n",
    "test_loader = torch.utils.data.DataLoader(\n",
    "    test_data, batch_size=1, shuffle=False, num_workers=4,\n",
    "    collate_fn=utils.collate_fn)\n",
    "\n",
    "# get the model using our helper function\n",
    "model = get_model_instance_segmentation(num_classes)\n",
    "\n",
    "# move model to the right device\n",
    "model.to(device)\n",
    "model.load_state_dict(torch.load('./model/fasterRCNN/fasterRCNN0.pt'))\n",
    "evaluate(model,test_loader,device=device)"
   ]
  },
  {
   "cell_type": "code",
   "execution_count": 23,
   "id": "d736f518",
   "metadata": {},
   "outputs": [
    {
     "name": "stdout",
     "output_type": "stream",
     "text": [
      "10485.4501953125 MB\n",
      "10485.4501953125 MB\n"
     ]
    }
   ],
   "source": [
    "print(torch.cuda.memory_allocated(device=\"cuda\")/ (1024**2), 'MB')\n",
    "torch.cuda.empty_cache()\n",
    "print(torch.cuda.memory_allocated(device=\"cuda\")/ (1024**2), 'MB')\n"
   ]
  },
  {
   "cell_type": "code",
   "execution_count": 39,
   "id": "a3a689c3-71c8-474f-bf25-1cdd4ec93417",
   "metadata": {},
   "outputs": [
    {
     "name": "stdout",
     "output_type": "stream",
     "text": [
      "hi\n",
      "[{'boxes': tensor([], size=(0, 4), grad_fn=<StackBackward0>), 'labels': tensor([], dtype=torch.int64), 'scores': tensor([], grad_fn=<IndexBackward0>)}, {'boxes': tensor([], size=(0, 4), grad_fn=<StackBackward0>), 'labels': tensor([], dtype=torch.int64), 'scores': tensor([], grad_fn=<IndexBackward0>)}]\n"
     ]
    }
   ],
   "source": [
    "model = torchvision.models.detection.fasterrcnn_resnet50_fpn(weights=\"DEFAULT\")\n",
    "dataset = AnimalDataset( get_transform(train=True),train_imgs,train_labels)\n",
    "data_loader = torch.utils.data.DataLoader(\n",
    " dataset, batch_size=2, shuffle=True, num_workers=4,\n",
    " collate_fn=utils.collate_fn)\n",
    "print('hi')\n",
    "# For Training\n",
    "images,targets = next(iter(data_loader))\n",
    "\n",
    "images = list(image for image in images)\n",
    "targets = [{k: v for k, v in t.items()} for t in targets]\n",
    "output = model(images,targets)\n",
    "# Returns losses and detections\n",
    "# For inference\n",
    "model.eval()\n",
    "x = [torch.rand(3, 300, 400), torch.rand(3, 500, 400)]\n",
    "\n",
    "predictions = model(x)  \n",
    "print(predictions)"
   ]
  },
  {
   "cell_type": "code",
   "execution_count": 11,
   "id": "5f22ee6d-a640-4ec0-97f2-22dcb16a28c6",
   "metadata": {},
   "outputs": [
    {
     "name": "stderr",
     "output_type": "stream",
     "text": [
      "  1%|          | 9/914 [00:28<48:24,  3.21s/it]\n"
     ]
    },
    {
     "ename": "IndexError",
     "evalue": "Target 3 is out of bounds.",
     "output_type": "error",
     "traceback": [
      "\u001b[1;31m---------------------------------------------------------------------------\u001b[0m",
      "\u001b[1;31mIndexError\u001b[0m                                Traceback (most recent call last)",
      "Cell \u001b[1;32mIn[11], line 19\u001b[0m\n\u001b[0;32m     17\u001b[0m imgs \u001b[39m=\u001b[39m \u001b[39mlist\u001b[39m(img\u001b[39m.\u001b[39mto(device) \u001b[39mfor\u001b[39;00m img \u001b[39min\u001b[39;00m imgs)\n\u001b[0;32m     18\u001b[0m annotations \u001b[39m=\u001b[39m [{k: v\u001b[39m.\u001b[39mto(device) \u001b[39mfor\u001b[39;00m k, v \u001b[39min\u001b[39;00m t\u001b[39m.\u001b[39mitems()} \u001b[39mfor\u001b[39;00m t \u001b[39min\u001b[39;00m annotations]\n\u001b[1;32m---> 19\u001b[0m loss_dict \u001b[39m=\u001b[39m model([imgs[\u001b[39m0\u001b[39;49m]], [annotations[\u001b[39m0\u001b[39;49m]])\n\u001b[0;32m     20\u001b[0m losses \u001b[39m=\u001b[39m \u001b[39msum\u001b[39m(loss \u001b[39mfor\u001b[39;00m loss \u001b[39min\u001b[39;00m loss_dict\u001b[39m.\u001b[39mvalues())        \n\u001b[0;32m     22\u001b[0m optimizer\u001b[39m.\u001b[39mzero_grad()\n",
      "File \u001b[1;32mc:\\Users\\Pc\\anaconda3\\envs\\deeplearning\\lib\\site-packages\\torch\\nn\\modules\\module.py:1194\u001b[0m, in \u001b[0;36mModule._call_impl\u001b[1;34m(self, *input, **kwargs)\u001b[0m\n\u001b[0;32m   1190\u001b[0m \u001b[39m# If we don't have any hooks, we want to skip the rest of the logic in\u001b[39;00m\n\u001b[0;32m   1191\u001b[0m \u001b[39m# this function, and just call forward.\u001b[39;00m\n\u001b[0;32m   1192\u001b[0m \u001b[39mif\u001b[39;00m \u001b[39mnot\u001b[39;00m (\u001b[39mself\u001b[39m\u001b[39m.\u001b[39m_backward_hooks \u001b[39mor\u001b[39;00m \u001b[39mself\u001b[39m\u001b[39m.\u001b[39m_forward_hooks \u001b[39mor\u001b[39;00m \u001b[39mself\u001b[39m\u001b[39m.\u001b[39m_forward_pre_hooks \u001b[39mor\u001b[39;00m _global_backward_hooks\n\u001b[0;32m   1193\u001b[0m         \u001b[39mor\u001b[39;00m _global_forward_hooks \u001b[39mor\u001b[39;00m _global_forward_pre_hooks):\n\u001b[1;32m-> 1194\u001b[0m     \u001b[39mreturn\u001b[39;00m forward_call(\u001b[39m*\u001b[39m\u001b[39minput\u001b[39m, \u001b[39m*\u001b[39m\u001b[39m*\u001b[39mkwargs)\n\u001b[0;32m   1195\u001b[0m \u001b[39m# Do not call functions when jit is used\u001b[39;00m\n\u001b[0;32m   1196\u001b[0m full_backward_hooks, non_full_backward_hooks \u001b[39m=\u001b[39m [], []\n",
      "File \u001b[1;32mc:\\Users\\Pc\\anaconda3\\envs\\deeplearning\\lib\\site-packages\\torchvision\\models\\detection\\generalized_rcnn.py:105\u001b[0m, in \u001b[0;36mGeneralizedRCNN.forward\u001b[1;34m(self, images, targets)\u001b[0m\n\u001b[0;32m    103\u001b[0m     features \u001b[39m=\u001b[39m OrderedDict([(\u001b[39m\"\u001b[39m\u001b[39m0\u001b[39m\u001b[39m\"\u001b[39m, features)])\n\u001b[0;32m    104\u001b[0m proposals, proposal_losses \u001b[39m=\u001b[39m \u001b[39mself\u001b[39m\u001b[39m.\u001b[39mrpn(images, features, targets)\n\u001b[1;32m--> 105\u001b[0m detections, detector_losses \u001b[39m=\u001b[39m \u001b[39mself\u001b[39;49m\u001b[39m.\u001b[39;49mroi_heads(features, proposals, images\u001b[39m.\u001b[39;49mimage_sizes, targets)\n\u001b[0;32m    106\u001b[0m detections \u001b[39m=\u001b[39m \u001b[39mself\u001b[39m\u001b[39m.\u001b[39mtransform\u001b[39m.\u001b[39mpostprocess(detections, images\u001b[39m.\u001b[39mimage_sizes, original_image_sizes)  \u001b[39m# type: ignore[operator]\u001b[39;00m\n\u001b[0;32m    108\u001b[0m losses \u001b[39m=\u001b[39m {}\n",
      "File \u001b[1;32mc:\\Users\\Pc\\anaconda3\\envs\\deeplearning\\lib\\site-packages\\torch\\nn\\modules\\module.py:1194\u001b[0m, in \u001b[0;36mModule._call_impl\u001b[1;34m(self, *input, **kwargs)\u001b[0m\n\u001b[0;32m   1190\u001b[0m \u001b[39m# If we don't have any hooks, we want to skip the rest of the logic in\u001b[39;00m\n\u001b[0;32m   1191\u001b[0m \u001b[39m# this function, and just call forward.\u001b[39;00m\n\u001b[0;32m   1192\u001b[0m \u001b[39mif\u001b[39;00m \u001b[39mnot\u001b[39;00m (\u001b[39mself\u001b[39m\u001b[39m.\u001b[39m_backward_hooks \u001b[39mor\u001b[39;00m \u001b[39mself\u001b[39m\u001b[39m.\u001b[39m_forward_hooks \u001b[39mor\u001b[39;00m \u001b[39mself\u001b[39m\u001b[39m.\u001b[39m_forward_pre_hooks \u001b[39mor\u001b[39;00m _global_backward_hooks\n\u001b[0;32m   1193\u001b[0m         \u001b[39mor\u001b[39;00m _global_forward_hooks \u001b[39mor\u001b[39;00m _global_forward_pre_hooks):\n\u001b[1;32m-> 1194\u001b[0m     \u001b[39mreturn\u001b[39;00m forward_call(\u001b[39m*\u001b[39m\u001b[39minput\u001b[39m, \u001b[39m*\u001b[39m\u001b[39m*\u001b[39mkwargs)\n\u001b[0;32m   1195\u001b[0m \u001b[39m# Do not call functions when jit is used\u001b[39;00m\n\u001b[0;32m   1196\u001b[0m full_backward_hooks, non_full_backward_hooks \u001b[39m=\u001b[39m [], []\n",
      "File \u001b[1;32mc:\\Users\\Pc\\anaconda3\\envs\\deeplearning\\lib\\site-packages\\torchvision\\models\\detection\\roi_heads.py:772\u001b[0m, in \u001b[0;36mRoIHeads.forward\u001b[1;34m(self, features, proposals, image_shapes, targets)\u001b[0m\n\u001b[0;32m    770\u001b[0m     \u001b[39mif\u001b[39;00m regression_targets \u001b[39mis\u001b[39;00m \u001b[39mNone\u001b[39;00m:\n\u001b[0;32m    771\u001b[0m         \u001b[39mraise\u001b[39;00m \u001b[39mValueError\u001b[39;00m(\u001b[39m\"\u001b[39m\u001b[39mregression_targets cannot be None\u001b[39m\u001b[39m\"\u001b[39m)\n\u001b[1;32m--> 772\u001b[0m     loss_classifier, loss_box_reg \u001b[39m=\u001b[39m fastrcnn_loss(class_logits, box_regression, labels, regression_targets)\n\u001b[0;32m    773\u001b[0m     losses \u001b[39m=\u001b[39m {\u001b[39m\"\u001b[39m\u001b[39mloss_classifier\u001b[39m\u001b[39m\"\u001b[39m: loss_classifier, \u001b[39m\"\u001b[39m\u001b[39mloss_box_reg\u001b[39m\u001b[39m\"\u001b[39m: loss_box_reg}\n\u001b[0;32m    774\u001b[0m \u001b[39melse\u001b[39;00m:\n",
      "File \u001b[1;32mc:\\Users\\Pc\\anaconda3\\envs\\deeplearning\\lib\\site-packages\\torchvision\\models\\detection\\roi_heads.py:31\u001b[0m, in \u001b[0;36mfastrcnn_loss\u001b[1;34m(class_logits, box_regression, labels, regression_targets)\u001b[0m\n\u001b[0;32m     28\u001b[0m labels \u001b[39m=\u001b[39m torch\u001b[39m.\u001b[39mcat(labels, dim\u001b[39m=\u001b[39m\u001b[39m0\u001b[39m)\n\u001b[0;32m     29\u001b[0m regression_targets \u001b[39m=\u001b[39m torch\u001b[39m.\u001b[39mcat(regression_targets, dim\u001b[39m=\u001b[39m\u001b[39m0\u001b[39m)\n\u001b[1;32m---> 31\u001b[0m classification_loss \u001b[39m=\u001b[39m F\u001b[39m.\u001b[39;49mcross_entropy(class_logits, labels)\n\u001b[0;32m     33\u001b[0m \u001b[39m# get indices that correspond to the regression targets for\u001b[39;00m\n\u001b[0;32m     34\u001b[0m \u001b[39m# the corresponding ground truth labels, to be used with\u001b[39;00m\n\u001b[0;32m     35\u001b[0m \u001b[39m# advanced indexing\u001b[39;00m\n\u001b[0;32m     36\u001b[0m sampled_pos_inds_subset \u001b[39m=\u001b[39m torch\u001b[39m.\u001b[39mwhere(labels \u001b[39m>\u001b[39m \u001b[39m0\u001b[39m)[\u001b[39m0\u001b[39m]\n",
      "File \u001b[1;32mc:\\Users\\Pc\\anaconda3\\envs\\deeplearning\\lib\\site-packages\\torch\\nn\\functional.py:3026\u001b[0m, in \u001b[0;36mcross_entropy\u001b[1;34m(input, target, weight, size_average, ignore_index, reduce, reduction, label_smoothing)\u001b[0m\n\u001b[0;32m   3024\u001b[0m \u001b[39mif\u001b[39;00m size_average \u001b[39mis\u001b[39;00m \u001b[39mnot\u001b[39;00m \u001b[39mNone\u001b[39;00m \u001b[39mor\u001b[39;00m reduce \u001b[39mis\u001b[39;00m \u001b[39mnot\u001b[39;00m \u001b[39mNone\u001b[39;00m:\n\u001b[0;32m   3025\u001b[0m     reduction \u001b[39m=\u001b[39m _Reduction\u001b[39m.\u001b[39mlegacy_get_string(size_average, reduce)\n\u001b[1;32m-> 3026\u001b[0m \u001b[39mreturn\u001b[39;00m torch\u001b[39m.\u001b[39;49m_C\u001b[39m.\u001b[39;49m_nn\u001b[39m.\u001b[39;49mcross_entropy_loss(\u001b[39minput\u001b[39;49m, target, weight, _Reduction\u001b[39m.\u001b[39;49mget_enum(reduction), ignore_index, label_smoothing)\n",
      "\u001b[1;31mIndexError\u001b[0m: Target 3 is out of bounds."
     ]
    }
   ],
   "source": [
    "num_epochs =1\n",
    "model.to(device)\n",
    "from tqdm import tqdm\n",
    "# parameters\n",
    "params = [p for p in model.parameters() if p.requires_grad]\n",
    "optimizer = torch.optim.SGD(params, lr=0.005,\n",
    "                                momentum=0.9, weight_decay=0.0005)\n",
    "\n",
    "len_dataloader = len(data_loader)\n",
    "\n",
    "for epoch in range(num_epochs):\n",
    "    model.train()\n",
    "    i = 0    \n",
    "    epoch_loss = 0\n",
    "    for imgs, annotations in tqdm(data_loader):\n",
    "        i += 1\n",
    "        imgs = list(img.to(device) for img in imgs)\n",
    "        annotations = [{k: v.to(device) for k, v in t.items()} for t in annotations]\n",
    "        loss_dict = model([imgs[0]], [annotations[0]])\n",
    "        losses = sum(loss for loss in loss_dict.values())        \n",
    "\n",
    "        optimizer.zero_grad()\n",
    "        \n",
    "        losses.backward()\n",
    "        optimizer.step() \n",
    "#         print(f'Iteration: {i}/{len_dataloader}, Loss: {losses}')\n",
    "        epoch_loss += losses\n",
    "    print(epoch_loss)"
   ]
  },
  {
   "cell_type": "code",
   "execution_count": null,
   "id": "1ee1d38f-5761-450e-88a2-7a1dceeb5764",
   "metadata": {},
   "outputs": [],
   "source": [
    "for imgs, annotations in data_loader:\n",
    "        imgs = list(img.to(device) for img in imgs)\n",
    "        annotations = [{k: v.to(device) for k, v in t.items()} for t in annotations]\n",
    "        break"
   ]
  },
  {
   "cell_type": "code",
   "execution_count": null,
   "id": "7a664821-1588-44c0-8667-9af4210f0f66",
   "metadata": {},
   "outputs": [],
   "source": [
    "model.eval()\n",
    "preds = model(imgs)\n",
    "preds\n"
   ]
  },
  {
   "cell_type": "code",
   "execution_count": null,
   "id": "3f649a4c-a6e4-422c-a4dd-ae6ad72ca475",
   "metadata": {},
   "outputs": [],
   "source": [
    "torch.save(model.state_dict(), \"model.pth\")"
   ]
  },
  {
   "cell_type": "code",
   "execution_count": 33,
   "id": "5f0d9a60-6e8d-4049-b8b2-848b7f1f2c4f",
   "metadata": {},
   "outputs": [
    {
     "name": "stdout",
     "output_type": "stream",
     "text": [
      "%pylab is deprecated, use %matplotlib inline and import the required libraries.\n",
      "Populating the interactive namespace from numpy and matplotlib\n"
     ]
    },
    {
     "name": "stderr",
     "output_type": "stream",
     "text": [
      "/home/lqhung2001/.local/lib/python3.10/site-packages/IPython/core/magics/pylab.py:162: UserWarning: pylab import has clobbered these variables: ['random']\n",
      "`%matplotlib` prevents importing * from pylab and numpy\n",
      "  warn(\"pylab import has clobbered these variables: %s\"  % clobbered +\n"
     ]
    }
   ],
   "source": [
    "%pylab inline"
   ]
  },
  {
   "cell_type": "code",
   "execution_count": null,
   "id": "d41c9550",
   "metadata": {},
   "outputs": [],
   "source": []
  }
 ],
 "metadata": {
  "kernelspec": {
   "display_name": "Python 3 (ipykernel)",
   "language": "python",
   "name": "python3"
  },
  "language_info": {
   "codemirror_mode": {
    "name": "ipython",
    "version": 3
   },
   "file_extension": ".py",
   "mimetype": "text/x-python",
   "name": "python",
   "nbconvert_exporter": "python",
   "pygments_lexer": "ipython3",
   "version": "3.10.9"
  },
  "vscode": {
   "interpreter": {
    "hash": "2502a1e4356d273083c818ffae066d79aa408d0a6b3a1fb8ebf74f3257cfc1ea"
   }
  }
 },
 "nbformat": 4,
 "nbformat_minor": 5
}
