{
 "cells": [
  {
   "cell_type": "code",
   "execution_count": 3,
   "id": "3d31be80-f0da-4d0d-86dc-535adeb10b1c",
   "metadata": {},
   "outputs": [],
   "source": [
    "\n",
    "import numpy as np # linear algebra\n",
    "import pandas as pd # data processing, CSV file I/O (e.g. pd.read_csv)\n",
    "#from bs4 import BeautifulSoup\n",
    "import torchvision\n",
    "from torchvision import transforms, datasets, models\n",
    "import torch\n",
    "from torchvision.models.detection.faster_rcnn import FastRCNNPredictor\n",
    "from PIL import Image\n",
    "import matplotlib.pyplot as plt\n",
    "from torchvision.models.detection.mask_rcnn import MaskRCNNPredictor\n",
    "import matplotlib.patches as patches\n",
    "import tqdm \n",
    "# Input data files are available in the read-only \"../input/\" directory\n",
    "# For example, running this (by clicking run or pressing Shift+Enter) will list all files under the input directory\n",
    "import random\n",
    "import os\n"
   ]
  },
  {
   "cell_type": "code",
   "execution_count": 4,
   "id": "7c2d108a-09f3-4856-b23b-2478280c4603",
   "metadata": {},
   "outputs": [],
   "source": [
    "train_labels0=[]\n",
    "test_labels0=[]\n",
    "train_imgs0=[]\n",
    "test_imgs0=[]\n",
    "classes=['Bear', 'Bull', 'Cat', 'Cattle',\n",
    "           'Cheetah', 'Chicken', 'Crocodile',\n",
    "           'Deer', 'Dog', 'Fox', 'Goat', 'Hippopotamus', \n",
    "           'Horse', 'Jaguar', 'Leopard', 'Lion', 'Lynx',\n",
    "           'Monkey', 'Mule', 'Ostrich', 'Owl', \n",
    "           'Pig', 'Raccoon', 'Raven', 'Rhinoceros', \n",
    "           'Sheep', 'Snake', 'Tiger', 'Turkey', 'Turtle', 'Zebra']\n",
    "\"\"\"classes=['Cat','Dog']\"\"\"\n",
    "encode={}\n",
    "for i in range(len(classes)):\n",
    "    encode[classes[i]]=i+1\n",
    "\n",
    "def checkclass(dirname):\n",
    "    \n",
    "    for animal in classes:\n",
    "        if dirname.endswith(animal):\n",
    "            return True\n",
    "    return False\n",
    "\n",
    "for dirname, dirs, filenames in os.walk('./data/'):\n",
    "    \n",
    "    if 'train' in dirname and checkclass(dirname):\n",
    "        labels= dirname +'/Label/'\n",
    "        \n",
    "        for label in sorted(os.listdir(labels)):\n",
    "            \n",
    "            \n",
    "            if label.endswith('txt'):\n",
    "                train_labels0.append(labels+label)\n",
    "        \n",
    "        for image in sorted(filenames):\n",
    "            \n",
    "            \n",
    "            if image.endswith('png') or image.endswith('jpg'):\n",
    "                train_imgs0.append(dirname+'/'+image)\n",
    "    if 'val' in dirname and checkclass(dirname):\n",
    "        labels= dirname +'/Label/'\n",
    "        for label in sorted(os.listdir(labels)):\n",
    "            if label.endswith('.txt'):\n",
    "                test_labels0.append(labels+label)\n",
    "        for image in sorted(filenames):\n",
    "            if image.endswith('png')or image.endswith('jpg'):\n",
    "                test_imgs0.append(dirname+'/'+image)\n"
   ]
  },
  {
   "cell_type": "code",
   "execution_count": 44,
   "id": "8c1187ac-464c-4154-8bf1-6eb1d577845d",
   "metadata": {},
   "outputs": [
    {
     "name": "stdout",
     "output_type": "stream",
     "text": [
      "14620\n",
      "14620\n",
      "6864\n",
      "6864\n",
      "3655\n",
      "3655\n",
      "6864\n",
      "6864\n"
     ]
    }
   ],
   "source": [
    "print(len(train_imgs0))\n",
    "print(len(train_labels0))\n",
    "print(len(test_imgs0))\n",
    "print(len(test_labels0))\n",
    "train_labels=[]\n",
    "test_labels=[]\n",
    "train_imgs=[]\n",
    "test_imgs=[]\n",
    "val_imgs=[]\n",
    "val_imgs=[]\n",
    "for i in range(len(train_labels0)):\n",
    "    if i%4==0:\n",
    "        \n",
    "        train_labels.append(train_labels0[i])\n",
    "        train_imgs.append(train_imgs0[i])\n",
    "for i in range(len(test_labels0)):\n",
    "        test_labels.append(test_labels0[i])\n",
    "        test_imgs.append(test_imgs0[i])\n",
    "print(len(train_imgs))\n",
    "print(len(train_labels))\n",
    "print(len(test_imgs))\n",
    "print(len(test_labels))\n"
   ]
  },
  {
   "cell_type": "code",
   "execution_count": 6,
   "id": "d3751d57-e164-4596-a09f-703d7f768b20",
   "metadata": {},
   "outputs": [],
   "source": [
    "class AnimalDataset(object):\n",
    "    def __init__(self, transforms,img_dir,label_dir):\n",
    "        self.transforms = transforms\n",
    "        # load all image files, sorting them to\n",
    "        # ensure that they are aligned\n",
    "        self.imgs = img_dir\n",
    "        self.label=label_dir\n",
    "#         self.labels = list(sorted(os.listdir(\"/kaggle/input/face-mask-detection/annotations/\")))\n",
    "\n",
    "    def __getitem__(self, idx):\n",
    "        # load images ad masks\n",
    "        file_image = self.imgs[idx]\n",
    "        file_label = self.label[idx]\n",
    "        img = Image.open(file_image).convert(\"RGB\")\n",
    "        target={}\n",
    "        target['image_id']=torch.tensor([idx])\n",
    "        labels=[]\n",
    "        boxes=[]\n",
    "        #Generate Label\n",
    "        with open(file_label,'r')as f:\n",
    "            lines=f.readlines()\n",
    "            for line in lines:\n",
    "                line_list=line.strip().split(' ')\n",
    "                labels.append(encode[line_list[0]])\n",
    "                boxes.append([float(i) for i in line_list[1:]])\n",
    "                \n",
    "            \n",
    "        boxes = torch.as_tensor(boxes, dtype=torch.float32)\n",
    "        # Labels (In my case, I only one class: target class or background)\n",
    "        labels = torch.as_tensor(labels, dtype=torch.int64)        \n",
    "        \n",
    "        \n",
    "        area = (boxes[:, 3] - boxes[:, 1]) * (boxes[:, 2] - boxes[:, 0])\n",
    "        \n",
    "        \n",
    "        iscrowd = torch.zeros((len(classes),), dtype=torch.int64)\n",
    "\n",
    "        target['boxes']=boxes\n",
    "        target['labels']=labels\n",
    "       \n",
    "        target[\"area\"] = area\n",
    "        target[\"iscrowd\"] = iscrowd\n",
    "        if self.transforms is not None:\n",
    "            img, target = self.transforms(img, target)\n",
    "\n",
    "        return img, target\n",
    "\n",
    "    def __len__(self):\n",
    "        return len(self.imgs)"
   ]
  },
  {
   "cell_type": "code",
   "execution_count": 7,
   "id": "db8acaba-2642-4984-b695-621d1914d1b4",
   "metadata": {},
   "outputs": [],
   "source": [
    "from engine import train_one_epoch, evaluate\n",
    "import utils\n",
    "import transforms as T\n",
    "\n",
    "\n",
    "def get_transform(train):\n",
    "    transforms = []\n",
    "    # converts the image, a PIL image, into a PyTorch Tensor\n",
    "    transforms.append(T.ToTensor())\n",
    "    if train:\n",
    "        # during training, randomly flip the training images\n",
    "        # and ground-truth for data augmentation\n",
    "        transforms.append(T.RandomHorizontalFlip(0.5))\n",
    "    return T.Compose(transforms)"
   ]
  },
  {
   "cell_type": "code",
   "execution_count": 8,
   "id": "0a1ad1f6-c7c6-46af-a903-7201341ec79f",
   "metadata": {},
   "outputs": [],
   "source": [
    "import torchvision\n",
    "from torchvision.models.detection.ssd import SSD\n",
    "from torchvision.models.detection.rpn import AnchorGenerator\n",
    "def get_model_instance_vgg19(num_classes):\n",
    "    backbone = torchvision.models.vgg19().features\n",
    "    \n",
    "    anchor_generator = AnchorGenerator(sizes=((32, 64, 128, 256, 512),),\n",
    "                                       aspect_ratios=((0.5, 1.0, 2.0),))\n",
    "    size=(300,300)\n",
    "    model=SSD(backbone=backbone,anchor_generator=anchor_generator,size=size,num_classes=num_classes)\n",
    "    return model"
   ]
  },
  {
   "cell_type": "code",
   "execution_count": 9,
   "id": "8cbb979a-136a-4aa6-983d-60c26473c696",
   "metadata": {},
   "outputs": [],
   "source": [
    "model=get_model_instance_vgg19(len(classes)+1)"
   ]
  },
  {
   "cell_type": "code",
   "execution_count": 7,
   "id": "40773fd0-7b97-4be1-8774-577141f3aad2",
   "metadata": {},
   "outputs": [
    {
     "name": "stderr",
     "output_type": "stream",
     "text": [
      "0it [00:00, ?it/s]"
     ]
    },
    {
     "name": "stdout",
     "output_type": "stream",
     "text": [
      "<torch.utils.data.dataloader.DataLoader object at 0x0000024C1147A620>\n"
     ]
    },
    {
     "name": "stderr",
     "output_type": "stream",
     "text": [
      "2it [00:02,  1.06s/it]"
     ]
    },
    {
     "name": "stdout",
     "output_type": "stream",
     "text": [
      "Epoch: [0]  [   0/2437]  eta: 1:33:05  lr: 0.000010  loss: 30.1254 (30.1254)  bbox_regression: 5.1153 (5.1153)  classification: 25.0101 (25.0101)  time: 2.2920  data: 0.0825  max mem: 791\n"
     ]
    },
    {
     "name": "stderr",
     "output_type": "stream",
     "text": [
      "102it [00:20,  5.78it/s]"
     ]
    },
    {
     "name": "stdout",
     "output_type": "stream",
     "text": [
      "Epoch: [0]  [ 100/2437]  eta: 0:07:48  lr: 0.000509  loss: 6.7575 (14.5556)  bbox_regression: 2.0530 (2.6525)  classification: 4.8007 (11.9031)  time: 0.1742  data: 0.0761  max mem: 932\n"
     ]
    },
    {
     "name": "stderr",
     "output_type": "stream",
     "text": [
      "202it [00:37,  5.89it/s]"
     ]
    },
    {
     "name": "stdout",
     "output_type": "stream",
     "text": [
      "Epoch: [0]  [ 200/2437]  eta: 0:06:59  lr: 0.001009  loss: 6.3233 (10.5766)  bbox_regression: 1.6538 (2.2479)  classification: 4.9248 (8.3287)  time: 0.1761  data: 0.0796  max mem: 932\n"
     ]
    },
    {
     "name": "stderr",
     "output_type": "stream",
     "text": [
      "302it [00:55,  5.69it/s]"
     ]
    },
    {
     "name": "stdout",
     "output_type": "stream",
     "text": [
      "Epoch: [0]  [ 300/2437]  eta: 0:06:33  lr: 0.001508  loss: 5.4778 (9.1085)  bbox_regression: 1.3194 (2.0287)  classification: 4.2886 (7.0798)  time: 0.1731  data: 0.0762  max mem: 933\n"
     ]
    },
    {
     "name": "stderr",
     "output_type": "stream",
     "text": [
      "402it [01:13,  5.63it/s]"
     ]
    },
    {
     "name": "stdout",
     "output_type": "stream",
     "text": [
      "Epoch: [0]  [ 400/2437]  eta: 0:06:10  lr: 0.002008  loss: 6.0885 (8.2973)  bbox_regression: 1.2853 (1.8903)  classification: 4.6546 (6.4071)  time: 0.1734  data: 0.0766  max mem: 933\n"
     ]
    },
    {
     "name": "stderr",
     "output_type": "stream",
     "text": [
      "502it [01:30,  5.07it/s]"
     ]
    },
    {
     "name": "stdout",
     "output_type": "stream",
     "text": [
      "Epoch: [0]  [ 500/2437]  eta: 0:05:50  lr: 0.002507  loss: 5.7992 (7.7848)  bbox_regression: 1.1408 (1.7746)  classification: 4.5580 (6.0102)  time: 0.1787  data: 0.0814  max mem: 1031\n"
     ]
    },
    {
     "name": "stderr",
     "output_type": "stream",
     "text": [
      "602it [01:48,  5.78it/s]"
     ]
    },
    {
     "name": "stdout",
     "output_type": "stream",
     "text": [
      "Epoch: [0]  [ 600/2437]  eta: 0:05:30  lr: 0.003007  loss: 4.9843 (7.4646)  bbox_regression: 1.3182 (1.7058)  classification: 3.6655 (5.7588)  time: 0.1787  data: 0.0811  max mem: 1031\n"
     ]
    },
    {
     "name": "stderr",
     "output_type": "stream",
     "text": [
      "702it [02:05,  5.66it/s]"
     ]
    },
    {
     "name": "stdout",
     "output_type": "stream",
     "text": [
      "Epoch: [0]  [ 700/2437]  eta: 0:05:11  lr: 0.003506  loss: 4.4795 (7.2152)  bbox_regression: 1.2173 (1.6616)  classification: 3.3092 (5.5535)  time: 0.1766  data: 0.0793  max mem: 1031\n"
     ]
    },
    {
     "name": "stderr",
     "output_type": "stream",
     "text": [
      "802it [02:23,  5.87it/s]"
     ]
    },
    {
     "name": "stdout",
     "output_type": "stream",
     "text": [
      "Epoch: [0]  [ 800/2437]  eta: 0:04:52  lr: 0.004006  loss: 4.8756 (6.9962)  bbox_regression: 1.1976 (1.6194)  classification: 3.4167 (5.3768)  time: 0.1707  data: 0.0738  max mem: 1031\n"
     ]
    },
    {
     "name": "stderr",
     "output_type": "stream",
     "text": [
      "902it [02:40,  5.91it/s]"
     ]
    },
    {
     "name": "stdout",
     "output_type": "stream",
     "text": [
      "Epoch: [0]  [ 900/2437]  eta: 0:04:33  lr: 0.004505  loss: 5.9517 (6.8227)  bbox_regression: 1.1985 (1.5809)  classification: 4.1471 (5.2418)  time: 0.1717  data: 0.0743  max mem: 1031\n"
     ]
    },
    {
     "name": "stderr",
     "output_type": "stream",
     "text": [
      "1002it [02:57,  5.78it/s]"
     ]
    },
    {
     "name": "stdout",
     "output_type": "stream",
     "text": [
      "Epoch: [0]  [1000/2437]  eta: 0:04:14  lr: 0.005000  loss: 5.2151 (6.6681)  bbox_regression: 1.0147 (1.5462)  classification: 4.1157 (5.1220)  time: 0.1705  data: 0.0738  max mem: 1031\n"
     ]
    },
    {
     "name": "stderr",
     "output_type": "stream",
     "text": [
      "1102it [03:15,  5.80it/s]"
     ]
    },
    {
     "name": "stdout",
     "output_type": "stream",
     "text": [
      "Epoch: [0]  [1100/2437]  eta: 0:03:56  lr: 0.005000  loss: 5.0768 (6.5559)  bbox_regression: 1.0633 (1.5222)  classification: 3.9841 (5.0337)  time: 0.1735  data: 0.0766  max mem: 1031\n"
     ]
    },
    {
     "name": "stderr",
     "output_type": "stream",
     "text": [
      "1202it [03:32,  5.89it/s]"
     ]
    },
    {
     "name": "stdout",
     "output_type": "stream",
     "text": [
      "Epoch: [0]  [1200/2437]  eta: 0:03:38  lr: 0.005000  loss: 5.1909 (6.4741)  bbox_regression: 1.0493 (1.5005)  classification: 3.8567 (4.9736)  time: 0.1737  data: 0.0762  max mem: 1031\n"
     ]
    },
    {
     "name": "stderr",
     "output_type": "stream",
     "text": [
      "1302it [03:50,  5.57it/s]"
     ]
    },
    {
     "name": "stdout",
     "output_type": "stream",
     "text": [
      "Epoch: [0]  [1300/2437]  eta: 0:03:20  lr: 0.005000  loss: 4.8190 (6.3677)  bbox_regression: 0.9873 (1.4740)  classification: 3.8207 (4.8937)  time: 0.1984  data: 0.0963  max mem: 1100\n"
     ]
    },
    {
     "name": "stderr",
     "output_type": "stream",
     "text": [
      "1402it [04:07,  5.86it/s]"
     ]
    },
    {
     "name": "stdout",
     "output_type": "stream",
     "text": [
      "Epoch: [0]  [1400/2437]  eta: 0:03:03  lr: 0.005000  loss: 5.1747 (6.2791)  bbox_regression: 1.0923 (1.4466)  classification: 3.5527 (4.8325)  time: 0.1719  data: 0.0755  max mem: 1100\n"
     ]
    },
    {
     "name": "stderr",
     "output_type": "stream",
     "text": [
      "1502it [04:25,  5.67it/s]"
     ]
    },
    {
     "name": "stdout",
     "output_type": "stream",
     "text": [
      "Epoch: [0]  [1500/2437]  eta: 0:02:45  lr: 0.005000  loss: 4.8462 (6.1745)  bbox_regression: 0.9340 (1.4193)  classification: 3.5256 (4.7552)  time: 0.1844  data: 0.0837  max mem: 1100\n"
     ]
    },
    {
     "name": "stderr",
     "output_type": "stream",
     "text": [
      "1602it [04:42,  5.82it/s]"
     ]
    },
    {
     "name": "stdout",
     "output_type": "stream",
     "text": [
      "Epoch: [0]  [1600/2437]  eta: 0:02:27  lr: 0.005000  loss: 4.3624 (6.0848)  bbox_regression: 0.8177 (1.3915)  classification: 3.5021 (4.6933)  time: 0.1726  data: 0.0752  max mem: 1100\n"
     ]
    },
    {
     "name": "stderr",
     "output_type": "stream",
     "text": [
      "1702it [04:59,  5.85it/s]"
     ]
    },
    {
     "name": "stdout",
     "output_type": "stream",
     "text": [
      "Epoch: [0]  [1700/2437]  eta: 0:02:09  lr: 0.005000  loss: 5.2109 (6.0117)  bbox_regression: 1.2186 (1.3686)  classification: 4.0236 (4.6432)  time: 0.1707  data: 0.0745  max mem: 1100\n"
     ]
    },
    {
     "name": "stderr",
     "output_type": "stream",
     "text": [
      "1802it [05:17,  5.42it/s]"
     ]
    },
    {
     "name": "stdout",
     "output_type": "stream",
     "text": [
      "Epoch: [0]  [1800/2437]  eta: 0:01:52  lr: 0.005000  loss: 3.9916 (5.9435)  bbox_regression: 0.9607 (1.3483)  classification: 3.1904 (4.5952)  time: 0.1747  data: 0.0752  max mem: 1100\n"
     ]
    },
    {
     "name": "stderr",
     "output_type": "stream",
     "text": [
      "1902it [05:34,  5.98it/s]"
     ]
    },
    {
     "name": "stdout",
     "output_type": "stream",
     "text": [
      "Epoch: [0]  [1900/2437]  eta: 0:01:34  lr: 0.005000  loss: 4.5276 (5.8830)  bbox_regression: 0.8856 (1.3297)  classification: 3.5911 (4.5533)  time: 0.1738  data: 0.0761  max mem: 1100\n"
     ]
    },
    {
     "name": "stderr",
     "output_type": "stream",
     "text": [
      "2002it [05:51,  5.94it/s]"
     ]
    },
    {
     "name": "stdout",
     "output_type": "stream",
     "text": [
      "Epoch: [0]  [2000/2437]  eta: 0:01:16  lr: 0.005000  loss: 4.4802 (5.8216)  bbox_regression: 0.8725 (1.3101)  classification: 3.5727 (4.5115)  time: 0.1705  data: 0.0738  max mem: 1100\n"
     ]
    },
    {
     "name": "stderr",
     "output_type": "stream",
     "text": [
      "2102it [06:09,  5.87it/s]"
     ]
    },
    {
     "name": "stdout",
     "output_type": "stream",
     "text": [
      "Epoch: [0]  [2100/2437]  eta: 0:00:59  lr: 0.005000  loss: 3.9465 (5.7726)  bbox_regression: 0.8774 (1.2953)  classification: 3.2105 (4.4773)  time: 0.1730  data: 0.0752  max mem: 1100\n"
     ]
    },
    {
     "name": "stderr",
     "output_type": "stream",
     "text": [
      "2202it [06:27,  5.74it/s]"
     ]
    },
    {
     "name": "stdout",
     "output_type": "stream",
     "text": [
      "Epoch: [0]  [2200/2437]  eta: 0:00:41  lr: 0.005000  loss: 4.2267 (5.7220)  bbox_regression: 0.8790 (1.2816)  classification: 3.5437 (4.4404)  time: 0.1719  data: 0.0754  max mem: 1100\n"
     ]
    },
    {
     "name": "stderr",
     "output_type": "stream",
     "text": [
      "2302it [06:44,  5.73it/s]"
     ]
    },
    {
     "name": "stdout",
     "output_type": "stream",
     "text": [
      "Epoch: [0]  [2300/2437]  eta: 0:00:24  lr: 0.005000  loss: 5.1153 (5.6722)  bbox_regression: 1.1132 (1.2690)  classification: 3.9736 (4.4032)  time: 0.1739  data: 0.0763  max mem: 1100\n"
     ]
    },
    {
     "name": "stderr",
     "output_type": "stream",
     "text": [
      "2402it [07:02,  5.38it/s]"
     ]
    },
    {
     "name": "stdout",
     "output_type": "stream",
     "text": [
      "Epoch: [0]  [2400/2437]  eta: 0:00:06  lr: 0.005000  loss: 4.6975 (5.6258)  bbox_regression: 0.8550 (1.2543)  classification: 3.8232 (4.3715)  time: 0.1785  data: 0.0818  max mem: 1100\n"
     ]
    },
    {
     "name": "stderr",
     "output_type": "stream",
     "text": [
      "2437it [07:08,  5.69it/s]\n"
     ]
    },
    {
     "name": "stdout",
     "output_type": "stream",
     "text": [
      "Epoch: [0]  [2436/2437]  eta: 0:00:00  lr: 0.005000  loss: 3.4758 (5.6040)  bbox_regression: 0.7477 (1.2488)  classification: 2.7361 (4.3552)  time: 0.1716  data: 0.0749  max mem: 1100\n",
      "flag\n",
      "Epoch: [0] Total time: 0:07:08 (0.1757 s / it)\n",
      "saved dict\n",
      "creating index...\n",
      "index created!\n",
      "<torch.utils.data.dataloader.DataLoader object at 0x0000024C1147B310>\n",
      "Test:  [  0/100]  eta: 0:00:03  model_time: 0.0250 (0.0250)  evaluator_time: 0.0010 (0.0010)  time: 0.0390  data: 0.0120  max mem: 1100\n",
      "Test:  [ 99/100]  eta: 0:00:00  model_time: 0.0325 (0.0320)  evaluator_time: 0.0000 (0.0005)  time: 0.0470  data: 0.0124  max mem: 1100\n",
      "flag\n",
      "Test: Total time: 0:00:04 (0.0457 s / it)\n",
      "Averaged stats: model_time: 0.0325 (0.0320)  evaluator_time: 0.0000 (0.0005)\n",
      "Accumulating evaluation results...\n",
      "DONE (t=0.01s).\n",
      "IoU metric: bbox\n",
      " Average Precision  (AP) @[ IoU=0.50:0.95 | area=   all | maxDets=100 ] = 0.080\n",
      " Average Precision  (AP) @[ IoU=0.50      | area=   all | maxDets=100 ] = 0.161\n",
      " Average Precision  (AP) @[ IoU=0.75      | area=   all | maxDets=100 ] = 0.048\n",
      " Average Precision  (AP) @[ IoU=0.50:0.95 | area= small | maxDets=100 ] = -1.000\n",
      " Average Precision  (AP) @[ IoU=0.50:0.95 | area=medium | maxDets=100 ] = 0.000\n",
      " Average Precision  (AP) @[ IoU=0.50:0.95 | area= large | maxDets=100 ] = 0.080\n",
      " Average Recall     (AR) @[ IoU=0.50:0.95 | area=   all | maxDets=  1 ] = 0.180\n",
      " Average Recall     (AR) @[ IoU=0.50:0.95 | area=   all | maxDets= 10 ] = 0.192\n",
      " Average Recall     (AR) @[ IoU=0.50:0.95 | area=   all | maxDets=100 ] = 0.192\n",
      " Average Recall     (AR) @[ IoU=0.50:0.95 | area= small | maxDets=100 ] = -1.000\n",
      " Average Recall     (AR) @[ IoU=0.50:0.95 | area=medium | maxDets=100 ] = 0.000\n",
      " Average Recall     (AR) @[ IoU=0.50:0.95 | area= large | maxDets=100 ] = 0.192\n",
      "creating index...\n",
      "index created!\n",
      "<torch.utils.data.dataloader.DataLoader object at 0x0000024C1147A470>\n",
      "Test:  [  0/100]  eta: 0:00:05  model_time: 0.0450 (0.0450)  evaluator_time: 0.0000 (0.0000)  time: 0.0590  data: 0.0120  max mem: 1100\n",
      "Test:  [ 99/100]  eta: 0:00:00  model_time: 0.0340 (0.0356)  evaluator_time: 0.0010 (0.0008)  time: 0.0480  data: 0.0120  max mem: 1100\n",
      "flag\n",
      "Test: Total time: 0:00:04 (0.0498 s / it)\n",
      "Averaged stats: model_time: 0.0340 (0.0356)  evaluator_time: 0.0010 (0.0008)\n",
      "Accumulating evaluation results...\n",
      "DONE (t=0.03s).\n",
      "IoU metric: bbox\n",
      " Average Precision  (AP) @[ IoU=0.50:0.95 | area=   all | maxDets=100 ] = 0.148\n",
      " Average Precision  (AP) @[ IoU=0.50      | area=   all | maxDets=100 ] = 0.279\n",
      " Average Precision  (AP) @[ IoU=0.75      | area=   all | maxDets=100 ] = 0.115\n",
      " Average Precision  (AP) @[ IoU=0.50:0.95 | area= small | maxDets=100 ] = -1.000\n",
      " Average Precision  (AP) @[ IoU=0.50:0.95 | area=medium | maxDets=100 ] = -1.000\n",
      " Average Precision  (AP) @[ IoU=0.50:0.95 | area= large | maxDets=100 ] = 0.148\n",
      " Average Recall     (AR) @[ IoU=0.50:0.95 | area=   all | maxDets=  1 ] = 0.345\n",
      " Average Recall     (AR) @[ IoU=0.50:0.95 | area=   all | maxDets= 10 ] = 0.349\n",
      " Average Recall     (AR) @[ IoU=0.50:0.95 | area=   all | maxDets=100 ] = 0.349\n",
      " Average Recall     (AR) @[ IoU=0.50:0.95 | area= small | maxDets=100 ] = -1.000\n",
      " Average Recall     (AR) @[ IoU=0.50:0.95 | area=medium | maxDets=100 ] = -1.000\n",
      " Average Recall     (AR) @[ IoU=0.50:0.95 | area= large | maxDets=100 ] = 0.349\n"
     ]
    },
    {
     "name": "stderr",
     "output_type": "stream",
     "text": [
      "0it [00:00, ?it/s]"
     ]
    },
    {
     "name": "stdout",
     "output_type": "stream",
     "text": [
      "<torch.utils.data.dataloader.DataLoader object at 0x0000024C1147A620>\n"
     ]
    },
    {
     "name": "stderr",
     "output_type": "stream",
     "text": [
      "2it [00:00,  4.69it/s]"
     ]
    },
    {
     "name": "stdout",
     "output_type": "stream",
     "text": [
      "Epoch: [1]  [   0/2437]  eta: 0:09:43  lr: 0.005000  loss: 6.6363 (6.6363)  bbox_regression: 1.2615 (1.2615)  classification: 5.3748 (5.3748)  time: 0.2394  data: 0.0511  max mem: 1100\n"
     ]
    },
    {
     "name": "stderr",
     "output_type": "stream",
     "text": [
      "102it [00:14,  7.18it/s]"
     ]
    },
    {
     "name": "stdout",
     "output_type": "stream",
     "text": [
      "Epoch: [1]  [ 100/2437]  eta: 0:05:27  lr: 0.005000  loss: 4.5628 (4.5776)  bbox_regression: 0.7180 (0.9030)  classification: 3.7321 (3.6746)  time: 0.1396  data: 0.0425  max mem: 1100\n"
     ]
    },
    {
     "name": "stderr",
     "output_type": "stream",
     "text": [
      "202it [00:28,  7.25it/s]"
     ]
    },
    {
     "name": "stdout",
     "output_type": "stream",
     "text": [
      "Epoch: [1]  [ 200/2437]  eta: 0:05:10  lr: 0.005000  loss: 4.1928 (4.4493)  bbox_regression: 0.9043 (0.8703)  classification: 3.1434 (3.5790)  time: 0.1367  data: 0.0404  max mem: 1100\n"
     ]
    },
    {
     "name": "stderr",
     "output_type": "stream",
     "text": [
      "302it [00:42,  7.31it/s]"
     ]
    },
    {
     "name": "stdout",
     "output_type": "stream",
     "text": [
      "Epoch: [1]  [ 300/2437]  eta: 0:04:57  lr: 0.005000  loss: 4.7866 (4.4440)  bbox_regression: 0.8235 (0.8778)  classification: 3.7330 (3.5662)  time: 0.1392  data: 0.0415  max mem: 1100\n"
     ]
    },
    {
     "name": "stderr",
     "output_type": "stream",
     "text": [
      "402it [00:55,  7.07it/s]"
     ]
    },
    {
     "name": "stdout",
     "output_type": "stream",
     "text": [
      "Epoch: [1]  [ 400/2437]  eta: 0:04:43  lr: 0.005000  loss: 3.6610 (4.4160)  bbox_regression: 0.8217 (0.8844)  classification: 2.7174 (3.5316)  time: 0.1409  data: 0.0421  max mem: 1100\n"
     ]
    },
    {
     "name": "stderr",
     "output_type": "stream",
     "text": [
      "502it [01:09,  7.14it/s]"
     ]
    },
    {
     "name": "stdout",
     "output_type": "stream",
     "text": [
      "Epoch: [1]  [ 500/2437]  eta: 0:04:29  lr: 0.005000  loss: 4.0607 (4.4144)  bbox_regression: 0.9132 (0.8872)  classification: 3.3156 (3.5272)  time: 0.1390  data: 0.0419  max mem: 1100\n"
     ]
    },
    {
     "name": "stderr",
     "output_type": "stream",
     "text": [
      "602it [01:23,  7.20it/s]"
     ]
    },
    {
     "name": "stdout",
     "output_type": "stream",
     "text": [
      "Epoch: [1]  [ 600/2437]  eta: 0:04:15  lr: 0.005000  loss: 4.3679 (4.4137)  bbox_regression: 0.8474 (0.8877)  classification: 3.3918 (3.5261)  time: 0.1401  data: 0.0429  max mem: 1100\n"
     ]
    },
    {
     "name": "stderr",
     "output_type": "stream",
     "text": [
      "702it [01:37,  7.20it/s]"
     ]
    },
    {
     "name": "stdout",
     "output_type": "stream",
     "text": [
      "Epoch: [1]  [ 700/2437]  eta: 0:04:01  lr: 0.005000  loss: 4.4936 (4.4273)  bbox_regression: 0.8781 (0.8853)  classification: 3.4113 (3.5420)  time: 0.1380  data: 0.0415  max mem: 1100\n"
     ]
    },
    {
     "name": "stderr",
     "output_type": "stream",
     "text": [
      "802it [01:51,  7.41it/s]"
     ]
    },
    {
     "name": "stdout",
     "output_type": "stream",
     "text": [
      "Epoch: [1]  [ 800/2437]  eta: 0:03:47  lr: 0.005000  loss: 4.7423 (4.4454)  bbox_regression: 0.8498 (0.8902)  classification: 3.8636 (3.5552)  time: 0.1369  data: 0.0398  max mem: 1100\n"
     ]
    },
    {
     "name": "stderr",
     "output_type": "stream",
     "text": [
      "902it [02:05,  7.39it/s]"
     ]
    },
    {
     "name": "stdout",
     "output_type": "stream",
     "text": [
      "Epoch: [1]  [ 900/2437]  eta: 0:03:33  lr: 0.005000  loss: 4.4021 (4.4626)  bbox_regression: 0.8153 (0.8901)  classification: 3.3185 (3.5725)  time: 0.1365  data: 0.0408  max mem: 1100\n"
     ]
    },
    {
     "name": "stderr",
     "output_type": "stream",
     "text": [
      "1002it [02:19,  7.19it/s]"
     ]
    },
    {
     "name": "stdout",
     "output_type": "stream",
     "text": [
      "Epoch: [1]  [1000/2437]  eta: 0:03:19  lr: 0.005000  loss: 3.7276 (4.4686)  bbox_regression: 0.7091 (0.8870)  classification: 3.1459 (3.5816)  time: 0.1388  data: 0.0406  max mem: 1100\n"
     ]
    },
    {
     "name": "stderr",
     "output_type": "stream",
     "text": [
      "1102it [02:32,  7.32it/s]"
     ]
    },
    {
     "name": "stdout",
     "output_type": "stream",
     "text": [
      "Epoch: [1]  [1100/2437]  eta: 0:03:05  lr: 0.005000  loss: 4.3933 (4.4576)  bbox_regression: 0.8922 (0.8859)  classification: 3.5241 (3.5716)  time: 0.1374  data: 0.0400  max mem: 1100\n"
     ]
    },
    {
     "name": "stderr",
     "output_type": "stream",
     "text": [
      "1202it [02:46,  7.18it/s]"
     ]
    },
    {
     "name": "stdout",
     "output_type": "stream",
     "text": [
      "Epoch: [1]  [1200/2437]  eta: 0:02:51  lr: 0.005000  loss: 3.8689 (4.4458)  bbox_regression: 0.8592 (0.8808)  classification: 2.9628 (3.5650)  time: 0.1373  data: 0.0410  max mem: 1100\n"
     ]
    },
    {
     "name": "stderr",
     "output_type": "stream",
     "text": [
      "1302it [03:00,  7.49it/s]"
     ]
    },
    {
     "name": "stdout",
     "output_type": "stream",
     "text": [
      "Epoch: [1]  [1300/2437]  eta: 0:02:37  lr: 0.005000  loss: 4.2975 (4.4381)  bbox_regression: 0.8908 (0.8807)  classification: 3.5069 (3.5574)  time: 0.1379  data: 0.0410  max mem: 1100\n"
     ]
    },
    {
     "name": "stderr",
     "output_type": "stream",
     "text": [
      "1402it [03:14,  7.33it/s]"
     ]
    },
    {
     "name": "stdout",
     "output_type": "stream",
     "text": [
      "Epoch: [1]  [1400/2437]  eta: 0:02:23  lr: 0.005000  loss: 3.4815 (4.4238)  bbox_regression: 0.6866 (0.8791)  classification: 2.6656 (3.5447)  time: 0.1382  data: 0.0418  max mem: 1100\n"
     ]
    },
    {
     "name": "stderr",
     "output_type": "stream",
     "text": [
      "1502it [03:28,  6.96it/s]"
     ]
    },
    {
     "name": "stdout",
     "output_type": "stream",
     "text": [
      "Epoch: [1]  [1500/2437]  eta: 0:02:09  lr: 0.005000  loss: 3.7306 (4.4064)  bbox_regression: 0.6932 (0.8728)  classification: 3.2599 (3.5336)  time: 0.1393  data: 0.0420  max mem: 1100\n"
     ]
    },
    {
     "name": "stderr",
     "output_type": "stream",
     "text": [
      "1602it [03:41,  7.39it/s]"
     ]
    },
    {
     "name": "stdout",
     "output_type": "stream",
     "text": [
      "Epoch: [1]  [1600/2437]  eta: 0:01:55  lr: 0.005000  loss: 4.0121 (4.3932)  bbox_regression: 0.9006 (0.8712)  classification: 3.0813 (3.5221)  time: 0.1378  data: 0.0393  max mem: 1100\n"
     ]
    },
    {
     "name": "stderr",
     "output_type": "stream",
     "text": [
      "1702it [03:55,  7.34it/s]"
     ]
    },
    {
     "name": "stdout",
     "output_type": "stream",
     "text": [
      "Epoch: [1]  [1700/2437]  eta: 0:01:42  lr: 0.005000  loss: 4.9216 (4.4000)  bbox_regression: 0.8480 (0.8720)  classification: 3.8859 (3.5279)  time: 0.1390  data: 0.0405  max mem: 1100\n"
     ]
    },
    {
     "name": "stderr",
     "output_type": "stream",
     "text": [
      "1802it [04:09,  7.04it/s]"
     ]
    },
    {
     "name": "stdout",
     "output_type": "stream",
     "text": [
      "Epoch: [1]  [1800/2437]  eta: 0:01:28  lr: 0.005000  loss: 4.0352 (4.3918)  bbox_regression: 0.7646 (0.8712)  classification: 3.1865 (3.5206)  time: 0.1418  data: 0.0426  max mem: 1100\n"
     ]
    },
    {
     "name": "stderr",
     "output_type": "stream",
     "text": [
      "1902it [04:23,  7.25it/s]"
     ]
    },
    {
     "name": "stdout",
     "output_type": "stream",
     "text": [
      "Epoch: [1]  [1900/2437]  eta: 0:01:14  lr: 0.005000  loss: 4.2343 (4.3962)  bbox_regression: 0.8785 (0.8745)  classification: 3.2434 (3.5217)  time: 0.1388  data: 0.0396  max mem: 1100\n"
     ]
    },
    {
     "name": "stderr",
     "output_type": "stream",
     "text": [
      "2002it [04:37,  7.31it/s]"
     ]
    },
    {
     "name": "stdout",
     "output_type": "stream",
     "text": [
      "Epoch: [1]  [2000/2437]  eta: 0:01:00  lr: 0.005000  loss: 3.6436 (4.3973)  bbox_regression: 0.7704 (0.8718)  classification: 2.9448 (3.5255)  time: 0.1373  data: 0.0416  max mem: 1100\n"
     ]
    },
    {
     "name": "stderr",
     "output_type": "stream",
     "text": [
      "2102it [04:51,  7.36it/s]"
     ]
    },
    {
     "name": "stdout",
     "output_type": "stream",
     "text": [
      "Epoch: [1]  [2100/2437]  eta: 0:00:46  lr: 0.005000  loss: 4.7420 (4.3934)  bbox_regression: 0.6770 (0.8694)  classification: 3.5201 (3.5240)  time: 0.1395  data: 0.0421  max mem: 1100\n"
     ]
    },
    {
     "name": "stderr",
     "output_type": "stream",
     "text": [
      "2202it [05:05,  7.25it/s]"
     ]
    },
    {
     "name": "stdout",
     "output_type": "stream",
     "text": [
      "Epoch: [1]  [2200/2437]  eta: 0:00:32  lr: 0.005000  loss: 4.0091 (4.3778)  bbox_regression: 0.7261 (0.8640)  classification: 3.1352 (3.5138)  time: 0.1380  data: 0.0397  max mem: 1102\n"
     ]
    },
    {
     "name": "stderr",
     "output_type": "stream",
     "text": [
      "2302it [05:19,  7.26it/s]"
     ]
    },
    {
     "name": "stdout",
     "output_type": "stream",
     "text": [
      "Epoch: [1]  [2300/2437]  eta: 0:00:18  lr: 0.005000  loss: 3.9152 (4.3645)  bbox_regression: 0.7646 (0.8608)  classification: 3.0627 (3.5037)  time: 0.1358  data: 0.0399  max mem: 1102\n"
     ]
    },
    {
     "name": "stderr",
     "output_type": "stream",
     "text": [
      "2402it [05:33,  7.25it/s]"
     ]
    },
    {
     "name": "stdout",
     "output_type": "stream",
     "text": [
      "Epoch: [1]  [2400/2437]  eta: 0:00:05  lr: 0.005000  loss: 4.2746 (4.3612)  bbox_regression: 0.8440 (0.8615)  classification: 3.4629 (3.4998)  time: 0.1378  data: 0.0402  max mem: 1102\n"
     ]
    },
    {
     "name": "stderr",
     "output_type": "stream",
     "text": [
      "2437it [05:37,  7.21it/s]\n"
     ]
    },
    {
     "name": "stdout",
     "output_type": "stream",
     "text": [
      "Epoch: [1]  [2436/2437]  eta: 0:00:00  lr: 0.005000  loss: 3.8836 (4.3579)  bbox_regression: 0.7845 (0.8603)  classification: 3.2248 (3.4976)  time: 0.1344  data: 0.0393  max mem: 1102\n",
      "flag\n",
      "Epoch: [1] Total time: 0:05:37 (0.1387 s / it)\n",
      "saved dict\n",
      "creating index...\n",
      "index created!\n",
      "<torch.utils.data.dataloader.DataLoader object at 0x0000024C1147B310>\n",
      "Test:  [  0/100]  eta: 0:00:03  model_time: 0.0210 (0.0210)  evaluator_time: 0.0000 (0.0000)  time: 0.0330  data: 0.0110  max mem: 1102\n",
      "Test:  [ 99/100]  eta: 0:00:00  model_time: 0.0300 (0.0277)  evaluator_time: 0.0010 (0.0005)  time: 0.0444  data: 0.0123  max mem: 1102\n",
      "flag\n",
      "Test: Total time: 0:00:04 (0.0414 s / it)\n",
      "Averaged stats: model_time: 0.0300 (0.0277)  evaluator_time: 0.0010 (0.0005)\n",
      "Accumulating evaluation results...\n",
      "DONE (t=0.01s).\n",
      "IoU metric: bbox\n",
      " Average Precision  (AP) @[ IoU=0.50:0.95 | area=   all | maxDets=100 ] = 0.168\n",
      " Average Precision  (AP) @[ IoU=0.50      | area=   all | maxDets=100 ] = 0.331\n",
      " Average Precision  (AP) @[ IoU=0.75      | area=   all | maxDets=100 ] = 0.179\n",
      " Average Precision  (AP) @[ IoU=0.50:0.95 | area= small | maxDets=100 ] = -1.000\n",
      " Average Precision  (AP) @[ IoU=0.50:0.95 | area=medium | maxDets=100 ] = 0.000\n",
      " Average Precision  (AP) @[ IoU=0.50:0.95 | area= large | maxDets=100 ] = 0.168\n",
      " Average Recall     (AR) @[ IoU=0.50:0.95 | area=   all | maxDets=  1 ] = 0.282\n",
      " Average Recall     (AR) @[ IoU=0.50:0.95 | area=   all | maxDets= 10 ] = 0.294\n",
      " Average Recall     (AR) @[ IoU=0.50:0.95 | area=   all | maxDets=100 ] = 0.294\n",
      " Average Recall     (AR) @[ IoU=0.50:0.95 | area= small | maxDets=100 ] = -1.000\n",
      " Average Recall     (AR) @[ IoU=0.50:0.95 | area=medium | maxDets=100 ] = 0.000\n",
      " Average Recall     (AR) @[ IoU=0.50:0.95 | area= large | maxDets=100 ] = 0.294\n",
      "creating index...\n",
      "index created!\n",
      "<torch.utils.data.dataloader.DataLoader object at 0x0000024C1147A470>\n",
      "Test:  [  0/100]  eta: 0:00:05  model_time: 0.0395 (0.0395)  evaluator_time: 0.0000 (0.0000)  time: 0.0525  data: 0.0120  max mem: 1102\n",
      "Test:  [ 99/100]  eta: 0:00:00  model_time: 0.0325 (0.0348)  evaluator_time: 0.0010 (0.0008)  time: 0.0470  data: 0.0121  max mem: 1102\n",
      "flag\n",
      "Test: Total time: 0:00:04 (0.0489 s / it)\n",
      "Averaged stats: model_time: 0.0325 (0.0348)  evaluator_time: 0.0010 (0.0008)\n",
      "Accumulating evaluation results...\n",
      "DONE (t=0.03s).\n",
      "IoU metric: bbox\n",
      " Average Precision  (AP) @[ IoU=0.50:0.95 | area=   all | maxDets=100 ] = 0.187\n",
      " Average Precision  (AP) @[ IoU=0.50      | area=   all | maxDets=100 ] = 0.425\n",
      " Average Precision  (AP) @[ IoU=0.75      | area=   all | maxDets=100 ] = 0.101\n",
      " Average Precision  (AP) @[ IoU=0.50:0.95 | area= small | maxDets=100 ] = -1.000\n",
      " Average Precision  (AP) @[ IoU=0.50:0.95 | area=medium | maxDets=100 ] = -1.000\n",
      " Average Precision  (AP) @[ IoU=0.50:0.95 | area= large | maxDets=100 ] = 0.187\n",
      " Average Recall     (AR) @[ IoU=0.50:0.95 | area=   all | maxDets=  1 ] = 0.313\n",
      " Average Recall     (AR) @[ IoU=0.50:0.95 | area=   all | maxDets= 10 ] = 0.327\n",
      " Average Recall     (AR) @[ IoU=0.50:0.95 | area=   all | maxDets=100 ] = 0.327\n",
      " Average Recall     (AR) @[ IoU=0.50:0.95 | area= small | maxDets=100 ] = -1.000\n",
      " Average Recall     (AR) @[ IoU=0.50:0.95 | area=medium | maxDets=100 ] = -1.000\n",
      " Average Recall     (AR) @[ IoU=0.50:0.95 | area= large | maxDets=100 ] = 0.327\n"
     ]
    },
    {
     "name": "stderr",
     "output_type": "stream",
     "text": [
      "0it [00:00, ?it/s]"
     ]
    },
    {
     "name": "stdout",
     "output_type": "stream",
     "text": [
      "<torch.utils.data.dataloader.DataLoader object at 0x0000024C1147A620>\n"
     ]
    },
    {
     "name": "stderr",
     "output_type": "stream",
     "text": [
      "2it [00:00,  5.35it/s]"
     ]
    },
    {
     "name": "stdout",
     "output_type": "stream",
     "text": [
      "Epoch: [2]  [   0/2437]  eta: 0:10:16  lr: 0.005000  loss: 5.2551 (5.2551)  bbox_regression: 1.1113 (1.1113)  classification: 4.1438 (4.1438)  time: 0.2531  data: 0.0576  max mem: 1102\n"
     ]
    },
    {
     "name": "stderr",
     "output_type": "stream",
     "text": [
      "102it [00:14,  7.38it/s]"
     ]
    },
    {
     "name": "stdout",
     "output_type": "stream",
     "text": [
      "Epoch: [2]  [ 100/2437]  eta: 0:05:27  lr: 0.005000  loss: 4.2006 (4.3519)  bbox_regression: 0.7389 (0.8552)  classification: 3.4742 (3.4967)  time: 0.1383  data: 0.0413  max mem: 1102\n"
     ]
    },
    {
     "name": "stderr",
     "output_type": "stream",
     "text": [
      "202it [00:28,  7.30it/s]"
     ]
    },
    {
     "name": "stdout",
     "output_type": "stream",
     "text": [
      "Epoch: [2]  [ 200/2437]  eta: 0:05:11  lr: 0.005000  loss: 3.7098 (4.2810)  bbox_regression: 0.6016 (0.8350)  classification: 3.1292 (3.4460)  time: 0.1368  data: 0.0400  max mem: 1102\n"
     ]
    },
    {
     "name": "stderr",
     "output_type": "stream",
     "text": [
      "302it [00:41,  7.14it/s]"
     ]
    },
    {
     "name": "stdout",
     "output_type": "stream",
     "text": [
      "Epoch: [2]  [ 300/2437]  eta: 0:04:56  lr: 0.005000  loss: 3.9024 (4.2164)  bbox_regression: 0.7327 (0.8243)  classification: 3.0738 (3.3921)  time: 0.1368  data: 0.0400  max mem: 1102\n"
     ]
    },
    {
     "name": "stderr",
     "output_type": "stream",
     "text": [
      "402it [00:55,  6.41it/s]"
     ]
    },
    {
     "name": "stdout",
     "output_type": "stream",
     "text": [
      "Epoch: [2]  [ 400/2437]  eta: 0:04:42  lr: 0.005000  loss: 3.6719 (4.1797)  bbox_regression: 0.8494 (0.8142)  classification: 2.8225 (3.3655)  time: 0.1429  data: 0.0403  max mem: 1102\n"
     ]
    },
    {
     "name": "stderr",
     "output_type": "stream",
     "text": [
      "502it [01:09,  7.14it/s]"
     ]
    },
    {
     "name": "stdout",
     "output_type": "stream",
     "text": [
      "Epoch: [2]  [ 500/2437]  eta: 0:04:30  lr: 0.005000  loss: 4.1287 (4.1594)  bbox_regression: 0.8932 (0.8201)  classification: 3.1369 (3.3394)  time: 0.1399  data: 0.0413  max mem: 1102\n"
     ]
    },
    {
     "name": "stderr",
     "output_type": "stream",
     "text": [
      "602it [01:24,  7.11it/s]"
     ]
    },
    {
     "name": "stdout",
     "output_type": "stream",
     "text": [
      "Epoch: [2]  [ 600/2437]  eta: 0:04:16  lr: 0.005000  loss: 3.4099 (4.1149)  bbox_regression: 0.6662 (0.8101)  classification: 2.5857 (3.3048)  time: 0.1387  data: 0.0417  max mem: 1102\n"
     ]
    },
    {
     "name": "stderr",
     "output_type": "stream",
     "text": [
      "702it [01:37,  7.34it/s]"
     ]
    },
    {
     "name": "stdout",
     "output_type": "stream",
     "text": [
      "Epoch: [2]  [ 700/2437]  eta: 0:04:02  lr: 0.005000  loss: 3.8021 (4.1361)  bbox_regression: 0.8538 (0.8171)  classification: 3.0764 (3.3190)  time: 0.1356  data: 0.0391  max mem: 1102\n"
     ]
    },
    {
     "name": "stderr",
     "output_type": "stream",
     "text": [
      "802it [01:51,  7.39it/s]"
     ]
    },
    {
     "name": "stdout",
     "output_type": "stream",
     "text": [
      "Epoch: [2]  [ 800/2437]  eta: 0:03:48  lr: 0.005000  loss: 3.4106 (4.1054)  bbox_regression: 0.6816 (0.8147)  classification: 2.4996 (3.2907)  time: 0.1376  data: 0.0413  max mem: 1102\n"
     ]
    },
    {
     "name": "stderr",
     "output_type": "stream",
     "text": [
      "902it [02:05,  7.18it/s]"
     ]
    },
    {
     "name": "stdout",
     "output_type": "stream",
     "text": [
      "Epoch: [2]  [ 900/2437]  eta: 0:03:33  lr: 0.005000  loss: 3.7663 (4.0925)  bbox_regression: 0.6985 (0.8160)  classification: 2.9076 (3.2765)  time: 0.1401  data: 0.0402  max mem: 1102\n"
     ]
    },
    {
     "name": "stderr",
     "output_type": "stream",
     "text": [
      "1002it [02:19,  7.45it/s]"
     ]
    },
    {
     "name": "stdout",
     "output_type": "stream",
     "text": [
      "Epoch: [2]  [1000/2437]  eta: 0:03:19  lr: 0.005000  loss: 4.1198 (4.0940)  bbox_regression: 0.7189 (0.8161)  classification: 3.3144 (3.2780)  time: 0.1373  data: 0.0403  max mem: 1102\n"
     ]
    },
    {
     "name": "stderr",
     "output_type": "stream",
     "text": [
      "1102it [02:33,  7.31it/s]"
     ]
    },
    {
     "name": "stdout",
     "output_type": "stream",
     "text": [
      "Epoch: [2]  [1100/2437]  eta: 0:03:05  lr: 0.005000  loss: 3.9107 (4.0890)  bbox_regression: 0.6919 (0.8105)  classification: 3.1361 (3.2785)  time: 0.1373  data: 0.0408  max mem: 1102\n"
     ]
    },
    {
     "name": "stderr",
     "output_type": "stream",
     "text": [
      "1202it [02:47,  7.01it/s]"
     ]
    },
    {
     "name": "stdout",
     "output_type": "stream",
     "text": [
      "Epoch: [2]  [1200/2437]  eta: 0:02:51  lr: 0.005000  loss: 4.0632 (4.0800)  bbox_regression: 0.6354 (0.8043)  classification: 3.1688 (3.2758)  time: 0.1404  data: 0.0420  max mem: 1102\n"
     ]
    },
    {
     "name": "stderr",
     "output_type": "stream",
     "text": [
      "1302it [03:00,  6.89it/s]"
     ]
    },
    {
     "name": "stdout",
     "output_type": "stream",
     "text": [
      "Epoch: [2]  [1300/2437]  eta: 0:02:37  lr: 0.005000  loss: 4.1608 (4.0695)  bbox_regression: 0.8743 (0.7999)  classification: 3.4890 (3.2696)  time: 0.1416  data: 0.0427  max mem: 1102\n"
     ]
    },
    {
     "name": "stderr",
     "output_type": "stream",
     "text": [
      "1402it [03:14,  7.30it/s]"
     ]
    },
    {
     "name": "stdout",
     "output_type": "stream",
     "text": [
      "Epoch: [2]  [1400/2437]  eta: 0:02:24  lr: 0.005000  loss: 3.6138 (4.0685)  bbox_regression: 0.6270 (0.7972)  classification: 2.9486 (3.2713)  time: 0.1383  data: 0.0412  max mem: 1102\n"
     ]
    },
    {
     "name": "stderr",
     "output_type": "stream",
     "text": [
      "1502it [03:28,  7.15it/s]"
     ]
    },
    {
     "name": "stdout",
     "output_type": "stream",
     "text": [
      "Epoch: [2]  [1500/2437]  eta: 0:02:10  lr: 0.005000  loss: 4.2543 (4.0458)  bbox_regression: 0.8341 (0.7946)  classification: 3.2992 (3.2513)  time: 0.1380  data: 0.0404  max mem: 1102\n"
     ]
    },
    {
     "name": "stderr",
     "output_type": "stream",
     "text": [
      "1602it [03:42,  7.16it/s]"
     ]
    },
    {
     "name": "stdout",
     "output_type": "stream",
     "text": [
      "Epoch: [2]  [1600/2437]  eta: 0:01:56  lr: 0.005000  loss: 3.6459 (4.0301)  bbox_regression: 0.6492 (0.7882)  classification: 2.7123 (3.2420)  time: 0.1399  data: 0.0415  max mem: 1102\n"
     ]
    },
    {
     "name": "stderr",
     "output_type": "stream",
     "text": [
      "1702it [03:56,  7.34it/s]"
     ]
    },
    {
     "name": "stdout",
     "output_type": "stream",
     "text": [
      "Epoch: [2]  [1700/2437]  eta: 0:01:42  lr: 0.005000  loss: 3.9415 (4.0250)  bbox_regression: 0.6762 (0.7852)  classification: 3.1148 (3.2398)  time: 0.1374  data: 0.0402  max mem: 1102\n"
     ]
    },
    {
     "name": "stderr",
     "output_type": "stream",
     "text": [
      "1802it [04:10,  7.06it/s]"
     ]
    },
    {
     "name": "stdout",
     "output_type": "stream",
     "text": [
      "Epoch: [2]  [1800/2437]  eta: 0:01:28  lr: 0.005000  loss: 4.1658 (4.0280)  bbox_regression: 0.7628 (0.7849)  classification: 3.2345 (3.2431)  time: 0.1381  data: 0.0412  max mem: 1102\n"
     ]
    },
    {
     "name": "stderr",
     "output_type": "stream",
     "text": [
      "1902it [04:24,  7.22it/s]"
     ]
    },
    {
     "name": "stdout",
     "output_type": "stream",
     "text": [
      "Epoch: [2]  [1900/2437]  eta: 0:01:14  lr: 0.005000  loss: 3.8635 (4.0143)  bbox_regression: 0.6049 (0.7828)  classification: 3.1823 (3.2315)  time: 0.1390  data: 0.0418  max mem: 1102\n"
     ]
    },
    {
     "name": "stderr",
     "output_type": "stream",
     "text": [
      "2002it [04:38,  7.37it/s]"
     ]
    },
    {
     "name": "stdout",
     "output_type": "stream",
     "text": [
      "Epoch: [2]  [2000/2437]  eta: 0:01:00  lr: 0.005000  loss: 3.6995 (4.0219)  bbox_regression: 0.6375 (0.7818)  classification: 3.1419 (3.2401)  time: 0.1367  data: 0.0401  max mem: 1102\n"
     ]
    },
    {
     "name": "stderr",
     "output_type": "stream",
     "text": [
      "2102it [04:52,  7.08it/s]"
     ]
    },
    {
     "name": "stdout",
     "output_type": "stream",
     "text": [
      "Epoch: [2]  [2100/2437]  eta: 0:00:46  lr: 0.005000  loss: 3.3941 (4.0157)  bbox_regression: 0.5203 (0.7802)  classification: 2.6837 (3.2356)  time: 0.1391  data: 0.0415  max mem: 1102\n"
     ]
    },
    {
     "name": "stderr",
     "output_type": "stream",
     "text": [
      "2202it [05:06,  7.24it/s]"
     ]
    },
    {
     "name": "stdout",
     "output_type": "stream",
     "text": [
      "Epoch: [2]  [2200/2437]  eta: 0:00:32  lr: 0.005000  loss: 3.9275 (4.0203)  bbox_regression: 0.7163 (0.7826)  classification: 2.9433 (3.2377)  time: 0.1378  data: 0.0412  max mem: 1102\n"
     ]
    },
    {
     "name": "stderr",
     "output_type": "stream",
     "text": [
      "2302it [05:20,  7.28it/s]"
     ]
    },
    {
     "name": "stdout",
     "output_type": "stream",
     "text": [
      "Epoch: [2]  [2300/2437]  eta: 0:00:19  lr: 0.005000  loss: 3.2853 (4.0282)  bbox_regression: 0.8878 (0.7854)  classification: 2.6090 (3.2428)  time: 0.1386  data: 0.0410  max mem: 1102\n"
     ]
    },
    {
     "name": "stderr",
     "output_type": "stream",
     "text": [
      "2402it [05:33,  7.31it/s]"
     ]
    },
    {
     "name": "stdout",
     "output_type": "stream",
     "text": [
      "Epoch: [2]  [2400/2437]  eta: 0:00:05  lr: 0.005000  loss: 3.9946 (4.0277)  bbox_regression: 0.7760 (0.7841)  classification: 3.1708 (3.2436)  time: 0.1362  data: 0.0401  max mem: 1102\n"
     ]
    },
    {
     "name": "stderr",
     "output_type": "stream",
     "text": [
      "2437it [05:38,  7.19it/s]\n"
     ]
    },
    {
     "name": "stdout",
     "output_type": "stream",
     "text": [
      "Epoch: [2]  [2436/2437]  eta: 0:00:00  lr: 0.005000  loss: 3.7753 (4.0257)  bbox_regression: 0.5847 (0.7828)  classification: 3.1607 (3.2429)  time: 0.1367  data: 0.0416  max mem: 1102\n",
      "flag\n",
      "Epoch: [2] Total time: 0:05:38 (0.1390 s / it)\n",
      "saved dict\n",
      "creating index...\n",
      "index created!\n",
      "<torch.utils.data.dataloader.DataLoader object at 0x0000024C1147B310>\n",
      "Test:  [  0/100]  eta: 0:00:03  model_time: 0.0210 (0.0210)  evaluator_time: 0.0000 (0.0000)  time: 0.0335  data: 0.0125  max mem: 1102\n",
      "Test:  [ 99/100]  eta: 0:00:00  model_time: 0.0300 (0.0279)  evaluator_time: 0.0010 (0.0007)  time: 0.0437  data: 0.0123  max mem: 1102\n",
      "flag\n",
      "Test: Total time: 0:00:04 (0.0418 s / it)\n",
      "Averaged stats: model_time: 0.0300 (0.0279)  evaluator_time: 0.0010 (0.0007)\n",
      "Accumulating evaluation results...\n",
      "DONE (t=0.01s).\n",
      "IoU metric: bbox\n",
      " Average Precision  (AP) @[ IoU=0.50:0.95 | area=   all | maxDets=100 ] = 0.273\n",
      " Average Precision  (AP) @[ IoU=0.50      | area=   all | maxDets=100 ] = 0.516\n",
      " Average Precision  (AP) @[ IoU=0.75      | area=   all | maxDets=100 ] = 0.284\n",
      " Average Precision  (AP) @[ IoU=0.50:0.95 | area= small | maxDets=100 ] = -1.000\n",
      " Average Precision  (AP) @[ IoU=0.50:0.95 | area=medium | maxDets=100 ] = 0.000\n",
      " Average Precision  (AP) @[ IoU=0.50:0.95 | area= large | maxDets=100 ] = 0.275\n",
      " Average Recall     (AR) @[ IoU=0.50:0.95 | area=   all | maxDets=  1 ] = 0.382\n",
      " Average Recall     (AR) @[ IoU=0.50:0.95 | area=   all | maxDets= 10 ] = 0.395\n",
      " Average Recall     (AR) @[ IoU=0.50:0.95 | area=   all | maxDets=100 ] = 0.398\n",
      " Average Recall     (AR) @[ IoU=0.50:0.95 | area= small | maxDets=100 ] = -1.000\n",
      " Average Recall     (AR) @[ IoU=0.50:0.95 | area=medium | maxDets=100 ] = 0.000\n",
      " Average Recall     (AR) @[ IoU=0.50:0.95 | area= large | maxDets=100 ] = 0.399\n",
      "creating index...\n",
      "index created!\n",
      "<torch.utils.data.dataloader.DataLoader object at 0x0000024C1147A470>\n",
      "Test:  [  0/100]  eta: 0:00:05  model_time: 0.0395 (0.0395)  evaluator_time: 0.0010 (0.0010)  time: 0.0535  data: 0.0120  max mem: 1102\n",
      "Test:  [ 99/100]  eta: 0:00:00  model_time: 0.0350 (0.0356)  evaluator_time: 0.0010 (0.0008)  time: 0.0499  data: 0.0123  max mem: 1102\n",
      "flag\n",
      "Test: Total time: 0:00:04 (0.0498 s / it)\n",
      "Averaged stats: model_time: 0.0350 (0.0356)  evaluator_time: 0.0010 (0.0008)\n",
      "Accumulating evaluation results...\n",
      "DONE (t=0.03s).\n",
      "IoU metric: bbox\n",
      " Average Precision  (AP) @[ IoU=0.50:0.95 | area=   all | maxDets=100 ] = 0.202\n",
      " Average Precision  (AP) @[ IoU=0.50      | area=   all | maxDets=100 ] = 0.428\n",
      " Average Precision  (AP) @[ IoU=0.75      | area=   all | maxDets=100 ] = 0.164\n",
      " Average Precision  (AP) @[ IoU=0.50:0.95 | area= small | maxDets=100 ] = -1.000\n",
      " Average Precision  (AP) @[ IoU=0.50:0.95 | area=medium | maxDets=100 ] = -1.000\n",
      " Average Precision  (AP) @[ IoU=0.50:0.95 | area= large | maxDets=100 ] = 0.202\n",
      " Average Recall     (AR) @[ IoU=0.50:0.95 | area=   all | maxDets=  1 ] = 0.355\n",
      " Average Recall     (AR) @[ IoU=0.50:0.95 | area=   all | maxDets= 10 ] = 0.371\n",
      " Average Recall     (AR) @[ IoU=0.50:0.95 | area=   all | maxDets=100 ] = 0.371\n",
      " Average Recall     (AR) @[ IoU=0.50:0.95 | area= small | maxDets=100 ] = -1.000\n",
      " Average Recall     (AR) @[ IoU=0.50:0.95 | area=medium | maxDets=100 ] = -1.000\n",
      " Average Recall     (AR) @[ IoU=0.50:0.95 | area= large | maxDets=100 ] = 0.371\n"
     ]
    },
    {
     "name": "stderr",
     "output_type": "stream",
     "text": [
      "0it [00:00, ?it/s]"
     ]
    },
    {
     "name": "stdout",
     "output_type": "stream",
     "text": [
      "<torch.utils.data.dataloader.DataLoader object at 0x0000024C1147A620>\n"
     ]
    },
    {
     "name": "stderr",
     "output_type": "stream",
     "text": [
      "1it [00:00,  3.86it/s]"
     ]
    },
    {
     "name": "stdout",
     "output_type": "stream",
     "text": [
      "Epoch: [3]  [   0/2437]  eta: 0:10:33  lr: 0.005000  loss: 4.3776 (4.3776)  bbox_regression: 1.2157 (1.2157)  classification: 3.1619 (3.1619)  time: 0.2598  data: 0.0518  max mem: 1102\n"
     ]
    },
    {
     "name": "stderr",
     "output_type": "stream",
     "text": [
      "102it [00:14,  6.05it/s]"
     ]
    },
    {
     "name": "stdout",
     "output_type": "stream",
     "text": [
      "Epoch: [3]  [ 100/2437]  eta: 0:05:42  lr: 0.005000  loss: 3.0328 (3.5170)  bbox_regression: 0.6051 (0.6720)  classification: 2.3447 (2.8450)  time: 0.1586  data: 0.0444  max mem: 1102\n"
     ]
    },
    {
     "name": "stderr",
     "output_type": "stream",
     "text": [
      "202it [00:29,  6.85it/s]"
     ]
    },
    {
     "name": "stdout",
     "output_type": "stream",
     "text": [
      "Epoch: [3]  [ 200/2437]  eta: 0:05:24  lr: 0.005000  loss: 3.9404 (3.6359)  bbox_regression: 0.7541 (0.7236)  classification: 3.1868 (2.9123)  time: 0.1383  data: 0.0416  max mem: 1102\n"
     ]
    },
    {
     "name": "stderr",
     "output_type": "stream",
     "text": [
      "302it [00:44,  7.08it/s]"
     ]
    },
    {
     "name": "stdout",
     "output_type": "stream",
     "text": [
      "Epoch: [3]  [ 300/2437]  eta: 0:05:11  lr: 0.005000  loss: 4.1929 (3.8199)  bbox_regression: 0.8275 (0.7514)  classification: 3.3058 (3.0686)  time: 0.1408  data: 0.0424  max mem: 1102\n"
     ]
    },
    {
     "name": "stderr",
     "output_type": "stream",
     "text": [
      "402it [00:58,  7.25it/s]"
     ]
    },
    {
     "name": "stdout",
     "output_type": "stream",
     "text": [
      "Epoch: [3]  [ 400/2437]  eta: 0:04:55  lr: 0.005000  loss: 3.9587 (3.8502)  bbox_regression: 0.6412 (0.7400)  classification: 3.0974 (3.1103)  time: 0.1417  data: 0.0423  max mem: 1102\n"
     ]
    },
    {
     "name": "stderr",
     "output_type": "stream",
     "text": [
      "502it [01:12,  7.21it/s]"
     ]
    },
    {
     "name": "stdout",
     "output_type": "stream",
     "text": [
      "Epoch: [3]  [ 500/2437]  eta: 0:04:39  lr: 0.005000  loss: 4.0110 (3.8237)  bbox_regression: 0.7517 (0.7383)  classification: 3.1834 (3.0854)  time: 0.1405  data: 0.0423  max mem: 1102\n"
     ]
    },
    {
     "name": "stderr",
     "output_type": "stream",
     "text": [
      "602it [01:26,  6.88it/s]"
     ]
    },
    {
     "name": "stdout",
     "output_type": "stream",
     "text": [
      "Epoch: [3]  [ 600/2437]  eta: 0:04:23  lr: 0.005000  loss: 3.0382 (3.7959)  bbox_regression: 0.5714 (0.7294)  classification: 2.5216 (3.0665)  time: 0.1412  data: 0.0433  max mem: 1102\n"
     ]
    },
    {
     "name": "stderr",
     "output_type": "stream",
     "text": [
      "702it [01:40,  7.17it/s]"
     ]
    },
    {
     "name": "stdout",
     "output_type": "stream",
     "text": [
      "Epoch: [3]  [ 700/2437]  eta: 0:04:08  lr: 0.005000  loss: 3.5987 (3.7632)  bbox_regression: 0.6412 (0.7199)  classification: 3.0360 (3.0433)  time: 0.1414  data: 0.0437  max mem: 1102\n"
     ]
    },
    {
     "name": "stderr",
     "output_type": "stream",
     "text": [
      "802it [01:54,  7.22it/s]"
     ]
    },
    {
     "name": "stdout",
     "output_type": "stream",
     "text": [
      "Epoch: [3]  [ 800/2437]  eta: 0:03:53  lr: 0.005000  loss: 3.2393 (3.7533)  bbox_regression: 0.7480 (0.7190)  classification: 2.6044 (3.0344)  time: 0.1412  data: 0.0435  max mem: 1102\n"
     ]
    },
    {
     "name": "stderr",
     "output_type": "stream",
     "text": [
      "902it [02:08,  7.33it/s]"
     ]
    },
    {
     "name": "stdout",
     "output_type": "stream",
     "text": [
      "Epoch: [3]  [ 900/2437]  eta: 0:03:39  lr: 0.005000  loss: 3.6197 (3.7650)  bbox_regression: 0.6222 (0.7185)  classification: 2.9154 (3.0465)  time: 0.1376  data: 0.0405  max mem: 1104\n"
     ]
    },
    {
     "name": "stderr",
     "output_type": "stream",
     "text": [
      "1002it [02:22,  6.98it/s]"
     ]
    },
    {
     "name": "stdout",
     "output_type": "stream",
     "text": [
      "Epoch: [3]  [1000/2437]  eta: 0:03:24  lr: 0.005000  loss: 3.7940 (3.7679)  bbox_regression: 0.5454 (0.7207)  classification: 3.0465 (3.0471)  time: 0.1402  data: 0.0420  max mem: 1104\n"
     ]
    },
    {
     "name": "stderr",
     "output_type": "stream",
     "text": [
      "1102it [02:36,  7.07it/s]"
     ]
    },
    {
     "name": "stdout",
     "output_type": "stream",
     "text": [
      "Epoch: [3]  [1100/2437]  eta: 0:03:10  lr: 0.005000  loss: 3.6173 (3.7764)  bbox_regression: 0.6202 (0.7266)  classification: 2.8028 (3.0498)  time: 0.1404  data: 0.0430  max mem: 1104\n"
     ]
    },
    {
     "name": "stderr",
     "output_type": "stream",
     "text": [
      "1202it [02:50,  7.30it/s]"
     ]
    },
    {
     "name": "stdout",
     "output_type": "stream",
     "text": [
      "Epoch: [3]  [1200/2437]  eta: 0:02:55  lr: 0.005000  loss: 3.6923 (3.7849)  bbox_regression: 0.7331 (0.7306)  classification: 3.0208 (3.0544)  time: 0.1409  data: 0.0425  max mem: 1104\n"
     ]
    },
    {
     "name": "stderr",
     "output_type": "stream",
     "text": [
      "1302it [03:04,  7.41it/s]"
     ]
    },
    {
     "name": "stdout",
     "output_type": "stream",
     "text": [
      "Epoch: [3]  [1300/2437]  eta: 0:02:41  lr: 0.005000  loss: 3.6162 (3.7832)  bbox_regression: 0.6004 (0.7312)  classification: 2.9539 (3.0520)  time: 0.1391  data: 0.0411  max mem: 1104\n"
     ]
    },
    {
     "name": "stderr",
     "output_type": "stream",
     "text": [
      "1402it [03:18,  7.17it/s]"
     ]
    },
    {
     "name": "stdout",
     "output_type": "stream",
     "text": [
      "Epoch: [3]  [1400/2437]  eta: 0:02:26  lr: 0.005000  loss: 3.6312 (3.7907)  bbox_regression: 0.6956 (0.7319)  classification: 2.6709 (3.0588)  time: 0.1383  data: 0.0401  max mem: 1104\n"
     ]
    },
    {
     "name": "stderr",
     "output_type": "stream",
     "text": [
      "1502it [03:32,  7.24it/s]"
     ]
    },
    {
     "name": "stdout",
     "output_type": "stream",
     "text": [
      "Epoch: [3]  [1500/2437]  eta: 0:02:12  lr: 0.005000  loss: 3.0958 (3.7843)  bbox_regression: 0.6181 (0.7329)  classification: 2.4527 (3.0514)  time: 0.1407  data: 0.0425  max mem: 1104\n"
     ]
    },
    {
     "name": "stderr",
     "output_type": "stream",
     "text": [
      "1602it [03:46,  6.90it/s]"
     ]
    },
    {
     "name": "stdout",
     "output_type": "stream",
     "text": [
      "Epoch: [3]  [1600/2437]  eta: 0:01:58  lr: 0.005000  loss: 3.3131 (3.7854)  bbox_regression: 0.5841 (0.7325)  classification: 2.7482 (3.0530)  time: 0.1473  data: 0.0478  max mem: 1104\n"
     ]
    },
    {
     "name": "stderr",
     "output_type": "stream",
     "text": [
      "1702it [04:00,  7.16it/s]"
     ]
    },
    {
     "name": "stdout",
     "output_type": "stream",
     "text": [
      "Epoch: [3]  [1700/2437]  eta: 0:01:44  lr: 0.005000  loss: 4.1739 (3.7995)  bbox_regression: 0.8054 (0.7348)  classification: 3.3882 (3.0647)  time: 0.1399  data: 0.0413  max mem: 1104\n"
     ]
    },
    {
     "name": "stderr",
     "output_type": "stream",
     "text": [
      "1802it [04:14,  7.38it/s]"
     ]
    },
    {
     "name": "stdout",
     "output_type": "stream",
     "text": [
      "Epoch: [3]  [1800/2437]  eta: 0:01:29  lr: 0.005000  loss: 4.0387 (3.7951)  bbox_regression: 0.7632 (0.7333)  classification: 3.2755 (3.0618)  time: 0.1366  data: 0.0404  max mem: 1104\n"
     ]
    },
    {
     "name": "stderr",
     "output_type": "stream",
     "text": [
      "1902it [04:28,  7.50it/s]"
     ]
    },
    {
     "name": "stdout",
     "output_type": "stream",
     "text": [
      "Epoch: [3]  [1900/2437]  eta: 0:01:15  lr: 0.005000  loss: 3.9752 (3.7961)  bbox_regression: 0.5754 (0.7300)  classification: 3.4028 (3.0661)  time: 0.1375  data: 0.0401  max mem: 1104\n"
     ]
    },
    {
     "name": "stderr",
     "output_type": "stream",
     "text": [
      "2002it [04:42,  6.83it/s]"
     ]
    },
    {
     "name": "stdout",
     "output_type": "stream",
     "text": [
      "Epoch: [3]  [2000/2437]  eta: 0:01:01  lr: 0.005000  loss: 3.6627 (3.7996)  bbox_regression: 0.6553 (0.7305)  classification: 2.9688 (3.0691)  time: 0.1435  data: 0.0435  max mem: 1104\n"
     ]
    },
    {
     "name": "stderr",
     "output_type": "stream",
     "text": [
      "2102it [04:56,  7.19it/s]"
     ]
    },
    {
     "name": "stdout",
     "output_type": "stream",
     "text": [
      "Epoch: [3]  [2100/2437]  eta: 0:00:47  lr: 0.005000  loss: 3.9977 (3.8023)  bbox_regression: 0.6585 (0.7298)  classification: 3.3437 (3.0725)  time: 0.1390  data: 0.0412  max mem: 1104\n"
     ]
    },
    {
     "name": "stderr",
     "output_type": "stream",
     "text": [
      "2202it [05:09,  7.12it/s]"
     ]
    },
    {
     "name": "stdout",
     "output_type": "stream",
     "text": [
      "Epoch: [3]  [2200/2437]  eta: 0:00:33  lr: 0.005000  loss: 3.9611 (3.7991)  bbox_regression: 0.8019 (0.7299)  classification: 3.2566 (3.0693)  time: 0.1393  data: 0.0405  max mem: 1104\n"
     ]
    },
    {
     "name": "stderr",
     "output_type": "stream",
     "text": [
      "2302it [05:23,  7.37it/s]"
     ]
    },
    {
     "name": "stdout",
     "output_type": "stream",
     "text": [
      "Epoch: [3]  [2300/2437]  eta: 0:00:19  lr: 0.005000  loss: 3.4751 (3.7937)  bbox_regression: 0.5927 (0.7272)  classification: 2.7902 (3.0665)  time: 0.1370  data: 0.0407  max mem: 1104\n"
     ]
    },
    {
     "name": "stderr",
     "output_type": "stream",
     "text": [
      "2402it [05:37,  7.06it/s]"
     ]
    },
    {
     "name": "stdout",
     "output_type": "stream",
     "text": [
      "Epoch: [3]  [2400/2437]  eta: 0:00:05  lr: 0.005000  loss: 3.7109 (3.7799)  bbox_regression: 0.6528 (0.7244)  classification: 2.9536 (3.0554)  time: 0.1402  data: 0.0412  max mem: 1104\n"
     ]
    },
    {
     "name": "stderr",
     "output_type": "stream",
     "text": [
      "2437it [05:42,  7.12it/s]\n"
     ]
    },
    {
     "name": "stdout",
     "output_type": "stream",
     "text": [
      "Epoch: [3]  [2436/2437]  eta: 0:00:00  lr: 0.005000  loss: 3.5621 (3.7769)  bbox_regression: 0.6535 (0.7245)  classification: 3.0322 (3.0524)  time: 0.1365  data: 0.0403  max mem: 1104\n",
      "flag\n",
      "Epoch: [3] Total time: 0:05:42 (0.1405 s / it)\n",
      "saved dict\n",
      "creating index...\n",
      "index created!\n",
      "<torch.utils.data.dataloader.DataLoader object at 0x0000024C1147B310>\n",
      "Test:  [  0/100]  eta: 0:00:03  model_time: 0.0190 (0.0190)  evaluator_time: 0.0000 (0.0000)  time: 0.0320  data: 0.0120  max mem: 1104\n",
      "Test:  [ 99/100]  eta: 0:00:00  model_time: 0.0290 (0.0264)  evaluator_time: 0.0010 (0.0007)  time: 0.0438  data: 0.0124  max mem: 1104\n",
      "flag\n",
      "Test: Total time: 0:00:04 (0.0404 s / it)\n",
      "Averaged stats: model_time: 0.0290 (0.0264)  evaluator_time: 0.0010 (0.0007)\n",
      "Accumulating evaluation results...\n",
      "DONE (t=0.01s).\n",
      "IoU metric: bbox\n",
      " Average Precision  (AP) @[ IoU=0.50:0.95 | area=   all | maxDets=100 ] = 0.260\n",
      " Average Precision  (AP) @[ IoU=0.50      | area=   all | maxDets=100 ] = 0.479\n",
      " Average Precision  (AP) @[ IoU=0.75      | area=   all | maxDets=100 ] = 0.239\n",
      " Average Precision  (AP) @[ IoU=0.50:0.95 | area= small | maxDets=100 ] = -1.000\n",
      " Average Precision  (AP) @[ IoU=0.50:0.95 | area=medium | maxDets=100 ] = 0.000\n",
      " Average Precision  (AP) @[ IoU=0.50:0.95 | area= large | maxDets=100 ] = 0.261\n",
      " Average Recall     (AR) @[ IoU=0.50:0.95 | area=   all | maxDets=  1 ] = 0.341\n",
      " Average Recall     (AR) @[ IoU=0.50:0.95 | area=   all | maxDets= 10 ] = 0.347\n",
      " Average Recall     (AR) @[ IoU=0.50:0.95 | area=   all | maxDets=100 ] = 0.347\n",
      " Average Recall     (AR) @[ IoU=0.50:0.95 | area= small | maxDets=100 ] = -1.000\n",
      " Average Recall     (AR) @[ IoU=0.50:0.95 | area=medium | maxDets=100 ] = 0.000\n",
      " Average Recall     (AR) @[ IoU=0.50:0.95 | area= large | maxDets=100 ] = 0.348\n",
      "creating index...\n",
      "index created!\n",
      "<torch.utils.data.dataloader.DataLoader object at 0x0000024C1147A470>\n",
      "Test:  [  0/100]  eta: 0:00:05  model_time: 0.0420 (0.0420)  evaluator_time: 0.0010 (0.0010)  time: 0.0570  data: 0.0130  max mem: 1104\n",
      "Test:  [ 99/100]  eta: 0:00:00  model_time: 0.0330 (0.0364)  evaluator_time: 0.0010 (0.0008)  time: 0.0486  data: 0.0124  max mem: 1104\n",
      "flag\n",
      "Test: Total time: 0:00:05 (0.0508 s / it)\n",
      "Averaged stats: model_time: 0.0330 (0.0364)  evaluator_time: 0.0010 (0.0008)\n",
      "Accumulating evaluation results...\n",
      "DONE (t=0.03s).\n",
      "IoU metric: bbox\n",
      " Average Precision  (AP) @[ IoU=0.50:0.95 | area=   all | maxDets=100 ] = 0.263\n",
      " Average Precision  (AP) @[ IoU=0.50      | area=   all | maxDets=100 ] = 0.483\n",
      " Average Precision  (AP) @[ IoU=0.75      | area=   all | maxDets=100 ] = 0.213\n",
      " Average Precision  (AP) @[ IoU=0.50:0.95 | area= small | maxDets=100 ] = -1.000\n",
      " Average Precision  (AP) @[ IoU=0.50:0.95 | area=medium | maxDets=100 ] = -1.000\n",
      " Average Precision  (AP) @[ IoU=0.50:0.95 | area= large | maxDets=100 ] = 0.263\n",
      " Average Recall     (AR) @[ IoU=0.50:0.95 | area=   all | maxDets=  1 ] = 0.360\n",
      " Average Recall     (AR) @[ IoU=0.50:0.95 | area=   all | maxDets= 10 ] = 0.376\n",
      " Average Recall     (AR) @[ IoU=0.50:0.95 | area=   all | maxDets=100 ] = 0.376\n",
      " Average Recall     (AR) @[ IoU=0.50:0.95 | area= small | maxDets=100 ] = -1.000\n",
      " Average Recall     (AR) @[ IoU=0.50:0.95 | area=medium | maxDets=100 ] = -1.000\n",
      " Average Recall     (AR) @[ IoU=0.50:0.95 | area= large | maxDets=100 ] = 0.376\n"
     ]
    },
    {
     "name": "stderr",
     "output_type": "stream",
     "text": [
      "0it [00:00, ?it/s]"
     ]
    },
    {
     "name": "stdout",
     "output_type": "stream",
     "text": [
      "<torch.utils.data.dataloader.DataLoader object at 0x0000024C1147A620>\n"
     ]
    },
    {
     "name": "stderr",
     "output_type": "stream",
     "text": [
      "2it [00:00,  4.61it/s]"
     ]
    },
    {
     "name": "stdout",
     "output_type": "stream",
     "text": [
      "Epoch: [4]  [   0/2437]  eta: 0:10:02  lr: 0.005000  loss: 5.7719 (5.7719)  bbox_regression: 0.5239 (0.5239)  classification: 5.2480 (5.2480)  time: 0.2470  data: 0.0500  max mem: 1104\n"
     ]
    },
    {
     "name": "stderr",
     "output_type": "stream",
     "text": [
      "102it [00:14,  7.38it/s]"
     ]
    },
    {
     "name": "stdout",
     "output_type": "stream",
     "text": [
      "Epoch: [4]  [ 100/2437]  eta: 0:05:25  lr: 0.005000  loss: 3.5143 (3.3510)  bbox_regression: 0.5723 (0.6122)  classification: 2.9644 (2.7388)  time: 0.1359  data: 0.0398  max mem: 1104\n"
     ]
    },
    {
     "name": "stderr",
     "output_type": "stream",
     "text": [
      "202it [00:28,  7.01it/s]"
     ]
    },
    {
     "name": "stdout",
     "output_type": "stream",
     "text": [
      "Epoch: [4]  [ 200/2437]  eta: 0:05:10  lr: 0.005000  loss: 3.2974 (3.3563)  bbox_regression: 0.6426 (0.6236)  classification: 2.5573 (2.7326)  time: 0.1406  data: 0.0433  max mem: 1104\n"
     ]
    },
    {
     "name": "stderr",
     "output_type": "stream",
     "text": [
      "302it [00:41,  6.92it/s]"
     ]
    },
    {
     "name": "stdout",
     "output_type": "stream",
     "text": [
      "Epoch: [4]  [ 300/2437]  eta: 0:04:56  lr: 0.005000  loss: 3.6793 (3.3978)  bbox_regression: 0.5576 (0.6383)  classification: 2.9497 (2.7594)  time: 0.1386  data: 0.0411  max mem: 1104\n"
     ]
    },
    {
     "name": "stderr",
     "output_type": "stream",
     "text": [
      "402it [00:55,  6.88it/s]"
     ]
    },
    {
     "name": "stdout",
     "output_type": "stream",
     "text": [
      "Epoch: [4]  [ 400/2437]  eta: 0:04:43  lr: 0.005000  loss: 3.7519 (3.4281)  bbox_regression: 0.6771 (0.6494)  classification: 2.8685 (2.7787)  time: 0.1391  data: 0.0416  max mem: 1104\n"
     ]
    },
    {
     "name": "stderr",
     "output_type": "stream",
     "text": [
      "502it [01:09,  7.43it/s]"
     ]
    },
    {
     "name": "stdout",
     "output_type": "stream",
     "text": [
      "Epoch: [4]  [ 500/2437]  eta: 0:04:28  lr: 0.005000  loss: 2.9309 (3.3990)  bbox_regression: 0.5750 (0.6601)  classification: 2.4140 (2.7389)  time: 0.1362  data: 0.0393  max mem: 1104\n"
     ]
    },
    {
     "name": "stderr",
     "output_type": "stream",
     "text": [
      "602it [01:23,  7.01it/s]"
     ]
    },
    {
     "name": "stdout",
     "output_type": "stream",
     "text": [
      "Epoch: [4]  [ 600/2437]  eta: 0:04:15  lr: 0.005000  loss: 2.9976 (3.4187)  bbox_regression: 0.6749 (0.6598)  classification: 2.3524 (2.7588)  time: 0.1387  data: 0.0408  max mem: 1104\n"
     ]
    },
    {
     "name": "stderr",
     "output_type": "stream",
     "text": [
      "702it [01:37,  7.27it/s]"
     ]
    },
    {
     "name": "stdout",
     "output_type": "stream",
     "text": [
      "Epoch: [4]  [ 700/2437]  eta: 0:04:01  lr: 0.005000  loss: 3.6408 (3.4615)  bbox_regression: 0.6020 (0.6660)  classification: 3.1785 (2.7954)  time: 0.1414  data: 0.0424  max mem: 1104\n"
     ]
    },
    {
     "name": "stderr",
     "output_type": "stream",
     "text": [
      "802it [01:51,  7.35it/s]"
     ]
    },
    {
     "name": "stdout",
     "output_type": "stream",
     "text": [
      "Epoch: [4]  [ 800/2437]  eta: 0:03:47  lr: 0.005000  loss: 3.1384 (3.4698)  bbox_regression: 0.5929 (0.6684)  classification: 2.5071 (2.8014)  time: 0.1390  data: 0.0418  max mem: 1104\n"
     ]
    },
    {
     "name": "stderr",
     "output_type": "stream",
     "text": [
      "902it [02:05,  6.82it/s]"
     ]
    },
    {
     "name": "stdout",
     "output_type": "stream",
     "text": [
      "Epoch: [4]  [ 900/2437]  eta: 0:03:34  lr: 0.005000  loss: 3.5216 (3.4961)  bbox_regression: 0.7316 (0.6766)  classification: 2.9563 (2.8195)  time: 0.1408  data: 0.0423  max mem: 1104\n"
     ]
    },
    {
     "name": "stderr",
     "output_type": "stream",
     "text": [
      "1002it [02:19,  7.52it/s]"
     ]
    },
    {
     "name": "stdout",
     "output_type": "stream",
     "text": [
      "Epoch: [4]  [1000/2437]  eta: 0:03:20  lr: 0.005000  loss: 3.1886 (3.5161)  bbox_regression: 0.6318 (0.6781)  classification: 2.3711 (2.8380)  time: 0.1384  data: 0.0423  max mem: 1104\n"
     ]
    },
    {
     "name": "stderr",
     "output_type": "stream",
     "text": [
      "1102it [02:33,  6.99it/s]"
     ]
    },
    {
     "name": "stdout",
     "output_type": "stream",
     "text": [
      "Epoch: [4]  [1100/2437]  eta: 0:03:06  lr: 0.005000  loss: 3.8190 (3.5060)  bbox_regression: 0.8048 (0.6773)  classification: 2.7864 (2.8287)  time: 0.1446  data: 0.0468  max mem: 1104\n"
     ]
    },
    {
     "name": "stderr",
     "output_type": "stream",
     "text": [
      "1202it [02:47,  7.13it/s]"
     ]
    },
    {
     "name": "stdout",
     "output_type": "stream",
     "text": [
      "Epoch: [4]  [1200/2437]  eta: 0:02:52  lr: 0.005000  loss: 3.7127 (3.5384)  bbox_regression: 0.5784 (0.6854)  classification: 3.2111 (2.8529)  time: 0.1390  data: 0.0404  max mem: 1104\n"
     ]
    },
    {
     "name": "stderr",
     "output_type": "stream",
     "text": [
      "1302it [03:01,  7.14it/s]"
     ]
    },
    {
     "name": "stdout",
     "output_type": "stream",
     "text": [
      "Epoch: [4]  [1300/2437]  eta: 0:02:38  lr: 0.005000  loss: 3.6442 (3.5530)  bbox_regression: 0.5752 (0.6865)  classification: 2.9966 (2.8665)  time: 0.1377  data: 0.0407  max mem: 1104\n"
     ]
    },
    {
     "name": "stderr",
     "output_type": "stream",
     "text": [
      "1402it [03:15,  7.23it/s]"
     ]
    },
    {
     "name": "stdout",
     "output_type": "stream",
     "text": [
      "Epoch: [4]  [1400/2437]  eta: 0:02:24  lr: 0.005000  loss: 3.2977 (3.5366)  bbox_regression: 0.5284 (0.6814)  classification: 2.7698 (2.8552)  time: 0.1383  data: 0.0414  max mem: 1104\n"
     ]
    },
    {
     "name": "stderr",
     "output_type": "stream",
     "text": [
      "1502it [03:29,  6.97it/s]"
     ]
    },
    {
     "name": "stdout",
     "output_type": "stream",
     "text": [
      "Epoch: [4]  [1500/2437]  eta: 0:02:10  lr: 0.005000  loss: 3.7117 (3.5545)  bbox_regression: 0.6438 (0.6838)  classification: 2.7724 (2.8707)  time: 0.1404  data: 0.0409  max mem: 1104\n"
     ]
    },
    {
     "name": "stderr",
     "output_type": "stream",
     "text": [
      "1602it [03:43,  7.25it/s]"
     ]
    },
    {
     "name": "stdout",
     "output_type": "stream",
     "text": [
      "Epoch: [4]  [1600/2437]  eta: 0:01:56  lr: 0.005000  loss: 3.6055 (3.5616)  bbox_regression: 0.7437 (0.6870)  classification: 2.9389 (2.8747)  time: 0.1392  data: 0.0419  max mem: 1104\n"
     ]
    },
    {
     "name": "stderr",
     "output_type": "stream",
     "text": [
      "1702it [03:57,  6.09it/s]"
     ]
    },
    {
     "name": "stdout",
     "output_type": "stream",
     "text": [
      "Epoch: [4]  [1700/2437]  eta: 0:01:42  lr: 0.005000  loss: 3.2229 (3.5629)  bbox_regression: 0.5131 (0.6872)  classification: 2.6581 (2.8756)  time: 0.1458  data: 0.0474  max mem: 1104\n"
     ]
    },
    {
     "name": "stderr",
     "output_type": "stream",
     "text": [
      "1802it [04:10,  7.11it/s]"
     ]
    },
    {
     "name": "stdout",
     "output_type": "stream",
     "text": [
      "Epoch: [4]  [1800/2437]  eta: 0:01:28  lr: 0.005000  loss: 3.6683 (3.5686)  bbox_regression: 0.6394 (0.6893)  classification: 2.7030 (2.8793)  time: 0.1382  data: 0.0405  max mem: 1104\n"
     ]
    },
    {
     "name": "stderr",
     "output_type": "stream",
     "text": [
      "1902it [04:24,  7.21it/s]"
     ]
    },
    {
     "name": "stdout",
     "output_type": "stream",
     "text": [
      "Epoch: [4]  [1900/2437]  eta: 0:01:14  lr: 0.005000  loss: 2.5382 (3.5651)  bbox_regression: 0.5490 (0.6930)  classification: 1.8267 (2.8721)  time: 0.1394  data: 0.0411  max mem: 1104\n"
     ]
    },
    {
     "name": "stderr",
     "output_type": "stream",
     "text": [
      "2002it [04:38,  7.04it/s]"
     ]
    },
    {
     "name": "stdout",
     "output_type": "stream",
     "text": [
      "Epoch: [4]  [2000/2437]  eta: 0:01:00  lr: 0.005000  loss: 2.9428 (3.5606)  bbox_regression: 0.6209 (0.6950)  classification: 2.1897 (2.8656)  time: 0.1414  data: 0.0433  max mem: 1104\n"
     ]
    },
    {
     "name": "stderr",
     "output_type": "stream",
     "text": [
      "2102it [04:52,  7.36it/s]"
     ]
    },
    {
     "name": "stdout",
     "output_type": "stream",
     "text": [
      "Epoch: [4]  [2100/2437]  eta: 0:00:46  lr: 0.005000  loss: 3.4646 (3.5673)  bbox_regression: 0.6355 (0.6964)  classification: 2.9361 (2.8709)  time: 0.1387  data: 0.0409  max mem: 1104\n"
     ]
    },
    {
     "name": "stderr",
     "output_type": "stream",
     "text": [
      "2202it [05:06,  6.98it/s]"
     ]
    },
    {
     "name": "stdout",
     "output_type": "stream",
     "text": [
      "Epoch: [4]  [2200/2437]  eta: 0:00:33  lr: 0.005000  loss: 2.7122 (3.5689)  bbox_regression: 0.6103 (0.6959)  classification: 2.1188 (2.8729)  time: 0.1455  data: 0.0462  max mem: 1104\n"
     ]
    },
    {
     "name": "stderr",
     "output_type": "stream",
     "text": [
      "2302it [05:20,  6.97it/s]"
     ]
    },
    {
     "name": "stdout",
     "output_type": "stream",
     "text": [
      "Epoch: [4]  [2300/2437]  eta: 0:00:19  lr: 0.005000  loss: 3.4111 (3.5673)  bbox_regression: 0.5559 (0.6944)  classification: 2.8473 (2.8729)  time: 0.1393  data: 0.0416  max mem: 1104\n"
     ]
    },
    {
     "name": "stderr",
     "output_type": "stream",
     "text": [
      "2402it [05:34,  7.19it/s]"
     ]
    },
    {
     "name": "stdout",
     "output_type": "stream",
     "text": [
      "Epoch: [4]  [2400/2437]  eta: 0:00:05  lr: 0.005000  loss: 3.0538 (3.5646)  bbox_regression: 0.5723 (0.6936)  classification: 2.5249 (2.8711)  time: 0.1379  data: 0.0413  max mem: 1104\n"
     ]
    },
    {
     "name": "stderr",
     "output_type": "stream",
     "text": [
      "2437it [05:39,  7.17it/s]\n"
     ]
    },
    {
     "name": "stdout",
     "output_type": "stream",
     "text": [
      "Epoch: [4]  [2436/2437]  eta: 0:00:00  lr: 0.005000  loss: 3.5867 (3.5687)  bbox_regression: 0.5819 (0.6938)  classification: 3.0056 (2.8749)  time: 0.1360  data: 0.0400  max mem: 1104\n",
      "flag\n",
      "Epoch: [4] Total time: 0:05:39 (0.1394 s / it)\n",
      "saved dict\n",
      "creating index...\n",
      "index created!\n",
      "<torch.utils.data.dataloader.DataLoader object at 0x0000024C1147B310>\n",
      "Test:  [  0/100]  eta: 0:00:03  model_time: 0.0190 (0.0190)  evaluator_time: 0.0000 (0.0000)  time: 0.0330  data: 0.0130  max mem: 1104\n",
      "Test:  [ 99/100]  eta: 0:00:00  model_time: 0.0290 (0.0262)  evaluator_time: 0.0010 (0.0006)  time: 0.0431  data: 0.0123  max mem: 1104\n",
      "flag\n",
      "Test: Total time: 0:00:03 (0.0400 s / it)\n",
      "Averaged stats: model_time: 0.0290 (0.0262)  evaluator_time: 0.0010 (0.0006)\n",
      "Accumulating evaluation results...\n",
      "DONE (t=0.01s).\n",
      "IoU metric: bbox\n",
      " Average Precision  (AP) @[ IoU=0.50:0.95 | area=   all | maxDets=100 ] = 0.229\n",
      " Average Precision  (AP) @[ IoU=0.50      | area=   all | maxDets=100 ] = 0.428\n",
      " Average Precision  (AP) @[ IoU=0.75      | area=   all | maxDets=100 ] = 0.191\n",
      " Average Precision  (AP) @[ IoU=0.50:0.95 | area= small | maxDets=100 ] = -1.000\n",
      " Average Precision  (AP) @[ IoU=0.50:0.95 | area=medium | maxDets=100 ] = 0.000\n",
      " Average Precision  (AP) @[ IoU=0.50:0.95 | area= large | maxDets=100 ] = 0.229\n",
      " Average Recall     (AR) @[ IoU=0.50:0.95 | area=   all | maxDets=  1 ] = 0.304\n",
      " Average Recall     (AR) @[ IoU=0.50:0.95 | area=   all | maxDets= 10 ] = 0.304\n",
      " Average Recall     (AR) @[ IoU=0.50:0.95 | area=   all | maxDets=100 ] = 0.304\n",
      " Average Recall     (AR) @[ IoU=0.50:0.95 | area= small | maxDets=100 ] = -1.000\n",
      " Average Recall     (AR) @[ IoU=0.50:0.95 | area=medium | maxDets=100 ] = 0.000\n",
      " Average Recall     (AR) @[ IoU=0.50:0.95 | area= large | maxDets=100 ] = 0.304\n",
      "creating index...\n",
      "index created!\n",
      "<torch.utils.data.dataloader.DataLoader object at 0x0000024C1147A470>\n",
      "Test:  [  0/100]  eta: 0:00:04  model_time: 0.0355 (0.0355)  evaluator_time: 0.0000 (0.0000)  time: 0.0495  data: 0.0130  max mem: 1104\n",
      "Test:  [ 99/100]  eta: 0:00:00  model_time: 0.0315 (0.0337)  evaluator_time: 0.0010 (0.0007)  time: 0.0460  data: 0.0122  max mem: 1104\n",
      "flag\n",
      "Test: Total time: 0:00:04 (0.0479 s / it)\n",
      "Averaged stats: model_time: 0.0315 (0.0337)  evaluator_time: 0.0010 (0.0007)\n",
      "Accumulating evaluation results...\n",
      "DONE (t=0.03s).\n",
      "IoU metric: bbox\n",
      " Average Precision  (AP) @[ IoU=0.50:0.95 | area=   all | maxDets=100 ] = 0.238\n",
      " Average Precision  (AP) @[ IoU=0.50      | area=   all | maxDets=100 ] = 0.502\n",
      " Average Precision  (AP) @[ IoU=0.75      | area=   all | maxDets=100 ] = 0.200\n",
      " Average Precision  (AP) @[ IoU=0.50:0.95 | area= small | maxDets=100 ] = -1.000\n",
      " Average Precision  (AP) @[ IoU=0.50:0.95 | area=medium | maxDets=100 ] = -1.000\n",
      " Average Precision  (AP) @[ IoU=0.50:0.95 | area= large | maxDets=100 ] = 0.238\n",
      " Average Recall     (AR) @[ IoU=0.50:0.95 | area=   all | maxDets=  1 ] = 0.343\n",
      " Average Recall     (AR) @[ IoU=0.50:0.95 | area=   all | maxDets= 10 ] = 0.361\n",
      " Average Recall     (AR) @[ IoU=0.50:0.95 | area=   all | maxDets=100 ] = 0.361\n",
      " Average Recall     (AR) @[ IoU=0.50:0.95 | area= small | maxDets=100 ] = -1.000\n",
      " Average Recall     (AR) @[ IoU=0.50:0.95 | area=medium | maxDets=100 ] = -1.000\n",
      " Average Recall     (AR) @[ IoU=0.50:0.95 | area= large | maxDets=100 ] = 0.361\n"
     ]
    },
    {
     "name": "stderr",
     "output_type": "stream",
     "text": [
      "0it [00:00, ?it/s]"
     ]
    },
    {
     "name": "stdout",
     "output_type": "stream",
     "text": [
      "<torch.utils.data.dataloader.DataLoader object at 0x0000024C1147A620>\n"
     ]
    },
    {
     "name": "stderr",
     "output_type": "stream",
     "text": [
      "2it [00:00,  4.67it/s]"
     ]
    },
    {
     "name": "stdout",
     "output_type": "stream",
     "text": [
      "Epoch: [5]  [   0/2437]  eta: 0:09:34  lr: 0.005000  loss: 2.5160 (2.5160)  bbox_regression: 0.4393 (0.4393)  classification: 2.0767 (2.0767)  time: 0.2355  data: 0.0485  max mem: 1104\n"
     ]
    },
    {
     "name": "stderr",
     "output_type": "stream",
     "text": [
      "102it [00:14,  7.31it/s]"
     ]
    },
    {
     "name": "stdout",
     "output_type": "stream",
     "text": [
      "Epoch: [5]  [ 100/2437]  eta: 0:05:28  lr: 0.005000  loss: 3.1114 (3.2883)  bbox_regression: 0.5092 (0.6172)  classification: 2.6016 (2.6710)  time: 0.1391  data: 0.0422  max mem: 1104\n"
     ]
    },
    {
     "name": "stderr",
     "output_type": "stream",
     "text": [
      "202it [00:28,  7.06it/s]"
     ]
    },
    {
     "name": "stdout",
     "output_type": "stream",
     "text": [
      "Epoch: [5]  [ 200/2437]  eta: 0:05:14  lr: 0.005000  loss: 2.8918 (3.2646)  bbox_regression: 0.5088 (0.6073)  classification: 2.4157 (2.6573)  time: 0.1490  data: 0.0501  max mem: 1104\n"
     ]
    },
    {
     "name": "stderr",
     "output_type": "stream",
     "text": [
      "302it [00:42,  7.44it/s]"
     ]
    },
    {
     "name": "stdout",
     "output_type": "stream",
     "text": [
      "Epoch: [5]  [ 300/2437]  eta: 0:04:58  lr: 0.005000  loss: 3.0606 (3.1731)  bbox_regression: 0.5377 (0.6066)  classification: 2.4843 (2.5665)  time: 0.1383  data: 0.0404  max mem: 1104\n"
     ]
    },
    {
     "name": "stderr",
     "output_type": "stream",
     "text": [
      "402it [00:56,  7.21it/s]"
     ]
    },
    {
     "name": "stdout",
     "output_type": "stream",
     "text": [
      "Epoch: [5]  [ 400/2437]  eta: 0:04:44  lr: 0.005000  loss: 3.8549 (3.2388)  bbox_regression: 0.6513 (0.6132)  classification: 2.9394 (2.6255)  time: 0.1383  data: 0.0420  max mem: 1104\n"
     ]
    },
    {
     "name": "stderr",
     "output_type": "stream",
     "text": [
      "502it [01:09,  7.31it/s]"
     ]
    },
    {
     "name": "stdout",
     "output_type": "stream",
     "text": [
      "Epoch: [5]  [ 500/2437]  eta: 0:04:29  lr: 0.005000  loss: 2.8016 (3.1999)  bbox_regression: 0.4654 (0.6130)  classification: 2.3161 (2.5869)  time: 0.1394  data: 0.0412  max mem: 1104\n"
     ]
    },
    {
     "name": "stderr",
     "output_type": "stream",
     "text": [
      "602it [01:24,  7.15it/s]"
     ]
    },
    {
     "name": "stdout",
     "output_type": "stream",
     "text": [
      "Epoch: [5]  [ 600/2437]  eta: 0:04:16  lr: 0.005000  loss: 3.3006 (3.2814)  bbox_regression: 0.6300 (0.6323)  classification: 2.5032 (2.6491)  time: 0.1389  data: 0.0416  max mem: 1104\n"
     ]
    },
    {
     "name": "stderr",
     "output_type": "stream",
     "text": [
      "702it [01:37,  7.06it/s]"
     ]
    },
    {
     "name": "stdout",
     "output_type": "stream",
     "text": [
      "Epoch: [5]  [ 700/2437]  eta: 0:04:02  lr: 0.005000  loss: 3.3306 (3.2911)  bbox_regression: 0.5404 (0.6333)  classification: 2.7892 (2.6578)  time: 0.1426  data: 0.0442  max mem: 1104\n"
     ]
    },
    {
     "name": "stderr",
     "output_type": "stream",
     "text": [
      "802it [01:52,  6.99it/s]"
     ]
    },
    {
     "name": "stdout",
     "output_type": "stream",
     "text": [
      "Epoch: [5]  [ 800/2437]  eta: 0:03:48  lr: 0.005000  loss: 3.3236 (3.3124)  bbox_regression: 0.6183 (0.6398)  classification: 2.6281 (2.6726)  time: 0.1399  data: 0.0419  max mem: 1104\n"
     ]
    },
    {
     "name": "stderr",
     "output_type": "stream",
     "text": [
      "902it [02:05,  7.30it/s]"
     ]
    },
    {
     "name": "stdout",
     "output_type": "stream",
     "text": [
      "Epoch: [5]  [ 900/2437]  eta: 0:03:34  lr: 0.005000  loss: 2.8934 (3.2962)  bbox_regression: 0.4759 (0.6396)  classification: 2.1397 (2.6566)  time: 0.1382  data: 0.0406  max mem: 1104\n"
     ]
    },
    {
     "name": "stderr",
     "output_type": "stream",
     "text": [
      "1002it [02:19,  7.31it/s]"
     ]
    },
    {
     "name": "stdout",
     "output_type": "stream",
     "text": [
      "Epoch: [5]  [1000/2437]  eta: 0:03:20  lr: 0.005000  loss: 2.9904 (3.2996)  bbox_regression: 0.5037 (0.6394)  classification: 2.4250 (2.6601)  time: 0.1385  data: 0.0418  max mem: 1104\n"
     ]
    },
    {
     "name": "stderr",
     "output_type": "stream",
     "text": [
      "1102it [02:33,  7.35it/s]"
     ]
    },
    {
     "name": "stdout",
     "output_type": "stream",
     "text": [
      "Epoch: [5]  [1100/2437]  eta: 0:03:06  lr: 0.005000  loss: 3.6741 (3.3218)  bbox_regression: 0.6135 (0.6473)  classification: 2.7659 (2.6745)  time: 0.1374  data: 0.0409  max mem: 1104\n"
     ]
    },
    {
     "name": "stderr",
     "output_type": "stream",
     "text": [
      "1202it [02:47,  7.21it/s]"
     ]
    },
    {
     "name": "stdout",
     "output_type": "stream",
     "text": [
      "Epoch: [5]  [1200/2437]  eta: 0:02:52  lr: 0.005000  loss: 2.8133 (3.3220)  bbox_regression: 0.4450 (0.6455)  classification: 2.2571 (2.6765)  time: 0.1382  data: 0.0399  max mem: 1104\n"
     ]
    },
    {
     "name": "stderr",
     "output_type": "stream",
     "text": [
      "1302it [03:01,  7.03it/s]"
     ]
    },
    {
     "name": "stdout",
     "output_type": "stream",
     "text": [
      "Epoch: [5]  [1300/2437]  eta: 0:02:38  lr: 0.005000  loss: 3.4152 (3.3396)  bbox_regression: 0.6073 (0.6516)  classification: 2.6747 (2.6881)  time: 0.1404  data: 0.0417  max mem: 1104\n"
     ]
    },
    {
     "name": "stderr",
     "output_type": "stream",
     "text": [
      "1402it [03:15,  7.26it/s]"
     ]
    },
    {
     "name": "stdout",
     "output_type": "stream",
     "text": [
      "Epoch: [5]  [1400/2437]  eta: 0:02:24  lr: 0.005000  loss: 3.6279 (3.3526)  bbox_regression: 0.6301 (0.6540)  classification: 2.9895 (2.6986)  time: 0.1382  data: 0.0407  max mem: 1104\n"
     ]
    },
    {
     "name": "stderr",
     "output_type": "stream",
     "text": [
      "1502it [03:29,  7.11it/s]"
     ]
    },
    {
     "name": "stdout",
     "output_type": "stream",
     "text": [
      "Epoch: [5]  [1500/2437]  eta: 0:02:10  lr: 0.005000  loss: 3.0197 (3.3467)  bbox_regression: 0.4978 (0.6536)  classification: 2.4830 (2.6931)  time: 0.1433  data: 0.0425  max mem: 1104\n"
     ]
    },
    {
     "name": "stderr",
     "output_type": "stream",
     "text": [
      "1602it [03:43,  7.10it/s]"
     ]
    },
    {
     "name": "stdout",
     "output_type": "stream",
     "text": [
      "Epoch: [5]  [1600/2437]  eta: 0:01:56  lr: 0.005000  loss: 3.1080 (3.3432)  bbox_regression: 0.7072 (0.6548)  classification: 2.2114 (2.6884)  time: 0.1408  data: 0.0419  max mem: 1104\n"
     ]
    },
    {
     "name": "stderr",
     "output_type": "stream",
     "text": [
      "1702it [03:57,  7.28it/s]"
     ]
    },
    {
     "name": "stdout",
     "output_type": "stream",
     "text": [
      "Epoch: [5]  [1700/2437]  eta: 0:01:42  lr: 0.005000  loss: 3.7604 (3.3574)  bbox_regression: 0.5324 (0.6538)  classification: 3.0101 (2.7035)  time: 0.1378  data: 0.0403  max mem: 1104\n"
     ]
    },
    {
     "name": "stderr",
     "output_type": "stream",
     "text": [
      "1802it [04:11,  7.23it/s]"
     ]
    },
    {
     "name": "stdout",
     "output_type": "stream",
     "text": [
      "Epoch: [5]  [1800/2437]  eta: 0:01:28  lr: 0.005000  loss: 3.3868 (3.3631)  bbox_regression: 0.5559 (0.6565)  classification: 2.6400 (2.7066)  time: 0.1367  data: 0.0399  max mem: 1104\n"
     ]
    },
    {
     "name": "stderr",
     "output_type": "stream",
     "text": [
      "1902it [04:25,  7.34it/s]"
     ]
    },
    {
     "name": "stdout",
     "output_type": "stream",
     "text": [
      "Epoch: [5]  [1900/2437]  eta: 0:01:14  lr: 0.005000  loss: 3.2136 (3.3863)  bbox_regression: 0.5067 (0.6623)  classification: 2.4802 (2.7239)  time: 0.1399  data: 0.0412  max mem: 1104\n"
     ]
    },
    {
     "name": "stderr",
     "output_type": "stream",
     "text": [
      "2002it [04:39,  7.35it/s]"
     ]
    },
    {
     "name": "stdout",
     "output_type": "stream",
     "text": [
      "Epoch: [5]  [2000/2437]  eta: 0:01:00  lr: 0.005000  loss: 2.6880 (3.3799)  bbox_regression: 0.5111 (0.6611)  classification: 2.3070 (2.7188)  time: 0.1375  data: 0.0402  max mem: 1104\n"
     ]
    },
    {
     "name": "stderr",
     "output_type": "stream",
     "text": [
      "2102it [04:53,  7.16it/s]"
     ]
    },
    {
     "name": "stdout",
     "output_type": "stream",
     "text": [
      "Epoch: [5]  [2100/2437]  eta: 0:00:46  lr: 0.005000  loss: 3.4579 (3.3888)  bbox_regression: 0.5940 (0.6601)  classification: 2.5902 (2.7286)  time: 0.1380  data: 0.0402  max mem: 1104\n"
     ]
    },
    {
     "name": "stderr",
     "output_type": "stream",
     "text": [
      "2202it [05:06,  7.17it/s]"
     ]
    },
    {
     "name": "stdout",
     "output_type": "stream",
     "text": [
      "Epoch: [5]  [2200/2437]  eta: 0:00:33  lr: 0.005000  loss: 2.8384 (3.3879)  bbox_regression: 0.7695 (0.6606)  classification: 2.2490 (2.7273)  time: 0.1400  data: 0.0416  max mem: 1104\n"
     ]
    },
    {
     "name": "stderr",
     "output_type": "stream",
     "text": [
      "2302it [05:20,  7.36it/s]"
     ]
    },
    {
     "name": "stdout",
     "output_type": "stream",
     "text": [
      "Epoch: [5]  [2300/2437]  eta: 0:00:19  lr: 0.005000  loss: 3.2182 (3.3939)  bbox_regression: 0.5822 (0.6616)  classification: 2.3812 (2.7323)  time: 0.1369  data: 0.0388  max mem: 1104\n"
     ]
    },
    {
     "name": "stderr",
     "output_type": "stream",
     "text": [
      "2402it [05:34,  7.06it/s]"
     ]
    },
    {
     "name": "stdout",
     "output_type": "stream",
     "text": [
      "Epoch: [5]  [2400/2437]  eta: 0:00:05  lr: 0.005000  loss: 3.4555 (3.3948)  bbox_regression: 0.5991 (0.6614)  classification: 2.4448 (2.7334)  time: 0.1391  data: 0.0423  max mem: 1104\n"
     ]
    },
    {
     "name": "stderr",
     "output_type": "stream",
     "text": [
      "2437it [05:39,  7.18it/s]\n"
     ]
    },
    {
     "name": "stdout",
     "output_type": "stream",
     "text": [
      "Epoch: [5]  [2436/2437]  eta: 0:00:00  lr: 0.005000  loss: 3.0522 (3.3997)  bbox_regression: 0.4750 (0.6620)  classification: 2.6728 (2.7377)  time: 0.1337  data: 0.0383  max mem: 1104\n",
      "flag\n",
      "Epoch: [5] Total time: 0:05:39 (0.1393 s / it)\n",
      "saved dict\n",
      "creating index...\n",
      "index created!\n",
      "<torch.utils.data.dataloader.DataLoader object at 0x0000024C1147B310>\n",
      "Test:  [  0/100]  eta: 0:00:03  model_time: 0.0210 (0.0210)  evaluator_time: 0.0010 (0.0010)  time: 0.0360  data: 0.0130  max mem: 1104\n",
      "Test:  [ 99/100]  eta: 0:00:00  model_time: 0.0300 (0.0288)  evaluator_time: 0.0010 (0.0006)  time: 0.0450  data: 0.0122  max mem: 1104\n",
      "flag\n",
      "Test: Total time: 0:00:04 (0.0428 s / it)\n",
      "Averaged stats: model_time: 0.0300 (0.0288)  evaluator_time: 0.0010 (0.0006)\n",
      "Accumulating evaluation results...\n",
      "DONE (t=0.01s).\n",
      "IoU metric: bbox\n",
      " Average Precision  (AP) @[ IoU=0.50:0.95 | area=   all | maxDets=100 ] = 0.407\n",
      " Average Precision  (AP) @[ IoU=0.50      | area=   all | maxDets=100 ] = 0.681\n",
      " Average Precision  (AP) @[ IoU=0.75      | area=   all | maxDets=100 ] = 0.421\n",
      " Average Precision  (AP) @[ IoU=0.50:0.95 | area= small | maxDets=100 ] = -1.000\n",
      " Average Precision  (AP) @[ IoU=0.50:0.95 | area=medium | maxDets=100 ] = 0.000\n",
      " Average Precision  (AP) @[ IoU=0.50:0.95 | area= large | maxDets=100 ] = 0.409\n",
      " Average Recall     (AR) @[ IoU=0.50:0.95 | area=   all | maxDets=  1 ] = 0.518\n",
      " Average Recall     (AR) @[ IoU=0.50:0.95 | area=   all | maxDets= 10 ] = 0.522\n",
      " Average Recall     (AR) @[ IoU=0.50:0.95 | area=   all | maxDets=100 ] = 0.522\n",
      " Average Recall     (AR) @[ IoU=0.50:0.95 | area= small | maxDets=100 ] = -1.000\n",
      " Average Recall     (AR) @[ IoU=0.50:0.95 | area=medium | maxDets=100 ] = 0.000\n",
      " Average Recall     (AR) @[ IoU=0.50:0.95 | area= large | maxDets=100 ] = 0.524\n",
      "creating index...\n",
      "index created!\n",
      "<torch.utils.data.dataloader.DataLoader object at 0x0000024C1147A470>\n",
      "Test:  [  0/100]  eta: 0:00:05  model_time: 0.0410 (0.0410)  evaluator_time: 0.0010 (0.0010)  time: 0.0546  data: 0.0126  max mem: 1104\n",
      "Test:  [ 99/100]  eta: 0:00:00  model_time: 0.0340 (0.0350)  evaluator_time: 0.0010 (0.0008)  time: 0.0486  data: 0.0124  max mem: 1104\n",
      "flag\n",
      "Test: Total time: 0:00:04 (0.0493 s / it)\n",
      "Averaged stats: model_time: 0.0340 (0.0350)  evaluator_time: 0.0010 (0.0008)\n",
      "Accumulating evaluation results...\n",
      "DONE (t=0.03s).\n",
      "IoU metric: bbox\n",
      " Average Precision  (AP) @[ IoU=0.50:0.95 | area=   all | maxDets=100 ] = 0.287\n",
      " Average Precision  (AP) @[ IoU=0.50      | area=   all | maxDets=100 ] = 0.511\n",
      " Average Precision  (AP) @[ IoU=0.75      | area=   all | maxDets=100 ] = 0.242\n",
      " Average Precision  (AP) @[ IoU=0.50:0.95 | area= small | maxDets=100 ] = -1.000\n",
      " Average Precision  (AP) @[ IoU=0.50:0.95 | area=medium | maxDets=100 ] = -1.000\n",
      " Average Precision  (AP) @[ IoU=0.50:0.95 | area= large | maxDets=100 ] = 0.287\n",
      " Average Recall     (AR) @[ IoU=0.50:0.95 | area=   all | maxDets=  1 ] = 0.393\n",
      " Average Recall     (AR) @[ IoU=0.50:0.95 | area=   all | maxDets= 10 ] = 0.402\n",
      " Average Recall     (AR) @[ IoU=0.50:0.95 | area=   all | maxDets=100 ] = 0.402\n",
      " Average Recall     (AR) @[ IoU=0.50:0.95 | area= small | maxDets=100 ] = -1.000\n",
      " Average Recall     (AR) @[ IoU=0.50:0.95 | area=medium | maxDets=100 ] = -1.000\n",
      " Average Recall     (AR) @[ IoU=0.50:0.95 | area= large | maxDets=100 ] = 0.402\n"
     ]
    },
    {
     "name": "stderr",
     "output_type": "stream",
     "text": [
      "0it [00:00, ?it/s]"
     ]
    },
    {
     "name": "stdout",
     "output_type": "stream",
     "text": [
      "<torch.utils.data.dataloader.DataLoader object at 0x0000024C1147A620>\n"
     ]
    },
    {
     "name": "stderr",
     "output_type": "stream",
     "text": [
      "2it [00:00,  4.84it/s]"
     ]
    },
    {
     "name": "stdout",
     "output_type": "stream",
     "text": [
      "Epoch: [6]  [   0/2437]  eta: 0:09:35  lr: 0.005000  loss: 2.9445 (2.9445)  bbox_regression: 0.6408 (0.6408)  classification: 2.3037 (2.3037)  time: 0.2361  data: 0.0476  max mem: 1104\n"
     ]
    },
    {
     "name": "stderr",
     "output_type": "stream",
     "text": [
      "102it [00:14,  7.18it/s]"
     ]
    },
    {
     "name": "stdout",
     "output_type": "stream",
     "text": [
      "Epoch: [6]  [ 100/2437]  eta: 0:05:27  lr: 0.005000  loss: 3.1110 (3.2042)  bbox_regression: 0.5005 (0.5977)  classification: 2.4267 (2.6066)  time: 0.1404  data: 0.0421  max mem: 1104\n"
     ]
    },
    {
     "name": "stderr",
     "output_type": "stream",
     "text": [
      "202it [00:28,  7.45it/s]"
     ]
    },
    {
     "name": "stdout",
     "output_type": "stream",
     "text": [
      "Epoch: [6]  [ 200/2437]  eta: 0:05:11  lr: 0.005000  loss: 3.0976 (3.2036)  bbox_regression: 0.4943 (0.6097)  classification: 2.6516 (2.5939)  time: 0.1375  data: 0.0408  max mem: 1104\n"
     ]
    },
    {
     "name": "stderr",
     "output_type": "stream",
     "text": [
      "302it [00:41,  7.18it/s]"
     ]
    },
    {
     "name": "stdout",
     "output_type": "stream",
     "text": [
      "Epoch: [6]  [ 300/2437]  eta: 0:04:56  lr: 0.005000  loss: 2.9650 (3.2198)  bbox_regression: 0.5384 (0.6258)  classification: 2.3471 (2.5940)  time: 0.1391  data: 0.0406  max mem: 1104\n"
     ]
    },
    {
     "name": "stderr",
     "output_type": "stream",
     "text": [
      "402it [00:55,  7.39it/s]"
     ]
    },
    {
     "name": "stdout",
     "output_type": "stream",
     "text": [
      "Epoch: [6]  [ 400/2437]  eta: 0:04:42  lr: 0.005000  loss: 3.0781 (3.2543)  bbox_regression: 0.4958 (0.6293)  classification: 2.6643 (2.6250)  time: 0.1368  data: 0.0408  max mem: 1104\n"
     ]
    },
    {
     "name": "stderr",
     "output_type": "stream",
     "text": [
      "502it [01:09,  7.06it/s]"
     ]
    },
    {
     "name": "stdout",
     "output_type": "stream",
     "text": [
      "Epoch: [6]  [ 500/2437]  eta: 0:04:28  lr: 0.005000  loss: 2.9189 (3.2634)  bbox_regression: 0.6189 (0.6319)  classification: 2.3508 (2.6315)  time: 0.1380  data: 0.0406  max mem: 1104\n"
     ]
    },
    {
     "name": "stderr",
     "output_type": "stream",
     "text": [
      "602it [01:23,  7.29it/s]"
     ]
    },
    {
     "name": "stdout",
     "output_type": "stream",
     "text": [
      "Epoch: [6]  [ 600/2437]  eta: 0:04:14  lr: 0.005000  loss: 3.2040 (3.2688)  bbox_regression: 0.6621 (0.6392)  classification: 2.3878 (2.6296)  time: 0.1390  data: 0.0424  max mem: 1104\n"
     ]
    },
    {
     "name": "stderr",
     "output_type": "stream",
     "text": [
      "702it [01:37,  7.27it/s]"
     ]
    },
    {
     "name": "stdout",
     "output_type": "stream",
     "text": [
      "Epoch: [6]  [ 700/2437]  eta: 0:04:00  lr: 0.005000  loss: 2.7771 (3.2462)  bbox_regression: 0.5139 (0.6354)  classification: 2.3098 (2.6107)  time: 0.1380  data: 0.0410  max mem: 1104\n"
     ]
    },
    {
     "name": "stderr",
     "output_type": "stream",
     "text": [
      "802it [01:51,  7.40it/s]"
     ]
    },
    {
     "name": "stdout",
     "output_type": "stream",
     "text": [
      "Epoch: [6]  [ 800/2437]  eta: 0:03:46  lr: 0.005000  loss: 2.7920 (3.2306)  bbox_regression: 0.5615 (0.6277)  classification: 2.2305 (2.6029)  time: 0.1389  data: 0.0417  max mem: 1104\n"
     ]
    },
    {
     "name": "stderr",
     "output_type": "stream",
     "text": [
      "902it [02:05,  7.25it/s]"
     ]
    },
    {
     "name": "stdout",
     "output_type": "stream",
     "text": [
      "Epoch: [6]  [ 900/2437]  eta: 0:03:33  lr: 0.005000  loss: 3.0441 (3.2554)  bbox_regression: 0.6771 (0.6341)  classification: 2.3671 (2.6214)  time: 0.1375  data: 0.0402  max mem: 1104\n"
     ]
    },
    {
     "name": "stderr",
     "output_type": "stream",
     "text": [
      "1002it [02:18,  7.28it/s]"
     ]
    },
    {
     "name": "stdout",
     "output_type": "stream",
     "text": [
      "Epoch: [6]  [1000/2437]  eta: 0:03:19  lr: 0.005000  loss: 3.2651 (3.2630)  bbox_regression: 0.6577 (0.6369)  classification: 2.6769 (2.6261)  time: 0.1385  data: 0.0407  max mem: 1104\n"
     ]
    },
    {
     "name": "stderr",
     "output_type": "stream",
     "text": [
      "1102it [02:32,  7.29it/s]"
     ]
    },
    {
     "name": "stdout",
     "output_type": "stream",
     "text": [
      "Epoch: [6]  [1100/2437]  eta: 0:03:05  lr: 0.005000  loss: 2.5446 (3.2555)  bbox_regression: 0.5146 (0.6387)  classification: 2.0140 (2.6168)  time: 0.1361  data: 0.0400  max mem: 1104\n"
     ]
    },
    {
     "name": "stderr",
     "output_type": "stream",
     "text": [
      "1202it [02:46,  5.60it/s]"
     ]
    },
    {
     "name": "stdout",
     "output_type": "stream",
     "text": [
      "Epoch: [6]  [1200/2437]  eta: 0:02:51  lr: 0.005000  loss: 2.6435 (3.2538)  bbox_regression: 0.5574 (0.6352)  classification: 1.9580 (2.6186)  time: 0.1491  data: 0.0488  max mem: 1104\n"
     ]
    },
    {
     "name": "stderr",
     "output_type": "stream",
     "text": [
      "1302it [03:00,  7.25it/s]"
     ]
    },
    {
     "name": "stdout",
     "output_type": "stream",
     "text": [
      "Epoch: [6]  [1300/2437]  eta: 0:02:37  lr: 0.005000  loss: 2.9794 (3.2539)  bbox_regression: 0.5069 (0.6351)  classification: 2.4145 (2.6187)  time: 0.1376  data: 0.0410  max mem: 1104\n"
     ]
    },
    {
     "name": "stderr",
     "output_type": "stream",
     "text": [
      "1402it [03:14,  7.12it/s]"
     ]
    },
    {
     "name": "stdout",
     "output_type": "stream",
     "text": [
      "Epoch: [6]  [1400/2437]  eta: 0:02:23  lr: 0.005000  loss: 3.4276 (3.2615)  bbox_regression: 0.7291 (0.6372)  classification: 2.6717 (2.6243)  time: 0.1378  data: 0.0403  max mem: 1104\n"
     ]
    },
    {
     "name": "stderr",
     "output_type": "stream",
     "text": [
      "1502it [03:28,  7.25it/s]"
     ]
    },
    {
     "name": "stdout",
     "output_type": "stream",
     "text": [
      "Epoch: [6]  [1500/2437]  eta: 0:02:10  lr: 0.005000  loss: 2.7332 (3.2628)  bbox_regression: 0.6004 (0.6386)  classification: 2.2069 (2.6242)  time: 0.1393  data: 0.0401  max mem: 1104\n"
     ]
    },
    {
     "name": "stderr",
     "output_type": "stream",
     "text": [
      "1602it [03:42,  7.14it/s]"
     ]
    },
    {
     "name": "stdout",
     "output_type": "stream",
     "text": [
      "Epoch: [6]  [1600/2437]  eta: 0:01:56  lr: 0.005000  loss: 3.1657 (3.2596)  bbox_regression: 0.6551 (0.6387)  classification: 2.4912 (2.6209)  time: 0.1395  data: 0.0412  max mem: 1104\n"
     ]
    },
    {
     "name": "stderr",
     "output_type": "stream",
     "text": [
      "1702it [03:56,  7.19it/s]"
     ]
    },
    {
     "name": "stdout",
     "output_type": "stream",
     "text": [
      "Epoch: [6]  [1700/2437]  eta: 0:01:42  lr: 0.005000  loss: 3.1093 (3.2519)  bbox_regression: 0.5061 (0.6362)  classification: 2.5804 (2.6157)  time: 0.1396  data: 0.0409  max mem: 1104\n"
     ]
    },
    {
     "name": "stderr",
     "output_type": "stream",
     "text": [
      "1802it [04:10,  7.12it/s]"
     ]
    },
    {
     "name": "stdout",
     "output_type": "stream",
     "text": [
      "Epoch: [6]  [1800/2437]  eta: 0:01:28  lr: 0.005000  loss: 3.4281 (3.2529)  bbox_regression: 0.5718 (0.6358)  classification: 2.8242 (2.6171)  time: 0.1393  data: 0.0412  max mem: 1104\n"
     ]
    },
    {
     "name": "stderr",
     "output_type": "stream",
     "text": [
      "1902it [04:24,  7.11it/s]"
     ]
    },
    {
     "name": "stdout",
     "output_type": "stream",
     "text": [
      "Epoch: [6]  [1900/2437]  eta: 0:01:14  lr: 0.005000  loss: 2.9106 (3.2549)  bbox_regression: 0.5581 (0.6356)  classification: 2.2313 (2.6193)  time: 0.1474  data: 0.0494  max mem: 1104\n"
     ]
    },
    {
     "name": "stderr",
     "output_type": "stream",
     "text": [
      "2002it [04:38,  7.16it/s]"
     ]
    },
    {
     "name": "stdout",
     "output_type": "stream",
     "text": [
      "Epoch: [6]  [2000/2437]  eta: 0:01:00  lr: 0.005000  loss: 3.2951 (3.2443)  bbox_regression: 0.5874 (0.6332)  classification: 2.6309 (2.6111)  time: 0.1394  data: 0.0420  max mem: 1104\n"
     ]
    },
    {
     "name": "stderr",
     "output_type": "stream",
     "text": [
      "2102it [04:52,  7.26it/s]"
     ]
    },
    {
     "name": "stdout",
     "output_type": "stream",
     "text": [
      "Epoch: [6]  [2100/2437]  eta: 0:00:46  lr: 0.005000  loss: 3.0377 (3.2475)  bbox_regression: 0.6398 (0.6338)  classification: 2.3621 (2.6137)  time: 0.1375  data: 0.0410  max mem: 1104\n"
     ]
    },
    {
     "name": "stderr",
     "output_type": "stream",
     "text": [
      "2202it [05:06,  7.11it/s]"
     ]
    },
    {
     "name": "stdout",
     "output_type": "stream",
     "text": [
      "Epoch: [6]  [2200/2437]  eta: 0:00:32  lr: 0.005000  loss: 2.7662 (3.2415)  bbox_regression: 0.4266 (0.6327)  classification: 2.1371 (2.6088)  time: 0.1398  data: 0.0404  max mem: 1104\n"
     ]
    },
    {
     "name": "stderr",
     "output_type": "stream",
     "text": [
      "2302it [05:20,  7.19it/s]"
     ]
    },
    {
     "name": "stdout",
     "output_type": "stream",
     "text": [
      "Epoch: [6]  [2300/2437]  eta: 0:00:19  lr: 0.005000  loss: 2.5369 (3.2430)  bbox_regression: 0.5172 (0.6347)  classification: 2.0974 (2.6083)  time: 0.1390  data: 0.0414  max mem: 1104\n"
     ]
    },
    {
     "name": "stderr",
     "output_type": "stream",
     "text": [
      "2402it [05:33,  7.36it/s]"
     ]
    },
    {
     "name": "stdout",
     "output_type": "stream",
     "text": [
      "Epoch: [6]  [2400/2437]  eta: 0:00:05  lr: 0.005000  loss: 3.4110 (3.2519)  bbox_regression: 0.5894 (0.6349)  classification: 2.6004 (2.6170)  time: 0.1395  data: 0.0416  max mem: 1104\n"
     ]
    },
    {
     "name": "stderr",
     "output_type": "stream",
     "text": [
      "2437it [05:38,  7.20it/s]\n"
     ]
    },
    {
     "name": "stdout",
     "output_type": "stream",
     "text": [
      "Epoch: [6]  [2436/2437]  eta: 0:00:00  lr: 0.005000  loss: 2.9176 (3.2513)  bbox_regression: 0.5827 (0.6342)  classification: 2.4450 (2.6171)  time: 0.1354  data: 0.0394  max mem: 1104\n",
      "flag\n",
      "Epoch: [6] Total time: 0:05:38 (0.1390 s / it)\n",
      "saved dict\n",
      "creating index...\n",
      "index created!\n",
      "<torch.utils.data.dataloader.DataLoader object at 0x0000024C1147B310>\n",
      "Test:  [  0/100]  eta: 0:00:03  model_time: 0.0200 (0.0200)  evaluator_time: 0.0010 (0.0010)  time: 0.0340  data: 0.0120  max mem: 1104\n",
      "Test:  [ 99/100]  eta: 0:00:00  model_time: 0.0290 (0.0277)  evaluator_time: 0.0010 (0.0006)  time: 0.0451  data: 0.0122  max mem: 1104\n",
      "flag\n",
      "Test: Total time: 0:00:04 (0.0416 s / it)\n",
      "Averaged stats: model_time: 0.0290 (0.0277)  evaluator_time: 0.0010 (0.0006)\n",
      "Accumulating evaluation results...\n",
      "DONE (t=0.01s).\n",
      "IoU metric: bbox\n",
      " Average Precision  (AP) @[ IoU=0.50:0.95 | area=   all | maxDets=100 ] = 0.387\n",
      " Average Precision  (AP) @[ IoU=0.50      | area=   all | maxDets=100 ] = 0.645\n",
      " Average Precision  (AP) @[ IoU=0.75      | area=   all | maxDets=100 ] = 0.414\n",
      " Average Precision  (AP) @[ IoU=0.50:0.95 | area= small | maxDets=100 ] = -1.000\n",
      " Average Precision  (AP) @[ IoU=0.50:0.95 | area=medium | maxDets=100 ] = 0.000\n",
      " Average Precision  (AP) @[ IoU=0.50:0.95 | area= large | maxDets=100 ] = 0.389\n",
      " Average Recall     (AR) @[ IoU=0.50:0.95 | area=   all | maxDets=  1 ] = 0.489\n",
      " Average Recall     (AR) @[ IoU=0.50:0.95 | area=   all | maxDets= 10 ] = 0.492\n",
      " Average Recall     (AR) @[ IoU=0.50:0.95 | area=   all | maxDets=100 ] = 0.492\n",
      " Average Recall     (AR) @[ IoU=0.50:0.95 | area= small | maxDets=100 ] = -1.000\n",
      " Average Recall     (AR) @[ IoU=0.50:0.95 | area=medium | maxDets=100 ] = 0.000\n",
      " Average Recall     (AR) @[ IoU=0.50:0.95 | area= large | maxDets=100 ] = 0.494\n",
      "creating index...\n",
      "index created!\n",
      "<torch.utils.data.dataloader.DataLoader object at 0x0000024C1147A470>\n",
      "Test:  [  0/100]  eta: 0:00:05  model_time: 0.0430 (0.0430)  evaluator_time: 0.0010 (0.0010)  time: 0.0570  data: 0.0130  max mem: 1104\n",
      "Test:  [ 99/100]  eta: 0:00:00  model_time: 0.0320 (0.0339)  evaluator_time: 0.0010 (0.0008)  time: 0.0460  data: 0.0123  max mem: 1104\n",
      "flag\n",
      "Test: Total time: 0:00:04 (0.0481 s / it)\n",
      "Averaged stats: model_time: 0.0320 (0.0339)  evaluator_time: 0.0010 (0.0008)\n",
      "Accumulating evaluation results...\n",
      "DONE (t=0.03s).\n",
      "IoU metric: bbox\n",
      " Average Precision  (AP) @[ IoU=0.50:0.95 | area=   all | maxDets=100 ] = 0.315\n",
      " Average Precision  (AP) @[ IoU=0.50      | area=   all | maxDets=100 ] = 0.526\n",
      " Average Precision  (AP) @[ IoU=0.75      | area=   all | maxDets=100 ] = 0.297\n",
      " Average Precision  (AP) @[ IoU=0.50:0.95 | area= small | maxDets=100 ] = -1.000\n",
      " Average Precision  (AP) @[ IoU=0.50:0.95 | area=medium | maxDets=100 ] = -1.000\n",
      " Average Precision  (AP) @[ IoU=0.50:0.95 | area= large | maxDets=100 ] = 0.315\n",
      " Average Recall     (AR) @[ IoU=0.50:0.95 | area=   all | maxDets=  1 ] = 0.415\n",
      " Average Recall     (AR) @[ IoU=0.50:0.95 | area=   all | maxDets= 10 ] = 0.424\n",
      " Average Recall     (AR) @[ IoU=0.50:0.95 | area=   all | maxDets=100 ] = 0.424\n",
      " Average Recall     (AR) @[ IoU=0.50:0.95 | area= small | maxDets=100 ] = -1.000\n",
      " Average Recall     (AR) @[ IoU=0.50:0.95 | area=medium | maxDets=100 ] = -1.000\n",
      " Average Recall     (AR) @[ IoU=0.50:0.95 | area= large | maxDets=100 ] = 0.424\n"
     ]
    },
    {
     "name": "stderr",
     "output_type": "stream",
     "text": [
      "0it [00:00, ?it/s]"
     ]
    },
    {
     "name": "stdout",
     "output_type": "stream",
     "text": [
      "<torch.utils.data.dataloader.DataLoader object at 0x0000024C1147A620>\n"
     ]
    },
    {
     "name": "stderr",
     "output_type": "stream",
     "text": [
      "2it [00:00,  4.64it/s]"
     ]
    },
    {
     "name": "stdout",
     "output_type": "stream",
     "text": [
      "Epoch: [7]  [   0/2437]  eta: 0:09:51  lr: 0.005000  loss: 3.8593 (3.8593)  bbox_regression: 0.6515 (0.6515)  classification: 3.2078 (3.2078)  time: 0.2425  data: 0.0635  max mem: 1104\n"
     ]
    },
    {
     "name": "stderr",
     "output_type": "stream",
     "text": [
      "102it [00:14,  7.12it/s]"
     ]
    },
    {
     "name": "stdout",
     "output_type": "stream",
     "text": [
      "Epoch: [7]  [ 100/2437]  eta: 0:05:32  lr: 0.005000  loss: 3.0222 (3.0791)  bbox_regression: 0.5747 (0.6115)  classification: 2.2257 (2.4676)  time: 0.1370  data: 0.0402  max mem: 1104\n"
     ]
    },
    {
     "name": "stderr",
     "output_type": "stream",
     "text": [
      "202it [00:28,  7.22it/s]"
     ]
    },
    {
     "name": "stdout",
     "output_type": "stream",
     "text": [
      "Epoch: [7]  [ 200/2437]  eta: 0:05:14  lr: 0.005000  loss: 2.8329 (3.0388)  bbox_regression: 0.5146 (0.6122)  classification: 2.3487 (2.4266)  time: 0.1393  data: 0.0416  max mem: 1104\n"
     ]
    },
    {
     "name": "stderr",
     "output_type": "stream",
     "text": [
      "302it [00:42,  6.59it/s]"
     ]
    },
    {
     "name": "stdout",
     "output_type": "stream",
     "text": [
      "Epoch: [7]  [ 300/2437]  eta: 0:04:59  lr: 0.005000  loss: 2.7861 (3.0643)  bbox_regression: 0.5566 (0.5980)  classification: 2.2475 (2.4663)  time: 0.1444  data: 0.0467  max mem: 1104\n"
     ]
    },
    {
     "name": "stderr",
     "output_type": "stream",
     "text": [
      "402it [00:56,  7.21it/s]"
     ]
    },
    {
     "name": "stdout",
     "output_type": "stream",
     "text": [
      "Epoch: [7]  [ 400/2437]  eta: 0:04:44  lr: 0.005000  loss: 2.6950 (3.0903)  bbox_regression: 0.4599 (0.5963)  classification: 1.9144 (2.4940)  time: 0.1424  data: 0.0411  max mem: 1104\n"
     ]
    },
    {
     "name": "stderr",
     "output_type": "stream",
     "text": [
      "502it [01:10,  7.47it/s]"
     ]
    },
    {
     "name": "stdout",
     "output_type": "stream",
     "text": [
      "Epoch: [7]  [ 500/2437]  eta: 0:04:31  lr: 0.005000  loss: 2.9205 (3.0623)  bbox_regression: 0.5261 (0.5905)  classification: 2.3282 (2.4718)  time: 0.1383  data: 0.0408  max mem: 1104\n"
     ]
    },
    {
     "name": "stderr",
     "output_type": "stream",
     "text": [
      "602it [01:24,  7.21it/s]"
     ]
    },
    {
     "name": "stdout",
     "output_type": "stream",
     "text": [
      "Epoch: [7]  [ 600/2437]  eta: 0:04:17  lr: 0.005000  loss: 3.0466 (3.0665)  bbox_regression: 0.5671 (0.5936)  classification: 2.4105 (2.4729)  time: 0.1411  data: 0.0425  max mem: 1104\n"
     ]
    },
    {
     "name": "stderr",
     "output_type": "stream",
     "text": [
      "702it [01:38,  7.28it/s]"
     ]
    },
    {
     "name": "stdout",
     "output_type": "stream",
     "text": [
      "Epoch: [7]  [ 700/2437]  eta: 0:04:02  lr: 0.005000  loss: 2.4558 (3.0676)  bbox_regression: 0.5061 (0.5947)  classification: 1.8472 (2.4729)  time: 0.1392  data: 0.0412  max mem: 1104\n"
     ]
    },
    {
     "name": "stderr",
     "output_type": "stream",
     "text": [
      "802it [01:52,  7.06it/s]"
     ]
    },
    {
     "name": "stdout",
     "output_type": "stream",
     "text": [
      "Epoch: [7]  [ 800/2437]  eta: 0:03:48  lr: 0.005000  loss: 2.7896 (3.0736)  bbox_regression: 0.5471 (0.5997)  classification: 2.2126 (2.4740)  time: 0.1407  data: 0.0412  max mem: 1104\n"
     ]
    },
    {
     "name": "stderr",
     "output_type": "stream",
     "text": [
      "902it [02:06,  7.20it/s]"
     ]
    },
    {
     "name": "stdout",
     "output_type": "stream",
     "text": [
      "Epoch: [7]  [ 900/2437]  eta: 0:03:34  lr: 0.005000  loss: 3.1015 (3.0844)  bbox_regression: 0.6051 (0.6020)  classification: 2.5432 (2.4824)  time: 0.1383  data: 0.0408  max mem: 1104\n"
     ]
    },
    {
     "name": "stderr",
     "output_type": "stream",
     "text": [
      "1002it [02:20,  6.96it/s]"
     ]
    },
    {
     "name": "stdout",
     "output_type": "stream",
     "text": [
      "Epoch: [7]  [1000/2437]  eta: 0:03:21  lr: 0.005000  loss: 3.0092 (3.0650)  bbox_regression: 0.5808 (0.5941)  classification: 2.4533 (2.4709)  time: 0.1477  data: 0.0447  max mem: 1104\n"
     ]
    },
    {
     "name": "stderr",
     "output_type": "stream",
     "text": [
      "1102it [02:35,  6.36it/s]"
     ]
    },
    {
     "name": "stdout",
     "output_type": "stream",
     "text": [
      "Epoch: [7]  [1100/2437]  eta: 0:03:08  lr: 0.005000  loss: 2.8633 (3.0741)  bbox_regression: 0.5141 (0.5937)  classification: 2.2118 (2.4804)  time: 0.1479  data: 0.0450  max mem: 1104\n"
     ]
    },
    {
     "name": "stderr",
     "output_type": "stream",
     "text": [
      "1202it [02:50,  6.93it/s]"
     ]
    },
    {
     "name": "stdout",
     "output_type": "stream",
     "text": [
      "Epoch: [7]  [1200/2437]  eta: 0:02:54  lr: 0.005000  loss: 2.3259 (3.0956)  bbox_regression: 0.5561 (0.5994)  classification: 1.7698 (2.4962)  time: 0.1473  data: 0.0461  max mem: 1104\n"
     ]
    },
    {
     "name": "stderr",
     "output_type": "stream",
     "text": [
      "1302it [03:03,  7.18it/s]"
     ]
    },
    {
     "name": "stdout",
     "output_type": "stream",
     "text": [
      "Epoch: [7]  [1300/2437]  eta: 0:02:40  lr: 0.005000  loss: 2.9126 (3.1024)  bbox_regression: 0.5334 (0.6019)  classification: 2.4757 (2.5005)  time: 0.1395  data: 0.0410  max mem: 1104\n"
     ]
    },
    {
     "name": "stderr",
     "output_type": "stream",
     "text": [
      "1402it [03:19,  6.63it/s]"
     ]
    },
    {
     "name": "stdout",
     "output_type": "stream",
     "text": [
      "Epoch: [7]  [1400/2437]  eta: 0:02:27  lr: 0.005000  loss: 2.8358 (3.1165)  bbox_regression: 0.5139 (0.6035)  classification: 2.2890 (2.5130)  time: 0.1482  data: 0.0430  max mem: 1104\n"
     ]
    },
    {
     "name": "stderr",
     "output_type": "stream",
     "text": [
      "1502it [03:33,  7.20it/s]"
     ]
    },
    {
     "name": "stdout",
     "output_type": "stream",
     "text": [
      "Epoch: [7]  [1500/2437]  eta: 0:02:13  lr: 0.005000  loss: 2.6660 (3.1244)  bbox_regression: 0.4873 (0.6052)  classification: 2.1336 (2.5192)  time: 0.1396  data: 0.0412  max mem: 1104\n"
     ]
    },
    {
     "name": "stderr",
     "output_type": "stream",
     "text": [
      "1602it [03:47,  7.09it/s]"
     ]
    },
    {
     "name": "stdout",
     "output_type": "stream",
     "text": [
      "Epoch: [7]  [1600/2437]  eta: 0:01:58  lr: 0.005000  loss: 2.7104 (3.1252)  bbox_regression: 0.5912 (0.6080)  classification: 1.9528 (2.5172)  time: 0.1397  data: 0.0417  max mem: 1104\n"
     ]
    },
    {
     "name": "stderr",
     "output_type": "stream",
     "text": [
      "1702it [04:01,  7.22it/s]"
     ]
    },
    {
     "name": "stdout",
     "output_type": "stream",
     "text": [
      "Epoch: [7]  [1700/2437]  eta: 0:01:44  lr: 0.005000  loss: 3.1499 (3.1260)  bbox_regression: 0.5480 (0.6085)  classification: 2.5158 (2.5175)  time: 0.1401  data: 0.0425  max mem: 1104\n"
     ]
    },
    {
     "name": "stderr",
     "output_type": "stream",
     "text": [
      "1802it [04:15,  7.19it/s]"
     ]
    },
    {
     "name": "stdout",
     "output_type": "stream",
     "text": [
      "Epoch: [7]  [1800/2437]  eta: 0:01:30  lr: 0.005000  loss: 2.6431 (3.1162)  bbox_regression: 0.4903 (0.6066)  classification: 2.1056 (2.5096)  time: 0.1385  data: 0.0417  max mem: 1104\n"
     ]
    },
    {
     "name": "stderr",
     "output_type": "stream",
     "text": [
      "1902it [04:29,  7.28it/s]"
     ]
    },
    {
     "name": "stdout",
     "output_type": "stream",
     "text": [
      "Epoch: [7]  [1900/2437]  eta: 0:01:15  lr: 0.005000  loss: 3.6049 (3.1226)  bbox_regression: 0.6623 (0.6102)  classification: 2.8898 (2.5124)  time: 0.1377  data: 0.0411  max mem: 1104\n"
     ]
    },
    {
     "name": "stderr",
     "output_type": "stream",
     "text": [
      "2002it [04:43,  7.20it/s]"
     ]
    },
    {
     "name": "stdout",
     "output_type": "stream",
     "text": [
      "Epoch: [7]  [2000/2437]  eta: 0:01:01  lr: 0.005000  loss: 2.6637 (3.1180)  bbox_regression: 0.5272 (0.6084)  classification: 2.1894 (2.5096)  time: 0.1410  data: 0.0430  max mem: 1104\n"
     ]
    },
    {
     "name": "stderr",
     "output_type": "stream",
     "text": [
      "2102it [04:57,  6.85it/s]"
     ]
    },
    {
     "name": "stdout",
     "output_type": "stream",
     "text": [
      "Epoch: [7]  [2100/2437]  eta: 0:00:47  lr: 0.005000  loss: 3.4823 (3.1234)  bbox_regression: 0.6413 (0.6088)  classification: 2.6829 (2.5146)  time: 0.1413  data: 0.0421  max mem: 1104\n"
     ]
    },
    {
     "name": "stderr",
     "output_type": "stream",
     "text": [
      "2202it [05:11,  7.14it/s]"
     ]
    },
    {
     "name": "stdout",
     "output_type": "stream",
     "text": [
      "Epoch: [7]  [2200/2437]  eta: 0:00:33  lr: 0.005000  loss: 2.6422 (3.1233)  bbox_regression: 0.5681 (0.6087)  classification: 2.0289 (2.5146)  time: 0.1404  data: 0.0427  max mem: 1104\n"
     ]
    },
    {
     "name": "stderr",
     "output_type": "stream",
     "text": [
      "2302it [05:24,  7.39it/s]"
     ]
    },
    {
     "name": "stdout",
     "output_type": "stream",
     "text": [
      "Epoch: [7]  [2300/2437]  eta: 0:00:19  lr: 0.005000  loss: 2.4757 (3.1265)  bbox_regression: 0.5761 (0.6097)  classification: 1.9937 (2.5168)  time: 0.1388  data: 0.0420  max mem: 1104\n"
     ]
    },
    {
     "name": "stderr",
     "output_type": "stream",
     "text": [
      "2402it [05:39,  7.26it/s]"
     ]
    },
    {
     "name": "stdout",
     "output_type": "stream",
     "text": [
      "Epoch: [7]  [2400/2437]  eta: 0:00:05  lr: 0.005000  loss: 2.5899 (3.1245)  bbox_regression: 0.6335 (0.6091)  classification: 1.9756 (2.5154)  time: 0.1376  data: 0.0410  max mem: 1104\n"
     ]
    },
    {
     "name": "stderr",
     "output_type": "stream",
     "text": [
      "2437it [05:43,  7.09it/s]\n"
     ]
    },
    {
     "name": "stdout",
     "output_type": "stream",
     "text": [
      "Epoch: [7]  [2436/2437]  eta: 0:00:00  lr: 0.005000  loss: 2.6784 (3.1195)  bbox_regression: 0.4829 (0.6076)  classification: 2.0193 (2.5119)  time: 0.1368  data: 0.0406  max mem: 1104\n",
      "flag\n",
      "Epoch: [7] Total time: 0:05:43 (0.1411 s / it)\n",
      "saved dict\n",
      "creating index...\n",
      "index created!\n",
      "<torch.utils.data.dataloader.DataLoader object at 0x0000024C1147B310>\n",
      "Test:  [  0/100]  eta: 0:00:03  model_time: 0.0200 (0.0200)  evaluator_time: 0.0010 (0.0010)  time: 0.0340  data: 0.0120  max mem: 1104\n",
      "Test:  [ 99/100]  eta: 0:00:00  model_time: 0.0295 (0.0275)  evaluator_time: 0.0010 (0.0007)  time: 0.0439  data: 0.0121  max mem: 1104\n",
      "flag\n",
      "Test: Total time: 0:00:04 (0.0413 s / it)\n",
      "Averaged stats: model_time: 0.0295 (0.0275)  evaluator_time: 0.0010 (0.0007)\n",
      "Accumulating evaluation results...\n",
      "DONE (t=0.01s).\n",
      "IoU metric: bbox\n",
      " Average Precision  (AP) @[ IoU=0.50:0.95 | area=   all | maxDets=100 ] = 0.391\n",
      " Average Precision  (AP) @[ IoU=0.50      | area=   all | maxDets=100 ] = 0.604\n",
      " Average Precision  (AP) @[ IoU=0.75      | area=   all | maxDets=100 ] = 0.487\n",
      " Average Precision  (AP) @[ IoU=0.50:0.95 | area= small | maxDets=100 ] = -1.000\n",
      " Average Precision  (AP) @[ IoU=0.50:0.95 | area=medium | maxDets=100 ] = 0.000\n",
      " Average Precision  (AP) @[ IoU=0.50:0.95 | area= large | maxDets=100 ] = 0.393\n",
      " Average Recall     (AR) @[ IoU=0.50:0.95 | area=   all | maxDets=  1 ] = 0.515\n",
      " Average Recall     (AR) @[ IoU=0.50:0.95 | area=   all | maxDets= 10 ] = 0.519\n",
      " Average Recall     (AR) @[ IoU=0.50:0.95 | area=   all | maxDets=100 ] = 0.519\n",
      " Average Recall     (AR) @[ IoU=0.50:0.95 | area= small | maxDets=100 ] = -1.000\n",
      " Average Recall     (AR) @[ IoU=0.50:0.95 | area=medium | maxDets=100 ] = 0.000\n",
      " Average Recall     (AR) @[ IoU=0.50:0.95 | area= large | maxDets=100 ] = 0.521\n",
      "creating index...\n",
      "index created!\n",
      "<torch.utils.data.dataloader.DataLoader object at 0x0000024C1147A470>\n",
      "Test:  [  0/100]  eta: 0:00:04  model_time: 0.0359 (0.0359)  evaluator_time: 0.0010 (0.0010)  time: 0.0499  data: 0.0120  max mem: 1104\n",
      "Test:  [ 99/100]  eta: 0:00:00  model_time: 0.0329 (0.0347)  evaluator_time: 0.0010 (0.0008)  time: 0.0474  data: 0.0122  max mem: 1104\n",
      "flag\n",
      "Test: Total time: 0:00:04 (0.0491 s / it)\n",
      "Averaged stats: model_time: 0.0329 (0.0347)  evaluator_time: 0.0010 (0.0008)\n",
      "Accumulating evaluation results...\n",
      "DONE (t=0.03s).\n",
      "IoU metric: bbox\n",
      " Average Precision  (AP) @[ IoU=0.50:0.95 | area=   all | maxDets=100 ] = 0.345\n",
      " Average Precision  (AP) @[ IoU=0.50      | area=   all | maxDets=100 ] = 0.541\n",
      " Average Precision  (AP) @[ IoU=0.75      | area=   all | maxDets=100 ] = 0.415\n",
      " Average Precision  (AP) @[ IoU=0.50:0.95 | area= small | maxDets=100 ] = -1.000\n",
      " Average Precision  (AP) @[ IoU=0.50:0.95 | area=medium | maxDets=100 ] = -1.000\n",
      " Average Precision  (AP) @[ IoU=0.50:0.95 | area= large | maxDets=100 ] = 0.345\n",
      " Average Recall     (AR) @[ IoU=0.50:0.95 | area=   all | maxDets=  1 ] = 0.424\n",
      " Average Recall     (AR) @[ IoU=0.50:0.95 | area=   all | maxDets= 10 ] = 0.448\n",
      " Average Recall     (AR) @[ IoU=0.50:0.95 | area=   all | maxDets=100 ] = 0.448\n",
      " Average Recall     (AR) @[ IoU=0.50:0.95 | area= small | maxDets=100 ] = -1.000\n",
      " Average Recall     (AR) @[ IoU=0.50:0.95 | area=medium | maxDets=100 ] = -1.000\n",
      " Average Recall     (AR) @[ IoU=0.50:0.95 | area= large | maxDets=100 ] = 0.448\n"
     ]
    },
    {
     "name": "stderr",
     "output_type": "stream",
     "text": [
      "0it [00:00, ?it/s]"
     ]
    },
    {
     "name": "stdout",
     "output_type": "stream",
     "text": [
      "<torch.utils.data.dataloader.DataLoader object at 0x0000024C1147A620>\n"
     ]
    },
    {
     "name": "stderr",
     "output_type": "stream",
     "text": [
      "2it [00:00,  5.27it/s]"
     ]
    },
    {
     "name": "stdout",
     "output_type": "stream",
     "text": [
      "Epoch: [8]  [   0/2437]  eta: 0:10:12  lr: 0.005000  loss: 1.9930 (1.9930)  bbox_regression: 0.5643 (0.5643)  classification: 1.4287 (1.4287)  time: 0.2512  data: 0.0520  max mem: 1104\n"
     ]
    },
    {
     "name": "stderr",
     "output_type": "stream",
     "text": [
      "102it [00:14,  7.37it/s]"
     ]
    },
    {
     "name": "stdout",
     "output_type": "stream",
     "text": [
      "Epoch: [8]  [ 100/2437]  eta: 0:05:31  lr: 0.005000  loss: 2.4328 (2.8886)  bbox_regression: 0.4648 (0.5655)  classification: 1.9602 (2.3231)  time: 0.1368  data: 0.0407  max mem: 1104\n"
     ]
    },
    {
     "name": "stderr",
     "output_type": "stream",
     "text": [
      "202it [00:28,  7.17it/s]"
     ]
    },
    {
     "name": "stdout",
     "output_type": "stream",
     "text": [
      "Epoch: [8]  [ 200/2437]  eta: 0:05:13  lr: 0.005000  loss: 2.8577 (2.8888)  bbox_regression: 0.5372 (0.5560)  classification: 2.2804 (2.3328)  time: 0.1395  data: 0.0420  max mem: 1104\n"
     ]
    },
    {
     "name": "stderr",
     "output_type": "stream",
     "text": [
      "302it [00:42,  7.19it/s]"
     ]
    },
    {
     "name": "stdout",
     "output_type": "stream",
     "text": [
      "Epoch: [8]  [ 300/2437]  eta: 0:04:58  lr: 0.005000  loss: 2.8407 (2.8800)  bbox_regression: 0.5407 (0.5591)  classification: 2.2033 (2.3210)  time: 0.1372  data: 0.0400  max mem: 1104\n"
     ]
    },
    {
     "name": "stderr",
     "output_type": "stream",
     "text": [
      "402it [00:56,  7.18it/s]"
     ]
    },
    {
     "name": "stdout",
     "output_type": "stream",
     "text": [
      "Epoch: [8]  [ 400/2437]  eta: 0:04:44  lr: 0.005000  loss: 2.5047 (2.9039)  bbox_regression: 0.4736 (0.5603)  classification: 2.0622 (2.3436)  time: 0.1389  data: 0.0409  max mem: 1104\n"
     ]
    },
    {
     "name": "stderr",
     "output_type": "stream",
     "text": [
      "502it [01:10,  7.01it/s]"
     ]
    },
    {
     "name": "stdout",
     "output_type": "stream",
     "text": [
      "Epoch: [8]  [ 500/2437]  eta: 0:04:30  lr: 0.005000  loss: 3.2295 (2.9533)  bbox_regression: 0.6178 (0.5796)  classification: 2.8249 (2.3737)  time: 0.1467  data: 0.0480  max mem: 1104\n"
     ]
    },
    {
     "name": "stderr",
     "output_type": "stream",
     "text": [
      "602it [01:24,  6.98it/s]"
     ]
    },
    {
     "name": "stdout",
     "output_type": "stream",
     "text": [
      "Epoch: [8]  [ 600/2437]  eta: 0:04:16  lr: 0.005000  loss: 2.4863 (2.9840)  bbox_regression: 0.4513 (0.5864)  classification: 2.0350 (2.3976)  time: 0.1399  data: 0.0413  max mem: 1104\n"
     ]
    },
    {
     "name": "stderr",
     "output_type": "stream",
     "text": [
      "702it [01:38,  7.03it/s]"
     ]
    },
    {
     "name": "stdout",
     "output_type": "stream",
     "text": [
      "Epoch: [8]  [ 700/2437]  eta: 0:04:02  lr: 0.005000  loss: 3.4639 (3.0005)  bbox_regression: 0.6269 (0.5969)  classification: 2.3771 (2.4036)  time: 0.1398  data: 0.0411  max mem: 1104\n"
     ]
    },
    {
     "name": "stderr",
     "output_type": "stream",
     "text": [
      "802it [01:51,  7.37it/s]"
     ]
    },
    {
     "name": "stdout",
     "output_type": "stream",
     "text": [
      "Epoch: [8]  [ 800/2437]  eta: 0:03:48  lr: 0.005000  loss: 3.0613 (2.9963)  bbox_regression: 0.5473 (0.5998)  classification: 2.3969 (2.3965)  time: 0.1364  data: 0.0380  max mem: 1104\n"
     ]
    },
    {
     "name": "stderr",
     "output_type": "stream",
     "text": [
      "902it [02:05,  7.13it/s]"
     ]
    },
    {
     "name": "stdout",
     "output_type": "stream",
     "text": [
      "Epoch: [8]  [ 900/2437]  eta: 0:03:34  lr: 0.005000  loss: 2.8433 (2.9890)  bbox_regression: 0.5724 (0.5989)  classification: 2.2813 (2.3901)  time: 0.1406  data: 0.0414  max mem: 1104\n"
     ]
    },
    {
     "name": "stderr",
     "output_type": "stream",
     "text": [
      "1002it [02:19,  7.29it/s]"
     ]
    },
    {
     "name": "stdout",
     "output_type": "stream",
     "text": [
      "Epoch: [8]  [1000/2437]  eta: 0:03:20  lr: 0.005000  loss: 2.5703 (2.9993)  bbox_regression: 0.4621 (0.5991)  classification: 2.1171 (2.4001)  time: 0.1391  data: 0.0412  max mem: 1104\n"
     ]
    },
    {
     "name": "stderr",
     "output_type": "stream",
     "text": [
      "1102it [02:33,  7.13it/s]"
     ]
    },
    {
     "name": "stdout",
     "output_type": "stream",
     "text": [
      "Epoch: [8]  [1100/2437]  eta: 0:03:06  lr: 0.005000  loss: 2.8164 (3.0167)  bbox_regression: 0.6311 (0.5991)  classification: 2.0302 (2.4176)  time: 0.1390  data: 0.0417  max mem: 1104\n"
     ]
    },
    {
     "name": "stderr",
     "output_type": "stream",
     "text": [
      "1202it [02:47,  7.41it/s]"
     ]
    },
    {
     "name": "stdout",
     "output_type": "stream",
     "text": [
      "Epoch: [8]  [1200/2437]  eta: 0:02:52  lr: 0.005000  loss: 2.5237 (3.0087)  bbox_regression: 0.4477 (0.5990)  classification: 1.8857 (2.4097)  time: 0.1369  data: 0.0406  max mem: 1104\n"
     ]
    },
    {
     "name": "stderr",
     "output_type": "stream",
     "text": [
      "1302it [03:01,  7.29it/s]"
     ]
    },
    {
     "name": "stdout",
     "output_type": "stream",
     "text": [
      "Epoch: [8]  [1300/2437]  eta: 0:02:38  lr: 0.005000  loss: 2.4406 (3.0071)  bbox_regression: 0.5528 (0.6004)  classification: 1.8609 (2.4067)  time: 0.1405  data: 0.0412  max mem: 1104\n"
     ]
    },
    {
     "name": "stderr",
     "output_type": "stream",
     "text": [
      "1402it [03:14,  7.26it/s]"
     ]
    },
    {
     "name": "stdout",
     "output_type": "stream",
     "text": [
      "Epoch: [8]  [1400/2437]  eta: 0:02:24  lr: 0.005000  loss: 2.6159 (3.0077)  bbox_regression: 0.5868 (0.5992)  classification: 2.2380 (2.4085)  time: 0.1373  data: 0.0407  max mem: 1104\n"
     ]
    },
    {
     "name": "stderr",
     "output_type": "stream",
     "text": [
      "1502it [03:28,  6.98it/s]"
     ]
    },
    {
     "name": "stdout",
     "output_type": "stream",
     "text": [
      "Epoch: [8]  [1500/2437]  eta: 0:02:10  lr: 0.005000  loss: 3.2078 (3.0393)  bbox_regression: 0.6650 (0.6069)  classification: 2.6693 (2.4324)  time: 0.1385  data: 0.0411  max mem: 1104\n"
     ]
    },
    {
     "name": "stderr",
     "output_type": "stream",
     "text": [
      "1602it [03:42,  7.11it/s]"
     ]
    },
    {
     "name": "stdout",
     "output_type": "stream",
     "text": [
      "Epoch: [8]  [1600/2437]  eta: 0:01:56  lr: 0.005000  loss: 2.7735 (3.0457)  bbox_regression: 0.5330 (0.6085)  classification: 2.2172 (2.4372)  time: 0.1387  data: 0.0413  max mem: 1104\n"
     ]
    },
    {
     "name": "stderr",
     "output_type": "stream",
     "text": [
      "1702it [03:56,  7.27it/s]"
     ]
    },
    {
     "name": "stdout",
     "output_type": "stream",
     "text": [
      "Epoch: [8]  [1700/2437]  eta: 0:01:42  lr: 0.005000  loss: 2.8116 (3.0444)  bbox_regression: 0.6066 (0.6071)  classification: 2.2683 (2.4374)  time: 0.1387  data: 0.0414  max mem: 1104\n"
     ]
    },
    {
     "name": "stderr",
     "output_type": "stream",
     "text": [
      "1802it [04:10,  7.00it/s]"
     ]
    },
    {
     "name": "stdout",
     "output_type": "stream",
     "text": [
      "Epoch: [8]  [1800/2437]  eta: 0:01:28  lr: 0.005000  loss: 2.9003 (3.0416)  bbox_regression: 0.5513 (0.6072)  classification: 2.1194 (2.4345)  time: 0.1391  data: 0.0405  max mem: 1104\n"
     ]
    },
    {
     "name": "stderr",
     "output_type": "stream",
     "text": [
      "1902it [04:24,  7.27it/s]"
     ]
    },
    {
     "name": "stdout",
     "output_type": "stream",
     "text": [
      "Epoch: [8]  [1900/2437]  eta: 0:01:14  lr: 0.005000  loss: 2.7447 (3.0401)  bbox_regression: 0.5957 (0.6066)  classification: 2.0733 (2.4335)  time: 0.1377  data: 0.0394  max mem: 1104\n"
     ]
    },
    {
     "name": "stderr",
     "output_type": "stream",
     "text": [
      "2002it [04:38,  7.28it/s]"
     ]
    },
    {
     "name": "stdout",
     "output_type": "stream",
     "text": [
      "Epoch: [8]  [2000/2437]  eta: 0:01:00  lr: 0.005000  loss: 3.0175 (3.0464)  bbox_regression: 0.5659 (0.6085)  classification: 2.2279 (2.4379)  time: 0.1383  data: 0.0411  max mem: 1104\n"
     ]
    },
    {
     "name": "stderr",
     "output_type": "stream",
     "text": [
      "2102it [04:52,  7.34it/s]"
     ]
    },
    {
     "name": "stdout",
     "output_type": "stream",
     "text": [
      "Epoch: [8]  [2100/2437]  eta: 0:00:46  lr: 0.005000  loss: 2.6411 (3.0433)  bbox_regression: 0.5299 (0.6081)  classification: 2.0400 (2.4352)  time: 0.1388  data: 0.0413  max mem: 1104\n"
     ]
    },
    {
     "name": "stderr",
     "output_type": "stream",
     "text": [
      "2202it [05:06,  7.26it/s]"
     ]
    },
    {
     "name": "stdout",
     "output_type": "stream",
     "text": [
      "Epoch: [8]  [2200/2437]  eta: 0:00:32  lr: 0.005000  loss: 2.8558 (3.0380)  bbox_regression: 0.5413 (0.6065)  classification: 2.2201 (2.4316)  time: 0.1381  data: 0.0403  max mem: 1104\n"
     ]
    },
    {
     "name": "stderr",
     "output_type": "stream",
     "text": [
      "2302it [05:20,  7.11it/s]"
     ]
    },
    {
     "name": "stdout",
     "output_type": "stream",
     "text": [
      "Epoch: [8]  [2300/2437]  eta: 0:00:19  lr: 0.005000  loss: 2.7032 (3.0311)  bbox_regression: 0.6106 (0.6067)  classification: 2.1513 (2.4243)  time: 0.1381  data: 0.0414  max mem: 1104\n"
     ]
    },
    {
     "name": "stderr",
     "output_type": "stream",
     "text": [
      "2402it [05:34,  7.20it/s]"
     ]
    },
    {
     "name": "stdout",
     "output_type": "stream",
     "text": [
      "Epoch: [8]  [2400/2437]  eta: 0:00:05  lr: 0.005000  loss: 2.8556 (3.0378)  bbox_regression: 0.5593 (0.6067)  classification: 2.2513 (2.4311)  time: 0.1381  data: 0.0411  max mem: 1104\n"
     ]
    },
    {
     "name": "stderr",
     "output_type": "stream",
     "text": [
      "2437it [05:39,  7.19it/s]\n"
     ]
    },
    {
     "name": "stdout",
     "output_type": "stream",
     "text": [
      "Epoch: [8]  [2436/2437]  eta: 0:00:00  lr: 0.005000  loss: 2.5086 (3.0352)  bbox_regression: 0.5455 (0.6065)  classification: 1.9765 (2.4287)  time: 0.1347  data: 0.0398  max mem: 1104\n",
      "flag\n",
      "Epoch: [8] Total time: 0:05:39 (0.1392 s / it)\n",
      "saved dict\n",
      "creating index...\n",
      "index created!\n",
      "<torch.utils.data.dataloader.DataLoader object at 0x0000024C1147B310>\n",
      "Test:  [  0/100]  eta: 0:00:03  model_time: 0.0210 (0.0210)  evaluator_time: 0.0000 (0.0000)  time: 0.0335  data: 0.0125  max mem: 1104\n",
      "Test:  [ 99/100]  eta: 0:00:00  model_time: 0.0270 (0.0272)  evaluator_time: 0.0010 (0.0006)  time: 0.0427  data: 0.0135  max mem: 1104\n",
      "flag\n",
      "Test: Total time: 0:00:04 (0.0414 s / it)\n",
      "Averaged stats: model_time: 0.0270 (0.0272)  evaluator_time: 0.0010 (0.0006)\n",
      "Accumulating evaluation results...\n",
      "DONE (t=0.01s).\n",
      "IoU metric: bbox\n",
      " Average Precision  (AP) @[ IoU=0.50:0.95 | area=   all | maxDets=100 ] = 0.425\n",
      " Average Precision  (AP) @[ IoU=0.50      | area=   all | maxDets=100 ] = 0.716\n",
      " Average Precision  (AP) @[ IoU=0.75      | area=   all | maxDets=100 ] = 0.465\n",
      " Average Precision  (AP) @[ IoU=0.50:0.95 | area= small | maxDets=100 ] = -1.000\n",
      " Average Precision  (AP) @[ IoU=0.50:0.95 | area=medium | maxDets=100 ] = 0.000\n",
      " Average Precision  (AP) @[ IoU=0.50:0.95 | area= large | maxDets=100 ] = 0.427\n",
      " Average Recall     (AR) @[ IoU=0.50:0.95 | area=   all | maxDets=  1 ] = 0.531\n",
      " Average Recall     (AR) @[ IoU=0.50:0.95 | area=   all | maxDets= 10 ] = 0.535\n",
      " Average Recall     (AR) @[ IoU=0.50:0.95 | area=   all | maxDets=100 ] = 0.535\n",
      " Average Recall     (AR) @[ IoU=0.50:0.95 | area= small | maxDets=100 ] = -1.000\n",
      " Average Recall     (AR) @[ IoU=0.50:0.95 | area=medium | maxDets=100 ] = 0.000\n",
      " Average Recall     (AR) @[ IoU=0.50:0.95 | area= large | maxDets=100 ] = 0.537\n",
      "creating index...\n",
      "index created!\n",
      "<torch.utils.data.dataloader.DataLoader object at 0x0000024C1147A470>\n",
      "Test:  [  0/100]  eta: 0:00:03  model_time: 0.0230 (0.0230)  evaluator_time: 0.0000 (0.0000)  time: 0.0360  data: 0.0130  max mem: 1104\n",
      "Test:  [ 99/100]  eta: 0:00:00  model_time: 0.0300 (0.0267)  evaluator_time: 0.0010 (0.0007)  time: 0.0450  data: 0.0124  max mem: 1104\n",
      "flag\n",
      "Test: Total time: 0:00:04 (0.0410 s / it)\n",
      "Averaged stats: model_time: 0.0300 (0.0267)  evaluator_time: 0.0010 (0.0007)\n",
      "Accumulating evaluation results...\n",
      "DONE (t=0.03s).\n",
      "IoU metric: bbox\n",
      " Average Precision  (AP) @[ IoU=0.50:0.95 | area=   all | maxDets=100 ] = 0.326\n",
      " Average Precision  (AP) @[ IoU=0.50      | area=   all | maxDets=100 ] = 0.537\n",
      " Average Precision  (AP) @[ IoU=0.75      | area=   all | maxDets=100 ] = 0.372\n",
      " Average Precision  (AP) @[ IoU=0.50:0.95 | area= small | maxDets=100 ] = -1.000\n",
      " Average Precision  (AP) @[ IoU=0.50:0.95 | area=medium | maxDets=100 ] = -1.000\n",
      " Average Precision  (AP) @[ IoU=0.50:0.95 | area= large | maxDets=100 ] = 0.326\n",
      " Average Recall     (AR) @[ IoU=0.50:0.95 | area=   all | maxDets=  1 ] = 0.457\n",
      " Average Recall     (AR) @[ IoU=0.50:0.95 | area=   all | maxDets= 10 ] = 0.466\n",
      " Average Recall     (AR) @[ IoU=0.50:0.95 | area=   all | maxDets=100 ] = 0.466\n",
      " Average Recall     (AR) @[ IoU=0.50:0.95 | area= small | maxDets=100 ] = -1.000\n",
      " Average Recall     (AR) @[ IoU=0.50:0.95 | area=medium | maxDets=100 ] = -1.000\n",
      " Average Recall     (AR) @[ IoU=0.50:0.95 | area= large | maxDets=100 ] = 0.466\n"
     ]
    },
    {
     "name": "stderr",
     "output_type": "stream",
     "text": [
      "0it [00:00, ?it/s]"
     ]
    },
    {
     "name": "stdout",
     "output_type": "stream",
     "text": [
      "<torch.utils.data.dataloader.DataLoader object at 0x0000024C1147A620>\n"
     ]
    },
    {
     "name": "stderr",
     "output_type": "stream",
     "text": [
      "2it [00:00,  5.64it/s]"
     ]
    },
    {
     "name": "stdout",
     "output_type": "stream",
     "text": [
      "Epoch: [9]  [   0/2437]  eta: 0:08:23  lr: 0.005000  loss: 5.0701 (5.0701)  bbox_regression: 1.3652 (1.3652)  classification: 3.7048 (3.7048)  time: 0.2066  data: 0.0400  max mem: 1104\n"
     ]
    },
    {
     "name": "stderr",
     "output_type": "stream",
     "text": [
      "102it [00:14,  7.15it/s]"
     ]
    },
    {
     "name": "stdout",
     "output_type": "stream",
     "text": [
      "Epoch: [9]  [ 100/2437]  eta: 0:05:26  lr: 0.005000  loss: 2.0040 (2.5279)  bbox_regression: 0.4336 (0.5053)  classification: 1.4250 (2.0227)  time: 0.1380  data: 0.0399  max mem: 1104\n"
     ]
    },
    {
     "name": "stderr",
     "output_type": "stream",
     "text": [
      "202it [00:28,  7.23it/s]"
     ]
    },
    {
     "name": "stdout",
     "output_type": "stream",
     "text": [
      "Epoch: [9]  [ 200/2437]  eta: 0:05:12  lr: 0.005000  loss: 2.4556 (2.6332)  bbox_regression: 0.5066 (0.5186)  classification: 1.8459 (2.1146)  time: 0.1377  data: 0.0403  max mem: 1104\n"
     ]
    },
    {
     "name": "stderr",
     "output_type": "stream",
     "text": [
      "302it [00:42,  7.31it/s]"
     ]
    },
    {
     "name": "stdout",
     "output_type": "stream",
     "text": [
      "Epoch: [9]  [ 300/2437]  eta: 0:04:57  lr: 0.005000  loss: 2.9332 (2.6870)  bbox_regression: 0.5163 (0.5333)  classification: 2.3596 (2.1537)  time: 0.1383  data: 0.0419  max mem: 1104\n"
     ]
    },
    {
     "name": "stderr",
     "output_type": "stream",
     "text": [
      "402it [00:56,  7.25it/s]"
     ]
    },
    {
     "name": "stdout",
     "output_type": "stream",
     "text": [
      "Epoch: [9]  [ 400/2437]  eta: 0:04:44  lr: 0.005000  loss: 3.5241 (2.6952)  bbox_regression: 0.5744 (0.5402)  classification: 2.7729 (2.1550)  time: 0.1359  data: 0.0403  max mem: 1104\n"
     ]
    },
    {
     "name": "stderr",
     "output_type": "stream",
     "text": [
      "502it [01:10,  7.23it/s]"
     ]
    },
    {
     "name": "stdout",
     "output_type": "stream",
     "text": [
      "Epoch: [9]  [ 500/2437]  eta: 0:04:31  lr: 0.005000  loss: 2.7306 (2.7156)  bbox_regression: 0.4478 (0.5408)  classification: 2.2642 (2.1748)  time: 0.1388  data: 0.0417  max mem: 1104\n"
     ]
    },
    {
     "name": "stderr",
     "output_type": "stream",
     "text": [
      "602it [01:24,  6.98it/s]"
     ]
    },
    {
     "name": "stdout",
     "output_type": "stream",
     "text": [
      "Epoch: [9]  [ 600/2437]  eta: 0:04:16  lr: 0.005000  loss: 2.6198 (2.7754)  bbox_regression: 0.5739 (0.5486)  classification: 2.0544 (2.2269)  time: 0.1383  data: 0.0416  max mem: 1104\n"
     ]
    },
    {
     "name": "stderr",
     "output_type": "stream",
     "text": [
      "702it [01:37,  7.09it/s]"
     ]
    },
    {
     "name": "stdout",
     "output_type": "stream",
     "text": [
      "Epoch: [9]  [ 700/2437]  eta: 0:04:02  lr: 0.005000  loss: 2.9882 (2.7873)  bbox_regression: 0.6419 (0.5544)  classification: 2.5091 (2.2330)  time: 0.1374  data: 0.0403  max mem: 1104\n"
     ]
    },
    {
     "name": "stderr",
     "output_type": "stream",
     "text": [
      "802it [01:51,  7.22it/s]"
     ]
    },
    {
     "name": "stdout",
     "output_type": "stream",
     "text": [
      "Epoch: [9]  [ 800/2437]  eta: 0:03:48  lr: 0.005000  loss: 3.1575 (2.8062)  bbox_regression: 0.5049 (0.5548)  classification: 2.4511 (2.2515)  time: 0.1374  data: 0.0409  max mem: 1104\n"
     ]
    },
    {
     "name": "stderr",
     "output_type": "stream",
     "text": [
      "902it [02:05,  7.45it/s]"
     ]
    },
    {
     "name": "stdout",
     "output_type": "stream",
     "text": [
      "Epoch: [9]  [ 900/2437]  eta: 0:03:34  lr: 0.005000  loss: 2.4185 (2.8278)  bbox_regression: 0.4985 (0.5619)  classification: 2.0986 (2.2659)  time: 0.1390  data: 0.0420  max mem: 1104\n"
     ]
    },
    {
     "name": "stderr",
     "output_type": "stream",
     "text": [
      "1002it [02:19,  7.26it/s]"
     ]
    },
    {
     "name": "stdout",
     "output_type": "stream",
     "text": [
      "Epoch: [9]  [1000/2437]  eta: 0:03:20  lr: 0.005000  loss: 2.7148 (2.8357)  bbox_regression: 0.5693 (0.5644)  classification: 2.1027 (2.2713)  time: 0.1398  data: 0.0425  max mem: 1104\n"
     ]
    },
    {
     "name": "stderr",
     "output_type": "stream",
     "text": [
      "1102it [02:33,  7.21it/s]"
     ]
    },
    {
     "name": "stdout",
     "output_type": "stream",
     "text": [
      "Epoch: [9]  [1100/2437]  eta: 0:03:06  lr: 0.005000  loss: 2.2924 (2.8472)  bbox_regression: 0.4679 (0.5668)  classification: 1.9430 (2.2804)  time: 0.1393  data: 0.0417  max mem: 1104\n"
     ]
    },
    {
     "name": "stderr",
     "output_type": "stream",
     "text": [
      "1202it [02:47,  7.21it/s]"
     ]
    },
    {
     "name": "stdout",
     "output_type": "stream",
     "text": [
      "Epoch: [9]  [1200/2437]  eta: 0:02:52  lr: 0.005000  loss: 2.9890 (2.8548)  bbox_regression: 0.5709 (0.5661)  classification: 2.2541 (2.2887)  time: 0.1386  data: 0.0414  max mem: 1104\n"
     ]
    },
    {
     "name": "stderr",
     "output_type": "stream",
     "text": [
      "1302it [03:01,  7.03it/s]"
     ]
    },
    {
     "name": "stdout",
     "output_type": "stream",
     "text": [
      "Epoch: [9]  [1300/2437]  eta: 0:02:38  lr: 0.005000  loss: 2.6451 (2.8594)  bbox_regression: 0.5772 (0.5655)  classification: 2.2861 (2.2940)  time: 0.1376  data: 0.0404  max mem: 1104\n"
     ]
    },
    {
     "name": "stderr",
     "output_type": "stream",
     "text": [
      "1402it [03:14,  7.45it/s]"
     ]
    },
    {
     "name": "stdout",
     "output_type": "stream",
     "text": [
      "Epoch: [9]  [1400/2437]  eta: 0:02:24  lr: 0.005000  loss: 2.6788 (2.8662)  bbox_regression: 0.4656 (0.5644)  classification: 2.3220 (2.3018)  time: 0.1364  data: 0.0410  max mem: 1104\n"
     ]
    },
    {
     "name": "stderr",
     "output_type": "stream",
     "text": [
      "1502it [03:28,  7.20it/s]"
     ]
    },
    {
     "name": "stdout",
     "output_type": "stream",
     "text": [
      "Epoch: [9]  [1500/2437]  eta: 0:02:10  lr: 0.005000  loss: 2.7224 (2.8773)  bbox_regression: 0.6003 (0.5697)  classification: 2.0601 (2.3076)  time: 0.1394  data: 0.0419  max mem: 1104\n"
     ]
    },
    {
     "name": "stderr",
     "output_type": "stream",
     "text": [
      "1602it [03:42,  6.95it/s]"
     ]
    },
    {
     "name": "stdout",
     "output_type": "stream",
     "text": [
      "Epoch: [9]  [1600/2437]  eta: 0:01:56  lr: 0.005000  loss: 2.5024 (2.8746)  bbox_regression: 0.4834 (0.5687)  classification: 1.9816 (2.3059)  time: 0.1379  data: 0.0411  max mem: 1104\n"
     ]
    },
    {
     "name": "stderr",
     "output_type": "stream",
     "text": [
      "1702it [03:56,  7.32it/s]"
     ]
    },
    {
     "name": "stdout",
     "output_type": "stream",
     "text": [
      "Epoch: [9]  [1700/2437]  eta: 0:01:42  lr: 0.005000  loss: 2.6715 (2.8843)  bbox_regression: 0.4990 (0.5706)  classification: 2.0406 (2.3137)  time: 0.1377  data: 0.0409  max mem: 1104\n"
     ]
    },
    {
     "name": "stderr",
     "output_type": "stream",
     "text": [
      "1802it [04:09,  7.17it/s]"
     ]
    },
    {
     "name": "stdout",
     "output_type": "stream",
     "text": [
      "Epoch: [9]  [1800/2437]  eta: 0:01:28  lr: 0.005000  loss: 2.8758 (2.8865)  bbox_regression: 0.5147 (0.5721)  classification: 2.0981 (2.3144)  time: 0.1379  data: 0.0396  max mem: 1104\n"
     ]
    },
    {
     "name": "stderr",
     "output_type": "stream",
     "text": [
      "1902it [04:23,  7.33it/s]"
     ]
    },
    {
     "name": "stdout",
     "output_type": "stream",
     "text": [
      "Epoch: [9]  [1900/2437]  eta: 0:01:14  lr: 0.005000  loss: 2.6886 (2.8936)  bbox_regression: 0.5795 (0.5726)  classification: 2.1950 (2.3209)  time: 0.1374  data: 0.0405  max mem: 1104\n"
     ]
    },
    {
     "name": "stderr",
     "output_type": "stream",
     "text": [
      "2002it [04:37,  7.22it/s]"
     ]
    },
    {
     "name": "stdout",
     "output_type": "stream",
     "text": [
      "Epoch: [9]  [2000/2437]  eta: 0:01:00  lr: 0.005000  loss: 2.7398 (2.9003)  bbox_regression: 0.5727 (0.5753)  classification: 2.1618 (2.3250)  time: 0.1380  data: 0.0416  max mem: 1104\n"
     ]
    },
    {
     "name": "stderr",
     "output_type": "stream",
     "text": [
      "2102it [04:51,  7.38it/s]"
     ]
    },
    {
     "name": "stdout",
     "output_type": "stream",
     "text": [
      "Epoch: [9]  [2100/2437]  eta: 0:00:46  lr: 0.005000  loss: 3.1291 (2.8994)  bbox_regression: 0.5726 (0.5762)  classification: 2.4815 (2.3232)  time: 0.1366  data: 0.0397  max mem: 1104\n"
     ]
    },
    {
     "name": "stderr",
     "output_type": "stream",
     "text": [
      "2202it [05:05,  7.28it/s]"
     ]
    },
    {
     "name": "stdout",
     "output_type": "stream",
     "text": [
      "Epoch: [9]  [2200/2437]  eta: 0:00:32  lr: 0.005000  loss: 3.0141 (2.9202)  bbox_regression: 0.6110 (0.5807)  classification: 2.3109 (2.3396)  time: 0.1373  data: 0.0406  max mem: 1104\n"
     ]
    },
    {
     "name": "stderr",
     "output_type": "stream",
     "text": [
      "2302it [05:18,  7.27it/s]"
     ]
    },
    {
     "name": "stdout",
     "output_type": "stream",
     "text": [
      "Epoch: [9]  [2300/2437]  eta: 0:00:18  lr: 0.005000  loss: 3.3345 (2.9314)  bbox_regression: 0.5479 (0.5830)  classification: 2.7875 (2.3484)  time: 0.1373  data: 0.0410  max mem: 1104\n"
     ]
    },
    {
     "name": "stderr",
     "output_type": "stream",
     "text": [
      "2402it [05:32,  5.63it/s]"
     ]
    },
    {
     "name": "stdout",
     "output_type": "stream",
     "text": [
      "Epoch: [9]  [2400/2437]  eta: 0:00:05  lr: 0.005000  loss: 3.5258 (2.9411)  bbox_regression: 0.6495 (0.5855)  classification: 2.9006 (2.3557)  time: 0.1474  data: 0.0496  max mem: 1104\n"
     ]
    },
    {
     "name": "stderr",
     "output_type": "stream",
     "text": [
      "2437it [05:37,  7.22it/s]\n"
     ]
    },
    {
     "name": "stdout",
     "output_type": "stream",
     "text": [
      "Epoch: [9]  [2436/2437]  eta: 0:00:00  lr: 0.005000  loss: 3.0953 (2.9427)  bbox_regression: 0.4641 (0.5852)  classification: 2.5748 (2.3575)  time: 0.1374  data: 0.0404  max mem: 1104\n",
      "flag\n",
      "Epoch: [9] Total time: 0:05:37 (0.1386 s / it)\n",
      "saved dict\n",
      "creating index...\n",
      "index created!\n",
      "<torch.utils.data.dataloader.DataLoader object at 0x0000024C1147B310>\n",
      "Test:  [  0/100]  eta: 0:00:03  model_time: 0.0210 (0.0210)  evaluator_time: 0.0010 (0.0010)  time: 0.0350  data: 0.0120  max mem: 1104\n",
      "Test:  [ 99/100]  eta: 0:00:00  model_time: 0.0296 (0.0288)  evaluator_time: 0.0010 (0.0006)  time: 0.0476  data: 0.0125  max mem: 1104\n",
      "flag\n",
      "Test: Total time: 0:00:04 (0.0428 s / it)\n",
      "Averaged stats: model_time: 0.0296 (0.0288)  evaluator_time: 0.0010 (0.0006)\n",
      "Accumulating evaluation results...\n",
      "DONE (t=0.01s).\n",
      "IoU metric: bbox\n",
      " Average Precision  (AP) @[ IoU=0.50:0.95 | area=   all | maxDets=100 ] = 0.385\n",
      " Average Precision  (AP) @[ IoU=0.50      | area=   all | maxDets=100 ] = 0.586\n",
      " Average Precision  (AP) @[ IoU=0.75      | area=   all | maxDets=100 ] = 0.434\n",
      " Average Precision  (AP) @[ IoU=0.50:0.95 | area= small | maxDets=100 ] = -1.000\n",
      " Average Precision  (AP) @[ IoU=0.50:0.95 | area=medium | maxDets=100 ] = 0.000\n",
      " Average Precision  (AP) @[ IoU=0.50:0.95 | area= large | maxDets=100 ] = 0.386\n",
      " Average Recall     (AR) @[ IoU=0.50:0.95 | area=   all | maxDets=  1 ] = 0.475\n",
      " Average Recall     (AR) @[ IoU=0.50:0.95 | area=   all | maxDets= 10 ] = 0.478\n",
      " Average Recall     (AR) @[ IoU=0.50:0.95 | area=   all | maxDets=100 ] = 0.478\n",
      " Average Recall     (AR) @[ IoU=0.50:0.95 | area= small | maxDets=100 ] = -1.000\n",
      " Average Recall     (AR) @[ IoU=0.50:0.95 | area=medium | maxDets=100 ] = 0.000\n",
      " Average Recall     (AR) @[ IoU=0.50:0.95 | area= large | maxDets=100 ] = 0.480\n",
      "creating index...\n",
      "index created!\n",
      "<torch.utils.data.dataloader.DataLoader object at 0x0000024C1147A470>\n",
      "Test:  [  0/100]  eta: 0:00:05  model_time: 0.0389 (0.0389)  evaluator_time: 0.0010 (0.0010)  time: 0.0529  data: 0.0130  max mem: 1104\n",
      "Test:  [ 99/100]  eta: 0:00:00  model_time: 0.0320 (0.0336)  evaluator_time: 0.0010 (0.0007)  time: 0.0477  data: 0.0122  max mem: 1104\n",
      "flag\n",
      "Test: Total time: 0:00:04 (0.0477 s / it)\n",
      "Averaged stats: model_time: 0.0320 (0.0336)  evaluator_time: 0.0010 (0.0007)\n",
      "Accumulating evaluation results...\n",
      "DONE (t=0.02s).\n",
      "IoU metric: bbox\n",
      " Average Precision  (AP) @[ IoU=0.50:0.95 | area=   all | maxDets=100 ] = 0.280\n",
      " Average Precision  (AP) @[ IoU=0.50      | area=   all | maxDets=100 ] = 0.529\n",
      " Average Precision  (AP) @[ IoU=0.75      | area=   all | maxDets=100 ] = 0.267\n",
      " Average Precision  (AP) @[ IoU=0.50:0.95 | area= small | maxDets=100 ] = -1.000\n",
      " Average Precision  (AP) @[ IoU=0.50:0.95 | area=medium | maxDets=100 ] = -1.000\n",
      " Average Precision  (AP) @[ IoU=0.50:0.95 | area= large | maxDets=100 ] = 0.280\n",
      " Average Recall     (AR) @[ IoU=0.50:0.95 | area=   all | maxDets=  1 ] = 0.356\n",
      " Average Recall     (AR) @[ IoU=0.50:0.95 | area=   all | maxDets= 10 ] = 0.365\n",
      " Average Recall     (AR) @[ IoU=0.50:0.95 | area=   all | maxDets=100 ] = 0.365\n",
      " Average Recall     (AR) @[ IoU=0.50:0.95 | area= small | maxDets=100 ] = -1.000\n",
      " Average Recall     (AR) @[ IoU=0.50:0.95 | area=medium | maxDets=100 ] = -1.000\n",
      " Average Recall     (AR) @[ IoU=0.50:0.95 | area= large | maxDets=100 ] = 0.365\n"
     ]
    },
    {
     "name": "stderr",
     "output_type": "stream",
     "text": [
      "0it [00:00, ?it/s]"
     ]
    },
    {
     "name": "stdout",
     "output_type": "stream",
     "text": [
      "<torch.utils.data.dataloader.DataLoader object at 0x0000024C1147A620>\n"
     ]
    },
    {
     "name": "stderr",
     "output_type": "stream",
     "text": [
      "2it [00:00,  5.68it/s]"
     ]
    },
    {
     "name": "stdout",
     "output_type": "stream",
     "text": [
      "Epoch: [10]  [   0/2437]  eta: 0:09:40  lr: 0.000500  loss: 3.3379 (3.3379)  bbox_regression: 0.8255 (0.8255)  classification: 2.5124 (2.5124)  time: 0.2380  data: 0.0490  max mem: 1104\n"
     ]
    },
    {
     "name": "stderr",
     "output_type": "stream",
     "text": [
      "102it [00:14,  7.29it/s]"
     ]
    },
    {
     "name": "stdout",
     "output_type": "stream",
     "text": [
      "Epoch: [10]  [ 100/2437]  eta: 0:05:25  lr: 0.000500  loss: 2.6060 (2.5557)  bbox_regression: 0.5167 (0.5067)  classification: 2.0873 (2.0489)  time: 0.1381  data: 0.0409  max mem: 1104\n"
     ]
    },
    {
     "name": "stderr",
     "output_type": "stream",
     "text": [
      "202it [00:28,  7.16it/s]"
     ]
    },
    {
     "name": "stdout",
     "output_type": "stream",
     "text": [
      "Epoch: [10]  [ 200/2437]  eta: 0:05:10  lr: 0.000500  loss: 2.0568 (2.3982)  bbox_regression: 0.3486 (0.4670)  classification: 1.6361 (1.9312)  time: 0.1366  data: 0.0396  max mem: 1104\n"
     ]
    },
    {
     "name": "stderr",
     "output_type": "stream",
     "text": [
      "302it [00:41,  7.37it/s]"
     ]
    },
    {
     "name": "stdout",
     "output_type": "stream",
     "text": [
      "Epoch: [10]  [ 300/2437]  eta: 0:04:56  lr: 0.000500  loss: 2.1423 (2.3274)  bbox_regression: 0.4116 (0.4512)  classification: 1.7377 (1.8762)  time: 0.1374  data: 0.0395  max mem: 1104\n"
     ]
    },
    {
     "name": "stderr",
     "output_type": "stream",
     "text": [
      "402it [00:55,  7.36it/s]"
     ]
    },
    {
     "name": "stdout",
     "output_type": "stream",
     "text": [
      "Epoch: [10]  [ 400/2437]  eta: 0:04:41  lr: 0.000500  loss: 1.8084 (2.2888)  bbox_regression: 0.3475 (0.4364)  classification: 1.5557 (1.8524)  time: 0.1388  data: 0.0410  max mem: 1104\n"
     ]
    },
    {
     "name": "stderr",
     "output_type": "stream",
     "text": [
      "502it [01:09,  7.27it/s]"
     ]
    },
    {
     "name": "stdout",
     "output_type": "stream",
     "text": [
      "Epoch: [10]  [ 500/2437]  eta: 0:04:28  lr: 0.000500  loss: 2.0145 (2.2615)  bbox_regression: 0.3374 (0.4277)  classification: 1.6875 (1.8338)  time: 0.1368  data: 0.0394  max mem: 1104\n"
     ]
    },
    {
     "name": "stderr",
     "output_type": "stream",
     "text": [
      "602it [01:23,  7.19it/s]"
     ]
    },
    {
     "name": "stdout",
     "output_type": "stream",
     "text": [
      "Epoch: [10]  [ 600/2437]  eta: 0:04:15  lr: 0.000500  loss: 1.8297 (2.2390)  bbox_regression: 0.4158 (0.4248)  classification: 1.4287 (1.8142)  time: 0.1405  data: 0.0429  max mem: 1104\n"
     ]
    },
    {
     "name": "stderr",
     "output_type": "stream",
     "text": [
      "701it [01:37,  7.39it/s]"
     ]
    },
    {
     "name": "stdout",
     "output_type": "stream",
     "text": [
      "Epoch: [10]  [ 700/2437]  eta: 0:04:01  lr: 0.000500  loss: 1.9419 (2.2279)  bbox_regression: 0.3427 (0.4197)  classification: 1.6907 (1.8082)  time: 0.1371  data: 0.0403  max mem: 1104\n"
     ]
    },
    {
     "name": "stderr",
     "output_type": "stream",
     "text": [
      "802it [01:51,  7.29it/s]"
     ]
    },
    {
     "name": "stdout",
     "output_type": "stream",
     "text": [
      "Epoch: [10]  [ 800/2437]  eta: 0:03:47  lr: 0.000500  loss: 1.8967 (2.2147)  bbox_regression: 0.3434 (0.4142)  classification: 1.4844 (1.8005)  time: 0.1377  data: 0.0410  max mem: 1104\n"
     ]
    },
    {
     "name": "stderr",
     "output_type": "stream",
     "text": [
      "902it [02:05,  7.20it/s]"
     ]
    },
    {
     "name": "stdout",
     "output_type": "stream",
     "text": [
      "Epoch: [10]  [ 900/2437]  eta: 0:03:33  lr: 0.000500  loss: 1.6385 (2.1985)  bbox_regression: 0.3104 (0.4103)  classification: 1.2864 (1.7882)  time: 0.1381  data: 0.0404  max mem: 1104\n"
     ]
    },
    {
     "name": "stderr",
     "output_type": "stream",
     "text": [
      "1002it [02:19,  7.29it/s]"
     ]
    },
    {
     "name": "stdout",
     "output_type": "stream",
     "text": [
      "Epoch: [10]  [1000/2437]  eta: 0:03:19  lr: 0.000500  loss: 1.7100 (2.1759)  bbox_regression: 0.3033 (0.4066)  classification: 1.4485 (1.7693)  time: 0.1391  data: 0.0411  max mem: 1104\n"
     ]
    },
    {
     "name": "stderr",
     "output_type": "stream",
     "text": [
      "1102it [02:33,  7.16it/s]"
     ]
    },
    {
     "name": "stdout",
     "output_type": "stream",
     "text": [
      "Epoch: [10]  [1100/2437]  eta: 0:03:05  lr: 0.000500  loss: 1.7467 (2.1470)  bbox_regression: 0.2910 (0.4016)  classification: 1.4122 (1.7454)  time: 0.1384  data: 0.0410  max mem: 1104\n"
     ]
    },
    {
     "name": "stderr",
     "output_type": "stream",
     "text": [
      "1202it [02:46,  7.31it/s]"
     ]
    },
    {
     "name": "stdout",
     "output_type": "stream",
     "text": [
      "Epoch: [10]  [1200/2437]  eta: 0:02:51  lr: 0.000500  loss: 2.1025 (2.1374)  bbox_regression: 0.3863 (0.3982)  classification: 1.6675 (1.7392)  time: 0.1386  data: 0.0417  max mem: 1104\n"
     ]
    },
    {
     "name": "stderr",
     "output_type": "stream",
     "text": [
      "1302it [03:00,  7.12it/s]"
     ]
    },
    {
     "name": "stdout",
     "output_type": "stream",
     "text": [
      "Epoch: [10]  [1300/2437]  eta: 0:02:37  lr: 0.000500  loss: 1.7170 (2.1206)  bbox_regression: 0.3487 (0.3958)  classification: 1.2816 (1.7247)  time: 0.1377  data: 0.0405  max mem: 1104\n"
     ]
    },
    {
     "name": "stderr",
     "output_type": "stream",
     "text": [
      "1402it [03:14,  7.04it/s]"
     ]
    },
    {
     "name": "stdout",
     "output_type": "stream",
     "text": [
      "Epoch: [10]  [1400/2437]  eta: 0:02:23  lr: 0.000500  loss: 1.7033 (2.1155)  bbox_regression: 0.2722 (0.3967)  classification: 1.3903 (1.7189)  time: 0.1404  data: 0.0426  max mem: 1104\n"
     ]
    },
    {
     "name": "stderr",
     "output_type": "stream",
     "text": [
      "1502it [03:28,  7.40it/s]"
     ]
    },
    {
     "name": "stdout",
     "output_type": "stream",
     "text": [
      "Epoch: [10]  [1500/2437]  eta: 0:02:09  lr: 0.000500  loss: 1.8359 (2.1114)  bbox_regression: 0.3167 (0.3940)  classification: 1.4311 (1.7174)  time: 0.1370  data: 0.0411  max mem: 1104\n"
     ]
    },
    {
     "name": "stderr",
     "output_type": "stream",
     "text": [
      "1602it [03:42,  7.01it/s]"
     ]
    },
    {
     "name": "stdout",
     "output_type": "stream",
     "text": [
      "Epoch: [10]  [1600/2437]  eta: 0:01:56  lr: 0.000500  loss: 1.8448 (2.1025)  bbox_regression: 0.3018 (0.3917)  classification: 1.4435 (1.7108)  time: 0.1378  data: 0.0408  max mem: 1104\n"
     ]
    },
    {
     "name": "stderr",
     "output_type": "stream",
     "text": [
      "1702it [03:56,  7.35it/s]"
     ]
    },
    {
     "name": "stdout",
     "output_type": "stream",
     "text": [
      "Epoch: [10]  [1700/2437]  eta: 0:01:42  lr: 0.000500  loss: 1.7383 (2.0895)  bbox_regression: 0.3717 (0.3891)  classification: 1.3417 (1.7004)  time: 0.1369  data: 0.0402  max mem: 1104\n"
     ]
    },
    {
     "name": "stderr",
     "output_type": "stream",
     "text": [
      "1802it [04:09,  7.18it/s]"
     ]
    },
    {
     "name": "stdout",
     "output_type": "stream",
     "text": [
      "Epoch: [10]  [1800/2437]  eta: 0:01:28  lr: 0.000500  loss: 1.7687 (2.0814)  bbox_regression: 0.3042 (0.3877)  classification: 1.4397 (1.6937)  time: 0.1386  data: 0.0408  max mem: 1104\n"
     ]
    },
    {
     "name": "stderr",
     "output_type": "stream",
     "text": [
      "1902it [04:24,  6.21it/s]"
     ]
    },
    {
     "name": "stdout",
     "output_type": "stream",
     "text": [
      "Epoch: [10]  [1900/2437]  eta: 0:01:14  lr: 0.000500  loss: 1.6041 (2.0649)  bbox_regression: 0.3419 (0.3845)  classification: 1.2884 (1.6805)  time: 0.1500  data: 0.0430  max mem: 1104\n"
     ]
    },
    {
     "name": "stderr",
     "output_type": "stream",
     "text": [
      "2002it [04:40,  5.90it/s]"
     ]
    },
    {
     "name": "stdout",
     "output_type": "stream",
     "text": [
      "Epoch: [10]  [2000/2437]  eta: 0:01:01  lr: 0.000500  loss: 1.8339 (2.0609)  bbox_regression: 0.2894 (0.3831)  classification: 1.5280 (1.6778)  time: 0.1642  data: 0.0465  max mem: 1104\n"
     ]
    },
    {
     "name": "stderr",
     "output_type": "stream",
     "text": [
      "2102it [04:55,  6.53it/s]"
     ]
    },
    {
     "name": "stdout",
     "output_type": "stream",
     "text": [
      "Epoch: [10]  [2100/2437]  eta: 0:00:47  lr: 0.000500  loss: 1.9332 (2.0499)  bbox_regression: 0.3064 (0.3800)  classification: 1.5648 (1.6699)  time: 0.1572  data: 0.0524  max mem: 1104\n"
     ]
    },
    {
     "name": "stderr",
     "output_type": "stream",
     "text": [
      "2202it [05:10,  7.44it/s]"
     ]
    },
    {
     "name": "stdout",
     "output_type": "stream",
     "text": [
      "Epoch: [10]  [2200/2437]  eta: 0:00:33  lr: 0.000500  loss: 1.8550 (2.0421)  bbox_regression: 0.3175 (0.3788)  classification: 1.5375 (1.6633)  time: 0.1397  data: 0.0410  max mem: 1104\n"
     ]
    },
    {
     "name": "stderr",
     "output_type": "stream",
     "text": [
      "2302it [05:24,  7.18it/s]"
     ]
    },
    {
     "name": "stdout",
     "output_type": "stream",
     "text": [
      "Epoch: [10]  [2300/2437]  eta: 0:00:19  lr: 0.000500  loss: 1.7276 (2.0334)  bbox_regression: 0.2849 (0.3777)  classification: 1.4159 (1.6557)  time: 0.1406  data: 0.0426  max mem: 1104\n"
     ]
    },
    {
     "name": "stderr",
     "output_type": "stream",
     "text": [
      "2402it [05:38,  7.16it/s]"
     ]
    },
    {
     "name": "stdout",
     "output_type": "stream",
     "text": [
      "Epoch: [10]  [2400/2437]  eta: 0:00:05  lr: 0.000500  loss: 2.0680 (2.0256)  bbox_regression: 0.2692 (0.3758)  classification: 1.7217 (1.6498)  time: 0.1374  data: 0.0400  max mem: 1104\n"
     ]
    },
    {
     "name": "stderr",
     "output_type": "stream",
     "text": [
      "2437it [05:43,  7.10it/s]\n"
     ]
    },
    {
     "name": "stdout",
     "output_type": "stream",
     "text": [
      "Epoch: [10]  [2436/2437]  eta: 0:00:00  lr: 0.000500  loss: 1.7064 (2.0232)  bbox_regression: 0.2894 (0.3751)  classification: 1.2726 (1.6481)  time: 0.1425  data: 0.0398  max mem: 1104\n",
      "flag\n",
      "Epoch: [10] Total time: 0:05:43 (0.1408 s / it)\n",
      "saved dict\n",
      "creating index...\n",
      "index created!\n",
      "<torch.utils.data.dataloader.DataLoader object at 0x0000024C1147B310>\n",
      "Test:  [  0/100]  eta: 0:00:03  model_time: 0.0230 (0.0230)  evaluator_time: 0.0000 (0.0000)  time: 0.0380  data: 0.0140  max mem: 1104\n",
      "Test:  [ 99/100]  eta: 0:00:00  model_time: 0.0260 (0.0286)  evaluator_time: 0.0010 (0.0006)  time: 0.0412  data: 0.0126  max mem: 1104\n",
      "flag\n",
      "Test: Total time: 0:00:04 (0.0430 s / it)\n",
      "Averaged stats: model_time: 0.0260 (0.0286)  evaluator_time: 0.0010 (0.0006)\n",
      "Accumulating evaluation results...\n",
      "DONE (t=0.01s).\n",
      "IoU metric: bbox\n",
      " Average Precision  (AP) @[ IoU=0.50:0.95 | area=   all | maxDets=100 ] = 0.598\n",
      " Average Precision  (AP) @[ IoU=0.50      | area=   all | maxDets=100 ] = 0.806\n",
      " Average Precision  (AP) @[ IoU=0.75      | area=   all | maxDets=100 ] = 0.724\n",
      " Average Precision  (AP) @[ IoU=0.50:0.95 | area= small | maxDets=100 ] = -1.000\n",
      " Average Precision  (AP) @[ IoU=0.50:0.95 | area=medium | maxDets=100 ] = 0.000\n",
      " Average Precision  (AP) @[ IoU=0.50:0.95 | area= large | maxDets=100 ] = 0.600\n",
      " Average Recall     (AR) @[ IoU=0.50:0.95 | area=   all | maxDets=  1 ] = 0.681\n",
      " Average Recall     (AR) @[ IoU=0.50:0.95 | area=   all | maxDets= 10 ] = 0.685\n",
      " Average Recall     (AR) @[ IoU=0.50:0.95 | area=   all | maxDets=100 ] = 0.685\n",
      " Average Recall     (AR) @[ IoU=0.50:0.95 | area= small | maxDets=100 ] = -1.000\n",
      " Average Recall     (AR) @[ IoU=0.50:0.95 | area=medium | maxDets=100 ] = 0.000\n",
      " Average Recall     (AR) @[ IoU=0.50:0.95 | area= large | maxDets=100 ] = 0.688\n",
      "creating index...\n",
      "index created!\n",
      "<torch.utils.data.dataloader.DataLoader object at 0x0000024C1147A470>\n",
      "Test:  [  0/100]  eta: 0:00:06  model_time: 0.0535 (0.0535)  evaluator_time: 0.0010 (0.0010)  time: 0.0688  data: 0.0130  max mem: 1104\n",
      "Test:  [ 99/100]  eta: 0:00:00  model_time: 0.0310 (0.0333)  evaluator_time: 0.0010 (0.0006)  time: 0.0456  data: 0.0121  max mem: 1104\n",
      "flag\n",
      "Test: Total time: 0:00:04 (0.0478 s / it)\n",
      "Averaged stats: model_time: 0.0310 (0.0333)  evaluator_time: 0.0010 (0.0006)\n",
      "Accumulating evaluation results...\n",
      "DONE (t=0.02s).\n",
      "IoU metric: bbox\n",
      " Average Precision  (AP) @[ IoU=0.50:0.95 | area=   all | maxDets=100 ] = 0.370\n",
      " Average Precision  (AP) @[ IoU=0.50      | area=   all | maxDets=100 ] = 0.566\n",
      " Average Precision  (AP) @[ IoU=0.75      | area=   all | maxDets=100 ] = 0.440\n",
      " Average Precision  (AP) @[ IoU=0.50:0.95 | area= small | maxDets=100 ] = -1.000\n",
      " Average Precision  (AP) @[ IoU=0.50:0.95 | area=medium | maxDets=100 ] = -1.000\n",
      " Average Precision  (AP) @[ IoU=0.50:0.95 | area= large | maxDets=100 ] = 0.370\n",
      " Average Recall     (AR) @[ IoU=0.50:0.95 | area=   all | maxDets=  1 ] = 0.528\n",
      " Average Recall     (AR) @[ IoU=0.50:0.95 | area=   all | maxDets= 10 ] = 0.534\n",
      " Average Recall     (AR) @[ IoU=0.50:0.95 | area=   all | maxDets=100 ] = 0.534\n",
      " Average Recall     (AR) @[ IoU=0.50:0.95 | area= small | maxDets=100 ] = -1.000\n",
      " Average Recall     (AR) @[ IoU=0.50:0.95 | area=medium | maxDets=100 ] = -1.000\n",
      " Average Recall     (AR) @[ IoU=0.50:0.95 | area= large | maxDets=100 ] = 0.534\n"
     ]
    },
    {
     "name": "stderr",
     "output_type": "stream",
     "text": [
      "0it [00:00, ?it/s]"
     ]
    },
    {
     "name": "stdout",
     "output_type": "stream",
     "text": [
      "<torch.utils.data.dataloader.DataLoader object at 0x0000024C1147A620>\n"
     ]
    },
    {
     "name": "stderr",
     "output_type": "stream",
     "text": [
      "2it [00:00,  4.84it/s]"
     ]
    },
    {
     "name": "stdout",
     "output_type": "stream",
     "text": [
      "Epoch: [11]  [   0/2437]  eta: 0:09:51  lr: 0.000500  loss: 2.5147 (2.5147)  bbox_regression: 0.7455 (0.7455)  classification: 1.7693 (1.7693)  time: 0.2425  data: 0.0554  max mem: 1104\n"
     ]
    },
    {
     "name": "stderr",
     "output_type": "stream",
     "text": [
      "102it [00:15,  7.17it/s]"
     ]
    },
    {
     "name": "stdout",
     "output_type": "stream",
     "text": [
      "Epoch: [11]  [ 100/2437]  eta: 0:05:47  lr: 0.000500  loss: 1.5018 (1.7184)  bbox_regression: 0.2266 (0.3094)  classification: 1.1503 (1.4089)  time: 0.1401  data: 0.0420  max mem: 1104\n"
     ]
    },
    {
     "name": "stderr",
     "output_type": "stream",
     "text": [
      "202it [00:29,  7.29it/s]"
     ]
    },
    {
     "name": "stdout",
     "output_type": "stream",
     "text": [
      "Epoch: [11]  [ 200/2437]  eta: 0:05:22  lr: 0.000500  loss: 1.3402 (1.7009)  bbox_regression: 0.2903 (0.3201)  classification: 1.0416 (1.3809)  time: 0.1394  data: 0.0427  max mem: 1104\n"
     ]
    },
    {
     "name": "stderr",
     "output_type": "stream",
     "text": [
      "302it [00:42,  7.30it/s]"
     ]
    },
    {
     "name": "stdout",
     "output_type": "stream",
     "text": [
      "Epoch: [11]  [ 300/2437]  eta: 0:05:04  lr: 0.000500  loss: 1.7981 (1.7540)  bbox_regression: 0.3172 (0.3247)  classification: 1.3678 (1.4293)  time: 0.1393  data: 0.0411  max mem: 1104\n"
     ]
    },
    {
     "name": "stderr",
     "output_type": "stream",
     "text": [
      "402it [00:56,  7.28it/s]"
     ]
    },
    {
     "name": "stdout",
     "output_type": "stream",
     "text": [
      "Epoch: [11]  [ 400/2437]  eta: 0:04:48  lr: 0.000500  loss: 1.2982 (1.7402)  bbox_regression: 0.2154 (0.3203)  classification: 1.0811 (1.4199)  time: 0.1376  data: 0.0407  max mem: 1104\n"
     ]
    },
    {
     "name": "stderr",
     "output_type": "stream",
     "text": [
      "502it [01:10,  7.23it/s]"
     ]
    },
    {
     "name": "stdout",
     "output_type": "stream",
     "text": [
      "Epoch: [11]  [ 500/2437]  eta: 0:04:33  lr: 0.000500  loss: 1.2968 (1.7436)  bbox_regression: 0.2565 (0.3233)  classification: 1.0282 (1.4204)  time: 0.1477  data: 0.0491  max mem: 1104\n"
     ]
    },
    {
     "name": "stderr",
     "output_type": "stream",
     "text": [
      "602it [01:24,  7.14it/s]"
     ]
    },
    {
     "name": "stdout",
     "output_type": "stream",
     "text": [
      "Epoch: [11]  [ 600/2437]  eta: 0:04:18  lr: 0.000500  loss: 1.9710 (1.7365)  bbox_regression: 0.3480 (0.3235)  classification: 1.4510 (1.4130)  time: 0.1391  data: 0.0407  max mem: 1104\n"
     ]
    },
    {
     "name": "stderr",
     "output_type": "stream",
     "text": [
      "702it [01:38,  7.23it/s]"
     ]
    },
    {
     "name": "stdout",
     "output_type": "stream",
     "text": [
      "Epoch: [11]  [ 700/2437]  eta: 0:04:04  lr: 0.000500  loss: 1.5988 (1.7216)  bbox_regression: 0.2702 (0.3211)  classification: 1.3286 (1.4005)  time: 0.1371  data: 0.0409  max mem: 1104\n"
     ]
    },
    {
     "name": "stderr",
     "output_type": "stream",
     "text": [
      "802it [01:52,  7.18it/s]"
     ]
    },
    {
     "name": "stdout",
     "output_type": "stream",
     "text": [
      "Epoch: [11]  [ 800/2437]  eta: 0:03:50  lr: 0.000500  loss: 1.6055 (1.7274)  bbox_regression: 0.2701 (0.3185)  classification: 1.2652 (1.4089)  time: 0.1378  data: 0.0420  max mem: 1104\n"
     ]
    },
    {
     "name": "stderr",
     "output_type": "stream",
     "text": [
      "902it [02:06,  6.99it/s]"
     ]
    },
    {
     "name": "stdout",
     "output_type": "stream",
     "text": [
      "Epoch: [11]  [ 900/2437]  eta: 0:03:35  lr: 0.000500  loss: 1.5781 (1.7278)  bbox_regression: 0.3286 (0.3183)  classification: 1.1987 (1.4095)  time: 0.1382  data: 0.0412  max mem: 1104\n"
     ]
    },
    {
     "name": "stderr",
     "output_type": "stream",
     "text": [
      "1002it [02:20,  7.27it/s]"
     ]
    },
    {
     "name": "stdout",
     "output_type": "stream",
     "text": [
      "Epoch: [11]  [1000/2437]  eta: 0:03:21  lr: 0.000500  loss: 1.6305 (1.7204)  bbox_regression: 0.3030 (0.3174)  classification: 1.4121 (1.4030)  time: 0.1394  data: 0.0423  max mem: 1104\n"
     ]
    },
    {
     "name": "stderr",
     "output_type": "stream",
     "text": [
      "1102it [02:34,  7.09it/s]"
     ]
    },
    {
     "name": "stdout",
     "output_type": "stream",
     "text": [
      "Epoch: [11]  [1100/2437]  eta: 0:03:08  lr: 0.000500  loss: 1.4770 (1.7173)  bbox_regression: 0.2527 (0.3169)  classification: 1.2056 (1.4003)  time: 0.1429  data: 0.0432  max mem: 1104\n"
     ]
    },
    {
     "name": "stderr",
     "output_type": "stream",
     "text": [
      "1202it [02:48,  7.10it/s]"
     ]
    },
    {
     "name": "stdout",
     "output_type": "stream",
     "text": [
      "Epoch: [11]  [1200/2437]  eta: 0:02:53  lr: 0.000500  loss: 1.6692 (1.7227)  bbox_regression: 0.3070 (0.3172)  classification: 1.3834 (1.4056)  time: 0.1401  data: 0.0421  max mem: 1104\n"
     ]
    },
    {
     "name": "stderr",
     "output_type": "stream",
     "text": [
      "1302it [03:02,  7.09it/s]"
     ]
    },
    {
     "name": "stdout",
     "output_type": "stream",
     "text": [
      "Epoch: [11]  [1300/2437]  eta: 0:02:39  lr: 0.000500  loss: 1.5022 (1.7211)  bbox_regression: 0.3028 (0.3172)  classification: 1.1714 (1.4039)  time: 0.1401  data: 0.0437  max mem: 1104\n"
     ]
    },
    {
     "name": "stderr",
     "output_type": "stream",
     "text": [
      "1402it [03:16,  7.32it/s]"
     ]
    },
    {
     "name": "stdout",
     "output_type": "stream",
     "text": [
      "Epoch: [11]  [1400/2437]  eta: 0:02:25  lr: 0.000500  loss: 1.3091 (1.7202)  bbox_regression: 0.2467 (0.3187)  classification: 1.1019 (1.4015)  time: 0.1376  data: 0.0412  max mem: 1104\n"
     ]
    },
    {
     "name": "stderr",
     "output_type": "stream",
     "text": [
      "1502it [03:30,  7.14it/s]"
     ]
    },
    {
     "name": "stdout",
     "output_type": "stream",
     "text": [
      "Epoch: [11]  [1500/2437]  eta: 0:02:11  lr: 0.000500  loss: 1.5142 (1.7176)  bbox_regression: 0.2711 (0.3196)  classification: 1.2514 (1.3980)  time: 0.1396  data: 0.0428  max mem: 1104\n"
     ]
    },
    {
     "name": "stderr",
     "output_type": "stream",
     "text": [
      "1602it [03:44,  7.41it/s]"
     ]
    },
    {
     "name": "stdout",
     "output_type": "stream",
     "text": [
      "Epoch: [11]  [1600/2437]  eta: 0:01:57  lr: 0.000500  loss: 1.5206 (1.7125)  bbox_regression: 0.2691 (0.3198)  classification: 1.2449 (1.3927)  time: 0.1369  data: 0.0399  max mem: 1104\n"
     ]
    },
    {
     "name": "stderr",
     "output_type": "stream",
     "text": [
      "1702it [03:58,  7.02it/s]"
     ]
    },
    {
     "name": "stdout",
     "output_type": "stream",
     "text": [
      "Epoch: [11]  [1700/2437]  eta: 0:01:43  lr: 0.000500  loss: 1.7686 (1.7155)  bbox_regression: 0.3128 (0.3202)  classification: 1.5090 (1.3953)  time: 0.1385  data: 0.0419  max mem: 1104\n"
     ]
    },
    {
     "name": "stderr",
     "output_type": "stream",
     "text": [
      "1802it [04:12,  6.83it/s]"
     ]
    },
    {
     "name": "stdout",
     "output_type": "stream",
     "text": [
      "Epoch: [11]  [1800/2437]  eta: 0:01:29  lr: 0.000500  loss: 1.4943 (1.7149)  bbox_regression: 0.2550 (0.3192)  classification: 1.3123 (1.3957)  time: 0.1408  data: 0.0411  max mem: 1104\n"
     ]
    },
    {
     "name": "stderr",
     "output_type": "stream",
     "text": [
      "1902it [04:26,  7.05it/s]"
     ]
    },
    {
     "name": "stdout",
     "output_type": "stream",
     "text": [
      "Epoch: [11]  [1900/2437]  eta: 0:01:15  lr: 0.000500  loss: 1.7255 (1.7138)  bbox_regression: 0.2956 (0.3195)  classification: 1.3179 (1.3942)  time: 0.1432  data: 0.0434  max mem: 1104\n"
     ]
    },
    {
     "name": "stderr",
     "output_type": "stream",
     "text": [
      "2002it [04:41,  6.16it/s]"
     ]
    },
    {
     "name": "stdout",
     "output_type": "stream",
     "text": [
      "Epoch: [11]  [2000/2437]  eta: 0:01:01  lr: 0.000500  loss: 1.5834 (1.7113)  bbox_regression: 0.2396 (0.3175)  classification: 1.3905 (1.3938)  time: 0.1543  data: 0.0546  max mem: 1104\n"
     ]
    },
    {
     "name": "stderr",
     "output_type": "stream",
     "text": [
      "2102it [04:55,  7.29it/s]"
     ]
    },
    {
     "name": "stdout",
     "output_type": "stream",
     "text": [
      "Epoch: [11]  [2100/2437]  eta: 0:00:47  lr: 0.000500  loss: 1.6109 (1.7116)  bbox_regression: 0.2575 (0.3174)  classification: 1.2598 (1.3942)  time: 0.1402  data: 0.0424  max mem: 1104\n"
     ]
    },
    {
     "name": "stderr",
     "output_type": "stream",
     "text": [
      "2202it [05:09,  7.04it/s]"
     ]
    },
    {
     "name": "stdout",
     "output_type": "stream",
     "text": [
      "Epoch: [11]  [2200/2437]  eta: 0:00:33  lr: 0.000500  loss: 1.4178 (1.7032)  bbox_regression: 0.3026 (0.3162)  classification: 1.1026 (1.3869)  time: 0.1391  data: 0.0418  max mem: 1104\n"
     ]
    },
    {
     "name": "stderr",
     "output_type": "stream",
     "text": [
      "2302it [05:23,  7.02it/s]"
     ]
    },
    {
     "name": "stdout",
     "output_type": "stream",
     "text": [
      "Epoch: [11]  [2300/2437]  eta: 0:00:19  lr: 0.000500  loss: 1.3544 (1.6990)  bbox_regression: 0.2676 (0.3153)  classification: 1.0856 (1.3837)  time: 0.1407  data: 0.0432  max mem: 1104\n"
     ]
    },
    {
     "name": "stderr",
     "output_type": "stream",
     "text": [
      "2402it [05:37,  7.02it/s]"
     ]
    },
    {
     "name": "stdout",
     "output_type": "stream",
     "text": [
      "Epoch: [11]  [2400/2437]  eta: 0:00:05  lr: 0.000500  loss: 1.6497 (1.7009)  bbox_regression: 0.2781 (0.3148)  classification: 1.3635 (1.3861)  time: 0.1402  data: 0.0427  max mem: 1104\n"
     ]
    },
    {
     "name": "stderr",
     "output_type": "stream",
     "text": [
      "2437it [05:42,  7.12it/s]\n"
     ]
    },
    {
     "name": "stdout",
     "output_type": "stream",
     "text": [
      "Epoch: [11]  [2436/2437]  eta: 0:00:00  lr: 0.000500  loss: 1.5445 (1.7031)  bbox_regression: 0.2876 (0.3151)  classification: 1.2134 (1.3880)  time: 0.1346  data: 0.0388  max mem: 1104\n",
      "flag\n",
      "Epoch: [11] Total time: 0:05:42 (0.1405 s / it)\n",
      "saved dict\n",
      "creating index...\n",
      "index created!\n",
      "<torch.utils.data.dataloader.DataLoader object at 0x0000024C1147B310>\n",
      "Test:  [  0/100]  eta: 0:00:04  model_time: 0.0270 (0.0270)  evaluator_time: 0.0000 (0.0000)  time: 0.0410  data: 0.0130  max mem: 1104\n",
      "Test:  [ 99/100]  eta: 0:00:00  model_time: 0.0296 (0.0279)  evaluator_time: 0.0010 (0.0006)  time: 0.0443  data: 0.0122  max mem: 1104\n",
      "flag\n",
      "Test: Total time: 0:00:04 (0.0418 s / it)\n",
      "Averaged stats: model_time: 0.0296 (0.0279)  evaluator_time: 0.0010 (0.0006)\n",
      "Accumulating evaluation results...\n",
      "DONE (t=0.01s).\n",
      "IoU metric: bbox\n",
      " Average Precision  (AP) @[ IoU=0.50:0.95 | area=   all | maxDets=100 ] = 0.633\n",
      " Average Precision  (AP) @[ IoU=0.50      | area=   all | maxDets=100 ] = 0.836\n",
      " Average Precision  (AP) @[ IoU=0.75      | area=   all | maxDets=100 ] = 0.744\n",
      " Average Precision  (AP) @[ IoU=0.50:0.95 | area= small | maxDets=100 ] = -1.000\n",
      " Average Precision  (AP) @[ IoU=0.50:0.95 | area=medium | maxDets=100 ] = 0.000\n",
      " Average Precision  (AP) @[ IoU=0.50:0.95 | area= large | maxDets=100 ] = 0.636\n",
      " Average Recall     (AR) @[ IoU=0.50:0.95 | area=   all | maxDets=  1 ] = 0.706\n",
      " Average Recall     (AR) @[ IoU=0.50:0.95 | area=   all | maxDets= 10 ] = 0.710\n",
      " Average Recall     (AR) @[ IoU=0.50:0.95 | area=   all | maxDets=100 ] = 0.710\n",
      " Average Recall     (AR) @[ IoU=0.50:0.95 | area= small | maxDets=100 ] = -1.000\n",
      " Average Recall     (AR) @[ IoU=0.50:0.95 | area=medium | maxDets=100 ] = 0.000\n",
      " Average Recall     (AR) @[ IoU=0.50:0.95 | area= large | maxDets=100 ] = 0.713\n",
      "creating index...\n",
      "index created!\n",
      "<torch.utils.data.dataloader.DataLoader object at 0x0000024C1147A470>\n",
      "Test:  [  0/100]  eta: 0:00:05  model_time: 0.0415 (0.0415)  evaluator_time: 0.0000 (0.0000)  time: 0.0540  data: 0.0125  max mem: 1104\n",
      "Test:  [ 99/100]  eta: 0:00:00  model_time: 0.0320 (0.0339)  evaluator_time: 0.0010 (0.0007)  time: 0.0474  data: 0.0127  max mem: 1104\n",
      "flag\n",
      "Test: Total time: 0:00:04 (0.0484 s / it)\n",
      "Averaged stats: model_time: 0.0320 (0.0339)  evaluator_time: 0.0010 (0.0007)\n",
      "Accumulating evaluation results...\n",
      "DONE (t=0.02s).\n",
      "IoU metric: bbox\n",
      " Average Precision  (AP) @[ IoU=0.50:0.95 | area=   all | maxDets=100 ] = 0.397\n",
      " Average Precision  (AP) @[ IoU=0.50      | area=   all | maxDets=100 ] = 0.613\n",
      " Average Precision  (AP) @[ IoU=0.75      | area=   all | maxDets=100 ] = 0.464\n",
      " Average Precision  (AP) @[ IoU=0.50:0.95 | area= small | maxDets=100 ] = -1.000\n",
      " Average Precision  (AP) @[ IoU=0.50:0.95 | area=medium | maxDets=100 ] = -1.000\n",
      " Average Precision  (AP) @[ IoU=0.50:0.95 | area= large | maxDets=100 ] = 0.397\n",
      " Average Recall     (AR) @[ IoU=0.50:0.95 | area=   all | maxDets=  1 ] = 0.577\n",
      " Average Recall     (AR) @[ IoU=0.50:0.95 | area=   all | maxDets= 10 ] = 0.594\n",
      " Average Recall     (AR) @[ IoU=0.50:0.95 | area=   all | maxDets=100 ] = 0.594\n",
      " Average Recall     (AR) @[ IoU=0.50:0.95 | area= small | maxDets=100 ] = -1.000\n",
      " Average Recall     (AR) @[ IoU=0.50:0.95 | area=medium | maxDets=100 ] = -1.000\n",
      " Average Recall     (AR) @[ IoU=0.50:0.95 | area= large | maxDets=100 ] = 0.594\n"
     ]
    },
    {
     "name": "stderr",
     "output_type": "stream",
     "text": [
      "0it [00:00, ?it/s]"
     ]
    },
    {
     "name": "stdout",
     "output_type": "stream",
     "text": [
      "<torch.utils.data.dataloader.DataLoader object at 0x0000024C1147A620>\n"
     ]
    },
    {
     "name": "stderr",
     "output_type": "stream",
     "text": [
      "2it [00:00,  4.63it/s]"
     ]
    },
    {
     "name": "stdout",
     "output_type": "stream",
     "text": [
      "Epoch: [12]  [   0/2437]  eta: 0:10:00  lr: 0.000500  loss: 0.9179 (0.9179)  bbox_regression: 0.1807 (0.1807)  classification: 0.7372 (0.7372)  time: 0.2463  data: 0.0500  max mem: 1104\n"
     ]
    },
    {
     "name": "stderr",
     "output_type": "stream",
     "text": [
      "102it [00:14,  7.38it/s]"
     ]
    },
    {
     "name": "stdout",
     "output_type": "stream",
     "text": [
      "Epoch: [12]  [ 100/2437]  eta: 0:05:27  lr: 0.000500  loss: 1.3425 (1.5225)  bbox_regression: 0.2181 (0.2768)  classification: 1.1505 (1.2457)  time: 0.1377  data: 0.0413  max mem: 1104\n"
     ]
    },
    {
     "name": "stderr",
     "output_type": "stream",
     "text": [
      "202it [00:28,  7.05it/s]"
     ]
    },
    {
     "name": "stdout",
     "output_type": "stream",
     "text": [
      "Epoch: [12]  [ 200/2437]  eta: 0:05:11  lr: 0.000500  loss: 1.4378 (1.5646)  bbox_regression: 0.2672 (0.2901)  classification: 1.1357 (1.2745)  time: 0.1387  data: 0.0406  max mem: 1104\n"
     ]
    },
    {
     "name": "stderr",
     "output_type": "stream",
     "text": [
      "302it [00:41,  7.36it/s]"
     ]
    },
    {
     "name": "stdout",
     "output_type": "stream",
     "text": [
      "Epoch: [12]  [ 300/2437]  eta: 0:04:56  lr: 0.000500  loss: 1.3526 (1.5258)  bbox_regression: 0.2435 (0.2852)  classification: 1.0263 (1.2406)  time: 0.1363  data: 0.0394  max mem: 1104\n"
     ]
    },
    {
     "name": "stderr",
     "output_type": "stream",
     "text": [
      "402it [00:55,  7.19it/s]"
     ]
    },
    {
     "name": "stdout",
     "output_type": "stream",
     "text": [
      "Epoch: [12]  [ 400/2437]  eta: 0:04:43  lr: 0.000500  loss: 1.6123 (1.5456)  bbox_regression: 0.2282 (0.2835)  classification: 1.2912 (1.2620)  time: 0.1396  data: 0.0422  max mem: 1104\n"
     ]
    },
    {
     "name": "stderr",
     "output_type": "stream",
     "text": [
      "502it [01:09,  7.30it/s]"
     ]
    },
    {
     "name": "stdout",
     "output_type": "stream",
     "text": [
      "Epoch: [12]  [ 500/2437]  eta: 0:04:29  lr: 0.000500  loss: 1.4612 (1.5382)  bbox_regression: 0.2765 (0.2863)  classification: 1.1650 (1.2519)  time: 0.1418  data: 0.0431  max mem: 1104\n"
     ]
    },
    {
     "name": "stderr",
     "output_type": "stream",
     "text": [
      "602it [01:23,  7.29it/s]"
     ]
    },
    {
     "name": "stdout",
     "output_type": "stream",
     "text": [
      "Epoch: [12]  [ 600/2437]  eta: 0:04:15  lr: 0.000500  loss: 1.4999 (1.5281)  bbox_regression: 0.2748 (0.2871)  classification: 1.1457 (1.2410)  time: 0.1405  data: 0.0421  max mem: 1104\n"
     ]
    },
    {
     "name": "stderr",
     "output_type": "stream",
     "text": [
      "702it [01:37,  7.13it/s]"
     ]
    },
    {
     "name": "stdout",
     "output_type": "stream",
     "text": [
      "Epoch: [12]  [ 700/2437]  eta: 0:04:02  lr: 0.000500  loss: 1.3840 (1.5233)  bbox_regression: 0.2617 (0.2893)  classification: 1.1248 (1.2339)  time: 0.1426  data: 0.0438  max mem: 1104\n"
     ]
    },
    {
     "name": "stderr",
     "output_type": "stream",
     "text": [
      "802it [01:51,  7.07it/s]"
     ]
    },
    {
     "name": "stdout",
     "output_type": "stream",
     "text": [
      "Epoch: [12]  [ 800/2437]  eta: 0:03:48  lr: 0.000500  loss: 1.2764 (1.5362)  bbox_regression: 0.3016 (0.2904)  classification: 1.0235 (1.2458)  time: 0.1401  data: 0.0436  max mem: 1104\n"
     ]
    },
    {
     "name": "stderr",
     "output_type": "stream",
     "text": [
      "902it [02:05,  7.33it/s]"
     ]
    },
    {
     "name": "stdout",
     "output_type": "stream",
     "text": [
      "Epoch: [12]  [ 900/2437]  eta: 0:03:33  lr: 0.000500  loss: 1.6081 (1.5351)  bbox_regression: 0.3035 (0.2905)  classification: 1.2200 (1.2446)  time: 0.1382  data: 0.0413  max mem: 1104\n"
     ]
    },
    {
     "name": "stderr",
     "output_type": "stream",
     "text": [
      "1002it [02:19,  7.22it/s]"
     ]
    },
    {
     "name": "stdout",
     "output_type": "stream",
     "text": [
      "Epoch: [12]  [1000/2437]  eta: 0:03:20  lr: 0.000500  loss: 1.1980 (1.5227)  bbox_regression: 0.2657 (0.2891)  classification: 0.8958 (1.2336)  time: 0.1533  data: 0.0443  max mem: 1104\n"
     ]
    },
    {
     "name": "stderr",
     "output_type": "stream",
     "text": [
      "1102it [02:34,  7.27it/s]"
     ]
    },
    {
     "name": "stdout",
     "output_type": "stream",
     "text": [
      "Epoch: [12]  [1100/2437]  eta: 0:03:06  lr: 0.000500  loss: 1.6033 (1.5245)  bbox_regression: 0.2702 (0.2879)  classification: 1.3820 (1.2366)  time: 0.1396  data: 0.0420  max mem: 1104\n"
     ]
    },
    {
     "name": "stderr",
     "output_type": "stream",
     "text": [
      "1202it [02:47,  7.26it/s]"
     ]
    },
    {
     "name": "stdout",
     "output_type": "stream",
     "text": [
      "Epoch: [12]  [1200/2437]  eta: 0:02:52  lr: 0.000500  loss: 1.3254 (1.5269)  bbox_regression: 0.2756 (0.2898)  classification: 0.9781 (1.2371)  time: 0.1388  data: 0.0409  max mem: 1104\n"
     ]
    },
    {
     "name": "stderr",
     "output_type": "stream",
     "text": [
      "1302it [03:01,  7.22it/s]"
     ]
    },
    {
     "name": "stdout",
     "output_type": "stream",
     "text": [
      "Epoch: [12]  [1300/2437]  eta: 0:02:38  lr: 0.000500  loss: 1.3060 (1.5252)  bbox_regression: 0.2490 (0.2898)  classification: 1.0493 (1.2354)  time: 0.1416  data: 0.0433  max mem: 1104\n"
     ]
    },
    {
     "name": "stderr",
     "output_type": "stream",
     "text": [
      "1402it [03:15,  7.27it/s]"
     ]
    },
    {
     "name": "stdout",
     "output_type": "stream",
     "text": [
      "Epoch: [12]  [1400/2437]  eta: 0:02:24  lr: 0.000500  loss: 1.5499 (1.5235)  bbox_regression: 0.2439 (0.2881)  classification: 1.1679 (1.2354)  time: 0.1400  data: 0.0434  max mem: 1104\n"
     ]
    },
    {
     "name": "stderr",
     "output_type": "stream",
     "text": [
      "1502it [03:29,  7.39it/s]"
     ]
    },
    {
     "name": "stdout",
     "output_type": "stream",
     "text": [
      "Epoch: [12]  [1500/2437]  eta: 0:02:10  lr: 0.000500  loss: 1.3539 (1.5182)  bbox_regression: 0.2535 (0.2868)  classification: 1.0585 (1.2314)  time: 0.1399  data: 0.0416  max mem: 1104\n"
     ]
    },
    {
     "name": "stderr",
     "output_type": "stream",
     "text": [
      "1602it [03:43,  7.31it/s]"
     ]
    },
    {
     "name": "stdout",
     "output_type": "stream",
     "text": [
      "Epoch: [12]  [1600/2437]  eta: 0:01:56  lr: 0.000500  loss: 1.2443 (1.5325)  bbox_regression: 0.2361 (0.2889)  classification: 0.8847 (1.2436)  time: 0.1363  data: 0.0402  max mem: 1104\n"
     ]
    },
    {
     "name": "stderr",
     "output_type": "stream",
     "text": [
      "1702it [03:57,  7.30it/s]"
     ]
    },
    {
     "name": "stdout",
     "output_type": "stream",
     "text": [
      "Epoch: [12]  [1700/2437]  eta: 0:01:42  lr: 0.000500  loss: 1.2376 (1.5354)  bbox_regression: 0.2314 (0.2889)  classification: 0.9124 (1.2464)  time: 0.1380  data: 0.0411  max mem: 1104\n"
     ]
    },
    {
     "name": "stderr",
     "output_type": "stream",
     "text": [
      "1802it [04:11,  7.17it/s]"
     ]
    },
    {
     "name": "stdout",
     "output_type": "stream",
     "text": [
      "Epoch: [12]  [1800/2437]  eta: 0:01:28  lr: 0.000500  loss: 1.4889 (1.5371)  bbox_regression: 0.2853 (0.2890)  classification: 1.0923 (1.2481)  time: 0.1405  data: 0.0420  max mem: 1104\n"
     ]
    },
    {
     "name": "stderr",
     "output_type": "stream",
     "text": [
      "1902it [04:25,  7.27it/s]"
     ]
    },
    {
     "name": "stdout",
     "output_type": "stream",
     "text": [
      "Epoch: [12]  [1900/2437]  eta: 0:01:14  lr: 0.000500  loss: 1.2220 (1.5368)  bbox_regression: 0.2441 (0.2886)  classification: 0.9628 (1.2481)  time: 0.1377  data: 0.0406  max mem: 1104\n"
     ]
    },
    {
     "name": "stderr",
     "output_type": "stream",
     "text": [
      "2002it [04:39,  7.09it/s]"
     ]
    },
    {
     "name": "stdout",
     "output_type": "stream",
     "text": [
      "Epoch: [12]  [2000/2437]  eta: 0:01:00  lr: 0.000500  loss: 1.3379 (1.5369)  bbox_regression: 0.2774 (0.2886)  classification: 1.0822 (1.2483)  time: 0.1393  data: 0.0409  max mem: 1104\n"
     ]
    },
    {
     "name": "stderr",
     "output_type": "stream",
     "text": [
      "2102it [04:53,  7.28it/s]"
     ]
    },
    {
     "name": "stdout",
     "output_type": "stream",
     "text": [
      "Epoch: [12]  [2100/2437]  eta: 0:00:46  lr: 0.000500  loss: 1.4210 (1.5366)  bbox_regression: 0.2820 (0.2881)  classification: 1.0864 (1.2486)  time: 0.1395  data: 0.0415  max mem: 1104\n"
     ]
    },
    {
     "name": "stderr",
     "output_type": "stream",
     "text": [
      "2202it [05:07,  7.35it/s]"
     ]
    },
    {
     "name": "stdout",
     "output_type": "stream",
     "text": [
      "Epoch: [12]  [2200/2437]  eta: 0:00:33  lr: 0.000500  loss: 1.5854 (1.5397)  bbox_regression: 0.2662 (0.2885)  classification: 1.2538 (1.2513)  time: 0.1396  data: 0.0404  max mem: 1104\n"
     ]
    },
    {
     "name": "stderr",
     "output_type": "stream",
     "text": [
      "2302it [05:21,  7.16it/s]"
     ]
    },
    {
     "name": "stdout",
     "output_type": "stream",
     "text": [
      "Epoch: [12]  [2300/2437]  eta: 0:00:19  lr: 0.000500  loss: 1.3504 (1.5414)  bbox_regression: 0.2363 (0.2879)  classification: 1.1141 (1.2535)  time: 0.1400  data: 0.0410  max mem: 1104\n"
     ]
    },
    {
     "name": "stderr",
     "output_type": "stream",
     "text": [
      "2402it [05:34,  6.91it/s]"
     ]
    },
    {
     "name": "stdout",
     "output_type": "stream",
     "text": [
      "Epoch: [12]  [2400/2437]  eta: 0:00:05  lr: 0.000500  loss: 1.5211 (1.5410)  bbox_regression: 0.2581 (0.2884)  classification: 1.1367 (1.2526)  time: 0.1414  data: 0.0421  max mem: 1104\n"
     ]
    },
    {
     "name": "stderr",
     "output_type": "stream",
     "text": [
      "2437it [05:39,  7.17it/s]\n"
     ]
    },
    {
     "name": "stdout",
     "output_type": "stream",
     "text": [
      "Epoch: [12]  [2436/2437]  eta: 0:00:00  lr: 0.000500  loss: 1.3844 (1.5431)  bbox_regression: 0.2535 (0.2887)  classification: 1.0757 (1.2544)  time: 0.1351  data: 0.0405  max mem: 1104\n",
      "flag\n",
      "Epoch: [12] Total time: 0:05:39 (0.1394 s / it)\n",
      "saved dict\n",
      "creating index...\n",
      "index created!\n",
      "<torch.utils.data.dataloader.DataLoader object at 0x0000024C1147B310>\n",
      "Test:  [  0/100]  eta: 0:00:03  model_time: 0.0200 (0.0200)  evaluator_time: 0.0010 (0.0010)  time: 0.0340  data: 0.0120  max mem: 1104\n",
      "Test:  [ 99/100]  eta: 0:00:00  model_time: 0.0280 (0.0266)  evaluator_time: 0.0010 (0.0006)  time: 0.0422  data: 0.0122  max mem: 1104\n",
      "flag\n",
      "Test: Total time: 0:00:04 (0.0404 s / it)\n",
      "Averaged stats: model_time: 0.0280 (0.0266)  evaluator_time: 0.0010 (0.0006)\n",
      "Accumulating evaluation results...\n",
      "DONE (t=0.01s).\n",
      "IoU metric: bbox\n",
      " Average Precision  (AP) @[ IoU=0.50:0.95 | area=   all | maxDets=100 ] = 0.653\n",
      " Average Precision  (AP) @[ IoU=0.50      | area=   all | maxDets=100 ] = 0.876\n",
      " Average Precision  (AP) @[ IoU=0.75      | area=   all | maxDets=100 ] = 0.766\n",
      " Average Precision  (AP) @[ IoU=0.50:0.95 | area= small | maxDets=100 ] = -1.000\n",
      " Average Precision  (AP) @[ IoU=0.50:0.95 | area=medium | maxDets=100 ] = 0.000\n",
      " Average Precision  (AP) @[ IoU=0.50:0.95 | area= large | maxDets=100 ] = 0.656\n",
      " Average Recall     (AR) @[ IoU=0.50:0.95 | area=   all | maxDets=  1 ] = 0.715\n",
      " Average Recall     (AR) @[ IoU=0.50:0.95 | area=   all | maxDets= 10 ] = 0.720\n",
      " Average Recall     (AR) @[ IoU=0.50:0.95 | area=   all | maxDets=100 ] = 0.720\n",
      " Average Recall     (AR) @[ IoU=0.50:0.95 | area= small | maxDets=100 ] = -1.000\n",
      " Average Recall     (AR) @[ IoU=0.50:0.95 | area=medium | maxDets=100 ] = 0.000\n",
      " Average Recall     (AR) @[ IoU=0.50:0.95 | area= large | maxDets=100 ] = 0.723\n",
      "creating index...\n",
      "index created!\n",
      "<torch.utils.data.dataloader.DataLoader object at 0x0000024C1147A470>\n",
      "Test:  [  0/100]  eta: 0:00:05  model_time: 0.0383 (0.0383)  evaluator_time: 0.0000 (0.0000)  time: 0.0503  data: 0.0120  max mem: 1104\n",
      "Test:  [ 99/100]  eta: 0:00:00  model_time: 0.0316 (0.0338)  evaluator_time: 0.0010 (0.0006)  time: 0.0465  data: 0.0122  max mem: 1104\n",
      "flag\n",
      "Test: Total time: 0:00:04 (0.0479 s / it)\n",
      "Averaged stats: model_time: 0.0316 (0.0338)  evaluator_time: 0.0010 (0.0006)\n",
      "Accumulating evaluation results...\n",
      "DONE (t=0.02s).\n",
      "IoU metric: bbox\n",
      " Average Precision  (AP) @[ IoU=0.50:0.95 | area=   all | maxDets=100 ] = 0.397\n",
      " Average Precision  (AP) @[ IoU=0.50      | area=   all | maxDets=100 ] = 0.594\n",
      " Average Precision  (AP) @[ IoU=0.75      | area=   all | maxDets=100 ] = 0.493\n",
      " Average Precision  (AP) @[ IoU=0.50:0.95 | area= small | maxDets=100 ] = -1.000\n",
      " Average Precision  (AP) @[ IoU=0.50:0.95 | area=medium | maxDets=100 ] = -1.000\n",
      " Average Precision  (AP) @[ IoU=0.50:0.95 | area= large | maxDets=100 ] = 0.397\n",
      " Average Recall     (AR) @[ IoU=0.50:0.95 | area=   all | maxDets=  1 ] = 0.540\n",
      " Average Recall     (AR) @[ IoU=0.50:0.95 | area=   all | maxDets= 10 ] = 0.565\n",
      " Average Recall     (AR) @[ IoU=0.50:0.95 | area=   all | maxDets=100 ] = 0.565\n",
      " Average Recall     (AR) @[ IoU=0.50:0.95 | area= small | maxDets=100 ] = -1.000\n",
      " Average Recall     (AR) @[ IoU=0.50:0.95 | area=medium | maxDets=100 ] = -1.000\n",
      " Average Recall     (AR) @[ IoU=0.50:0.95 | area= large | maxDets=100 ] = 0.565\n"
     ]
    },
    {
     "name": "stderr",
     "output_type": "stream",
     "text": [
      "0it [00:00, ?it/s]"
     ]
    },
    {
     "name": "stdout",
     "output_type": "stream",
     "text": [
      "<torch.utils.data.dataloader.DataLoader object at 0x0000024C1147A620>\n"
     ]
    },
    {
     "name": "stderr",
     "output_type": "stream",
     "text": [
      "2it [00:00,  4.67it/s]"
     ]
    },
    {
     "name": "stdout",
     "output_type": "stream",
     "text": [
      "Epoch: [13]  [   0/2437]  eta: 0:09:37  lr: 0.000500  loss: 1.3031 (1.3031)  bbox_regression: 0.3822 (0.3822)  classification: 0.9209 (0.9209)  time: 0.2370  data: 0.0490  max mem: 1104\n"
     ]
    },
    {
     "name": "stderr",
     "output_type": "stream",
     "text": [
      "102it [00:14,  7.24it/s]"
     ]
    },
    {
     "name": "stdout",
     "output_type": "stream",
     "text": [
      "Epoch: [13]  [ 100/2437]  eta: 0:05:28  lr: 0.000500  loss: 1.2441 (1.4686)  bbox_regression: 0.2395 (0.2651)  classification: 1.0359 (1.2035)  time: 0.1398  data: 0.0421  max mem: 1104\n"
     ]
    },
    {
     "name": "stderr",
     "output_type": "stream",
     "text": [
      "202it [00:28,  7.28it/s]"
     ]
    },
    {
     "name": "stdout",
     "output_type": "stream",
     "text": [
      "Epoch: [13]  [ 200/2437]  eta: 0:05:12  lr: 0.000500  loss: 1.2405 (1.4375)  bbox_regression: 0.2278 (0.2618)  classification: 0.9770 (1.1757)  time: 0.1366  data: 0.0397  max mem: 1104\n"
     ]
    },
    {
     "name": "stderr",
     "output_type": "stream",
     "text": [
      "302it [00:42,  6.91it/s]"
     ]
    },
    {
     "name": "stdout",
     "output_type": "stream",
     "text": [
      "Epoch: [13]  [ 300/2437]  eta: 0:04:58  lr: 0.000500  loss: 1.3445 (1.4158)  bbox_regression: 0.2056 (0.2568)  classification: 1.1423 (1.1590)  time: 0.1407  data: 0.0435  max mem: 1104\n"
     ]
    },
    {
     "name": "stderr",
     "output_type": "stream",
     "text": [
      "402it [00:56,  7.23it/s]"
     ]
    },
    {
     "name": "stdout",
     "output_type": "stream",
     "text": [
      "Epoch: [13]  [ 400/2437]  eta: 0:04:44  lr: 0.000500  loss: 1.1565 (1.4328)  bbox_regression: 0.2306 (0.2613)  classification: 0.9114 (1.1716)  time: 0.1362  data: 0.0398  max mem: 1104\n"
     ]
    },
    {
     "name": "stderr",
     "output_type": "stream",
     "text": [
      "502it [01:10,  7.23it/s]"
     ]
    },
    {
     "name": "stdout",
     "output_type": "stream",
     "text": [
      "Epoch: [13]  [ 500/2437]  eta: 0:04:30  lr: 0.000500  loss: 1.0659 (1.4158)  bbox_regression: 0.2156 (0.2633)  classification: 0.8050 (1.1524)  time: 0.1398  data: 0.0419  max mem: 1104\n"
     ]
    },
    {
     "name": "stderr",
     "output_type": "stream",
     "text": [
      "602it [01:24,  7.17it/s]"
     ]
    },
    {
     "name": "stdout",
     "output_type": "stream",
     "text": [
      "Epoch: [13]  [ 600/2437]  eta: 0:04:16  lr: 0.000500  loss: 1.1803 (1.4236)  bbox_regression: 0.2453 (0.2680)  classification: 0.9064 (1.1557)  time: 0.1399  data: 0.0416  max mem: 1104\n"
     ]
    },
    {
     "name": "stderr",
     "output_type": "stream",
     "text": [
      "702it [01:38,  6.98it/s]"
     ]
    },
    {
     "name": "stdout",
     "output_type": "stream",
     "text": [
      "Epoch: [13]  [ 700/2437]  eta: 0:04:02  lr: 0.000500  loss: 1.1614 (1.4122)  bbox_regression: 0.2199 (0.2665)  classification: 0.9561 (1.1457)  time: 0.1385  data: 0.0413  max mem: 1104\n"
     ]
    },
    {
     "name": "stderr",
     "output_type": "stream",
     "text": [
      "802it [01:52,  7.23it/s]"
     ]
    },
    {
     "name": "stdout",
     "output_type": "stream",
     "text": [
      "Epoch: [13]  [ 800/2437]  eta: 0:03:48  lr: 0.000500  loss: 1.1833 (1.4144)  bbox_regression: 0.2206 (0.2682)  classification: 0.9296 (1.1462)  time: 0.1405  data: 0.0427  max mem: 1104\n"
     ]
    },
    {
     "name": "stderr",
     "output_type": "stream",
     "text": [
      "902it [02:05,  7.21it/s]"
     ]
    },
    {
     "name": "stdout",
     "output_type": "stream",
     "text": [
      "Epoch: [13]  [ 900/2437]  eta: 0:03:34  lr: 0.000500  loss: 1.4818 (1.4076)  bbox_regression: 0.2767 (0.2685)  classification: 1.1795 (1.1391)  time: 0.1390  data: 0.0419  max mem: 1104\n"
     ]
    },
    {
     "name": "stderr",
     "output_type": "stream",
     "text": [
      "1002it [02:19,  7.24it/s]"
     ]
    },
    {
     "name": "stdout",
     "output_type": "stream",
     "text": [
      "Epoch: [13]  [1000/2437]  eta: 0:03:20  lr: 0.000500  loss: 1.4296 (1.4035)  bbox_regression: 0.2543 (0.2680)  classification: 1.1746 (1.1355)  time: 0.1384  data: 0.0410  max mem: 1104\n"
     ]
    },
    {
     "name": "stderr",
     "output_type": "stream",
     "text": [
      "1102it [02:33,  7.31it/s]"
     ]
    },
    {
     "name": "stdout",
     "output_type": "stream",
     "text": [
      "Epoch: [13]  [1100/2437]  eta: 0:03:06  lr: 0.000500  loss: 1.1568 (1.4076)  bbox_regression: 0.2181 (0.2700)  classification: 0.9235 (1.1376)  time: 0.1383  data: 0.0405  max mem: 1104\n"
     ]
    },
    {
     "name": "stderr",
     "output_type": "stream",
     "text": [
      "1202it [02:47,  7.25it/s]"
     ]
    },
    {
     "name": "stdout",
     "output_type": "stream",
     "text": [
      "Epoch: [13]  [1200/2437]  eta: 0:02:52  lr: 0.000500  loss: 1.1610 (1.4047)  bbox_regression: 0.2138 (0.2687)  classification: 0.9802 (1.1360)  time: 0.1384  data: 0.0411  max mem: 1104\n"
     ]
    },
    {
     "name": "stderr",
     "output_type": "stream",
     "text": [
      "1302it [03:01,  7.20it/s]"
     ]
    },
    {
     "name": "stdout",
     "output_type": "stream",
     "text": [
      "Epoch: [13]  [1300/2437]  eta: 0:02:38  lr: 0.000500  loss: 1.0788 (1.4116)  bbox_regression: 0.2202 (0.2703)  classification: 0.8056 (1.1413)  time: 0.1401  data: 0.0421  max mem: 1104\n"
     ]
    },
    {
     "name": "stderr",
     "output_type": "stream",
     "text": [
      "1402it [03:15,  7.25it/s]"
     ]
    },
    {
     "name": "stdout",
     "output_type": "stream",
     "text": [
      "Epoch: [13]  [1400/2437]  eta: 0:02:24  lr: 0.000500  loss: 1.2710 (1.4140)  bbox_regression: 0.2287 (0.2708)  classification: 1.0237 (1.1431)  time: 0.1380  data: 0.0416  max mem: 1104\n"
     ]
    },
    {
     "name": "stderr",
     "output_type": "stream",
     "text": [
      "1502it [03:29,  7.25it/s]"
     ]
    },
    {
     "name": "stdout",
     "output_type": "stream",
     "text": [
      "Epoch: [13]  [1500/2437]  eta: 0:02:10  lr: 0.000500  loss: 1.3315 (1.4098)  bbox_regression: 0.2286 (0.2684)  classification: 1.0225 (1.1414)  time: 0.1386  data: 0.0408  max mem: 1104\n"
     ]
    },
    {
     "name": "stderr",
     "output_type": "stream",
     "text": [
      "1602it [03:43,  7.18it/s]"
     ]
    },
    {
     "name": "stdout",
     "output_type": "stream",
     "text": [
      "Epoch: [13]  [1600/2437]  eta: 0:01:56  lr: 0.000500  loss: 1.1777 (1.4105)  bbox_regression: 0.1905 (0.2681)  classification: 1.0230 (1.1424)  time: 0.1377  data: 0.0406  max mem: 1104\n"
     ]
    },
    {
     "name": "stderr",
     "output_type": "stream",
     "text": [
      "1702it [03:57,  7.15it/s]"
     ]
    },
    {
     "name": "stdout",
     "output_type": "stream",
     "text": [
      "Epoch: [13]  [1700/2437]  eta: 0:01:42  lr: 0.000500  loss: 1.3009 (1.4152)  bbox_regression: 0.2601 (0.2694)  classification: 1.0914 (1.1458)  time: 0.1402  data: 0.0430  max mem: 1104\n"
     ]
    },
    {
     "name": "stderr",
     "output_type": "stream",
     "text": [
      "1802it [04:11,  7.30it/s]"
     ]
    },
    {
     "name": "stdout",
     "output_type": "stream",
     "text": [
      "Epoch: [13]  [1800/2437]  eta: 0:01:28  lr: 0.000500  loss: 1.2542 (1.4131)  bbox_regression: 0.2939 (0.2687)  classification: 0.9426 (1.1444)  time: 0.1362  data: 0.0402  max mem: 1104\n"
     ]
    },
    {
     "name": "stderr",
     "output_type": "stream",
     "text": [
      "1902it [04:24,  7.39it/s]"
     ]
    },
    {
     "name": "stdout",
     "output_type": "stream",
     "text": [
      "Epoch: [13]  [1900/2437]  eta: 0:01:14  lr: 0.000500  loss: 1.2604 (1.4109)  bbox_regression: 0.2503 (0.2675)  classification: 0.9955 (1.1434)  time: 0.1398  data: 0.0419  max mem: 1104\n"
     ]
    },
    {
     "name": "stderr",
     "output_type": "stream",
     "text": [
      "2002it [04:38,  7.02it/s]"
     ]
    },
    {
     "name": "stdout",
     "output_type": "stream",
     "text": [
      "Epoch: [13]  [2000/2437]  eta: 0:01:00  lr: 0.000500  loss: 1.3605 (1.4130)  bbox_regression: 0.2420 (0.2684)  classification: 1.1162 (1.1446)  time: 0.1391  data: 0.0420  max mem: 1104\n"
     ]
    },
    {
     "name": "stderr",
     "output_type": "stream",
     "text": [
      "2102it [04:52,  6.96it/s]"
     ]
    },
    {
     "name": "stdout",
     "output_type": "stream",
     "text": [
      "Epoch: [13]  [2100/2437]  eta: 0:00:46  lr: 0.000500  loss: 1.1842 (1.4097)  bbox_regression: 0.2222 (0.2673)  classification: 0.9027 (1.1423)  time: 0.1403  data: 0.0409  max mem: 1104\n"
     ]
    },
    {
     "name": "stderr",
     "output_type": "stream",
     "text": [
      "2202it [05:06,  7.35it/s]"
     ]
    },
    {
     "name": "stdout",
     "output_type": "stream",
     "text": [
      "Epoch: [13]  [2200/2437]  eta: 0:00:33  lr: 0.000500  loss: 1.1471 (1.4051)  bbox_regression: 0.2571 (0.2668)  classification: 0.8796 (1.1383)  time: 0.1386  data: 0.0406  max mem: 1104\n"
     ]
    },
    {
     "name": "stderr",
     "output_type": "stream",
     "text": [
      "2302it [05:20,  7.22it/s]"
     ]
    },
    {
     "name": "stdout",
     "output_type": "stream",
     "text": [
      "Epoch: [13]  [2300/2437]  eta: 0:00:19  lr: 0.000500  loss: 1.5497 (1.4082)  bbox_regression: 0.2568 (0.2668)  classification: 1.2929 (1.1414)  time: 0.1385  data: 0.0408  max mem: 1104\n"
     ]
    },
    {
     "name": "stderr",
     "output_type": "stream",
     "text": [
      "2402it [05:34,  7.40it/s]"
     ]
    },
    {
     "name": "stdout",
     "output_type": "stream",
     "text": [
      "Epoch: [13]  [2400/2437]  eta: 0:00:05  lr: 0.000500  loss: 1.2642 (1.4069)  bbox_regression: 0.1997 (0.2667)  classification: 1.0341 (1.1402)  time: 0.1371  data: 0.0409  max mem: 1104\n"
     ]
    },
    {
     "name": "stderr",
     "output_type": "stream",
     "text": [
      "2437it [05:39,  7.18it/s]\n"
     ]
    },
    {
     "name": "stdout",
     "output_type": "stream",
     "text": [
      "Epoch: [13]  [2436/2437]  eta: 0:00:00  lr: 0.000500  loss: 1.3877 (1.4077)  bbox_regression: 0.2465 (0.2668)  classification: 1.1004 (1.1409)  time: 0.1359  data: 0.0400  max mem: 1104\n",
      "flag\n",
      "Epoch: [13] Total time: 0:05:39 (0.1392 s / it)\n",
      "saved dict\n",
      "creating index...\n",
      "index created!\n",
      "<torch.utils.data.dataloader.DataLoader object at 0x0000024C1147B310>\n",
      "Test:  [  0/100]  eta: 0:00:03  model_time: 0.0215 (0.0215)  evaluator_time: 0.0000 (0.0000)  time: 0.0335  data: 0.0120  max mem: 1104\n",
      "Test:  [ 99/100]  eta: 0:00:00  model_time: 0.0285 (0.0274)  evaluator_time: 0.0010 (0.0006)  time: 0.0429  data: 0.0122  max mem: 1104\n",
      "flag\n",
      "Test: Total time: 0:00:04 (0.0412 s / it)\n",
      "Averaged stats: model_time: 0.0285 (0.0274)  evaluator_time: 0.0010 (0.0006)\n",
      "Accumulating evaluation results...\n",
      "DONE (t=0.01s).\n",
      "IoU metric: bbox\n",
      " Average Precision  (AP) @[ IoU=0.50:0.95 | area=   all | maxDets=100 ] = 0.661\n",
      " Average Precision  (AP) @[ IoU=0.50      | area=   all | maxDets=100 ] = 0.872\n",
      " Average Precision  (AP) @[ IoU=0.75      | area=   all | maxDets=100 ] = 0.783\n",
      " Average Precision  (AP) @[ IoU=0.50:0.95 | area= small | maxDets=100 ] = -1.000\n",
      " Average Precision  (AP) @[ IoU=0.50:0.95 | area=medium | maxDets=100 ] = 0.000\n",
      " Average Precision  (AP) @[ IoU=0.50:0.95 | area= large | maxDets=100 ] = 0.664\n",
      " Average Recall     (AR) @[ IoU=0.50:0.95 | area=   all | maxDets=  1 ] = 0.727\n",
      " Average Recall     (AR) @[ IoU=0.50:0.95 | area=   all | maxDets= 10 ] = 0.730\n",
      " Average Recall     (AR) @[ IoU=0.50:0.95 | area=   all | maxDets=100 ] = 0.730\n",
      " Average Recall     (AR) @[ IoU=0.50:0.95 | area= small | maxDets=100 ] = -1.000\n",
      " Average Recall     (AR) @[ IoU=0.50:0.95 | area=medium | maxDets=100 ] = 0.000\n",
      " Average Recall     (AR) @[ IoU=0.50:0.95 | area= large | maxDets=100 ] = 0.734\n",
      "creating index...\n",
      "index created!\n",
      "<torch.utils.data.dataloader.DataLoader object at 0x0000024C1147A470>\n",
      "Test:  [  0/100]  eta: 0:00:05  model_time: 0.0376 (0.0376)  evaluator_time: 0.0000 (0.0000)  time: 0.0506  data: 0.0130  max mem: 1104\n",
      "Test:  [ 99/100]  eta: 0:00:00  model_time: 0.0310 (0.0337)  evaluator_time: 0.0010 (0.0006)  time: 0.0454  data: 0.0122  max mem: 1104\n",
      "flag\n",
      "Test: Total time: 0:00:04 (0.0478 s / it)\n",
      "Averaged stats: model_time: 0.0310 (0.0337)  evaluator_time: 0.0010 (0.0006)\n",
      "Accumulating evaluation results...\n",
      "DONE (t=0.02s).\n",
      "IoU metric: bbox\n",
      " Average Precision  (AP) @[ IoU=0.50:0.95 | area=   all | maxDets=100 ] = 0.398\n",
      " Average Precision  (AP) @[ IoU=0.50      | area=   all | maxDets=100 ] = 0.585\n",
      " Average Precision  (AP) @[ IoU=0.75      | area=   all | maxDets=100 ] = 0.470\n",
      " Average Precision  (AP) @[ IoU=0.50:0.95 | area= small | maxDets=100 ] = -1.000\n",
      " Average Precision  (AP) @[ IoU=0.50:0.95 | area=medium | maxDets=100 ] = -1.000\n",
      " Average Precision  (AP) @[ IoU=0.50:0.95 | area= large | maxDets=100 ] = 0.398\n",
      " Average Recall     (AR) @[ IoU=0.50:0.95 | area=   all | maxDets=  1 ] = 0.543\n",
      " Average Recall     (AR) @[ IoU=0.50:0.95 | area=   all | maxDets= 10 ] = 0.566\n",
      " Average Recall     (AR) @[ IoU=0.50:0.95 | area=   all | maxDets=100 ] = 0.566\n",
      " Average Recall     (AR) @[ IoU=0.50:0.95 | area= small | maxDets=100 ] = -1.000\n",
      " Average Recall     (AR) @[ IoU=0.50:0.95 | area=medium | maxDets=100 ] = -1.000\n",
      " Average Recall     (AR) @[ IoU=0.50:0.95 | area= large | maxDets=100 ] = 0.566\n"
     ]
    },
    {
     "name": "stderr",
     "output_type": "stream",
     "text": [
      "0it [00:00, ?it/s]"
     ]
    },
    {
     "name": "stdout",
     "output_type": "stream",
     "text": [
      "<torch.utils.data.dataloader.DataLoader object at 0x0000024C1147A620>\n"
     ]
    },
    {
     "name": "stderr",
     "output_type": "stream",
     "text": [
      "2it [00:00,  4.59it/s]"
     ]
    },
    {
     "name": "stdout",
     "output_type": "stream",
     "text": [
      "Epoch: [14]  [   0/2437]  eta: 0:09:08  lr: 0.000500  loss: 1.3955 (1.3955)  bbox_regression: 0.1507 (0.1507)  classification: 1.2448 (1.2448)  time: 0.2251  data: 0.0405  max mem: 1104\n"
     ]
    },
    {
     "name": "stderr",
     "output_type": "stream",
     "text": [
      "102it [00:14,  7.13it/s]"
     ]
    },
    {
     "name": "stdout",
     "output_type": "stream",
     "text": [
      "Epoch: [14]  [ 100/2437]  eta: 0:05:32  lr: 0.000500  loss: 1.3069 (1.2597)  bbox_regression: 0.1927 (0.2346)  classification: 0.9909 (1.0251)  time: 0.1400  data: 0.0421  max mem: 1104\n"
     ]
    },
    {
     "name": "stderr",
     "output_type": "stream",
     "text": [
      "202it [00:28,  7.19it/s]"
     ]
    },
    {
     "name": "stdout",
     "output_type": "stream",
     "text": [
      "Epoch: [14]  [ 200/2437]  eta: 0:05:13  lr: 0.000500  loss: 1.2844 (1.2553)  bbox_regression: 0.2536 (0.2427)  classification: 1.0496 (1.0126)  time: 0.1383  data: 0.0407  max mem: 1104\n"
     ]
    },
    {
     "name": "stderr",
     "output_type": "stream",
     "text": [
      "302it [00:42,  7.11it/s]"
     ]
    },
    {
     "name": "stdout",
     "output_type": "stream",
     "text": [
      "Epoch: [14]  [ 300/2437]  eta: 0:04:58  lr: 0.000500  loss: 1.0992 (1.2588)  bbox_regression: 0.1744 (0.2454)  classification: 0.9646 (1.0134)  time: 0.1396  data: 0.0430  max mem: 1104\n"
     ]
    },
    {
     "name": "stderr",
     "output_type": "stream",
     "text": [
      "402it [00:56,  6.62it/s]"
     ]
    },
    {
     "name": "stdout",
     "output_type": "stream",
     "text": [
      "Epoch: [14]  [ 400/2437]  eta: 0:04:45  lr: 0.000500  loss: 1.2080 (1.2691)  bbox_regression: 0.1895 (0.2479)  classification: 0.9869 (1.0211)  time: 0.1466  data: 0.0424  max mem: 1104\n"
     ]
    },
    {
     "name": "stderr",
     "output_type": "stream",
     "text": [
      "502it [01:11,  7.14it/s]"
     ]
    },
    {
     "name": "stdout",
     "output_type": "stream",
     "text": [
      "Epoch: [14]  [ 500/2437]  eta: 0:04:35  lr: 0.000500  loss: 1.1742 (1.2611)  bbox_regression: 0.2087 (0.2503)  classification: 0.8717 (1.0108)  time: 0.1397  data: 0.0418  max mem: 1104\n"
     ]
    },
    {
     "name": "stderr",
     "output_type": "stream",
     "text": [
      "602it [01:25,  7.34it/s]"
     ]
    },
    {
     "name": "stdout",
     "output_type": "stream",
     "text": [
      "Epoch: [14]  [ 600/2437]  eta: 0:04:20  lr: 0.000500  loss: 1.1718 (1.2746)  bbox_regression: 0.2394 (0.2562)  classification: 0.8660 (1.0184)  time: 0.1351  data: 0.0390  max mem: 1104\n"
     ]
    },
    {
     "name": "stderr",
     "output_type": "stream",
     "text": [
      "702it [01:39,  7.03it/s]"
     ]
    },
    {
     "name": "stdout",
     "output_type": "stream",
     "text": [
      "Epoch: [14]  [ 700/2437]  eta: 0:04:05  lr: 0.000500  loss: 1.1310 (1.2821)  bbox_regression: 0.1981 (0.2552)  classification: 0.8892 (1.0269)  time: 0.1421  data: 0.0430  max mem: 1104\n"
     ]
    },
    {
     "name": "stderr",
     "output_type": "stream",
     "text": [
      "802it [01:53,  7.35it/s]"
     ]
    },
    {
     "name": "stdout",
     "output_type": "stream",
     "text": [
      "Epoch: [14]  [ 800/2437]  eta: 0:03:51  lr: 0.000500  loss: 1.1322 (1.2859)  bbox_regression: 0.2368 (0.2543)  classification: 0.9225 (1.0316)  time: 0.1372  data: 0.0397  max mem: 1104\n"
     ]
    },
    {
     "name": "stderr",
     "output_type": "stream",
     "text": [
      "902it [02:07,  7.09it/s]"
     ]
    },
    {
     "name": "stdout",
     "output_type": "stream",
     "text": [
      "Epoch: [14]  [ 900/2437]  eta: 0:03:37  lr: 0.000500  loss: 1.0933 (1.2885)  bbox_regression: 0.2128 (0.2537)  classification: 0.8917 (1.0348)  time: 0.1409  data: 0.0429  max mem: 1104\n"
     ]
    },
    {
     "name": "stderr",
     "output_type": "stream",
     "text": [
      "1002it [02:21,  7.09it/s]"
     ]
    },
    {
     "name": "stdout",
     "output_type": "stream",
     "text": [
      "Epoch: [14]  [1000/2437]  eta: 0:03:22  lr: 0.000500  loss: 1.0171 (1.2833)  bbox_regression: 0.2022 (0.2528)  classification: 0.8298 (1.0305)  time: 0.1388  data: 0.0409  max mem: 1104\n"
     ]
    },
    {
     "name": "stderr",
     "output_type": "stream",
     "text": [
      "1102it [02:35,  7.00it/s]"
     ]
    },
    {
     "name": "stdout",
     "output_type": "stream",
     "text": [
      "Epoch: [14]  [1100/2437]  eta: 0:03:08  lr: 0.000500  loss: 1.2043 (1.2866)  bbox_regression: 0.2169 (0.2537)  classification: 0.9814 (1.0329)  time: 0.1409  data: 0.0424  max mem: 1104\n"
     ]
    },
    {
     "name": "stderr",
     "output_type": "stream",
     "text": [
      "1202it [02:49,  6.96it/s]"
     ]
    },
    {
     "name": "stdout",
     "output_type": "stream",
     "text": [
      "Epoch: [14]  [1200/2437]  eta: 0:02:54  lr: 0.000500  loss: 1.1244 (1.2915)  bbox_regression: 0.2428 (0.2547)  classification: 0.8901 (1.0368)  time: 0.1425  data: 0.0425  max mem: 1104\n"
     ]
    },
    {
     "name": "stderr",
     "output_type": "stream",
     "text": [
      "1302it [03:03,  5.92it/s]"
     ]
    },
    {
     "name": "stdout",
     "output_type": "stream",
     "text": [
      "Epoch: [14]  [1300/2437]  eta: 0:02:40  lr: 0.000500  loss: 1.3607 (1.2942)  bbox_regression: 0.2356 (0.2547)  classification: 1.0202 (1.0395)  time: 0.1461  data: 0.0482  max mem: 1104\n"
     ]
    },
    {
     "name": "stderr",
     "output_type": "stream",
     "text": [
      "1402it [03:17,  7.30it/s]"
     ]
    },
    {
     "name": "stdout",
     "output_type": "stream",
     "text": [
      "Epoch: [14]  [1400/2437]  eta: 0:02:25  lr: 0.000500  loss: 1.1768 (1.2929)  bbox_regression: 0.2241 (0.2537)  classification: 0.9380 (1.0392)  time: 0.1399  data: 0.0424  max mem: 1104\n"
     ]
    },
    {
     "name": "stderr",
     "output_type": "stream",
     "text": [
      "1502it [03:31,  7.11it/s]"
     ]
    },
    {
     "name": "stdout",
     "output_type": "stream",
     "text": [
      "Epoch: [14]  [1500/2437]  eta: 0:02:11  lr: 0.000500  loss: 1.2432 (1.2995)  bbox_regression: 0.2099 (0.2551)  classification: 1.0020 (1.0444)  time: 0.1391  data: 0.0418  max mem: 1104\n"
     ]
    },
    {
     "name": "stderr",
     "output_type": "stream",
     "text": [
      "1602it [03:45,  7.14it/s]"
     ]
    },
    {
     "name": "stdout",
     "output_type": "stream",
     "text": [
      "Epoch: [14]  [1600/2437]  eta: 0:01:57  lr: 0.000500  loss: 1.2666 (1.2983)  bbox_regression: 0.2404 (0.2538)  classification: 0.9751 (1.0445)  time: 0.1377  data: 0.0408  max mem: 1104\n"
     ]
    },
    {
     "name": "stderr",
     "output_type": "stream",
     "text": [
      "1702it [03:58,  7.23it/s]"
     ]
    },
    {
     "name": "stdout",
     "output_type": "stream",
     "text": [
      "Epoch: [14]  [1700/2437]  eta: 0:01:43  lr: 0.000500  loss: 1.1653 (1.3057)  bbox_regression: 0.2120 (0.2543)  classification: 0.9679 (1.0514)  time: 0.1381  data: 0.0420  max mem: 1104\n"
     ]
    },
    {
     "name": "stderr",
     "output_type": "stream",
     "text": [
      "1802it [04:12,  7.20it/s]"
     ]
    },
    {
     "name": "stdout",
     "output_type": "stream",
     "text": [
      "Epoch: [14]  [1800/2437]  eta: 0:01:29  lr: 0.000500  loss: 1.2042 (1.3113)  bbox_regression: 0.2231 (0.2550)  classification: 0.9700 (1.0564)  time: 0.1394  data: 0.0421  max mem: 1104\n"
     ]
    },
    {
     "name": "stderr",
     "output_type": "stream",
     "text": [
      "1902it [04:26,  7.14it/s]"
     ]
    },
    {
     "name": "stdout",
     "output_type": "stream",
     "text": [
      "Epoch: [14]  [1900/2437]  eta: 0:01:15  lr: 0.000500  loss: 1.1900 (1.3104)  bbox_regression: 0.2349 (0.2544)  classification: 0.9551 (1.0559)  time: 0.1365  data: 0.0400  max mem: 1104\n"
     ]
    },
    {
     "name": "stderr",
     "output_type": "stream",
     "text": [
      "2002it [04:40,  7.55it/s]"
     ]
    },
    {
     "name": "stdout",
     "output_type": "stream",
     "text": [
      "Epoch: [14]  [2000/2437]  eta: 0:01:01  lr: 0.000500  loss: 1.2123 (1.3063)  bbox_regression: 0.2106 (0.2538)  classification: 0.9856 (1.0525)  time: 0.1371  data: 0.0396  max mem: 1104\n"
     ]
    },
    {
     "name": "stderr",
     "output_type": "stream",
     "text": [
      "2102it [04:54,  7.13it/s]"
     ]
    },
    {
     "name": "stdout",
     "output_type": "stream",
     "text": [
      "Epoch: [14]  [2100/2437]  eta: 0:00:47  lr: 0.000500  loss: 1.1243 (1.3047)  bbox_regression: 0.2306 (0.2537)  classification: 0.8454 (1.0510)  time: 0.1398  data: 0.0413  max mem: 1104\n"
     ]
    },
    {
     "name": "stderr",
     "output_type": "stream",
     "text": [
      "2202it [05:08,  7.27it/s]"
     ]
    },
    {
     "name": "stdout",
     "output_type": "stream",
     "text": [
      "Epoch: [14]  [2200/2437]  eta: 0:00:33  lr: 0.000500  loss: 1.0994 (1.3039)  bbox_regression: 0.2236 (0.2533)  classification: 0.8436 (1.0506)  time: 0.1388  data: 0.0411  max mem: 1104\n"
     ]
    },
    {
     "name": "stderr",
     "output_type": "stream",
     "text": [
      "2302it [05:22,  7.17it/s]"
     ]
    },
    {
     "name": "stdout",
     "output_type": "stream",
     "text": [
      "Epoch: [14]  [2300/2437]  eta: 0:00:19  lr: 0.000500  loss: 0.9950 (1.3035)  bbox_regression: 0.1993 (0.2526)  classification: 0.7954 (1.0509)  time: 0.1400  data: 0.0412  max mem: 1104\n"
     ]
    },
    {
     "name": "stderr",
     "output_type": "stream",
     "text": [
      "2402it [05:36,  7.40it/s]"
     ]
    },
    {
     "name": "stdout",
     "output_type": "stream",
     "text": [
      "Epoch: [14]  [2400/2437]  eta: 0:00:05  lr: 0.000500  loss: 1.0105 (1.3021)  bbox_regression: 0.2060 (0.2522)  classification: 0.7770 (1.0498)  time: 0.1398  data: 0.0410  max mem: 1104\n"
     ]
    },
    {
     "name": "stderr",
     "output_type": "stream",
     "text": [
      "2437it [05:40,  7.15it/s]\n"
     ]
    },
    {
     "name": "stdout",
     "output_type": "stream",
     "text": [
      "Epoch: [14]  [2436/2437]  eta: 0:00:00  lr: 0.000500  loss: 1.2369 (1.3023)  bbox_regression: 0.2148 (0.2520)  classification: 1.0382 (1.0503)  time: 0.1368  data: 0.0411  max mem: 1104\n",
      "flag\n",
      "Epoch: [14] Total time: 0:05:40 (0.1399 s / it)\n",
      "saved dict\n",
      "creating index...\n",
      "index created!\n",
      "<torch.utils.data.dataloader.DataLoader object at 0x0000024C1147B310>\n",
      "Test:  [  0/100]  eta: 0:00:03  model_time: 0.0252 (0.0252)  evaluator_time: 0.0010 (0.0010)  time: 0.0392  data: 0.0120  max mem: 1104\n",
      "Test:  [ 99/100]  eta: 0:00:00  model_time: 0.0290 (0.0275)  evaluator_time: 0.0010 (0.0007)  time: 0.0430  data: 0.0121  max mem: 1104\n",
      "flag\n",
      "Test: Total time: 0:00:04 (0.0414 s / it)\n",
      "Averaged stats: model_time: 0.0290 (0.0275)  evaluator_time: 0.0010 (0.0007)\n",
      "Accumulating evaluation results...\n",
      "DONE (t=0.01s).\n",
      "IoU metric: bbox\n",
      " Average Precision  (AP) @[ IoU=0.50:0.95 | area=   all | maxDets=100 ] = 0.671\n",
      " Average Precision  (AP) @[ IoU=0.50      | area=   all | maxDets=100 ] = 0.889\n",
      " Average Precision  (AP) @[ IoU=0.75      | area=   all | maxDets=100 ] = 0.859\n",
      " Average Precision  (AP) @[ IoU=0.50:0.95 | area= small | maxDets=100 ] = -1.000\n",
      " Average Precision  (AP) @[ IoU=0.50:0.95 | area=medium | maxDets=100 ] = 0.000\n",
      " Average Precision  (AP) @[ IoU=0.50:0.95 | area= large | maxDets=100 ] = 0.674\n",
      " Average Recall     (AR) @[ IoU=0.50:0.95 | area=   all | maxDets=  1 ] = 0.740\n",
      " Average Recall     (AR) @[ IoU=0.50:0.95 | area=   all | maxDets= 10 ] = 0.743\n",
      " Average Recall     (AR) @[ IoU=0.50:0.95 | area=   all | maxDets=100 ] = 0.743\n",
      " Average Recall     (AR) @[ IoU=0.50:0.95 | area= small | maxDets=100 ] = -1.000\n",
      " Average Recall     (AR) @[ IoU=0.50:0.95 | area=medium | maxDets=100 ] = 0.000\n",
      " Average Recall     (AR) @[ IoU=0.50:0.95 | area= large | maxDets=100 ] = 0.746\n",
      "creating index...\n",
      "index created!\n",
      "<torch.utils.data.dataloader.DataLoader object at 0x0000024C1147A470>\n",
      "Test:  [  0/100]  eta: 0:00:05  model_time: 0.0375 (0.0375)  evaluator_time: 0.0010 (0.0010)  time: 0.0525  data: 0.0130  max mem: 1104\n",
      "Test:  [ 99/100]  eta: 0:00:00  model_time: 0.0320 (0.0342)  evaluator_time: 0.0010 (0.0006)  time: 0.0465  data: 0.0123  max mem: 1104\n",
      "flag\n",
      "Test: Total time: 0:00:04 (0.0484 s / it)\n",
      "Averaged stats: model_time: 0.0320 (0.0342)  evaluator_time: 0.0010 (0.0006)\n",
      "Accumulating evaluation results...\n",
      "DONE (t=0.02s).\n",
      "IoU metric: bbox\n",
      " Average Precision  (AP) @[ IoU=0.50:0.95 | area=   all | maxDets=100 ] = 0.398\n",
      " Average Precision  (AP) @[ IoU=0.50      | area=   all | maxDets=100 ] = 0.579\n",
      " Average Precision  (AP) @[ IoU=0.75      | area=   all | maxDets=100 ] = 0.480\n",
      " Average Precision  (AP) @[ IoU=0.50:0.95 | area= small | maxDets=100 ] = -1.000\n",
      " Average Precision  (AP) @[ IoU=0.50:0.95 | area=medium | maxDets=100 ] = -1.000\n",
      " Average Precision  (AP) @[ IoU=0.50:0.95 | area= large | maxDets=100 ] = 0.398\n",
      " Average Recall     (AR) @[ IoU=0.50:0.95 | area=   all | maxDets=  1 ] = 0.540\n",
      " Average Recall     (AR) @[ IoU=0.50:0.95 | area=   all | maxDets= 10 ] = 0.553\n",
      " Average Recall     (AR) @[ IoU=0.50:0.95 | area=   all | maxDets=100 ] = 0.553\n",
      " Average Recall     (AR) @[ IoU=0.50:0.95 | area= small | maxDets=100 ] = -1.000\n",
      " Average Recall     (AR) @[ IoU=0.50:0.95 | area=medium | maxDets=100 ] = -1.000\n",
      " Average Recall     (AR) @[ IoU=0.50:0.95 | area= large | maxDets=100 ] = 0.553\n"
     ]
    },
    {
     "name": "stderr",
     "output_type": "stream",
     "text": [
      "0it [00:00, ?it/s]"
     ]
    },
    {
     "name": "stdout",
     "output_type": "stream",
     "text": [
      "<torch.utils.data.dataloader.DataLoader object at 0x0000024C1147A620>\n"
     ]
    },
    {
     "name": "stderr",
     "output_type": "stream",
     "text": [
      "2it [00:00,  4.86it/s]"
     ]
    },
    {
     "name": "stdout",
     "output_type": "stream",
     "text": [
      "Epoch: [15]  [   0/2437]  eta: 0:09:49  lr: 0.000500  loss: 0.7704 (0.7704)  bbox_regression: 0.1126 (0.1126)  classification: 0.6579 (0.6579)  time: 0.2420  data: 0.0490  max mem: 1104\n"
     ]
    },
    {
     "name": "stderr",
     "output_type": "stream",
     "text": [
      "102it [00:14,  7.01it/s]"
     ]
    },
    {
     "name": "stdout",
     "output_type": "stream",
     "text": [
      "Epoch: [15]  [ 100/2437]  eta: 0:05:27  lr: 0.000500  loss: 1.0215 (1.2035)  bbox_regression: 0.2209 (0.2294)  classification: 0.8143 (0.9742)  time: 0.1385  data: 0.0408  max mem: 1104\n"
     ]
    },
    {
     "name": "stderr",
     "output_type": "stream",
     "text": [
      "202it [00:28,  7.09it/s]"
     ]
    },
    {
     "name": "stdout",
     "output_type": "stream",
     "text": [
      "Epoch: [15]  [ 200/2437]  eta: 0:05:12  lr: 0.000500  loss: 1.0064 (1.2071)  bbox_regression: 0.2169 (0.2435)  classification: 0.8355 (0.9635)  time: 0.1414  data: 0.0427  max mem: 1104\n"
     ]
    },
    {
     "name": "stderr",
     "output_type": "stream",
     "text": [
      "302it [00:42,  7.28it/s]"
     ]
    },
    {
     "name": "stdout",
     "output_type": "stream",
     "text": [
      "Epoch: [15]  [ 300/2437]  eta: 0:04:58  lr: 0.000500  loss: 1.1277 (1.2155)  bbox_regression: 0.2214 (0.2433)  classification: 0.9064 (0.9722)  time: 0.1392  data: 0.0419  max mem: 1104\n"
     ]
    },
    {
     "name": "stderr",
     "output_type": "stream",
     "text": [
      "402it [00:55,  7.41it/s]"
     ]
    },
    {
     "name": "stdout",
     "output_type": "stream",
     "text": [
      "Epoch: [15]  [ 400/2437]  eta: 0:04:43  lr: 0.000500  loss: 1.0824 (1.2075)  bbox_regression: 0.2148 (0.2412)  classification: 0.8300 (0.9663)  time: 0.1373  data: 0.0392  max mem: 1104\n"
     ]
    },
    {
     "name": "stderr",
     "output_type": "stream",
     "text": [
      "502it [01:09,  7.21it/s]"
     ]
    },
    {
     "name": "stdout",
     "output_type": "stream",
     "text": [
      "Epoch: [15]  [ 500/2437]  eta: 0:04:29  lr: 0.000500  loss: 0.9735 (1.2108)  bbox_regression: 0.2069 (0.2420)  classification: 0.7859 (0.9688)  time: 0.1402  data: 0.0419  max mem: 1104\n"
     ]
    },
    {
     "name": "stderr",
     "output_type": "stream",
     "text": [
      "602it [01:23,  6.99it/s]"
     ]
    },
    {
     "name": "stdout",
     "output_type": "stream",
     "text": [
      "Epoch: [15]  [ 600/2437]  eta: 0:04:15  lr: 0.000500  loss: 1.0815 (1.2020)  bbox_regression: 0.2086 (0.2391)  classification: 0.9158 (0.9628)  time: 0.1418  data: 0.0436  max mem: 1104\n"
     ]
    },
    {
     "name": "stderr",
     "output_type": "stream",
     "text": [
      "702it [01:37,  7.24it/s]"
     ]
    },
    {
     "name": "stdout",
     "output_type": "stream",
     "text": [
      "Epoch: [15]  [ 700/2437]  eta: 0:04:02  lr: 0.000500  loss: 0.9312 (1.1840)  bbox_regression: 0.1622 (0.2357)  classification: 0.7686 (0.9484)  time: 0.1399  data: 0.0410  max mem: 1104\n"
     ]
    },
    {
     "name": "stderr",
     "output_type": "stream",
     "text": [
      "802it [01:51,  7.35it/s]"
     ]
    },
    {
     "name": "stdout",
     "output_type": "stream",
     "text": [
      "Epoch: [15]  [ 800/2437]  eta: 0:03:48  lr: 0.000500  loss: 1.2413 (1.1909)  bbox_regression: 0.1982 (0.2371)  classification: 0.9101 (0.9538)  time: 0.1373  data: 0.0410  max mem: 1104\n"
     ]
    },
    {
     "name": "stderr",
     "output_type": "stream",
     "text": [
      "902it [02:06,  7.27it/s]"
     ]
    },
    {
     "name": "stdout",
     "output_type": "stream",
     "text": [
      "Epoch: [15]  [ 900/2437]  eta: 0:03:34  lr: 0.000500  loss: 1.1319 (1.1907)  bbox_regression: 0.2254 (0.2383)  classification: 0.8648 (0.9523)  time: 0.1496  data: 0.0504  max mem: 1104\n"
     ]
    },
    {
     "name": "stderr",
     "output_type": "stream",
     "text": [
      "1002it [02:19,  7.23it/s]"
     ]
    },
    {
     "name": "stdout",
     "output_type": "stream",
     "text": [
      "Epoch: [15]  [1000/2437]  eta: 0:03:20  lr: 0.000500  loss: 0.9771 (1.1953)  bbox_regression: 0.1735 (0.2373)  classification: 0.7922 (0.9580)  time: 0.1378  data: 0.0410  max mem: 1104\n"
     ]
    },
    {
     "name": "stderr",
     "output_type": "stream",
     "text": [
      "1102it [02:33,  7.07it/s]"
     ]
    },
    {
     "name": "stdout",
     "output_type": "stream",
     "text": [
      "Epoch: [15]  [1100/2437]  eta: 0:03:06  lr: 0.000500  loss: 1.2315 (1.1969)  bbox_regression: 0.2377 (0.2371)  classification: 1.0053 (0.9597)  time: 0.1408  data: 0.0432  max mem: 1104\n"
     ]
    },
    {
     "name": "stderr",
     "output_type": "stream",
     "text": [
      "1202it [02:47,  7.03it/s]"
     ]
    },
    {
     "name": "stdout",
     "output_type": "stream",
     "text": [
      "Epoch: [15]  [1200/2437]  eta: 0:02:52  lr: 0.000500  loss: 1.0958 (1.2035)  bbox_regression: 0.2158 (0.2375)  classification: 0.8942 (0.9660)  time: 0.1380  data: 0.0411  max mem: 1104\n"
     ]
    },
    {
     "name": "stderr",
     "output_type": "stream",
     "text": [
      "1302it [03:01,  7.27it/s]"
     ]
    },
    {
     "name": "stdout",
     "output_type": "stream",
     "text": [
      "Epoch: [15]  [1300/2437]  eta: 0:02:38  lr: 0.000500  loss: 1.1520 (1.2030)  bbox_regression: 0.2072 (0.2368)  classification: 0.8802 (0.9662)  time: 0.1389  data: 0.0419  max mem: 1104\n"
     ]
    },
    {
     "name": "stderr",
     "output_type": "stream",
     "text": [
      "1402it [03:15,  7.14it/s]"
     ]
    },
    {
     "name": "stdout",
     "output_type": "stream",
     "text": [
      "Epoch: [15]  [1400/2437]  eta: 0:02:24  lr: 0.000500  loss: 1.2615 (1.2072)  bbox_regression: 0.2422 (0.2373)  classification: 1.0282 (0.9699)  time: 0.1381  data: 0.0408  max mem: 1104\n"
     ]
    },
    {
     "name": "stderr",
     "output_type": "stream",
     "text": [
      "1502it [03:29,  7.07it/s]"
     ]
    },
    {
     "name": "stdout",
     "output_type": "stream",
     "text": [
      "Epoch: [15]  [1500/2437]  eta: 0:02:10  lr: 0.000500  loss: 1.1424 (1.2111)  bbox_regression: 0.2331 (0.2387)  classification: 0.9098 (0.9724)  time: 0.1479  data: 0.0480  max mem: 1104\n"
     ]
    },
    {
     "name": "stderr",
     "output_type": "stream",
     "text": [
      "1602it [03:43,  7.24it/s]"
     ]
    },
    {
     "name": "stdout",
     "output_type": "stream",
     "text": [
      "Epoch: [15]  [1600/2437]  eta: 0:01:56  lr: 0.000500  loss: 1.1131 (1.2120)  bbox_regression: 0.1719 (0.2389)  classification: 0.8859 (0.9732)  time: 0.1388  data: 0.0423  max mem: 1104\n"
     ]
    },
    {
     "name": "stderr",
     "output_type": "stream",
     "text": [
      "1702it [03:57,  7.14it/s]"
     ]
    },
    {
     "name": "stdout",
     "output_type": "stream",
     "text": [
      "Epoch: [15]  [1700/2437]  eta: 0:01:42  lr: 0.000500  loss: 1.0142 (1.2117)  bbox_regression: 0.2152 (0.2386)  classification: 0.8050 (0.9732)  time: 0.1402  data: 0.0416  max mem: 1104\n"
     ]
    },
    {
     "name": "stderr",
     "output_type": "stream",
     "text": [
      "1802it [04:11,  7.16it/s]"
     ]
    },
    {
     "name": "stdout",
     "output_type": "stream",
     "text": [
      "Epoch: [15]  [1800/2437]  eta: 0:01:28  lr: 0.000500  loss: 0.8971 (1.2092)  bbox_regression: 0.1578 (0.2383)  classification: 0.7159 (0.9709)  time: 0.1399  data: 0.0433  max mem: 1104\n"
     ]
    },
    {
     "name": "stderr",
     "output_type": "stream",
     "text": [
      "1902it [04:25,  7.25it/s]"
     ]
    },
    {
     "name": "stdout",
     "output_type": "stream",
     "text": [
      "Epoch: [15]  [1900/2437]  eta: 0:01:14  lr: 0.000500  loss: 1.1056 (1.2117)  bbox_regression: 0.2150 (0.2386)  classification: 0.8771 (0.9731)  time: 0.1391  data: 0.0413  max mem: 1104\n"
     ]
    },
    {
     "name": "stderr",
     "output_type": "stream",
     "text": [
      "2002it [04:39,  7.29it/s]"
     ]
    },
    {
     "name": "stdout",
     "output_type": "stream",
     "text": [
      "Epoch: [15]  [2000/2437]  eta: 0:01:00  lr: 0.000500  loss: 1.1682 (1.2131)  bbox_regression: 0.2312 (0.2388)  classification: 0.8169 (0.9743)  time: 0.1379  data: 0.0410  max mem: 1104\n"
     ]
    },
    {
     "name": "stderr",
     "output_type": "stream",
     "text": [
      "2102it [04:53,  7.13it/s]"
     ]
    },
    {
     "name": "stdout",
     "output_type": "stream",
     "text": [
      "Epoch: [15]  [2100/2437]  eta: 0:00:47  lr: 0.000500  loss: 1.0029 (1.2099)  bbox_regression: 0.2322 (0.2388)  classification: 0.7597 (0.9711)  time: 0.1392  data: 0.0407  max mem: 1104\n"
     ]
    },
    {
     "name": "stderr",
     "output_type": "stream",
     "text": [
      "2202it [05:07,  7.18it/s]"
     ]
    },
    {
     "name": "stdout",
     "output_type": "stream",
     "text": [
      "Epoch: [15]  [2200/2437]  eta: 0:00:33  lr: 0.000500  loss: 1.0609 (1.2088)  bbox_regression: 0.2235 (0.2389)  classification: 0.8445 (0.9699)  time: 0.1382  data: 0.0409  max mem: 1104\n"
     ]
    },
    {
     "name": "stderr",
     "output_type": "stream",
     "text": [
      "2302it [05:21,  7.08it/s]"
     ]
    },
    {
     "name": "stdout",
     "output_type": "stream",
     "text": [
      "Epoch: [15]  [2300/2437]  eta: 0:00:19  lr: 0.000500  loss: 1.1036 (1.2099)  bbox_regression: 0.2117 (0.2396)  classification: 0.8477 (0.9703)  time: 0.1391  data: 0.0406  max mem: 1104\n"
     ]
    },
    {
     "name": "stderr",
     "output_type": "stream",
     "text": [
      "2402it [05:35,  7.06it/s]"
     ]
    },
    {
     "name": "stdout",
     "output_type": "stream",
     "text": [
      "Epoch: [15]  [2400/2437]  eta: 0:00:05  lr: 0.000500  loss: 1.1396 (1.2075)  bbox_regression: 0.2358 (0.2387)  classification: 0.8768 (0.9688)  time: 0.1384  data: 0.0416  max mem: 1104\n"
     ]
    },
    {
     "name": "stderr",
     "output_type": "stream",
     "text": [
      "2437it [05:40,  7.16it/s]\n"
     ]
    },
    {
     "name": "stdout",
     "output_type": "stream",
     "text": [
      "Epoch: [15]  [2436/2437]  eta: 0:00:00  lr: 0.000500  loss: 1.2905 (1.2112)  bbox_regression: 0.2163 (0.2391)  classification: 1.0609 (0.9721)  time: 0.1348  data: 0.0401  max mem: 1104\n",
      "flag\n",
      "Epoch: [15] Total time: 0:05:40 (0.1396 s / it)\n",
      "saved dict\n",
      "creating index...\n",
      "index created!\n",
      "<torch.utils.data.dataloader.DataLoader object at 0x0000024C1147B310>\n",
      "Test:  [  0/100]  eta: 0:00:03  model_time: 0.0220 (0.0220)  evaluator_time: 0.0010 (0.0010)  time: 0.0360  data: 0.0120  max mem: 1104\n",
      "Test:  [ 99/100]  eta: 0:00:00  model_time: 0.0280 (0.0269)  evaluator_time: 0.0000 (0.0006)  time: 0.0424  data: 0.0122  max mem: 1104\n",
      "flag\n",
      "Test: Total time: 0:00:04 (0.0407 s / it)\n",
      "Averaged stats: model_time: 0.0280 (0.0269)  evaluator_time: 0.0000 (0.0006)\n",
      "Accumulating evaluation results...\n",
      "DONE (t=0.01s).\n",
      "IoU metric: bbox\n",
      " Average Precision  (AP) @[ IoU=0.50:0.95 | area=   all | maxDets=100 ] = 0.711\n",
      " Average Precision  (AP) @[ IoU=0.50      | area=   all | maxDets=100 ] = 0.903\n",
      " Average Precision  (AP) @[ IoU=0.75      | area=   all | maxDets=100 ] = 0.873\n",
      " Average Precision  (AP) @[ IoU=0.50:0.95 | area= small | maxDets=100 ] = -1.000\n",
      " Average Precision  (AP) @[ IoU=0.50:0.95 | area=medium | maxDets=100 ] = 0.000\n",
      " Average Precision  (AP) @[ IoU=0.50:0.95 | area= large | maxDets=100 ] = 0.714\n",
      " Average Recall     (AR) @[ IoU=0.50:0.95 | area=   all | maxDets=  1 ] = 0.759\n",
      " Average Recall     (AR) @[ IoU=0.50:0.95 | area=   all | maxDets= 10 ] = 0.764\n",
      " Average Recall     (AR) @[ IoU=0.50:0.95 | area=   all | maxDets=100 ] = 0.764\n",
      " Average Recall     (AR) @[ IoU=0.50:0.95 | area= small | maxDets=100 ] = -1.000\n",
      " Average Recall     (AR) @[ IoU=0.50:0.95 | area=medium | maxDets=100 ] = 0.000\n",
      " Average Recall     (AR) @[ IoU=0.50:0.95 | area= large | maxDets=100 ] = 0.767\n",
      "creating index...\n",
      "index created!\n",
      "<torch.utils.data.dataloader.DataLoader object at 0x0000024C1147A470>\n",
      "Test:  [  0/100]  eta: 0:00:04  model_time: 0.0350 (0.0350)  evaluator_time: 0.0010 (0.0010)  time: 0.0490  data: 0.0130  max mem: 1104\n",
      "Test:  [ 99/100]  eta: 0:00:00  model_time: 0.0320 (0.0331)  evaluator_time: 0.0010 (0.0006)  time: 0.0455  data: 0.0122  max mem: 1104\n",
      "flag\n",
      "Test: Total time: 0:00:04 (0.0473 s / it)\n",
      "Averaged stats: model_time: 0.0320 (0.0331)  evaluator_time: 0.0010 (0.0006)\n",
      "Accumulating evaluation results...\n",
      "DONE (t=0.02s).\n",
      "IoU metric: bbox\n",
      " Average Precision  (AP) @[ IoU=0.50:0.95 | area=   all | maxDets=100 ] = 0.397\n",
      " Average Precision  (AP) @[ IoU=0.50      | area=   all | maxDets=100 ] = 0.603\n",
      " Average Precision  (AP) @[ IoU=0.75      | area=   all | maxDets=100 ] = 0.448\n",
      " Average Precision  (AP) @[ IoU=0.50:0.95 | area= small | maxDets=100 ] = -1.000\n",
      " Average Precision  (AP) @[ IoU=0.50:0.95 | area=medium | maxDets=100 ] = -1.000\n",
      " Average Precision  (AP) @[ IoU=0.50:0.95 | area= large | maxDets=100 ] = 0.398\n",
      " Average Recall     (AR) @[ IoU=0.50:0.95 | area=   all | maxDets=  1 ] = 0.542\n",
      " Average Recall     (AR) @[ IoU=0.50:0.95 | area=   all | maxDets= 10 ] = 0.560\n",
      " Average Recall     (AR) @[ IoU=0.50:0.95 | area=   all | maxDets=100 ] = 0.560\n",
      " Average Recall     (AR) @[ IoU=0.50:0.95 | area= small | maxDets=100 ] = -1.000\n",
      " Average Recall     (AR) @[ IoU=0.50:0.95 | area=medium | maxDets=100 ] = -1.000\n",
      " Average Recall     (AR) @[ IoU=0.50:0.95 | area= large | maxDets=100 ] = 0.560\n"
     ]
    },
    {
     "name": "stderr",
     "output_type": "stream",
     "text": [
      "0it [00:00, ?it/s]"
     ]
    },
    {
     "name": "stdout",
     "output_type": "stream",
     "text": [
      "<torch.utils.data.dataloader.DataLoader object at 0x0000024C1147A620>\n"
     ]
    },
    {
     "name": "stderr",
     "output_type": "stream",
     "text": [
      "2it [00:00,  4.91it/s]"
     ]
    },
    {
     "name": "stdout",
     "output_type": "stream",
     "text": [
      "Epoch: [16]  [   0/2437]  eta: 0:09:30  lr: 0.000500  loss: 1.1620 (1.1620)  bbox_regression: 0.1620 (0.1620)  classification: 1.0000 (1.0000)  time: 0.2342  data: 0.0432  max mem: 1104\n"
     ]
    },
    {
     "name": "stderr",
     "output_type": "stream",
     "text": [
      "102it [00:14,  7.29it/s]"
     ]
    },
    {
     "name": "stdout",
     "output_type": "stream",
     "text": [
      "Epoch: [16]  [ 100/2437]  eta: 0:05:28  lr: 0.000500  loss: 0.9395 (1.0947)  bbox_regression: 0.2039 (0.2145)  classification: 0.7455 (0.8801)  time: 0.1378  data: 0.0413  max mem: 1104\n"
     ]
    },
    {
     "name": "stderr",
     "output_type": "stream",
     "text": [
      "202it [00:28,  7.14it/s]"
     ]
    },
    {
     "name": "stdout",
     "output_type": "stream",
     "text": [
      "Epoch: [16]  [ 200/2437]  eta: 0:05:12  lr: 0.000500  loss: 0.9310 (1.0871)  bbox_regression: 0.2003 (0.2149)  classification: 0.7341 (0.8722)  time: 0.1395  data: 0.0419  max mem: 1104\n"
     ]
    },
    {
     "name": "stderr",
     "output_type": "stream",
     "text": [
      "302it [00:42,  7.11it/s]"
     ]
    },
    {
     "name": "stdout",
     "output_type": "stream",
     "text": [
      "Epoch: [16]  [ 300/2437]  eta: 0:04:57  lr: 0.000500  loss: 0.9131 (1.1079)  bbox_regression: 0.2004 (0.2160)  classification: 0.7012 (0.8920)  time: 0.1368  data: 0.0408  max mem: 1104\n"
     ]
    },
    {
     "name": "stderr",
     "output_type": "stream",
     "text": [
      "402it [00:55,  7.10it/s]"
     ]
    },
    {
     "name": "stdout",
     "output_type": "stream",
     "text": [
      "Epoch: [16]  [ 400/2437]  eta: 0:04:43  lr: 0.000500  loss: 1.0161 (1.1223)  bbox_regression: 0.1857 (0.2211)  classification: 0.7571 (0.9011)  time: 0.1386  data: 0.0418  max mem: 1104\n"
     ]
    },
    {
     "name": "stderr",
     "output_type": "stream",
     "text": [
      "502it [01:09,  7.03it/s]"
     ]
    },
    {
     "name": "stdout",
     "output_type": "stream",
     "text": [
      "Epoch: [16]  [ 500/2437]  eta: 0:04:29  lr: 0.000500  loss: 1.0531 (1.1131)  bbox_regression: 0.2197 (0.2213)  classification: 0.8569 (0.8918)  time: 0.1388  data: 0.0406  max mem: 1104\n"
     ]
    },
    {
     "name": "stderr",
     "output_type": "stream",
     "text": [
      "602it [01:23,  7.25it/s]"
     ]
    },
    {
     "name": "stdout",
     "output_type": "stream",
     "text": [
      "Epoch: [16]  [ 600/2437]  eta: 0:04:15  lr: 0.000500  loss: 0.9610 (1.1072)  bbox_regression: 0.1948 (0.2206)  classification: 0.7276 (0.8866)  time: 0.1384  data: 0.0405  max mem: 1104\n"
     ]
    },
    {
     "name": "stderr",
     "output_type": "stream",
     "text": [
      "702it [01:37,  7.28it/s]"
     ]
    },
    {
     "name": "stdout",
     "output_type": "stream",
     "text": [
      "Epoch: [16]  [ 700/2437]  eta: 0:04:01  lr: 0.000500  loss: 0.9621 (1.1075)  bbox_regression: 0.2162 (0.2225)  classification: 0.7421 (0.8850)  time: 0.1398  data: 0.0420  max mem: 1104\n"
     ]
    },
    {
     "name": "stderr",
     "output_type": "stream",
     "text": [
      "802it [01:51,  7.26it/s]"
     ]
    },
    {
     "name": "stdout",
     "output_type": "stream",
     "text": [
      "Epoch: [16]  [ 800/2437]  eta: 0:03:47  lr: 0.000500  loss: 0.9648 (1.1028)  bbox_regression: 0.1801 (0.2220)  classification: 0.7220 (0.8807)  time: 0.1372  data: 0.0401  max mem: 1104\n"
     ]
    },
    {
     "name": "stderr",
     "output_type": "stream",
     "text": [
      "902it [02:05,  7.21it/s]"
     ]
    },
    {
     "name": "stdout",
     "output_type": "stream",
     "text": [
      "Epoch: [16]  [ 900/2437]  eta: 0:03:33  lr: 0.000500  loss: 0.8451 (1.0987)  bbox_regression: 0.1942 (0.2222)  classification: 0.6905 (0.8765)  time: 0.1405  data: 0.0411  max mem: 1104\n"
     ]
    },
    {
     "name": "stderr",
     "output_type": "stream",
     "text": [
      "1002it [02:19,  7.08it/s]"
     ]
    },
    {
     "name": "stdout",
     "output_type": "stream",
     "text": [
      "Epoch: [16]  [1000/2437]  eta: 0:03:19  lr: 0.000500  loss: 1.0029 (1.0959)  bbox_regression: 0.2097 (0.2206)  classification: 0.7874 (0.8754)  time: 0.1397  data: 0.0425  max mem: 1104\n"
     ]
    },
    {
     "name": "stderr",
     "output_type": "stream",
     "text": [
      "1102it [02:33,  7.22it/s]"
     ]
    },
    {
     "name": "stdout",
     "output_type": "stream",
     "text": [
      "Epoch: [16]  [1100/2437]  eta: 0:03:05  lr: 0.000500  loss: 1.0535 (1.0948)  bbox_regression: 0.1916 (0.2194)  classification: 0.8818 (0.8754)  time: 0.1409  data: 0.0433  max mem: 1104\n"
     ]
    },
    {
     "name": "stderr",
     "output_type": "stream",
     "text": [
      "1202it [02:47,  7.04it/s]"
     ]
    },
    {
     "name": "stdout",
     "output_type": "stream",
     "text": [
      "Epoch: [16]  [1200/2437]  eta: 0:02:51  lr: 0.000500  loss: 1.0406 (1.0934)  bbox_regression: 0.2186 (0.2198)  classification: 0.7656 (0.8736)  time: 0.1387  data: 0.0410  max mem: 1104\n"
     ]
    },
    {
     "name": "stderr",
     "output_type": "stream",
     "text": [
      "1302it [03:01,  7.28it/s]"
     ]
    },
    {
     "name": "stdout",
     "output_type": "stream",
     "text": [
      "Epoch: [16]  [1300/2437]  eta: 0:02:38  lr: 0.000500  loss: 0.9613 (1.1011)  bbox_regression: 0.2059 (0.2211)  classification: 0.7301 (0.8801)  time: 0.1387  data: 0.0401  max mem: 1104\n"
     ]
    },
    {
     "name": "stderr",
     "output_type": "stream",
     "text": [
      "1402it [03:14,  7.28it/s]"
     ]
    },
    {
     "name": "stdout",
     "output_type": "stream",
     "text": [
      "Epoch: [16]  [1400/2437]  eta: 0:02:24  lr: 0.000500  loss: 0.9660 (1.1004)  bbox_regression: 0.1828 (0.2206)  classification: 0.7632 (0.8798)  time: 0.1386  data: 0.0416  max mem: 1104\n"
     ]
    },
    {
     "name": "stderr",
     "output_type": "stream",
     "text": [
      "1502it [03:28,  7.15it/s]"
     ]
    },
    {
     "name": "stdout",
     "output_type": "stream",
     "text": [
      "Epoch: [16]  [1500/2437]  eta: 0:02:10  lr: 0.000500  loss: 0.9175 (1.1017)  bbox_regression: 0.2009 (0.2203)  classification: 0.7456 (0.8814)  time: 0.1381  data: 0.0410  max mem: 1104\n"
     ]
    },
    {
     "name": "stderr",
     "output_type": "stream",
     "text": [
      "1602it [03:42,  7.00it/s]"
     ]
    },
    {
     "name": "stdout",
     "output_type": "stream",
     "text": [
      "Epoch: [16]  [1600/2437]  eta: 0:01:56  lr: 0.000500  loss: 1.1742 (1.1023)  bbox_regression: 0.2534 (0.2216)  classification: 0.8751 (0.8806)  time: 0.1386  data: 0.0419  max mem: 1104\n"
     ]
    },
    {
     "name": "stderr",
     "output_type": "stream",
     "text": [
      "1702it [03:56,  7.12it/s]"
     ]
    },
    {
     "name": "stdout",
     "output_type": "stream",
     "text": [
      "Epoch: [16]  [1700/2437]  eta: 0:01:42  lr: 0.000500  loss: 0.8927 (1.1044)  bbox_regression: 0.2145 (0.2215)  classification: 0.6749 (0.8828)  time: 0.1366  data: 0.0398  max mem: 1104\n"
     ]
    },
    {
     "name": "stderr",
     "output_type": "stream",
     "text": [
      "1802it [04:10,  7.23it/s]"
     ]
    },
    {
     "name": "stdout",
     "output_type": "stream",
     "text": [
      "Epoch: [16]  [1800/2437]  eta: 0:01:28  lr: 0.000500  loss: 1.0480 (1.1053)  bbox_regression: 0.2049 (0.2227)  classification: 0.8601 (0.8826)  time: 0.1357  data: 0.0403  max mem: 1104\n"
     ]
    },
    {
     "name": "stderr",
     "output_type": "stream",
     "text": [
      "1902it [04:23,  7.37it/s]"
     ]
    },
    {
     "name": "stdout",
     "output_type": "stream",
     "text": [
      "Epoch: [16]  [1900/2437]  eta: 0:01:14  lr: 0.000500  loss: 0.7804 (1.1077)  bbox_regression: 0.1808 (0.2234)  classification: 0.6234 (0.8842)  time: 0.1385  data: 0.0423  max mem: 1104\n"
     ]
    },
    {
     "name": "stderr",
     "output_type": "stream",
     "text": [
      "2002it [04:37,  7.23it/s]"
     ]
    },
    {
     "name": "stdout",
     "output_type": "stream",
     "text": [
      "Epoch: [16]  [2000/2437]  eta: 0:01:00  lr: 0.000500  loss: 1.1036 (1.1102)  bbox_regression: 0.2504 (0.2238)  classification: 0.8532 (0.8864)  time: 0.1384  data: 0.0411  max mem: 1104\n"
     ]
    },
    {
     "name": "stderr",
     "output_type": "stream",
     "text": [
      "2102it [04:51,  7.21it/s]"
     ]
    },
    {
     "name": "stdout",
     "output_type": "stream",
     "text": [
      "Epoch: [16]  [2100/2437]  eta: 0:00:46  lr: 0.000500  loss: 1.1642 (1.1112)  bbox_regression: 0.2142 (0.2234)  classification: 0.8845 (0.8878)  time: 0.1413  data: 0.0425  max mem: 1104\n"
     ]
    },
    {
     "name": "stderr",
     "output_type": "stream",
     "text": [
      "2202it [05:05,  7.20it/s]"
     ]
    },
    {
     "name": "stdout",
     "output_type": "stream",
     "text": [
      "Epoch: [16]  [2200/2437]  eta: 0:00:32  lr: 0.000500  loss: 1.0275 (1.1115)  bbox_regression: 0.2089 (0.2234)  classification: 0.8181 (0.8882)  time: 0.1403  data: 0.0429  max mem: 1104\n"
     ]
    },
    {
     "name": "stderr",
     "output_type": "stream",
     "text": [
      "2302it [05:19,  7.02it/s]"
     ]
    },
    {
     "name": "stdout",
     "output_type": "stream",
     "text": [
      "Epoch: [16]  [2300/2437]  eta: 0:00:19  lr: 0.000500  loss: 0.8681 (1.1101)  bbox_regression: 0.2052 (0.2236)  classification: 0.7333 (0.8865)  time: 0.1386  data: 0.0408  max mem: 1104\n"
     ]
    },
    {
     "name": "stderr",
     "output_type": "stream",
     "text": [
      "2402it [05:33,  7.29it/s]"
     ]
    },
    {
     "name": "stdout",
     "output_type": "stream",
     "text": [
      "Epoch: [16]  [2400/2437]  eta: 0:00:05  lr: 0.000500  loss: 1.0489 (1.1105)  bbox_regression: 0.2053 (0.2233)  classification: 0.8696 (0.8872)  time: 0.1394  data: 0.0414  max mem: 1104\n"
     ]
    },
    {
     "name": "stderr",
     "output_type": "stream",
     "text": [
      "2437it [05:38,  7.20it/s]\n"
     ]
    },
    {
     "name": "stdout",
     "output_type": "stream",
     "text": [
      "Epoch: [16]  [2436/2437]  eta: 0:00:00  lr: 0.000500  loss: 0.9570 (1.1091)  bbox_regression: 0.1985 (0.2231)  classification: 0.7424 (0.8859)  time: 0.1346  data: 0.0399  max mem: 1104\n",
      "flag\n",
      "Epoch: [16] Total time: 0:05:38 (0.1389 s / it)\n",
      "saved dict\n",
      "creating index...\n",
      "index created!\n",
      "<torch.utils.data.dataloader.DataLoader object at 0x0000024C1147B310>\n",
      "Test:  [  0/100]  eta: 0:00:03  model_time: 0.0204 (0.0204)  evaluator_time: 0.0010 (0.0010)  time: 0.0344  data: 0.0130  max mem: 1104\n",
      "Test:  [ 99/100]  eta: 0:00:00  model_time: 0.0283 (0.0265)  evaluator_time: 0.0000 (0.0006)  time: 0.0437  data: 0.0123  max mem: 1104\n",
      "flag\n",
      "Test: Total time: 0:00:04 (0.0405 s / it)\n",
      "Averaged stats: model_time: 0.0283 (0.0265)  evaluator_time: 0.0000 (0.0006)\n",
      "Accumulating evaluation results...\n",
      "DONE (t=0.01s).\n",
      "IoU metric: bbox\n",
      " Average Precision  (AP) @[ IoU=0.50:0.95 | area=   all | maxDets=100 ] = 0.706\n",
      " Average Precision  (AP) @[ IoU=0.50      | area=   all | maxDets=100 ] = 0.919\n",
      " Average Precision  (AP) @[ IoU=0.75      | area=   all | maxDets=100 ] = 0.886\n",
      " Average Precision  (AP) @[ IoU=0.50:0.95 | area= small | maxDets=100 ] = -1.000\n",
      " Average Precision  (AP) @[ IoU=0.50:0.95 | area=medium | maxDets=100 ] = 0.000\n",
      " Average Precision  (AP) @[ IoU=0.50:0.95 | area= large | maxDets=100 ] = 0.709\n",
      " Average Recall     (AR) @[ IoU=0.50:0.95 | area=   all | maxDets=  1 ] = 0.750\n",
      " Average Recall     (AR) @[ IoU=0.50:0.95 | area=   all | maxDets= 10 ] = 0.758\n",
      " Average Recall     (AR) @[ IoU=0.50:0.95 | area=   all | maxDets=100 ] = 0.758\n",
      " Average Recall     (AR) @[ IoU=0.50:0.95 | area= small | maxDets=100 ] = -1.000\n",
      " Average Recall     (AR) @[ IoU=0.50:0.95 | area=medium | maxDets=100 ] = 0.000\n",
      " Average Recall     (AR) @[ IoU=0.50:0.95 | area= large | maxDets=100 ] = 0.762\n",
      "creating index...\n",
      "index created!\n",
      "<torch.utils.data.dataloader.DataLoader object at 0x0000024C1147A470>\n",
      "Test:  [  0/100]  eta: 0:00:05  model_time: 0.0380 (0.0380)  evaluator_time: 0.0010 (0.0010)  time: 0.0520  data: 0.0130  max mem: 1104\n",
      "Test:  [ 99/100]  eta: 0:00:00  model_time: 0.0310 (0.0324)  evaluator_time: 0.0010 (0.0006)  time: 0.0462  data: 0.0121  max mem: 1104\n",
      "flag\n",
      "Test: Total time: 0:00:04 (0.0465 s / it)\n",
      "Averaged stats: model_time: 0.0310 (0.0324)  evaluator_time: 0.0010 (0.0006)\n",
      "Accumulating evaluation results...\n",
      "DONE (t=0.02s).\n",
      "IoU metric: bbox\n",
      " Average Precision  (AP) @[ IoU=0.50:0.95 | area=   all | maxDets=100 ] = 0.408\n",
      " Average Precision  (AP) @[ IoU=0.50      | area=   all | maxDets=100 ] = 0.613\n",
      " Average Precision  (AP) @[ IoU=0.75      | area=   all | maxDets=100 ] = 0.442\n",
      " Average Precision  (AP) @[ IoU=0.50:0.95 | area= small | maxDets=100 ] = -1.000\n",
      " Average Precision  (AP) @[ IoU=0.50:0.95 | area=medium | maxDets=100 ] = -1.000\n",
      " Average Precision  (AP) @[ IoU=0.50:0.95 | area= large | maxDets=100 ] = 0.408\n",
      " Average Recall     (AR) @[ IoU=0.50:0.95 | area=   all | maxDets=  1 ] = 0.535\n",
      " Average Recall     (AR) @[ IoU=0.50:0.95 | area=   all | maxDets= 10 ] = 0.552\n",
      " Average Recall     (AR) @[ IoU=0.50:0.95 | area=   all | maxDets=100 ] = 0.552\n",
      " Average Recall     (AR) @[ IoU=0.50:0.95 | area= small | maxDets=100 ] = -1.000\n",
      " Average Recall     (AR) @[ IoU=0.50:0.95 | area=medium | maxDets=100 ] = -1.000\n",
      " Average Recall     (AR) @[ IoU=0.50:0.95 | area= large | maxDets=100 ] = 0.552\n"
     ]
    },
    {
     "name": "stderr",
     "output_type": "stream",
     "text": [
      "0it [00:00, ?it/s]"
     ]
    },
    {
     "name": "stdout",
     "output_type": "stream",
     "text": [
      "<torch.utils.data.dataloader.DataLoader object at 0x0000024C1147A620>\n"
     ]
    },
    {
     "name": "stderr",
     "output_type": "stream",
     "text": [
      "2it [00:00,  5.07it/s]"
     ]
    },
    {
     "name": "stdout",
     "output_type": "stream",
     "text": [
      "Epoch: [17]  [   0/2437]  eta: 0:09:37  lr: 0.000500  loss: 1.4806 (1.4806)  bbox_regression: 0.2165 (0.2165)  classification: 1.2641 (1.2641)  time: 0.2368  data: 0.0441  max mem: 1104\n"
     ]
    },
    {
     "name": "stderr",
     "output_type": "stream",
     "text": [
      "102it [00:14,  7.11it/s]"
     ]
    },
    {
     "name": "stdout",
     "output_type": "stream",
     "text": [
      "Epoch: [17]  [ 100/2437]  eta: 0:05:26  lr: 0.000500  loss: 0.8918 (1.0357)  bbox_regression: 0.1952 (0.2249)  classification: 0.7306 (0.8109)  time: 0.1388  data: 0.0415  max mem: 1104\n"
     ]
    },
    {
     "name": "stderr",
     "output_type": "stream",
     "text": [
      "202it [00:28,  7.10it/s]"
     ]
    },
    {
     "name": "stdout",
     "output_type": "stream",
     "text": [
      "Epoch: [17]  [ 200/2437]  eta: 0:05:12  lr: 0.000500  loss: 0.7790 (1.0253)  bbox_regression: 0.1764 (0.2155)  classification: 0.6214 (0.8098)  time: 0.1401  data: 0.0413  max mem: 1104\n"
     ]
    },
    {
     "name": "stderr",
     "output_type": "stream",
     "text": [
      "302it [00:42,  7.17it/s]"
     ]
    },
    {
     "name": "stdout",
     "output_type": "stream",
     "text": [
      "Epoch: [17]  [ 300/2437]  eta: 0:04:58  lr: 0.000500  loss: 0.9141 (1.0272)  bbox_regression: 0.1860 (0.2113)  classification: 0.7465 (0.8159)  time: 0.1408  data: 0.0427  max mem: 1104\n"
     ]
    },
    {
     "name": "stderr",
     "output_type": "stream",
     "text": [
      "402it [00:56,  7.16it/s]"
     ]
    },
    {
     "name": "stdout",
     "output_type": "stream",
     "text": [
      "Epoch: [17]  [ 400/2437]  eta: 0:04:45  lr: 0.000500  loss: 0.8630 (1.0180)  bbox_regression: 0.1760 (0.2103)  classification: 0.7021 (0.8078)  time: 0.1403  data: 0.0410  max mem: 1104\n"
     ]
    },
    {
     "name": "stderr",
     "output_type": "stream",
     "text": [
      "502it [01:10,  7.24it/s]"
     ]
    },
    {
     "name": "stdout",
     "output_type": "stream",
     "text": [
      "Epoch: [17]  [ 500/2437]  eta: 0:04:31  lr: 0.000500  loss: 0.9421 (1.0196)  bbox_regression: 0.1766 (0.2117)  classification: 0.7580 (0.8080)  time: 0.1373  data: 0.0404  max mem: 1104\n"
     ]
    },
    {
     "name": "stderr",
     "output_type": "stream",
     "text": [
      "602it [01:24,  7.23it/s]"
     ]
    },
    {
     "name": "stdout",
     "output_type": "stream",
     "text": [
      "Epoch: [17]  [ 600/2437]  eta: 0:04:17  lr: 0.000500  loss: 0.9934 (1.0153)  bbox_regression: 0.1830 (0.2104)  classification: 0.7896 (0.8048)  time: 0.1450  data: 0.0479  max mem: 1104\n"
     ]
    },
    {
     "name": "stderr",
     "output_type": "stream",
     "text": [
      "702it [01:38,  7.21it/s]"
     ]
    },
    {
     "name": "stdout",
     "output_type": "stream",
     "text": [
      "Epoch: [17]  [ 700/2437]  eta: 0:04:03  lr: 0.000500  loss: 1.0061 (1.0079)  bbox_regression: 0.2145 (0.2086)  classification: 0.7844 (0.7992)  time: 0.1383  data: 0.0420  max mem: 1104\n"
     ]
    },
    {
     "name": "stderr",
     "output_type": "stream",
     "text": [
      "802it [01:52,  7.31it/s]"
     ]
    },
    {
     "name": "stdout",
     "output_type": "stream",
     "text": [
      "Epoch: [17]  [ 800/2437]  eta: 0:03:48  lr: 0.000500  loss: 0.9596 (1.0084)  bbox_regression: 0.2104 (0.2085)  classification: 0.7209 (0.8000)  time: 0.1371  data: 0.0405  max mem: 1104\n"
     ]
    },
    {
     "name": "stderr",
     "output_type": "stream",
     "text": [
      "902it [02:05,  7.34it/s]"
     ]
    },
    {
     "name": "stdout",
     "output_type": "stream",
     "text": [
      "Epoch: [17]  [ 900/2437]  eta: 0:03:34  lr: 0.000500  loss: 0.8565 (1.0058)  bbox_regression: 0.1969 (0.2083)  classification: 0.6454 (0.7976)  time: 0.1388  data: 0.0410  max mem: 1104\n"
     ]
    },
    {
     "name": "stderr",
     "output_type": "stream",
     "text": [
      "1002it [02:19,  7.23it/s]"
     ]
    },
    {
     "name": "stdout",
     "output_type": "stream",
     "text": [
      "Epoch: [17]  [1000/2437]  eta: 0:03:20  lr: 0.000500  loss: 1.1984 (1.0140)  bbox_regression: 0.2061 (0.2102)  classification: 0.8604 (0.8038)  time: 0.1366  data: 0.0409  max mem: 1104\n"
     ]
    },
    {
     "name": "stderr",
     "output_type": "stream",
     "text": [
      "1102it [02:33,  7.14it/s]"
     ]
    },
    {
     "name": "stdout",
     "output_type": "stream",
     "text": [
      "Epoch: [17]  [1100/2437]  eta: 0:03:06  lr: 0.000500  loss: 0.7933 (1.0135)  bbox_regression: 0.1508 (0.2110)  classification: 0.6617 (0.8025)  time: 0.1391  data: 0.0416  max mem: 1104\n"
     ]
    },
    {
     "name": "stderr",
     "output_type": "stream",
     "text": [
      "1202it [02:47,  7.17it/s]"
     ]
    },
    {
     "name": "stdout",
     "output_type": "stream",
     "text": [
      "Epoch: [17]  [1200/2437]  eta: 0:02:52  lr: 0.000500  loss: 0.9105 (1.0125)  bbox_regression: 0.1805 (0.2113)  classification: 0.7279 (0.8011)  time: 0.1398  data: 0.0433  max mem: 1104\n"
     ]
    },
    {
     "name": "stderr",
     "output_type": "stream",
     "text": [
      "1302it [03:01,  7.09it/s]"
     ]
    },
    {
     "name": "stdout",
     "output_type": "stream",
     "text": [
      "Epoch: [17]  [1300/2437]  eta: 0:02:38  lr: 0.000500  loss: 0.8881 (1.0087)  bbox_regression: 0.1703 (0.2109)  classification: 0.6955 (0.7978)  time: 0.1387  data: 0.0412  max mem: 1104\n"
     ]
    },
    {
     "name": "stderr",
     "output_type": "stream",
     "text": [
      "1402it [03:15,  7.36it/s]"
     ]
    },
    {
     "name": "stdout",
     "output_type": "stream",
     "text": [
      "Epoch: [17]  [1400/2437]  eta: 0:02:24  lr: 0.000500  loss: 1.0100 (1.0126)  bbox_regression: 0.1978 (0.2115)  classification: 0.7074 (0.8011)  time: 0.1375  data: 0.0407  max mem: 1104\n"
     ]
    },
    {
     "name": "stderr",
     "output_type": "stream",
     "text": [
      "1502it [03:28,  7.17it/s]"
     ]
    },
    {
     "name": "stdout",
     "output_type": "stream",
     "text": [
      "Epoch: [17]  [1500/2437]  eta: 0:02:10  lr: 0.000500  loss: 0.8346 (1.0137)  bbox_regression: 0.1935 (0.2126)  classification: 0.6412 (0.8010)  time: 0.1390  data: 0.0410  max mem: 1104\n"
     ]
    },
    {
     "name": "stderr",
     "output_type": "stream",
     "text": [
      "1602it [03:42,  7.19it/s]"
     ]
    },
    {
     "name": "stdout",
     "output_type": "stream",
     "text": [
      "Epoch: [17]  [1600/2437]  eta: 0:01:56  lr: 0.000500  loss: 1.0935 (1.0147)  bbox_regression: 0.1735 (0.2118)  classification: 0.8931 (0.8029)  time: 0.1370  data: 0.0416  max mem: 1104\n"
     ]
    },
    {
     "name": "stderr",
     "output_type": "stream",
     "text": [
      "1702it [03:56,  7.36it/s]"
     ]
    },
    {
     "name": "stdout",
     "output_type": "stream",
     "text": [
      "Epoch: [17]  [1700/2437]  eta: 0:01:42  lr: 0.000500  loss: 0.8945 (1.0155)  bbox_regression: 0.2078 (0.2115)  classification: 0.6806 (0.8040)  time: 0.1376  data: 0.0405  max mem: 1104\n"
     ]
    },
    {
     "name": "stderr",
     "output_type": "stream",
     "text": [
      "1802it [04:10,  7.41it/s]"
     ]
    },
    {
     "name": "stdout",
     "output_type": "stream",
     "text": [
      "Epoch: [17]  [1800/2437]  eta: 0:01:28  lr: 0.000500  loss: 1.0248 (1.0157)  bbox_regression: 0.1786 (0.2116)  classification: 0.8835 (0.8041)  time: 0.1367  data: 0.0413  max mem: 1104\n"
     ]
    },
    {
     "name": "stderr",
     "output_type": "stream",
     "text": [
      "1902it [04:24,  6.99it/s]"
     ]
    },
    {
     "name": "stdout",
     "output_type": "stream",
     "text": [
      "Epoch: [17]  [1900/2437]  eta: 0:01:14  lr: 0.000500  loss: 0.8985 (1.0235)  bbox_regression: 0.1878 (0.2125)  classification: 0.7354 (0.8110)  time: 0.1378  data: 0.0407  max mem: 1104\n"
     ]
    },
    {
     "name": "stderr",
     "output_type": "stream",
     "text": [
      "2002it [04:38,  7.09it/s]"
     ]
    },
    {
     "name": "stdout",
     "output_type": "stream",
     "text": [
      "Epoch: [17]  [2000/2437]  eta: 0:01:00  lr: 0.000500  loss: 0.9344 (1.0259)  bbox_regression: 0.1805 (0.2126)  classification: 0.7318 (0.8133)  time: 0.1388  data: 0.0420  max mem: 1104\n"
     ]
    },
    {
     "name": "stderr",
     "output_type": "stream",
     "text": [
      "2102it [04:51,  7.23it/s]"
     ]
    },
    {
     "name": "stdout",
     "output_type": "stream",
     "text": [
      "Epoch: [17]  [2100/2437]  eta: 0:00:46  lr: 0.000500  loss: 0.8663 (1.0287)  bbox_regression: 0.1942 (0.2132)  classification: 0.6664 (0.8154)  time: 0.1386  data: 0.0419  max mem: 1104\n"
     ]
    },
    {
     "name": "stderr",
     "output_type": "stream",
     "text": [
      "2202it [05:06,  7.18it/s]"
     ]
    },
    {
     "name": "stdout",
     "output_type": "stream",
     "text": [
      "Epoch: [17]  [2200/2437]  eta: 0:00:32  lr: 0.000500  loss: 1.0054 (1.0273)  bbox_regression: 0.2163 (0.2128)  classification: 0.7841 (0.8145)  time: 0.1517  data: 0.0426  max mem: 1104\n"
     ]
    },
    {
     "name": "stderr",
     "output_type": "stream",
     "text": [
      "2302it [05:20,  7.29it/s]"
     ]
    },
    {
     "name": "stdout",
     "output_type": "stream",
     "text": [
      "Epoch: [17]  [2300/2437]  eta: 0:00:19  lr: 0.000500  loss: 1.0236 (1.0325)  bbox_regression: 0.2307 (0.2142)  classification: 0.7595 (0.8183)  time: 0.1400  data: 0.0420  max mem: 1104\n"
     ]
    },
    {
     "name": "stderr",
     "output_type": "stream",
     "text": [
      "2402it [05:34,  7.09it/s]"
     ]
    },
    {
     "name": "stdout",
     "output_type": "stream",
     "text": [
      "Epoch: [17]  [2400/2437]  eta: 0:00:05  lr: 0.000500  loss: 0.7836 (1.0328)  bbox_regression: 0.1853 (0.2141)  classification: 0.5810 (0.8187)  time: 0.1370  data: 0.0401  max mem: 1104\n"
     ]
    },
    {
     "name": "stderr",
     "output_type": "stream",
     "text": [
      "2437it [05:39,  7.18it/s]\n"
     ]
    },
    {
     "name": "stdout",
     "output_type": "stream",
     "text": [
      "Epoch: [17]  [2436/2437]  eta: 0:00:00  lr: 0.000500  loss: 0.7982 (1.0335)  bbox_regression: 0.1827 (0.2144)  classification: 0.6759 (0.8191)  time: 0.1366  data: 0.0409  max mem: 1104\n",
      "flag\n",
      "Epoch: [17] Total time: 0:05:39 (0.1393 s / it)\n",
      "saved dict\n",
      "creating index...\n",
      "index created!\n",
      "<torch.utils.data.dataloader.DataLoader object at 0x0000024C1147B310>\n",
      "Test:  [  0/100]  eta: 0:00:03  model_time: 0.0200 (0.0200)  evaluator_time: 0.0000 (0.0000)  time: 0.0330  data: 0.0120  max mem: 1104\n",
      "Test:  [ 99/100]  eta: 0:00:00  model_time: 0.0280 (0.0269)  evaluator_time: 0.0000 (0.0006)  time: 0.0424  data: 0.0125  max mem: 1104\n",
      "flag\n",
      "Test: Total time: 0:00:04 (0.0408 s / it)\n",
      "Averaged stats: model_time: 0.0280 (0.0269)  evaluator_time: 0.0000 (0.0006)\n",
      "Accumulating evaluation results...\n",
      "DONE (t=0.01s).\n",
      "IoU metric: bbox\n",
      " Average Precision  (AP) @[ IoU=0.50:0.95 | area=   all | maxDets=100 ] = 0.722\n",
      " Average Precision  (AP) @[ IoU=0.50      | area=   all | maxDets=100 ] = 0.920\n",
      " Average Precision  (AP) @[ IoU=0.75      | area=   all | maxDets=100 ] = 0.902\n",
      " Average Precision  (AP) @[ IoU=0.50:0.95 | area= small | maxDets=100 ] = -1.000\n",
      " Average Precision  (AP) @[ IoU=0.50:0.95 | area=medium | maxDets=100 ] = 0.000\n",
      " Average Precision  (AP) @[ IoU=0.50:0.95 | area= large | maxDets=100 ] = 0.725\n",
      " Average Recall     (AR) @[ IoU=0.50:0.95 | area=   all | maxDets=  1 ] = 0.769\n",
      " Average Recall     (AR) @[ IoU=0.50:0.95 | area=   all | maxDets= 10 ] = 0.778\n",
      " Average Recall     (AR) @[ IoU=0.50:0.95 | area=   all | maxDets=100 ] = 0.778\n",
      " Average Recall     (AR) @[ IoU=0.50:0.95 | area= small | maxDets=100 ] = -1.000\n",
      " Average Recall     (AR) @[ IoU=0.50:0.95 | area=medium | maxDets=100 ] = 0.000\n",
      " Average Recall     (AR) @[ IoU=0.50:0.95 | area= large | maxDets=100 ] = 0.781\n",
      "creating index...\n",
      "index created!\n",
      "<torch.utils.data.dataloader.DataLoader object at 0x0000024C1147A470>\n",
      "Test:  [  0/100]  eta: 0:00:04  model_time: 0.0360 (0.0360)  evaluator_time: 0.0000 (0.0000)  time: 0.0490  data: 0.0120  max mem: 1104\n",
      "Test:  [ 99/100]  eta: 0:00:00  model_time: 0.0303 (0.0336)  evaluator_time: 0.0000 (0.0006)  time: 0.0453  data: 0.0130  max mem: 1104\n",
      "flag\n",
      "Test: Total time: 0:00:04 (0.0486 s / it)\n",
      "Averaged stats: model_time: 0.0303 (0.0336)  evaluator_time: 0.0000 (0.0006)\n",
      "Accumulating evaluation results...\n",
      "DONE (t=0.03s).\n",
      "IoU metric: bbox\n",
      " Average Precision  (AP) @[ IoU=0.50:0.95 | area=   all | maxDets=100 ] = 0.391\n",
      " Average Precision  (AP) @[ IoU=0.50      | area=   all | maxDets=100 ] = 0.585\n",
      " Average Precision  (AP) @[ IoU=0.75      | area=   all | maxDets=100 ] = 0.447\n",
      " Average Precision  (AP) @[ IoU=0.50:0.95 | area= small | maxDets=100 ] = -1.000\n",
      " Average Precision  (AP) @[ IoU=0.50:0.95 | area=medium | maxDets=100 ] = -1.000\n",
      " Average Precision  (AP) @[ IoU=0.50:0.95 | area= large | maxDets=100 ] = 0.391\n",
      " Average Recall     (AR) @[ IoU=0.50:0.95 | area=   all | maxDets=  1 ] = 0.528\n",
      " Average Recall     (AR) @[ IoU=0.50:0.95 | area=   all | maxDets= 10 ] = 0.546\n",
      " Average Recall     (AR) @[ IoU=0.50:0.95 | area=   all | maxDets=100 ] = 0.546\n",
      " Average Recall     (AR) @[ IoU=0.50:0.95 | area= small | maxDets=100 ] = -1.000\n",
      " Average Recall     (AR) @[ IoU=0.50:0.95 | area=medium | maxDets=100 ] = -1.000\n",
      " Average Recall     (AR) @[ IoU=0.50:0.95 | area= large | maxDets=100 ] = 0.546\n"
     ]
    },
    {
     "name": "stderr",
     "output_type": "stream",
     "text": [
      "0it [00:00, ?it/s]"
     ]
    },
    {
     "name": "stdout",
     "output_type": "stream",
     "text": [
      "<torch.utils.data.dataloader.DataLoader object at 0x0000024C1147A620>\n"
     ]
    },
    {
     "name": "stderr",
     "output_type": "stream",
     "text": [
      "2it [00:00,  5.28it/s]"
     ]
    },
    {
     "name": "stdout",
     "output_type": "stream",
     "text": [
      "Epoch: [18]  [   0/2437]  eta: 0:09:29  lr: 0.000500  loss: 1.0774 (1.0774)  bbox_regression: 0.1856 (0.1856)  classification: 0.8918 (0.8918)  time: 0.2338  data: 0.0535  max mem: 1104\n"
     ]
    },
    {
     "name": "stderr",
     "output_type": "stream",
     "text": [
      "102it [00:14,  7.19it/s]"
     ]
    },
    {
     "name": "stdout",
     "output_type": "stream",
     "text": [
      "Epoch: [18]  [ 100/2437]  eta: 0:05:30  lr: 0.000500  loss: 0.9101 (0.9505)  bbox_regression: 0.1805 (0.2022)  classification: 0.6733 (0.7483)  time: 0.1378  data: 0.0418  max mem: 1104\n"
     ]
    },
    {
     "name": "stderr",
     "output_type": "stream",
     "text": [
      "202it [00:28,  7.20it/s]"
     ]
    },
    {
     "name": "stdout",
     "output_type": "stream",
     "text": [
      "Epoch: [18]  [ 200/2437]  eta: 0:05:13  lr: 0.000500  loss: 0.8007 (0.9323)  bbox_regression: 0.1904 (0.2013)  classification: 0.5894 (0.7310)  time: 0.1428  data: 0.0429  max mem: 1104\n"
     ]
    },
    {
     "name": "stderr",
     "output_type": "stream",
     "text": [
      "302it [00:42,  7.33it/s]"
     ]
    },
    {
     "name": "stdout",
     "output_type": "stream",
     "text": [
      "Epoch: [18]  [ 300/2437]  eta: 0:04:58  lr: 0.000500  loss: 1.0109 (0.9512)  bbox_regression: 0.2259 (0.2041)  classification: 0.6944 (0.7471)  time: 0.1382  data: 0.0400  max mem: 1104\n"
     ]
    },
    {
     "name": "stderr",
     "output_type": "stream",
     "text": [
      "402it [00:56,  7.05it/s]"
     ]
    },
    {
     "name": "stdout",
     "output_type": "stream",
     "text": [
      "Epoch: [18]  [ 400/2437]  eta: 0:04:44  lr: 0.000500  loss: 0.8364 (0.9507)  bbox_regression: 0.1793 (0.2050)  classification: 0.6205 (0.7457)  time: 0.1396  data: 0.0431  max mem: 1104\n"
     ]
    },
    {
     "name": "stderr",
     "output_type": "stream",
     "text": [
      "502it [01:09,  7.22it/s]"
     ]
    },
    {
     "name": "stdout",
     "output_type": "stream",
     "text": [
      "Epoch: [18]  [ 500/2437]  eta: 0:04:29  lr: 0.000500  loss: 1.0052 (0.9474)  bbox_regression: 0.1785 (0.2029)  classification: 0.8070 (0.7445)  time: 0.1384  data: 0.0426  max mem: 1104\n"
     ]
    },
    {
     "name": "stderr",
     "output_type": "stream",
     "text": [
      "602it [01:24,  6.74it/s]"
     ]
    },
    {
     "name": "stdout",
     "output_type": "stream",
     "text": [
      "Epoch: [18]  [ 600/2437]  eta: 0:04:18  lr: 0.000500  loss: 0.7784 (0.9361)  bbox_regression: 0.1562 (0.1993)  classification: 0.5919 (0.7368)  time: 0.1489  data: 0.0425  max mem: 1104\n"
     ]
    },
    {
     "name": "stderr",
     "output_type": "stream",
     "text": [
      "702it [01:38,  7.02it/s]"
     ]
    },
    {
     "name": "stdout",
     "output_type": "stream",
     "text": [
      "Epoch: [18]  [ 700/2437]  eta: 0:04:03  lr: 0.000500  loss: 0.6870 (0.9345)  bbox_regression: 0.1574 (0.1990)  classification: 0.5246 (0.7355)  time: 0.1425  data: 0.0462  max mem: 1104\n"
     ]
    },
    {
     "name": "stderr",
     "output_type": "stream",
     "text": [
      "802it [01:52,  7.27it/s]"
     ]
    },
    {
     "name": "stdout",
     "output_type": "stream",
     "text": [
      "Epoch: [18]  [ 800/2437]  eta: 0:03:49  lr: 0.000500  loss: 0.7681 (0.9365)  bbox_regression: 0.1843 (0.1998)  classification: 0.5859 (0.7367)  time: 0.1373  data: 0.0400  max mem: 1104\n"
     ]
    },
    {
     "name": "stderr",
     "output_type": "stream",
     "text": [
      "902it [02:06,  7.22it/s]"
     ]
    },
    {
     "name": "stdout",
     "output_type": "stream",
     "text": [
      "Epoch: [18]  [ 900/2437]  eta: 0:03:34  lr: 0.000500  loss: 0.8436 (0.9355)  bbox_regression: 0.1632 (0.2001)  classification: 0.6428 (0.7354)  time: 0.1377  data: 0.0418  max mem: 1104\n"
     ]
    },
    {
     "name": "stderr",
     "output_type": "stream",
     "text": [
      "1002it [02:19,  7.35it/s]"
     ]
    },
    {
     "name": "stdout",
     "output_type": "stream",
     "text": [
      "Epoch: [18]  [1000/2437]  eta: 0:03:20  lr: 0.000500  loss: 0.7682 (0.9360)  bbox_regression: 0.1669 (0.2007)  classification: 0.5632 (0.7353)  time: 0.1374  data: 0.0419  max mem: 1104\n"
     ]
    },
    {
     "name": "stderr",
     "output_type": "stream",
     "text": [
      "1102it [02:33,  7.22it/s]"
     ]
    },
    {
     "name": "stdout",
     "output_type": "stream",
     "text": [
      "Epoch: [18]  [1100/2437]  eta: 0:03:06  lr: 0.000500  loss: 0.9376 (0.9428)  bbox_regression: 0.1789 (0.2015)  classification: 0.6996 (0.7413)  time: 0.1389  data: 0.0413  max mem: 1104\n"
     ]
    },
    {
     "name": "stderr",
     "output_type": "stream",
     "text": [
      "1202it [02:47,  7.24it/s]"
     ]
    },
    {
     "name": "stdout",
     "output_type": "stream",
     "text": [
      "Epoch: [18]  [1200/2437]  eta: 0:02:52  lr: 0.000500  loss: 1.0070 (0.9522)  bbox_regression: 0.1798 (0.2014)  classification: 0.7856 (0.7508)  time: 0.1395  data: 0.0420  max mem: 1104\n"
     ]
    },
    {
     "name": "stderr",
     "output_type": "stream",
     "text": [
      "1302it [03:01,  6.36it/s]"
     ]
    },
    {
     "name": "stdout",
     "output_type": "stream",
     "text": [
      "Epoch: [18]  [1300/2437]  eta: 0:02:38  lr: 0.000500  loss: 0.7162 (0.9511)  bbox_regression: 0.1729 (0.2022)  classification: 0.5284 (0.7489)  time: 0.1474  data: 0.0506  max mem: 1104\n"
     ]
    },
    {
     "name": "stderr",
     "output_type": "stream",
     "text": [
      "1402it [03:15,  7.13it/s]"
     ]
    },
    {
     "name": "stdout",
     "output_type": "stream",
     "text": [
      "Epoch: [18]  [1400/2437]  eta: 0:02:24  lr: 0.000500  loss: 0.7793 (0.9508)  bbox_regression: 0.1557 (0.2020)  classification: 0.5958 (0.7488)  time: 0.1381  data: 0.0407  max mem: 1104\n"
     ]
    },
    {
     "name": "stderr",
     "output_type": "stream",
     "text": [
      "1502it [03:29,  7.22it/s]"
     ]
    },
    {
     "name": "stdout",
     "output_type": "stream",
     "text": [
      "Epoch: [18]  [1500/2437]  eta: 0:02:10  lr: 0.000500  loss: 0.8191 (0.9506)  bbox_regression: 0.1742 (0.2022)  classification: 0.6246 (0.7485)  time: 0.1411  data: 0.0424  max mem: 1104\n"
     ]
    },
    {
     "name": "stderr",
     "output_type": "stream",
     "text": [
      "1602it [03:43,  7.18it/s]"
     ]
    },
    {
     "name": "stdout",
     "output_type": "stream",
     "text": [
      "Epoch: [18]  [1600/2437]  eta: 0:01:56  lr: 0.000500  loss: 0.8187 (0.9530)  bbox_regression: 0.1932 (0.2018)  classification: 0.6709 (0.7512)  time: 0.1387  data: 0.0407  max mem: 1104\n"
     ]
    },
    {
     "name": "stderr",
     "output_type": "stream",
     "text": [
      "1702it [03:57,  7.35it/s]"
     ]
    },
    {
     "name": "stdout",
     "output_type": "stream",
     "text": [
      "Epoch: [18]  [1700/2437]  eta: 0:01:42  lr: 0.000500  loss: 0.8738 (0.9544)  bbox_regression: 0.1792 (0.2017)  classification: 0.6960 (0.7527)  time: 0.1376  data: 0.0409  max mem: 1104\n"
     ]
    },
    {
     "name": "stderr",
     "output_type": "stream",
     "text": [
      "1802it [04:11,  7.39it/s]"
     ]
    },
    {
     "name": "stdout",
     "output_type": "stream",
     "text": [
      "Epoch: [18]  [1800/2437]  eta: 0:01:28  lr: 0.000500  loss: 0.9494 (0.9565)  bbox_regression: 0.1854 (0.2023)  classification: 0.6974 (0.7542)  time: 0.1358  data: 0.0395  max mem: 1104\n"
     ]
    },
    {
     "name": "stderr",
     "output_type": "stream",
     "text": [
      "1902it [04:25,  7.27it/s]"
     ]
    },
    {
     "name": "stdout",
     "output_type": "stream",
     "text": [
      "Epoch: [18]  [1900/2437]  eta: 0:01:14  lr: 0.000500  loss: 0.7358 (0.9534)  bbox_regression: 0.1817 (0.2019)  classification: 0.5542 (0.7515)  time: 0.1383  data: 0.0416  max mem: 1104\n"
     ]
    },
    {
     "name": "stderr",
     "output_type": "stream",
     "text": [
      "2002it [04:38,  7.34it/s]"
     ]
    },
    {
     "name": "stdout",
     "output_type": "stream",
     "text": [
      "Epoch: [18]  [2000/2437]  eta: 0:01:00  lr: 0.000500  loss: 0.9159 (0.9559)  bbox_regression: 0.1910 (0.2021)  classification: 0.7266 (0.7538)  time: 0.1345  data: 0.0385  max mem: 1104\n"
     ]
    },
    {
     "name": "stderr",
     "output_type": "stream",
     "text": [
      "2102it [04:52,  7.34it/s]"
     ]
    },
    {
     "name": "stdout",
     "output_type": "stream",
     "text": [
      "Epoch: [18]  [2100/2437]  eta: 0:00:46  lr: 0.000500  loss: 0.8835 (0.9620)  bbox_regression: 0.1856 (0.2033)  classification: 0.7314 (0.7588)  time: 0.1392  data: 0.0420  max mem: 1104\n"
     ]
    },
    {
     "name": "stderr",
     "output_type": "stream",
     "text": [
      "2202it [05:06,  7.37it/s]"
     ]
    },
    {
     "name": "stdout",
     "output_type": "stream",
     "text": [
      "Epoch: [18]  [2200/2437]  eta: 0:00:32  lr: 0.000500  loss: 0.7928 (0.9620)  bbox_regression: 0.1826 (0.2028)  classification: 0.6370 (0.7592)  time: 0.1351  data: 0.0383  max mem: 1104\n"
     ]
    },
    {
     "name": "stderr",
     "output_type": "stream",
     "text": [
      "2302it [05:20,  7.09it/s]"
     ]
    },
    {
     "name": "stdout",
     "output_type": "stream",
     "text": [
      "Epoch: [18]  [2300/2437]  eta: 0:00:19  lr: 0.000500  loss: 0.6972 (0.9602)  bbox_regression: 0.1623 (0.2027)  classification: 0.5497 (0.7575)  time: 0.1412  data: 0.0418  max mem: 1104\n"
     ]
    },
    {
     "name": "stderr",
     "output_type": "stream",
     "text": [
      "2402it [05:35,  6.72it/s]"
     ]
    },
    {
     "name": "stdout",
     "output_type": "stream",
     "text": [
      "Epoch: [18]  [2400/2437]  eta: 0:00:05  lr: 0.000500  loss: 0.8317 (0.9604)  bbox_regression: 0.1881 (0.2025)  classification: 0.6545 (0.7579)  time: 0.1622  data: 0.0452  max mem: 1104\n"
     ]
    },
    {
     "name": "stderr",
     "output_type": "stream",
     "text": [
      "2437it [05:40,  7.15it/s]\n"
     ]
    },
    {
     "name": "stdout",
     "output_type": "stream",
     "text": [
      "Epoch: [18]  [2436/2437]  eta: 0:00:00  lr: 0.000500  loss: 0.9306 (0.9602)  bbox_regression: 0.1776 (0.2026)  classification: 0.7208 (0.7576)  time: 0.1548  data: 0.0434  max mem: 1104\n",
      "flag\n",
      "Epoch: [18] Total time: 0:05:40 (0.1398 s / it)\n",
      "saved dict\n",
      "creating index...\n",
      "index created!\n",
      "<torch.utils.data.dataloader.DataLoader object at 0x0000024C1147B310>\n",
      "Test:  [  0/100]  eta: 0:00:03  model_time: 0.0220 (0.0220)  evaluator_time: 0.0000 (0.0000)  time: 0.0350  data: 0.0130  max mem: 1104\n",
      "Test:  [ 99/100]  eta: 0:00:00  model_time: 0.0296 (0.0298)  evaluator_time: 0.0000 (0.0006)  time: 0.0440  data: 0.0127  max mem: 1104\n",
      "flag\n",
      "Test: Total time: 0:00:04 (0.0443 s / it)\n",
      "Averaged stats: model_time: 0.0296 (0.0298)  evaluator_time: 0.0000 (0.0006)\n",
      "Accumulating evaluation results...\n",
      "DONE (t=0.01s).\n",
      "IoU metric: bbox\n",
      " Average Precision  (AP) @[ IoU=0.50:0.95 | area=   all | maxDets=100 ] = 0.714\n",
      " Average Precision  (AP) @[ IoU=0.50      | area=   all | maxDets=100 ] = 0.916\n",
      " Average Precision  (AP) @[ IoU=0.75      | area=   all | maxDets=100 ] = 0.866\n",
      " Average Precision  (AP) @[ IoU=0.50:0.95 | area= small | maxDets=100 ] = -1.000\n",
      " Average Precision  (AP) @[ IoU=0.50:0.95 | area=medium | maxDets=100 ] = 0.000\n",
      " Average Precision  (AP) @[ IoU=0.50:0.95 | area= large | maxDets=100 ] = 0.718\n",
      " Average Recall     (AR) @[ IoU=0.50:0.95 | area=   all | maxDets=  1 ] = 0.755\n",
      " Average Recall     (AR) @[ IoU=0.50:0.95 | area=   all | maxDets= 10 ] = 0.767\n",
      " Average Recall     (AR) @[ IoU=0.50:0.95 | area=   all | maxDets=100 ] = 0.767\n",
      " Average Recall     (AR) @[ IoU=0.50:0.95 | area= small | maxDets=100 ] = -1.000\n",
      " Average Recall     (AR) @[ IoU=0.50:0.95 | area=medium | maxDets=100 ] = 0.000\n",
      " Average Recall     (AR) @[ IoU=0.50:0.95 | area= large | maxDets=100 ] = 0.770\n",
      "creating index...\n",
      "index created!\n",
      "<torch.utils.data.dataloader.DataLoader object at 0x0000024C1147A470>\n",
      "Test:  [  0/100]  eta: 0:00:05  model_time: 0.0370 (0.0370)  evaluator_time: 0.0010 (0.0010)  time: 0.0520  data: 0.0130  max mem: 1104\n",
      "Test:  [ 99/100]  eta: 0:00:00  model_time: 0.0320 (0.0315)  evaluator_time: 0.0010 (0.0007)  time: 0.0461  data: 0.0123  max mem: 1104\n",
      "flag\n",
      "Test: Total time: 0:00:04 (0.0459 s / it)\n",
      "Averaged stats: model_time: 0.0320 (0.0315)  evaluator_time: 0.0010 (0.0007)\n",
      "Accumulating evaluation results...\n",
      "DONE (t=0.02s).\n",
      "IoU metric: bbox\n",
      " Average Precision  (AP) @[ IoU=0.50:0.95 | area=   all | maxDets=100 ] = 0.404\n",
      " Average Precision  (AP) @[ IoU=0.50      | area=   all | maxDets=100 ] = 0.608\n",
      " Average Precision  (AP) @[ IoU=0.75      | area=   all | maxDets=100 ] = 0.470\n",
      " Average Precision  (AP) @[ IoU=0.50:0.95 | area= small | maxDets=100 ] = -1.000\n",
      " Average Precision  (AP) @[ IoU=0.50:0.95 | area=medium | maxDets=100 ] = -1.000\n",
      " Average Precision  (AP) @[ IoU=0.50:0.95 | area= large | maxDets=100 ] = 0.405\n",
      " Average Recall     (AR) @[ IoU=0.50:0.95 | area=   all | maxDets=  1 ] = 0.540\n",
      " Average Recall     (AR) @[ IoU=0.50:0.95 | area=   all | maxDets= 10 ] = 0.559\n",
      " Average Recall     (AR) @[ IoU=0.50:0.95 | area=   all | maxDets=100 ] = 0.559\n",
      " Average Recall     (AR) @[ IoU=0.50:0.95 | area= small | maxDets=100 ] = -1.000\n",
      " Average Recall     (AR) @[ IoU=0.50:0.95 | area=medium | maxDets=100 ] = -1.000\n",
      " Average Recall     (AR) @[ IoU=0.50:0.95 | area= large | maxDets=100 ] = 0.559\n"
     ]
    },
    {
     "name": "stderr",
     "output_type": "stream",
     "text": [
      "0it [00:00, ?it/s]"
     ]
    },
    {
     "name": "stdout",
     "output_type": "stream",
     "text": [
      "<torch.utils.data.dataloader.DataLoader object at 0x0000024C1147A620>\n"
     ]
    },
    {
     "name": "stderr",
     "output_type": "stream",
     "text": [
      "2it [00:00,  4.87it/s]"
     ]
    },
    {
     "name": "stdout",
     "output_type": "stream",
     "text": [
      "Epoch: [19]  [   0/2437]  eta: 0:09:02  lr: 0.000500  loss: 0.7061 (0.7061)  bbox_regression: 0.1707 (0.1707)  classification: 0.5354 (0.5354)  time: 0.2228  data: 0.0458  max mem: 1104\n"
     ]
    },
    {
     "name": "stderr",
     "output_type": "stream",
     "text": [
      "102it [00:14,  7.13it/s]"
     ]
    },
    {
     "name": "stdout",
     "output_type": "stream",
     "text": [
      "Epoch: [19]  [ 100/2437]  eta: 0:05:32  lr: 0.000500  loss: 0.9532 (0.8932)  bbox_regression: 0.1811 (0.1949)  classification: 0.7015 (0.6983)  time: 0.1396  data: 0.0421  max mem: 1104\n"
     ]
    },
    {
     "name": "stderr",
     "output_type": "stream",
     "text": [
      "202it [00:28,  7.06it/s]"
     ]
    },
    {
     "name": "stdout",
     "output_type": "stream",
     "text": [
      "Epoch: [19]  [ 200/2437]  eta: 0:05:13  lr: 0.000500  loss: 0.8842 (0.8992)  bbox_regression: 0.1549 (0.1958)  classification: 0.6730 (0.7033)  time: 0.1382  data: 0.0417  max mem: 1104\n"
     ]
    },
    {
     "name": "stderr",
     "output_type": "stream",
     "text": [
      "302it [00:42,  7.25it/s]"
     ]
    },
    {
     "name": "stdout",
     "output_type": "stream",
     "text": [
      "Epoch: [19]  [ 300/2437]  eta: 0:05:00  lr: 0.000500  loss: 0.6263 (0.8808)  bbox_regression: 0.1584 (0.1885)  classification: 0.4593 (0.6923)  time: 0.1387  data: 0.0415  max mem: 1104\n"
     ]
    },
    {
     "name": "stderr",
     "output_type": "stream",
     "text": [
      "402it [00:56,  7.05it/s]"
     ]
    },
    {
     "name": "stdout",
     "output_type": "stream",
     "text": [
      "Epoch: [19]  [ 400/2437]  eta: 0:04:48  lr: 0.000500  loss: 0.8025 (0.8826)  bbox_regression: 0.2072 (0.1898)  classification: 0.6000 (0.6928)  time: 0.1549  data: 0.0428  max mem: 1104\n"
     ]
    },
    {
     "name": "stderr",
     "output_type": "stream",
     "text": [
      "502it [01:10,  7.25it/s]"
     ]
    },
    {
     "name": "stdout",
     "output_type": "stream",
     "text": [
      "Epoch: [19]  [ 500/2437]  eta: 0:04:33  lr: 0.000500  loss: 0.8412 (0.8875)  bbox_regression: 0.1586 (0.1901)  classification: 0.6571 (0.6974)  time: 0.1389  data: 0.0419  max mem: 1104\n"
     ]
    },
    {
     "name": "stderr",
     "output_type": "stream",
     "text": [
      "602it [01:25,  6.25it/s]"
     ]
    },
    {
     "name": "stdout",
     "output_type": "stream",
     "text": [
      "Epoch: [19]  [ 600/2437]  eta: 0:04:21  lr: 0.000500  loss: 0.8557 (0.8787)  bbox_regression: 0.2229 (0.1897)  classification: 0.6001 (0.6890)  time: 0.1523  data: 0.0426  max mem: 1104\n"
     ]
    },
    {
     "name": "stderr",
     "output_type": "stream",
     "text": [
      "702it [01:39,  7.53it/s]"
     ]
    },
    {
     "name": "stdout",
     "output_type": "stream",
     "text": [
      "Epoch: [19]  [ 700/2437]  eta: 0:04:06  lr: 0.000500  loss: 0.7895 (0.8837)  bbox_regression: 0.1523 (0.1917)  classification: 0.6829 (0.6920)  time: 0.1345  data: 0.0404  max mem: 1104\n"
     ]
    },
    {
     "name": "stderr",
     "output_type": "stream",
     "text": [
      "802it [01:53,  7.33it/s]"
     ]
    },
    {
     "name": "stdout",
     "output_type": "stream",
     "text": [
      "Epoch: [19]  [ 800/2437]  eta: 0:03:50  lr: 0.000500  loss: 0.7680 (0.8857)  bbox_regression: 0.1674 (0.1933)  classification: 0.6552 (0.6924)  time: 0.1348  data: 0.0415  max mem: 1104\n"
     ]
    },
    {
     "name": "stderr",
     "output_type": "stream",
     "text": [
      "902it [02:06,  7.30it/s]"
     ]
    },
    {
     "name": "stdout",
     "output_type": "stream",
     "text": [
      "Epoch: [19]  [ 900/2437]  eta: 0:03:35  lr: 0.000500  loss: 0.7513 (0.8851)  bbox_regression: 0.1785 (0.1924)  classification: 0.5573 (0.6927)  time: 0.1361  data: 0.0413  max mem: 1104\n"
     ]
    },
    {
     "name": "stderr",
     "output_type": "stream",
     "text": [
      "1002it [02:20,  7.36it/s]"
     ]
    },
    {
     "name": "stdout",
     "output_type": "stream",
     "text": [
      "Epoch: [19]  [1000/2437]  eta: 0:03:20  lr: 0.000500  loss: 0.8705 (0.8884)  bbox_regression: 0.1860 (0.1922)  classification: 0.6248 (0.6962)  time: 0.1351  data: 0.0413  max mem: 1104\n"
     ]
    },
    {
     "name": "stderr",
     "output_type": "stream",
     "text": [
      "1102it [02:33,  7.39it/s]"
     ]
    },
    {
     "name": "stdout",
     "output_type": "stream",
     "text": [
      "Epoch: [19]  [1100/2437]  eta: 0:03:06  lr: 0.000500  loss: 0.6871 (0.8832)  bbox_regression: 0.1666 (0.1922)  classification: 0.5465 (0.6909)  time: 0.1351  data: 0.0418  max mem: 1104\n"
     ]
    },
    {
     "name": "stderr",
     "output_type": "stream",
     "text": [
      "1202it [02:47,  7.44it/s]"
     ]
    },
    {
     "name": "stdout",
     "output_type": "stream",
     "text": [
      "Epoch: [19]  [1200/2437]  eta: 0:02:52  lr: 0.000500  loss: 0.8520 (0.8834)  bbox_regression: 0.2053 (0.1927)  classification: 0.6623 (0.6907)  time: 0.1340  data: 0.0405  max mem: 1104\n"
     ]
    },
    {
     "name": "stderr",
     "output_type": "stream",
     "text": [
      "1302it [03:01,  7.52it/s]"
     ]
    },
    {
     "name": "stdout",
     "output_type": "stream",
     "text": [
      "Epoch: [19]  [1300/2437]  eta: 0:02:38  lr: 0.000500  loss: 0.7940 (0.8845)  bbox_regression: 0.1750 (0.1934)  classification: 0.5739 (0.6912)  time: 0.1339  data: 0.0404  max mem: 1104\n"
     ]
    },
    {
     "name": "stderr",
     "output_type": "stream",
     "text": [
      "1402it [03:14,  7.34it/s]"
     ]
    },
    {
     "name": "stdout",
     "output_type": "stream",
     "text": [
      "Epoch: [19]  [1400/2437]  eta: 0:02:23  lr: 0.000500  loss: 0.7971 (0.8905)  bbox_regression: 0.1887 (0.1958)  classification: 0.5981 (0.6947)  time: 0.1355  data: 0.0421  max mem: 1104\n"
     ]
    },
    {
     "name": "stderr",
     "output_type": "stream",
     "text": [
      "1502it [03:28,  7.61it/s]"
     ]
    },
    {
     "name": "stdout",
     "output_type": "stream",
     "text": [
      "Epoch: [19]  [1500/2437]  eta: 0:02:09  lr: 0.000500  loss: 0.7266 (0.8942)  bbox_regression: 0.1478 (0.1957)  classification: 0.5943 (0.6985)  time: 0.1350  data: 0.0410  max mem: 1104\n"
     ]
    },
    {
     "name": "stderr",
     "output_type": "stream",
     "text": [
      "1602it [03:41,  7.33it/s]"
     ]
    },
    {
     "name": "stdout",
     "output_type": "stream",
     "text": [
      "Epoch: [19]  [1600/2437]  eta: 0:01:55  lr: 0.000500  loss: 0.8515 (0.8939)  bbox_regression: 0.1865 (0.1958)  classification: 0.6403 (0.6981)  time: 0.1357  data: 0.0401  max mem: 1104\n"
     ]
    },
    {
     "name": "stderr",
     "output_type": "stream",
     "text": [
      "1702it [03:55,  7.39it/s]"
     ]
    },
    {
     "name": "stdout",
     "output_type": "stream",
     "text": [
      "Epoch: [19]  [1700/2437]  eta: 0:01:41  lr: 0.000500  loss: 0.8691 (0.8949)  bbox_regression: 0.1989 (0.1952)  classification: 0.6745 (0.6997)  time: 0.1359  data: 0.0416  max mem: 1104\n"
     ]
    },
    {
     "name": "stderr",
     "output_type": "stream",
     "text": [
      "1802it [04:08,  7.20it/s]"
     ]
    },
    {
     "name": "stdout",
     "output_type": "stream",
     "text": [
      "Epoch: [19]  [1800/2437]  eta: 0:01:27  lr: 0.000500  loss: 0.6972 (0.8920)  bbox_regression: 0.1609 (0.1939)  classification: 0.5511 (0.6981)  time: 0.1344  data: 0.0412  max mem: 1104\n"
     ]
    },
    {
     "name": "stderr",
     "output_type": "stream",
     "text": [
      "1902it [04:22,  7.35it/s]"
     ]
    },
    {
     "name": "stdout",
     "output_type": "stream",
     "text": [
      "Epoch: [19]  [1900/2437]  eta: 0:01:14  lr: 0.000500  loss: 0.9391 (0.8912)  bbox_regression: 0.1464 (0.1936)  classification: 0.7133 (0.6976)  time: 0.1351  data: 0.0426  max mem: 1104\n"
     ]
    },
    {
     "name": "stderr",
     "output_type": "stream",
     "text": [
      "2002it [04:35,  7.39it/s]"
     ]
    },
    {
     "name": "stdout",
     "output_type": "stream",
     "text": [
      "Epoch: [19]  [2000/2437]  eta: 0:01:00  lr: 0.000500  loss: 0.8529 (0.8918)  bbox_regression: 0.1819 (0.1939)  classification: 0.6792 (0.6979)  time: 0.1352  data: 0.0416  max mem: 1104\n"
     ]
    },
    {
     "name": "stderr",
     "output_type": "stream",
     "text": [
      "2102it [04:49,  7.68it/s]"
     ]
    },
    {
     "name": "stdout",
     "output_type": "stream",
     "text": [
      "Epoch: [19]  [2100/2437]  eta: 0:00:46  lr: 0.000500  loss: 0.9306 (0.8930)  bbox_regression: 0.1760 (0.1944)  classification: 0.6858 (0.6986)  time: 0.1329  data: 0.0398  max mem: 1104\n"
     ]
    },
    {
     "name": "stderr",
     "output_type": "stream",
     "text": [
      "2202it [05:02,  7.44it/s]"
     ]
    },
    {
     "name": "stdout",
     "output_type": "stream",
     "text": [
      "Epoch: [19]  [2200/2437]  eta: 0:00:32  lr: 0.000500  loss: 0.8581 (0.8923)  bbox_regression: 0.1702 (0.1946)  classification: 0.6506 (0.6977)  time: 0.1342  data: 0.0407  max mem: 1104\n"
     ]
    },
    {
     "name": "stderr",
     "output_type": "stream",
     "text": [
      "2302it [05:16,  7.45it/s]"
     ]
    },
    {
     "name": "stdout",
     "output_type": "stream",
     "text": [
      "Epoch: [19]  [2300/2437]  eta: 0:00:18  lr: 0.000500  loss: 0.7247 (0.8922)  bbox_regression: 0.1777 (0.1944)  classification: 0.5664 (0.6978)  time: 0.1354  data: 0.0409  max mem: 1104\n"
     ]
    },
    {
     "name": "stderr",
     "output_type": "stream",
     "text": [
      "2402it [05:30,  7.21it/s]"
     ]
    },
    {
     "name": "stdout",
     "output_type": "stream",
     "text": [
      "Epoch: [19]  [2400/2437]  eta: 0:00:05  lr: 0.000500  loss: 0.7198 (0.8916)  bbox_regression: 0.1603 (0.1937)  classification: 0.5390 (0.6978)  time: 0.1375  data: 0.0419  max mem: 1104\n"
     ]
    },
    {
     "name": "stderr",
     "output_type": "stream",
     "text": [
      "2437it [05:34,  7.28it/s]\n"
     ]
    },
    {
     "name": "stdout",
     "output_type": "stream",
     "text": [
      "Epoch: [19]  [2436/2437]  eta: 0:00:00  lr: 0.000500  loss: 1.0238 (0.8931)  bbox_regression: 0.2139 (0.1939)  classification: 0.7975 (0.6993)  time: 0.1343  data: 0.0400  max mem: 1104\n",
      "flag\n",
      "Epoch: [19] Total time: 0:05:34 (0.1374 s / it)\n",
      "saved dict\n",
      "creating index...\n",
      "index created!\n",
      "<torch.utils.data.dataloader.DataLoader object at 0x0000024C1147B310>\n",
      "Test:  [  0/100]  eta: 0:00:03  model_time: 0.0240 (0.0240)  evaluator_time: 0.0010 (0.0010)  time: 0.0385  data: 0.0125  max mem: 1104\n",
      "Test:  [ 99/100]  eta: 0:00:00  model_time: 0.0265 (0.0259)  evaluator_time: 0.0000 (0.0006)  time: 0.0404  data: 0.0124  max mem: 1104\n",
      "flag\n",
      "Test: Total time: 0:00:03 (0.0398 s / it)\n",
      "Averaged stats: model_time: 0.0265 (0.0259)  evaluator_time: 0.0000 (0.0006)\n",
      "Accumulating evaluation results...\n",
      "DONE (t=0.01s).\n",
      "IoU metric: bbox\n",
      " Average Precision  (AP) @[ IoU=0.50:0.95 | area=   all | maxDets=100 ] = 0.706\n",
      " Average Precision  (AP) @[ IoU=0.50      | area=   all | maxDets=100 ] = 0.932\n",
      " Average Precision  (AP) @[ IoU=0.75      | area=   all | maxDets=100 ] = 0.888\n",
      " Average Precision  (AP) @[ IoU=0.50:0.95 | area= small | maxDets=100 ] = -1.000\n",
      " Average Precision  (AP) @[ IoU=0.50:0.95 | area=medium | maxDets=100 ] = 0.000\n",
      " Average Precision  (AP) @[ IoU=0.50:0.95 | area= large | maxDets=100 ] = 0.709\n",
      " Average Recall     (AR) @[ IoU=0.50:0.95 | area=   all | maxDets=  1 ] = 0.757\n",
      " Average Recall     (AR) @[ IoU=0.50:0.95 | area=   all | maxDets= 10 ] = 0.764\n",
      " Average Recall     (AR) @[ IoU=0.50:0.95 | area=   all | maxDets=100 ] = 0.764\n",
      " Average Recall     (AR) @[ IoU=0.50:0.95 | area= small | maxDets=100 ] = -1.000\n",
      " Average Recall     (AR) @[ IoU=0.50:0.95 | area=medium | maxDets=100 ] = 0.000\n",
      " Average Recall     (AR) @[ IoU=0.50:0.95 | area= large | maxDets=100 ] = 0.768\n",
      "creating index...\n",
      "index created!\n",
      "<torch.utils.data.dataloader.DataLoader object at 0x0000024C1147A470>\n",
      "Test:  [  0/100]  eta: 0:00:04  model_time: 0.0345 (0.0345)  evaluator_time: 0.0010 (0.0010)  time: 0.0485  data: 0.0130  max mem: 1104\n",
      "Test:  [ 99/100]  eta: 0:00:00  model_time: 0.0280 (0.0300)  evaluator_time: 0.0010 (0.0007)  time: 0.0429  data: 0.0123  max mem: 1104\n",
      "flag\n",
      "Test: Total time: 0:00:04 (0.0443 s / it)\n",
      "Averaged stats: model_time: 0.0280 (0.0300)  evaluator_time: 0.0010 (0.0007)\n",
      "Accumulating evaluation results...\n",
      "DONE (t=0.02s).\n",
      "IoU metric: bbox\n",
      " Average Precision  (AP) @[ IoU=0.50:0.95 | area=   all | maxDets=100 ] = 0.394\n",
      " Average Precision  (AP) @[ IoU=0.50      | area=   all | maxDets=100 ] = 0.609\n",
      " Average Precision  (AP) @[ IoU=0.75      | area=   all | maxDets=100 ] = 0.424\n",
      " Average Precision  (AP) @[ IoU=0.50:0.95 | area= small | maxDets=100 ] = -1.000\n",
      " Average Precision  (AP) @[ IoU=0.50:0.95 | area=medium | maxDets=100 ] = -1.000\n",
      " Average Precision  (AP) @[ IoU=0.50:0.95 | area= large | maxDets=100 ] = 0.394\n",
      " Average Recall     (AR) @[ IoU=0.50:0.95 | area=   all | maxDets=  1 ] = 0.515\n",
      " Average Recall     (AR) @[ IoU=0.50:0.95 | area=   all | maxDets= 10 ] = 0.532\n",
      " Average Recall     (AR) @[ IoU=0.50:0.95 | area=   all | maxDets=100 ] = 0.532\n",
      " Average Recall     (AR) @[ IoU=0.50:0.95 | area= small | maxDets=100 ] = -1.000\n",
      " Average Recall     (AR) @[ IoU=0.50:0.95 | area=medium | maxDets=100 ] = -1.000\n",
      " Average Recall     (AR) @[ IoU=0.50:0.95 | area= large | maxDets=100 ] = 0.532\n"
     ]
    },
    {
     "name": "stderr",
     "output_type": "stream",
     "text": [
      "0it [00:00, ?it/s]"
     ]
    },
    {
     "name": "stdout",
     "output_type": "stream",
     "text": [
      "<torch.utils.data.dataloader.DataLoader object at 0x0000024C1147A620>\n"
     ]
    },
    {
     "name": "stderr",
     "output_type": "stream",
     "text": [
      "2it [00:00,  4.97it/s]"
     ]
    },
    {
     "name": "stdout",
     "output_type": "stream",
     "text": [
      "Epoch: [20]  [   0/2437]  eta: 0:09:12  lr: 0.000050  loss: 0.6149 (0.6149)  bbox_regression: 0.1587 (0.1587)  classification: 0.4562 (0.4562)  time: 0.2265  data: 0.0536  max mem: 1104\n"
     ]
    },
    {
     "name": "stderr",
     "output_type": "stream",
     "text": [
      "102it [00:14,  7.48it/s]"
     ]
    },
    {
     "name": "stdout",
     "output_type": "stream",
     "text": [
      "Epoch: [20]  [ 100/2437]  eta: 0:05:21  lr: 0.000050  loss: 0.7522 (0.8382)  bbox_regression: 0.1589 (0.1800)  classification: 0.6470 (0.6582)  time: 0.1337  data: 0.0403  max mem: 1104\n"
     ]
    },
    {
     "name": "stderr",
     "output_type": "stream",
     "text": [
      "202it [00:27,  7.64it/s]"
     ]
    },
    {
     "name": "stdout",
     "output_type": "stream",
     "text": [
      "Epoch: [20]  [ 200/2437]  eta: 0:05:09  lr: 0.000050  loss: 0.6993 (0.8340)  bbox_regression: 0.1525 (0.1785)  classification: 0.5512 (0.6555)  time: 0.1438  data: 0.0492  max mem: 1104\n"
     ]
    },
    {
     "name": "stderr",
     "output_type": "stream",
     "text": [
      "302it [00:41,  7.60it/s]"
     ]
    },
    {
     "name": "stdout",
     "output_type": "stream",
     "text": [
      "Epoch: [20]  [ 300/2437]  eta: 0:04:53  lr: 0.000050  loss: 0.6619 (0.8131)  bbox_regression: 0.1243 (0.1761)  classification: 0.4923 (0.6370)  time: 0.1348  data: 0.0414  max mem: 1104\n"
     ]
    },
    {
     "name": "stderr",
     "output_type": "stream",
     "text": [
      "402it [00:54,  7.24it/s]"
     ]
    },
    {
     "name": "stdout",
     "output_type": "stream",
     "text": [
      "Epoch: [20]  [ 400/2437]  eta: 0:04:38  lr: 0.000050  loss: 0.6817 (0.8016)  bbox_regression: 0.1576 (0.1715)  classification: 0.5314 (0.6302)  time: 0.1359  data: 0.0414  max mem: 1104\n"
     ]
    },
    {
     "name": "stderr",
     "output_type": "stream",
     "text": [
      "502it [01:08,  7.32it/s]"
     ]
    },
    {
     "name": "stdout",
     "output_type": "stream",
     "text": [
      "Epoch: [20]  [ 500/2437]  eta: 0:04:24  lr: 0.000050  loss: 0.7239 (0.7984)  bbox_regression: 0.1657 (0.1700)  classification: 0.5167 (0.6284)  time: 0.1349  data: 0.0411  max mem: 1104\n"
     ]
    },
    {
     "name": "stderr",
     "output_type": "stream",
     "text": [
      "602it [01:22,  7.41it/s]"
     ]
    },
    {
     "name": "stdout",
     "output_type": "stream",
     "text": [
      "Epoch: [20]  [ 600/2437]  eta: 0:04:11  lr: 0.000050  loss: 0.7118 (0.7824)  bbox_regression: 0.1487 (0.1683)  classification: 0.5503 (0.6141)  time: 0.1464  data: 0.0509  max mem: 1104\n"
     ]
    },
    {
     "name": "stderr",
     "output_type": "stream",
     "text": [
      "702it [01:35,  7.28it/s]"
     ]
    },
    {
     "name": "stdout",
     "output_type": "stream",
     "text": [
      "Epoch: [20]  [ 700/2437]  eta: 0:03:57  lr: 0.000050  loss: 0.6455 (0.7787)  bbox_regression: 0.1411 (0.1681)  classification: 0.5166 (0.6107)  time: 0.1436  data: 0.0495  max mem: 1105\n"
     ]
    },
    {
     "name": "stderr",
     "output_type": "stream",
     "text": [
      "802it [01:49,  7.43it/s]"
     ]
    },
    {
     "name": "stdout",
     "output_type": "stream",
     "text": [
      "Epoch: [20]  [ 800/2437]  eta: 0:03:43  lr: 0.000050  loss: 0.7349 (0.7822)  bbox_regression: 0.1379 (0.1688)  classification: 0.6075 (0.6135)  time: 0.1333  data: 0.0404  max mem: 1105\n"
     ]
    },
    {
     "name": "stderr",
     "output_type": "stream",
     "text": [
      "902it [02:02,  7.34it/s]"
     ]
    },
    {
     "name": "stdout",
     "output_type": "stream",
     "text": [
      "Epoch: [20]  [ 900/2437]  eta: 0:03:29  lr: 0.000050  loss: 0.5796 (0.7768)  bbox_regression: 0.1469 (0.1677)  classification: 0.4508 (0.6091)  time: 0.1353  data: 0.0409  max mem: 1105\n"
     ]
    },
    {
     "name": "stderr",
     "output_type": "stream",
     "text": [
      "1002it [02:16,  7.30it/s]"
     ]
    },
    {
     "name": "stdout",
     "output_type": "stream",
     "text": [
      "Epoch: [20]  [1000/2437]  eta: 0:03:15  lr: 0.000050  loss: 0.6924 (0.7740)  bbox_regression: 0.1262 (0.1671)  classification: 0.5450 (0.6069)  time: 0.1356  data: 0.0408  max mem: 1105\n"
     ]
    },
    {
     "name": "stderr",
     "output_type": "stream",
     "text": [
      "1102it [02:29,  7.26it/s]"
     ]
    },
    {
     "name": "stdout",
     "output_type": "stream",
     "text": [
      "Epoch: [20]  [1100/2437]  eta: 0:03:01  lr: 0.000050  loss: 0.6355 (0.7714)  bbox_regression: 0.1386 (0.1665)  classification: 0.5213 (0.6049)  time: 0.1354  data: 0.0418  max mem: 1105\n"
     ]
    },
    {
     "name": "stderr",
     "output_type": "stream",
     "text": [
      "1202it [02:43,  7.22it/s]"
     ]
    },
    {
     "name": "stdout",
     "output_type": "stream",
     "text": [
      "Epoch: [20]  [1200/2437]  eta: 0:02:48  lr: 0.000050  loss: 0.7483 (0.7710)  bbox_regression: 0.1449 (0.1660)  classification: 0.6102 (0.6050)  time: 0.1350  data: 0.0413  max mem: 1105\n"
     ]
    },
    {
     "name": "stderr",
     "output_type": "stream",
     "text": [
      "1302it [02:56,  7.30it/s]"
     ]
    },
    {
     "name": "stdout",
     "output_type": "stream",
     "text": [
      "Epoch: [20]  [1300/2437]  eta: 0:02:34  lr: 0.000050  loss: 0.6115 (0.7692)  bbox_regression: 0.1365 (0.1652)  classification: 0.4789 (0.6041)  time: 0.1371  data: 0.0425  max mem: 1105\n"
     ]
    },
    {
     "name": "stderr",
     "output_type": "stream",
     "text": [
      "1402it [03:10,  7.69it/s]"
     ]
    },
    {
     "name": "stdout",
     "output_type": "stream",
     "text": [
      "Epoch: [20]  [1400/2437]  eta: 0:02:20  lr: 0.000050  loss: 0.6487 (0.7674)  bbox_regression: 0.1465 (0.1646)  classification: 0.5041 (0.6027)  time: 0.1327  data: 0.0397  max mem: 1105\n"
     ]
    },
    {
     "name": "stderr",
     "output_type": "stream",
     "text": [
      "1502it [03:23,  7.35it/s]"
     ]
    },
    {
     "name": "stdout",
     "output_type": "stream",
     "text": [
      "Epoch: [20]  [1500/2437]  eta: 0:02:07  lr: 0.000050  loss: 0.7287 (0.7671)  bbox_regression: 0.1366 (0.1646)  classification: 0.5851 (0.6025)  time: 0.1368  data: 0.0420  max mem: 1105\n"
     ]
    },
    {
     "name": "stderr",
     "output_type": "stream",
     "text": [
      "1602it [03:37,  7.50it/s]"
     ]
    },
    {
     "name": "stdout",
     "output_type": "stream",
     "text": [
      "Epoch: [20]  [1600/2437]  eta: 0:01:53  lr: 0.000050  loss: 0.7299 (0.7674)  bbox_regression: 0.1579 (0.1647)  classification: 0.5667 (0.6027)  time: 0.1367  data: 0.0428  max mem: 1105\n"
     ]
    },
    {
     "name": "stderr",
     "output_type": "stream",
     "text": [
      "1702it [03:51,  7.44it/s]"
     ]
    },
    {
     "name": "stdout",
     "output_type": "stream",
     "text": [
      "Epoch: [20]  [1700/2437]  eta: 0:01:40  lr: 0.000050  loss: 0.8572 (0.7684)  bbox_regression: 0.1460 (0.1651)  classification: 0.6855 (0.6033)  time: 0.1357  data: 0.0422  max mem: 1105\n"
     ]
    },
    {
     "name": "stderr",
     "output_type": "stream",
     "text": [
      "1802it [04:04,  7.22it/s]"
     ]
    },
    {
     "name": "stdout",
     "output_type": "stream",
     "text": [
      "Epoch: [20]  [1800/2437]  eta: 0:01:26  lr: 0.000050  loss: 0.6486 (0.7666)  bbox_regression: 0.1381 (0.1643)  classification: 0.5141 (0.6022)  time: 0.1356  data: 0.0417  max mem: 1105\n"
     ]
    },
    {
     "name": "stderr",
     "output_type": "stream",
     "text": [
      "1902it [04:18,  7.43it/s]"
     ]
    },
    {
     "name": "stdout",
     "output_type": "stream",
     "text": [
      "Epoch: [20]  [1900/2437]  eta: 0:01:12  lr: 0.000050  loss: 0.6407 (0.7701)  bbox_regression: 0.1494 (0.1655)  classification: 0.4934 (0.6046)  time: 0.1339  data: 0.0415  max mem: 1105\n"
     ]
    },
    {
     "name": "stderr",
     "output_type": "stream",
     "text": [
      "2002it [04:31,  7.48it/s]"
     ]
    },
    {
     "name": "stdout",
     "output_type": "stream",
     "text": [
      "Epoch: [20]  [2000/2437]  eta: 0:00:59  lr: 0.000050  loss: 0.5842 (0.7677)  bbox_regression: 0.1662 (0.1652)  classification: 0.4233 (0.6025)  time: 0.1327  data: 0.0399  max mem: 1105\n"
     ]
    },
    {
     "name": "stderr",
     "output_type": "stream",
     "text": [
      "2102it [04:45,  7.44it/s]"
     ]
    },
    {
     "name": "stdout",
     "output_type": "stream",
     "text": [
      "Epoch: [20]  [2100/2437]  eta: 0:00:45  lr: 0.000050  loss: 0.7018 (0.7690)  bbox_regression: 0.1343 (0.1654)  classification: 0.5725 (0.6036)  time: 0.1354  data: 0.0418  max mem: 1105\n"
     ]
    },
    {
     "name": "stderr",
     "output_type": "stream",
     "text": [
      "2202it [04:58,  7.48it/s]"
     ]
    },
    {
     "name": "stdout",
     "output_type": "stream",
     "text": [
      "Epoch: [20]  [2200/2437]  eta: 0:00:32  lr: 0.000050  loss: 0.5735 (0.7677)  bbox_regression: 0.1417 (0.1651)  classification: 0.4289 (0.6026)  time: 0.1324  data: 0.0395  max mem: 1105\n"
     ]
    },
    {
     "name": "stderr",
     "output_type": "stream",
     "text": [
      "2302it [05:12,  7.34it/s]"
     ]
    },
    {
     "name": "stdout",
     "output_type": "stream",
     "text": [
      "Epoch: [20]  [2300/2437]  eta: 0:00:18  lr: 0.000050  loss: 0.6289 (0.7654)  bbox_regression: 0.1448 (0.1650)  classification: 0.4837 (0.6004)  time: 0.1360  data: 0.0423  max mem: 1105\n"
     ]
    },
    {
     "name": "stderr",
     "output_type": "stream",
     "text": [
      "2402it [05:25,  7.27it/s]"
     ]
    },
    {
     "name": "stdout",
     "output_type": "stream",
     "text": [
      "Epoch: [20]  [2400/2437]  eta: 0:00:05  lr: 0.000050  loss: 0.5839 (0.7638)  bbox_regression: 0.1267 (0.1653)  classification: 0.4540 (0.5985)  time: 0.1350  data: 0.0402  max mem: 1105\n"
     ]
    },
    {
     "name": "stderr",
     "output_type": "stream",
     "text": [
      "2437it [05:30,  7.38it/s]\n"
     ]
    },
    {
     "name": "stdout",
     "output_type": "stream",
     "text": [
      "Epoch: [20]  [2436/2437]  eta: 0:00:00  lr: 0.000050  loss: 0.7514 (0.7639)  bbox_regression: 0.1596 (0.1652)  classification: 0.5871 (0.5987)  time: 0.1310  data: 0.0398  max mem: 1105\n",
      "flag\n",
      "Epoch: [20] Total time: 0:05:30 (0.1356 s / it)\n",
      "saved dict\n",
      "creating index...\n",
      "index created!\n",
      "<torch.utils.data.dataloader.DataLoader object at 0x0000024C1147B310>\n",
      "Test:  [  0/100]  eta: 0:00:03  model_time: 0.0181 (0.0181)  evaluator_time: 0.0010 (0.0010)  time: 0.0320  data: 0.0120  max mem: 1105\n",
      "Test:  [ 99/100]  eta: 0:00:00  model_time: 0.0260 (0.0253)  evaluator_time: 0.0000 (0.0005)  time: 0.0407  data: 0.0124  max mem: 1105\n",
      "flag\n",
      "Test: Total time: 0:00:03 (0.0392 s / it)\n",
      "Averaged stats: model_time: 0.0260 (0.0253)  evaluator_time: 0.0000 (0.0005)\n",
      "Accumulating evaluation results...\n",
      "DONE (t=0.01s).\n",
      "IoU metric: bbox\n",
      " Average Precision  (AP) @[ IoU=0.50:0.95 | area=   all | maxDets=100 ] = 0.744\n",
      " Average Precision  (AP) @[ IoU=0.50      | area=   all | maxDets=100 ] = 0.925\n",
      " Average Precision  (AP) @[ IoU=0.75      | area=   all | maxDets=100 ] = 0.905\n",
      " Average Precision  (AP) @[ IoU=0.50:0.95 | area= small | maxDets=100 ] = -1.000\n",
      " Average Precision  (AP) @[ IoU=0.50:0.95 | area=medium | maxDets=100 ] = 0.000\n",
      " Average Precision  (AP) @[ IoU=0.50:0.95 | area= large | maxDets=100 ] = 0.748\n",
      " Average Recall     (AR) @[ IoU=0.50:0.95 | area=   all | maxDets=  1 ] = 0.779\n",
      " Average Recall     (AR) @[ IoU=0.50:0.95 | area=   all | maxDets= 10 ] = 0.787\n",
      " Average Recall     (AR) @[ IoU=0.50:0.95 | area=   all | maxDets=100 ] = 0.787\n",
      " Average Recall     (AR) @[ IoU=0.50:0.95 | area= small | maxDets=100 ] = -1.000\n",
      " Average Recall     (AR) @[ IoU=0.50:0.95 | area=medium | maxDets=100 ] = 0.000\n",
      " Average Recall     (AR) @[ IoU=0.50:0.95 | area= large | maxDets=100 ] = 0.791\n",
      "creating index...\n",
      "index created!\n",
      "<torch.utils.data.dataloader.DataLoader object at 0x0000024C1147A470>\n",
      "Test:  [  0/100]  eta: 0:00:04  model_time: 0.0338 (0.0338)  evaluator_time: 0.0000 (0.0000)  time: 0.0478  data: 0.0130  max mem: 1105\n",
      "Test:  [ 99/100]  eta: 0:00:00  model_time: 0.0285 (0.0302)  evaluator_time: 0.0010 (0.0006)  time: 0.0430  data: 0.0124  max mem: 1105\n",
      "flag\n",
      "Test: Total time: 0:00:04 (0.0443 s / it)\n",
      "Averaged stats: model_time: 0.0285 (0.0302)  evaluator_time: 0.0010 (0.0006)\n",
      "Accumulating evaluation results...\n",
      "DONE (t=0.02s).\n",
      "IoU metric: bbox\n",
      " Average Precision  (AP) @[ IoU=0.50:0.95 | area=   all | maxDets=100 ] = 0.394\n",
      " Average Precision  (AP) @[ IoU=0.50      | area=   all | maxDets=100 ] = 0.604\n",
      " Average Precision  (AP) @[ IoU=0.75      | area=   all | maxDets=100 ] = 0.435\n",
      " Average Precision  (AP) @[ IoU=0.50:0.95 | area= small | maxDets=100 ] = -1.000\n",
      " Average Precision  (AP) @[ IoU=0.50:0.95 | area=medium | maxDets=100 ] = -1.000\n",
      " Average Precision  (AP) @[ IoU=0.50:0.95 | area= large | maxDets=100 ] = 0.394\n",
      " Average Recall     (AR) @[ IoU=0.50:0.95 | area=   all | maxDets=  1 ] = 0.513\n",
      " Average Recall     (AR) @[ IoU=0.50:0.95 | area=   all | maxDets= 10 ] = 0.531\n",
      " Average Recall     (AR) @[ IoU=0.50:0.95 | area=   all | maxDets=100 ] = 0.531\n",
      " Average Recall     (AR) @[ IoU=0.50:0.95 | area= small | maxDets=100 ] = -1.000\n",
      " Average Recall     (AR) @[ IoU=0.50:0.95 | area=medium | maxDets=100 ] = -1.000\n",
      " Average Recall     (AR) @[ IoU=0.50:0.95 | area= large | maxDets=100 ] = 0.531\n"
     ]
    },
    {
     "name": "stderr",
     "output_type": "stream",
     "text": [
      "0it [00:00, ?it/s]"
     ]
    },
    {
     "name": "stdout",
     "output_type": "stream",
     "text": [
      "<torch.utils.data.dataloader.DataLoader object at 0x0000024C1147A620>\n"
     ]
    },
    {
     "name": "stderr",
     "output_type": "stream",
     "text": [
      "2it [00:00,  4.91it/s]"
     ]
    },
    {
     "name": "stdout",
     "output_type": "stream",
     "text": [
      "Epoch: [21]  [   0/2437]  eta: 0:09:03  lr: 0.000050  loss: 0.4900 (0.4900)  bbox_regression: 0.1162 (0.1162)  classification: 0.3738 (0.3738)  time: 0.2230  data: 0.0520  max mem: 1105\n"
     ]
    },
    {
     "name": "stderr",
     "output_type": "stream",
     "text": [
      "102it [00:14,  7.39it/s]"
     ]
    },
    {
     "name": "stdout",
     "output_type": "stream",
     "text": [
      "Epoch: [21]  [ 100/2437]  eta: 0:05:20  lr: 0.000050  loss: 0.6669 (0.7621)  bbox_regression: 0.1437 (0.1716)  classification: 0.4931 (0.5905)  time: 0.1353  data: 0.0410  max mem: 1105\n"
     ]
    },
    {
     "name": "stderr",
     "output_type": "stream",
     "text": [
      "202it [00:27,  7.35it/s]"
     ]
    },
    {
     "name": "stdout",
     "output_type": "stream",
     "text": [
      "Epoch: [21]  [ 200/2437]  eta: 0:05:04  lr: 0.000050  loss: 0.5882 (0.7393)  bbox_regression: 0.1217 (0.1639)  classification: 0.4533 (0.5754)  time: 0.1362  data: 0.0425  max mem: 1105\n"
     ]
    },
    {
     "name": "stderr",
     "output_type": "stream",
     "text": [
      "302it [00:42,  6.55it/s]"
     ]
    },
    {
     "name": "stdout",
     "output_type": "stream",
     "text": [
      "Epoch: [21]  [ 300/2437]  eta: 0:04:57  lr: 0.000050  loss: 0.6557 (0.7295)  bbox_regression: 0.1280 (0.1618)  classification: 0.5024 (0.5677)  time: 0.1614  data: 0.0513  max mem: 1105\n"
     ]
    },
    {
     "name": "stderr",
     "output_type": "stream",
     "text": [
      "402it [00:56,  7.09it/s]"
     ]
    },
    {
     "name": "stdout",
     "output_type": "stream",
     "text": [
      "Epoch: [21]  [ 400/2437]  eta: 0:04:47  lr: 0.000050  loss: 0.6564 (0.7369)  bbox_regression: 0.1244 (0.1608)  classification: 0.5424 (0.5762)  time: 0.1398  data: 0.0437  max mem: 1105\n"
     ]
    },
    {
     "name": "stderr",
     "output_type": "stream",
     "text": [
      "502it [01:10,  7.41it/s]"
     ]
    },
    {
     "name": "stdout",
     "output_type": "stream",
     "text": [
      "Epoch: [21]  [ 500/2437]  eta: 0:04:33  lr: 0.000050  loss: 0.6713 (0.7324)  bbox_regression: 0.1368 (0.1592)  classification: 0.5321 (0.5732)  time: 0.1395  data: 0.0415  max mem: 1105\n"
     ]
    },
    {
     "name": "stderr",
     "output_type": "stream",
     "text": [
      "602it [01:24,  6.94it/s]"
     ]
    },
    {
     "name": "stdout",
     "output_type": "stream",
     "text": [
      "Epoch: [21]  [ 600/2437]  eta: 0:04:18  lr: 0.000050  loss: 0.7104 (0.7370)  bbox_regression: 0.1467 (0.1597)  classification: 0.5501 (0.5773)  time: 0.1437  data: 0.0459  max mem: 1105\n"
     ]
    },
    {
     "name": "stderr",
     "output_type": "stream",
     "text": [
      "702it [01:38,  7.22it/s]"
     ]
    },
    {
     "name": "stdout",
     "output_type": "stream",
     "text": [
      "Epoch: [21]  [ 700/2437]  eta: 0:04:04  lr: 0.000050  loss: 0.6358 (0.7345)  bbox_regression: 0.1499 (0.1591)  classification: 0.4785 (0.5754)  time: 0.1399  data: 0.0430  max mem: 1105\n"
     ]
    },
    {
     "name": "stderr",
     "output_type": "stream",
     "text": [
      "802it [01:52,  7.24it/s]"
     ]
    },
    {
     "name": "stdout",
     "output_type": "stream",
     "text": [
      "Epoch: [21]  [ 800/2437]  eta: 0:03:49  lr: 0.000050  loss: 0.5787 (0.7394)  bbox_regression: 0.1295 (0.1607)  classification: 0.4577 (0.5787)  time: 0.1375  data: 0.0416  max mem: 1105\n"
     ]
    },
    {
     "name": "stderr",
     "output_type": "stream",
     "text": [
      "902it [02:06,  7.23it/s]"
     ]
    },
    {
     "name": "stdout",
     "output_type": "stream",
     "text": [
      "Epoch: [21]  [ 900/2437]  eta: 0:03:35  lr: 0.000050  loss: 0.7230 (0.7391)  bbox_regression: 0.1429 (0.1628)  classification: 0.5579 (0.5763)  time: 0.1384  data: 0.0404  max mem: 1105\n"
     ]
    },
    {
     "name": "stderr",
     "output_type": "stream",
     "text": [
      "1002it [02:20,  7.23it/s]"
     ]
    },
    {
     "name": "stdout",
     "output_type": "stream",
     "text": [
      "Epoch: [21]  [1000/2437]  eta: 0:03:21  lr: 0.000050  loss: 0.5974 (0.7435)  bbox_regression: 0.1388 (0.1640)  classification: 0.4608 (0.5795)  time: 0.1375  data: 0.0412  max mem: 1105\n"
     ]
    },
    {
     "name": "stderr",
     "output_type": "stream",
     "text": [
      "1102it [02:34,  7.26it/s]"
     ]
    },
    {
     "name": "stdout",
     "output_type": "stream",
     "text": [
      "Epoch: [21]  [1100/2437]  eta: 0:03:06  lr: 0.000050  loss: 0.6627 (0.7473)  bbox_regression: 0.1608 (0.1644)  classification: 0.5057 (0.5829)  time: 0.1395  data: 0.0409  max mem: 1105\n"
     ]
    },
    {
     "name": "stderr",
     "output_type": "stream",
     "text": [
      "1202it [02:48,  6.95it/s]"
     ]
    },
    {
     "name": "stdout",
     "output_type": "stream",
     "text": [
      "Epoch: [21]  [1200/2437]  eta: 0:02:52  lr: 0.000050  loss: 0.6486 (0.7464)  bbox_regression: 0.1407 (0.1645)  classification: 0.4987 (0.5819)  time: 0.1412  data: 0.0428  max mem: 1105\n"
     ]
    },
    {
     "name": "stderr",
     "output_type": "stream",
     "text": [
      "1302it [03:01,  7.23it/s]"
     ]
    },
    {
     "name": "stdout",
     "output_type": "stream",
     "text": [
      "Epoch: [21]  [1300/2437]  eta: 0:02:38  lr: 0.000050  loss: 0.6366 (0.7469)  bbox_regression: 0.1497 (0.1646)  classification: 0.5119 (0.5823)  time: 0.1400  data: 0.0404  max mem: 1105\n"
     ]
    },
    {
     "name": "stderr",
     "output_type": "stream",
     "text": [
      "1402it [03:15,  7.07it/s]"
     ]
    },
    {
     "name": "stdout",
     "output_type": "stream",
     "text": [
      "Epoch: [21]  [1400/2437]  eta: 0:02:24  lr: 0.000050  loss: 0.8260 (0.7490)  bbox_regression: 0.1727 (0.1648)  classification: 0.6435 (0.5842)  time: 0.1390  data: 0.0411  max mem: 1105\n"
     ]
    },
    {
     "name": "stderr",
     "output_type": "stream",
     "text": [
      "1502it [03:29,  7.14it/s]"
     ]
    },
    {
     "name": "stdout",
     "output_type": "stream",
     "text": [
      "Epoch: [21]  [1500/2437]  eta: 0:02:10  lr: 0.000050  loss: 0.6962 (0.7480)  bbox_regression: 0.1473 (0.1645)  classification: 0.5071 (0.5835)  time: 0.1399  data: 0.0413  max mem: 1105\n"
     ]
    },
    {
     "name": "stderr",
     "output_type": "stream",
     "text": [
      "1602it [03:43,  7.22it/s]"
     ]
    },
    {
     "name": "stdout",
     "output_type": "stream",
     "text": [
      "Epoch: [21]  [1600/2437]  eta: 0:01:56  lr: 0.000050  loss: 0.6119 (0.7508)  bbox_regression: 0.1411 (0.1656)  classification: 0.4586 (0.5852)  time: 0.1389  data: 0.0408  max mem: 1105\n"
     ]
    },
    {
     "name": "stderr",
     "output_type": "stream",
     "text": [
      "1702it [03:57,  6.93it/s]"
     ]
    },
    {
     "name": "stdout",
     "output_type": "stream",
     "text": [
      "Epoch: [21]  [1700/2437]  eta: 0:01:42  lr: 0.000050  loss: 0.5985 (0.7502)  bbox_regression: 0.1309 (0.1655)  classification: 0.4775 (0.5847)  time: 0.1411  data: 0.0440  max mem: 1105\n"
     ]
    },
    {
     "name": "stderr",
     "output_type": "stream",
     "text": [
      "1802it [04:11,  7.35it/s]"
     ]
    },
    {
     "name": "stdout",
     "output_type": "stream",
     "text": [
      "Epoch: [21]  [1800/2437]  eta: 0:01:28  lr: 0.000050  loss: 0.5978 (0.7493)  bbox_regression: 0.1482 (0.1653)  classification: 0.4473 (0.5840)  time: 0.1390  data: 0.0406  max mem: 1105\n"
     ]
    },
    {
     "name": "stderr",
     "output_type": "stream",
     "text": [
      "1902it [04:25,  7.24it/s]"
     ]
    },
    {
     "name": "stdout",
     "output_type": "stream",
     "text": [
      "Epoch: [21]  [1900/2437]  eta: 0:01:14  lr: 0.000050  loss: 0.5969 (0.7478)  bbox_regression: 0.1184 (0.1647)  classification: 0.4751 (0.5832)  time: 0.1395  data: 0.0420  max mem: 1105\n"
     ]
    },
    {
     "name": "stderr",
     "output_type": "stream",
     "text": [
      "2002it [04:39,  7.32it/s]"
     ]
    },
    {
     "name": "stdout",
     "output_type": "stream",
     "text": [
      "Epoch: [21]  [2000/2437]  eta: 0:01:01  lr: 0.000050  loss: 0.6079 (0.7474)  bbox_regression: 0.1338 (0.1642)  classification: 0.4767 (0.5831)  time: 0.1374  data: 0.0414  max mem: 1105\n"
     ]
    },
    {
     "name": "stderr",
     "output_type": "stream",
     "text": [
      "2102it [04:53,  7.10it/s]"
     ]
    },
    {
     "name": "stdout",
     "output_type": "stream",
     "text": [
      "Epoch: [21]  [2100/2437]  eta: 0:00:47  lr: 0.000050  loss: 0.5701 (0.7464)  bbox_regression: 0.1280 (0.1636)  classification: 0.4452 (0.5828)  time: 0.1395  data: 0.0424  max mem: 1105\n"
     ]
    },
    {
     "name": "stderr",
     "output_type": "stream",
     "text": [
      "2202it [05:07,  7.18it/s]"
     ]
    },
    {
     "name": "stdout",
     "output_type": "stream",
     "text": [
      "Epoch: [21]  [2200/2437]  eta: 0:00:33  lr: 0.000050  loss: 0.6488 (0.7454)  bbox_regression: 0.1492 (0.1636)  classification: 0.4960 (0.5818)  time: 0.1405  data: 0.0428  max mem: 1105\n"
     ]
    },
    {
     "name": "stderr",
     "output_type": "stream",
     "text": [
      "2302it [05:21,  7.25it/s]"
     ]
    },
    {
     "name": "stdout",
     "output_type": "stream",
     "text": [
      "Epoch: [21]  [2300/2437]  eta: 0:00:19  lr: 0.000050  loss: 0.6320 (0.7442)  bbox_regression: 0.1616 (0.1632)  classification: 0.4779 (0.5809)  time: 0.1386  data: 0.0414  max mem: 1105\n"
     ]
    },
    {
     "name": "stderr",
     "output_type": "stream",
     "text": [
      "2402it [05:35,  7.06it/s]"
     ]
    },
    {
     "name": "stdout",
     "output_type": "stream",
     "text": [
      "Epoch: [21]  [2400/2437]  eta: 0:00:05  lr: 0.000050  loss: 0.6076 (0.7431)  bbox_regression: 0.1315 (0.1631)  classification: 0.4470 (0.5800)  time: 0.1388  data: 0.0414  max mem: 1105\n"
     ]
    },
    {
     "name": "stderr",
     "output_type": "stream",
     "text": [
      "2437it [05:40,  7.16it/s]\n"
     ]
    },
    {
     "name": "stdout",
     "output_type": "stream",
     "text": [
      "Epoch: [21]  [2436/2437]  eta: 0:00:00  lr: 0.000050  loss: 0.5921 (0.7418)  bbox_regression: 0.1432 (0.1628)  classification: 0.4456 (0.5790)  time: 0.1366  data: 0.0401  max mem: 1105\n",
      "flag\n",
      "Epoch: [21] Total time: 0:05:40 (0.1396 s / it)\n",
      "saved dict\n",
      "creating index...\n",
      "index created!\n",
      "<torch.utils.data.dataloader.DataLoader object at 0x0000024C1147B310>\n",
      "Test:  [  0/100]  eta: 0:00:03  model_time: 0.0238 (0.0238)  evaluator_time: 0.0000 (0.0000)  time: 0.0358  data: 0.0120  max mem: 1105\n",
      "Test:  [ 99/100]  eta: 0:00:00  model_time: 0.0280 (0.0263)  evaluator_time: 0.0010 (0.0006)  time: 0.0426  data: 0.0124  max mem: 1105\n",
      "flag\n",
      "Test: Total time: 0:00:04 (0.0402 s / it)\n",
      "Averaged stats: model_time: 0.0280 (0.0263)  evaluator_time: 0.0010 (0.0006)\n",
      "Accumulating evaluation results...\n",
      "DONE (t=0.01s).\n",
      "IoU metric: bbox\n",
      " Average Precision  (AP) @[ IoU=0.50:0.95 | area=   all | maxDets=100 ] = 0.744\n",
      " Average Precision  (AP) @[ IoU=0.50      | area=   all | maxDets=100 ] = 0.925\n",
      " Average Precision  (AP) @[ IoU=0.75      | area=   all | maxDets=100 ] = 0.913\n",
      " Average Precision  (AP) @[ IoU=0.50:0.95 | area= small | maxDets=100 ] = -1.000\n",
      " Average Precision  (AP) @[ IoU=0.50:0.95 | area=medium | maxDets=100 ] = 0.000\n",
      " Average Precision  (AP) @[ IoU=0.50:0.95 | area= large | maxDets=100 ] = 0.748\n",
      " Average Recall     (AR) @[ IoU=0.50:0.95 | area=   all | maxDets=  1 ] = 0.781\n",
      " Average Recall     (AR) @[ IoU=0.50:0.95 | area=   all | maxDets= 10 ] = 0.789\n",
      " Average Recall     (AR) @[ IoU=0.50:0.95 | area=   all | maxDets=100 ] = 0.789\n",
      " Average Recall     (AR) @[ IoU=0.50:0.95 | area= small | maxDets=100 ] = -1.000\n",
      " Average Recall     (AR) @[ IoU=0.50:0.95 | area=medium | maxDets=100 ] = 0.000\n",
      " Average Recall     (AR) @[ IoU=0.50:0.95 | area= large | maxDets=100 ] = 0.793\n",
      "creating index...\n",
      "index created!\n",
      "<torch.utils.data.dataloader.DataLoader object at 0x0000024C1147A470>\n",
      "Test:  [  0/100]  eta: 0:00:04  model_time: 0.0349 (0.0349)  evaluator_time: 0.0010 (0.0010)  time: 0.0491  data: 0.0122  max mem: 1105\n",
      "Test:  [ 99/100]  eta: 0:00:00  model_time: 0.0310 (0.0321)  evaluator_time: 0.0010 (0.0006)  time: 0.0451  data: 0.0122  max mem: 1105\n",
      "flag\n",
      "Test: Total time: 0:00:04 (0.0461 s / it)\n",
      "Averaged stats: model_time: 0.0310 (0.0321)  evaluator_time: 0.0010 (0.0006)\n",
      "Accumulating evaluation results...\n",
      "DONE (t=0.02s).\n",
      "IoU metric: bbox\n",
      " Average Precision  (AP) @[ IoU=0.50:0.95 | area=   all | maxDets=100 ] = 0.396\n",
      " Average Precision  (AP) @[ IoU=0.50      | area=   all | maxDets=100 ] = 0.607\n",
      " Average Precision  (AP) @[ IoU=0.75      | area=   all | maxDets=100 ] = 0.436\n",
      " Average Precision  (AP) @[ IoU=0.50:0.95 | area= small | maxDets=100 ] = -1.000\n",
      " Average Precision  (AP) @[ IoU=0.50:0.95 | area=medium | maxDets=100 ] = -1.000\n",
      " Average Precision  (AP) @[ IoU=0.50:0.95 | area= large | maxDets=100 ] = 0.396\n",
      " Average Recall     (AR) @[ IoU=0.50:0.95 | area=   all | maxDets=  1 ] = 0.508\n",
      " Average Recall     (AR) @[ IoU=0.50:0.95 | area=   all | maxDets= 10 ] = 0.526\n",
      " Average Recall     (AR) @[ IoU=0.50:0.95 | area=   all | maxDets=100 ] = 0.526\n",
      " Average Recall     (AR) @[ IoU=0.50:0.95 | area= small | maxDets=100 ] = -1.000\n",
      " Average Recall     (AR) @[ IoU=0.50:0.95 | area=medium | maxDets=100 ] = -1.000\n",
      " Average Recall     (AR) @[ IoU=0.50:0.95 | area= large | maxDets=100 ] = 0.526\n"
     ]
    },
    {
     "name": "stderr",
     "output_type": "stream",
     "text": [
      "0it [00:00, ?it/s]"
     ]
    },
    {
     "name": "stdout",
     "output_type": "stream",
     "text": [
      "<torch.utils.data.dataloader.DataLoader object at 0x0000024C1147A620>\n"
     ]
    },
    {
     "name": "stderr",
     "output_type": "stream",
     "text": [
      "2it [00:00,  4.69it/s]"
     ]
    },
    {
     "name": "stdout",
     "output_type": "stream",
     "text": [
      "Epoch: [22]  [   0/2437]  eta: 0:10:11  lr: 0.000050  loss: 1.0448 (1.0448)  bbox_regression: 0.1448 (0.1448)  classification: 0.9000 (0.9000)  time: 0.2510  data: 0.0490  max mem: 1105\n"
     ]
    },
    {
     "name": "stderr",
     "output_type": "stream",
     "text": [
      "102it [00:14,  7.23it/s]"
     ]
    },
    {
     "name": "stdout",
     "output_type": "stream",
     "text": [
      "Epoch: [22]  [ 100/2437]  eta: 0:05:29  lr: 0.000050  loss: 0.5860 (0.7563)  bbox_regression: 0.1429 (0.1607)  classification: 0.4431 (0.5955)  time: 0.1382  data: 0.0408  max mem: 1105\n"
     ]
    },
    {
     "name": "stderr",
     "output_type": "stream",
     "text": [
      "202it [00:28,  7.14it/s]"
     ]
    },
    {
     "name": "stdout",
     "output_type": "stream",
     "text": [
      "Epoch: [22]  [ 200/2437]  eta: 0:05:13  lr: 0.000050  loss: 0.6335 (0.7488)  bbox_regression: 0.1361 (0.1611)  classification: 0.4987 (0.5877)  time: 0.1409  data: 0.0423  max mem: 1105\n"
     ]
    },
    {
     "name": "stderr",
     "output_type": "stream",
     "text": [
      "302it [00:42,  7.27it/s]"
     ]
    },
    {
     "name": "stdout",
     "output_type": "stream",
     "text": [
      "Epoch: [22]  [ 300/2437]  eta: 0:05:00  lr: 0.000050  loss: 0.5902 (0.7260)  bbox_regression: 0.1328 (0.1592)  classification: 0.4716 (0.5668)  time: 0.1406  data: 0.0428  max mem: 1105\n"
     ]
    },
    {
     "name": "stderr",
     "output_type": "stream",
     "text": [
      "402it [00:56,  7.23it/s]"
     ]
    },
    {
     "name": "stdout",
     "output_type": "stream",
     "text": [
      "Epoch: [22]  [ 400/2437]  eta: 0:04:45  lr: 0.000050  loss: 0.7204 (0.7265)  bbox_regression: 0.1740 (0.1605)  classification: 0.5327 (0.5660)  time: 0.1373  data: 0.0399  max mem: 1105\n"
     ]
    },
    {
     "name": "stderr",
     "output_type": "stream",
     "text": [
      "502it [01:10,  7.18it/s]"
     ]
    },
    {
     "name": "stdout",
     "output_type": "stream",
     "text": [
      "Epoch: [22]  [ 500/2437]  eta: 0:04:31  lr: 0.000050  loss: 0.7438 (0.7339)  bbox_regression: 0.1382 (0.1618)  classification: 0.5186 (0.5721)  time: 0.1395  data: 0.0414  max mem: 1105\n"
     ]
    },
    {
     "name": "stderr",
     "output_type": "stream",
     "text": [
      "602it [01:24,  7.06it/s]"
     ]
    },
    {
     "name": "stdout",
     "output_type": "stream",
     "text": [
      "Epoch: [22]  [ 600/2437]  eta: 0:04:16  lr: 0.000050  loss: 0.6329 (0.7249)  bbox_regression: 0.1286 (0.1606)  classification: 0.5103 (0.5643)  time: 0.1408  data: 0.0423  max mem: 1105\n"
     ]
    },
    {
     "name": "stderr",
     "output_type": "stream",
     "text": [
      "702it [01:38,  7.03it/s]"
     ]
    },
    {
     "name": "stdout",
     "output_type": "stream",
     "text": [
      "Epoch: [22]  [ 700/2437]  eta: 0:04:02  lr: 0.000050  loss: 0.6428 (0.7220)  bbox_regression: 0.1221 (0.1602)  classification: 0.4644 (0.5618)  time: 0.1377  data: 0.0411  max mem: 1105\n"
     ]
    },
    {
     "name": "stderr",
     "output_type": "stream",
     "text": [
      "802it [01:52,  7.24it/s]"
     ]
    },
    {
     "name": "stdout",
     "output_type": "stream",
     "text": [
      "Epoch: [22]  [ 800/2437]  eta: 0:03:48  lr: 0.000050  loss: 0.7013 (0.7207)  bbox_regression: 0.1655 (0.1600)  classification: 0.5194 (0.5607)  time: 0.1391  data: 0.0425  max mem: 1105\n"
     ]
    },
    {
     "name": "stderr",
     "output_type": "stream",
     "text": [
      "902it [02:05,  7.00it/s]"
     ]
    },
    {
     "name": "stdout",
     "output_type": "stream",
     "text": [
      "Epoch: [22]  [ 900/2437]  eta: 0:03:34  lr: 0.000050  loss: 0.5385 (0.7204)  bbox_regression: 0.1317 (0.1596)  classification: 0.3855 (0.5608)  time: 0.1386  data: 0.0412  max mem: 1105\n"
     ]
    },
    {
     "name": "stderr",
     "output_type": "stream",
     "text": [
      "1002it [02:19,  7.26it/s]"
     ]
    },
    {
     "name": "stdout",
     "output_type": "stream",
     "text": [
      "Epoch: [22]  [1000/2437]  eta: 0:03:20  lr: 0.000050  loss: 0.7297 (0.7236)  bbox_regression: 0.1509 (0.1599)  classification: 0.5491 (0.5637)  time: 0.1393  data: 0.0415  max mem: 1105\n"
     ]
    },
    {
     "name": "stderr",
     "output_type": "stream",
     "text": [
      "1102it [02:33,  7.27it/s]"
     ]
    },
    {
     "name": "stdout",
     "output_type": "stream",
     "text": [
      "Epoch: [22]  [1100/2437]  eta: 0:03:06  lr: 0.000050  loss: 0.6253 (0.7250)  bbox_regression: 0.1416 (0.1591)  classification: 0.4828 (0.5659)  time: 0.1375  data: 0.0398  max mem: 1105\n"
     ]
    },
    {
     "name": "stderr",
     "output_type": "stream",
     "text": [
      "1202it [02:47,  7.20it/s]"
     ]
    },
    {
     "name": "stdout",
     "output_type": "stream",
     "text": [
      "Epoch: [22]  [1200/2437]  eta: 0:02:52  lr: 0.000050  loss: 0.5535 (0.7222)  bbox_regression: 0.1477 (0.1588)  classification: 0.4339 (0.5634)  time: 0.1377  data: 0.0411  max mem: 1105\n"
     ]
    },
    {
     "name": "stderr",
     "output_type": "stream",
     "text": [
      "1302it [03:01,  7.01it/s]"
     ]
    },
    {
     "name": "stdout",
     "output_type": "stream",
     "text": [
      "Epoch: [22]  [1300/2437]  eta: 0:02:38  lr: 0.000050  loss: 0.6365 (0.7269)  bbox_regression: 0.1313 (0.1593)  classification: 0.4871 (0.5676)  time: 0.1404  data: 0.0423  max mem: 1105\n"
     ]
    },
    {
     "name": "stderr",
     "output_type": "stream",
     "text": [
      "1402it [03:15,  7.37it/s]"
     ]
    },
    {
     "name": "stdout",
     "output_type": "stream",
     "text": [
      "Epoch: [22]  [1400/2437]  eta: 0:02:24  lr: 0.000050  loss: 0.6711 (0.7268)  bbox_regression: 0.1385 (0.1591)  classification: 0.4918 (0.5676)  time: 0.1376  data: 0.0412  max mem: 1105\n"
     ]
    },
    {
     "name": "stderr",
     "output_type": "stream",
     "text": [
      "1502it [03:29,  7.06it/s]"
     ]
    },
    {
     "name": "stdout",
     "output_type": "stream",
     "text": [
      "Epoch: [22]  [1500/2437]  eta: 0:02:10  lr: 0.000050  loss: 0.6771 (0.7274)  bbox_regression: 0.1526 (0.1592)  classification: 0.5183 (0.5682)  time: 0.1405  data: 0.0424  max mem: 1105\n"
     ]
    },
    {
     "name": "stderr",
     "output_type": "stream",
     "text": [
      "1602it [03:43,  7.27it/s]"
     ]
    },
    {
     "name": "stdout",
     "output_type": "stream",
     "text": [
      "Epoch: [22]  [1600/2437]  eta: 0:01:56  lr: 0.000050  loss: 0.7474 (0.7289)  bbox_regression: 0.1346 (0.1596)  classification: 0.5573 (0.5694)  time: 0.1393  data: 0.0428  max mem: 1105\n"
     ]
    },
    {
     "name": "stderr",
     "output_type": "stream",
     "text": [
      "1702it [03:57,  6.94it/s]"
     ]
    },
    {
     "name": "stdout",
     "output_type": "stream",
     "text": [
      "Epoch: [22]  [1700/2437]  eta: 0:01:42  lr: 0.000050  loss: 0.5371 (0.7263)  bbox_regression: 0.1149 (0.1593)  classification: 0.4468 (0.5670)  time: 0.1400  data: 0.0418  max mem: 1105\n"
     ]
    },
    {
     "name": "stderr",
     "output_type": "stream",
     "text": [
      "1802it [04:12,  7.11it/s]"
     ]
    },
    {
     "name": "stdout",
     "output_type": "stream",
     "text": [
      "Epoch: [22]  [1800/2437]  eta: 0:01:29  lr: 0.000050  loss: 0.7304 (0.7274)  bbox_regression: 0.1341 (0.1594)  classification: 0.5132 (0.5680)  time: 0.1397  data: 0.0428  max mem: 1105\n"
     ]
    },
    {
     "name": "stderr",
     "output_type": "stream",
     "text": [
      "1902it [04:25,  7.19it/s]"
     ]
    },
    {
     "name": "stdout",
     "output_type": "stream",
     "text": [
      "Epoch: [22]  [1900/2437]  eta: 0:01:15  lr: 0.000050  loss: 0.6794 (0.7288)  bbox_regression: 0.1568 (0.1598)  classification: 0.5042 (0.5690)  time: 0.1387  data: 0.0421  max mem: 1105\n"
     ]
    },
    {
     "name": "stderr",
     "output_type": "stream",
     "text": [
      "2002it [04:39,  7.22it/s]"
     ]
    },
    {
     "name": "stdout",
     "output_type": "stream",
     "text": [
      "Epoch: [22]  [2000/2437]  eta: 0:01:01  lr: 0.000050  loss: 0.6971 (0.7299)  bbox_regression: 0.1474 (0.1601)  classification: 0.5339 (0.5698)  time: 0.1395  data: 0.0417  max mem: 1105\n"
     ]
    },
    {
     "name": "stderr",
     "output_type": "stream",
     "text": [
      "2102it [04:53,  7.31it/s]"
     ]
    },
    {
     "name": "stdout",
     "output_type": "stream",
     "text": [
      "Epoch: [22]  [2100/2437]  eta: 0:00:47  lr: 0.000050  loss: 0.5642 (0.7292)  bbox_regression: 0.1432 (0.1597)  classification: 0.4065 (0.5695)  time: 0.1381  data: 0.0416  max mem: 1105\n"
     ]
    },
    {
     "name": "stderr",
     "output_type": "stream",
     "text": [
      "2202it [05:07,  7.12it/s]"
     ]
    },
    {
     "name": "stdout",
     "output_type": "stream",
     "text": [
      "Epoch: [22]  [2200/2437]  eta: 0:00:33  lr: 0.000050  loss: 0.6368 (0.7299)  bbox_regression: 0.1472 (0.1606)  classification: 0.4535 (0.5693)  time: 0.1398  data: 0.0423  max mem: 1105\n"
     ]
    },
    {
     "name": "stderr",
     "output_type": "stream",
     "text": [
      "2302it [05:21,  7.47it/s]"
     ]
    },
    {
     "name": "stdout",
     "output_type": "stream",
     "text": [
      "Epoch: [22]  [2300/2437]  eta: 0:00:19  lr: 0.000050  loss: 0.6311 (0.7298)  bbox_regression: 0.1516 (0.1604)  classification: 0.4912 (0.5694)  time: 0.1374  data: 0.0408  max mem: 1105\n"
     ]
    },
    {
     "name": "stderr",
     "output_type": "stream",
     "text": [
      "2402it [05:35,  7.18it/s]"
     ]
    },
    {
     "name": "stdout",
     "output_type": "stream",
     "text": [
      "Epoch: [22]  [2400/2437]  eta: 0:00:05  lr: 0.000050  loss: 0.6484 (0.7298)  bbox_regression: 0.1343 (0.1603)  classification: 0.4956 (0.5695)  time: 0.1372  data: 0.0395  max mem: 1105\n"
     ]
    },
    {
     "name": "stderr",
     "output_type": "stream",
     "text": [
      "2437it [05:40,  7.16it/s]\n"
     ]
    },
    {
     "name": "stdout",
     "output_type": "stream",
     "text": [
      "Epoch: [22]  [2436/2437]  eta: 0:00:00  lr: 0.000050  loss: 0.7027 (0.7304)  bbox_regression: 0.1559 (0.1604)  classification: 0.5139 (0.5700)  time: 0.1355  data: 0.0409  max mem: 1105\n",
      "flag\n",
      "Epoch: [22] Total time: 0:05:40 (0.1396 s / it)\n",
      "saved dict\n",
      "creating index...\n",
      "index created!\n",
      "<torch.utils.data.dataloader.DataLoader object at 0x0000024C1147B310>\n",
      "Test:  [  0/100]  eta: 0:00:03  model_time: 0.0190 (0.0190)  evaluator_time: 0.0010 (0.0010)  time: 0.0330  data: 0.0120  max mem: 1105\n",
      "Test:  [ 99/100]  eta: 0:00:00  model_time: 0.0280 (0.0260)  evaluator_time: 0.0010 (0.0006)  time: 0.0426  data: 0.0122  max mem: 1105\n",
      "flag\n",
      "Test: Total time: 0:00:03 (0.0400 s / it)\n",
      "Averaged stats: model_time: 0.0280 (0.0260)  evaluator_time: 0.0010 (0.0006)\n",
      "Accumulating evaluation results...\n",
      "DONE (t=0.01s).\n",
      "IoU metric: bbox\n",
      " Average Precision  (AP) @[ IoU=0.50:0.95 | area=   all | maxDets=100 ] = 0.749\n",
      " Average Precision  (AP) @[ IoU=0.50      | area=   all | maxDets=100 ] = 0.925\n",
      " Average Precision  (AP) @[ IoU=0.75      | area=   all | maxDets=100 ] = 0.913\n",
      " Average Precision  (AP) @[ IoU=0.50:0.95 | area= small | maxDets=100 ] = -1.000\n",
      " Average Precision  (AP) @[ IoU=0.50:0.95 | area=medium | maxDets=100 ] = 0.000\n",
      " Average Precision  (AP) @[ IoU=0.50:0.95 | area= large | maxDets=100 ] = 0.753\n",
      " Average Recall     (AR) @[ IoU=0.50:0.95 | area=   all | maxDets=  1 ] = 0.785\n",
      " Average Recall     (AR) @[ IoU=0.50:0.95 | area=   all | maxDets= 10 ] = 0.794\n",
      " Average Recall     (AR) @[ IoU=0.50:0.95 | area=   all | maxDets=100 ] = 0.794\n",
      " Average Recall     (AR) @[ IoU=0.50:0.95 | area= small | maxDets=100 ] = -1.000\n",
      " Average Recall     (AR) @[ IoU=0.50:0.95 | area=medium | maxDets=100 ] = 0.000\n",
      " Average Recall     (AR) @[ IoU=0.50:0.95 | area= large | maxDets=100 ] = 0.798\n",
      "creating index...\n",
      "index created!\n",
      "<torch.utils.data.dataloader.DataLoader object at 0x0000024C1147A470>\n",
      "Test:  [  0/100]  eta: 0:00:04  model_time: 0.0365 (0.0365)  evaluator_time: 0.0000 (0.0000)  time: 0.0495  data: 0.0120  max mem: 1105\n",
      "Test:  [ 99/100]  eta: 0:00:00  model_time: 0.0310 (0.0323)  evaluator_time: 0.0010 (0.0006)  time: 0.0452  data: 0.0123  max mem: 1105\n",
      "flag\n",
      "Test: Total time: 0:00:04 (0.0464 s / it)\n",
      "Averaged stats: model_time: 0.0310 (0.0323)  evaluator_time: 0.0010 (0.0006)\n",
      "Accumulating evaluation results...\n",
      "DONE (t=0.02s).\n",
      "IoU metric: bbox\n",
      " Average Precision  (AP) @[ IoU=0.50:0.95 | area=   all | maxDets=100 ] = 0.397\n",
      " Average Precision  (AP) @[ IoU=0.50      | area=   all | maxDets=100 ] = 0.604\n",
      " Average Precision  (AP) @[ IoU=0.75      | area=   all | maxDets=100 ] = 0.435\n",
      " Average Precision  (AP) @[ IoU=0.50:0.95 | area= small | maxDets=100 ] = -1.000\n",
      " Average Precision  (AP) @[ IoU=0.50:0.95 | area=medium | maxDets=100 ] = -1.000\n",
      " Average Precision  (AP) @[ IoU=0.50:0.95 | area= large | maxDets=100 ] = 0.397\n",
      " Average Recall     (AR) @[ IoU=0.50:0.95 | area=   all | maxDets=  1 ] = 0.514\n",
      " Average Recall     (AR) @[ IoU=0.50:0.95 | area=   all | maxDets= 10 ] = 0.532\n",
      " Average Recall     (AR) @[ IoU=0.50:0.95 | area=   all | maxDets=100 ] = 0.532\n",
      " Average Recall     (AR) @[ IoU=0.50:0.95 | area= small | maxDets=100 ] = -1.000\n",
      " Average Recall     (AR) @[ IoU=0.50:0.95 | area=medium | maxDets=100 ] = -1.000\n",
      " Average Recall     (AR) @[ IoU=0.50:0.95 | area= large | maxDets=100 ] = 0.532\n"
     ]
    },
    {
     "name": "stderr",
     "output_type": "stream",
     "text": [
      "0it [00:00, ?it/s]"
     ]
    },
    {
     "name": "stdout",
     "output_type": "stream",
     "text": [
      "<torch.utils.data.dataloader.DataLoader object at 0x0000024C1147A620>\n"
     ]
    },
    {
     "name": "stderr",
     "output_type": "stream",
     "text": [
      "2it [00:00,  4.76it/s]"
     ]
    },
    {
     "name": "stdout",
     "output_type": "stream",
     "text": [
      "Epoch: [23]  [   0/2437]  eta: 0:09:30  lr: 0.000050  loss: 0.7047 (0.7047)  bbox_regression: 0.1377 (0.1377)  classification: 0.5670 (0.5670)  time: 0.2343  data: 0.0490  max mem: 1105\n"
     ]
    },
    {
     "name": "stderr",
     "output_type": "stream",
     "text": [
      "102it [00:14,  7.28it/s]"
     ]
    },
    {
     "name": "stdout",
     "output_type": "stream",
     "text": [
      "Epoch: [23]  [ 100/2437]  eta: 0:05:26  lr: 0.000050  loss: 0.6667 (0.6889)  bbox_regression: 0.1641 (0.1589)  classification: 0.4972 (0.5301)  time: 0.1385  data: 0.0407  max mem: 1105\n"
     ]
    },
    {
     "name": "stderr",
     "output_type": "stream",
     "text": [
      "202it [00:28,  7.26it/s]"
     ]
    },
    {
     "name": "stdout",
     "output_type": "stream",
     "text": [
      "Epoch: [23]  [ 200/2437]  eta: 0:05:12  lr: 0.000050  loss: 0.6115 (0.7270)  bbox_regression: 0.1435 (0.1623)  classification: 0.4676 (0.5647)  time: 0.1398  data: 0.0411  max mem: 1105\n"
     ]
    },
    {
     "name": "stderr",
     "output_type": "stream",
     "text": [
      "302it [00:42,  7.40it/s]"
     ]
    },
    {
     "name": "stdout",
     "output_type": "stream",
     "text": [
      "Epoch: [23]  [ 300/2437]  eta: 0:04:58  lr: 0.000050  loss: 0.6830 (0.7351)  bbox_regression: 0.1646 (0.1665)  classification: 0.5184 (0.5686)  time: 0.1392  data: 0.0411  max mem: 1105\n"
     ]
    },
    {
     "name": "stderr",
     "output_type": "stream",
     "text": [
      "402it [00:56,  7.18it/s]"
     ]
    },
    {
     "name": "stdout",
     "output_type": "stream",
     "text": [
      "Epoch: [23]  [ 400/2437]  eta: 0:04:44  lr: 0.000050  loss: 0.6680 (0.7278)  bbox_regression: 0.1281 (0.1654)  classification: 0.5236 (0.5624)  time: 0.1451  data: 0.0474  max mem: 1105\n"
     ]
    },
    {
     "name": "stderr",
     "output_type": "stream",
     "text": [
      "502it [01:10,  7.22it/s]"
     ]
    },
    {
     "name": "stdout",
     "output_type": "stream",
     "text": [
      "Epoch: [23]  [ 500/2437]  eta: 0:04:30  lr: 0.000050  loss: 0.6479 (0.7256)  bbox_regression: 0.1236 (0.1634)  classification: 0.5117 (0.5622)  time: 0.1386  data: 0.0398  max mem: 1105\n"
     ]
    },
    {
     "name": "stderr",
     "output_type": "stream",
     "text": [
      "602it [01:23,  7.09it/s]"
     ]
    },
    {
     "name": "stdout",
     "output_type": "stream",
     "text": [
      "Epoch: [23]  [ 600/2437]  eta: 0:04:16  lr: 0.000050  loss: 0.6828 (0.7284)  bbox_regression: 0.1545 (0.1633)  classification: 0.5229 (0.5651)  time: 0.1397  data: 0.0418  max mem: 1105\n"
     ]
    },
    {
     "name": "stderr",
     "output_type": "stream",
     "text": [
      "702it [01:37,  7.28it/s]"
     ]
    },
    {
     "name": "stdout",
     "output_type": "stream",
     "text": [
      "Epoch: [23]  [ 700/2437]  eta: 0:04:01  lr: 0.000050  loss: 0.6269 (0.7221)  bbox_regression: 0.1400 (0.1628)  classification: 0.5125 (0.5593)  time: 0.1364  data: 0.0396  max mem: 1105\n"
     ]
    },
    {
     "name": "stderr",
     "output_type": "stream",
     "text": [
      "802it [01:51,  7.06it/s]"
     ]
    },
    {
     "name": "stdout",
     "output_type": "stream",
     "text": [
      "Epoch: [23]  [ 800/2437]  eta: 0:03:48  lr: 0.000050  loss: 0.5789 (0.7214)  bbox_regression: 0.1297 (0.1613)  classification: 0.4305 (0.5601)  time: 0.1396  data: 0.0420  max mem: 1105\n"
     ]
    },
    {
     "name": "stderr",
     "output_type": "stream",
     "text": [
      "902it [02:05,  7.20it/s]"
     ]
    },
    {
     "name": "stdout",
     "output_type": "stream",
     "text": [
      "Epoch: [23]  [ 900/2437]  eta: 0:03:34  lr: 0.000050  loss: 0.6773 (0.7232)  bbox_regression: 0.1557 (0.1615)  classification: 0.5417 (0.5617)  time: 0.1378  data: 0.0415  max mem: 1105\n"
     ]
    },
    {
     "name": "stderr",
     "output_type": "stream",
     "text": [
      "1002it [02:19,  7.17it/s]"
     ]
    },
    {
     "name": "stdout",
     "output_type": "stream",
     "text": [
      "Epoch: [23]  [1000/2437]  eta: 0:03:20  lr: 0.000050  loss: 0.6576 (0.7235)  bbox_regression: 0.1400 (0.1604)  classification: 0.5053 (0.5631)  time: 0.1412  data: 0.0424  max mem: 1105\n"
     ]
    },
    {
     "name": "stderr",
     "output_type": "stream",
     "text": [
      "1102it [02:33,  7.37it/s]"
     ]
    },
    {
     "name": "stdout",
     "output_type": "stream",
     "text": [
      "Epoch: [23]  [1100/2437]  eta: 0:03:06  lr: 0.000050  loss: 0.6187 (0.7230)  bbox_regression: 0.1476 (0.1603)  classification: 0.4505 (0.5627)  time: 0.1370  data: 0.0399  max mem: 1105\n"
     ]
    },
    {
     "name": "stderr",
     "output_type": "stream",
     "text": [
      "1202it [02:47,  7.11it/s]"
     ]
    },
    {
     "name": "stdout",
     "output_type": "stream",
     "text": [
      "Epoch: [23]  [1200/2437]  eta: 0:02:52  lr: 0.000050  loss: 0.6160 (0.7227)  bbox_regression: 0.1317 (0.1595)  classification: 0.4775 (0.5632)  time: 0.1396  data: 0.0412  max mem: 1105\n"
     ]
    },
    {
     "name": "stderr",
     "output_type": "stream",
     "text": [
      "1302it [03:01,  7.01it/s]"
     ]
    },
    {
     "name": "stdout",
     "output_type": "stream",
     "text": [
      "Epoch: [23]  [1300/2437]  eta: 0:02:38  lr: 0.000050  loss: 0.5839 (0.7221)  bbox_regression: 0.1252 (0.1598)  classification: 0.4696 (0.5624)  time: 0.1402  data: 0.0424  max mem: 1105\n"
     ]
    },
    {
     "name": "stderr",
     "output_type": "stream",
     "text": [
      "1402it [03:15,  7.29it/s]"
     ]
    },
    {
     "name": "stdout",
     "output_type": "stream",
     "text": [
      "Epoch: [23]  [1400/2437]  eta: 0:02:24  lr: 0.000050  loss: 0.6229 (0.7213)  bbox_regression: 0.1490 (0.1603)  classification: 0.4673 (0.5610)  time: 0.1393  data: 0.0420  max mem: 1105\n"
     ]
    },
    {
     "name": "stderr",
     "output_type": "stream",
     "text": [
      "1502it [03:29,  7.08it/s]"
     ]
    },
    {
     "name": "stdout",
     "output_type": "stream",
     "text": [
      "Epoch: [23]  [1500/2437]  eta: 0:02:10  lr: 0.000050  loss: 0.6650 (0.7203)  bbox_regression: 0.1411 (0.1600)  classification: 0.4796 (0.5604)  time: 0.1400  data: 0.0425  max mem: 1105\n"
     ]
    },
    {
     "name": "stderr",
     "output_type": "stream",
     "text": [
      "1602it [03:43,  7.41it/s]"
     ]
    },
    {
     "name": "stdout",
     "output_type": "stream",
     "text": [
      "Epoch: [23]  [1600/2437]  eta: 0:01:56  lr: 0.000050  loss: 0.7588 (0.7224)  bbox_regression: 0.1522 (0.1609)  classification: 0.5990 (0.5614)  time: 0.1380  data: 0.0406  max mem: 1105\n"
     ]
    },
    {
     "name": "stderr",
     "output_type": "stream",
     "text": [
      "1702it [03:57,  7.20it/s]"
     ]
    },
    {
     "name": "stdout",
     "output_type": "stream",
     "text": [
      "Epoch: [23]  [1700/2437]  eta: 0:01:42  lr: 0.000050  loss: 0.6076 (0.7225)  bbox_regression: 0.1451 (0.1607)  classification: 0.4495 (0.5618)  time: 0.1363  data: 0.0398  max mem: 1105\n"
     ]
    },
    {
     "name": "stderr",
     "output_type": "stream",
     "text": [
      "1802it [04:10,  7.16it/s]"
     ]
    },
    {
     "name": "stdout",
     "output_type": "stream",
     "text": [
      "Epoch: [23]  [1800/2437]  eta: 0:01:28  lr: 0.000050  loss: 0.5812 (0.7230)  bbox_regression: 0.1300 (0.1609)  classification: 0.4389 (0.5621)  time: 0.1368  data: 0.0395  max mem: 1105\n"
     ]
    },
    {
     "name": "stderr",
     "output_type": "stream",
     "text": [
      "1902it [04:24,  7.13it/s]"
     ]
    },
    {
     "name": "stdout",
     "output_type": "stream",
     "text": [
      "Epoch: [23]  [1900/2437]  eta: 0:01:14  lr: 0.000050  loss: 0.5727 (0.7219)  bbox_regression: 0.1291 (0.1610)  classification: 0.4190 (0.5609)  time: 0.1411  data: 0.0427  max mem: 1105\n"
     ]
    },
    {
     "name": "stderr",
     "output_type": "stream",
     "text": [
      "2002it [04:39,  7.22it/s]"
     ]
    },
    {
     "name": "stdout",
     "output_type": "stream",
     "text": [
      "Epoch: [23]  [2000/2437]  eta: 0:01:00  lr: 0.000050  loss: 0.5843 (0.7220)  bbox_regression: 0.1567 (0.1613)  classification: 0.4480 (0.5607)  time: 0.1390  data: 0.0431  max mem: 1105\n"
     ]
    },
    {
     "name": "stderr",
     "output_type": "stream",
     "text": [
      "2102it [04:53,  7.21it/s]"
     ]
    },
    {
     "name": "stdout",
     "output_type": "stream",
     "text": [
      "Epoch: [23]  [2100/2437]  eta: 0:00:46  lr: 0.000050  loss: 0.6724 (0.7213)  bbox_regression: 0.1442 (0.1613)  classification: 0.5283 (0.5600)  time: 0.1374  data: 0.0411  max mem: 1105\n"
     ]
    },
    {
     "name": "stderr",
     "output_type": "stream",
     "text": [
      "2202it [05:06,  7.20it/s]"
     ]
    },
    {
     "name": "stdout",
     "output_type": "stream",
     "text": [
      "Epoch: [23]  [2200/2437]  eta: 0:00:33  lr: 0.000050  loss: 0.5755 (0.7205)  bbox_regression: 0.1408 (0.1612)  classification: 0.4393 (0.5593)  time: 0.1410  data: 0.0419  max mem: 1105\n"
     ]
    },
    {
     "name": "stderr",
     "output_type": "stream",
     "text": [
      "2302it [05:20,  7.27it/s]"
     ]
    },
    {
     "name": "stdout",
     "output_type": "stream",
     "text": [
      "Epoch: [23]  [2300/2437]  eta: 0:00:19  lr: 0.000050  loss: 0.6913 (0.7187)  bbox_regression: 0.1481 (0.1605)  classification: 0.5586 (0.5582)  time: 0.1397  data: 0.0429  max mem: 1105\n"
     ]
    },
    {
     "name": "stderr",
     "output_type": "stream",
     "text": [
      "2402it [05:34,  7.24it/s]"
     ]
    },
    {
     "name": "stdout",
     "output_type": "stream",
     "text": [
      "Epoch: [23]  [2400/2437]  eta: 0:00:05  lr: 0.000050  loss: 0.6473 (0.7186)  bbox_regression: 0.1411 (0.1604)  classification: 0.4961 (0.5582)  time: 0.1385  data: 0.0423  max mem: 1105\n"
     ]
    },
    {
     "name": "stderr",
     "output_type": "stream",
     "text": [
      "2437it [05:39,  7.18it/s]\n"
     ]
    },
    {
     "name": "stdout",
     "output_type": "stream",
     "text": [
      "Epoch: [23]  [2436/2437]  eta: 0:00:00  lr: 0.000050  loss: 0.7823 (0.7195)  bbox_regression: 0.1531 (0.1603)  classification: 0.6085 (0.5592)  time: 0.1374  data: 0.0413  max mem: 1105\n",
      "flag\n",
      "Epoch: [23] Total time: 0:05:39 (0.1393 s / it)\n",
      "saved dict\n",
      "creating index...\n",
      "index created!\n",
      "<torch.utils.data.dataloader.DataLoader object at 0x0000024C1147B310>\n",
      "Test:  [  0/100]  eta: 0:00:03  model_time: 0.0210 (0.0210)  evaluator_time: 0.0000 (0.0000)  time: 0.0340  data: 0.0130  max mem: 1105\n",
      "Test:  [ 99/100]  eta: 0:00:00  model_time: 0.0280 (0.0266)  evaluator_time: 0.0010 (0.0005)  time: 0.0434  data: 0.0124  max mem: 1105\n",
      "flag\n",
      "Test: Total time: 0:00:04 (0.0404 s / it)\n",
      "Averaged stats: model_time: 0.0280 (0.0266)  evaluator_time: 0.0010 (0.0005)\n",
      "Accumulating evaluation results...\n",
      "DONE (t=0.01s).\n",
      "IoU metric: bbox\n",
      " Average Precision  (AP) @[ IoU=0.50:0.95 | area=   all | maxDets=100 ] = 0.751\n",
      " Average Precision  (AP) @[ IoU=0.50      | area=   all | maxDets=100 ] = 0.926\n",
      " Average Precision  (AP) @[ IoU=0.75      | area=   all | maxDets=100 ] = 0.914\n",
      " Average Precision  (AP) @[ IoU=0.50:0.95 | area= small | maxDets=100 ] = -1.000\n",
      " Average Precision  (AP) @[ IoU=0.50:0.95 | area=medium | maxDets=100 ] = 0.000\n",
      " Average Precision  (AP) @[ IoU=0.50:0.95 | area= large | maxDets=100 ] = 0.755\n",
      " Average Recall     (AR) @[ IoU=0.50:0.95 | area=   all | maxDets=  1 ] = 0.789\n",
      " Average Recall     (AR) @[ IoU=0.50:0.95 | area=   all | maxDets= 10 ] = 0.797\n",
      " Average Recall     (AR) @[ IoU=0.50:0.95 | area=   all | maxDets=100 ] = 0.797\n",
      " Average Recall     (AR) @[ IoU=0.50:0.95 | area= small | maxDets=100 ] = -1.000\n",
      " Average Recall     (AR) @[ IoU=0.50:0.95 | area=medium | maxDets=100 ] = 0.000\n",
      " Average Recall     (AR) @[ IoU=0.50:0.95 | area= large | maxDets=100 ] = 0.801\n",
      "creating index...\n",
      "index created!\n",
      "<torch.utils.data.dataloader.DataLoader object at 0x0000024C1147A470>\n",
      "Test:  [  0/100]  eta: 0:00:05  model_time: 0.0360 (0.0360)  evaluator_time: 0.0010 (0.0010)  time: 0.0520  data: 0.0130  max mem: 1105\n",
      "Test:  [ 99/100]  eta: 0:00:00  model_time: 0.0313 (0.0326)  evaluator_time: 0.0010 (0.0007)  time: 0.0459  data: 0.0123  max mem: 1105\n",
      "flag\n",
      "Test: Total time: 0:00:04 (0.0469 s / it)\n",
      "Averaged stats: model_time: 0.0313 (0.0326)  evaluator_time: 0.0010 (0.0007)\n",
      "Accumulating evaluation results...\n",
      "DONE (t=0.02s).\n",
      "IoU metric: bbox\n",
      " Average Precision  (AP) @[ IoU=0.50:0.95 | area=   all | maxDets=100 ] = 0.399\n",
      " Average Precision  (AP) @[ IoU=0.50      | area=   all | maxDets=100 ] = 0.606\n",
      " Average Precision  (AP) @[ IoU=0.75      | area=   all | maxDets=100 ] = 0.434\n",
      " Average Precision  (AP) @[ IoU=0.50:0.95 | area= small | maxDets=100 ] = -1.000\n",
      " Average Precision  (AP) @[ IoU=0.50:0.95 | area=medium | maxDets=100 ] = -1.000\n",
      " Average Precision  (AP) @[ IoU=0.50:0.95 | area= large | maxDets=100 ] = 0.399\n",
      " Average Recall     (AR) @[ IoU=0.50:0.95 | area=   all | maxDets=  1 ] = 0.511\n",
      " Average Recall     (AR) @[ IoU=0.50:0.95 | area=   all | maxDets= 10 ] = 0.529\n",
      " Average Recall     (AR) @[ IoU=0.50:0.95 | area=   all | maxDets=100 ] = 0.529\n",
      " Average Recall     (AR) @[ IoU=0.50:0.95 | area= small | maxDets=100 ] = -1.000\n",
      " Average Recall     (AR) @[ IoU=0.50:0.95 | area=medium | maxDets=100 ] = -1.000\n",
      " Average Recall     (AR) @[ IoU=0.50:0.95 | area= large | maxDets=100 ] = 0.529\n"
     ]
    },
    {
     "name": "stderr",
     "output_type": "stream",
     "text": [
      "0it [00:00, ?it/s]"
     ]
    },
    {
     "name": "stdout",
     "output_type": "stream",
     "text": [
      "<torch.utils.data.dataloader.DataLoader object at 0x0000024C1147A620>\n"
     ]
    },
    {
     "name": "stderr",
     "output_type": "stream",
     "text": [
      "2it [00:00,  4.89it/s]"
     ]
    },
    {
     "name": "stdout",
     "output_type": "stream",
     "text": [
      "Epoch: [24]  [   0/2437]  eta: 0:09:43  lr: 0.000050  loss: 1.0243 (1.0243)  bbox_regression: 0.2571 (0.2571)  classification: 0.7671 (0.7671)  time: 0.2394  data: 0.0459  max mem: 1105\n"
     ]
    },
    {
     "name": "stderr",
     "output_type": "stream",
     "text": [
      "102it [00:14,  7.17it/s]"
     ]
    },
    {
     "name": "stdout",
     "output_type": "stream",
     "text": [
      "Epoch: [24]  [ 100/2437]  eta: 0:05:27  lr: 0.000050  loss: 0.6362 (0.6870)  bbox_regression: 0.1452 (0.1557)  classification: 0.4920 (0.5313)  time: 0.1373  data: 0.0402  max mem: 1105\n"
     ]
    },
    {
     "name": "stderr",
     "output_type": "stream",
     "text": [
      "202it [00:28,  7.02it/s]"
     ]
    },
    {
     "name": "stdout",
     "output_type": "stream",
     "text": [
      "Epoch: [24]  [ 200/2437]  eta: 0:05:12  lr: 0.000050  loss: 0.6602 (0.7188)  bbox_regression: 0.1205 (0.1583)  classification: 0.5115 (0.5605)  time: 0.1397  data: 0.0413  max mem: 1105\n"
     ]
    },
    {
     "name": "stderr",
     "output_type": "stream",
     "text": [
      "302it [00:42,  7.15it/s]"
     ]
    },
    {
     "name": "stdout",
     "output_type": "stream",
     "text": [
      "Epoch: [24]  [ 300/2437]  eta: 0:04:58  lr: 0.000050  loss: 0.6974 (0.7287)  bbox_regression: 0.1451 (0.1621)  classification: 0.5613 (0.5666)  time: 0.1382  data: 0.0398  max mem: 1105\n"
     ]
    },
    {
     "name": "stderr",
     "output_type": "stream",
     "text": [
      "402it [00:56,  7.18it/s]"
     ]
    },
    {
     "name": "stdout",
     "output_type": "stream",
     "text": [
      "Epoch: [24]  [ 400/2437]  eta: 0:04:44  lr: 0.000050  loss: 0.5967 (0.7298)  bbox_regression: 0.1586 (0.1624)  classification: 0.4512 (0.5674)  time: 0.1375  data: 0.0412  max mem: 1105\n"
     ]
    },
    {
     "name": "stderr",
     "output_type": "stream",
     "text": [
      "502it [01:09,  7.13it/s]"
     ]
    },
    {
     "name": "stdout",
     "output_type": "stream",
     "text": [
      "Epoch: [24]  [ 500/2437]  eta: 0:04:29  lr: 0.000050  loss: 0.6408 (0.7230)  bbox_regression: 0.1507 (0.1616)  classification: 0.4649 (0.5614)  time: 0.1383  data: 0.0405  max mem: 1105\n"
     ]
    },
    {
     "name": "stderr",
     "output_type": "stream",
     "text": [
      "602it [01:23,  7.09it/s]"
     ]
    },
    {
     "name": "stdout",
     "output_type": "stream",
     "text": [
      "Epoch: [24]  [ 600/2437]  eta: 0:04:15  lr: 0.000050  loss: 0.6162 (0.7168)  bbox_regression: 0.1493 (0.1604)  classification: 0.4369 (0.5565)  time: 0.1378  data: 0.0416  max mem: 1105\n"
     ]
    },
    {
     "name": "stderr",
     "output_type": "stream",
     "text": [
      "702it [01:37,  7.40it/s]"
     ]
    },
    {
     "name": "stdout",
     "output_type": "stream",
     "text": [
      "Epoch: [24]  [ 700/2437]  eta: 0:04:01  lr: 0.000050  loss: 0.6319 (0.7123)  bbox_regression: 0.1492 (0.1595)  classification: 0.4488 (0.5528)  time: 0.1368  data: 0.0416  max mem: 1105\n"
     ]
    },
    {
     "name": "stderr",
     "output_type": "stream",
     "text": [
      "802it [01:51,  7.17it/s]"
     ]
    },
    {
     "name": "stdout",
     "output_type": "stream",
     "text": [
      "Epoch: [24]  [ 800/2437]  eta: 0:03:47  lr: 0.000050  loss: 0.6725 (0.7134)  bbox_regression: 0.1702 (0.1601)  classification: 0.4888 (0.5534)  time: 0.1368  data: 0.0383  max mem: 1105\n"
     ]
    },
    {
     "name": "stderr",
     "output_type": "stream",
     "text": [
      "902it [02:05,  7.25it/s]"
     ]
    },
    {
     "name": "stdout",
     "output_type": "stream",
     "text": [
      "Epoch: [24]  [ 900/2437]  eta: 0:03:33  lr: 0.000050  loss: 0.6380 (0.7124)  bbox_regression: 0.1382 (0.1594)  classification: 0.5035 (0.5530)  time: 0.1406  data: 0.0419  max mem: 1105\n"
     ]
    },
    {
     "name": "stderr",
     "output_type": "stream",
     "text": [
      "1002it [02:19,  7.08it/s]"
     ]
    },
    {
     "name": "stdout",
     "output_type": "stream",
     "text": [
      "Epoch: [24]  [1000/2437]  eta: 0:03:19  lr: 0.000050  loss: 0.6041 (0.7110)  bbox_regression: 0.1436 (0.1594)  classification: 0.4498 (0.5516)  time: 0.1410  data: 0.0416  max mem: 1105\n"
     ]
    },
    {
     "name": "stderr",
     "output_type": "stream",
     "text": [
      "1102it [02:33,  7.17it/s]"
     ]
    },
    {
     "name": "stdout",
     "output_type": "stream",
     "text": [
      "Epoch: [24]  [1100/2437]  eta: 0:03:06  lr: 0.000050  loss: 0.5868 (0.7068)  bbox_regression: 0.1186 (0.1585)  classification: 0.4774 (0.5484)  time: 0.1400  data: 0.0420  max mem: 1105\n"
     ]
    },
    {
     "name": "stderr",
     "output_type": "stream",
     "text": [
      "1202it [02:47,  7.35it/s]"
     ]
    },
    {
     "name": "stdout",
     "output_type": "stream",
     "text": [
      "Epoch: [24]  [1200/2437]  eta: 0:02:51  lr: 0.000050  loss: 0.6243 (0.7068)  bbox_regression: 0.1564 (0.1594)  classification: 0.4368 (0.5474)  time: 0.1369  data: 0.0403  max mem: 1105\n"
     ]
    },
    {
     "name": "stderr",
     "output_type": "stream",
     "text": [
      "1302it [03:01,  7.19it/s]"
     ]
    },
    {
     "name": "stdout",
     "output_type": "stream",
     "text": [
      "Epoch: [24]  [1300/2437]  eta: 0:02:38  lr: 0.000050  loss: 0.8287 (0.7116)  bbox_regression: 0.1541 (0.1606)  classification: 0.6443 (0.5510)  time: 0.1382  data: 0.0408  max mem: 1105\n"
     ]
    },
    {
     "name": "stderr",
     "output_type": "stream",
     "text": [
      "1402it [03:14,  7.25it/s]"
     ]
    },
    {
     "name": "stdout",
     "output_type": "stream",
     "text": [
      "Epoch: [24]  [1400/2437]  eta: 0:02:24  lr: 0.000050  loss: 0.7007 (0.7094)  bbox_regression: 0.1972 (0.1606)  classification: 0.5239 (0.5488)  time: 0.1378  data: 0.0410  max mem: 1105\n"
     ]
    },
    {
     "name": "stderr",
     "output_type": "stream",
     "text": [
      "1502it [03:28,  7.24it/s]"
     ]
    },
    {
     "name": "stdout",
     "output_type": "stream",
     "text": [
      "Epoch: [24]  [1500/2437]  eta: 0:02:10  lr: 0.000050  loss: 0.6544 (0.7112)  bbox_regression: 0.1394 (0.1609)  classification: 0.5035 (0.5504)  time: 0.1393  data: 0.0416  max mem: 1105\n"
     ]
    },
    {
     "name": "stderr",
     "output_type": "stream",
     "text": [
      "1602it [03:42,  7.39it/s]"
     ]
    },
    {
     "name": "stdout",
     "output_type": "stream",
     "text": [
      "Epoch: [24]  [1600/2437]  eta: 0:01:56  lr: 0.000050  loss: 0.6610 (0.7104)  bbox_regression: 0.1286 (0.1606)  classification: 0.5315 (0.5498)  time: 0.1370  data: 0.0402  max mem: 1105\n"
     ]
    },
    {
     "name": "stderr",
     "output_type": "stream",
     "text": [
      "1702it [03:57,  6.53it/s]"
     ]
    },
    {
     "name": "stdout",
     "output_type": "stream",
     "text": [
      "Epoch: [24]  [1700/2437]  eta: 0:01:42  lr: 0.000050  loss: 0.5857 (0.7105)  bbox_regression: 0.1453 (0.1606)  classification: 0.4257 (0.5499)  time: 0.1540  data: 0.0540  max mem: 1105\n"
     ]
    },
    {
     "name": "stderr",
     "output_type": "stream",
     "text": [
      "1802it [04:10,  7.23it/s]"
     ]
    },
    {
     "name": "stdout",
     "output_type": "stream",
     "text": [
      "Epoch: [24]  [1800/2437]  eta: 0:01:28  lr: 0.000050  loss: 0.5947 (0.7122)  bbox_regression: 0.1353 (0.1608)  classification: 0.4370 (0.5514)  time: 0.1380  data: 0.0412  max mem: 1105\n"
     ]
    },
    {
     "name": "stderr",
     "output_type": "stream",
     "text": [
      "1902it [04:24,  7.03it/s]"
     ]
    },
    {
     "name": "stdout",
     "output_type": "stream",
     "text": [
      "Epoch: [24]  [1900/2437]  eta: 0:01:14  lr: 0.000050  loss: 0.6964 (0.7101)  bbox_regression: 0.1518 (0.1602)  classification: 0.5396 (0.5499)  time: 0.1413  data: 0.0435  max mem: 1105\n"
     ]
    },
    {
     "name": "stderr",
     "output_type": "stream",
     "text": [
      "2002it [04:38,  7.23it/s]"
     ]
    },
    {
     "name": "stdout",
     "output_type": "stream",
     "text": [
      "Epoch: [24]  [2000/2437]  eta: 0:01:00  lr: 0.000050  loss: 0.6352 (0.7102)  bbox_regression: 0.1390 (0.1599)  classification: 0.5091 (0.5503)  time: 0.1384  data: 0.0413  max mem: 1105\n"
     ]
    },
    {
     "name": "stderr",
     "output_type": "stream",
     "text": [
      "2102it [04:52,  7.18it/s]"
     ]
    },
    {
     "name": "stdout",
     "output_type": "stream",
     "text": [
      "Epoch: [24]  [2100/2437]  eta: 0:00:46  lr: 0.000050  loss: 0.6053 (0.7103)  bbox_regression: 0.1469 (0.1597)  classification: 0.4513 (0.5506)  time: 0.1379  data: 0.0412  max mem: 1105\n"
     ]
    },
    {
     "name": "stderr",
     "output_type": "stream",
     "text": [
      "2202it [05:06,  7.37it/s]"
     ]
    },
    {
     "name": "stdout",
     "output_type": "stream",
     "text": [
      "Epoch: [24]  [2200/2437]  eta: 0:00:33  lr: 0.000050  loss: 0.6555 (0.7101)  bbox_regression: 0.1415 (0.1598)  classification: 0.5180 (0.5503)  time: 0.1387  data: 0.0417  max mem: 1105\n"
     ]
    },
    {
     "name": "stderr",
     "output_type": "stream",
     "text": [
      "2302it [05:20,  7.30it/s]"
     ]
    },
    {
     "name": "stdout",
     "output_type": "stream",
     "text": [
      "Epoch: [24]  [2300/2437]  eta: 0:00:19  lr: 0.000050  loss: 0.6351 (0.7111)  bbox_regression: 0.1299 (0.1596)  classification: 0.4594 (0.5514)  time: 0.1382  data: 0.0410  max mem: 1105\n"
     ]
    },
    {
     "name": "stderr",
     "output_type": "stream",
     "text": [
      "2402it [05:34,  7.13it/s]"
     ]
    },
    {
     "name": "stdout",
     "output_type": "stream",
     "text": [
      "Epoch: [24]  [2400/2437]  eta: 0:00:05  lr: 0.000050  loss: 0.6052 (0.7131)  bbox_regression: 0.1638 (0.1597)  classification: 0.4172 (0.5534)  time: 0.1371  data: 0.0410  max mem: 1105\n"
     ]
    },
    {
     "name": "stderr",
     "output_type": "stream",
     "text": [
      "2437it [05:39,  7.18it/s]\n"
     ]
    },
    {
     "name": "stdout",
     "output_type": "stream",
     "text": [
      "Epoch: [24]  [2436/2437]  eta: 0:00:00  lr: 0.000050  loss: 0.6823 (0.7137)  bbox_regression: 0.1650 (0.1600)  classification: 0.5033 (0.5537)  time: 0.1348  data: 0.0409  max mem: 1105\n",
      "flag\n",
      "Epoch: [24] Total time: 0:05:39 (0.1392 s / it)\n",
      "saved dict\n",
      "creating index...\n",
      "index created!\n",
      "<torch.utils.data.dataloader.DataLoader object at 0x0000024C1147B310>\n",
      "Test:  [  0/100]  eta: 0:00:03  model_time: 0.0190 (0.0190)  evaluator_time: 0.0000 (0.0000)  time: 0.0320  data: 0.0120  max mem: 1105\n",
      "Test:  [ 99/100]  eta: 0:00:00  model_time: 0.0290 (0.0270)  evaluator_time: 0.0000 (0.0006)  time: 0.0422  data: 0.0122  max mem: 1105\n",
      "flag\n",
      "Test: Total time: 0:00:04 (0.0408 s / it)\n",
      "Averaged stats: model_time: 0.0290 (0.0270)  evaluator_time: 0.0000 (0.0006)\n",
      "Accumulating evaluation results...\n",
      "DONE (t=0.01s).\n",
      "IoU metric: bbox\n",
      " Average Precision  (AP) @[ IoU=0.50:0.95 | area=   all | maxDets=100 ] = 0.752\n",
      " Average Precision  (AP) @[ IoU=0.50      | area=   all | maxDets=100 ] = 0.926\n",
      " Average Precision  (AP) @[ IoU=0.75      | area=   all | maxDets=100 ] = 0.914\n",
      " Average Precision  (AP) @[ IoU=0.50:0.95 | area= small | maxDets=100 ] = -1.000\n",
      " Average Precision  (AP) @[ IoU=0.50:0.95 | area=medium | maxDets=100 ] = 0.000\n",
      " Average Precision  (AP) @[ IoU=0.50:0.95 | area= large | maxDets=100 ] = 0.756\n",
      " Average Recall     (AR) @[ IoU=0.50:0.95 | area=   all | maxDets=  1 ] = 0.785\n",
      " Average Recall     (AR) @[ IoU=0.50:0.95 | area=   all | maxDets= 10 ] = 0.794\n",
      " Average Recall     (AR) @[ IoU=0.50:0.95 | area=   all | maxDets=100 ] = 0.794\n",
      " Average Recall     (AR) @[ IoU=0.50:0.95 | area= small | maxDets=100 ] = -1.000\n",
      " Average Recall     (AR) @[ IoU=0.50:0.95 | area=medium | maxDets=100 ] = 0.000\n",
      " Average Recall     (AR) @[ IoU=0.50:0.95 | area= large | maxDets=100 ] = 0.798\n",
      "creating index...\n",
      "index created!\n",
      "<torch.utils.data.dataloader.DataLoader object at 0x0000024C1147A470>\n",
      "Test:  [  0/100]  eta: 0:00:05  model_time: 0.0370 (0.0370)  evaluator_time: 0.0010 (0.0010)  time: 0.0520  data: 0.0130  max mem: 1105\n",
      "Test:  [ 99/100]  eta: 0:00:00  model_time: 0.0310 (0.0330)  evaluator_time: 0.0010 (0.0006)  time: 0.0453  data: 0.0122  max mem: 1105\n",
      "flag\n",
      "Test: Total time: 0:00:04 (0.0472 s / it)\n",
      "Averaged stats: model_time: 0.0310 (0.0330)  evaluator_time: 0.0010 (0.0006)\n",
      "Accumulating evaluation results...\n",
      "DONE (t=0.02s).\n",
      "IoU metric: bbox\n",
      " Average Precision  (AP) @[ IoU=0.50:0.95 | area=   all | maxDets=100 ] = 0.399\n",
      " Average Precision  (AP) @[ IoU=0.50      | area=   all | maxDets=100 ] = 0.611\n",
      " Average Precision  (AP) @[ IoU=0.75      | area=   all | maxDets=100 ] = 0.433\n",
      " Average Precision  (AP) @[ IoU=0.50:0.95 | area= small | maxDets=100 ] = -1.000\n",
      " Average Precision  (AP) @[ IoU=0.50:0.95 | area=medium | maxDets=100 ] = -1.000\n",
      " Average Precision  (AP) @[ IoU=0.50:0.95 | area= large | maxDets=100 ] = 0.399\n",
      " Average Recall     (AR) @[ IoU=0.50:0.95 | area=   all | maxDets=  1 ] = 0.514\n",
      " Average Recall     (AR) @[ IoU=0.50:0.95 | area=   all | maxDets= 10 ] = 0.532\n",
      " Average Recall     (AR) @[ IoU=0.50:0.95 | area=   all | maxDets=100 ] = 0.532\n",
      " Average Recall     (AR) @[ IoU=0.50:0.95 | area= small | maxDets=100 ] = -1.000\n",
      " Average Recall     (AR) @[ IoU=0.50:0.95 | area=medium | maxDets=100 ] = -1.000\n",
      " Average Recall     (AR) @[ IoU=0.50:0.95 | area= large | maxDets=100 ] = 0.532\n"
     ]
    },
    {
     "name": "stderr",
     "output_type": "stream",
     "text": [
      "0it [00:00, ?it/s]"
     ]
    },
    {
     "name": "stdout",
     "output_type": "stream",
     "text": [
      "<torch.utils.data.dataloader.DataLoader object at 0x0000024C1147A620>\n"
     ]
    },
    {
     "name": "stderr",
     "output_type": "stream",
     "text": [
      "2it [00:00,  4.89it/s]"
     ]
    },
    {
     "name": "stdout",
     "output_type": "stream",
     "text": [
      "Epoch: [25]  [   0/2437]  eta: 0:09:26  lr: 0.000050  loss: 0.5532 (0.5532)  bbox_regression: 0.1718 (0.1718)  classification: 0.3814 (0.3814)  time: 0.2325  data: 0.0485  max mem: 1105\n"
     ]
    },
    {
     "name": "stderr",
     "output_type": "stream",
     "text": [
      "102it [00:14,  7.33it/s]"
     ]
    },
    {
     "name": "stdout",
     "output_type": "stream",
     "text": [
      "Epoch: [25]  [ 100/2437]  eta: 0:05:27  lr: 0.000050  loss: 0.6258 (0.7493)  bbox_regression: 0.1428 (0.1629)  classification: 0.4689 (0.5864)  time: 0.1377  data: 0.0411  max mem: 1105\n"
     ]
    },
    {
     "name": "stderr",
     "output_type": "stream",
     "text": [
      "202it [00:28,  7.27it/s]"
     ]
    },
    {
     "name": "stdout",
     "output_type": "stream",
     "text": [
      "Epoch: [25]  [ 200/2437]  eta: 0:05:13  lr: 0.000050  loss: 0.6923 (0.7213)  bbox_regression: 0.1660 (0.1625)  classification: 0.4769 (0.5588)  time: 0.1453  data: 0.0466  max mem: 1105\n"
     ]
    },
    {
     "name": "stderr",
     "output_type": "stream",
     "text": [
      "302it [00:42,  7.32it/s]"
     ]
    },
    {
     "name": "stdout",
     "output_type": "stream",
     "text": [
      "Epoch: [25]  [ 300/2437]  eta: 0:04:59  lr: 0.000050  loss: 0.5943 (0.7191)  bbox_regression: 0.1277 (0.1627)  classification: 0.4519 (0.5565)  time: 0.1388  data: 0.0405  max mem: 1105\n"
     ]
    },
    {
     "name": "stderr",
     "output_type": "stream",
     "text": [
      "402it [00:56,  7.20it/s]"
     ]
    },
    {
     "name": "stdout",
     "output_type": "stream",
     "text": [
      "Epoch: [25]  [ 400/2437]  eta: 0:04:44  lr: 0.000050  loss: 0.6082 (0.7125)  bbox_regression: 0.1302 (0.1599)  classification: 0.4426 (0.5526)  time: 0.1395  data: 0.0415  max mem: 1105\n"
     ]
    },
    {
     "name": "stderr",
     "output_type": "stream",
     "text": [
      "502it [01:10,  7.15it/s]"
     ]
    },
    {
     "name": "stdout",
     "output_type": "stream",
     "text": [
      "Epoch: [25]  [ 500/2437]  eta: 0:04:31  lr: 0.000050  loss: 0.6019 (0.7106)  bbox_regression: 0.1271 (0.1607)  classification: 0.4397 (0.5498)  time: 0.1386  data: 0.0409  max mem: 1105\n"
     ]
    },
    {
     "name": "stderr",
     "output_type": "stream",
     "text": [
      "602it [01:24,  7.25it/s]"
     ]
    },
    {
     "name": "stdout",
     "output_type": "stream",
     "text": [
      "Epoch: [25]  [ 600/2437]  eta: 0:04:17  lr: 0.000050  loss: 0.6727 (0.7089)  bbox_regression: 0.1529 (0.1599)  classification: 0.4780 (0.5490)  time: 0.1384  data: 0.0407  max mem: 1105\n"
     ]
    },
    {
     "name": "stderr",
     "output_type": "stream",
     "text": [
      "702it [01:38,  7.05it/s]"
     ]
    },
    {
     "name": "stdout",
     "output_type": "stream",
     "text": [
      "Epoch: [25]  [ 700/2437]  eta: 0:04:02  lr: 0.000050  loss: 0.6743 (0.7060)  bbox_regression: 0.1171 (0.1585)  classification: 0.5203 (0.5475)  time: 0.1384  data: 0.0398  max mem: 1105\n"
     ]
    },
    {
     "name": "stderr",
     "output_type": "stream",
     "text": [
      "802it [01:53,  6.91it/s]"
     ]
    },
    {
     "name": "stdout",
     "output_type": "stream",
     "text": [
      "Epoch: [25]  [ 800/2437]  eta: 0:03:50  lr: 0.000050  loss: 0.6340 (0.7060)  bbox_regression: 0.1424 (0.1585)  classification: 0.4880 (0.5474)  time: 0.1545  data: 0.0459  max mem: 1105\n"
     ]
    },
    {
     "name": "stderr",
     "output_type": "stream",
     "text": [
      "902it [02:07,  7.20it/s]"
     ]
    },
    {
     "name": "stdout",
     "output_type": "stream",
     "text": [
      "Epoch: [25]  [ 900/2437]  eta: 0:03:36  lr: 0.000050  loss: 0.6753 (0.7100)  bbox_regression: 0.1264 (0.1587)  classification: 0.5221 (0.5513)  time: 0.1401  data: 0.0420  max mem: 1105\n"
     ]
    },
    {
     "name": "stderr",
     "output_type": "stream",
     "text": [
      "1002it [02:21,  7.27it/s]"
     ]
    },
    {
     "name": "stdout",
     "output_type": "stream",
     "text": [
      "Epoch: [25]  [1000/2437]  eta: 0:03:22  lr: 0.000050  loss: 0.5894 (0.7077)  bbox_regression: 0.1326 (0.1590)  classification: 0.4228 (0.5487)  time: 0.1394  data: 0.0413  max mem: 1105\n"
     ]
    },
    {
     "name": "stderr",
     "output_type": "stream",
     "text": [
      "1102it [02:34,  7.28it/s]"
     ]
    },
    {
     "name": "stdout",
     "output_type": "stream",
     "text": [
      "Epoch: [25]  [1100/2437]  eta: 0:03:08  lr: 0.000050  loss: 0.6309 (0.7073)  bbox_regression: 0.1458 (0.1585)  classification: 0.4751 (0.5487)  time: 0.1395  data: 0.0418  max mem: 1105\n"
     ]
    },
    {
     "name": "stderr",
     "output_type": "stream",
     "text": [
      "1202it [02:48,  7.30it/s]"
     ]
    },
    {
     "name": "stdout",
     "output_type": "stream",
     "text": [
      "Epoch: [25]  [1200/2437]  eta: 0:02:53  lr: 0.000050  loss: 0.7366 (0.7063)  bbox_regression: 0.1656 (0.1592)  classification: 0.5627 (0.5471)  time: 0.1379  data: 0.0411  max mem: 1105\n"
     ]
    },
    {
     "name": "stderr",
     "output_type": "stream",
     "text": [
      "1302it [03:03,  7.11it/s]"
     ]
    },
    {
     "name": "stdout",
     "output_type": "stream",
     "text": [
      "Epoch: [25]  [1300/2437]  eta: 0:02:39  lr: 0.000050  loss: 0.6261 (0.7050)  bbox_regression: 0.1228 (0.1590)  classification: 0.4614 (0.5460)  time: 0.1443  data: 0.0445  max mem: 1105\n"
     ]
    },
    {
     "name": "stderr",
     "output_type": "stream",
     "text": [
      "1402it [03:16,  7.32it/s]"
     ]
    },
    {
     "name": "stdout",
     "output_type": "stream",
     "text": [
      "Epoch: [25]  [1400/2437]  eta: 0:02:25  lr: 0.000050  loss: 0.7552 (0.7062)  bbox_regression: 0.1477 (0.1590)  classification: 0.5988 (0.5472)  time: 0.1390  data: 0.0419  max mem: 1105\n"
     ]
    },
    {
     "name": "stderr",
     "output_type": "stream",
     "text": [
      "1502it [03:30,  7.25it/s]"
     ]
    },
    {
     "name": "stdout",
     "output_type": "stream",
     "text": [
      "Epoch: [25]  [1500/2437]  eta: 0:02:11  lr: 0.000050  loss: 0.7229 (0.7057)  bbox_regression: 0.1587 (0.1584)  classification: 0.5678 (0.5473)  time: 0.1391  data: 0.0417  max mem: 1105\n"
     ]
    },
    {
     "name": "stderr",
     "output_type": "stream",
     "text": [
      "1602it [03:44,  7.14it/s]"
     ]
    },
    {
     "name": "stdout",
     "output_type": "stream",
     "text": [
      "Epoch: [25]  [1600/2437]  eta: 0:01:57  lr: 0.000050  loss: 0.5963 (0.7064)  bbox_regression: 0.1425 (0.1585)  classification: 0.4150 (0.5478)  time: 0.1403  data: 0.0426  max mem: 1105\n"
     ]
    },
    {
     "name": "stderr",
     "output_type": "stream",
     "text": [
      "1702it [03:58,  7.14it/s]"
     ]
    },
    {
     "name": "stdout",
     "output_type": "stream",
     "text": [
      "Epoch: [25]  [1700/2437]  eta: 0:01:43  lr: 0.000050  loss: 0.5768 (0.7083)  bbox_regression: 0.1476 (0.1592)  classification: 0.4574 (0.5491)  time: 0.1401  data: 0.0423  max mem: 1105\n"
     ]
    },
    {
     "name": "stderr",
     "output_type": "stream",
     "text": [
      "1802it [04:12,  7.26it/s]"
     ]
    },
    {
     "name": "stdout",
     "output_type": "stream",
     "text": [
      "Epoch: [25]  [1800/2437]  eta: 0:01:29  lr: 0.000050  loss: 0.5376 (0.7080)  bbox_regression: 0.1235 (0.1591)  classification: 0.4129 (0.5489)  time: 0.1387  data: 0.0410  max mem: 1105\n"
     ]
    },
    {
     "name": "stderr",
     "output_type": "stream",
     "text": [
      "1902it [04:26,  7.11it/s]"
     ]
    },
    {
     "name": "stdout",
     "output_type": "stream",
     "text": [
      "Epoch: [25]  [1900/2437]  eta: 0:01:15  lr: 0.000050  loss: 0.6833 (0.7095)  bbox_regression: 0.1462 (0.1595)  classification: 0.4985 (0.5500)  time: 0.1400  data: 0.0415  max mem: 1105\n"
     ]
    },
    {
     "name": "stderr",
     "output_type": "stream",
     "text": [
      "2002it [04:40,  7.01it/s]"
     ]
    },
    {
     "name": "stdout",
     "output_type": "stream",
     "text": [
      "Epoch: [25]  [2000/2437]  eta: 0:01:01  lr: 0.000050  loss: 0.6733 (0.7099)  bbox_regression: 0.1365 (0.1595)  classification: 0.4915 (0.5505)  time: 0.1402  data: 0.0419  max mem: 1105\n"
     ]
    },
    {
     "name": "stderr",
     "output_type": "stream",
     "text": [
      "2102it [04:54,  7.15it/s]"
     ]
    },
    {
     "name": "stdout",
     "output_type": "stream",
     "text": [
      "Epoch: [25]  [2100/2437]  eta: 0:00:47  lr: 0.000050  loss: 0.6388 (0.7099)  bbox_regression: 0.1379 (0.1596)  classification: 0.4752 (0.5503)  time: 0.1417  data: 0.0438  max mem: 1105\n"
     ]
    },
    {
     "name": "stderr",
     "output_type": "stream",
     "text": [
      "2202it [05:08,  7.27it/s]"
     ]
    },
    {
     "name": "stdout",
     "output_type": "stream",
     "text": [
      "Epoch: [25]  [2200/2437]  eta: 0:00:33  lr: 0.000050  loss: 0.6122 (0.7092)  bbox_regression: 0.1328 (0.1599)  classification: 0.4786 (0.5492)  time: 0.1381  data: 0.0415  max mem: 1105\n"
     ]
    },
    {
     "name": "stderr",
     "output_type": "stream",
     "text": [
      "2302it [05:23,  6.94it/s]"
     ]
    },
    {
     "name": "stdout",
     "output_type": "stream",
     "text": [
      "Epoch: [25]  [2300/2437]  eta: 0:00:19  lr: 0.000050  loss: 0.6049 (0.7091)  bbox_regression: 0.1388 (0.1600)  classification: 0.4509 (0.5491)  time: 0.1401  data: 0.0428  max mem: 1105\n"
     ]
    },
    {
     "name": "stderr",
     "output_type": "stream",
     "text": [
      "2402it [05:36,  7.04it/s]"
     ]
    },
    {
     "name": "stdout",
     "output_type": "stream",
     "text": [
      "Epoch: [25]  [2400/2437]  eta: 0:00:05  lr: 0.000050  loss: 0.6857 (0.7090)  bbox_regression: 0.1473 (0.1599)  classification: 0.5097 (0.5491)  time: 0.1390  data: 0.0420  max mem: 1105\n"
     ]
    },
    {
     "name": "stderr",
     "output_type": "stream",
     "text": [
      "2437it [05:41,  7.13it/s]\n"
     ]
    },
    {
     "name": "stdout",
     "output_type": "stream",
     "text": [
      "Epoch: [25]  [2436/2437]  eta: 0:00:00  lr: 0.000050  loss: 0.5722 (0.7085)  bbox_regression: 0.1416 (0.1598)  classification: 0.4325 (0.5487)  time: 0.1367  data: 0.0418  max mem: 1105\n",
      "flag\n",
      "Epoch: [25] Total time: 0:05:41 (0.1402 s / it)\n",
      "saved dict\n",
      "creating index...\n",
      "index created!\n",
      "<torch.utils.data.dataloader.DataLoader object at 0x0000024C1147B310>\n",
      "Test:  [  0/100]  eta: 0:00:03  model_time: 0.0220 (0.0220)  evaluator_time: 0.0010 (0.0010)  time: 0.0360  data: 0.0120  max mem: 1105\n",
      "Test:  [ 99/100]  eta: 0:00:00  model_time: 0.0275 (0.0265)  evaluator_time: 0.0000 (0.0005)  time: 0.0420  data: 0.0120  max mem: 1105\n",
      "flag\n",
      "Test: Total time: 0:00:04 (0.0403 s / it)\n",
      "Averaged stats: model_time: 0.0275 (0.0265)  evaluator_time: 0.0000 (0.0005)\n",
      "Accumulating evaluation results...\n",
      "DONE (t=0.01s).\n",
      "IoU metric: bbox\n",
      " Average Precision  (AP) @[ IoU=0.50:0.95 | area=   all | maxDets=100 ] = 0.750\n",
      " Average Precision  (AP) @[ IoU=0.50      | area=   all | maxDets=100 ] = 0.926\n",
      " Average Precision  (AP) @[ IoU=0.75      | area=   all | maxDets=100 ] = 0.923\n",
      " Average Precision  (AP) @[ IoU=0.50:0.95 | area= small | maxDets=100 ] = -1.000\n",
      " Average Precision  (AP) @[ IoU=0.50:0.95 | area=medium | maxDets=100 ] = 0.000\n",
      " Average Precision  (AP) @[ IoU=0.50:0.95 | area= large | maxDets=100 ] = 0.754\n",
      " Average Recall     (AR) @[ IoU=0.50:0.95 | area=   all | maxDets=  1 ] = 0.784\n",
      " Average Recall     (AR) @[ IoU=0.50:0.95 | area=   all | maxDets= 10 ] = 0.793\n",
      " Average Recall     (AR) @[ IoU=0.50:0.95 | area=   all | maxDets=100 ] = 0.793\n",
      " Average Recall     (AR) @[ IoU=0.50:0.95 | area= small | maxDets=100 ] = -1.000\n",
      " Average Recall     (AR) @[ IoU=0.50:0.95 | area=medium | maxDets=100 ] = 0.000\n",
      " Average Recall     (AR) @[ IoU=0.50:0.95 | area= large | maxDets=100 ] = 0.797\n",
      "creating index...\n",
      "index created!\n",
      "<torch.utils.data.dataloader.DataLoader object at 0x0000024C1147A470>\n",
      "Test:  [  0/100]  eta: 0:00:04  model_time: 0.0350 (0.0350)  evaluator_time: 0.0000 (0.0000)  time: 0.0490  data: 0.0130  max mem: 1105\n",
      "Test:  [ 99/100]  eta: 0:00:00  model_time: 0.0310 (0.0330)  evaluator_time: 0.0010 (0.0006)  time: 0.0447  data: 0.0120  max mem: 1105\n",
      "flag\n",
      "Test: Total time: 0:00:04 (0.0474 s / it)\n",
      "Averaged stats: model_time: 0.0310 (0.0330)  evaluator_time: 0.0010 (0.0006)\n",
      "Accumulating evaluation results...\n",
      "DONE (t=0.02s).\n",
      "IoU metric: bbox\n",
      " Average Precision  (AP) @[ IoU=0.50:0.95 | area=   all | maxDets=100 ] = 0.398\n",
      " Average Precision  (AP) @[ IoU=0.50      | area=   all | maxDets=100 ] = 0.604\n",
      " Average Precision  (AP) @[ IoU=0.75      | area=   all | maxDets=100 ] = 0.431\n",
      " Average Precision  (AP) @[ IoU=0.50:0.95 | area= small | maxDets=100 ] = -1.000\n",
      " Average Precision  (AP) @[ IoU=0.50:0.95 | area=medium | maxDets=100 ] = -1.000\n",
      " Average Precision  (AP) @[ IoU=0.50:0.95 | area= large | maxDets=100 ] = 0.398\n",
      " Average Recall     (AR) @[ IoU=0.50:0.95 | area=   all | maxDets=  1 ] = 0.513\n",
      " Average Recall     (AR) @[ IoU=0.50:0.95 | area=   all | maxDets= 10 ] = 0.532\n",
      " Average Recall     (AR) @[ IoU=0.50:0.95 | area=   all | maxDets=100 ] = 0.532\n",
      " Average Recall     (AR) @[ IoU=0.50:0.95 | area= small | maxDets=100 ] = -1.000\n",
      " Average Recall     (AR) @[ IoU=0.50:0.95 | area=medium | maxDets=100 ] = -1.000\n",
      " Average Recall     (AR) @[ IoU=0.50:0.95 | area= large | maxDets=100 ] = 0.532\n"
     ]
    },
    {
     "name": "stderr",
     "output_type": "stream",
     "text": [
      "0it [00:00, ?it/s]"
     ]
    },
    {
     "name": "stdout",
     "output_type": "stream",
     "text": [
      "<torch.utils.data.dataloader.DataLoader object at 0x0000024C1147A620>\n"
     ]
    },
    {
     "name": "stderr",
     "output_type": "stream",
     "text": [
      "2it [00:00,  5.50it/s]"
     ]
    },
    {
     "name": "stdout",
     "output_type": "stream",
     "text": [
      "Epoch: [26]  [   0/2437]  eta: 0:09:38  lr: 0.000050  loss: 0.6527 (0.6527)  bbox_regression: 0.1459 (0.1459)  classification: 0.5068 (0.5068)  time: 0.2376  data: 0.0486  max mem: 1105\n"
     ]
    },
    {
     "name": "stderr",
     "output_type": "stream",
     "text": [
      "102it [00:14,  7.15it/s]"
     ]
    },
    {
     "name": "stdout",
     "output_type": "stream",
     "text": [
      "Epoch: [26]  [ 100/2437]  eta: 0:05:29  lr: 0.000050  loss: 0.5723 (0.6865)  bbox_regression: 0.1332 (0.1617)  classification: 0.4335 (0.5248)  time: 0.1381  data: 0.0416  max mem: 1105\n"
     ]
    },
    {
     "name": "stderr",
     "output_type": "stream",
     "text": [
      "202it [00:28,  7.28it/s]"
     ]
    },
    {
     "name": "stdout",
     "output_type": "stream",
     "text": [
      "Epoch: [26]  [ 200/2437]  eta: 0:05:13  lr: 0.000050  loss: 0.6189 (0.6934)  bbox_regression: 0.1361 (0.1568)  classification: 0.4761 (0.5366)  time: 0.1390  data: 0.0421  max mem: 1105\n"
     ]
    },
    {
     "name": "stderr",
     "output_type": "stream",
     "text": [
      "302it [00:42,  7.21it/s]"
     ]
    },
    {
     "name": "stdout",
     "output_type": "stream",
     "text": [
      "Epoch: [26]  [ 300/2437]  eta: 0:05:00  lr: 0.000050  loss: 0.6081 (0.6923)  bbox_regression: 0.1389 (0.1582)  classification: 0.4673 (0.5341)  time: 0.1391  data: 0.0429  max mem: 1105\n"
     ]
    },
    {
     "name": "stderr",
     "output_type": "stream",
     "text": [
      "402it [00:56,  7.27it/s]"
     ]
    },
    {
     "name": "stdout",
     "output_type": "stream",
     "text": [
      "Epoch: [26]  [ 400/2437]  eta: 0:04:45  lr: 0.000050  loss: 0.6301 (0.7058)  bbox_regression: 0.1525 (0.1569)  classification: 0.4581 (0.5489)  time: 0.1406  data: 0.0418  max mem: 1105\n"
     ]
    },
    {
     "name": "stderr",
     "output_type": "stream",
     "text": [
      "502it [01:10,  7.17it/s]"
     ]
    },
    {
     "name": "stdout",
     "output_type": "stream",
     "text": [
      "Epoch: [26]  [ 500/2437]  eta: 0:04:31  lr: 0.000050  loss: 0.6770 (0.7064)  bbox_regression: 0.1652 (0.1574)  classification: 0.5256 (0.5489)  time: 0.1389  data: 0.0412  max mem: 1105\n"
     ]
    },
    {
     "name": "stderr",
     "output_type": "stream",
     "text": [
      "602it [01:24,  7.20it/s]"
     ]
    },
    {
     "name": "stdout",
     "output_type": "stream",
     "text": [
      "Epoch: [26]  [ 600/2437]  eta: 0:04:17  lr: 0.000050  loss: 0.6591 (0.7000)  bbox_regression: 0.1455 (0.1570)  classification: 0.5243 (0.5430)  time: 0.1398  data: 0.0425  max mem: 1105\n"
     ]
    },
    {
     "name": "stderr",
     "output_type": "stream",
     "text": [
      "702it [01:38,  7.27it/s]"
     ]
    },
    {
     "name": "stdout",
     "output_type": "stream",
     "text": [
      "Epoch: [26]  [ 700/2437]  eta: 0:04:03  lr: 0.000050  loss: 0.6365 (0.6986)  bbox_regression: 0.1276 (0.1577)  classification: 0.5393 (0.5409)  time: 0.1394  data: 0.0405  max mem: 1105\n"
     ]
    },
    {
     "name": "stderr",
     "output_type": "stream",
     "text": [
      "802it [01:52,  7.20it/s]"
     ]
    },
    {
     "name": "stdout",
     "output_type": "stream",
     "text": [
      "Epoch: [26]  [ 800/2437]  eta: 0:03:48  lr: 0.000050  loss: 0.5530 (0.6945)  bbox_regression: 0.1384 (0.1580)  classification: 0.4024 (0.5366)  time: 0.1378  data: 0.0411  max mem: 1105\n"
     ]
    },
    {
     "name": "stderr",
     "output_type": "stream",
     "text": [
      "902it [02:05,  7.27it/s]"
     ]
    },
    {
     "name": "stdout",
     "output_type": "stream",
     "text": [
      "Epoch: [26]  [ 900/2437]  eta: 0:03:34  lr: 0.000050  loss: 0.5940 (0.6959)  bbox_regression: 0.1417 (0.1587)  classification: 0.4533 (0.5372)  time: 0.1378  data: 0.0410  max mem: 1105\n"
     ]
    },
    {
     "name": "stderr",
     "output_type": "stream",
     "text": [
      "1002it [02:19,  7.22it/s]"
     ]
    },
    {
     "name": "stdout",
     "output_type": "stream",
     "text": [
      "Epoch: [26]  [1000/2437]  eta: 0:03:20  lr: 0.000050  loss: 0.6530 (0.6990)  bbox_regression: 0.1478 (0.1582)  classification: 0.5042 (0.5408)  time: 0.1398  data: 0.0418  max mem: 1105\n"
     ]
    },
    {
     "name": "stderr",
     "output_type": "stream",
     "text": [
      "1102it [02:33,  7.30it/s]"
     ]
    },
    {
     "name": "stdout",
     "output_type": "stream",
     "text": [
      "Epoch: [26]  [1100/2437]  eta: 0:03:06  lr: 0.000050  loss: 0.5905 (0.7003)  bbox_regression: 0.1332 (0.1587)  classification: 0.4342 (0.5417)  time: 0.1373  data: 0.0415  max mem: 1105\n"
     ]
    },
    {
     "name": "stderr",
     "output_type": "stream",
     "text": [
      "1202it [02:47,  7.21it/s]"
     ]
    },
    {
     "name": "stdout",
     "output_type": "stream",
     "text": [
      "Epoch: [26]  [1200/2437]  eta: 0:02:52  lr: 0.000050  loss: 0.6250 (0.6992)  bbox_regression: 0.1341 (0.1588)  classification: 0.4612 (0.5405)  time: 0.1413  data: 0.0428  max mem: 1105\n"
     ]
    },
    {
     "name": "stderr",
     "output_type": "stream",
     "text": [
      "1302it [03:01,  7.26it/s]"
     ]
    },
    {
     "name": "stdout",
     "output_type": "stream",
     "text": [
      "Epoch: [26]  [1300/2437]  eta: 0:02:38  lr: 0.000050  loss: 0.5868 (0.6968)  bbox_regression: 0.1247 (0.1585)  classification: 0.4493 (0.5383)  time: 0.1375  data: 0.0403  max mem: 1105\n"
     ]
    },
    {
     "name": "stderr",
     "output_type": "stream",
     "text": [
      "1402it [03:15,  7.30it/s]"
     ]
    },
    {
     "name": "stdout",
     "output_type": "stream",
     "text": [
      "Epoch: [26]  [1400/2437]  eta: 0:02:24  lr: 0.000050  loss: 0.6091 (0.6971)  bbox_regression: 0.1334 (0.1588)  classification: 0.4599 (0.5382)  time: 0.1372  data: 0.0408  max mem: 1105\n"
     ]
    },
    {
     "name": "stderr",
     "output_type": "stream",
     "text": [
      "1502it [03:28,  7.21it/s]"
     ]
    },
    {
     "name": "stdout",
     "output_type": "stream",
     "text": [
      "Epoch: [26]  [1500/2437]  eta: 0:02:10  lr: 0.000050  loss: 0.6899 (0.6971)  bbox_regression: 0.1535 (0.1587)  classification: 0.5050 (0.5384)  time: 0.1361  data: 0.0398  max mem: 1105\n"
     ]
    },
    {
     "name": "stderr",
     "output_type": "stream",
     "text": [
      "1602it [03:42,  7.36it/s]"
     ]
    },
    {
     "name": "stdout",
     "output_type": "stream",
     "text": [
      "Epoch: [26]  [1600/2437]  eta: 0:01:56  lr: 0.000050  loss: 0.5599 (0.6954)  bbox_regression: 0.1111 (0.1584)  classification: 0.4430 (0.5370)  time: 0.1395  data: 0.0400  max mem: 1105\n"
     ]
    },
    {
     "name": "stderr",
     "output_type": "stream",
     "text": [
      "1702it [03:56,  7.15it/s]"
     ]
    },
    {
     "name": "stdout",
     "output_type": "stream",
     "text": [
      "Epoch: [26]  [1700/2437]  eta: 0:01:42  lr: 0.000050  loss: 0.6262 (0.6959)  bbox_regression: 0.1391 (0.1580)  classification: 0.4233 (0.5379)  time: 0.1383  data: 0.0418  max mem: 1105\n"
     ]
    },
    {
     "name": "stderr",
     "output_type": "stream",
     "text": [
      "1802it [04:10,  7.21it/s]"
     ]
    },
    {
     "name": "stdout",
     "output_type": "stream",
     "text": [
      "Epoch: [26]  [1800/2437]  eta: 0:01:28  lr: 0.000050  loss: 0.6385 (0.6957)  bbox_regression: 0.1356 (0.1575)  classification: 0.5148 (0.5382)  time: 0.1390  data: 0.0422  max mem: 1105\n"
     ]
    },
    {
     "name": "stderr",
     "output_type": "stream",
     "text": [
      "1902it [04:24,  7.27it/s]"
     ]
    },
    {
     "name": "stdout",
     "output_type": "stream",
     "text": [
      "Epoch: [26]  [1900/2437]  eta: 0:01:14  lr: 0.000050  loss: 0.6771 (0.6959)  bbox_regression: 0.1478 (0.1575)  classification: 0.4918 (0.5384)  time: 0.1367  data: 0.0400  max mem: 1105\n"
     ]
    },
    {
     "name": "stderr",
     "output_type": "stream",
     "text": [
      "2002it [04:38,  7.23it/s]"
     ]
    },
    {
     "name": "stdout",
     "output_type": "stream",
     "text": [
      "Epoch: [26]  [2000/2437]  eta: 0:01:00  lr: 0.000050  loss: 0.5959 (0.6933)  bbox_regression: 0.1519 (0.1573)  classification: 0.4453 (0.5360)  time: 0.1393  data: 0.0412  max mem: 1105\n"
     ]
    },
    {
     "name": "stderr",
     "output_type": "stream",
     "text": [
      "2102it [04:52,  7.16it/s]"
     ]
    },
    {
     "name": "stdout",
     "output_type": "stream",
     "text": [
      "Epoch: [26]  [2100/2437]  eta: 0:00:46  lr: 0.000050  loss: 0.6226 (0.6930)  bbox_regression: 0.1371 (0.1573)  classification: 0.4453 (0.5357)  time: 0.1408  data: 0.0428  max mem: 1105\n"
     ]
    },
    {
     "name": "stderr",
     "output_type": "stream",
     "text": [
      "2202it [05:06,  7.23it/s]"
     ]
    },
    {
     "name": "stdout",
     "output_type": "stream",
     "text": [
      "Epoch: [26]  [2200/2437]  eta: 0:00:32  lr: 0.000050  loss: 0.5805 (0.6936)  bbox_regression: 0.1517 (0.1575)  classification: 0.4574 (0.5361)  time: 0.1365  data: 0.0394  max mem: 1105\n"
     ]
    },
    {
     "name": "stderr",
     "output_type": "stream",
     "text": [
      "2302it [05:20,  6.99it/s]"
     ]
    },
    {
     "name": "stdout",
     "output_type": "stream",
     "text": [
      "Epoch: [26]  [2300/2437]  eta: 0:00:19  lr: 0.000050  loss: 0.6776 (0.6926)  bbox_regression: 0.1588 (0.1572)  classification: 0.5136 (0.5354)  time: 0.1397  data: 0.0424  max mem: 1105\n"
     ]
    },
    {
     "name": "stderr",
     "output_type": "stream",
     "text": [
      "2402it [05:33,  7.21it/s]"
     ]
    },
    {
     "name": "stdout",
     "output_type": "stream",
     "text": [
      "Epoch: [26]  [2400/2437]  eta: 0:00:05  lr: 0.000050  loss: 0.6252 (0.6941)  bbox_regression: 0.1487 (0.1574)  classification: 0.4700 (0.5367)  time: 0.1388  data: 0.0426  max mem: 1105\n"
     ]
    },
    {
     "name": "stderr",
     "output_type": "stream",
     "text": [
      "2437it [05:38,  7.19it/s]\n"
     ]
    },
    {
     "name": "stdout",
     "output_type": "stream",
     "text": [
      "Epoch: [26]  [2436/2437]  eta: 0:00:00  lr: 0.000050  loss: 0.5706 (0.6938)  bbox_regression: 0.1318 (0.1574)  classification: 0.4083 (0.5364)  time: 0.1346  data: 0.0395  max mem: 1105\n",
      "flag\n",
      "Epoch: [26] Total time: 0:05:38 (0.1391 s / it)\n",
      "saved dict\n",
      "creating index...\n",
      "index created!\n",
      "<torch.utils.data.dataloader.DataLoader object at 0x0000024C1147B310>\n",
      "Test:  [  0/100]  eta: 0:00:03  model_time: 0.0190 (0.0190)  evaluator_time: 0.0010 (0.0010)  time: 0.0340  data: 0.0130  max mem: 1105\n",
      "Test:  [ 99/100]  eta: 0:00:00  model_time: 0.0280 (0.0263)  evaluator_time: 0.0010 (0.0005)  time: 0.0418  data: 0.0121  max mem: 1105\n",
      "flag\n",
      "Test: Total time: 0:00:04 (0.0400 s / it)\n",
      "Averaged stats: model_time: 0.0280 (0.0263)  evaluator_time: 0.0010 (0.0005)\n",
      "Accumulating evaluation results...\n",
      "DONE (t=0.01s).\n",
      "IoU metric: bbox\n",
      " Average Precision  (AP) @[ IoU=0.50:0.95 | area=   all | maxDets=100 ] = 0.759\n",
      " Average Precision  (AP) @[ IoU=0.50      | area=   all | maxDets=100 ] = 0.928\n",
      " Average Precision  (AP) @[ IoU=0.75      | area=   all | maxDets=100 ] = 0.926\n",
      " Average Precision  (AP) @[ IoU=0.50:0.95 | area= small | maxDets=100 ] = -1.000\n",
      " Average Precision  (AP) @[ IoU=0.50:0.95 | area=medium | maxDets=100 ] = 0.000\n",
      " Average Precision  (AP) @[ IoU=0.50:0.95 | area= large | maxDets=100 ] = 0.762\n",
      " Average Recall     (AR) @[ IoU=0.50:0.95 | area=   all | maxDets=  1 ] = 0.791\n",
      " Average Recall     (AR) @[ IoU=0.50:0.95 | area=   all | maxDets= 10 ] = 0.800\n",
      " Average Recall     (AR) @[ IoU=0.50:0.95 | area=   all | maxDets=100 ] = 0.800\n",
      " Average Recall     (AR) @[ IoU=0.50:0.95 | area= small | maxDets=100 ] = -1.000\n",
      " Average Recall     (AR) @[ IoU=0.50:0.95 | area=medium | maxDets=100 ] = 0.000\n",
      " Average Recall     (AR) @[ IoU=0.50:0.95 | area= large | maxDets=100 ] = 0.803\n",
      "creating index...\n",
      "index created!\n",
      "<torch.utils.data.dataloader.DataLoader object at 0x0000024C1147A470>\n",
      "Test:  [  0/100]  eta: 0:00:05  model_time: 0.0405 (0.0405)  evaluator_time: 0.0010 (0.0010)  time: 0.0546  data: 0.0121  max mem: 1105\n",
      "Test:  [ 99/100]  eta: 0:00:00  model_time: 0.0310 (0.0328)  evaluator_time: 0.0010 (0.0006)  time: 0.0448  data: 0.0122  max mem: 1105\n",
      "flag\n",
      "Test: Total time: 0:00:04 (0.0471 s / it)\n",
      "Averaged stats: model_time: 0.0310 (0.0328)  evaluator_time: 0.0010 (0.0006)\n",
      "Accumulating evaluation results...\n",
      "DONE (t=0.02s).\n",
      "IoU metric: bbox\n",
      " Average Precision  (AP) @[ IoU=0.50:0.95 | area=   all | maxDets=100 ] = 0.398\n",
      " Average Precision  (AP) @[ IoU=0.50      | area=   all | maxDets=100 ] = 0.609\n",
      " Average Precision  (AP) @[ IoU=0.75      | area=   all | maxDets=100 ] = 0.437\n",
      " Average Precision  (AP) @[ IoU=0.50:0.95 | area= small | maxDets=100 ] = -1.000\n",
      " Average Precision  (AP) @[ IoU=0.50:0.95 | area=medium | maxDets=100 ] = -1.000\n",
      " Average Precision  (AP) @[ IoU=0.50:0.95 | area= large | maxDets=100 ] = 0.399\n",
      " Average Recall     (AR) @[ IoU=0.50:0.95 | area=   all | maxDets=  1 ] = 0.503\n",
      " Average Recall     (AR) @[ IoU=0.50:0.95 | area=   all | maxDets= 10 ] = 0.525\n",
      " Average Recall     (AR) @[ IoU=0.50:0.95 | area=   all | maxDets=100 ] = 0.525\n",
      " Average Recall     (AR) @[ IoU=0.50:0.95 | area= small | maxDets=100 ] = -1.000\n",
      " Average Recall     (AR) @[ IoU=0.50:0.95 | area=medium | maxDets=100 ] = -1.000\n",
      " Average Recall     (AR) @[ IoU=0.50:0.95 | area= large | maxDets=100 ] = 0.525\n"
     ]
    },
    {
     "name": "stderr",
     "output_type": "stream",
     "text": [
      "0it [00:00, ?it/s]"
     ]
    },
    {
     "name": "stdout",
     "output_type": "stream",
     "text": [
      "<torch.utils.data.dataloader.DataLoader object at 0x0000024C1147A620>\n"
     ]
    },
    {
     "name": "stderr",
     "output_type": "stream",
     "text": [
      "2it [00:00,  4.86it/s]"
     ]
    },
    {
     "name": "stdout",
     "output_type": "stream",
     "text": [
      "Epoch: [27]  [   0/2437]  eta: 0:09:54  lr: 0.000050  loss: 0.6181 (0.6181)  bbox_regression: 0.1550 (0.1550)  classification: 0.4631 (0.4631)  time: 0.2441  data: 0.0510  max mem: 1105\n"
     ]
    },
    {
     "name": "stderr",
     "output_type": "stream",
     "text": [
      "102it [00:14,  7.20it/s]"
     ]
    },
    {
     "name": "stdout",
     "output_type": "stream",
     "text": [
      "Epoch: [27]  [ 100/2437]  eta: 0:05:24  lr: 0.000050  loss: 0.5962 (0.6555)  bbox_regression: 0.1545 (0.1589)  classification: 0.4513 (0.4966)  time: 0.1377  data: 0.0409  max mem: 1105\n"
     ]
    },
    {
     "name": "stderr",
     "output_type": "stream",
     "text": [
      "202it [00:28,  6.83it/s]"
     ]
    },
    {
     "name": "stdout",
     "output_type": "stream",
     "text": [
      "Epoch: [27]  [ 200/2437]  eta: 0:05:12  lr: 0.000050  loss: 0.6080 (0.6560)  bbox_regression: 0.1584 (0.1531)  classification: 0.4653 (0.5029)  time: 0.1386  data: 0.0421  max mem: 1105\n"
     ]
    },
    {
     "name": "stderr",
     "output_type": "stream",
     "text": [
      "302it [00:42,  7.19it/s]"
     ]
    },
    {
     "name": "stdout",
     "output_type": "stream",
     "text": [
      "Epoch: [27]  [ 300/2437]  eta: 0:04:57  lr: 0.000050  loss: 0.5378 (0.6795)  bbox_regression: 0.1313 (0.1577)  classification: 0.4301 (0.5218)  time: 0.1383  data: 0.0423  max mem: 1105\n"
     ]
    },
    {
     "name": "stderr",
     "output_type": "stream",
     "text": [
      "402it [00:56,  7.26it/s]"
     ]
    },
    {
     "name": "stdout",
     "output_type": "stream",
     "text": [
      "Epoch: [27]  [ 400/2437]  eta: 0:04:43  lr: 0.000050  loss: 0.5854 (0.6721)  bbox_regression: 0.1530 (0.1556)  classification: 0.4301 (0.5165)  time: 0.1377  data: 0.0405  max mem: 1105\n"
     ]
    },
    {
     "name": "stderr",
     "output_type": "stream",
     "text": [
      "502it [01:09,  7.38it/s]"
     ]
    },
    {
     "name": "stdout",
     "output_type": "stream",
     "text": [
      "Epoch: [27]  [ 500/2437]  eta: 0:04:29  lr: 0.000050  loss: 0.6889 (0.6724)  bbox_regression: 0.1332 (0.1545)  classification: 0.5185 (0.5179)  time: 0.1389  data: 0.0413  max mem: 1105\n"
     ]
    },
    {
     "name": "stderr",
     "output_type": "stream",
     "text": [
      "602it [01:23,  7.08it/s]"
     ]
    },
    {
     "name": "stdout",
     "output_type": "stream",
     "text": [
      "Epoch: [27]  [ 600/2437]  eta: 0:04:15  lr: 0.000050  loss: 0.5756 (0.6820)  bbox_regression: 0.1358 (0.1552)  classification: 0.4536 (0.5268)  time: 0.1389  data: 0.0426  max mem: 1105\n"
     ]
    },
    {
     "name": "stderr",
     "output_type": "stream",
     "text": [
      "702it [01:37,  7.14it/s]"
     ]
    },
    {
     "name": "stdout",
     "output_type": "stream",
     "text": [
      "Epoch: [27]  [ 700/2437]  eta: 0:04:02  lr: 0.000050  loss: 0.6442 (0.6855)  bbox_regression: 0.1445 (0.1575)  classification: 0.4467 (0.5280)  time: 0.1381  data: 0.0409  max mem: 1105\n"
     ]
    },
    {
     "name": "stderr",
     "output_type": "stream",
     "text": [
      "802it [01:51,  7.32it/s]"
     ]
    },
    {
     "name": "stdout",
     "output_type": "stream",
     "text": [
      "Epoch: [27]  [ 800/2437]  eta: 0:03:48  lr: 0.000050  loss: 0.5849 (0.6845)  bbox_regression: 0.1438 (0.1568)  classification: 0.4393 (0.5276)  time: 0.1375  data: 0.0402  max mem: 1105\n"
     ]
    },
    {
     "name": "stderr",
     "output_type": "stream",
     "text": [
      "902it [02:05,  7.14it/s]"
     ]
    },
    {
     "name": "stdout",
     "output_type": "stream",
     "text": [
      "Epoch: [27]  [ 900/2437]  eta: 0:03:34  lr: 0.000050  loss: 0.6329 (0.6853)  bbox_regression: 0.1406 (0.1572)  classification: 0.4711 (0.5281)  time: 0.1382  data: 0.0406  max mem: 1105\n"
     ]
    },
    {
     "name": "stderr",
     "output_type": "stream",
     "text": [
      "1002it [02:19,  7.38it/s]"
     ]
    },
    {
     "name": "stdout",
     "output_type": "stream",
     "text": [
      "Epoch: [27]  [1000/2437]  eta: 0:03:20  lr: 0.000050  loss: 0.5499 (0.6882)  bbox_regression: 0.1307 (0.1583)  classification: 0.4116 (0.5299)  time: 0.1360  data: 0.0406  max mem: 1105\n"
     ]
    },
    {
     "name": "stderr",
     "output_type": "stream",
     "text": [
      "1102it [02:33,  6.89it/s]"
     ]
    },
    {
     "name": "stdout",
     "output_type": "stream",
     "text": [
      "Epoch: [27]  [1100/2437]  eta: 0:03:06  lr: 0.000050  loss: 0.5874 (0.6898)  bbox_regression: 0.1571 (0.1586)  classification: 0.4303 (0.5312)  time: 0.1444  data: 0.0457  max mem: 1105\n"
     ]
    },
    {
     "name": "stderr",
     "output_type": "stream",
     "text": [
      "1202it [02:47,  7.44it/s]"
     ]
    },
    {
     "name": "stdout",
     "output_type": "stream",
     "text": [
      "Epoch: [27]  [1200/2437]  eta: 0:02:52  lr: 0.000050  loss: 0.6011 (0.6844)  bbox_regression: 0.1389 (0.1568)  classification: 0.4587 (0.5276)  time: 0.1362  data: 0.0395  max mem: 1105\n"
     ]
    },
    {
     "name": "stderr",
     "output_type": "stream",
     "text": [
      "1302it [03:01,  7.19it/s]"
     ]
    },
    {
     "name": "stdout",
     "output_type": "stream",
     "text": [
      "Epoch: [27]  [1300/2437]  eta: 0:02:38  lr: 0.000050  loss: 0.5607 (0.6841)  bbox_regression: 0.1282 (0.1567)  classification: 0.4306 (0.5273)  time: 0.1374  data: 0.0408  max mem: 1105\n"
     ]
    },
    {
     "name": "stderr",
     "output_type": "stream",
     "text": [
      "1402it [03:15,  7.30it/s]"
     ]
    },
    {
     "name": "stdout",
     "output_type": "stream",
     "text": [
      "Epoch: [27]  [1400/2437]  eta: 0:02:24  lr: 0.000050  loss: 0.6246 (0.6834)  bbox_regression: 0.1307 (0.1565)  classification: 0.5107 (0.5269)  time: 0.1377  data: 0.0417  max mem: 1105\n"
     ]
    },
    {
     "name": "stderr",
     "output_type": "stream",
     "text": [
      "1502it [03:29,  7.34it/s]"
     ]
    },
    {
     "name": "stdout",
     "output_type": "stream",
     "text": [
      "Epoch: [27]  [1500/2437]  eta: 0:02:10  lr: 0.000050  loss: 0.5941 (0.6824)  bbox_regression: 0.1420 (0.1561)  classification: 0.4303 (0.5263)  time: 0.1379  data: 0.0411  max mem: 1105\n"
     ]
    },
    {
     "name": "stderr",
     "output_type": "stream",
     "text": [
      "1602it [03:42,  7.17it/s]"
     ]
    },
    {
     "name": "stdout",
     "output_type": "stream",
     "text": [
      "Epoch: [27]  [1600/2437]  eta: 0:01:56  lr: 0.000050  loss: 0.6813 (0.6831)  bbox_regression: 0.1109 (0.1558)  classification: 0.5209 (0.5273)  time: 0.1384  data: 0.0414  max mem: 1105\n"
     ]
    },
    {
     "name": "stderr",
     "output_type": "stream",
     "text": [
      "1702it [03:56,  7.40it/s]"
     ]
    },
    {
     "name": "stdout",
     "output_type": "stream",
     "text": [
      "Epoch: [27]  [1700/2437]  eta: 0:01:42  lr: 0.000050  loss: 0.6448 (0.6846)  bbox_regression: 0.1372 (0.1557)  classification: 0.5123 (0.5289)  time: 0.1367  data: 0.0406  max mem: 1105\n"
     ]
    },
    {
     "name": "stderr",
     "output_type": "stream",
     "text": [
      "1802it [04:10,  7.11it/s]"
     ]
    },
    {
     "name": "stdout",
     "output_type": "stream",
     "text": [
      "Epoch: [27]  [1800/2437]  eta: 0:01:28  lr: 0.000050  loss: 0.5110 (0.6864)  bbox_regression: 0.1576 (0.1567)  classification: 0.3823 (0.5297)  time: 0.1407  data: 0.0423  max mem: 1105\n"
     ]
    },
    {
     "name": "stderr",
     "output_type": "stream",
     "text": [
      "1902it [04:24,  6.87it/s]"
     ]
    },
    {
     "name": "stdout",
     "output_type": "stream",
     "text": [
      "Epoch: [27]  [1900/2437]  eta: 0:01:14  lr: 0.000050  loss: 0.6871 (0.6855)  bbox_regression: 0.1489 (0.1566)  classification: 0.5114 (0.5289)  time: 0.1381  data: 0.0413  max mem: 1105\n"
     ]
    },
    {
     "name": "stderr",
     "output_type": "stream",
     "text": [
      "2002it [04:38,  7.13it/s]"
     ]
    },
    {
     "name": "stdout",
     "output_type": "stream",
     "text": [
      "Epoch: [27]  [2000/2437]  eta: 0:01:00  lr: 0.000050  loss: 0.5031 (0.6853)  bbox_regression: 0.1399 (0.1564)  classification: 0.3826 (0.5289)  time: 0.1399  data: 0.0419  max mem: 1105\n"
     ]
    },
    {
     "name": "stderr",
     "output_type": "stream",
     "text": [
      "2102it [04:52,  7.26it/s]"
     ]
    },
    {
     "name": "stdout",
     "output_type": "stream",
     "text": [
      "Epoch: [27]  [2100/2437]  eta: 0:00:46  lr: 0.000050  loss: 0.6607 (0.6854)  bbox_regression: 0.1411 (0.1566)  classification: 0.4991 (0.5288)  time: 0.1373  data: 0.0411  max mem: 1105\n"
     ]
    },
    {
     "name": "stderr",
     "output_type": "stream",
     "text": [
      "2202it [05:06,  7.32it/s]"
     ]
    },
    {
     "name": "stdout",
     "output_type": "stream",
     "text": [
      "Epoch: [27]  [2200/2437]  eta: 0:00:32  lr: 0.000050  loss: 0.5123 (0.6864)  bbox_regression: 0.1193 (0.1566)  classification: 0.3904 (0.5298)  time: 0.1399  data: 0.0425  max mem: 1105\n"
     ]
    },
    {
     "name": "stderr",
     "output_type": "stream",
     "text": [
      "2302it [05:19,  7.05it/s]"
     ]
    },
    {
     "name": "stdout",
     "output_type": "stream",
     "text": [
      "Epoch: [27]  [2300/2437]  eta: 0:00:19  lr: 0.000050  loss: 0.5924 (0.6885)  bbox_regression: 0.1249 (0.1570)  classification: 0.4568 (0.5315)  time: 0.1391  data: 0.0417  max mem: 1105\n"
     ]
    },
    {
     "name": "stderr",
     "output_type": "stream",
     "text": [
      "2402it [05:33,  7.18it/s]"
     ]
    },
    {
     "name": "stdout",
     "output_type": "stream",
     "text": [
      "Epoch: [27]  [2400/2437]  eta: 0:00:05  lr: 0.000050  loss: 0.5402 (0.6898)  bbox_regression: 0.1221 (0.1570)  classification: 0.4052 (0.5328)  time: 0.1378  data: 0.0416  max mem: 1105\n"
     ]
    },
    {
     "name": "stderr",
     "output_type": "stream",
     "text": [
      "2437it [05:38,  7.20it/s]\n"
     ]
    },
    {
     "name": "stdout",
     "output_type": "stream",
     "text": [
      "Epoch: [27]  [2436/2437]  eta: 0:00:00  lr: 0.000050  loss: 0.5551 (0.6900)  bbox_regression: 0.1470 (0.1572)  classification: 0.4548 (0.5328)  time: 0.1359  data: 0.0406  max mem: 1105\n",
      "flag\n",
      "Epoch: [27] Total time: 0:05:38 (0.1389 s / it)\n",
      "saved dict\n",
      "creating index...\n",
      "index created!\n",
      "<torch.utils.data.dataloader.DataLoader object at 0x0000024C1147B310>\n",
      "Test:  [  0/100]  eta: 0:00:03  model_time: 0.0195 (0.0195)  evaluator_time: 0.0000 (0.0000)  time: 0.0325  data: 0.0120  max mem: 1105\n",
      "Test:  [ 99/100]  eta: 0:00:00  model_time: 0.0280 (0.0265)  evaluator_time: 0.0010 (0.0006)  time: 0.0422  data: 0.0123  max mem: 1105\n",
      "flag\n",
      "Test: Total time: 0:00:04 (0.0402 s / it)\n",
      "Averaged stats: model_time: 0.0280 (0.0265)  evaluator_time: 0.0010 (0.0006)\n",
      "Accumulating evaluation results...\n",
      "DONE (t=0.01s).\n",
      "IoU metric: bbox\n",
      " Average Precision  (AP) @[ IoU=0.50:0.95 | area=   all | maxDets=100 ] = 0.757\n",
      " Average Precision  (AP) @[ IoU=0.50      | area=   all | maxDets=100 ] = 0.928\n",
      " Average Precision  (AP) @[ IoU=0.75      | area=   all | maxDets=100 ] = 0.925\n",
      " Average Precision  (AP) @[ IoU=0.50:0.95 | area= small | maxDets=100 ] = -1.000\n",
      " Average Precision  (AP) @[ IoU=0.50:0.95 | area=medium | maxDets=100 ] = 0.000\n",
      " Average Precision  (AP) @[ IoU=0.50:0.95 | area= large | maxDets=100 ] = 0.760\n",
      " Average Recall     (AR) @[ IoU=0.50:0.95 | area=   all | maxDets=  1 ] = 0.788\n",
      " Average Recall     (AR) @[ IoU=0.50:0.95 | area=   all | maxDets= 10 ] = 0.797\n",
      " Average Recall     (AR) @[ IoU=0.50:0.95 | area=   all | maxDets=100 ] = 0.797\n",
      " Average Recall     (AR) @[ IoU=0.50:0.95 | area= small | maxDets=100 ] = -1.000\n",
      " Average Recall     (AR) @[ IoU=0.50:0.95 | area=medium | maxDets=100 ] = 0.000\n",
      " Average Recall     (AR) @[ IoU=0.50:0.95 | area= large | maxDets=100 ] = 0.800\n",
      "creating index...\n",
      "index created!\n",
      "<torch.utils.data.dataloader.DataLoader object at 0x0000024C1147A470>\n",
      "Test:  [  0/100]  eta: 0:00:05  model_time: 0.0360 (0.0360)  evaluator_time: 0.0010 (0.0010)  time: 0.0510  data: 0.0130  max mem: 1105\n",
      "Test:  [ 99/100]  eta: 0:00:00  model_time: 0.0320 (0.0340)  evaluator_time: 0.0000 (0.0005)  time: 0.0468  data: 0.0126  max mem: 1105\n",
      "flag\n",
      "Test: Total time: 0:00:04 (0.0483 s / it)\n",
      "Averaged stats: model_time: 0.0320 (0.0340)  evaluator_time: 0.0000 (0.0005)\n",
      "Accumulating evaluation results...\n",
      "DONE (t=0.02s).\n",
      "IoU metric: bbox\n",
      " Average Precision  (AP) @[ IoU=0.50:0.95 | area=   all | maxDets=100 ] = 0.398\n",
      " Average Precision  (AP) @[ IoU=0.50      | area=   all | maxDets=100 ] = 0.606\n",
      " Average Precision  (AP) @[ IoU=0.75      | area=   all | maxDets=100 ] = 0.436\n",
      " Average Precision  (AP) @[ IoU=0.50:0.95 | area= small | maxDets=100 ] = -1.000\n",
      " Average Precision  (AP) @[ IoU=0.50:0.95 | area=medium | maxDets=100 ] = -1.000\n",
      " Average Precision  (AP) @[ IoU=0.50:0.95 | area= large | maxDets=100 ] = 0.399\n",
      " Average Recall     (AR) @[ IoU=0.50:0.95 | area=   all | maxDets=  1 ] = 0.507\n",
      " Average Recall     (AR) @[ IoU=0.50:0.95 | area=   all | maxDets= 10 ] = 0.529\n",
      " Average Recall     (AR) @[ IoU=0.50:0.95 | area=   all | maxDets=100 ] = 0.529\n",
      " Average Recall     (AR) @[ IoU=0.50:0.95 | area= small | maxDets=100 ] = -1.000\n",
      " Average Recall     (AR) @[ IoU=0.50:0.95 | area=medium | maxDets=100 ] = -1.000\n",
      " Average Recall     (AR) @[ IoU=0.50:0.95 | area= large | maxDets=100 ] = 0.529\n"
     ]
    },
    {
     "name": "stderr",
     "output_type": "stream",
     "text": [
      "0it [00:00, ?it/s]"
     ]
    },
    {
     "name": "stdout",
     "output_type": "stream",
     "text": [
      "<torch.utils.data.dataloader.DataLoader object at 0x0000024C1147A620>\n"
     ]
    },
    {
     "name": "stderr",
     "output_type": "stream",
     "text": [
      "2it [00:00,  5.19it/s]"
     ]
    },
    {
     "name": "stdout",
     "output_type": "stream",
     "text": [
      "Epoch: [28]  [   0/2437]  eta: 0:10:31  lr: 0.000050  loss: 0.4832 (0.4832)  bbox_regression: 0.1292 (0.1292)  classification: 0.3540 (0.3540)  time: 0.2591  data: 0.0545  max mem: 1105\n"
     ]
    },
    {
     "name": "stderr",
     "output_type": "stream",
     "text": [
      "102it [00:14,  7.27it/s]"
     ]
    },
    {
     "name": "stdout",
     "output_type": "stream",
     "text": [
      "Epoch: [28]  [ 100/2437]  eta: 0:05:27  lr: 0.000050  loss: 0.6394 (0.6501)  bbox_regression: 0.1290 (0.1434)  classification: 0.5236 (0.5066)  time: 0.1373  data: 0.0413  max mem: 1105\n"
     ]
    },
    {
     "name": "stderr",
     "output_type": "stream",
     "text": [
      "202it [00:28,  7.15it/s]"
     ]
    },
    {
     "name": "stdout",
     "output_type": "stream",
     "text": [
      "Epoch: [28]  [ 200/2437]  eta: 0:05:10  lr: 0.000050  loss: 0.6726 (0.6446)  bbox_regression: 0.1338 (0.1417)  classification: 0.4925 (0.5029)  time: 0.1399  data: 0.0426  max mem: 1105\n"
     ]
    },
    {
     "name": "stderr",
     "output_type": "stream",
     "text": [
      "302it [00:41,  7.07it/s]"
     ]
    },
    {
     "name": "stdout",
     "output_type": "stream",
     "text": [
      "Epoch: [28]  [ 300/2437]  eta: 0:04:57  lr: 0.000050  loss: 0.6530 (0.6548)  bbox_regression: 0.1272 (0.1453)  classification: 0.5009 (0.5094)  time: 0.1376  data: 0.0409  max mem: 1105\n"
     ]
    },
    {
     "name": "stderr",
     "output_type": "stream",
     "text": [
      "402it [00:56,  7.28it/s]"
     ]
    },
    {
     "name": "stdout",
     "output_type": "stream",
     "text": [
      "Epoch: [28]  [ 400/2437]  eta: 0:04:44  lr: 0.000050  loss: 0.5838 (0.6635)  bbox_regression: 0.1342 (0.1465)  classification: 0.4497 (0.5169)  time: 0.1394  data: 0.0423  max mem: 1105\n"
     ]
    },
    {
     "name": "stderr",
     "output_type": "stream",
     "text": [
      "502it [01:10,  7.17it/s]"
     ]
    },
    {
     "name": "stdout",
     "output_type": "stream",
     "text": [
      "Epoch: [28]  [ 500/2437]  eta: 0:04:30  lr: 0.000050  loss: 0.6160 (0.6650)  bbox_regression: 0.1492 (0.1485)  classification: 0.4705 (0.5165)  time: 0.1391  data: 0.0421  max mem: 1105\n"
     ]
    },
    {
     "name": "stderr",
     "output_type": "stream",
     "text": [
      "602it [01:23,  7.13it/s]"
     ]
    },
    {
     "name": "stdout",
     "output_type": "stream",
     "text": [
      "Epoch: [28]  [ 600/2437]  eta: 0:04:16  lr: 0.000050  loss: 0.5673 (0.6661)  bbox_regression: 0.1226 (0.1497)  classification: 0.4484 (0.5164)  time: 0.1377  data: 0.0410  max mem: 1105\n"
     ]
    },
    {
     "name": "stderr",
     "output_type": "stream",
     "text": [
      "702it [01:37,  7.03it/s]"
     ]
    },
    {
     "name": "stdout",
     "output_type": "stream",
     "text": [
      "Epoch: [28]  [ 700/2437]  eta: 0:04:01  lr: 0.000050  loss: 0.6853 (0.6613)  bbox_regression: 0.1407 (0.1506)  classification: 0.4786 (0.5107)  time: 0.1394  data: 0.0410  max mem: 1105\n"
     ]
    },
    {
     "name": "stderr",
     "output_type": "stream",
     "text": [
      "802it [01:51,  7.26it/s]"
     ]
    },
    {
     "name": "stdout",
     "output_type": "stream",
     "text": [
      "Epoch: [28]  [ 800/2437]  eta: 0:03:48  lr: 0.000050  loss: 0.6034 (0.6621)  bbox_regression: 0.1356 (0.1514)  classification: 0.4560 (0.5107)  time: 0.1381  data: 0.0410  max mem: 1105\n"
     ]
    },
    {
     "name": "stderr",
     "output_type": "stream",
     "text": [
      "902it [02:05,  7.12it/s]"
     ]
    },
    {
     "name": "stdout",
     "output_type": "stream",
     "text": [
      "Epoch: [28]  [ 900/2437]  eta: 0:03:34  lr: 0.000050  loss: 0.5694 (0.6687)  bbox_regression: 0.1396 (0.1523)  classification: 0.4422 (0.5164)  time: 0.1419  data: 0.0425  max mem: 1105\n"
     ]
    },
    {
     "name": "stderr",
     "output_type": "stream",
     "text": [
      "1002it [02:19,  7.39it/s]"
     ]
    },
    {
     "name": "stdout",
     "output_type": "stream",
     "text": [
      "Epoch: [28]  [1000/2437]  eta: 0:03:20  lr: 0.000050  loss: 0.6500 (0.6746)  bbox_regression: 0.1313 (0.1537)  classification: 0.5101 (0.5209)  time: 0.1393  data: 0.0409  max mem: 1105\n"
     ]
    },
    {
     "name": "stderr",
     "output_type": "stream",
     "text": [
      "1102it [02:33,  7.40it/s]"
     ]
    },
    {
     "name": "stdout",
     "output_type": "stream",
     "text": [
      "Epoch: [28]  [1100/2437]  eta: 0:03:06  lr: 0.000050  loss: 0.6157 (0.6743)  bbox_regression: 0.1313 (0.1539)  classification: 0.4517 (0.5204)  time: 0.1389  data: 0.0416  max mem: 1105\n"
     ]
    },
    {
     "name": "stderr",
     "output_type": "stream",
     "text": [
      "1202it [02:47,  7.25it/s]"
     ]
    },
    {
     "name": "stdout",
     "output_type": "stream",
     "text": [
      "Epoch: [28]  [1200/2437]  eta: 0:02:52  lr: 0.000050  loss: 0.7148 (0.6753)  bbox_regression: 0.1473 (0.1539)  classification: 0.5365 (0.5214)  time: 0.1399  data: 0.0429  max mem: 1105\n"
     ]
    },
    {
     "name": "stderr",
     "output_type": "stream",
     "text": [
      "1302it [03:01,  7.45it/s]"
     ]
    },
    {
     "name": "stdout",
     "output_type": "stream",
     "text": [
      "Epoch: [28]  [1300/2437]  eta: 0:02:38  lr: 0.000050  loss: 0.6381 (0.6772)  bbox_regression: 0.1511 (0.1546)  classification: 0.4721 (0.5226)  time: 0.1368  data: 0.0411  max mem: 1105\n"
     ]
    },
    {
     "name": "stderr",
     "output_type": "stream",
     "text": [
      "1402it [03:15,  7.18it/s]"
     ]
    },
    {
     "name": "stdout",
     "output_type": "stream",
     "text": [
      "Epoch: [28]  [1400/2437]  eta: 0:02:24  lr: 0.000050  loss: 0.5950 (0.6789)  bbox_regression: 0.1591 (0.1550)  classification: 0.4249 (0.5238)  time: 0.1388  data: 0.0427  max mem: 1105\n"
     ]
    },
    {
     "name": "stderr",
     "output_type": "stream",
     "text": [
      "1502it [03:28,  7.30it/s]"
     ]
    },
    {
     "name": "stdout",
     "output_type": "stream",
     "text": [
      "Epoch: [28]  [1500/2437]  eta: 0:02:10  lr: 0.000050  loss: 0.6621 (0.6780)  bbox_regression: 0.1645 (0.1551)  classification: 0.4643 (0.5229)  time: 0.1374  data: 0.0404  max mem: 1105\n"
     ]
    },
    {
     "name": "stderr",
     "output_type": "stream",
     "text": [
      "1602it [03:42,  7.32it/s]"
     ]
    },
    {
     "name": "stdout",
     "output_type": "stream",
     "text": [
      "Epoch: [28]  [1600/2437]  eta: 0:01:56  lr: 0.000050  loss: 0.7012 (0.6786)  bbox_regression: 0.1542 (0.1551)  classification: 0.5331 (0.5236)  time: 0.1389  data: 0.0425  max mem: 1105\n"
     ]
    },
    {
     "name": "stderr",
     "output_type": "stream",
     "text": [
      "1702it [03:56,  7.20it/s]"
     ]
    },
    {
     "name": "stdout",
     "output_type": "stream",
     "text": [
      "Epoch: [28]  [1700/2437]  eta: 0:01:42  lr: 0.000050  loss: 0.6152 (0.6791)  bbox_regression: 0.1612 (0.1556)  classification: 0.4215 (0.5235)  time: 0.1368  data: 0.0407  max mem: 1105\n"
     ]
    },
    {
     "name": "stderr",
     "output_type": "stream",
     "text": [
      "1802it [04:10,  7.41it/s]"
     ]
    },
    {
     "name": "stdout",
     "output_type": "stream",
     "text": [
      "Epoch: [28]  [1800/2437]  eta: 0:01:28  lr: 0.000050  loss: 0.6040 (0.6808)  bbox_regression: 0.1448 (0.1560)  classification: 0.4633 (0.5248)  time: 0.1381  data: 0.0429  max mem: 1105\n"
     ]
    },
    {
     "name": "stderr",
     "output_type": "stream",
     "text": [
      "1902it [04:24,  7.26it/s]"
     ]
    },
    {
     "name": "stdout",
     "output_type": "stream",
     "text": [
      "Epoch: [28]  [1900/2437]  eta: 0:01:14  lr: 0.000050  loss: 0.5871 (0.6791)  bbox_regression: 0.1197 (0.1555)  classification: 0.4347 (0.5236)  time: 0.1375  data: 0.0406  max mem: 1105\n"
     ]
    },
    {
     "name": "stderr",
     "output_type": "stream",
     "text": [
      "2002it [04:38,  7.45it/s]"
     ]
    },
    {
     "name": "stdout",
     "output_type": "stream",
     "text": [
      "Epoch: [28]  [2000/2437]  eta: 0:01:00  lr: 0.000050  loss: 0.5741 (0.6776)  bbox_regression: 0.1341 (0.1552)  classification: 0.4225 (0.5223)  time: 0.1368  data: 0.0412  max mem: 1105\n"
     ]
    },
    {
     "name": "stderr",
     "output_type": "stream",
     "text": [
      "2102it [04:51,  7.18it/s]"
     ]
    },
    {
     "name": "stdout",
     "output_type": "stream",
     "text": [
      "Epoch: [28]  [2100/2437]  eta: 0:00:46  lr: 0.000050  loss: 0.6105 (0.6797)  bbox_regression: 0.1456 (0.1554)  classification: 0.4528 (0.5243)  time: 0.1380  data: 0.0408  max mem: 1105\n"
     ]
    },
    {
     "name": "stderr",
     "output_type": "stream",
     "text": [
      "2202it [05:05,  7.18it/s]"
     ]
    },
    {
     "name": "stdout",
     "output_type": "stream",
     "text": [
      "Epoch: [28]  [2200/2437]  eta: 0:00:32  lr: 0.000050  loss: 0.6613 (0.6802)  bbox_regression: 0.1376 (0.1556)  classification: 0.5081 (0.5246)  time: 0.1391  data: 0.0417  max mem: 1105\n"
     ]
    },
    {
     "name": "stderr",
     "output_type": "stream",
     "text": [
      "2302it [05:19,  7.42it/s]"
     ]
    },
    {
     "name": "stdout",
     "output_type": "stream",
     "text": [
      "Epoch: [28]  [2300/2437]  eta: 0:00:19  lr: 0.000050  loss: 0.5945 (0.6798)  bbox_regression: 0.1286 (0.1554)  classification: 0.4715 (0.5245)  time: 0.1374  data: 0.0405  max mem: 1105\n"
     ]
    },
    {
     "name": "stderr",
     "output_type": "stream",
     "text": [
      "2402it [05:33,  7.02it/s]"
     ]
    },
    {
     "name": "stdout",
     "output_type": "stream",
     "text": [
      "Epoch: [28]  [2400/2437]  eta: 0:00:05  lr: 0.000050  loss: 0.6315 (0.6816)  bbox_regression: 0.1261 (0.1557)  classification: 0.4895 (0.5259)  time: 0.1383  data: 0.0419  max mem: 1105\n"
     ]
    },
    {
     "name": "stderr",
     "output_type": "stream",
     "text": [
      "2437it [05:38,  7.20it/s]\n"
     ]
    },
    {
     "name": "stdout",
     "output_type": "stream",
     "text": [
      "Epoch: [28]  [2436/2437]  eta: 0:00:00  lr: 0.000050  loss: 0.5870 (0.6821)  bbox_regression: 0.1532 (0.1558)  classification: 0.4452 (0.5263)  time: 0.1359  data: 0.0405  max mem: 1105\n",
      "flag\n",
      "Epoch: [28] Total time: 0:05:38 (0.1388 s / it)\n",
      "saved dict\n",
      "creating index...\n",
      "index created!\n",
      "<torch.utils.data.dataloader.DataLoader object at 0x0000024C1147B310>\n",
      "Test:  [  0/100]  eta: 0:00:03  model_time: 0.0190 (0.0190)  evaluator_time: 0.0010 (0.0010)  time: 0.0325  data: 0.0115  max mem: 1105\n",
      "Test:  [ 99/100]  eta: 0:00:00  model_time: 0.0280 (0.0267)  evaluator_time: 0.0010 (0.0005)  time: 0.0418  data: 0.0122  max mem: 1105\n",
      "flag\n",
      "Test: Total time: 0:00:04 (0.0405 s / it)\n",
      "Averaged stats: model_time: 0.0280 (0.0267)  evaluator_time: 0.0010 (0.0005)\n",
      "Accumulating evaluation results...\n",
      "DONE (t=0.01s).\n",
      "IoU metric: bbox\n",
      " Average Precision  (AP) @[ IoU=0.50:0.95 | area=   all | maxDets=100 ] = 0.758\n",
      " Average Precision  (AP) @[ IoU=0.50      | area=   all | maxDets=100 ] = 0.927\n",
      " Average Precision  (AP) @[ IoU=0.75      | area=   all | maxDets=100 ] = 0.925\n",
      " Average Precision  (AP) @[ IoU=0.50:0.95 | area= small | maxDets=100 ] = -1.000\n",
      " Average Precision  (AP) @[ IoU=0.50:0.95 | area=medium | maxDets=100 ] = 0.000\n",
      " Average Precision  (AP) @[ IoU=0.50:0.95 | area= large | maxDets=100 ] = 0.761\n",
      " Average Recall     (AR) @[ IoU=0.50:0.95 | area=   all | maxDets=  1 ] = 0.793\n",
      " Average Recall     (AR) @[ IoU=0.50:0.95 | area=   all | maxDets= 10 ] = 0.801\n",
      " Average Recall     (AR) @[ IoU=0.50:0.95 | area=   all | maxDets=100 ] = 0.801\n",
      " Average Recall     (AR) @[ IoU=0.50:0.95 | area= small | maxDets=100 ] = -1.000\n",
      " Average Recall     (AR) @[ IoU=0.50:0.95 | area=medium | maxDets=100 ] = 0.000\n",
      " Average Recall     (AR) @[ IoU=0.50:0.95 | area= large | maxDets=100 ] = 0.805\n",
      "creating index...\n",
      "index created!\n",
      "<torch.utils.data.dataloader.DataLoader object at 0x0000024C1147A470>\n",
      "Test:  [  0/100]  eta: 0:00:04  model_time: 0.0370 (0.0370)  evaluator_time: 0.0010 (0.0010)  time: 0.0500  data: 0.0120  max mem: 1105\n",
      "Test:  [ 99/100]  eta: 0:00:00  model_time: 0.0320 (0.0332)  evaluator_time: 0.0000 (0.0006)  time: 0.0463  data: 0.0126  max mem: 1105\n",
      "flag\n",
      "Test: Total time: 0:00:04 (0.0474 s / it)\n",
      "Averaged stats: model_time: 0.0320 (0.0332)  evaluator_time: 0.0000 (0.0006)\n",
      "Accumulating evaluation results...\n",
      "DONE (t=0.02s).\n",
      "IoU metric: bbox\n",
      " Average Precision  (AP) @[ IoU=0.50:0.95 | area=   all | maxDets=100 ] = 0.393\n",
      " Average Precision  (AP) @[ IoU=0.50      | area=   all | maxDets=100 ] = 0.605\n",
      " Average Precision  (AP) @[ IoU=0.75      | area=   all | maxDets=100 ] = 0.432\n",
      " Average Precision  (AP) @[ IoU=0.50:0.95 | area= small | maxDets=100 ] = -1.000\n",
      " Average Precision  (AP) @[ IoU=0.50:0.95 | area=medium | maxDets=100 ] = -1.000\n",
      " Average Precision  (AP) @[ IoU=0.50:0.95 | area= large | maxDets=100 ] = 0.393\n",
      " Average Recall     (AR) @[ IoU=0.50:0.95 | area=   all | maxDets=  1 ] = 0.503\n",
      " Average Recall     (AR) @[ IoU=0.50:0.95 | area=   all | maxDets= 10 ] = 0.522\n",
      " Average Recall     (AR) @[ IoU=0.50:0.95 | area=   all | maxDets=100 ] = 0.522\n",
      " Average Recall     (AR) @[ IoU=0.50:0.95 | area= small | maxDets=100 ] = -1.000\n",
      " Average Recall     (AR) @[ IoU=0.50:0.95 | area=medium | maxDets=100 ] = -1.000\n",
      " Average Recall     (AR) @[ IoU=0.50:0.95 | area= large | maxDets=100 ] = 0.522\n"
     ]
    },
    {
     "name": "stderr",
     "output_type": "stream",
     "text": [
      "0it [00:00, ?it/s]"
     ]
    },
    {
     "name": "stdout",
     "output_type": "stream",
     "text": [
      "<torch.utils.data.dataloader.DataLoader object at 0x0000024C1147A620>\n"
     ]
    },
    {
     "name": "stderr",
     "output_type": "stream",
     "text": [
      "2it [00:00,  4.56it/s]"
     ]
    },
    {
     "name": "stdout",
     "output_type": "stream",
     "text": [
      "Epoch: [29]  [   0/2437]  eta: 0:10:26  lr: 0.000050  loss: 0.6215 (0.6215)  bbox_regression: 0.1218 (0.1218)  classification: 0.4997 (0.4997)  time: 0.2571  data: 0.0610  max mem: 1105\n"
     ]
    },
    {
     "name": "stderr",
     "output_type": "stream",
     "text": [
      "102it [00:14,  7.06it/s]"
     ]
    },
    {
     "name": "stdout",
     "output_type": "stream",
     "text": [
      "Epoch: [29]  [ 100/2437]  eta: 0:05:29  lr: 0.000050  loss: 0.6172 (0.6356)  bbox_regression: 0.1305 (0.1479)  classification: 0.4665 (0.4878)  time: 0.1375  data: 0.0413  max mem: 1105\n"
     ]
    },
    {
     "name": "stderr",
     "output_type": "stream",
     "text": [
      "202it [00:28,  7.23it/s]"
     ]
    },
    {
     "name": "stdout",
     "output_type": "stream",
     "text": [
      "Epoch: [29]  [ 200/2437]  eta: 0:05:13  lr: 0.000050  loss: 0.5946 (0.6370)  bbox_regression: 0.1324 (0.1437)  classification: 0.4364 (0.4933)  time: 0.1453  data: 0.0484  max mem: 1105\n"
     ]
    },
    {
     "name": "stderr",
     "output_type": "stream",
     "text": [
      "302it [00:42,  7.23it/s]"
     ]
    },
    {
     "name": "stdout",
     "output_type": "stream",
     "text": [
      "Epoch: [29]  [ 300/2437]  eta: 0:04:58  lr: 0.000050  loss: 0.5889 (0.6456)  bbox_regression: 0.1427 (0.1477)  classification: 0.4435 (0.4978)  time: 0.1381  data: 0.0410  max mem: 1105\n"
     ]
    },
    {
     "name": "stderr",
     "output_type": "stream",
     "text": [
      "402it [00:56,  7.31it/s]"
     ]
    },
    {
     "name": "stdout",
     "output_type": "stream",
     "text": [
      "Epoch: [29]  [ 400/2437]  eta: 0:04:44  lr: 0.000050  loss: 0.6358 (0.6502)  bbox_regression: 0.1419 (0.1510)  classification: 0.5179 (0.4992)  time: 0.1370  data: 0.0400  max mem: 1105\n"
     ]
    },
    {
     "name": "stderr",
     "output_type": "stream",
     "text": [
      "502it [01:09,  7.18it/s]"
     ]
    },
    {
     "name": "stdout",
     "output_type": "stream",
     "text": [
      "Epoch: [29]  [ 500/2437]  eta: 0:04:29  lr: 0.000050  loss: 0.6404 (0.6561)  bbox_regression: 0.1751 (0.1512)  classification: 0.5087 (0.5049)  time: 0.1403  data: 0.0414  max mem: 1105\n"
     ]
    },
    {
     "name": "stderr",
     "output_type": "stream",
     "text": [
      "602it [01:23,  7.14it/s]"
     ]
    },
    {
     "name": "stdout",
     "output_type": "stream",
     "text": [
      "Epoch: [29]  [ 600/2437]  eta: 0:04:15  lr: 0.000050  loss: 0.5706 (0.6646)  bbox_regression: 0.1337 (0.1542)  classification: 0.4133 (0.5104)  time: 0.1397  data: 0.0421  max mem: 1105\n"
     ]
    },
    {
     "name": "stderr",
     "output_type": "stream",
     "text": [
      "702it [01:37,  7.16it/s]"
     ]
    },
    {
     "name": "stdout",
     "output_type": "stream",
     "text": [
      "Epoch: [29]  [ 700/2437]  eta: 0:04:01  lr: 0.000050  loss: 0.5811 (0.6674)  bbox_regression: 0.1408 (0.1550)  classification: 0.4422 (0.5124)  time: 0.1406  data: 0.0425  max mem: 1105\n"
     ]
    },
    {
     "name": "stderr",
     "output_type": "stream",
     "text": [
      "802it [01:51,  7.01it/s]"
     ]
    },
    {
     "name": "stdout",
     "output_type": "stream",
     "text": [
      "Epoch: [29]  [ 800/2437]  eta: 0:03:47  lr: 0.000050  loss: 0.5839 (0.6669)  bbox_regression: 0.1505 (0.1552)  classification: 0.4355 (0.5117)  time: 0.1390  data: 0.0403  max mem: 1105\n"
     ]
    },
    {
     "name": "stderr",
     "output_type": "stream",
     "text": [
      "902it [02:05,  7.33it/s]"
     ]
    },
    {
     "name": "stdout",
     "output_type": "stream",
     "text": [
      "Epoch: [29]  [ 900/2437]  eta: 0:03:33  lr: 0.000050  loss: 0.6117 (0.6650)  bbox_regression: 0.1488 (0.1542)  classification: 0.4668 (0.5108)  time: 0.1386  data: 0.0414  max mem: 1105\n"
     ]
    },
    {
     "name": "stderr",
     "output_type": "stream",
     "text": [
      "1002it [02:19,  7.25it/s]"
     ]
    },
    {
     "name": "stdout",
     "output_type": "stream",
     "text": [
      "Epoch: [29]  [1000/2437]  eta: 0:03:19  lr: 0.000050  loss: 0.5749 (0.6658)  bbox_regression: 0.1474 (0.1538)  classification: 0.4357 (0.5120)  time: 0.1396  data: 0.0430  max mem: 1105\n"
     ]
    },
    {
     "name": "stderr",
     "output_type": "stream",
     "text": [
      "1102it [02:33,  7.35it/s]"
     ]
    },
    {
     "name": "stdout",
     "output_type": "stream",
     "text": [
      "Epoch: [29]  [1100/2437]  eta: 0:03:05  lr: 0.000050  loss: 0.5991 (0.6663)  bbox_regression: 0.1283 (0.1537)  classification: 0.4611 (0.5125)  time: 0.1373  data: 0.0409  max mem: 1105\n"
     ]
    },
    {
     "name": "stderr",
     "output_type": "stream",
     "text": [
      "1202it [02:47,  6.35it/s]"
     ]
    },
    {
     "name": "stdout",
     "output_type": "stream",
     "text": [
      "Epoch: [29]  [1200/2437]  eta: 0:02:52  lr: 0.000050  loss: 0.6807 (0.6689)  bbox_regression: 0.1624 (0.1537)  classification: 0.5058 (0.5152)  time: 0.1428  data: 0.0419  max mem: 1105\n"
     ]
    },
    {
     "name": "stderr",
     "output_type": "stream",
     "text": [
      "1302it [03:02,  6.28it/s]"
     ]
    },
    {
     "name": "stdout",
     "output_type": "stream",
     "text": [
      "Epoch: [29]  [1300/2437]  eta: 0:02:39  lr: 0.000050  loss: 0.5859 (0.6687)  bbox_regression: 0.1346 (0.1532)  classification: 0.4319 (0.5156)  time: 0.1430  data: 0.0417  max mem: 1105\n"
     ]
    },
    {
     "name": "stderr",
     "output_type": "stream",
     "text": [
      "1402it [03:16,  6.87it/s]"
     ]
    },
    {
     "name": "stdout",
     "output_type": "stream",
     "text": [
      "Epoch: [29]  [1400/2437]  eta: 0:02:25  lr: 0.000050  loss: 0.6416 (0.6679)  bbox_regression: 0.1410 (0.1533)  classification: 0.4772 (0.5145)  time: 0.1425  data: 0.0431  max mem: 1105\n"
     ]
    },
    {
     "name": "stderr",
     "output_type": "stream",
     "text": [
      "1502it [03:31,  6.80it/s]"
     ]
    },
    {
     "name": "stdout",
     "output_type": "stream",
     "text": [
      "Epoch: [29]  [1500/2437]  eta: 0:02:11  lr: 0.000050  loss: 0.5650 (0.6700)  bbox_regression: 0.1299 (0.1540)  classification: 0.4242 (0.5160)  time: 0.1606  data: 0.0487  max mem: 1105\n"
     ]
    },
    {
     "name": "stderr",
     "output_type": "stream",
     "text": [
      "1602it [03:45,  7.31it/s]"
     ]
    },
    {
     "name": "stdout",
     "output_type": "stream",
     "text": [
      "Epoch: [29]  [1600/2437]  eta: 0:01:57  lr: 0.000050  loss: 0.6358 (0.6719)  bbox_regression: 0.1442 (0.1545)  classification: 0.4594 (0.5174)  time: 0.1383  data: 0.0412  max mem: 1105\n"
     ]
    },
    {
     "name": "stderr",
     "output_type": "stream",
     "text": [
      "1702it [03:59,  6.94it/s]"
     ]
    },
    {
     "name": "stdout",
     "output_type": "stream",
     "text": [
      "Epoch: [29]  [1700/2437]  eta: 0:01:43  lr: 0.000050  loss: 0.7068 (0.6717)  bbox_regression: 0.1545 (0.1547)  classification: 0.5279 (0.5170)  time: 0.1386  data: 0.0414  max mem: 1105\n"
     ]
    },
    {
     "name": "stderr",
     "output_type": "stream",
     "text": [
      "1802it [04:13,  7.39it/s]"
     ]
    },
    {
     "name": "stdout",
     "output_type": "stream",
     "text": [
      "Epoch: [29]  [1800/2437]  eta: 0:01:29  lr: 0.000050  loss: 0.6300 (0.6698)  bbox_regression: 0.1462 (0.1545)  classification: 0.4721 (0.5153)  time: 0.1373  data: 0.0420  max mem: 1105\n"
     ]
    },
    {
     "name": "stderr",
     "output_type": "stream",
     "text": [
      "1902it [04:28,  7.30it/s]"
     ]
    },
    {
     "name": "stdout",
     "output_type": "stream",
     "text": [
      "Epoch: [29]  [1900/2437]  eta: 0:01:15  lr: 0.000050  loss: 0.6309 (0.6705)  bbox_regression: 0.1452 (0.1545)  classification: 0.4521 (0.5160)  time: 0.1369  data: 0.0405  max mem: 1105\n"
     ]
    },
    {
     "name": "stderr",
     "output_type": "stream",
     "text": [
      "2002it [04:42,  7.03it/s]"
     ]
    },
    {
     "name": "stdout",
     "output_type": "stream",
     "text": [
      "Epoch: [29]  [2000/2437]  eta: 0:01:01  lr: 0.000050  loss: 0.6574 (0.6725)  bbox_regression: 0.1693 (0.1548)  classification: 0.4644 (0.5177)  time: 0.1430  data: 0.0426  max mem: 1105\n"
     ]
    },
    {
     "name": "stderr",
     "output_type": "stream",
     "text": [
      "2102it [04:56,  7.27it/s]"
     ]
    },
    {
     "name": "stdout",
     "output_type": "stream",
     "text": [
      "Epoch: [29]  [2100/2437]  eta: 0:00:47  lr: 0.000050  loss: 0.5841 (0.6722)  bbox_regression: 0.1194 (0.1550)  classification: 0.4582 (0.5172)  time: 0.1404  data: 0.0421  max mem: 1105\n"
     ]
    },
    {
     "name": "stderr",
     "output_type": "stream",
     "text": [
      "2202it [05:10,  7.51it/s]"
     ]
    },
    {
     "name": "stdout",
     "output_type": "stream",
     "text": [
      "Epoch: [29]  [2200/2437]  eta: 0:00:33  lr: 0.000050  loss: 0.5111 (0.6721)  bbox_regression: 0.1409 (0.1552)  classification: 0.3722 (0.5170)  time: 0.1381  data: 0.0411  max mem: 1105\n"
     ]
    },
    {
     "name": "stderr",
     "output_type": "stream",
     "text": [
      "2302it [05:24,  7.29it/s]"
     ]
    },
    {
     "name": "stdout",
     "output_type": "stream",
     "text": [
      "Epoch: [29]  [2300/2437]  eta: 0:00:19  lr: 0.000050  loss: 0.5559 (0.6723)  bbox_regression: 0.1294 (0.1551)  classification: 0.4170 (0.5172)  time: 0.1375  data: 0.0418  max mem: 1105\n"
     ]
    },
    {
     "name": "stderr",
     "output_type": "stream",
     "text": [
      "2402it [05:38,  7.21it/s]"
     ]
    },
    {
     "name": "stdout",
     "output_type": "stream",
     "text": [
      "Epoch: [29]  [2400/2437]  eta: 0:00:05  lr: 0.000050  loss: 0.5561 (0.6721)  bbox_regression: 0.1345 (0.1553)  classification: 0.4342 (0.5168)  time: 0.1456  data: 0.0490  max mem: 1105\n"
     ]
    },
    {
     "name": "stderr",
     "output_type": "stream",
     "text": [
      "2437it [05:43,  7.10it/s]\n"
     ]
    },
    {
     "name": "stdout",
     "output_type": "stream",
     "text": [
      "Epoch: [29]  [2436/2437]  eta: 0:00:00  lr: 0.000050  loss: 0.5895 (0.6717)  bbox_regression: 0.1351 (0.1553)  classification: 0.4538 (0.5164)  time: 0.1323  data: 0.0395  max mem: 1105\n",
      "flag\n",
      "Epoch: [29] Total time: 0:05:43 (0.1408 s / it)\n",
      "saved dict\n",
      "creating index...\n",
      "index created!\n",
      "<torch.utils.data.dataloader.DataLoader object at 0x0000024C1147B310>\n",
      "Test:  [  0/100]  eta: 0:00:03  model_time: 0.0200 (0.0200)  evaluator_time: 0.0010 (0.0010)  time: 0.0340  data: 0.0130  max mem: 1105\n",
      "Test:  [ 99/100]  eta: 0:00:00  model_time: 0.0300 (0.0283)  evaluator_time: 0.0000 (0.0005)  time: 0.0440  data: 0.0124  max mem: 1105\n",
      "flag\n",
      "Test: Total time: 0:00:04 (0.0423 s / it)\n",
      "Averaged stats: model_time: 0.0300 (0.0283)  evaluator_time: 0.0000 (0.0005)\n",
      "Accumulating evaluation results...\n",
      "DONE (t=0.01s).\n",
      "IoU metric: bbox\n",
      " Average Precision  (AP) @[ IoU=0.50:0.95 | area=   all | maxDets=100 ] = 0.751\n",
      " Average Precision  (AP) @[ IoU=0.50      | area=   all | maxDets=100 ] = 0.929\n",
      " Average Precision  (AP) @[ IoU=0.75      | area=   all | maxDets=100 ] = 0.926\n",
      " Average Precision  (AP) @[ IoU=0.50:0.95 | area= small | maxDets=100 ] = -1.000\n",
      " Average Precision  (AP) @[ IoU=0.50:0.95 | area=medium | maxDets=100 ] = 0.000\n",
      " Average Precision  (AP) @[ IoU=0.50:0.95 | area= large | maxDets=100 ] = 0.754\n",
      " Average Recall     (AR) @[ IoU=0.50:0.95 | area=   all | maxDets=  1 ] = 0.785\n",
      " Average Recall     (AR) @[ IoU=0.50:0.95 | area=   all | maxDets= 10 ] = 0.793\n",
      " Average Recall     (AR) @[ IoU=0.50:0.95 | area=   all | maxDets=100 ] = 0.793\n",
      " Average Recall     (AR) @[ IoU=0.50:0.95 | area= small | maxDets=100 ] = -1.000\n",
      " Average Recall     (AR) @[ IoU=0.50:0.95 | area=medium | maxDets=100 ] = 0.000\n",
      " Average Recall     (AR) @[ IoU=0.50:0.95 | area= large | maxDets=100 ] = 0.797\n",
      "creating index...\n",
      "index created!\n",
      "<torch.utils.data.dataloader.DataLoader object at 0x0000024C1147A470>\n",
      "Test:  [  0/100]  eta: 0:00:05  model_time: 0.0380 (0.0380)  evaluator_time: 0.0000 (0.0000)  time: 0.0525  data: 0.0135  max mem: 1105\n",
      "Test:  [ 99/100]  eta: 0:00:00  model_time: 0.0360 (0.0365)  evaluator_time: 0.0010 (0.0006)  time: 0.0498  data: 0.0124  max mem: 1105\n",
      "flag\n",
      "Test: Total time: 0:00:05 (0.0509 s / it)\n",
      "Averaged stats: model_time: 0.0360 (0.0365)  evaluator_time: 0.0010 (0.0006)\n",
      "Accumulating evaluation results...\n",
      "DONE (t=0.02s).\n",
      "IoU metric: bbox\n",
      " Average Precision  (AP) @[ IoU=0.50:0.95 | area=   all | maxDets=100 ] = 0.401\n",
      " Average Precision  (AP) @[ IoU=0.50      | area=   all | maxDets=100 ] = 0.608\n",
      " Average Precision  (AP) @[ IoU=0.75      | area=   all | maxDets=100 ] = 0.428\n",
      " Average Precision  (AP) @[ IoU=0.50:0.95 | area= small | maxDets=100 ] = -1.000\n",
      " Average Precision  (AP) @[ IoU=0.50:0.95 | area=medium | maxDets=100 ] = -1.000\n",
      " Average Precision  (AP) @[ IoU=0.50:0.95 | area= large | maxDets=100 ] = 0.401\n",
      " Average Recall     (AR) @[ IoU=0.50:0.95 | area=   all | maxDets=  1 ] = 0.513\n",
      " Average Recall     (AR) @[ IoU=0.50:0.95 | area=   all | maxDets= 10 ] = 0.535\n",
      " Average Recall     (AR) @[ IoU=0.50:0.95 | area=   all | maxDets=100 ] = 0.535\n",
      " Average Recall     (AR) @[ IoU=0.50:0.95 | area= small | maxDets=100 ] = -1.000\n",
      " Average Recall     (AR) @[ IoU=0.50:0.95 | area=medium | maxDets=100 ] = -1.000\n",
      " Average Recall     (AR) @[ IoU=0.50:0.95 | area= large | maxDets=100 ] = 0.535\n"
     ]
    },
    {
     "name": "stderr",
     "output_type": "stream",
     "text": [
      "0it [00:00, ?it/s]"
     ]
    },
    {
     "name": "stdout",
     "output_type": "stream",
     "text": [
      "<torch.utils.data.dataloader.DataLoader object at 0x0000024C1147A620>\n"
     ]
    },
    {
     "name": "stderr",
     "output_type": "stream",
     "text": [
      "1it [00:00,  4.11it/s]"
     ]
    },
    {
     "name": "stdout",
     "output_type": "stream",
     "text": [
      "Epoch: [30]  [   0/2437]  eta: 0:09:55  lr: 0.000005  loss: 0.6467 (0.6467)  bbox_regression: 0.1282 (0.1282)  classification: 0.5185 (0.5185)  time: 0.2444  data: 0.0413  max mem: 1105\n"
     ]
    },
    {
     "name": "stderr",
     "output_type": "stream",
     "text": [
      "102it [00:14,  5.58it/s]"
     ]
    },
    {
     "name": "stdout",
     "output_type": "stream",
     "text": [
      "Epoch: [30]  [ 100/2437]  eta: 0:05:27  lr: 0.000005  loss: 0.5988 (0.6038)  bbox_regression: 0.1435 (0.1399)  classification: 0.4626 (0.4639)  time: 0.1444  data: 0.0491  max mem: 1105\n"
     ]
    },
    {
     "name": "stderr",
     "output_type": "stream",
     "text": [
      "202it [00:28,  7.31it/s]"
     ]
    },
    {
     "name": "stdout",
     "output_type": "stream",
     "text": [
      "Epoch: [30]  [ 200/2437]  eta: 0:05:12  lr: 0.000005  loss: 0.5877 (0.6195)  bbox_regression: 0.1313 (0.1476)  classification: 0.4234 (0.4719)  time: 0.1459  data: 0.0493  max mem: 1105\n"
     ]
    },
    {
     "name": "stderr",
     "output_type": "stream",
     "text": [
      "302it [00:41,  7.27it/s]"
     ]
    },
    {
     "name": "stdout",
     "output_type": "stream",
     "text": [
      "Epoch: [30]  [ 300/2437]  eta: 0:04:55  lr: 0.000005  loss: 0.5874 (0.6317)  bbox_regression: 0.1278 (0.1462)  classification: 0.4326 (0.4856)  time: 0.1363  data: 0.0413  max mem: 1105\n"
     ]
    },
    {
     "name": "stderr",
     "output_type": "stream",
     "text": [
      "402it [00:55,  6.78it/s]"
     ]
    },
    {
     "name": "stdout",
     "output_type": "stream",
     "text": [
      "Epoch: [30]  [ 400/2437]  eta: 0:04:42  lr: 0.000005  loss: 0.6586 (0.6365)  bbox_regression: 0.1342 (0.1443)  classification: 0.4848 (0.4922)  time: 0.1441  data: 0.0421  max mem: 1105\n"
     ]
    },
    {
     "name": "stderr",
     "output_type": "stream",
     "text": [
      "502it [01:09,  7.33it/s]"
     ]
    },
    {
     "name": "stdout",
     "output_type": "stream",
     "text": [
      "Epoch: [30]  [ 500/2437]  eta: 0:04:28  lr: 0.000005  loss: 0.5169 (0.6326)  bbox_regression: 0.1163 (0.1451)  classification: 0.3825 (0.4875)  time: 0.1362  data: 0.0406  max mem: 1105\n"
     ]
    },
    {
     "name": "stderr",
     "output_type": "stream",
     "text": [
      "602it [01:23,  7.07it/s]"
     ]
    },
    {
     "name": "stdout",
     "output_type": "stream",
     "text": [
      "Epoch: [30]  [ 600/2437]  eta: 0:04:14  lr: 0.000005  loss: 0.5290 (0.6444)  bbox_regression: 0.1305 (0.1479)  classification: 0.4174 (0.4965)  time: 0.1407  data: 0.0416  max mem: 1105\n"
     ]
    },
    {
     "name": "stderr",
     "output_type": "stream",
     "text": [
      "702it [01:38,  6.99it/s]"
     ]
    },
    {
     "name": "stdout",
     "output_type": "stream",
     "text": [
      "Epoch: [30]  [ 700/2437]  eta: 0:04:04  lr: 0.000005  loss: 0.5205 (0.6438)  bbox_regression: 0.1114 (0.1475)  classification: 0.4269 (0.4963)  time: 0.1481  data: 0.0422  max mem: 1105\n"
     ]
    },
    {
     "name": "stderr",
     "output_type": "stream",
     "text": [
      "802it [01:53,  6.04it/s]"
     ]
    },
    {
     "name": "stdout",
     "output_type": "stream",
     "text": [
      "Epoch: [30]  [ 800/2437]  eta: 0:03:51  lr: 0.000005  loss: 0.4882 (0.6406)  bbox_regression: 0.1266 (0.1472)  classification: 0.3689 (0.4933)  time: 0.1604  data: 0.0531  max mem: 1105\n"
     ]
    },
    {
     "name": "stderr",
     "output_type": "stream",
     "text": [
      "902it [02:07,  7.25it/s]"
     ]
    },
    {
     "name": "stdout",
     "output_type": "stream",
     "text": [
      "Epoch: [30]  [ 900/2437]  eta: 0:03:37  lr: 0.000005  loss: 0.6545 (0.6417)  bbox_regression: 0.1546 (0.1481)  classification: 0.4909 (0.4936)  time: 0.1478  data: 0.0417  max mem: 1105\n"
     ]
    },
    {
     "name": "stderr",
     "output_type": "stream",
     "text": [
      "1002it [02:22,  6.87it/s]"
     ]
    },
    {
     "name": "stdout",
     "output_type": "stream",
     "text": [
      "Epoch: [30]  [1000/2437]  eta: 0:03:23  lr: 0.000005  loss: 0.5841 (0.6438)  bbox_regression: 0.1255 (0.1495)  classification: 0.4560 (0.4943)  time: 0.1455  data: 0.0427  max mem: 1105\n"
     ]
    },
    {
     "name": "stderr",
     "output_type": "stream",
     "text": [
      "1102it [02:35,  7.38it/s]"
     ]
    },
    {
     "name": "stdout",
     "output_type": "stream",
     "text": [
      "Epoch: [30]  [1100/2437]  eta: 0:03:09  lr: 0.000005  loss: 0.6553 (0.6451)  bbox_regression: 0.1543 (0.1493)  classification: 0.4917 (0.4958)  time: 0.1410  data: 0.0438  max mem: 1105\n"
     ]
    },
    {
     "name": "stderr",
     "output_type": "stream",
     "text": [
      "1202it [02:49,  7.13it/s]"
     ]
    },
    {
     "name": "stdout",
     "output_type": "stream",
     "text": [
      "Epoch: [30]  [1200/2437]  eta: 0:02:54  lr: 0.000005  loss: 0.5953 (0.6473)  bbox_regression: 0.1318 (0.1506)  classification: 0.4754 (0.4968)  time: 0.1405  data: 0.0413  max mem: 1105\n"
     ]
    },
    {
     "name": "stderr",
     "output_type": "stream",
     "text": [
      "1302it [03:04,  7.14it/s]"
     ]
    },
    {
     "name": "stdout",
     "output_type": "stream",
     "text": [
      "Epoch: [30]  [1300/2437]  eta: 0:02:41  lr: 0.000005  loss: 0.6897 (0.6499)  bbox_regression: 0.1338 (0.1511)  classification: 0.4961 (0.4989)  time: 0.1418  data: 0.0408  max mem: 1105\n"
     ]
    },
    {
     "name": "stderr",
     "output_type": "stream",
     "text": [
      "1402it [03:18,  6.91it/s]"
     ]
    },
    {
     "name": "stdout",
     "output_type": "stream",
     "text": [
      "Epoch: [30]  [1400/2437]  eta: 0:02:27  lr: 0.000005  loss: 0.5447 (0.6474)  bbox_regression: 0.1436 (0.1505)  classification: 0.4045 (0.4970)  time: 0.1403  data: 0.0402  max mem: 1105\n"
     ]
    },
    {
     "name": "stderr",
     "output_type": "stream",
     "text": [
      "1502it [03:33,  6.51it/s]"
     ]
    },
    {
     "name": "stdout",
     "output_type": "stream",
     "text": [
      "Epoch: [30]  [1500/2437]  eta: 0:02:12  lr: 0.000005  loss: 0.5580 (0.6499)  bbox_regression: 0.1389 (0.1514)  classification: 0.4374 (0.4986)  time: 0.1487  data: 0.0447  max mem: 1105\n"
     ]
    },
    {
     "name": "stderr",
     "output_type": "stream",
     "text": [
      "1602it [03:47,  7.33it/s]"
     ]
    },
    {
     "name": "stdout",
     "output_type": "stream",
     "text": [
      "Epoch: [30]  [1600/2437]  eta: 0:01:58  lr: 0.000005  loss: 0.5307 (0.6520)  bbox_regression: 0.1218 (0.1522)  classification: 0.4242 (0.4998)  time: 0.1430  data: 0.0420  max mem: 1105\n"
     ]
    },
    {
     "name": "stderr",
     "output_type": "stream",
     "text": [
      "1702it [04:01,  7.48it/s]"
     ]
    },
    {
     "name": "stdout",
     "output_type": "stream",
     "text": [
      "Epoch: [30]  [1700/2437]  eta: 0:01:44  lr: 0.000005  loss: 0.6488 (0.6523)  bbox_regression: 0.1644 (0.1525)  classification: 0.4369 (0.4998)  time: 0.1385  data: 0.0413  max mem: 1105\n"
     ]
    },
    {
     "name": "stderr",
     "output_type": "stream",
     "text": [
      "1802it [04:15,  7.27it/s]"
     ]
    },
    {
     "name": "stdout",
     "output_type": "stream",
     "text": [
      "Epoch: [30]  [1800/2437]  eta: 0:01:30  lr: 0.000005  loss: 0.5469 (0.6511)  bbox_regression: 0.1275 (0.1517)  classification: 0.4404 (0.4994)  time: 0.1384  data: 0.0416  max mem: 1105\n"
     ]
    },
    {
     "name": "stderr",
     "output_type": "stream",
     "text": [
      "1902it [04:29,  7.37it/s]"
     ]
    },
    {
     "name": "stdout",
     "output_type": "stream",
     "text": [
      "Epoch: [30]  [1900/2437]  eta: 0:01:15  lr: 0.000005  loss: 0.5726 (0.6512)  bbox_regression: 0.1396 (0.1515)  classification: 0.4586 (0.4996)  time: 0.1351  data: 0.0405  max mem: 1105\n"
     ]
    },
    {
     "name": "stderr",
     "output_type": "stream",
     "text": [
      "2002it [04:43,  6.69it/s]"
     ]
    },
    {
     "name": "stdout",
     "output_type": "stream",
     "text": [
      "Epoch: [30]  [2000/2437]  eta: 0:01:01  lr: 0.000005  loss: 0.5575 (0.6559)  bbox_regression: 0.1343 (0.1518)  classification: 0.4366 (0.5041)  time: 0.1397  data: 0.0426  max mem: 1105\n"
     ]
    },
    {
     "name": "stderr",
     "output_type": "stream",
     "text": [
      "2102it [04:57,  6.93it/s]"
     ]
    },
    {
     "name": "stdout",
     "output_type": "stream",
     "text": [
      "Epoch: [30]  [2100/2437]  eta: 0:00:47  lr: 0.000005  loss: 0.6622 (0.6560)  bbox_regression: 0.1302 (0.1520)  classification: 0.4650 (0.5040)  time: 0.1476  data: 0.0432  max mem: 1105\n"
     ]
    },
    {
     "name": "stderr",
     "output_type": "stream",
     "text": [
      "2202it [05:11,  7.13it/s]"
     ]
    },
    {
     "name": "stdout",
     "output_type": "stream",
     "text": [
      "Epoch: [30]  [2200/2437]  eta: 0:00:33  lr: 0.000005  loss: 0.5727 (0.6567)  bbox_regression: 0.1549 (0.1521)  classification: 0.4098 (0.5046)  time: 0.1390  data: 0.0423  max mem: 1105\n"
     ]
    },
    {
     "name": "stderr",
     "output_type": "stream",
     "text": [
      "2302it [05:26,  7.04it/s]"
     ]
    },
    {
     "name": "stdout",
     "output_type": "stream",
     "text": [
      "Epoch: [30]  [2300/2437]  eta: 0:00:19  lr: 0.000005  loss: 0.5089 (0.6572)  bbox_regression: 0.1284 (0.1526)  classification: 0.3863 (0.5045)  time: 0.1539  data: 0.0468  max mem: 1105\n"
     ]
    },
    {
     "name": "stderr",
     "output_type": "stream",
     "text": [
      "2402it [05:41,  7.06it/s]"
     ]
    },
    {
     "name": "stdout",
     "output_type": "stream",
     "text": [
      "Epoch: [30]  [2400/2437]  eta: 0:00:05  lr: 0.000005  loss: 0.6134 (0.6593)  bbox_regression: 0.1621 (0.1528)  classification: 0.4220 (0.5065)  time: 0.1452  data: 0.0437  max mem: 1105\n"
     ]
    },
    {
     "name": "stderr",
     "output_type": "stream",
     "text": [
      "2437it [05:47,  7.02it/s]\n"
     ]
    },
    {
     "name": "stdout",
     "output_type": "stream",
     "text": [
      "Epoch: [30]  [2436/2437]  eta: 0:00:00  lr: 0.000005  loss: 0.5212 (0.6592)  bbox_regression: 0.1220 (0.1526)  classification: 0.4001 (0.5066)  time: 0.1620  data: 0.0464  max mem: 1105\n",
      "flag\n",
      "Epoch: [30] Total time: 0:05:47 (0.1425 s / it)\n",
      "saved dict\n",
      "creating index...\n",
      "index created!\n",
      "<torch.utils.data.dataloader.DataLoader object at 0x0000024C1147B310>\n",
      "Test:  [  0/100]  eta: 0:00:03  model_time: 0.0216 (0.0216)  evaluator_time: 0.0010 (0.0010)  time: 0.0371  data: 0.0135  max mem: 1105\n",
      "Test:  [ 99/100]  eta: 0:00:00  model_time: 0.0356 (0.0336)  evaluator_time: 0.0010 (0.0006)  time: 0.0563  data: 0.0164  max mem: 1105\n",
      "flag\n",
      "Test: Total time: 0:00:04 (0.0499 s / it)\n",
      "Averaged stats: model_time: 0.0356 (0.0336)  evaluator_time: 0.0010 (0.0006)\n",
      "Accumulating evaluation results...\n",
      "DONE (t=0.01s).\n",
      "IoU metric: bbox\n",
      " Average Precision  (AP) @[ IoU=0.50:0.95 | area=   all | maxDets=100 ] = 0.757\n",
      " Average Precision  (AP) @[ IoU=0.50      | area=   all | maxDets=100 ] = 0.929\n",
      " Average Precision  (AP) @[ IoU=0.75      | area=   all | maxDets=100 ] = 0.926\n",
      " Average Precision  (AP) @[ IoU=0.50:0.95 | area= small | maxDets=100 ] = -1.000\n",
      " Average Precision  (AP) @[ IoU=0.50:0.95 | area=medium | maxDets=100 ] = 0.000\n",
      " Average Precision  (AP) @[ IoU=0.50:0.95 | area= large | maxDets=100 ] = 0.760\n",
      " Average Recall     (AR) @[ IoU=0.50:0.95 | area=   all | maxDets=  1 ] = 0.788\n",
      " Average Recall     (AR) @[ IoU=0.50:0.95 | area=   all | maxDets= 10 ] = 0.797\n",
      " Average Recall     (AR) @[ IoU=0.50:0.95 | area=   all | maxDets=100 ] = 0.797\n",
      " Average Recall     (AR) @[ IoU=0.50:0.95 | area= small | maxDets=100 ] = -1.000\n",
      " Average Recall     (AR) @[ IoU=0.50:0.95 | area=medium | maxDets=100 ] = 0.000\n",
      " Average Recall     (AR) @[ IoU=0.50:0.95 | area= large | maxDets=100 ] = 0.801\n",
      "creating index...\n",
      "index created!\n",
      "<torch.utils.data.dataloader.DataLoader object at 0x0000024C1147A470>\n",
      "Test:  [  0/100]  eta: 0:00:05  model_time: 0.0386 (0.0386)  evaluator_time: 0.0005 (0.0005)  time: 0.0536  data: 0.0135  max mem: 1105\n",
      "Test:  [ 99/100]  eta: 0:00:00  model_time: 0.0285 (0.0311)  evaluator_time: 0.0010 (0.0007)  time: 0.0432  data: 0.0129  max mem: 1105\n",
      "flag\n",
      "Test: Total time: 0:00:04 (0.0465 s / it)\n",
      "Averaged stats: model_time: 0.0285 (0.0311)  evaluator_time: 0.0010 (0.0007)\n",
      "Accumulating evaluation results...\n",
      "DONE (t=0.02s).\n",
      "IoU metric: bbox\n",
      " Average Precision  (AP) @[ IoU=0.50:0.95 | area=   all | maxDets=100 ] = 0.400\n",
      " Average Precision  (AP) @[ IoU=0.50      | area=   all | maxDets=100 ] = 0.607\n",
      " Average Precision  (AP) @[ IoU=0.75      | area=   all | maxDets=100 ] = 0.434\n",
      " Average Precision  (AP) @[ IoU=0.50:0.95 | area= small | maxDets=100 ] = -1.000\n",
      " Average Precision  (AP) @[ IoU=0.50:0.95 | area=medium | maxDets=100 ] = -1.000\n",
      " Average Precision  (AP) @[ IoU=0.50:0.95 | area= large | maxDets=100 ] = 0.400\n",
      " Average Recall     (AR) @[ IoU=0.50:0.95 | area=   all | maxDets=  1 ] = 0.508\n",
      " Average Recall     (AR) @[ IoU=0.50:0.95 | area=   all | maxDets= 10 ] = 0.530\n",
      " Average Recall     (AR) @[ IoU=0.50:0.95 | area=   all | maxDets=100 ] = 0.530\n",
      " Average Recall     (AR) @[ IoU=0.50:0.95 | area= small | maxDets=100 ] = -1.000\n",
      " Average Recall     (AR) @[ IoU=0.50:0.95 | area=medium | maxDets=100 ] = -1.000\n",
      " Average Recall     (AR) @[ IoU=0.50:0.95 | area= large | maxDets=100 ] = 0.530\n"
     ]
    },
    {
     "name": "stderr",
     "output_type": "stream",
     "text": [
      "0it [00:00, ?it/s]"
     ]
    },
    {
     "name": "stdout",
     "output_type": "stream",
     "text": [
      "<torch.utils.data.dataloader.DataLoader object at 0x0000024C1147A620>\n"
     ]
    },
    {
     "name": "stderr",
     "output_type": "stream",
     "text": [
      "2it [00:00,  5.53it/s]"
     ]
    },
    {
     "name": "stdout",
     "output_type": "stream",
     "text": [
      "Epoch: [31]  [   0/2437]  eta: 0:08:32  lr: 0.000005  loss: 0.4330 (0.4330)  bbox_regression: 0.1393 (0.1393)  classification: 0.2936 (0.2936)  time: 0.2102  data: 0.0505  max mem: 1105\n"
     ]
    },
    {
     "name": "stderr",
     "output_type": "stream",
     "text": [
      "102it [00:16,  6.45it/s]"
     ]
    },
    {
     "name": "stdout",
     "output_type": "stream",
     "text": [
      "Epoch: [31]  [ 100/2437]  eta: 0:06:14  lr: 0.000005  loss: 0.6014 (0.6602)  bbox_regression: 0.1388 (0.1593)  classification: 0.4499 (0.5009)  time: 0.1590  data: 0.0433  max mem: 1105\n"
     ]
    },
    {
     "name": "stderr",
     "output_type": "stream",
     "text": [
      "202it [00:31,  5.01it/s]"
     ]
    },
    {
     "name": "stdout",
     "output_type": "stream",
     "text": [
      "Epoch: [31]  [ 200/2437]  eta: 0:05:54  lr: 0.000005  loss: 0.5400 (0.6499)  bbox_regression: 0.1164 (0.1523)  classification: 0.4123 (0.4976)  time: 0.1645  data: 0.0539  max mem: 1105\n"
     ]
    },
    {
     "name": "stderr",
     "output_type": "stream",
     "text": [
      "302it [00:46,  5.79it/s]"
     ]
    },
    {
     "name": "stdout",
     "output_type": "stream",
     "text": [
      "Epoch: [31]  [ 300/2437]  eta: 0:05:28  lr: 0.000005  loss: 0.5964 (0.6569)  bbox_regression: 0.1314 (0.1531)  classification: 0.4557 (0.5038)  time: 0.1474  data: 0.0437  max mem: 1105\n"
     ]
    },
    {
     "name": "stderr",
     "output_type": "stream",
     "text": [
      "402it [01:00,  7.48it/s]"
     ]
    },
    {
     "name": "stdout",
     "output_type": "stream",
     "text": [
      "Epoch: [31]  [ 400/2437]  eta: 0:05:07  lr: 0.000005  loss: 0.5861 (0.6597)  bbox_regression: 0.1368 (0.1527)  classification: 0.4556 (0.5071)  time: 0.1355  data: 0.0412  max mem: 1105\n"
     ]
    },
    {
     "name": "stderr",
     "output_type": "stream",
     "text": [
      "502it [01:14,  7.29it/s]"
     ]
    },
    {
     "name": "stdout",
     "output_type": "stream",
     "text": [
      "Epoch: [31]  [ 500/2437]  eta: 0:04:47  lr: 0.000005  loss: 0.5372 (0.6534)  bbox_regression: 0.1343 (0.1508)  classification: 0.4166 (0.5026)  time: 0.1374  data: 0.0425  max mem: 1105\n"
     ]
    },
    {
     "name": "stderr",
     "output_type": "stream",
     "text": [
      "602it [01:28,  7.26it/s]"
     ]
    },
    {
     "name": "stdout",
     "output_type": "stream",
     "text": [
      "Epoch: [31]  [ 600/2437]  eta: 0:04:29  lr: 0.000005  loss: 0.5950 (0.6469)  bbox_regression: 0.1346 (0.1490)  classification: 0.4254 (0.4979)  time: 0.1380  data: 0.0400  max mem: 1105\n"
     ]
    },
    {
     "name": "stderr",
     "output_type": "stream",
     "text": [
      "702it [01:42,  6.88it/s]"
     ]
    },
    {
     "name": "stdout",
     "output_type": "stream",
     "text": [
      "Epoch: [31]  [ 700/2437]  eta: 0:04:13  lr: 0.000005  loss: 0.5600 (0.6464)  bbox_regression: 0.1329 (0.1483)  classification: 0.4326 (0.4981)  time: 0.1517  data: 0.0452  max mem: 1105\n"
     ]
    },
    {
     "name": "stderr",
     "output_type": "stream",
     "text": [
      "802it [01:56,  6.98it/s]"
     ]
    },
    {
     "name": "stdout",
     "output_type": "stream",
     "text": [
      "Epoch: [31]  [ 800/2437]  eta: 0:03:57  lr: 0.000005  loss: 0.6493 (0.6523)  bbox_regression: 0.1305 (0.1509)  classification: 0.4642 (0.5014)  time: 0.1365  data: 0.0419  max mem: 1105\n"
     ]
    },
    {
     "name": "stderr",
     "output_type": "stream",
     "text": [
      "902it [02:10,  7.20it/s]"
     ]
    },
    {
     "name": "stdout",
     "output_type": "stream",
     "text": [
      "Epoch: [31]  [ 900/2437]  eta: 0:03:42  lr: 0.000005  loss: 0.5680 (0.6517)  bbox_regression: 0.1241 (0.1500)  classification: 0.4215 (0.5016)  time: 0.1440  data: 0.0414  max mem: 1105\n"
     ]
    },
    {
     "name": "stderr",
     "output_type": "stream",
     "text": [
      "1002it [02:24,  7.10it/s]"
     ]
    },
    {
     "name": "stdout",
     "output_type": "stream",
     "text": [
      "Epoch: [31]  [1000/2437]  eta: 0:03:27  lr: 0.000005  loss: 0.5609 (0.6539)  bbox_regression: 0.1398 (0.1508)  classification: 0.4222 (0.5032)  time: 0.1461  data: 0.0443  max mem: 1105\n"
     ]
    },
    {
     "name": "stderr",
     "output_type": "stream",
     "text": [
      "1102it [02:39,  6.62it/s]"
     ]
    },
    {
     "name": "stdout",
     "output_type": "stream",
     "text": [
      "Epoch: [31]  [1100/2437]  eta: 0:03:13  lr: 0.000005  loss: 0.5435 (0.6531)  bbox_regression: 0.1177 (0.1503)  classification: 0.4263 (0.5028)  time: 0.1490  data: 0.0432  max mem: 1105\n"
     ]
    },
    {
     "name": "stderr",
     "output_type": "stream",
     "text": [
      "1202it [02:54,  7.01it/s]"
     ]
    },
    {
     "name": "stdout",
     "output_type": "stream",
     "text": [
      "Epoch: [31]  [1200/2437]  eta: 0:02:59  lr: 0.000005  loss: 0.5780 (0.6533)  bbox_regression: 0.1329 (0.1510)  classification: 0.4567 (0.5024)  time: 0.1407  data: 0.0423  max mem: 1105\n"
     ]
    },
    {
     "name": "stderr",
     "output_type": "stream",
     "text": [
      "1302it [03:09,  6.62it/s]"
     ]
    },
    {
     "name": "stdout",
     "output_type": "stream",
     "text": [
      "Epoch: [31]  [1300/2437]  eta: 0:02:45  lr: 0.000005  loss: 0.5691 (0.6538)  bbox_regression: 0.1222 (0.1509)  classification: 0.4142 (0.5029)  time: 0.1462  data: 0.0428  max mem: 1105\n"
     ]
    },
    {
     "name": "stderr",
     "output_type": "stream",
     "text": [
      "1402it [03:24,  6.42it/s]"
     ]
    },
    {
     "name": "stdout",
     "output_type": "stream",
     "text": [
      "Epoch: [31]  [1400/2437]  eta: 0:02:31  lr: 0.000005  loss: 0.6014 (0.6540)  bbox_regression: 0.1121 (0.1517)  classification: 0.4604 (0.5023)  time: 0.1555  data: 0.0467  max mem: 1105\n"
     ]
    },
    {
     "name": "stderr",
     "output_type": "stream",
     "text": [
      "1502it [03:39,  7.18it/s]"
     ]
    },
    {
     "name": "stdout",
     "output_type": "stream",
     "text": [
      "Epoch: [31]  [1500/2437]  eta: 0:02:16  lr: 0.000005  loss: 0.5786 (0.6603)  bbox_regression: 0.1396 (0.1523)  classification: 0.4326 (0.5080)  time: 0.1422  data: 0.0431  max mem: 1105\n"
     ]
    },
    {
     "name": "stderr",
     "output_type": "stream",
     "text": [
      "1602it [03:54,  5.90it/s]"
     ]
    },
    {
     "name": "stdout",
     "output_type": "stream",
     "text": [
      "Epoch: [31]  [1600/2437]  eta: 0:02:02  lr: 0.000005  loss: 0.6654 (0.6598)  bbox_regression: 0.1428 (0.1519)  classification: 0.5237 (0.5079)  time: 0.1600  data: 0.0460  max mem: 1105\n"
     ]
    },
    {
     "name": "stderr",
     "output_type": "stream",
     "text": [
      "1702it [04:09,  6.12it/s]"
     ]
    },
    {
     "name": "stdout",
     "output_type": "stream",
     "text": [
      "Epoch: [31]  [1700/2437]  eta: 0:01:48  lr: 0.000005  loss: 0.6344 (0.6611)  bbox_regression: 0.1426 (0.1522)  classification: 0.4848 (0.5089)  time: 0.1581  data: 0.0450  max mem: 1105\n"
     ]
    },
    {
     "name": "stderr",
     "output_type": "stream",
     "text": [
      "1802it [04:25,  7.36it/s]"
     ]
    },
    {
     "name": "stdout",
     "output_type": "stream",
     "text": [
      "Epoch: [31]  [1800/2437]  eta: 0:01:33  lr: 0.000005  loss: 0.5762 (0.6595)  bbox_regression: 0.1366 (0.1521)  classification: 0.4376 (0.5074)  time: 0.1411  data: 0.0420  max mem: 1105\n"
     ]
    },
    {
     "name": "stderr",
     "output_type": "stream",
     "text": [
      "1902it [04:39,  6.98it/s]"
     ]
    },
    {
     "name": "stdout",
     "output_type": "stream",
     "text": [
      "Epoch: [31]  [1900/2437]  eta: 0:01:18  lr: 0.000005  loss: 0.6638 (0.6595)  bbox_regression: 0.1339 (0.1521)  classification: 0.4953 (0.5074)  time: 0.1466  data: 0.0438  max mem: 1105\n"
     ]
    },
    {
     "name": "stderr",
     "output_type": "stream",
     "text": [
      "2002it [04:53,  6.43it/s]"
     ]
    },
    {
     "name": "stdout",
     "output_type": "stream",
     "text": [
      "Epoch: [31]  [2000/2437]  eta: 0:01:04  lr: 0.000005  loss: 0.5649 (0.6586)  bbox_regression: 0.1359 (0.1517)  classification: 0.4266 (0.5069)  time: 0.1419  data: 0.0418  max mem: 1105\n"
     ]
    },
    {
     "name": "stderr",
     "output_type": "stream",
     "text": [
      "2102it [05:08,  6.89it/s]"
     ]
    },
    {
     "name": "stdout",
     "output_type": "stream",
     "text": [
      "Epoch: [31]  [2100/2437]  eta: 0:00:49  lr: 0.000005  loss: 0.6395 (0.6591)  bbox_regression: 0.1356 (0.1518)  classification: 0.5008 (0.5073)  time: 0.1431  data: 0.0438  max mem: 1105\n"
     ]
    },
    {
     "name": "stderr",
     "output_type": "stream",
     "text": [
      "2202it [05:22,  7.06it/s]"
     ]
    },
    {
     "name": "stdout",
     "output_type": "stream",
     "text": [
      "Epoch: [31]  [2200/2437]  eta: 0:00:34  lr: 0.000005  loss: 0.5827 (0.6575)  bbox_regression: 0.1370 (0.1519)  classification: 0.3899 (0.5056)  time: 0.1440  data: 0.0439  max mem: 1105\n"
     ]
    },
    {
     "name": "stderr",
     "output_type": "stream",
     "text": [
      "2302it [05:37,  7.03it/s]"
     ]
    },
    {
     "name": "stdout",
     "output_type": "stream",
     "text": [
      "Epoch: [31]  [2300/2437]  eta: 0:00:20  lr: 0.000005  loss: 0.6174 (0.6594)  bbox_regression: 0.1354 (0.1528)  classification: 0.4690 (0.5066)  time: 0.1505  data: 0.0442  max mem: 1105\n"
     ]
    },
    {
     "name": "stderr",
     "output_type": "stream",
     "text": [
      "2402it [05:52,  6.61it/s]"
     ]
    },
    {
     "name": "stdout",
     "output_type": "stream",
     "text": [
      "Epoch: [31]  [2400/2437]  eta: 0:00:05  lr: 0.000005  loss: 0.6144 (0.6609)  bbox_regression: 0.1436 (0.1529)  classification: 0.4912 (0.5080)  time: 0.1509  data: 0.0455  max mem: 1105\n"
     ]
    },
    {
     "name": "stderr",
     "output_type": "stream",
     "text": [
      "2437it [05:57,  6.82it/s]\n"
     ]
    },
    {
     "name": "stdout",
     "output_type": "stream",
     "text": [
      "Epoch: [31]  [2436/2437]  eta: 0:00:00  lr: 0.000005  loss: 0.5617 (0.6599)  bbox_regression: 0.1235 (0.1528)  classification: 0.4176 (0.5071)  time: 0.1405  data: 0.0417  max mem: 1105\n",
      "flag\n",
      "Epoch: [31] Total time: 0:05:57 (0.1466 s / it)\n",
      "saved dict\n",
      "creating index...\n",
      "index created!\n",
      "<torch.utils.data.dataloader.DataLoader object at 0x0000024C1147B310>\n",
      "Test:  [  0/100]  eta: 0:00:04  model_time: 0.0235 (0.0235)  evaluator_time: 0.0010 (0.0010)  time: 0.0446  data: 0.0190  max mem: 1105\n",
      "Test:  [ 99/100]  eta: 0:00:00  model_time: 0.0255 (0.0256)  evaluator_time: 0.0010 (0.0006)  time: 0.0391  data: 0.0122  max mem: 1105\n",
      "flag\n",
      "Test: Total time: 0:00:04 (0.0400 s / it)\n",
      "Averaged stats: model_time: 0.0255 (0.0256)  evaluator_time: 0.0010 (0.0006)\n",
      "Accumulating evaluation results...\n",
      "DONE (t=0.01s).\n",
      "IoU metric: bbox\n",
      " Average Precision  (AP) @[ IoU=0.50:0.95 | area=   all | maxDets=100 ] = 0.767\n",
      " Average Precision  (AP) @[ IoU=0.50      | area=   all | maxDets=100 ] = 0.929\n",
      " Average Precision  (AP) @[ IoU=0.75      | area=   all | maxDets=100 ] = 0.926\n",
      " Average Precision  (AP) @[ IoU=0.50:0.95 | area= small | maxDets=100 ] = -1.000\n",
      " Average Precision  (AP) @[ IoU=0.50:0.95 | area=medium | maxDets=100 ] = 0.000\n",
      " Average Precision  (AP) @[ IoU=0.50:0.95 | area= large | maxDets=100 ] = 0.770\n",
      " Average Recall     (AR) @[ IoU=0.50:0.95 | area=   all | maxDets=  1 ] = 0.796\n",
      " Average Recall     (AR) @[ IoU=0.50:0.95 | area=   all | maxDets= 10 ] = 0.804\n",
      " Average Recall     (AR) @[ IoU=0.50:0.95 | area=   all | maxDets=100 ] = 0.804\n",
      " Average Recall     (AR) @[ IoU=0.50:0.95 | area= small | maxDets=100 ] = -1.000\n",
      " Average Recall     (AR) @[ IoU=0.50:0.95 | area=medium | maxDets=100 ] = 0.000\n",
      " Average Recall     (AR) @[ IoU=0.50:0.95 | area= large | maxDets=100 ] = 0.808\n",
      "creating index...\n",
      "index created!\n",
      "<torch.utils.data.dataloader.DataLoader object at 0x0000024C1147A470>\n",
      "Test:  [  0/100]  eta: 0:00:04  model_time: 0.0337 (0.0337)  evaluator_time: 0.0010 (0.0010)  time: 0.0487  data: 0.0130  max mem: 1105\n",
      "Test:  [ 99/100]  eta: 0:00:00  model_time: 0.0280 (0.0303)  evaluator_time: 0.0010 (0.0006)  time: 0.0430  data: 0.0129  max mem: 1105\n",
      "flag\n",
      "Test: Total time: 0:00:04 (0.0448 s / it)\n",
      "Averaged stats: model_time: 0.0280 (0.0303)  evaluator_time: 0.0010 (0.0006)\n",
      "Accumulating evaluation results...\n",
      "DONE (t=0.02s).\n",
      "IoU metric: bbox\n",
      " Average Precision  (AP) @[ IoU=0.50:0.95 | area=   all | maxDets=100 ] = 0.403\n",
      " Average Precision  (AP) @[ IoU=0.50      | area=   all | maxDets=100 ] = 0.611\n",
      " Average Precision  (AP) @[ IoU=0.75      | area=   all | maxDets=100 ] = 0.436\n",
      " Average Precision  (AP) @[ IoU=0.50:0.95 | area= small | maxDets=100 ] = -1.000\n",
      " Average Precision  (AP) @[ IoU=0.50:0.95 | area=medium | maxDets=100 ] = -1.000\n",
      " Average Precision  (AP) @[ IoU=0.50:0.95 | area= large | maxDets=100 ] = 0.403\n",
      " Average Recall     (AR) @[ IoU=0.50:0.95 | area=   all | maxDets=  1 ] = 0.508\n",
      " Average Recall     (AR) @[ IoU=0.50:0.95 | area=   all | maxDets= 10 ] = 0.531\n",
      " Average Recall     (AR) @[ IoU=0.50:0.95 | area=   all | maxDets=100 ] = 0.531\n",
      " Average Recall     (AR) @[ IoU=0.50:0.95 | area= small | maxDets=100 ] = -1.000\n",
      " Average Recall     (AR) @[ IoU=0.50:0.95 | area=medium | maxDets=100 ] = -1.000\n",
      " Average Recall     (AR) @[ IoU=0.50:0.95 | area= large | maxDets=100 ] = 0.531\n"
     ]
    },
    {
     "name": "stderr",
     "output_type": "stream",
     "text": [
      "0it [00:00, ?it/s]"
     ]
    },
    {
     "name": "stdout",
     "output_type": "stream",
     "text": [
      "<torch.utils.data.dataloader.DataLoader object at 0x0000024C1147A620>\n"
     ]
    },
    {
     "name": "stderr",
     "output_type": "stream",
     "text": [
      "2it [00:00,  4.79it/s]"
     ]
    },
    {
     "name": "stdout",
     "output_type": "stream",
     "text": [
      "Epoch: [32]  [   0/2437]  eta: 0:08:55  lr: 0.000005  loss: 0.8058 (0.8058)  bbox_regression: 0.1992 (0.1992)  classification: 0.6066 (0.6066)  time: 0.2199  data: 0.0471  max mem: 1105\n"
     ]
    },
    {
     "name": "stderr",
     "output_type": "stream",
     "text": [
      "102it [00:14,  7.16it/s]"
     ]
    },
    {
     "name": "stdout",
     "output_type": "stream",
     "text": [
      "Epoch: [32]  [ 100/2437]  eta: 0:05:43  lr: 0.000005  loss: 0.4973 (0.6114)  bbox_regression: 0.1312 (0.1405)  classification: 0.3453 (0.4708)  time: 0.1456  data: 0.0448  max mem: 1105\n"
     ]
    },
    {
     "name": "stderr",
     "output_type": "stream",
     "text": [
      "202it [00:29,  6.89it/s]"
     ]
    },
    {
     "name": "stdout",
     "output_type": "stream",
     "text": [
      "Epoch: [32]  [ 200/2437]  eta: 0:05:25  lr: 0.000005  loss: 0.5760 (0.6253)  bbox_regression: 0.1120 (0.1435)  classification: 0.4462 (0.4818)  time: 0.1423  data: 0.0419  max mem: 1105\n"
     ]
    },
    {
     "name": "stderr",
     "output_type": "stream",
     "text": [
      "302it [00:43,  7.08it/s]"
     ]
    },
    {
     "name": "stdout",
     "output_type": "stream",
     "text": [
      "Epoch: [32]  [ 300/2437]  eta: 0:05:07  lr: 0.000005  loss: 0.5183 (0.6314)  bbox_regression: 0.1392 (0.1438)  classification: 0.3791 (0.4876)  time: 0.1407  data: 0.0435  max mem: 1105\n"
     ]
    },
    {
     "name": "stderr",
     "output_type": "stream",
     "text": [
      "402it [00:57,  7.27it/s]"
     ]
    },
    {
     "name": "stdout",
     "output_type": "stream",
     "text": [
      "Epoch: [32]  [ 400/2437]  eta: 0:04:52  lr: 0.000005  loss: 0.6049 (0.6350)  bbox_regression: 0.1266 (0.1442)  classification: 0.4466 (0.4908)  time: 0.1397  data: 0.0416  max mem: 1105\n"
     ]
    },
    {
     "name": "stderr",
     "output_type": "stream",
     "text": [
      "502it [01:12,  7.30it/s]"
     ]
    },
    {
     "name": "stdout",
     "output_type": "stream",
     "text": [
      "Epoch: [32]  [ 500/2437]  eta: 0:04:39  lr: 0.000005  loss: 0.5663 (0.6343)  bbox_regression: 0.1472 (0.1436)  classification: 0.4391 (0.4907)  time: 0.1394  data: 0.0409  max mem: 1105\n"
     ]
    },
    {
     "name": "stderr",
     "output_type": "stream",
     "text": [
      "602it [01:26,  6.85it/s]"
     ]
    },
    {
     "name": "stdout",
     "output_type": "stream",
     "text": [
      "Epoch: [32]  [ 600/2437]  eta: 0:04:23  lr: 0.000005  loss: 0.6108 (0.6456)  bbox_regression: 0.1315 (0.1454)  classification: 0.4793 (0.5002)  time: 0.1501  data: 0.0449  max mem: 1105\n"
     ]
    },
    {
     "name": "stderr",
     "output_type": "stream",
     "text": [
      "702it [01:40,  6.80it/s]"
     ]
    },
    {
     "name": "stdout",
     "output_type": "stream",
     "text": [
      "Epoch: [32]  [ 700/2437]  eta: 0:04:09  lr: 0.000005  loss: 0.5456 (0.6548)  bbox_regression: 0.1388 (0.1489)  classification: 0.3855 (0.5059)  time: 0.1467  data: 0.0425  max mem: 1105\n"
     ]
    },
    {
     "name": "stderr",
     "output_type": "stream",
     "text": [
      "802it [01:54,  6.71it/s]"
     ]
    },
    {
     "name": "stdout",
     "output_type": "stream",
     "text": [
      "Epoch: [32]  [ 800/2437]  eta: 0:03:54  lr: 0.000005  loss: 0.6409 (0.6544)  bbox_regression: 0.1292 (0.1485)  classification: 0.5034 (0.5058)  time: 0.1442  data: 0.0432  max mem: 1105\n"
     ]
    },
    {
     "name": "stderr",
     "output_type": "stream",
     "text": [
      "902it [02:08,  6.85it/s]"
     ]
    },
    {
     "name": "stdout",
     "output_type": "stream",
     "text": [
      "Epoch: [32]  [ 900/2437]  eta: 0:03:39  lr: 0.000005  loss: 0.6624 (0.6568)  bbox_regression: 0.1372 (0.1509)  classification: 0.4451 (0.5059)  time: 0.1411  data: 0.0421  max mem: 1105\n"
     ]
    },
    {
     "name": "stderr",
     "output_type": "stream",
     "text": [
      "1002it [02:23,  6.51it/s]"
     ]
    },
    {
     "name": "stdout",
     "output_type": "stream",
     "text": [
      "Epoch: [32]  [1000/2437]  eta: 0:03:25  lr: 0.000005  loss: 0.5933 (0.6584)  bbox_regression: 0.1452 (0.1513)  classification: 0.4467 (0.5071)  time: 0.1452  data: 0.0432  max mem: 1105\n"
     ]
    },
    {
     "name": "stderr",
     "output_type": "stream",
     "text": [
      "1102it [02:37,  7.43it/s]"
     ]
    },
    {
     "name": "stdout",
     "output_type": "stream",
     "text": [
      "Epoch: [32]  [1100/2437]  eta: 0:03:11  lr: 0.000005  loss: 0.6010 (0.6606)  bbox_regression: 0.1331 (0.1517)  classification: 0.4345 (0.5088)  time: 0.1346  data: 0.0400  max mem: 1105\n"
     ]
    },
    {
     "name": "stderr",
     "output_type": "stream",
     "text": [
      "1202it [02:52,  6.48it/s]"
     ]
    },
    {
     "name": "stdout",
     "output_type": "stream",
     "text": [
      "Epoch: [32]  [1200/2437]  eta: 0:02:56  lr: 0.000005  loss: 0.5118 (0.6572)  bbox_regression: 0.1303 (0.1515)  classification: 0.3777 (0.5057)  time: 0.1419  data: 0.0404  max mem: 1105\n"
     ]
    },
    {
     "name": "stderr",
     "output_type": "stream",
     "text": [
      "1302it [03:06,  7.36it/s]"
     ]
    },
    {
     "name": "stdout",
     "output_type": "stream",
     "text": [
      "Epoch: [32]  [1300/2437]  eta: 0:02:42  lr: 0.000005  loss: 0.6222 (0.6560)  bbox_regression: 0.1208 (0.1512)  classification: 0.4708 (0.5049)  time: 0.1386  data: 0.0424  max mem: 1105\n"
     ]
    },
    {
     "name": "stderr",
     "output_type": "stream",
     "text": [
      "1402it [03:20,  6.93it/s]"
     ]
    },
    {
     "name": "stdout",
     "output_type": "stream",
     "text": [
      "Epoch: [32]  [1400/2437]  eta: 0:02:28  lr: 0.000005  loss: 0.5243 (0.6554)  bbox_regression: 0.1428 (0.1511)  classification: 0.3830 (0.5043)  time: 0.1399  data: 0.0409  max mem: 1105\n"
     ]
    },
    {
     "name": "stderr",
     "output_type": "stream",
     "text": [
      "1502it [03:34,  6.60it/s]"
     ]
    },
    {
     "name": "stdout",
     "output_type": "stream",
     "text": [
      "Epoch: [32]  [1500/2437]  eta: 0:02:13  lr: 0.000005  loss: 0.6636 (0.6577)  bbox_regression: 0.1459 (0.1523)  classification: 0.5520 (0.5054)  time: 0.1555  data: 0.0532  max mem: 1105\n"
     ]
    },
    {
     "name": "stderr",
     "output_type": "stream",
     "text": [
      "1602it [03:48,  7.20it/s]"
     ]
    },
    {
     "name": "stdout",
     "output_type": "stream",
     "text": [
      "Epoch: [32]  [1600/2437]  eta: 0:01:59  lr: 0.000005  loss: 0.6470 (0.6573)  bbox_regression: 0.1533 (0.1526)  classification: 0.4676 (0.5047)  time: 0.1431  data: 0.0434  max mem: 1105\n"
     ]
    },
    {
     "name": "stderr",
     "output_type": "stream",
     "text": [
      "1702it [04:03,  6.91it/s]"
     ]
    },
    {
     "name": "stdout",
     "output_type": "stream",
     "text": [
      "Epoch: [32]  [1700/2437]  eta: 0:01:45  lr: 0.000005  loss: 0.6915 (0.6565)  bbox_regression: 0.1328 (0.1522)  classification: 0.5062 (0.5043)  time: 0.1406  data: 0.0422  max mem: 1105\n"
     ]
    },
    {
     "name": "stderr",
     "output_type": "stream",
     "text": [
      "1802it [04:17,  7.09it/s]"
     ]
    },
    {
     "name": "stdout",
     "output_type": "stream",
     "text": [
      "Epoch: [32]  [1800/2437]  eta: 0:01:30  lr: 0.000005  loss: 0.5522 (0.6571)  bbox_regression: 0.1223 (0.1526)  classification: 0.3927 (0.5045)  time: 0.1350  data: 0.0400  max mem: 1105\n"
     ]
    },
    {
     "name": "stderr",
     "output_type": "stream",
     "text": [
      "1902it [04:31,  6.55it/s]"
     ]
    },
    {
     "name": "stdout",
     "output_type": "stream",
     "text": [
      "Epoch: [32]  [1900/2437]  eta: 0:01:16  lr: 0.000005  loss: 0.5883 (0.6592)  bbox_regression: 0.1409 (0.1526)  classification: 0.4392 (0.5065)  time: 0.1494  data: 0.0445  max mem: 1105\n"
     ]
    },
    {
     "name": "stderr",
     "output_type": "stream",
     "text": [
      "2002it [04:46,  7.24it/s]"
     ]
    },
    {
     "name": "stdout",
     "output_type": "stream",
     "text": [
      "Epoch: [32]  [2000/2437]  eta: 0:01:02  lr: 0.000005  loss: 0.5327 (0.6574)  bbox_regression: 0.1216 (0.1523)  classification: 0.3888 (0.5051)  time: 0.1455  data: 0.0424  max mem: 1105\n"
     ]
    },
    {
     "name": "stderr",
     "output_type": "stream",
     "text": [
      "2102it [05:00,  6.31it/s]"
     ]
    },
    {
     "name": "stdout",
     "output_type": "stream",
     "text": [
      "Epoch: [32]  [2100/2437]  eta: 0:00:48  lr: 0.000005  loss: 0.6344 (0.6601)  bbox_regression: 0.1358 (0.1525)  classification: 0.4935 (0.5077)  time: 0.1544  data: 0.0449  max mem: 1105\n"
     ]
    },
    {
     "name": "stderr",
     "output_type": "stream",
     "text": [
      "2202it [05:14,  7.04it/s]"
     ]
    },
    {
     "name": "stdout",
     "output_type": "stream",
     "text": [
      "Epoch: [32]  [2200/2437]  eta: 0:00:33  lr: 0.000005  loss: 0.6171 (0.6584)  bbox_regression: 0.1292 (0.1519)  classification: 0.4860 (0.5065)  time: 0.1407  data: 0.0418  max mem: 1105\n"
     ]
    },
    {
     "name": "stderr",
     "output_type": "stream",
     "text": [
      "2302it [05:29,  7.36it/s]"
     ]
    },
    {
     "name": "stdout",
     "output_type": "stream",
     "text": [
      "Epoch: [32]  [2300/2437]  eta: 0:00:19  lr: 0.000005  loss: 0.6771 (0.6581)  bbox_regression: 0.1454 (0.1520)  classification: 0.5083 (0.5061)  time: 0.1368  data: 0.0408  max mem: 1105\n"
     ]
    },
    {
     "name": "stderr",
     "output_type": "stream",
     "text": [
      "2402it [05:43,  7.00it/s]"
     ]
    },
    {
     "name": "stdout",
     "output_type": "stream",
     "text": [
      "Epoch: [32]  [2400/2437]  eta: 0:00:05  lr: 0.000005  loss: 0.6770 (0.6595)  bbox_regression: 0.1428 (0.1525)  classification: 0.5023 (0.5070)  time: 0.1446  data: 0.0436  max mem: 1105\n"
     ]
    },
    {
     "name": "stderr",
     "output_type": "stream",
     "text": [
      "2437it [05:48,  6.99it/s]\n"
     ]
    },
    {
     "name": "stdout",
     "output_type": "stream",
     "text": [
      "Epoch: [32]  [2436/2437]  eta: 0:00:00  lr: 0.000005  loss: 0.5209 (0.6584)  bbox_regression: 0.1247 (0.1523)  classification: 0.4114 (0.5061)  time: 0.1446  data: 0.0423  max mem: 1105\n",
      "flag\n",
      "Epoch: [32] Total time: 0:05:48 (0.1430 s / it)\n",
      "saved dict\n",
      "creating index...\n",
      "index created!\n",
      "<torch.utils.data.dataloader.DataLoader object at 0x0000024C1147B310>\n",
      "Test:  [  0/100]  eta: 0:00:03  model_time: 0.0220 (0.0220)  evaluator_time: 0.0000 (0.0000)  time: 0.0370  data: 0.0140  max mem: 1105\n",
      "Test:  [ 99/100]  eta: 0:00:00  model_time: 0.0290 (0.0261)  evaluator_time: 0.0000 (0.0006)  time: 0.0454  data: 0.0137  max mem: 1105\n",
      "flag\n",
      "Test: Total time: 0:00:04 (0.0406 s / it)\n",
      "Averaged stats: model_time: 0.0290 (0.0261)  evaluator_time: 0.0000 (0.0006)\n",
      "Accumulating evaluation results...\n",
      "DONE (t=0.01s).\n",
      "IoU metric: bbox\n",
      " Average Precision  (AP) @[ IoU=0.50:0.95 | area=   all | maxDets=100 ] = 0.759\n",
      " Average Precision  (AP) @[ IoU=0.50      | area=   all | maxDets=100 ] = 0.929\n",
      " Average Precision  (AP) @[ IoU=0.75      | area=   all | maxDets=100 ] = 0.926\n",
      " Average Precision  (AP) @[ IoU=0.50:0.95 | area= small | maxDets=100 ] = -1.000\n",
      " Average Precision  (AP) @[ IoU=0.50:0.95 | area=medium | maxDets=100 ] = 0.000\n",
      " Average Precision  (AP) @[ IoU=0.50:0.95 | area= large | maxDets=100 ] = 0.763\n",
      " Average Recall     (AR) @[ IoU=0.50:0.95 | area=   all | maxDets=  1 ] = 0.790\n",
      " Average Recall     (AR) @[ IoU=0.50:0.95 | area=   all | maxDets= 10 ] = 0.799\n",
      " Average Recall     (AR) @[ IoU=0.50:0.95 | area=   all | maxDets=100 ] = 0.799\n",
      " Average Recall     (AR) @[ IoU=0.50:0.95 | area= small | maxDets=100 ] = -1.000\n",
      " Average Recall     (AR) @[ IoU=0.50:0.95 | area=medium | maxDets=100 ] = 0.000\n",
      " Average Recall     (AR) @[ IoU=0.50:0.95 | area= large | maxDets=100 ] = 0.802\n",
      "creating index...\n",
      "index created!\n",
      "<torch.utils.data.dataloader.DataLoader object at 0x0000024C1147A470>\n",
      "Test:  [  0/100]  eta: 0:00:04  model_time: 0.0345 (0.0345)  evaluator_time: 0.0000 (0.0000)  time: 0.0488  data: 0.0143  max mem: 1105\n",
      "Test:  [ 99/100]  eta: 0:00:00  model_time: 0.0355 (0.0325)  evaluator_time: 0.0010 (0.0006)  time: 0.0513  data: 0.0136  max mem: 1105\n",
      "flag\n",
      "Test: Total time: 0:00:04 (0.0476 s / it)\n",
      "Averaged stats: model_time: 0.0355 (0.0325)  evaluator_time: 0.0010 (0.0006)\n",
      "Accumulating evaluation results...\n",
      "DONE (t=0.03s).\n",
      "IoU metric: bbox\n",
      " Average Precision  (AP) @[ IoU=0.50:0.95 | area=   all | maxDets=100 ] = 0.401\n",
      " Average Precision  (AP) @[ IoU=0.50      | area=   all | maxDets=100 ] = 0.610\n",
      " Average Precision  (AP) @[ IoU=0.75      | area=   all | maxDets=100 ] = 0.434\n",
      " Average Precision  (AP) @[ IoU=0.50:0.95 | area= small | maxDets=100 ] = -1.000\n",
      " Average Precision  (AP) @[ IoU=0.50:0.95 | area=medium | maxDets=100 ] = -1.000\n",
      " Average Precision  (AP) @[ IoU=0.50:0.95 | area= large | maxDets=100 ] = 0.401\n",
      " Average Recall     (AR) @[ IoU=0.50:0.95 | area=   all | maxDets=  1 ] = 0.508\n",
      " Average Recall     (AR) @[ IoU=0.50:0.95 | area=   all | maxDets= 10 ] = 0.531\n",
      " Average Recall     (AR) @[ IoU=0.50:0.95 | area=   all | maxDets=100 ] = 0.531\n",
      " Average Recall     (AR) @[ IoU=0.50:0.95 | area= small | maxDets=100 ] = -1.000\n",
      " Average Recall     (AR) @[ IoU=0.50:0.95 | area=medium | maxDets=100 ] = -1.000\n",
      " Average Recall     (AR) @[ IoU=0.50:0.95 | area= large | maxDets=100 ] = 0.531\n"
     ]
    },
    {
     "name": "stderr",
     "output_type": "stream",
     "text": [
      "0it [00:00, ?it/s]"
     ]
    },
    {
     "name": "stdout",
     "output_type": "stream",
     "text": [
      "<torch.utils.data.dataloader.DataLoader object at 0x0000024C1147A620>\n"
     ]
    },
    {
     "name": "stderr",
     "output_type": "stream",
     "text": [
      "2it [00:00,  4.90it/s]"
     ]
    },
    {
     "name": "stdout",
     "output_type": "stream",
     "text": [
      "Epoch: [33]  [   0/2437]  eta: 0:09:17  lr: 0.000005  loss: 0.4161 (0.4161)  bbox_regression: 0.0839 (0.0839)  classification: 0.3322 (0.3322)  time: 0.2286  data: 0.0460  max mem: 1105\n"
     ]
    },
    {
     "name": "stderr",
     "output_type": "stream",
     "text": [
      "102it [00:14,  6.54it/s]"
     ]
    },
    {
     "name": "stdout",
     "output_type": "stream",
     "text": [
      "Epoch: [33]  [ 100/2437]  eta: 0:05:43  lr: 0.000005  loss: 0.6312 (0.6522)  bbox_regression: 0.1462 (0.1478)  classification: 0.4829 (0.5044)  time: 0.1483  data: 0.0455  max mem: 1105\n"
     ]
    },
    {
     "name": "stderr",
     "output_type": "stream",
     "text": [
      "202it [00:30,  6.10it/s]"
     ]
    },
    {
     "name": "stdout",
     "output_type": "stream",
     "text": [
      "Epoch: [33]  [ 200/2437]  eta: 0:05:42  lr: 0.000005  loss: 0.6095 (0.6721)  bbox_regression: 0.1347 (0.1556)  classification: 0.5039 (0.5165)  time: 0.1644  data: 0.0459  max mem: 1105\n"
     ]
    },
    {
     "name": "stderr",
     "output_type": "stream",
     "text": [
      "302it [00:45,  6.23it/s]"
     ]
    },
    {
     "name": "stdout",
     "output_type": "stream",
     "text": [
      "Epoch: [33]  [ 300/2437]  eta: 0:05:22  lr: 0.000005  loss: 0.5834 (0.6633)  bbox_regression: 0.1261 (0.1519)  classification: 0.4434 (0.5115)  time: 0.1502  data: 0.0445  max mem: 1105\n"
     ]
    },
    {
     "name": "stderr",
     "output_type": "stream",
     "text": [
      "402it [01:00,  6.89it/s]"
     ]
    },
    {
     "name": "stdout",
     "output_type": "stream",
     "text": [
      "Epoch: [33]  [ 400/2437]  eta: 0:05:04  lr: 0.000005  loss: 0.5252 (0.6631)  bbox_regression: 0.1141 (0.1512)  classification: 0.4138 (0.5119)  time: 0.1388  data: 0.0431  max mem: 1105\n"
     ]
    },
    {
     "name": "stderr",
     "output_type": "stream",
     "text": [
      "502it [01:15,  6.61it/s]"
     ]
    },
    {
     "name": "stdout",
     "output_type": "stream",
     "text": [
      "Epoch: [33]  [ 500/2437]  eta: 0:04:50  lr: 0.000005  loss: 0.7285 (0.6680)  bbox_regression: 0.1607 (0.1524)  classification: 0.5247 (0.5157)  time: 0.1515  data: 0.0437  max mem: 1105\n"
     ]
    },
    {
     "name": "stderr",
     "output_type": "stream",
     "text": [
      "602it [01:30,  6.89it/s]"
     ]
    },
    {
     "name": "stdout",
     "output_type": "stream",
     "text": [
      "Epoch: [33]  [ 600/2437]  eta: 0:04:35  lr: 0.000005  loss: 0.5895 (0.6627)  bbox_regression: 0.1444 (0.1504)  classification: 0.3825 (0.5123)  time: 0.1443  data: 0.0444  max mem: 1105\n"
     ]
    },
    {
     "name": "stderr",
     "output_type": "stream",
     "text": [
      "702it [01:45,  6.58it/s]"
     ]
    },
    {
     "name": "stdout",
     "output_type": "stream",
     "text": [
      "Epoch: [33]  [ 700/2437]  eta: 0:04:20  lr: 0.000005  loss: 0.6297 (0.6634)  bbox_regression: 0.1296 (0.1504)  classification: 0.4781 (0.5130)  time: 0.1451  data: 0.0450  max mem: 1105\n"
     ]
    },
    {
     "name": "stderr",
     "output_type": "stream",
     "text": [
      "802it [01:59,  7.06it/s]"
     ]
    },
    {
     "name": "stdout",
     "output_type": "stream",
     "text": [
      "Epoch: [33]  [ 800/2437]  eta: 0:04:04  lr: 0.000005  loss: 0.6137 (0.6655)  bbox_regression: 0.1474 (0.1510)  classification: 0.4813 (0.5145)  time: 0.1405  data: 0.0437  max mem: 1105\n"
     ]
    },
    {
     "name": "stderr",
     "output_type": "stream",
     "text": [
      "902it [02:14,  7.32it/s]"
     ]
    },
    {
     "name": "stdout",
     "output_type": "stream",
     "text": [
      "Epoch: [33]  [ 900/2437]  eta: 0:03:48  lr: 0.000005  loss: 0.5284 (0.6634)  bbox_regression: 0.1367 (0.1521)  classification: 0.4042 (0.5113)  time: 0.1424  data: 0.0426  max mem: 1105\n"
     ]
    },
    {
     "name": "stderr",
     "output_type": "stream",
     "text": [
      "1002it [02:28,  6.92it/s]"
     ]
    },
    {
     "name": "stdout",
     "output_type": "stream",
     "text": [
      "Epoch: [33]  [1000/2437]  eta: 0:03:32  lr: 0.000005  loss: 0.6103 (0.6631)  bbox_regression: 0.1269 (0.1514)  classification: 0.4616 (0.5117)  time: 0.1454  data: 0.0424  max mem: 1105\n"
     ]
    },
    {
     "name": "stderr",
     "output_type": "stream",
     "text": [
      "1102it [02:42,  6.72it/s]"
     ]
    },
    {
     "name": "stdout",
     "output_type": "stream",
     "text": [
      "Epoch: [33]  [1100/2437]  eta: 0:03:17  lr: 0.000005  loss: 0.5192 (0.6607)  bbox_regression: 0.1384 (0.1513)  classification: 0.3765 (0.5094)  time: 0.1492  data: 0.0444  max mem: 1105\n"
     ]
    },
    {
     "name": "stderr",
     "output_type": "stream",
     "text": [
      "1202it [02:57,  7.34it/s]"
     ]
    },
    {
     "name": "stdout",
     "output_type": "stream",
     "text": [
      "Epoch: [33]  [1200/2437]  eta: 0:03:02  lr: 0.000005  loss: 0.5088 (0.6619)  bbox_regression: 0.1205 (0.1514)  classification: 0.3932 (0.5105)  time: 0.1416  data: 0.0411  max mem: 1105\n"
     ]
    },
    {
     "name": "stderr",
     "output_type": "stream",
     "text": [
      "1302it [03:11,  6.94it/s]"
     ]
    },
    {
     "name": "stdout",
     "output_type": "stream",
     "text": [
      "Epoch: [33]  [1300/2437]  eta: 0:02:47  lr: 0.000005  loss: 0.5851 (0.6600)  bbox_regression: 0.1309 (0.1507)  classification: 0.4585 (0.5093)  time: 0.1473  data: 0.0434  max mem: 1105\n"
     ]
    },
    {
     "name": "stderr",
     "output_type": "stream",
     "text": [
      "1402it [03:25,  7.48it/s]"
     ]
    },
    {
     "name": "stdout",
     "output_type": "stream",
     "text": [
      "Epoch: [33]  [1400/2437]  eta: 0:02:32  lr: 0.000005  loss: 0.6212 (0.6601)  bbox_regression: 0.1359 (0.1513)  classification: 0.4921 (0.5088)  time: 0.1389  data: 0.0401  max mem: 1105\n"
     ]
    },
    {
     "name": "stderr",
     "output_type": "stream",
     "text": [
      "1502it [03:40,  7.23it/s]"
     ]
    },
    {
     "name": "stdout",
     "output_type": "stream",
     "text": [
      "Epoch: [33]  [1500/2437]  eta: 0:02:17  lr: 0.000005  loss: 0.5748 (0.6608)  bbox_regression: 0.1395 (0.1514)  classification: 0.4087 (0.5093)  time: 0.1416  data: 0.0425  max mem: 1105\n"
     ]
    },
    {
     "name": "stderr",
     "output_type": "stream",
     "text": [
      "1602it [03:54,  6.84it/s]"
     ]
    },
    {
     "name": "stdout",
     "output_type": "stream",
     "text": [
      "Epoch: [33]  [1600/2437]  eta: 0:02:02  lr: 0.000005  loss: 0.5317 (0.6605)  bbox_regression: 0.1327 (0.1521)  classification: 0.3859 (0.5085)  time: 0.1462  data: 0.0415  max mem: 1105\n"
     ]
    },
    {
     "name": "stderr",
     "output_type": "stream",
     "text": [
      "1702it [04:08,  7.37it/s]"
     ]
    },
    {
     "name": "stdout",
     "output_type": "stream",
     "text": [
      "Epoch: [33]  [1700/2437]  eta: 0:01:47  lr: 0.000005  loss: 0.5971 (0.6587)  bbox_regression: 0.1302 (0.1517)  classification: 0.4605 (0.5071)  time: 0.1362  data: 0.0397  max mem: 1105\n"
     ]
    },
    {
     "name": "stderr",
     "output_type": "stream",
     "text": [
      "1802it [04:22,  6.91it/s]"
     ]
    },
    {
     "name": "stdout",
     "output_type": "stream",
     "text": [
      "Epoch: [33]  [1800/2437]  eta: 0:01:32  lr: 0.000005  loss: 0.5980 (0.6587)  bbox_regression: 0.1120 (0.1518)  classification: 0.4273 (0.5069)  time: 0.1407  data: 0.0434  max mem: 1105\n"
     ]
    },
    {
     "name": "stderr",
     "output_type": "stream",
     "text": [
      "1902it [04:37,  7.26it/s]"
     ]
    },
    {
     "name": "stdout",
     "output_type": "stream",
     "text": [
      "Epoch: [33]  [1900/2437]  eta: 0:01:18  lr: 0.000005  loss: 0.5711 (0.6562)  bbox_regression: 0.1355 (0.1513)  classification: 0.4150 (0.5049)  time: 0.1413  data: 0.0418  max mem: 1105\n"
     ]
    },
    {
     "name": "stderr",
     "output_type": "stream",
     "text": [
      "2002it [04:51,  7.07it/s]"
     ]
    },
    {
     "name": "stdout",
     "output_type": "stream",
     "text": [
      "Epoch: [33]  [2000/2437]  eta: 0:01:03  lr: 0.000005  loss: 0.5182 (0.6578)  bbox_regression: 0.1271 (0.1518)  classification: 0.4033 (0.5061)  time: 0.1394  data: 0.0412  max mem: 1105\n"
     ]
    },
    {
     "name": "stderr",
     "output_type": "stream",
     "text": [
      "2102it [05:06,  7.35it/s]"
     ]
    },
    {
     "name": "stdout",
     "output_type": "stream",
     "text": [
      "Epoch: [33]  [2100/2437]  eta: 0:00:49  lr: 0.000005  loss: 0.6252 (0.6566)  bbox_regression: 0.1365 (0.1516)  classification: 0.4538 (0.5051)  time: 0.1373  data: 0.0408  max mem: 1105\n"
     ]
    },
    {
     "name": "stderr",
     "output_type": "stream",
     "text": [
      "2202it [05:20,  6.38it/s]"
     ]
    },
    {
     "name": "stdout",
     "output_type": "stream",
     "text": [
      "Epoch: [33]  [2200/2437]  eta: 0:00:34  lr: 0.000005  loss: 0.6505 (0.6603)  bbox_regression: 0.1337 (0.1522)  classification: 0.5108 (0.5081)  time: 0.1486  data: 0.0427  max mem: 1105\n"
     ]
    },
    {
     "name": "stderr",
     "output_type": "stream",
     "text": [
      "2302it [05:35,  7.25it/s]"
     ]
    },
    {
     "name": "stdout",
     "output_type": "stream",
     "text": [
      "Epoch: [33]  [2300/2437]  eta: 0:00:19  lr: 0.000005  loss: 0.5522 (0.6592)  bbox_regression: 0.1409 (0.1519)  classification: 0.4328 (0.5073)  time: 0.1465  data: 0.0459  max mem: 1105\n"
     ]
    },
    {
     "name": "stderr",
     "output_type": "stream",
     "text": [
      "2402it [05:49,  6.15it/s]"
     ]
    },
    {
     "name": "stdout",
     "output_type": "stream",
     "text": [
      "Epoch: [33]  [2400/2437]  eta: 0:00:05  lr: 0.000005  loss: 0.5225 (0.6575)  bbox_regression: 0.1252 (0.1518)  classification: 0.3970 (0.5057)  time: 0.1455  data: 0.0447  max mem: 1105\n"
     ]
    },
    {
     "name": "stderr",
     "output_type": "stream",
     "text": [
      "2437it [05:54,  6.87it/s]\n"
     ]
    },
    {
     "name": "stdout",
     "output_type": "stream",
     "text": [
      "Epoch: [33]  [2436/2437]  eta: 0:00:00  lr: 0.000005  loss: 0.4837 (0.6566)  bbox_regression: 0.1090 (0.1517)  classification: 0.3779 (0.5049)  time: 0.1436  data: 0.0411  max mem: 1105\n",
      "flag\n",
      "Epoch: [33] Total time: 0:05:54 (0.1456 s / it)\n",
      "saved dict\n",
      "creating index...\n",
      "index created!\n",
      "<torch.utils.data.dataloader.DataLoader object at 0x0000024C1147B310>\n",
      "Test:  [  0/100]  eta: 0:00:03  model_time: 0.0210 (0.0210)  evaluator_time: 0.0000 (0.0000)  time: 0.0350  data: 0.0130  max mem: 1105\n",
      "Test:  [ 99/100]  eta: 0:00:00  model_time: 0.0295 (0.0275)  evaluator_time: 0.0000 (0.0006)  time: 0.0448  data: 0.0133  max mem: 1105\n",
      "flag\n",
      "Test: Total time: 0:00:04 (0.0424 s / it)\n",
      "Averaged stats: model_time: 0.0295 (0.0275)  evaluator_time: 0.0000 (0.0006)\n",
      "Accumulating evaluation results...\n",
      "DONE (t=0.01s).\n",
      "IoU metric: bbox\n",
      " Average Precision  (AP) @[ IoU=0.50:0.95 | area=   all | maxDets=100 ] = 0.764\n",
      " Average Precision  (AP) @[ IoU=0.50      | area=   all | maxDets=100 ] = 0.929\n",
      " Average Precision  (AP) @[ IoU=0.75      | area=   all | maxDets=100 ] = 0.926\n",
      " Average Precision  (AP) @[ IoU=0.50:0.95 | area= small | maxDets=100 ] = -1.000\n",
      " Average Precision  (AP) @[ IoU=0.50:0.95 | area=medium | maxDets=100 ] = 0.000\n",
      " Average Precision  (AP) @[ IoU=0.50:0.95 | area= large | maxDets=100 ] = 0.767\n",
      " Average Recall     (AR) @[ IoU=0.50:0.95 | area=   all | maxDets=  1 ] = 0.794\n",
      " Average Recall     (AR) @[ IoU=0.50:0.95 | area=   all | maxDets= 10 ] = 0.802\n",
      " Average Recall     (AR) @[ IoU=0.50:0.95 | area=   all | maxDets=100 ] = 0.802\n",
      " Average Recall     (AR) @[ IoU=0.50:0.95 | area= small | maxDets=100 ] = -1.000\n",
      " Average Recall     (AR) @[ IoU=0.50:0.95 | area=medium | maxDets=100 ] = 0.000\n",
      " Average Recall     (AR) @[ IoU=0.50:0.95 | area= large | maxDets=100 ] = 0.806\n",
      "creating index...\n",
      "index created!\n",
      "<torch.utils.data.dataloader.DataLoader object at 0x0000024C1147A470>\n",
      "Test:  [  0/100]  eta: 0:00:05  model_time: 0.0385 (0.0385)  evaluator_time: 0.0000 (0.0000)  time: 0.0526  data: 0.0125  max mem: 1105\n",
      "Test:  [ 99/100]  eta: 0:00:00  model_time: 0.0350 (0.0339)  evaluator_time: 0.0005 (0.0006)  time: 0.0512  data: 0.0151  max mem: 1105\n",
      "flag\n",
      "Test: Total time: 0:00:04 (0.0495 s / it)\n",
      "Averaged stats: model_time: 0.0350 (0.0339)  evaluator_time: 0.0005 (0.0006)\n",
      "Accumulating evaluation results...\n",
      "DONE (t=0.02s).\n",
      "IoU metric: bbox\n",
      " Average Precision  (AP) @[ IoU=0.50:0.95 | area=   all | maxDets=100 ] = 0.402\n",
      " Average Precision  (AP) @[ IoU=0.50      | area=   all | maxDets=100 ] = 0.610\n",
      " Average Precision  (AP) @[ IoU=0.75      | area=   all | maxDets=100 ] = 0.434\n",
      " Average Precision  (AP) @[ IoU=0.50:0.95 | area= small | maxDets=100 ] = -1.000\n",
      " Average Precision  (AP) @[ IoU=0.50:0.95 | area=medium | maxDets=100 ] = -1.000\n",
      " Average Precision  (AP) @[ IoU=0.50:0.95 | area= large | maxDets=100 ] = 0.402\n",
      " Average Recall     (AR) @[ IoU=0.50:0.95 | area=   all | maxDets=  1 ] = 0.508\n",
      " Average Recall     (AR) @[ IoU=0.50:0.95 | area=   all | maxDets= 10 ] = 0.531\n",
      " Average Recall     (AR) @[ IoU=0.50:0.95 | area=   all | maxDets=100 ] = 0.531\n",
      " Average Recall     (AR) @[ IoU=0.50:0.95 | area= small | maxDets=100 ] = -1.000\n",
      " Average Recall     (AR) @[ IoU=0.50:0.95 | area=medium | maxDets=100 ] = -1.000\n",
      " Average Recall     (AR) @[ IoU=0.50:0.95 | area= large | maxDets=100 ] = 0.531\n"
     ]
    },
    {
     "name": "stderr",
     "output_type": "stream",
     "text": [
      "0it [00:00, ?it/s]"
     ]
    },
    {
     "name": "stdout",
     "output_type": "stream",
     "text": [
      "<torch.utils.data.dataloader.DataLoader object at 0x0000024C1147A620>\n"
     ]
    },
    {
     "name": "stderr",
     "output_type": "stream",
     "text": [
      "2it [00:00,  4.76it/s]"
     ]
    },
    {
     "name": "stdout",
     "output_type": "stream",
     "text": [
      "Epoch: [34]  [   0/2437]  eta: 0:10:02  lr: 0.000005  loss: 1.0366 (1.0366)  bbox_regression: 0.2508 (0.2508)  classification: 0.7858 (0.7858)  time: 0.2474  data: 0.0449  max mem: 1105\n"
     ]
    },
    {
     "name": "stderr",
     "output_type": "stream",
     "text": [
      "102it [00:15,  6.24it/s]"
     ]
    },
    {
     "name": "stdout",
     "output_type": "stream",
     "text": [
      "Epoch: [34]  [ 100/2437]  eta: 0:06:00  lr: 0.000005  loss: 0.5244 (0.6160)  bbox_regression: 0.1384 (0.1541)  classification: 0.3792 (0.4619)  time: 0.1573  data: 0.0477  max mem: 1105\n"
     ]
    },
    {
     "name": "stderr",
     "output_type": "stream",
     "text": [
      "202it [00:31,  5.28it/s]"
     ]
    },
    {
     "name": "stdout",
     "output_type": "stream",
     "text": [
      "Epoch: [34]  [ 200/2437]  eta: 0:05:43  lr: 0.000005  loss: 0.5778 (0.6441)  bbox_regression: 0.1543 (0.1532)  classification: 0.4508 (0.4909)  time: 0.1711  data: 0.0536  max mem: 1105\n"
     ]
    },
    {
     "name": "stderr",
     "output_type": "stream",
     "text": [
      "302it [00:46,  6.50it/s]"
     ]
    },
    {
     "name": "stdout",
     "output_type": "stream",
     "text": [
      "Epoch: [34]  [ 300/2437]  eta: 0:05:29  lr: 0.000005  loss: 0.6160 (0.6469)  bbox_regression: 0.1273 (0.1480)  classification: 0.4823 (0.4989)  time: 0.1528  data: 0.0449  max mem: 1105\n"
     ]
    },
    {
     "name": "stderr",
     "output_type": "stream",
     "text": [
      "402it [01:01,  6.44it/s]"
     ]
    },
    {
     "name": "stdout",
     "output_type": "stream",
     "text": [
      "Epoch: [34]  [ 400/2437]  eta: 0:05:12  lr: 0.000005  loss: 0.5495 (0.6463)  bbox_regression: 0.1384 (0.1469)  classification: 0.3984 (0.4994)  time: 0.1525  data: 0.0454  max mem: 1105\n"
     ]
    },
    {
     "name": "stderr",
     "output_type": "stream",
     "text": [
      "501it [01:16,  6.03it/s]"
     ]
    },
    {
     "name": "stdout",
     "output_type": "stream",
     "text": [
      "Epoch: [34]  [ 500/2437]  eta: 0:04:55  lr: 0.000005  loss: 0.5927 (0.6554)  bbox_regression: 0.1457 (0.1494)  classification: 0.4574 (0.5060)  time: 0.1501  data: 0.0438  max mem: 1105\n"
     ]
    },
    {
     "name": "stderr",
     "output_type": "stream",
     "text": [
      "602it [01:32,  6.52it/s]"
     ]
    },
    {
     "name": "stdout",
     "output_type": "stream",
     "text": [
      "Epoch: [34]  [ 600/2437]  eta: 0:04:41  lr: 0.000005  loss: 0.5831 (0.6529)  bbox_regression: 0.1375 (0.1492)  classification: 0.4400 (0.5037)  time: 0.1465  data: 0.0434  max mem: 1105\n"
     ]
    },
    {
     "name": "stderr",
     "output_type": "stream",
     "text": [
      "702it [01:47,  6.58it/s]"
     ]
    },
    {
     "name": "stdout",
     "output_type": "stream",
     "text": [
      "Epoch: [34]  [ 700/2437]  eta: 0:04:24  lr: 0.000005  loss: 0.6278 (0.6626)  bbox_regression: 0.1566 (0.1503)  classification: 0.4511 (0.5123)  time: 0.1487  data: 0.0440  max mem: 1105\n"
     ]
    },
    {
     "name": "stderr",
     "output_type": "stream",
     "text": [
      "802it [02:02,  6.01it/s]"
     ]
    },
    {
     "name": "stdout",
     "output_type": "stream",
     "text": [
      "Epoch: [34]  [ 800/2437]  eta: 0:04:09  lr: 0.000005  loss: 0.5962 (0.6672)  bbox_regression: 0.1355 (0.1518)  classification: 0.4552 (0.5154)  time: 0.1528  data: 0.0462  max mem: 1105\n"
     ]
    },
    {
     "name": "stderr",
     "output_type": "stream",
     "text": [
      "902it [02:16,  7.08it/s]"
     ]
    },
    {
     "name": "stdout",
     "output_type": "stream",
     "text": [
      "Epoch: [34]  [ 900/2437]  eta: 0:03:52  lr: 0.000005  loss: 0.5969 (0.6666)  bbox_regression: 0.1366 (0.1525)  classification: 0.4704 (0.5141)  time: 0.1388  data: 0.0411  max mem: 1105\n"
     ]
    },
    {
     "name": "stderr",
     "output_type": "stream",
     "text": [
      "1002it [02:30,  6.97it/s]"
     ]
    },
    {
     "name": "stdout",
     "output_type": "stream",
     "text": [
      "Epoch: [34]  [1000/2437]  eta: 0:03:35  lr: 0.000005  loss: 0.6998 (0.6692)  bbox_regression: 0.1415 (0.1532)  classification: 0.5254 (0.5160)  time: 0.1493  data: 0.0430  max mem: 1105\n"
     ]
    },
    {
     "name": "stderr",
     "output_type": "stream",
     "text": [
      "1102it [02:45,  6.36it/s]"
     ]
    },
    {
     "name": "stdout",
     "output_type": "stream",
     "text": [
      "Epoch: [34]  [1100/2437]  eta: 0:03:21  lr: 0.000005  loss: 0.5710 (0.6702)  bbox_regression: 0.1453 (0.1538)  classification: 0.4387 (0.5163)  time: 0.1561  data: 0.0453  max mem: 1105\n"
     ]
    },
    {
     "name": "stderr",
     "output_type": "stream",
     "text": [
      "1202it [03:00,  7.12it/s]"
     ]
    },
    {
     "name": "stdout",
     "output_type": "stream",
     "text": [
      "Epoch: [34]  [1200/2437]  eta: 0:03:06  lr: 0.000005  loss: 0.5437 (0.6691)  bbox_regression: 0.1303 (0.1539)  classification: 0.4155 (0.5152)  time: 0.1437  data: 0.0427  max mem: 1105\n"
     ]
    },
    {
     "name": "stderr",
     "output_type": "stream",
     "text": [
      "1302it [03:15,  7.21it/s]"
     ]
    },
    {
     "name": "stdout",
     "output_type": "stream",
     "text": [
      "Epoch: [34]  [1300/2437]  eta: 0:02:50  lr: 0.000005  loss: 0.6220 (0.6669)  bbox_regression: 0.1589 (0.1540)  classification: 0.4635 (0.5129)  time: 0.1400  data: 0.0406  max mem: 1105\n"
     ]
    },
    {
     "name": "stderr",
     "output_type": "stream",
     "text": [
      "1402it [03:29,  7.29it/s]"
     ]
    },
    {
     "name": "stdout",
     "output_type": "stream",
     "text": [
      "Epoch: [34]  [1400/2437]  eta: 0:02:34  lr: 0.000005  loss: 0.5648 (0.6658)  bbox_regression: 0.1376 (0.1539)  classification: 0.4104 (0.5119)  time: 0.1410  data: 0.0412  max mem: 1105\n"
     ]
    },
    {
     "name": "stderr",
     "output_type": "stream",
     "text": [
      "1502it [03:43,  7.32it/s]"
     ]
    },
    {
     "name": "stdout",
     "output_type": "stream",
     "text": [
      "Epoch: [34]  [1500/2437]  eta: 0:02:19  lr: 0.000005  loss: 0.5147 (0.6649)  bbox_regression: 0.1178 (0.1535)  classification: 0.3855 (0.5114)  time: 0.1363  data: 0.0411  max mem: 1105\n"
     ]
    },
    {
     "name": "stderr",
     "output_type": "stream",
     "text": [
      "1602it [03:57,  7.41it/s]"
     ]
    },
    {
     "name": "stdout",
     "output_type": "stream",
     "text": [
      "Epoch: [34]  [1600/2437]  eta: 0:02:04  lr: 0.000005  loss: 0.5119 (0.6628)  bbox_regression: 0.1068 (0.1525)  classification: 0.3889 (0.5103)  time: 0.1394  data: 0.0427  max mem: 1105\n"
     ]
    },
    {
     "name": "stderr",
     "output_type": "stream",
     "text": [
      "1702it [04:11,  7.28it/s]"
     ]
    },
    {
     "name": "stdout",
     "output_type": "stream",
     "text": [
      "Epoch: [34]  [1700/2437]  eta: 0:01:48  lr: 0.000005  loss: 0.6042 (0.6617)  bbox_regression: 0.1348 (0.1529)  classification: 0.4489 (0.5088)  time: 0.1380  data: 0.0414  max mem: 1105\n"
     ]
    },
    {
     "name": "stderr",
     "output_type": "stream",
     "text": [
      "1802it [04:26,  6.88it/s]"
     ]
    },
    {
     "name": "stdout",
     "output_type": "stream",
     "text": [
      "Epoch: [34]  [1800/2437]  eta: 0:01:34  lr: 0.000005  loss: 0.6211 (0.6616)  bbox_regression: 0.1235 (0.1527)  classification: 0.4953 (0.5089)  time: 0.1475  data: 0.0509  max mem: 1105\n"
     ]
    },
    {
     "name": "stderr",
     "output_type": "stream",
     "text": [
      "1902it [04:40,  7.15it/s]"
     ]
    },
    {
     "name": "stdout",
     "output_type": "stream",
     "text": [
      "Epoch: [34]  [1900/2437]  eta: 0:01:19  lr: 0.000005  loss: 0.6063 (0.6603)  bbox_regression: 0.1202 (0.1523)  classification: 0.4805 (0.5080)  time: 0.1381  data: 0.0414  max mem: 1105\n"
     ]
    },
    {
     "name": "stderr",
     "output_type": "stream",
     "text": [
      "2002it [04:54,  7.44it/s]"
     ]
    },
    {
     "name": "stdout",
     "output_type": "stream",
     "text": [
      "Epoch: [34]  [2000/2437]  eta: 0:01:04  lr: 0.000005  loss: 0.5841 (0.6587)  bbox_regression: 0.1339 (0.1519)  classification: 0.4629 (0.5068)  time: 0.1420  data: 0.0435  max mem: 1105\n"
     ]
    },
    {
     "name": "stderr",
     "output_type": "stream",
     "text": [
      "2102it [05:08,  6.90it/s]"
     ]
    },
    {
     "name": "stdout",
     "output_type": "stream",
     "text": [
      "Epoch: [34]  [2100/2437]  eta: 0:00:49  lr: 0.000005  loss: 0.5333 (0.6566)  bbox_regression: 0.1347 (0.1517)  classification: 0.4373 (0.5049)  time: 0.1392  data: 0.0420  max mem: 1105\n"
     ]
    },
    {
     "name": "stderr",
     "output_type": "stream",
     "text": [
      "2202it [05:22,  7.23it/s]"
     ]
    },
    {
     "name": "stdout",
     "output_type": "stream",
     "text": [
      "Epoch: [34]  [2200/2437]  eta: 0:00:34  lr: 0.000005  loss: 0.6810 (0.6582)  bbox_regression: 0.1320 (0.1520)  classification: 0.5251 (0.5062)  time: 0.1368  data: 0.0413  max mem: 1105\n"
     ]
    },
    {
     "name": "stderr",
     "output_type": "stream",
     "text": [
      "2302it [05:36,  7.38it/s]"
     ]
    },
    {
     "name": "stdout",
     "output_type": "stream",
     "text": [
      "Epoch: [34]  [2300/2437]  eta: 0:00:20  lr: 0.000005  loss: 0.5563 (0.6594)  bbox_regression: 0.1288 (0.1522)  classification: 0.4057 (0.5072)  time: 0.1365  data: 0.0403  max mem: 1105\n"
     ]
    },
    {
     "name": "stderr",
     "output_type": "stream",
     "text": [
      "2402it [05:49,  7.52it/s]"
     ]
    },
    {
     "name": "stdout",
     "output_type": "stream",
     "text": [
      "Epoch: [34]  [2400/2437]  eta: 0:00:05  lr: 0.000005  loss: 0.5742 (0.6592)  bbox_regression: 0.1310 (0.1523)  classification: 0.4651 (0.5070)  time: 0.1377  data: 0.0409  max mem: 1105\n"
     ]
    },
    {
     "name": "stderr",
     "output_type": "stream",
     "text": [
      "2437it [05:54,  6.87it/s]\n"
     ]
    },
    {
     "name": "stdout",
     "output_type": "stream",
     "text": [
      "Epoch: [34]  [2436/2437]  eta: 0:00:00  lr: 0.000005  loss: 0.6572 (0.6605)  bbox_regression: 0.1355 (0.1522)  classification: 0.4911 (0.5083)  time: 0.1339  data: 0.0408  max mem: 1105\n",
      "flag\n",
      "Epoch: [34] Total time: 0:05:54 (0.1456 s / it)\n",
      "saved dict\n",
      "creating index...\n",
      "index created!\n",
      "<torch.utils.data.dataloader.DataLoader object at 0x0000024C1147B310>\n",
      "Test:  [  0/100]  eta: 0:00:03  model_time: 0.0185 (0.0185)  evaluator_time: 0.0000 (0.0000)  time: 0.0321  data: 0.0126  max mem: 1105\n",
      "Test:  [ 99/100]  eta: 0:00:00  model_time: 0.0325 (0.0283)  evaluator_time: 0.0000 (0.0005)  time: 0.0484  data: 0.0138  max mem: 1105\n",
      "flag\n",
      "Test: Total time: 0:00:04 (0.0429 s / it)\n",
      "Averaged stats: model_time: 0.0325 (0.0283)  evaluator_time: 0.0000 (0.0005)\n",
      "Accumulating evaluation results...\n",
      "DONE (t=0.02s).\n",
      "IoU metric: bbox\n",
      " Average Precision  (AP) @[ IoU=0.50:0.95 | area=   all | maxDets=100 ] = 0.765\n",
      " Average Precision  (AP) @[ IoU=0.50      | area=   all | maxDets=100 ] = 0.928\n",
      " Average Precision  (AP) @[ IoU=0.75      | area=   all | maxDets=100 ] = 0.926\n",
      " Average Precision  (AP) @[ IoU=0.50:0.95 | area= small | maxDets=100 ] = -1.000\n",
      " Average Precision  (AP) @[ IoU=0.50:0.95 | area=medium | maxDets=100 ] = 0.000\n",
      " Average Precision  (AP) @[ IoU=0.50:0.95 | area= large | maxDets=100 ] = 0.768\n",
      " Average Recall     (AR) @[ IoU=0.50:0.95 | area=   all | maxDets=  1 ] = 0.795\n",
      " Average Recall     (AR) @[ IoU=0.50:0.95 | area=   all | maxDets= 10 ] = 0.803\n",
      " Average Recall     (AR) @[ IoU=0.50:0.95 | area=   all | maxDets=100 ] = 0.803\n",
      " Average Recall     (AR) @[ IoU=0.50:0.95 | area= small | maxDets=100 ] = -1.000\n",
      " Average Recall     (AR) @[ IoU=0.50:0.95 | area=medium | maxDets=100 ] = 0.000\n",
      " Average Recall     (AR) @[ IoU=0.50:0.95 | area= large | maxDets=100 ] = 0.807\n",
      "creating index...\n",
      "index created!\n",
      "<torch.utils.data.dataloader.DataLoader object at 0x0000024C1147A470>\n",
      "Test:  [  0/100]  eta: 0:00:05  model_time: 0.0395 (0.0395)  evaluator_time: 0.0010 (0.0010)  time: 0.0550  data: 0.0145  max mem: 1105\n",
      "Test:  [ 99/100]  eta: 0:00:00  model_time: 0.0362 (0.0370)  evaluator_time: 0.0010 (0.0007)  time: 0.0538  data: 0.0150  max mem: 1105\n",
      "flag\n",
      "Test: Total time: 0:00:05 (0.0539 s / it)\n",
      "Averaged stats: model_time: 0.0362 (0.0370)  evaluator_time: 0.0010 (0.0007)\n",
      "Accumulating evaluation results...\n",
      "DONE (t=0.03s).\n",
      "IoU metric: bbox\n",
      " Average Precision  (AP) @[ IoU=0.50:0.95 | area=   all | maxDets=100 ] = 0.402\n",
      " Average Precision  (AP) @[ IoU=0.50      | area=   all | maxDets=100 ] = 0.609\n",
      " Average Precision  (AP) @[ IoU=0.75      | area=   all | maxDets=100 ] = 0.434\n",
      " Average Precision  (AP) @[ IoU=0.50:0.95 | area= small | maxDets=100 ] = -1.000\n",
      " Average Precision  (AP) @[ IoU=0.50:0.95 | area=medium | maxDets=100 ] = -1.000\n",
      " Average Precision  (AP) @[ IoU=0.50:0.95 | area= large | maxDets=100 ] = 0.402\n",
      " Average Recall     (AR) @[ IoU=0.50:0.95 | area=   all | maxDets=  1 ] = 0.509\n",
      " Average Recall     (AR) @[ IoU=0.50:0.95 | area=   all | maxDets= 10 ] = 0.531\n",
      " Average Recall     (AR) @[ IoU=0.50:0.95 | area=   all | maxDets=100 ] = 0.531\n",
      " Average Recall     (AR) @[ IoU=0.50:0.95 | area= small | maxDets=100 ] = -1.000\n",
      " Average Recall     (AR) @[ IoU=0.50:0.95 | area=medium | maxDets=100 ] = -1.000\n",
      " Average Recall     (AR) @[ IoU=0.50:0.95 | area= large | maxDets=100 ] = 0.531\n"
     ]
    },
    {
     "name": "stderr",
     "output_type": "stream",
     "text": [
      "0it [00:00, ?it/s]"
     ]
    },
    {
     "name": "stdout",
     "output_type": "stream",
     "text": [
      "<torch.utils.data.dataloader.DataLoader object at 0x0000024C1147A620>\n"
     ]
    },
    {
     "name": "stderr",
     "output_type": "stream",
     "text": [
      "2it [00:00,  5.61it/s]"
     ]
    },
    {
     "name": "stdout",
     "output_type": "stream",
     "text": [
      "Epoch: [35]  [   0/2437]  eta: 0:08:42  lr: 0.000005  loss: 0.6254 (0.6254)  bbox_regression: 0.1208 (0.1208)  classification: 0.5046 (0.5046)  time: 0.2142  data: 0.0491  max mem: 1105\n"
     ]
    },
    {
     "name": "stderr",
     "output_type": "stream",
     "text": [
      "102it [00:15,  6.01it/s]"
     ]
    },
    {
     "name": "stdout",
     "output_type": "stream",
     "text": [
      "Epoch: [35]  [ 100/2437]  eta: 0:05:49  lr: 0.000005  loss: 0.5432 (0.6648)  bbox_regression: 0.1262 (0.1573)  classification: 0.4207 (0.5075)  time: 0.1530  data: 0.0447  max mem: 1105\n"
     ]
    },
    {
     "name": "stderr",
     "output_type": "stream",
     "text": [
      "202it [00:30,  7.40it/s]"
     ]
    },
    {
     "name": "stdout",
     "output_type": "stream",
     "text": [
      "Epoch: [35]  [ 200/2437]  eta: 0:05:35  lr: 0.000005  loss: 0.5803 (0.6643)  bbox_regression: 0.1359 (0.1566)  classification: 0.4381 (0.5077)  time: 0.1363  data: 0.0401  max mem: 1105\n"
     ]
    },
    {
     "name": "stderr",
     "output_type": "stream",
     "text": [
      "302it [00:44,  6.88it/s]"
     ]
    },
    {
     "name": "stdout",
     "output_type": "stream",
     "text": [
      "Epoch: [35]  [ 300/2437]  eta: 0:05:14  lr: 0.000005  loss: 0.6278 (0.6579)  bbox_regression: 0.1370 (0.1545)  classification: 0.4870 (0.5035)  time: 0.1466  data: 0.0438  max mem: 1105\n"
     ]
    },
    {
     "name": "stderr",
     "output_type": "stream",
     "text": [
      "402it [00:58,  7.06it/s]"
     ]
    },
    {
     "name": "stdout",
     "output_type": "stream",
     "text": [
      "Epoch: [35]  [ 400/2437]  eta: 0:04:56  lr: 0.000005  loss: 0.6476 (0.6581)  bbox_regression: 0.1349 (0.1526)  classification: 0.5194 (0.5055)  time: 0.1395  data: 0.0426  max mem: 1105\n"
     ]
    },
    {
     "name": "stderr",
     "output_type": "stream",
     "text": [
      "502it [01:13,  6.65it/s]"
     ]
    },
    {
     "name": "stdout",
     "output_type": "stream",
     "text": [
      "Epoch: [35]  [ 500/2437]  eta: 0:04:44  lr: 0.000005  loss: 0.6270 (0.6548)  bbox_regression: 0.1596 (0.1521)  classification: 0.4760 (0.5027)  time: 0.1499  data: 0.0435  max mem: 1105\n"
     ]
    },
    {
     "name": "stderr",
     "output_type": "stream",
     "text": [
      "602it [01:28,  6.91it/s]"
     ]
    },
    {
     "name": "stdout",
     "output_type": "stream",
     "text": [
      "Epoch: [35]  [ 600/2437]  eta: 0:04:30  lr: 0.000005  loss: 0.7117 (0.6579)  bbox_regression: 0.1384 (0.1526)  classification: 0.5266 (0.5053)  time: 0.1532  data: 0.0432  max mem: 1105\n"
     ]
    },
    {
     "name": "stderr",
     "output_type": "stream",
     "text": [
      "702it [01:44,  5.76it/s]"
     ]
    },
    {
     "name": "stdout",
     "output_type": "stream",
     "text": [
      "Epoch: [35]  [ 700/2437]  eta: 0:04:18  lr: 0.000005  loss: 0.5267 (0.6579)  bbox_regression: 0.1480 (0.1535)  classification: 0.3509 (0.5044)  time: 0.1681  data: 0.0474  max mem: 1105\n"
     ]
    },
    {
     "name": "stderr",
     "output_type": "stream",
     "text": [
      "802it [02:01,  6.23it/s]"
     ]
    },
    {
     "name": "stdout",
     "output_type": "stream",
     "text": [
      "Epoch: [35]  [ 800/2437]  eta: 0:04:07  lr: 0.000005  loss: 0.6769 (0.6597)  bbox_regression: 0.1463 (0.1548)  classification: 0.5174 (0.5049)  time: 0.1624  data: 0.0442  max mem: 1105\n"
     ]
    },
    {
     "name": "stderr",
     "output_type": "stream",
     "text": [
      "901it [02:19,  3.55it/s]"
     ]
    },
    {
     "name": "stdout",
     "output_type": "stream",
     "text": [
      "Epoch: [35]  [ 900/2437]  eta: 0:03:58  lr: 0.000005  loss: 0.5614 (0.6532)  bbox_regression: 0.1265 (0.1536)  classification: 0.4202 (0.4997)  time: 0.2524  data: 0.0453  max mem: 1105\n"
     ]
    },
    {
     "name": "stderr",
     "output_type": "stream",
     "text": [
      "1002it [02:43,  5.92it/s]"
     ]
    },
    {
     "name": "stdout",
     "output_type": "stream",
     "text": [
      "Epoch: [35]  [1000/2437]  eta: 0:03:55  lr: 0.000005  loss: 0.5536 (0.6506)  bbox_regression: 0.1259 (0.1525)  classification: 0.4183 (0.4981)  time: 0.1672  data: 0.0458  max mem: 1105\n"
     ]
    },
    {
     "name": "stderr",
     "output_type": "stream",
     "text": [
      "1102it [03:00,  6.35it/s]"
     ]
    },
    {
     "name": "stdout",
     "output_type": "stream",
     "text": [
      "Epoch: [35]  [1100/2437]  eta: 0:03:38  lr: 0.000005  loss: 0.5970 (0.6540)  bbox_regression: 0.1405 (0.1524)  classification: 0.4566 (0.5016)  time: 0.1683  data: 0.0453  max mem: 1105\n"
     ]
    },
    {
     "name": "stderr",
     "output_type": "stream",
     "text": [
      "1202it [03:16,  6.56it/s]"
     ]
    },
    {
     "name": "stdout",
     "output_type": "stream",
     "text": [
      "Epoch: [35]  [1200/2437]  eta: 0:03:21  lr: 0.000005  loss: 0.6775 (0.6564)  bbox_regression: 0.1394 (0.1529)  classification: 0.4897 (0.5035)  time: 0.1534  data: 0.0444  max mem: 1105\n"
     ]
    },
    {
     "name": "stderr",
     "output_type": "stream",
     "text": [
      "1302it [03:31,  7.08it/s]"
     ]
    },
    {
     "name": "stdout",
     "output_type": "stream",
     "text": [
      "Epoch: [35]  [1300/2437]  eta: 0:03:04  lr: 0.000005  loss: 0.5508 (0.6565)  bbox_regression: 0.1256 (0.1529)  classification: 0.4118 (0.5035)  time: 0.1454  data: 0.0429  max mem: 1105\n"
     ]
    },
    {
     "name": "stderr",
     "output_type": "stream",
     "text": [
      "1402it [03:46,  6.49it/s]"
     ]
    },
    {
     "name": "stdout",
     "output_type": "stream",
     "text": [
      "Epoch: [35]  [1400/2437]  eta: 0:02:47  lr: 0.000005  loss: 0.7132 (0.6592)  bbox_regression: 0.1464 (0.1528)  classification: 0.5541 (0.5064)  time: 0.1418  data: 0.0411  max mem: 1105\n"
     ]
    },
    {
     "name": "stderr",
     "output_type": "stream",
     "text": [
      "1502it [04:00,  7.02it/s]"
     ]
    },
    {
     "name": "stdout",
     "output_type": "stream",
     "text": [
      "Epoch: [35]  [1500/2437]  eta: 0:02:30  lr: 0.000005  loss: 0.5654 (0.6583)  bbox_regression: 0.1555 (0.1526)  classification: 0.4074 (0.5058)  time: 0.1385  data: 0.0415  max mem: 1105\n"
     ]
    },
    {
     "name": "stderr",
     "output_type": "stream",
     "text": [
      "1602it [04:14,  6.45it/s]"
     ]
    },
    {
     "name": "stdout",
     "output_type": "stream",
     "text": [
      "Epoch: [35]  [1600/2437]  eta: 0:02:13  lr: 0.000005  loss: 0.5197 (0.6603)  bbox_regression: 0.1433 (0.1529)  classification: 0.3904 (0.5074)  time: 0.1428  data: 0.0414  max mem: 1105\n"
     ]
    },
    {
     "name": "stderr",
     "output_type": "stream",
     "text": [
      "1702it [04:30,  6.43it/s]"
     ]
    },
    {
     "name": "stdout",
     "output_type": "stream",
     "text": [
      "Epoch: [35]  [1700/2437]  eta: 0:01:57  lr: 0.000005  loss: 0.6320 (0.6610)  bbox_regression: 0.1394 (0.1527)  classification: 0.5128 (0.5083)  time: 0.1595  data: 0.0455  max mem: 1105\n"
     ]
    },
    {
     "name": "stderr",
     "output_type": "stream",
     "text": [
      "1802it [04:45,  7.22it/s]"
     ]
    },
    {
     "name": "stdout",
     "output_type": "stream",
     "text": [
      "Epoch: [35]  [1800/2437]  eta: 0:01:41  lr: 0.000005  loss: 0.5456 (0.6605)  bbox_regression: 0.1183 (0.1528)  classification: 0.4296 (0.5077)  time: 0.1403  data: 0.0405  max mem: 1105\n"
     ]
    },
    {
     "name": "stderr",
     "output_type": "stream",
     "text": [
      "1902it [05:01,  5.98it/s]"
     ]
    },
    {
     "name": "stdout",
     "output_type": "stream",
     "text": [
      "Epoch: [35]  [1900/2437]  eta: 0:01:25  lr: 0.000005  loss: 0.5628 (0.6596)  bbox_regression: 0.1291 (0.1526)  classification: 0.4117 (0.5070)  time: 0.1625  data: 0.0448  max mem: 1105\n"
     ]
    },
    {
     "name": "stderr",
     "output_type": "stream",
     "text": [
      "2002it [05:17,  6.32it/s]"
     ]
    },
    {
     "name": "stdout",
     "output_type": "stream",
     "text": [
      "Epoch: [35]  [2000/2437]  eta: 0:01:09  lr: 0.000005  loss: 0.5171 (0.6591)  bbox_regression: 0.1367 (0.1521)  classification: 0.3780 (0.5071)  time: 0.1560  data: 0.0449  max mem: 1105\n"
     ]
    },
    {
     "name": "stderr",
     "output_type": "stream",
     "text": [
      "2102it [05:33,  6.38it/s]"
     ]
    },
    {
     "name": "stdout",
     "output_type": "stream",
     "text": [
      "Epoch: [35]  [2100/2437]  eta: 0:00:53  lr: 0.000005  loss: 0.5387 (0.6592)  bbox_regression: 0.1276 (0.1521)  classification: 0.4099 (0.5071)  time: 0.1627  data: 0.0517  max mem: 1105\n"
     ]
    },
    {
     "name": "stderr",
     "output_type": "stream",
     "text": [
      "2202it [05:49,  6.21it/s]"
     ]
    },
    {
     "name": "stdout",
     "output_type": "stream",
     "text": [
      "Epoch: [35]  [2200/2437]  eta: 0:00:37  lr: 0.000005  loss: 0.5481 (0.6575)  bbox_regression: 0.1261 (0.1516)  classification: 0.4096 (0.5059)  time: 0.1572  data: 0.0434  max mem: 1105\n"
     ]
    },
    {
     "name": "stderr",
     "output_type": "stream",
     "text": [
      "2302it [06:04,  6.51it/s]"
     ]
    },
    {
     "name": "stdout",
     "output_type": "stream",
     "text": [
      "Epoch: [35]  [2300/2437]  eta: 0:00:21  lr: 0.000005  loss: 0.5902 (0.6563)  bbox_regression: 0.1386 (0.1512)  classification: 0.4597 (0.5051)  time: 0.1532  data: 0.0434  max mem: 1105\n"
     ]
    },
    {
     "name": "stderr",
     "output_type": "stream",
     "text": [
      "2402it [06:20,  6.63it/s]"
     ]
    },
    {
     "name": "stdout",
     "output_type": "stream",
     "text": [
      "Epoch: [35]  [2400/2437]  eta: 0:00:05  lr: 0.000005  loss: 0.5554 (0.6573)  bbox_regression: 0.1457 (0.1517)  classification: 0.3973 (0.5057)  time: 0.1522  data: 0.0426  max mem: 1105\n"
     ]
    },
    {
     "name": "stderr",
     "output_type": "stream",
     "text": [
      "2437it [06:25,  6.32it/s]\n"
     ]
    },
    {
     "name": "stdout",
     "output_type": "stream",
     "text": [
      "Epoch: [35]  [2436/2437]  eta: 0:00:00  lr: 0.000005  loss: 0.6202 (0.6583)  bbox_regression: 0.1448 (0.1518)  classification: 0.4603 (0.5065)  time: 0.1518  data: 0.0415  max mem: 1105\n",
      "flag\n",
      "Epoch: [35] Total time: 0:06:25 (0.1583 s / it)\n",
      "saved dict\n",
      "creating index...\n",
      "index created!\n",
      "<torch.utils.data.dataloader.DataLoader object at 0x0000024C1147B310>\n",
      "Test:  [  0/100]  eta: 0:00:03  model_time: 0.0241 (0.0241)  evaluator_time: 0.0010 (0.0010)  time: 0.0392  data: 0.0136  max mem: 1105\n",
      "Test:  [ 99/100]  eta: 0:00:00  model_time: 0.0322 (0.0319)  evaluator_time: 0.0010 (0.0006)  time: 0.0481  data: 0.0136  max mem: 1105\n",
      "flag\n",
      "Test: Total time: 0:00:04 (0.0471 s / it)\n",
      "Averaged stats: model_time: 0.0322 (0.0319)  evaluator_time: 0.0010 (0.0006)\n",
      "Accumulating evaluation results...\n",
      "DONE (t=0.01s).\n",
      "IoU metric: bbox\n",
      " Average Precision  (AP) @[ IoU=0.50:0.95 | area=   all | maxDets=100 ] = 0.762\n",
      " Average Precision  (AP) @[ IoU=0.50      | area=   all | maxDets=100 ] = 0.929\n",
      " Average Precision  (AP) @[ IoU=0.75      | area=   all | maxDets=100 ] = 0.926\n",
      " Average Precision  (AP) @[ IoU=0.50:0.95 | area= small | maxDets=100 ] = -1.000\n",
      " Average Precision  (AP) @[ IoU=0.50:0.95 | area=medium | maxDets=100 ] = 0.000\n",
      " Average Precision  (AP) @[ IoU=0.50:0.95 | area= large | maxDets=100 ] = 0.766\n",
      " Average Recall     (AR) @[ IoU=0.50:0.95 | area=   all | maxDets=  1 ] = 0.792\n",
      " Average Recall     (AR) @[ IoU=0.50:0.95 | area=   all | maxDets= 10 ] = 0.801\n",
      " Average Recall     (AR) @[ IoU=0.50:0.95 | area=   all | maxDets=100 ] = 0.801\n",
      " Average Recall     (AR) @[ IoU=0.50:0.95 | area= small | maxDets=100 ] = -1.000\n",
      " Average Recall     (AR) @[ IoU=0.50:0.95 | area=medium | maxDets=100 ] = 0.000\n",
      " Average Recall     (AR) @[ IoU=0.50:0.95 | area= large | maxDets=100 ] = 0.804\n",
      "creating index...\n",
      "index created!\n",
      "<torch.utils.data.dataloader.DataLoader object at 0x0000024C1147A470>\n",
      "Test:  [  0/100]  eta: 0:00:05  model_time: 0.0411 (0.0411)  evaluator_time: 0.0010 (0.0010)  time: 0.0577  data: 0.0146  max mem: 1105\n",
      "Test:  [ 99/100]  eta: 0:00:00  model_time: 0.0346 (0.0361)  evaluator_time: 0.0010 (0.0007)  time: 0.0508  data: 0.0132  max mem: 1105\n",
      "flag\n",
      "Test: Total time: 0:00:05 (0.0515 s / it)\n",
      "Averaged stats: model_time: 0.0346 (0.0361)  evaluator_time: 0.0010 (0.0007)\n",
      "Accumulating evaluation results...\n",
      "DONE (t=0.02s).\n",
      "IoU metric: bbox\n",
      " Average Precision  (AP) @[ IoU=0.50:0.95 | area=   all | maxDets=100 ] = 0.402\n",
      " Average Precision  (AP) @[ IoU=0.50      | area=   all | maxDets=100 ] = 0.610\n",
      " Average Precision  (AP) @[ IoU=0.75      | area=   all | maxDets=100 ] = 0.434\n",
      " Average Precision  (AP) @[ IoU=0.50:0.95 | area= small | maxDets=100 ] = -1.000\n",
      " Average Precision  (AP) @[ IoU=0.50:0.95 | area=medium | maxDets=100 ] = -1.000\n",
      " Average Precision  (AP) @[ IoU=0.50:0.95 | area= large | maxDets=100 ] = 0.402\n",
      " Average Recall     (AR) @[ IoU=0.50:0.95 | area=   all | maxDets=  1 ] = 0.509\n",
      " Average Recall     (AR) @[ IoU=0.50:0.95 | area=   all | maxDets= 10 ] = 0.531\n",
      " Average Recall     (AR) @[ IoU=0.50:0.95 | area=   all | maxDets=100 ] = 0.531\n",
      " Average Recall     (AR) @[ IoU=0.50:0.95 | area= small | maxDets=100 ] = -1.000\n",
      " Average Recall     (AR) @[ IoU=0.50:0.95 | area=medium | maxDets=100 ] = -1.000\n",
      " Average Recall     (AR) @[ IoU=0.50:0.95 | area= large | maxDets=100 ] = 0.531\n"
     ]
    },
    {
     "name": "stderr",
     "output_type": "stream",
     "text": [
      "0it [00:00, ?it/s]"
     ]
    },
    {
     "name": "stdout",
     "output_type": "stream",
     "text": [
      "<torch.utils.data.dataloader.DataLoader object at 0x0000024C1147A620>\n"
     ]
    },
    {
     "name": "stderr",
     "output_type": "stream",
     "text": [
      "2it [00:00,  5.22it/s]"
     ]
    },
    {
     "name": "stdout",
     "output_type": "stream",
     "text": [
      "Epoch: [36]  [   0/2437]  eta: 0:09:26  lr: 0.000005  loss: 0.4754 (0.4754)  bbox_regression: 0.1303 (0.1303)  classification: 0.3451 (0.3451)  time: 0.2323  data: 0.0437  max mem: 1105\n"
     ]
    },
    {
     "name": "stderr",
     "output_type": "stream",
     "text": [
      "102it [00:16,  6.99it/s]"
     ]
    },
    {
     "name": "stdout",
     "output_type": "stream",
     "text": [
      "Epoch: [36]  [ 100/2437]  eta: 0:06:13  lr: 0.000005  loss: 0.6081 (0.6478)  bbox_regression: 0.1408 (0.1546)  classification: 0.4544 (0.4932)  time: 0.1531  data: 0.0462  max mem: 1105\n"
     ]
    },
    {
     "name": "stderr",
     "output_type": "stream",
     "text": [
      "202it [00:30,  6.61it/s]"
     ]
    },
    {
     "name": "stdout",
     "output_type": "stream",
     "text": [
      "Epoch: [36]  [ 200/2437]  eta: 0:05:38  lr: 0.000005  loss: 0.6584 (0.6624)  bbox_regression: 0.1613 (0.1582)  classification: 0.4960 (0.5042)  time: 0.1459  data: 0.0432  max mem: 1105\n"
     ]
    },
    {
     "name": "stderr",
     "output_type": "stream",
     "text": [
      "302it [00:44,  7.19it/s]"
     ]
    },
    {
     "name": "stdout",
     "output_type": "stream",
     "text": [
      "Epoch: [36]  [ 300/2437]  eta: 0:05:17  lr: 0.000005  loss: 0.7010 (0.6562)  bbox_regression: 0.1264 (0.1545)  classification: 0.5079 (0.5017)  time: 0.1405  data: 0.0413  max mem: 1105\n"
     ]
    },
    {
     "name": "stderr",
     "output_type": "stream",
     "text": [
      "402it [00:59,  6.23it/s]"
     ]
    },
    {
     "name": "stdout",
     "output_type": "stream",
     "text": [
      "Epoch: [36]  [ 400/2437]  eta: 0:05:02  lr: 0.000005  loss: 0.5590 (0.6546)  bbox_regression: 0.1355 (0.1548)  classification: 0.4111 (0.4998)  time: 0.1478  data: 0.0435  max mem: 1105\n"
     ]
    },
    {
     "name": "stderr",
     "output_type": "stream",
     "text": [
      "502it [01:13,  7.03it/s]"
     ]
    },
    {
     "name": "stdout",
     "output_type": "stream",
     "text": [
      "Epoch: [36]  [ 500/2437]  eta: 0:04:45  lr: 0.000005  loss: 0.6437 (0.6665)  bbox_regression: 0.1371 (0.1564)  classification: 0.4695 (0.5100)  time: 0.1415  data: 0.0411  max mem: 1105\n"
     ]
    },
    {
     "name": "stderr",
     "output_type": "stream",
     "text": [
      "602it [01:27,  7.06it/s]"
     ]
    },
    {
     "name": "stdout",
     "output_type": "stream",
     "text": [
      "Epoch: [36]  [ 600/2437]  eta: 0:04:28  lr: 0.000005  loss: 0.6022 (0.6653)  bbox_regression: 0.1478 (0.1559)  classification: 0.4689 (0.5093)  time: 0.1413  data: 0.0420  max mem: 1105\n"
     ]
    },
    {
     "name": "stderr",
     "output_type": "stream",
     "text": [
      "702it [01:41,  7.18it/s]"
     ]
    },
    {
     "name": "stdout",
     "output_type": "stream",
     "text": [
      "Epoch: [36]  [ 700/2437]  eta: 0:04:12  lr: 0.000005  loss: 0.5813 (0.6688)  bbox_regression: 0.1417 (0.1553)  classification: 0.4121 (0.5135)  time: 0.1395  data: 0.0410  max mem: 1105\n"
     ]
    },
    {
     "name": "stderr",
     "output_type": "stream",
     "text": [
      "802it [01:55,  7.19it/s]"
     ]
    },
    {
     "name": "stdout",
     "output_type": "stream",
     "text": [
      "Epoch: [36]  [ 800/2437]  eta: 0:03:56  lr: 0.000005  loss: 0.5899 (0.6685)  bbox_regression: 0.1281 (0.1546)  classification: 0.4765 (0.5139)  time: 0.1389  data: 0.0417  max mem: 1105\n"
     ]
    },
    {
     "name": "stderr",
     "output_type": "stream",
     "text": [
      "902it [02:09,  7.13it/s]"
     ]
    },
    {
     "name": "stdout",
     "output_type": "stream",
     "text": [
      "Epoch: [36]  [ 900/2437]  eta: 0:03:41  lr: 0.000005  loss: 0.5913 (0.6621)  bbox_regression: 0.1276 (0.1531)  classification: 0.5028 (0.5090)  time: 0.1405  data: 0.0415  max mem: 1105\n"
     ]
    },
    {
     "name": "stderr",
     "output_type": "stream",
     "text": [
      "1002it [02:23,  6.98it/s]"
     ]
    },
    {
     "name": "stdout",
     "output_type": "stream",
     "text": [
      "Epoch: [36]  [1000/2437]  eta: 0:03:26  lr: 0.000005  loss: 0.5817 (0.6671)  bbox_regression: 0.1463 (0.1535)  classification: 0.4457 (0.5137)  time: 0.1394  data: 0.0414  max mem: 1105\n"
     ]
    },
    {
     "name": "stderr",
     "output_type": "stream",
     "text": [
      "1102it [02:37,  7.27it/s]"
     ]
    },
    {
     "name": "stdout",
     "output_type": "stream",
     "text": [
      "Epoch: [36]  [1100/2437]  eta: 0:03:11  lr: 0.000005  loss: 0.6169 (0.6681)  bbox_regression: 0.1279 (0.1534)  classification: 0.4702 (0.5148)  time: 0.1383  data: 0.0413  max mem: 1105\n"
     ]
    },
    {
     "name": "stderr",
     "output_type": "stream",
     "text": [
      "1202it [02:51,  7.06it/s]"
     ]
    },
    {
     "name": "stdout",
     "output_type": "stream",
     "text": [
      "Epoch: [36]  [1200/2437]  eta: 0:02:56  lr: 0.000005  loss: 0.5440 (0.6650)  bbox_regression: 0.1267 (0.1531)  classification: 0.4021 (0.5118)  time: 0.1373  data: 0.0404  max mem: 1105\n"
     ]
    },
    {
     "name": "stderr",
     "output_type": "stream",
     "text": [
      "1302it [03:06,  6.25it/s]"
     ]
    },
    {
     "name": "stdout",
     "output_type": "stream",
     "text": [
      "Epoch: [36]  [1300/2437]  eta: 0:02:42  lr: 0.000005  loss: 0.7628 (0.6667)  bbox_regression: 0.1345 (0.1535)  classification: 0.6179 (0.5131)  time: 0.1630  data: 0.0463  max mem: 1105\n"
     ]
    },
    {
     "name": "stderr",
     "output_type": "stream",
     "text": [
      "1402it [03:22,  6.50it/s]"
     ]
    },
    {
     "name": "stdout",
     "output_type": "stream",
     "text": [
      "Epoch: [36]  [1400/2437]  eta: 0:02:29  lr: 0.000005  loss: 0.6196 (0.6647)  bbox_regression: 0.1257 (0.1539)  classification: 0.4699 (0.5108)  time: 0.1528  data: 0.0432  max mem: 1105\n"
     ]
    },
    {
     "name": "stderr",
     "output_type": "stream",
     "text": [
      "1502it [03:37,  6.37it/s]"
     ]
    },
    {
     "name": "stdout",
     "output_type": "stream",
     "text": [
      "Epoch: [36]  [1500/2437]  eta: 0:02:15  lr: 0.000005  loss: 0.5512 (0.6639)  bbox_regression: 0.1367 (0.1539)  classification: 0.3960 (0.5100)  time: 0.1544  data: 0.0448  max mem: 1105\n"
     ]
    },
    {
     "name": "stderr",
     "output_type": "stream",
     "text": [
      "1602it [03:52,  6.55it/s]"
     ]
    },
    {
     "name": "stdout",
     "output_type": "stream",
     "text": [
      "Epoch: [36]  [1600/2437]  eta: 0:02:01  lr: 0.000005  loss: 0.5896 (0.6658)  bbox_regression: 0.1441 (0.1541)  classification: 0.4591 (0.5117)  time: 0.1547  data: 0.0441  max mem: 1105\n"
     ]
    },
    {
     "name": "stderr",
     "output_type": "stream",
     "text": [
      "1702it [04:08,  6.48it/s]"
     ]
    },
    {
     "name": "stdout",
     "output_type": "stream",
     "text": [
      "Epoch: [36]  [1700/2437]  eta: 0:01:47  lr: 0.000005  loss: 0.5925 (0.6659)  bbox_regression: 0.1384 (0.1538)  classification: 0.4900 (0.5121)  time: 0.1516  data: 0.0430  max mem: 1105\n"
     ]
    },
    {
     "name": "stderr",
     "output_type": "stream",
     "text": [
      "1802it [04:23,  6.69it/s]"
     ]
    },
    {
     "name": "stdout",
     "output_type": "stream",
     "text": [
      "Epoch: [36]  [1800/2437]  eta: 0:01:33  lr: 0.000005  loss: 0.5275 (0.6657)  bbox_regression: 0.1310 (0.1536)  classification: 0.3867 (0.5121)  time: 0.1504  data: 0.0412  max mem: 1105\n"
     ]
    },
    {
     "name": "stderr",
     "output_type": "stream",
     "text": [
      "1902it [04:39,  6.44it/s]"
     ]
    },
    {
     "name": "stdout",
     "output_type": "stream",
     "text": [
      "Epoch: [36]  [1900/2437]  eta: 0:01:19  lr: 0.000005  loss: 0.5671 (0.6630)  bbox_regression: 0.1465 (0.1530)  classification: 0.4331 (0.5100)  time: 0.1592  data: 0.0466  max mem: 1105\n"
     ]
    },
    {
     "name": "stderr",
     "output_type": "stream",
     "text": [
      "2002it [04:55,  6.68it/s]"
     ]
    },
    {
     "name": "stdout",
     "output_type": "stream",
     "text": [
      "Epoch: [36]  [2000/2437]  eta: 0:01:04  lr: 0.000005  loss: 0.5787 (0.6604)  bbox_regression: 0.1375 (0.1523)  classification: 0.4592 (0.5081)  time: 0.1502  data: 0.0421  max mem: 1105\n"
     ]
    },
    {
     "name": "stderr",
     "output_type": "stream",
     "text": [
      "2102it [05:10,  6.48it/s]"
     ]
    },
    {
     "name": "stdout",
     "output_type": "stream",
     "text": [
      "Epoch: [36]  [2100/2437]  eta: 0:00:49  lr: 0.000005  loss: 0.5531 (0.6606)  bbox_regression: 0.1441 (0.1528)  classification: 0.4108 (0.5078)  time: 0.1516  data: 0.0428  max mem: 1105\n"
     ]
    },
    {
     "name": "stderr",
     "output_type": "stream",
     "text": [
      "2202it [05:26,  6.47it/s]"
     ]
    },
    {
     "name": "stdout",
     "output_type": "stream",
     "text": [
      "Epoch: [36]  [2200/2437]  eta: 0:00:35  lr: 0.000005  loss: 0.6173 (0.6592)  bbox_regression: 0.1382 (0.1524)  classification: 0.4742 (0.5069)  time: 0.1543  data: 0.0442  max mem: 1105\n"
     ]
    },
    {
     "name": "stderr",
     "output_type": "stream",
     "text": [
      "2302it [05:41,  6.45it/s]"
     ]
    },
    {
     "name": "stdout",
     "output_type": "stream",
     "text": [
      "Epoch: [36]  [2300/2437]  eta: 0:00:20  lr: 0.000005  loss: 0.4832 (0.6580)  bbox_regression: 0.1177 (0.1522)  classification: 0.3806 (0.5058)  time: 0.1530  data: 0.0438  max mem: 1105\n"
     ]
    },
    {
     "name": "stderr",
     "output_type": "stream",
     "text": [
      "2402it [05:56,  6.69it/s]"
     ]
    },
    {
     "name": "stdout",
     "output_type": "stream",
     "text": [
      "Epoch: [36]  [2400/2437]  eta: 0:00:05  lr: 0.000005  loss: 0.6187 (0.6586)  bbox_regression: 0.1640 (0.1523)  classification: 0.4629 (0.5062)  time: 0.1537  data: 0.0434  max mem: 1105\n"
     ]
    },
    {
     "name": "stderr",
     "output_type": "stream",
     "text": [
      "2437it [06:01,  6.74it/s]\n"
     ]
    },
    {
     "name": "stdout",
     "output_type": "stream",
     "text": [
      "Epoch: [36]  [2436/2437]  eta: 0:00:00  lr: 0.000005  loss: 0.5199 (0.6573)  bbox_regression: 0.1194 (0.1520)  classification: 0.4188 (0.5053)  time: 0.1483  data: 0.0415  max mem: 1105\n",
      "flag\n",
      "Epoch: [36] Total time: 0:06:01 (0.1484 s / it)\n",
      "saved dict\n",
      "creating index...\n",
      "index created!\n",
      "<torch.utils.data.dataloader.DataLoader object at 0x0000024C1147B310>\n",
      "Test:  [  0/100]  eta: 0:00:03  model_time: 0.0235 (0.0235)  evaluator_time: 0.0010 (0.0010)  time: 0.0394  data: 0.0138  max mem: 1105\n",
      "Test:  [ 99/100]  eta: 0:00:00  model_time: 0.0295 (0.0302)  evaluator_time: 0.0010 (0.0006)  time: 0.0449  data: 0.0128  max mem: 1105\n",
      "flag\n",
      "Test: Total time: 0:00:04 (0.0448 s / it)\n",
      "Averaged stats: model_time: 0.0295 (0.0302)  evaluator_time: 0.0010 (0.0006)\n",
      "Accumulating evaluation results...\n",
      "DONE (t=0.01s).\n",
      "IoU metric: bbox\n",
      " Average Precision  (AP) @[ IoU=0.50:0.95 | area=   all | maxDets=100 ] = 0.764\n",
      " Average Precision  (AP) @[ IoU=0.50      | area=   all | maxDets=100 ] = 0.929\n",
      " Average Precision  (AP) @[ IoU=0.75      | area=   all | maxDets=100 ] = 0.926\n",
      " Average Precision  (AP) @[ IoU=0.50:0.95 | area= small | maxDets=100 ] = -1.000\n",
      " Average Precision  (AP) @[ IoU=0.50:0.95 | area=medium | maxDets=100 ] = 0.000\n",
      " Average Precision  (AP) @[ IoU=0.50:0.95 | area= large | maxDets=100 ] = 0.767\n",
      " Average Recall     (AR) @[ IoU=0.50:0.95 | area=   all | maxDets=  1 ] = 0.794\n",
      " Average Recall     (AR) @[ IoU=0.50:0.95 | area=   all | maxDets= 10 ] = 0.803\n",
      " Average Recall     (AR) @[ IoU=0.50:0.95 | area=   all | maxDets=100 ] = 0.803\n",
      " Average Recall     (AR) @[ IoU=0.50:0.95 | area= small | maxDets=100 ] = -1.000\n",
      " Average Recall     (AR) @[ IoU=0.50:0.95 | area=medium | maxDets=100 ] = 0.000\n",
      " Average Recall     (AR) @[ IoU=0.50:0.95 | area= large | maxDets=100 ] = 0.806\n",
      "creating index...\n",
      "index created!\n",
      "<torch.utils.data.dataloader.DataLoader object at 0x0000024C1147A470>\n",
      "Test:  [  0/100]  eta: 0:00:05  model_time: 0.0411 (0.0411)  evaluator_time: 0.0010 (0.0010)  time: 0.0571  data: 0.0140  max mem: 1105\n",
      "Test:  [ 99/100]  eta: 0:00:00  model_time: 0.0339 (0.0351)  evaluator_time: 0.0000 (0.0006)  time: 0.0492  data: 0.0130  max mem: 1105\n",
      "flag\n",
      "Test: Total time: 0:00:05 (0.0503 s / it)\n",
      "Averaged stats: model_time: 0.0339 (0.0351)  evaluator_time: 0.0000 (0.0006)\n",
      "Accumulating evaluation results...\n",
      "DONE (t=0.02s).\n",
      "IoU metric: bbox\n",
      " Average Precision  (AP) @[ IoU=0.50:0.95 | area=   all | maxDets=100 ] = 0.402\n",
      " Average Precision  (AP) @[ IoU=0.50      | area=   all | maxDets=100 ] = 0.611\n",
      " Average Precision  (AP) @[ IoU=0.75      | area=   all | maxDets=100 ] = 0.431\n",
      " Average Precision  (AP) @[ IoU=0.50:0.95 | area= small | maxDets=100 ] = -1.000\n",
      " Average Precision  (AP) @[ IoU=0.50:0.95 | area=medium | maxDets=100 ] = -1.000\n",
      " Average Precision  (AP) @[ IoU=0.50:0.95 | area= large | maxDets=100 ] = 0.402\n",
      " Average Recall     (AR) @[ IoU=0.50:0.95 | area=   all | maxDets=  1 ] = 0.509\n",
      " Average Recall     (AR) @[ IoU=0.50:0.95 | area=   all | maxDets= 10 ] = 0.531\n",
      " Average Recall     (AR) @[ IoU=0.50:0.95 | area=   all | maxDets=100 ] = 0.531\n",
      " Average Recall     (AR) @[ IoU=0.50:0.95 | area= small | maxDets=100 ] = -1.000\n",
      " Average Recall     (AR) @[ IoU=0.50:0.95 | area=medium | maxDets=100 ] = -1.000\n",
      " Average Recall     (AR) @[ IoU=0.50:0.95 | area= large | maxDets=100 ] = 0.531\n"
     ]
    },
    {
     "name": "stderr",
     "output_type": "stream",
     "text": [
      "0it [00:00, ?it/s]"
     ]
    },
    {
     "name": "stdout",
     "output_type": "stream",
     "text": [
      "<torch.utils.data.dataloader.DataLoader object at 0x0000024C1147A620>\n"
     ]
    },
    {
     "name": "stderr",
     "output_type": "stream",
     "text": [
      "2it [00:00,  5.12it/s]"
     ]
    },
    {
     "name": "stdout",
     "output_type": "stream",
     "text": [
      "Epoch: [37]  [   0/2437]  eta: 0:09:04  lr: 0.000005  loss: 0.3662 (0.3662)  bbox_regression: 0.0696 (0.0696)  classification: 0.2966 (0.2966)  time: 0.2235  data: 0.0458  max mem: 1105\n"
     ]
    },
    {
     "name": "stderr",
     "output_type": "stream",
     "text": [
      "102it [00:15,  6.47it/s]"
     ]
    },
    {
     "name": "stdout",
     "output_type": "stream",
     "text": [
      "Epoch: [37]  [ 100/2437]  eta: 0:05:56  lr: 0.000005  loss: 0.5736 (0.6285)  bbox_regression: 0.1271 (0.1512)  classification: 0.4068 (0.4773)  time: 0.1506  data: 0.0423  max mem: 1105\n"
     ]
    },
    {
     "name": "stderr",
     "output_type": "stream",
     "text": [
      "202it [00:30,  6.53it/s]"
     ]
    },
    {
     "name": "stdout",
     "output_type": "stream",
     "text": [
      "Epoch: [37]  [ 200/2437]  eta: 0:05:42  lr: 0.000005  loss: 0.6481 (0.6263)  bbox_regression: 0.1302 (0.1478)  classification: 0.4471 (0.4785)  time: 0.1540  data: 0.0444  max mem: 1105\n"
     ]
    },
    {
     "name": "stderr",
     "output_type": "stream",
     "text": [
      "302it [00:46,  6.52it/s]"
     ]
    },
    {
     "name": "stdout",
     "output_type": "stream",
     "text": [
      "Epoch: [37]  [ 300/2437]  eta: 0:05:26  lr: 0.000005  loss: 0.5442 (0.6354)  bbox_regression: 0.1281 (0.1484)  classification: 0.4160 (0.4870)  time: 0.1542  data: 0.0446  max mem: 1105\n"
     ]
    },
    {
     "name": "stderr",
     "output_type": "stream",
     "text": [
      "402it [01:01,  6.32it/s]"
     ]
    },
    {
     "name": "stdout",
     "output_type": "stream",
     "text": [
      "Epoch: [37]  [ 400/2437]  eta: 0:05:10  lr: 0.000005  loss: 0.6458 (0.6465)  bbox_regression: 0.1470 (0.1509)  classification: 0.4815 (0.4955)  time: 0.1570  data: 0.0451  max mem: 1105\n"
     ]
    },
    {
     "name": "stderr",
     "output_type": "stream",
     "text": [
      "502it [01:17,  6.13it/s]"
     ]
    },
    {
     "name": "stdout",
     "output_type": "stream",
     "text": [
      "Epoch: [37]  [ 500/2437]  eta: 0:04:58  lr: 0.000005  loss: 0.5905 (0.6506)  bbox_regression: 0.1409 (0.1504)  classification: 0.4663 (0.5002)  time: 0.1648  data: 0.0472  max mem: 1105\n"
     ]
    },
    {
     "name": "stderr",
     "output_type": "stream",
     "text": [
      "602it [01:32,  6.52it/s]"
     ]
    },
    {
     "name": "stdout",
     "output_type": "stream",
     "text": [
      "Epoch: [37]  [ 600/2437]  eta: 0:04:43  lr: 0.000005  loss: 0.6433 (0.6557)  bbox_regression: 0.1332 (0.1512)  classification: 0.4973 (0.5045)  time: 0.1531  data: 0.0423  max mem: 1105\n"
     ]
    },
    {
     "name": "stderr",
     "output_type": "stream",
     "text": [
      "702it [01:47,  6.58it/s]"
     ]
    },
    {
     "name": "stdout",
     "output_type": "stream",
     "text": [
      "Epoch: [37]  [ 700/2437]  eta: 0:04:26  lr: 0.000005  loss: 0.6375 (0.6556)  bbox_regression: 0.1653 (0.1507)  classification: 0.5005 (0.5049)  time: 0.1467  data: 0.0424  max mem: 1105\n"
     ]
    },
    {
     "name": "stderr",
     "output_type": "stream",
     "text": [
      "802it [02:02,  7.28it/s]"
     ]
    },
    {
     "name": "stdout",
     "output_type": "stream",
     "text": [
      "Epoch: [37]  [ 800/2437]  eta: 0:04:09  lr: 0.000005  loss: 0.5827 (0.6540)  bbox_regression: 0.1576 (0.1501)  classification: 0.3966 (0.5039)  time: 0.1413  data: 0.0409  max mem: 1105\n"
     ]
    },
    {
     "name": "stderr",
     "output_type": "stream",
     "text": [
      "902it [02:16,  6.67it/s]"
     ]
    },
    {
     "name": "stdout",
     "output_type": "stream",
     "text": [
      "Epoch: [37]  [ 900/2437]  eta: 0:03:53  lr: 0.000005  loss: 0.5713 (0.6507)  bbox_regression: 0.1403 (0.1493)  classification: 0.4183 (0.5014)  time: 0.1484  data: 0.0431  max mem: 1105\n"
     ]
    },
    {
     "name": "stderr",
     "output_type": "stream",
     "text": [
      "1002it [02:31,  7.20it/s]"
     ]
    },
    {
     "name": "stdout",
     "output_type": "stream",
     "text": [
      "Epoch: [37]  [1000/2437]  eta: 0:03:37  lr: 0.000005  loss: 0.5849 (0.6498)  bbox_regression: 0.1349 (0.1492)  classification: 0.4797 (0.5006)  time: 0.1404  data: 0.0419  max mem: 1105\n"
     ]
    },
    {
     "name": "stderr",
     "output_type": "stream",
     "text": [
      "1102it [02:45,  6.73it/s]"
     ]
    },
    {
     "name": "stdout",
     "output_type": "stream",
     "text": [
      "Epoch: [37]  [1100/2437]  eta: 0:03:21  lr: 0.000005  loss: 0.5966 (0.6497)  bbox_regression: 0.1352 (0.1494)  classification: 0.4493 (0.5003)  time: 0.1434  data: 0.0422  max mem: 1105\n"
     ]
    },
    {
     "name": "stderr",
     "output_type": "stream",
     "text": [
      "1202it [03:00,  7.18it/s]"
     ]
    },
    {
     "name": "stdout",
     "output_type": "stream",
     "text": [
      "Epoch: [37]  [1200/2437]  eta: 0:03:05  lr: 0.000005  loss: 0.5098 (0.6495)  bbox_regression: 0.1467 (0.1500)  classification: 0.3664 (0.4996)  time: 0.1501  data: 0.0463  max mem: 1105\n"
     ]
    },
    {
     "name": "stderr",
     "output_type": "stream",
     "text": [
      "1302it [03:14,  7.12it/s]"
     ]
    },
    {
     "name": "stdout",
     "output_type": "stream",
     "text": [
      "Epoch: [37]  [1300/2437]  eta: 0:02:50  lr: 0.000005  loss: 0.5986 (0.6503)  bbox_regression: 0.1602 (0.1507)  classification: 0.4552 (0.4996)  time: 0.1408  data: 0.0426  max mem: 1105\n"
     ]
    },
    {
     "name": "stderr",
     "output_type": "stream",
     "text": [
      "1402it [03:28,  7.29it/s]"
     ]
    },
    {
     "name": "stdout",
     "output_type": "stream",
     "text": [
      "Epoch: [37]  [1400/2437]  eta: 0:02:34  lr: 0.000005  loss: 0.5654 (0.6522)  bbox_regression: 0.1226 (0.1518)  classification: 0.4320 (0.5004)  time: 0.1395  data: 0.0430  max mem: 1105\n"
     ]
    },
    {
     "name": "stderr",
     "output_type": "stream",
     "text": [
      "1502it [03:43,  7.29it/s]"
     ]
    },
    {
     "name": "stdout",
     "output_type": "stream",
     "text": [
      "Epoch: [37]  [1500/2437]  eta: 0:02:19  lr: 0.000005  loss: 0.5695 (0.6521)  bbox_regression: 0.1394 (0.1518)  classification: 0.4482 (0.5003)  time: 0.1401  data: 0.0427  max mem: 1105\n"
     ]
    },
    {
     "name": "stderr",
     "output_type": "stream",
     "text": [
      "1602it [03:57,  7.21it/s]"
     ]
    },
    {
     "name": "stdout",
     "output_type": "stream",
     "text": [
      "Epoch: [37]  [1600/2437]  eta: 0:02:03  lr: 0.000005  loss: 0.6662 (0.6524)  bbox_regression: 0.1216 (0.1515)  classification: 0.5327 (0.5009)  time: 0.1405  data: 0.0436  max mem: 1105\n"
     ]
    },
    {
     "name": "stderr",
     "output_type": "stream",
     "text": [
      "1702it [04:11,  7.04it/s]"
     ]
    },
    {
     "name": "stdout",
     "output_type": "stream",
     "text": [
      "Epoch: [37]  [1700/2437]  eta: 0:01:48  lr: 0.000005  loss: 0.6200 (0.6545)  bbox_regression: 0.1249 (0.1514)  classification: 0.4976 (0.5030)  time: 0.1448  data: 0.0437  max mem: 1105\n"
     ]
    },
    {
     "name": "stderr",
     "output_type": "stream",
     "text": [
      "1802it [04:26,  6.74it/s]"
     ]
    },
    {
     "name": "stdout",
     "output_type": "stream",
     "text": [
      "Epoch: [37]  [1800/2437]  eta: 0:01:34  lr: 0.000005  loss: 0.6788 (0.6542)  bbox_regression: 0.1538 (0.1515)  classification: 0.5076 (0.5027)  time: 0.1485  data: 0.0473  max mem: 1105\n"
     ]
    },
    {
     "name": "stderr",
     "output_type": "stream",
     "text": [
      "1902it [04:40,  7.23it/s]"
     ]
    },
    {
     "name": "stdout",
     "output_type": "stream",
     "text": [
      "Epoch: [37]  [1900/2437]  eta: 0:01:19  lr: 0.000005  loss: 0.5845 (0.6534)  bbox_regression: 0.1316 (0.1510)  classification: 0.4199 (0.5024)  time: 0.1454  data: 0.0431  max mem: 1105\n"
     ]
    },
    {
     "name": "stderr",
     "output_type": "stream",
     "text": [
      "2002it [04:54,  7.10it/s]"
     ]
    },
    {
     "name": "stdout",
     "output_type": "stream",
     "text": [
      "Epoch: [37]  [2000/2437]  eta: 0:01:04  lr: 0.000005  loss: 0.4965 (0.6538)  bbox_regression: 0.1328 (0.1513)  classification: 0.3911 (0.5025)  time: 0.1378  data: 0.0410  max mem: 1105\n"
     ]
    },
    {
     "name": "stderr",
     "output_type": "stream",
     "text": [
      "2102it [05:09,  6.41it/s]"
     ]
    },
    {
     "name": "stdout",
     "output_type": "stream",
     "text": [
      "Epoch: [37]  [2100/2437]  eta: 0:00:49  lr: 0.000005  loss: 0.5589 (0.6540)  bbox_regression: 0.1469 (0.1515)  classification: 0.4041 (0.5026)  time: 0.1574  data: 0.0439  max mem: 1105\n"
     ]
    },
    {
     "name": "stderr",
     "output_type": "stream",
     "text": [
      "2202it [05:24,  6.43it/s]"
     ]
    },
    {
     "name": "stdout",
     "output_type": "stream",
     "text": [
      "Epoch: [37]  [2200/2437]  eta: 0:00:34  lr: 0.000005  loss: 0.5629 (0.6559)  bbox_regression: 0.1350 (0.1518)  classification: 0.4254 (0.5040)  time: 0.1556  data: 0.0437  max mem: 1105\n"
     ]
    },
    {
     "name": "stderr",
     "output_type": "stream",
     "text": [
      "2302it [05:39,  7.08it/s]"
     ]
    },
    {
     "name": "stdout",
     "output_type": "stream",
     "text": [
      "Epoch: [37]  [2300/2437]  eta: 0:00:20  lr: 0.000005  loss: 0.5716 (0.6549)  bbox_regression: 0.1405 (0.1517)  classification: 0.4421 (0.5032)  time: 0.1437  data: 0.0412  max mem: 1105\n"
     ]
    },
    {
     "name": "stderr",
     "output_type": "stream",
     "text": [
      "2402it [05:54,  6.69it/s]"
     ]
    },
    {
     "name": "stdout",
     "output_type": "stream",
     "text": [
      "Epoch: [37]  [2400/2437]  eta: 0:00:05  lr: 0.000005  loss: 0.6246 (0.6544)  bbox_regression: 0.1488 (0.1516)  classification: 0.4700 (0.5028)  time: 0.1468  data: 0.0420  max mem: 1105\n"
     ]
    },
    {
     "name": "stderr",
     "output_type": "stream",
     "text": [
      "2437it [05:59,  6.77it/s]\n"
     ]
    },
    {
     "name": "stdout",
     "output_type": "stream",
     "text": [
      "Epoch: [37]  [2436/2437]  eta: 0:00:00  lr: 0.000005  loss: 0.5744 (0.6544)  bbox_regression: 0.1373 (0.1516)  classification: 0.4312 (0.5028)  time: 0.1504  data: 0.0435  max mem: 1105\n",
      "flag\n",
      "Epoch: [37] Total time: 0:05:59 (0.1476 s / it)\n",
      "saved dict\n",
      "creating index...\n",
      "index created!\n",
      "<torch.utils.data.dataloader.DataLoader object at 0x0000024C1147B310>\n",
      "Test:  [  0/100]  eta: 0:00:05  model_time: 0.0341 (0.0341)  evaluator_time: 0.0010 (0.0010)  time: 0.0501  data: 0.0140  max mem: 1105\n",
      "Test:  [ 99/100]  eta: 0:00:00  model_time: 0.0356 (0.0342)  evaluator_time: 0.0010 (0.0007)  time: 0.0565  data: 0.0152  max mem: 1105\n",
      "flag\n",
      "Test: Total time: 0:00:05 (0.0504 s / it)\n",
      "Averaged stats: model_time: 0.0356 (0.0342)  evaluator_time: 0.0010 (0.0007)\n",
      "Accumulating evaluation results...\n",
      "DONE (t=0.02s).\n",
      "IoU metric: bbox\n",
      " Average Precision  (AP) @[ IoU=0.50:0.95 | area=   all | maxDets=100 ] = 0.764\n",
      " Average Precision  (AP) @[ IoU=0.50      | area=   all | maxDets=100 ] = 0.929\n",
      " Average Precision  (AP) @[ IoU=0.75      | area=   all | maxDets=100 ] = 0.926\n",
      " Average Precision  (AP) @[ IoU=0.50:0.95 | area= small | maxDets=100 ] = -1.000\n",
      " Average Precision  (AP) @[ IoU=0.50:0.95 | area=medium | maxDets=100 ] = 0.000\n",
      " Average Precision  (AP) @[ IoU=0.50:0.95 | area= large | maxDets=100 ] = 0.767\n",
      " Average Recall     (AR) @[ IoU=0.50:0.95 | area=   all | maxDets=  1 ] = 0.794\n",
      " Average Recall     (AR) @[ IoU=0.50:0.95 | area=   all | maxDets= 10 ] = 0.803\n",
      " Average Recall     (AR) @[ IoU=0.50:0.95 | area=   all | maxDets=100 ] = 0.803\n",
      " Average Recall     (AR) @[ IoU=0.50:0.95 | area= small | maxDets=100 ] = -1.000\n",
      " Average Recall     (AR) @[ IoU=0.50:0.95 | area=medium | maxDets=100 ] = 0.000\n",
      " Average Recall     (AR) @[ IoU=0.50:0.95 | area= large | maxDets=100 ] = 0.806\n",
      "creating index...\n",
      "index created!\n",
      "<torch.utils.data.dataloader.DataLoader object at 0x0000024C1147A470>\n",
      "Test:  [  0/100]  eta: 0:00:04  model_time: 0.0325 (0.0325)  evaluator_time: 0.0010 (0.0010)  time: 0.0496  data: 0.0150  max mem: 1105\n",
      "Test:  [ 99/100]  eta: 0:00:00  model_time: 0.0361 (0.0350)  evaluator_time: 0.0010 (0.0008)  time: 0.0530  data: 0.0145  max mem: 1105\n",
      "flag\n",
      "Test: Total time: 0:00:05 (0.0512 s / it)\n",
      "Averaged stats: model_time: 0.0361 (0.0350)  evaluator_time: 0.0010 (0.0008)\n",
      "Accumulating evaluation results...\n",
      "DONE (t=0.03s).\n",
      "IoU metric: bbox\n",
      " Average Precision  (AP) @[ IoU=0.50:0.95 | area=   all | maxDets=100 ] = 0.401\n",
      " Average Precision  (AP) @[ IoU=0.50      | area=   all | maxDets=100 ] = 0.610\n",
      " Average Precision  (AP) @[ IoU=0.75      | area=   all | maxDets=100 ] = 0.434\n",
      " Average Precision  (AP) @[ IoU=0.50:0.95 | area= small | maxDets=100 ] = -1.000\n",
      " Average Precision  (AP) @[ IoU=0.50:0.95 | area=medium | maxDets=100 ] = -1.000\n",
      " Average Precision  (AP) @[ IoU=0.50:0.95 | area= large | maxDets=100 ] = 0.402\n",
      " Average Recall     (AR) @[ IoU=0.50:0.95 | area=   all | maxDets=  1 ] = 0.508\n",
      " Average Recall     (AR) @[ IoU=0.50:0.95 | area=   all | maxDets= 10 ] = 0.531\n",
      " Average Recall     (AR) @[ IoU=0.50:0.95 | area=   all | maxDets=100 ] = 0.531\n",
      " Average Recall     (AR) @[ IoU=0.50:0.95 | area= small | maxDets=100 ] = -1.000\n",
      " Average Recall     (AR) @[ IoU=0.50:0.95 | area=medium | maxDets=100 ] = -1.000\n",
      " Average Recall     (AR) @[ IoU=0.50:0.95 | area= large | maxDets=100 ] = 0.531\n"
     ]
    },
    {
     "name": "stderr",
     "output_type": "stream",
     "text": [
      "0it [00:00, ?it/s]"
     ]
    },
    {
     "name": "stdout",
     "output_type": "stream",
     "text": [
      "<torch.utils.data.dataloader.DataLoader object at 0x0000024C1147A620>\n"
     ]
    },
    {
     "name": "stderr",
     "output_type": "stream",
     "text": [
      "2it [00:00,  5.26it/s]"
     ]
    },
    {
     "name": "stdout",
     "output_type": "stream",
     "text": [
      "Epoch: [38]  [   0/2437]  eta: 0:09:04  lr: 0.000005  loss: 0.4549 (0.4549)  bbox_regression: 0.1342 (0.1342)  classification: 0.3207 (0.3207)  time: 0.2233  data: 0.0450  max mem: 1105\n"
     ]
    },
    {
     "name": "stderr",
     "output_type": "stream",
     "text": [
      "102it [00:16,  6.10it/s]"
     ]
    },
    {
     "name": "stdout",
     "output_type": "stream",
     "text": [
      "Epoch: [38]  [ 100/2437]  eta: 0:06:11  lr: 0.000005  loss: 0.5674 (0.6758)  bbox_regression: 0.1102 (0.1504)  classification: 0.4465 (0.5254)  time: 0.1668  data: 0.0473  max mem: 1105\n"
     ]
    },
    {
     "name": "stderr",
     "output_type": "stream",
     "text": [
      "202it [00:32,  6.41it/s]"
     ]
    },
    {
     "name": "stdout",
     "output_type": "stream",
     "text": [
      "Epoch: [38]  [ 200/2437]  eta: 0:05:55  lr: 0.000005  loss: 0.5370 (0.6715)  bbox_regression: 0.1258 (0.1519)  classification: 0.4039 (0.5195)  time: 0.1551  data: 0.0437  max mem: 1105\n"
     ]
    },
    {
     "name": "stderr",
     "output_type": "stream",
     "text": [
      "302it [00:47,  6.71it/s]"
     ]
    },
    {
     "name": "stdout",
     "output_type": "stream",
     "text": [
      "Epoch: [38]  [ 300/2437]  eta: 0:05:32  lr: 0.000005  loss: 0.6115 (0.6717)  bbox_regression: 0.1253 (0.1519)  classification: 0.4925 (0.5198)  time: 0.1433  data: 0.0437  max mem: 1105\n"
     ]
    },
    {
     "name": "stderr",
     "output_type": "stream",
     "text": [
      "402it [01:01,  6.48it/s]"
     ]
    },
    {
     "name": "stdout",
     "output_type": "stream",
     "text": [
      "Epoch: [38]  [ 400/2437]  eta: 0:05:11  lr: 0.000005  loss: 0.5919 (0.6654)  bbox_regression: 0.1361 (0.1528)  classification: 0.4881 (0.5126)  time: 0.1536  data: 0.0448  max mem: 1105\n"
     ]
    },
    {
     "name": "stderr",
     "output_type": "stream",
     "text": [
      "502it [01:15,  7.20it/s]"
     ]
    },
    {
     "name": "stdout",
     "output_type": "stream",
     "text": [
      "Epoch: [38]  [ 500/2437]  eta: 0:04:52  lr: 0.000005  loss: 0.5583 (0.6708)  bbox_regression: 0.1245 (0.1550)  classification: 0.4446 (0.5158)  time: 0.1422  data: 0.0417  max mem: 1105\n"
     ]
    },
    {
     "name": "stderr",
     "output_type": "stream",
     "text": [
      "602it [01:30,  7.14it/s]"
     ]
    },
    {
     "name": "stdout",
     "output_type": "stream",
     "text": [
      "Epoch: [38]  [ 600/2437]  eta: 0:04:35  lr: 0.000005  loss: 0.5906 (0.6636)  bbox_regression: 0.1224 (0.1526)  classification: 0.4626 (0.5111)  time: 0.1447  data: 0.0428  max mem: 1105\n"
     ]
    },
    {
     "name": "stderr",
     "output_type": "stream",
     "text": [
      "702it [01:44,  6.99it/s]"
     ]
    },
    {
     "name": "stdout",
     "output_type": "stream",
     "text": [
      "Epoch: [38]  [ 700/2437]  eta: 0:04:19  lr: 0.000005  loss: 0.5060 (0.6573)  bbox_regression: 0.1213 (0.1516)  classification: 0.3936 (0.5058)  time: 0.1454  data: 0.0428  max mem: 1105\n"
     ]
    },
    {
     "name": "stderr",
     "output_type": "stream",
     "text": [
      "802it [01:58,  6.94it/s]"
     ]
    },
    {
     "name": "stdout",
     "output_type": "stream",
     "text": [
      "Epoch: [38]  [ 800/2437]  eta: 0:04:02  lr: 0.000005  loss: 0.6707 (0.6583)  bbox_regression: 0.1329 (0.1524)  classification: 0.4932 (0.5059)  time: 0.1407  data: 0.0412  max mem: 1105\n"
     ]
    },
    {
     "name": "stderr",
     "output_type": "stream",
     "text": [
      "902it [02:13,  7.28it/s]"
     ]
    },
    {
     "name": "stdout",
     "output_type": "stream",
     "text": [
      "Epoch: [38]  [ 900/2437]  eta: 0:03:46  lr: 0.000005  loss: 0.5566 (0.6560)  bbox_regression: 0.1449 (0.1526)  classification: 0.3998 (0.5034)  time: 0.1415  data: 0.0422  max mem: 1105\n"
     ]
    },
    {
     "name": "stderr",
     "output_type": "stream",
     "text": [
      "1002it [02:27,  7.04it/s]"
     ]
    },
    {
     "name": "stdout",
     "output_type": "stream",
     "text": [
      "Epoch: [38]  [1000/2437]  eta: 0:03:30  lr: 0.000005  loss: 0.5461 (0.6533)  bbox_regression: 0.1492 (0.1529)  classification: 0.3917 (0.5004)  time: 0.1392  data: 0.0395  max mem: 1105\n"
     ]
    },
    {
     "name": "stderr",
     "output_type": "stream",
     "text": [
      "1102it [02:41,  7.21it/s]"
     ]
    },
    {
     "name": "stdout",
     "output_type": "stream",
     "text": [
      "Epoch: [38]  [1100/2437]  eta: 0:03:15  lr: 0.000005  loss: 0.6008 (0.6518)  bbox_regression: 0.1362 (0.1518)  classification: 0.4652 (0.5000)  time: 0.1391  data: 0.0409  max mem: 1105\n"
     ]
    },
    {
     "name": "stderr",
     "output_type": "stream",
     "text": [
      "1202it [02:55,  7.07it/s]"
     ]
    },
    {
     "name": "stdout",
     "output_type": "stream",
     "text": [
      "Epoch: [38]  [1200/2437]  eta: 0:03:00  lr: 0.000005  loss: 0.5683 (0.6541)  bbox_regression: 0.1347 (0.1529)  classification: 0.4235 (0.5012)  time: 0.1459  data: 0.0472  max mem: 1105\n"
     ]
    },
    {
     "name": "stderr",
     "output_type": "stream",
     "text": [
      "1302it [03:09,  7.20it/s]"
     ]
    },
    {
     "name": "stdout",
     "output_type": "stream",
     "text": [
      "Epoch: [38]  [1300/2437]  eta: 0:02:45  lr: 0.000005  loss: 0.4972 (0.6552)  bbox_regression: 0.1273 (0.1531)  classification: 0.3745 (0.5021)  time: 0.1391  data: 0.0410  max mem: 1105\n"
     ]
    },
    {
     "name": "stderr",
     "output_type": "stream",
     "text": [
      "1402it [03:23,  7.28it/s]"
     ]
    },
    {
     "name": "stdout",
     "output_type": "stream",
     "text": [
      "Epoch: [38]  [1400/2437]  eta: 0:02:30  lr: 0.000005  loss: 0.6011 (0.6549)  bbox_regression: 0.1522 (0.1532)  classification: 0.4433 (0.5017)  time: 0.1404  data: 0.0412  max mem: 1105\n"
     ]
    },
    {
     "name": "stderr",
     "output_type": "stream",
     "text": [
      "1502it [03:37,  6.76it/s]"
     ]
    },
    {
     "name": "stdout",
     "output_type": "stream",
     "text": [
      "Epoch: [38]  [1500/2437]  eta: 0:02:15  lr: 0.000005  loss: 0.6490 (0.6542)  bbox_regression: 0.1498 (0.1530)  classification: 0.4614 (0.5013)  time: 0.1518  data: 0.0424  max mem: 1105\n"
     ]
    },
    {
     "name": "stderr",
     "output_type": "stream",
     "text": [
      "1602it [03:52,  5.74it/s]"
     ]
    },
    {
     "name": "stdout",
     "output_type": "stream",
     "text": [
      "Epoch: [38]  [1600/2437]  eta: 0:02:01  lr: 0.000005  loss: 0.5559 (0.6539)  bbox_regression: 0.1075 (0.1523)  classification: 0.4216 (0.5016)  time: 0.1664  data: 0.0476  max mem: 1105\n"
     ]
    },
    {
     "name": "stderr",
     "output_type": "stream",
     "text": [
      "1702it [04:08,  6.80it/s]"
     ]
    },
    {
     "name": "stdout",
     "output_type": "stream",
     "text": [
      "Epoch: [38]  [1700/2437]  eta: 0:01:47  lr: 0.000005  loss: 0.5471 (0.6527)  bbox_regression: 0.1368 (0.1525)  classification: 0.4042 (0.5002)  time: 0.1523  data: 0.0428  max mem: 1105\n"
     ]
    },
    {
     "name": "stderr",
     "output_type": "stream",
     "text": [
      "1802it [04:23,  6.17it/s]"
     ]
    },
    {
     "name": "stdout",
     "output_type": "stream",
     "text": [
      "Epoch: [38]  [1800/2437]  eta: 0:01:33  lr: 0.000005  loss: 0.5983 (0.6538)  bbox_regression: 0.1297 (0.1527)  classification: 0.4443 (0.5011)  time: 0.1533  data: 0.0443  max mem: 1105\n"
     ]
    },
    {
     "name": "stderr",
     "output_type": "stream",
     "text": [
      "1902it [04:38,  6.77it/s]"
     ]
    },
    {
     "name": "stdout",
     "output_type": "stream",
     "text": [
      "Epoch: [38]  [1900/2437]  eta: 0:01:18  lr: 0.000005  loss: 0.5887 (0.6525)  bbox_regression: 0.1513 (0.1524)  classification: 0.4147 (0.5001)  time: 0.1566  data: 0.0450  max mem: 1105\n"
     ]
    },
    {
     "name": "stderr",
     "output_type": "stream",
     "text": [
      "2002it [04:53,  7.35it/s]"
     ]
    },
    {
     "name": "stdout",
     "output_type": "stream",
     "text": [
      "Epoch: [38]  [2000/2437]  eta: 0:01:03  lr: 0.000005  loss: 0.5790 (0.6539)  bbox_regression: 0.1192 (0.1524)  classification: 0.4498 (0.5015)  time: 0.1458  data: 0.0431  max mem: 1105\n"
     ]
    },
    {
     "name": "stderr",
     "output_type": "stream",
     "text": [
      "2102it [05:07,  7.12it/s]"
     ]
    },
    {
     "name": "stdout",
     "output_type": "stream",
     "text": [
      "Epoch: [38]  [2100/2437]  eta: 0:00:49  lr: 0.000005  loss: 0.5682 (0.6551)  bbox_regression: 0.1359 (0.1526)  classification: 0.4288 (0.5025)  time: 0.1405  data: 0.0415  max mem: 1105\n"
     ]
    },
    {
     "name": "stderr",
     "output_type": "stream",
     "text": [
      "2202it [05:21,  7.32it/s]"
     ]
    },
    {
     "name": "stdout",
     "output_type": "stream",
     "text": [
      "Epoch: [38]  [2200/2437]  eta: 0:00:34  lr: 0.000005  loss: 0.6180 (0.6551)  bbox_regression: 0.1256 (0.1523)  classification: 0.4816 (0.5028)  time: 0.1373  data: 0.0409  max mem: 1105\n"
     ]
    },
    {
     "name": "stderr",
     "output_type": "stream",
     "text": [
      "2302it [05:36,  7.08it/s]"
     ]
    },
    {
     "name": "stdout",
     "output_type": "stream",
     "text": [
      "Epoch: [38]  [2300/2437]  eta: 0:00:20  lr: 0.000005  loss: 0.5212 (0.6557)  bbox_regression: 0.1400 (0.1526)  classification: 0.3958 (0.5031)  time: 0.1436  data: 0.0424  max mem: 1105\n"
     ]
    },
    {
     "name": "stderr",
     "output_type": "stream",
     "text": [
      "2402it [05:52,  6.36it/s]"
     ]
    },
    {
     "name": "stdout",
     "output_type": "stream",
     "text": [
      "Epoch: [38]  [2400/2437]  eta: 0:00:05  lr: 0.000005  loss: 0.5116 (0.6566)  bbox_regression: 0.1328 (0.1525)  classification: 0.4059 (0.5041)  time: 0.1559  data: 0.0441  max mem: 1105\n"
     ]
    },
    {
     "name": "stderr",
     "output_type": "stream",
     "text": [
      "2437it [05:57,  6.81it/s]\n"
     ]
    },
    {
     "name": "stdout",
     "output_type": "stream",
     "text": [
      "Epoch: [38]  [2436/2437]  eta: 0:00:00  lr: 0.000005  loss: 0.5571 (0.6557)  bbox_regression: 0.1325 (0.1522)  classification: 0.4211 (0.5035)  time: 0.1552  data: 0.0451  max mem: 1105\n",
      "flag\n",
      "Epoch: [38] Total time: 0:05:57 (0.1468 s / it)\n",
      "saved dict\n",
      "creating index...\n",
      "index created!\n",
      "<torch.utils.data.dataloader.DataLoader object at 0x0000024C1147B310>\n",
      "Test:  [  0/100]  eta: 0:00:04  model_time: 0.0251 (0.0251)  evaluator_time: 0.0010 (0.0010)  time: 0.0401  data: 0.0140  max mem: 1105\n",
      "Test:  [ 99/100]  eta: 0:00:00  model_time: 0.0341 (0.0327)  evaluator_time: 0.0010 (0.0007)  time: 0.0516  data: 0.0143  max mem: 1105\n",
      "flag\n",
      "Test: Total time: 0:00:04 (0.0485 s / it)\n",
      "Averaged stats: model_time: 0.0341 (0.0327)  evaluator_time: 0.0010 (0.0007)\n",
      "Accumulating evaluation results...\n",
      "DONE (t=0.01s).\n",
      "IoU metric: bbox\n",
      " Average Precision  (AP) @[ IoU=0.50:0.95 | area=   all | maxDets=100 ] = 0.763\n",
      " Average Precision  (AP) @[ IoU=0.50      | area=   all | maxDets=100 ] = 0.929\n",
      " Average Precision  (AP) @[ IoU=0.75      | area=   all | maxDets=100 ] = 0.926\n",
      " Average Precision  (AP) @[ IoU=0.50:0.95 | area= small | maxDets=100 ] = -1.000\n",
      " Average Precision  (AP) @[ IoU=0.50:0.95 | area=medium | maxDets=100 ] = 0.000\n",
      " Average Precision  (AP) @[ IoU=0.50:0.95 | area= large | maxDets=100 ] = 0.766\n",
      " Average Recall     (AR) @[ IoU=0.50:0.95 | area=   all | maxDets=  1 ] = 0.794\n",
      " Average Recall     (AR) @[ IoU=0.50:0.95 | area=   all | maxDets= 10 ] = 0.802\n",
      " Average Recall     (AR) @[ IoU=0.50:0.95 | area=   all | maxDets=100 ] = 0.802\n",
      " Average Recall     (AR) @[ IoU=0.50:0.95 | area= small | maxDets=100 ] = -1.000\n",
      " Average Recall     (AR) @[ IoU=0.50:0.95 | area=medium | maxDets=100 ] = 0.000\n",
      " Average Recall     (AR) @[ IoU=0.50:0.95 | area= large | maxDets=100 ] = 0.806\n",
      "creating index...\n",
      "index created!\n",
      "<torch.utils.data.dataloader.DataLoader object at 0x0000024C1147A470>\n",
      "Test:  [  0/100]  eta: 0:00:05  model_time: 0.0376 (0.0376)  evaluator_time: 0.0010 (0.0010)  time: 0.0526  data: 0.0125  max mem: 1105\n",
      "Test:  [ 99/100]  eta: 0:00:00  model_time: 0.0306 (0.0324)  evaluator_time: 0.0010 (0.0006)  time: 0.0456  data: 0.0125  max mem: 1105\n",
      "flag\n",
      "Test: Total time: 0:00:04 (0.0467 s / it)\n",
      "Averaged stats: model_time: 0.0306 (0.0324)  evaluator_time: 0.0010 (0.0006)\n",
      "Accumulating evaluation results...\n",
      "DONE (t=0.02s).\n",
      "IoU metric: bbox\n",
      " Average Precision  (AP) @[ IoU=0.50:0.95 | area=   all | maxDets=100 ] = 0.403\n",
      " Average Precision  (AP) @[ IoU=0.50      | area=   all | maxDets=100 ] = 0.611\n",
      " Average Precision  (AP) @[ IoU=0.75      | area=   all | maxDets=100 ] = 0.436\n",
      " Average Precision  (AP) @[ IoU=0.50:0.95 | area= small | maxDets=100 ] = -1.000\n",
      " Average Precision  (AP) @[ IoU=0.50:0.95 | area=medium | maxDets=100 ] = -1.000\n",
      " Average Precision  (AP) @[ IoU=0.50:0.95 | area= large | maxDets=100 ] = 0.403\n",
      " Average Recall     (AR) @[ IoU=0.50:0.95 | area=   all | maxDets=  1 ] = 0.509\n",
      " Average Recall     (AR) @[ IoU=0.50:0.95 | area=   all | maxDets= 10 ] = 0.532\n",
      " Average Recall     (AR) @[ IoU=0.50:0.95 | area=   all | maxDets=100 ] = 0.532\n",
      " Average Recall     (AR) @[ IoU=0.50:0.95 | area= small | maxDets=100 ] = -1.000\n",
      " Average Recall     (AR) @[ IoU=0.50:0.95 | area=medium | maxDets=100 ] = -1.000\n",
      " Average Recall     (AR) @[ IoU=0.50:0.95 | area= large | maxDets=100 ] = 0.532\n"
     ]
    },
    {
     "name": "stderr",
     "output_type": "stream",
     "text": [
      "0it [00:00, ?it/s]"
     ]
    },
    {
     "name": "stdout",
     "output_type": "stream",
     "text": [
      "<torch.utils.data.dataloader.DataLoader object at 0x0000024C1147A620>\n"
     ]
    },
    {
     "name": "stderr",
     "output_type": "stream",
     "text": [
      "2it [00:00,  4.94it/s]"
     ]
    },
    {
     "name": "stdout",
     "output_type": "stream",
     "text": [
      "Epoch: [39]  [   0/2437]  eta: 0:09:28  lr: 0.000005  loss: 0.9267 (0.9267)  bbox_regression: 0.1739 (0.1739)  classification: 0.7529 (0.7529)  time: 0.2331  data: 0.0452  max mem: 1105\n"
     ]
    },
    {
     "name": "stderr",
     "output_type": "stream",
     "text": [
      "102it [00:15,  7.30it/s]"
     ]
    },
    {
     "name": "stdout",
     "output_type": "stream",
     "text": [
      "Epoch: [39]  [ 100/2437]  eta: 0:05:45  lr: 0.000005  loss: 0.6758 (0.6323)  bbox_regression: 0.1443 (0.1478)  classification: 0.4955 (0.4845)  time: 0.1375  data: 0.0407  max mem: 1105\n"
     ]
    },
    {
     "name": "stderr",
     "output_type": "stream",
     "text": [
      "202it [00:29,  7.19it/s]"
     ]
    },
    {
     "name": "stdout",
     "output_type": "stream",
     "text": [
      "Epoch: [39]  [ 200/2437]  eta: 0:05:29  lr: 0.000005  loss: 0.5232 (0.6286)  bbox_regression: 0.1561 (0.1467)  classification: 0.3907 (0.4819)  time: 0.1397  data: 0.0422  max mem: 1105\n"
     ]
    },
    {
     "name": "stderr",
     "output_type": "stream",
     "text": [
      "302it [00:44,  6.28it/s]"
     ]
    },
    {
     "name": "stdout",
     "output_type": "stream",
     "text": [
      "Epoch: [39]  [ 300/2437]  eta: 0:05:13  lr: 0.000005  loss: 0.6684 (0.6436)  bbox_regression: 0.1470 (0.1512)  classification: 0.5197 (0.4924)  time: 0.1562  data: 0.0499  max mem: 1105\n"
     ]
    },
    {
     "name": "stderr",
     "output_type": "stream",
     "text": [
      "402it [00:58,  6.26it/s]"
     ]
    },
    {
     "name": "stdout",
     "output_type": "stream",
     "text": [
      "Epoch: [39]  [ 400/2437]  eta: 0:04:58  lr: 0.000005  loss: 0.6516 (0.6456)  bbox_regression: 0.1499 (0.1522)  classification: 0.5376 (0.4934)  time: 0.1532  data: 0.0448  max mem: 1105\n"
     ]
    },
    {
     "name": "stderr",
     "output_type": "stream",
     "text": [
      "502it [01:13,  6.82it/s]"
     ]
    },
    {
     "name": "stdout",
     "output_type": "stream",
     "text": [
      "Epoch: [39]  [ 500/2437]  eta: 0:04:42  lr: 0.000005  loss: 0.5600 (0.6466)  bbox_regression: 0.1206 (0.1512)  classification: 0.3909 (0.4954)  time: 0.1471  data: 0.0432  max mem: 1105\n"
     ]
    },
    {
     "name": "stderr",
     "output_type": "stream",
     "text": [
      "602it [01:27,  7.32it/s]"
     ]
    },
    {
     "name": "stdout",
     "output_type": "stream",
     "text": [
      "Epoch: [39]  [ 600/2437]  eta: 0:04:28  lr: 0.000005  loss: 0.5384 (0.6381)  bbox_regression: 0.1227 (0.1495)  classification: 0.3897 (0.4885)  time: 0.1433  data: 0.0410  max mem: 1105\n"
     ]
    },
    {
     "name": "stderr",
     "output_type": "stream",
     "text": [
      "702it [01:42,  7.06it/s]"
     ]
    },
    {
     "name": "stdout",
     "output_type": "stream",
     "text": [
      "Epoch: [39]  [ 700/2437]  eta: 0:04:14  lr: 0.000005  loss: 0.6638 (0.6464)  bbox_regression: 0.1496 (0.1496)  classification: 0.5142 (0.4969)  time: 0.1518  data: 0.0438  max mem: 1105\n"
     ]
    },
    {
     "name": "stderr",
     "output_type": "stream",
     "text": [
      "802it [01:57,  6.83it/s]"
     ]
    },
    {
     "name": "stdout",
     "output_type": "stream",
     "text": [
      "Epoch: [39]  [ 800/2437]  eta: 0:03:59  lr: 0.000005  loss: 0.5846 (0.6460)  bbox_regression: 0.1366 (0.1497)  classification: 0.4296 (0.4962)  time: 0.1472  data: 0.0441  max mem: 1105\n"
     ]
    },
    {
     "name": "stderr",
     "output_type": "stream",
     "text": [
      "902it [02:12,  6.29it/s]"
     ]
    },
    {
     "name": "stdout",
     "output_type": "stream",
     "text": [
      "Epoch: [39]  [ 900/2437]  eta: 0:03:45  lr: 0.000005  loss: 0.5421 (0.6419)  bbox_regression: 0.1338 (0.1494)  classification: 0.4045 (0.4924)  time: 0.1618  data: 0.0455  max mem: 1105\n"
     ]
    },
    {
     "name": "stderr",
     "output_type": "stream",
     "text": [
      "1002it [02:26,  6.91it/s]"
     ]
    },
    {
     "name": "stdout",
     "output_type": "stream",
     "text": [
      "Epoch: [39]  [1000/2437]  eta: 0:03:30  lr: 0.000005  loss: 0.5642 (0.6425)  bbox_regression: 0.1305 (0.1492)  classification: 0.4630 (0.4933)  time: 0.1398  data: 0.0415  max mem: 1105\n"
     ]
    },
    {
     "name": "stderr",
     "output_type": "stream",
     "text": [
      "1102it [02:40,  7.01it/s]"
     ]
    },
    {
     "name": "stdout",
     "output_type": "stream",
     "text": [
      "Epoch: [39]  [1100/2437]  eta: 0:03:15  lr: 0.000005  loss: 0.5466 (0.6416)  bbox_regression: 0.1385 (0.1493)  classification: 0.4228 (0.4924)  time: 0.1437  data: 0.0432  max mem: 1105\n"
     ]
    },
    {
     "name": "stderr",
     "output_type": "stream",
     "text": [
      "1202it [02:55,  7.26it/s]"
     ]
    },
    {
     "name": "stdout",
     "output_type": "stream",
     "text": [
      "Epoch: [39]  [1200/2437]  eta: 0:03:00  lr: 0.000005  loss: 0.5119 (0.6401)  bbox_regression: 0.1372 (0.1490)  classification: 0.3850 (0.4911)  time: 0.1411  data: 0.0421  max mem: 1105\n"
     ]
    },
    {
     "name": "stderr",
     "output_type": "stream",
     "text": [
      "1302it [03:09,  6.82it/s]"
     ]
    },
    {
     "name": "stdout",
     "output_type": "stream",
     "text": [
      "Epoch: [39]  [1300/2437]  eta: 0:02:45  lr: 0.000005  loss: 0.5508 (0.6399)  bbox_regression: 0.1364 (0.1482)  classification: 0.4080 (0.4917)  time: 0.1519  data: 0.0452  max mem: 1105\n"
     ]
    },
    {
     "name": "stderr",
     "output_type": "stream",
     "text": [
      "1402it [03:23,  7.32it/s]"
     ]
    },
    {
     "name": "stdout",
     "output_type": "stream",
     "text": [
      "Epoch: [39]  [1400/2437]  eta: 0:02:30  lr: 0.000005  loss: 0.5769 (0.6427)  bbox_regression: 0.1528 (0.1483)  classification: 0.4209 (0.4944)  time: 0.1364  data: 0.0396  max mem: 1105\n"
     ]
    },
    {
     "name": "stderr",
     "output_type": "stream",
     "text": [
      "1502it [03:37,  7.14it/s]"
     ]
    },
    {
     "name": "stdout",
     "output_type": "stream",
     "text": [
      "Epoch: [39]  [1500/2437]  eta: 0:02:15  lr: 0.000005  loss: 0.5924 (0.6451)  bbox_regression: 0.1367 (0.1487)  classification: 0.4857 (0.4963)  time: 0.1399  data: 0.0414  max mem: 1105\n"
     ]
    },
    {
     "name": "stderr",
     "output_type": "stream",
     "text": [
      "1602it [03:52,  7.23it/s]"
     ]
    },
    {
     "name": "stdout",
     "output_type": "stream",
     "text": [
      "Epoch: [39]  [1600/2437]  eta: 0:02:01  lr: 0.000005  loss: 0.6087 (0.6452)  bbox_regression: 0.1575 (0.1493)  classification: 0.4520 (0.4959)  time: 0.1404  data: 0.0412  max mem: 1105\n"
     ]
    },
    {
     "name": "stderr",
     "output_type": "stream",
     "text": [
      "1702it [04:06,  7.17it/s]"
     ]
    },
    {
     "name": "stdout",
     "output_type": "stream",
     "text": [
      "Epoch: [39]  [1700/2437]  eta: 0:01:46  lr: 0.000005  loss: 0.5690 (0.6447)  bbox_regression: 0.1363 (0.1491)  classification: 0.4404 (0.4956)  time: 0.1420  data: 0.0414  max mem: 1105\n"
     ]
    },
    {
     "name": "stderr",
     "output_type": "stream",
     "text": [
      "1802it [04:20,  7.43it/s]"
     ]
    },
    {
     "name": "stdout",
     "output_type": "stream",
     "text": [
      "Epoch: [39]  [1800/2437]  eta: 0:01:31  lr: 0.000005  loss: 0.5785 (0.6453)  bbox_regression: 0.1269 (0.1492)  classification: 0.4537 (0.4960)  time: 0.1369  data: 0.0405  max mem: 1105\n"
     ]
    },
    {
     "name": "stderr",
     "output_type": "stream",
     "text": [
      "1902it [04:34,  7.24it/s]"
     ]
    },
    {
     "name": "stdout",
     "output_type": "stream",
     "text": [
      "Epoch: [39]  [1900/2437]  eta: 0:01:17  lr: 0.000005  loss: 0.6244 (0.6455)  bbox_regression: 0.1491 (0.1493)  classification: 0.4635 (0.4962)  time: 0.1404  data: 0.0420  max mem: 1105\n"
     ]
    },
    {
     "name": "stderr",
     "output_type": "stream",
     "text": [
      "2002it [04:48,  7.16it/s]"
     ]
    },
    {
     "name": "stdout",
     "output_type": "stream",
     "text": [
      "Epoch: [39]  [2000/2437]  eta: 0:01:02  lr: 0.000005  loss: 0.6233 (0.6464)  bbox_regression: 0.1243 (0.1496)  classification: 0.4415 (0.4969)  time: 0.1478  data: 0.0501  max mem: 1105\n"
     ]
    },
    {
     "name": "stderr",
     "output_type": "stream",
     "text": [
      "2102it [05:02,  7.25it/s]"
     ]
    },
    {
     "name": "stdout",
     "output_type": "stream",
     "text": [
      "Epoch: [39]  [2100/2437]  eta: 0:00:48  lr: 0.000005  loss: 0.7626 (0.6470)  bbox_regression: 0.1679 (0.1498)  classification: 0.5413 (0.4973)  time: 0.1402  data: 0.0415  max mem: 1105\n"
     ]
    },
    {
     "name": "stderr",
     "output_type": "stream",
     "text": [
      "2202it [05:16,  7.21it/s]"
     ]
    },
    {
     "name": "stdout",
     "output_type": "stream",
     "text": [
      "Epoch: [39]  [2200/2437]  eta: 0:00:34  lr: 0.000005  loss: 0.6081 (0.6483)  bbox_regression: 0.1358 (0.1502)  classification: 0.4497 (0.4981)  time: 0.1377  data: 0.0416  max mem: 1250\n"
     ]
    },
    {
     "name": "stderr",
     "output_type": "stream",
     "text": [
      "2302it [05:30,  7.26it/s]"
     ]
    },
    {
     "name": "stdout",
     "output_type": "stream",
     "text": [
      "Epoch: [39]  [2300/2437]  eta: 0:00:19  lr: 0.000005  loss: 0.5409 (0.6463)  bbox_regression: 0.1225 (0.1497)  classification: 0.4083 (0.4966)  time: 0.1376  data: 0.0413  max mem: 1250\n"
     ]
    },
    {
     "name": "stderr",
     "output_type": "stream",
     "text": [
      "2402it [05:44,  7.17it/s]"
     ]
    },
    {
     "name": "stdout",
     "output_type": "stream",
     "text": [
      "Epoch: [39]  [2400/2437]  eta: 0:00:05  lr: 0.000005  loss: 0.5990 (0.6492)  bbox_regression: 0.1541 (0.1508)  classification: 0.4578 (0.4984)  time: 0.1449  data: 0.0441  max mem: 1250\n"
     ]
    },
    {
     "name": "stderr",
     "output_type": "stream",
     "text": [
      "2437it [05:49,  6.97it/s]\n"
     ]
    },
    {
     "name": "stdout",
     "output_type": "stream",
     "text": [
      "Epoch: [39]  [2436/2437]  eta: 0:00:00  lr: 0.000005  loss: 0.5724 (0.6484)  bbox_regression: 0.1261 (0.1507)  classification: 0.4353 (0.4977)  time: 0.1398  data: 0.0423  max mem: 1250\n",
      "flag\n",
      "Epoch: [39] Total time: 0:05:49 (0.1434 s / it)\n",
      "saved dict\n",
      "creating index...\n",
      "index created!\n",
      "<torch.utils.data.dataloader.DataLoader object at 0x0000024C1147B310>\n",
      "Test:  [  0/100]  eta: 0:00:03  model_time: 0.0210 (0.0210)  evaluator_time: 0.0010 (0.0010)  time: 0.0346  data: 0.0116  max mem: 1250\n",
      "Test:  [ 99/100]  eta: 0:00:00  model_time: 0.0279 (0.0280)  evaluator_time: 0.0007 (0.0006)  time: 0.0433  data: 0.0130  max mem: 1250\n",
      "flag\n",
      "Test: Total time: 0:00:04 (0.0424 s / it)\n",
      "Averaged stats: model_time: 0.0279 (0.0280)  evaluator_time: 0.0007 (0.0006)\n",
      "Accumulating evaluation results...\n",
      "DONE (t=0.01s).\n",
      "IoU metric: bbox\n",
      " Average Precision  (AP) @[ IoU=0.50:0.95 | area=   all | maxDets=100 ] = 0.764\n",
      " Average Precision  (AP) @[ IoU=0.50      | area=   all | maxDets=100 ] = 0.929\n",
      " Average Precision  (AP) @[ IoU=0.75      | area=   all | maxDets=100 ] = 0.926\n",
      " Average Precision  (AP) @[ IoU=0.50:0.95 | area= small | maxDets=100 ] = -1.000\n",
      " Average Precision  (AP) @[ IoU=0.50:0.95 | area=medium | maxDets=100 ] = 0.000\n",
      " Average Precision  (AP) @[ IoU=0.50:0.95 | area= large | maxDets=100 ] = 0.768\n",
      " Average Recall     (AR) @[ IoU=0.50:0.95 | area=   all | maxDets=  1 ] = 0.795\n",
      " Average Recall     (AR) @[ IoU=0.50:0.95 | area=   all | maxDets= 10 ] = 0.804\n",
      " Average Recall     (AR) @[ IoU=0.50:0.95 | area=   all | maxDets=100 ] = 0.804\n",
      " Average Recall     (AR) @[ IoU=0.50:0.95 | area= small | maxDets=100 ] = -1.000\n",
      " Average Recall     (AR) @[ IoU=0.50:0.95 | area=medium | maxDets=100 ] = 0.000\n",
      " Average Recall     (AR) @[ IoU=0.50:0.95 | area= large | maxDets=100 ] = 0.807\n",
      "creating index...\n",
      "index created!\n",
      "<torch.utils.data.dataloader.DataLoader object at 0x0000024C1147A470>\n",
      "Test:  [  0/100]  eta: 0:00:05  model_time: 0.0389 (0.0389)  evaluator_time: 0.0000 (0.0000)  time: 0.0534  data: 0.0135  max mem: 1250\n",
      "Test:  [ 99/100]  eta: 0:00:00  model_time: 0.0319 (0.0344)  evaluator_time: 0.0000 (0.0006)  time: 0.0466  data: 0.0126  max mem: 1250\n",
      "flag\n",
      "Test: Total time: 0:00:04 (0.0491 s / it)\n",
      "Averaged stats: model_time: 0.0319 (0.0344)  evaluator_time: 0.0000 (0.0006)\n",
      "Accumulating evaluation results...\n",
      "DONE (t=0.02s).\n",
      "IoU metric: bbox\n",
      " Average Precision  (AP) @[ IoU=0.50:0.95 | area=   all | maxDets=100 ] = 0.401\n",
      " Average Precision  (AP) @[ IoU=0.50      | area=   all | maxDets=100 ] = 0.608\n",
      " Average Precision  (AP) @[ IoU=0.75      | area=   all | maxDets=100 ] = 0.434\n",
      " Average Precision  (AP) @[ IoU=0.50:0.95 | area= small | maxDets=100 ] = -1.000\n",
      " Average Precision  (AP) @[ IoU=0.50:0.95 | area=medium | maxDets=100 ] = -1.000\n",
      " Average Precision  (AP) @[ IoU=0.50:0.95 | area= large | maxDets=100 ] = 0.401\n",
      " Average Recall     (AR) @[ IoU=0.50:0.95 | area=   all | maxDets=  1 ] = 0.509\n",
      " Average Recall     (AR) @[ IoU=0.50:0.95 | area=   all | maxDets= 10 ] = 0.531\n",
      " Average Recall     (AR) @[ IoU=0.50:0.95 | area=   all | maxDets=100 ] = 0.531\n",
      " Average Recall     (AR) @[ IoU=0.50:0.95 | area= small | maxDets=100 ] = -1.000\n",
      " Average Recall     (AR) @[ IoU=0.50:0.95 | area=medium | maxDets=100 ] = -1.000\n",
      " Average Recall     (AR) @[ IoU=0.50:0.95 | area= large | maxDets=100 ] = 0.531\n"
     ]
    },
    {
     "name": "stderr",
     "output_type": "stream",
     "text": [
      "0it [00:00, ?it/s]"
     ]
    },
    {
     "name": "stdout",
     "output_type": "stream",
     "text": [
      "<torch.utils.data.dataloader.DataLoader object at 0x0000024C1147A620>\n"
     ]
    },
    {
     "name": "stderr",
     "output_type": "stream",
     "text": [
      "2it [00:00,  5.34it/s]"
     ]
    },
    {
     "name": "stdout",
     "output_type": "stream",
     "text": [
      "Epoch: [40]  [   0/2437]  eta: 0:10:24  lr: 0.000001  loss: 0.5493 (0.5493)  bbox_regression: 0.1562 (0.1562)  classification: 0.3931 (0.3931)  time: 0.2565  data: 0.0492  max mem: 1250\n"
     ]
    },
    {
     "name": "stderr",
     "output_type": "stream",
     "text": [
      "102it [00:14,  6.64it/s]"
     ]
    },
    {
     "name": "stdout",
     "output_type": "stream",
     "text": [
      "Epoch: [40]  [ 100/2437]  eta: 0:05:38  lr: 0.000001  loss: 0.5934 (0.6443)  bbox_regression: 0.1478 (0.1466)  classification: 0.4221 (0.4977)  time: 0.1454  data: 0.0431  max mem: 1250\n"
     ]
    },
    {
     "name": "stderr",
     "output_type": "stream",
     "text": [
      "202it [00:28,  7.18it/s]"
     ]
    },
    {
     "name": "stdout",
     "output_type": "stream",
     "text": [
      "Epoch: [40]  [ 200/2437]  eta: 0:05:17  lr: 0.000001  loss: 0.5677 (0.6289)  bbox_regression: 0.1252 (0.1458)  classification: 0.4214 (0.4831)  time: 0.1363  data: 0.0395  max mem: 1250\n"
     ]
    },
    {
     "name": "stderr",
     "output_type": "stream",
     "text": [
      "302it [00:42,  7.24it/s]"
     ]
    },
    {
     "name": "stdout",
     "output_type": "stream",
     "text": [
      "Epoch: [40]  [ 300/2437]  eta: 0:05:02  lr: 0.000001  loss: 0.6282 (0.6408)  bbox_regression: 0.1304 (0.1480)  classification: 0.4616 (0.4928)  time: 0.1377  data: 0.0408  max mem: 1250\n"
     ]
    },
    {
     "name": "stderr",
     "output_type": "stream",
     "text": [
      "402it [00:56,  7.13it/s]"
     ]
    },
    {
     "name": "stdout",
     "output_type": "stream",
     "text": [
      "Epoch: [40]  [ 400/2437]  eta: 0:04:48  lr: 0.000001  loss: 0.5694 (0.6402)  bbox_regression: 0.1432 (0.1473)  classification: 0.4092 (0.4929)  time: 0.1412  data: 0.0403  max mem: 1250\n"
     ]
    },
    {
     "name": "stderr",
     "output_type": "stream",
     "text": [
      "502it [01:11,  6.81it/s]"
     ]
    },
    {
     "name": "stdout",
     "output_type": "stream",
     "text": [
      "Epoch: [40]  [ 500/2437]  eta: 0:04:34  lr: 0.000001  loss: 0.5177 (0.6376)  bbox_regression: 0.1228 (0.1476)  classification: 0.3770 (0.4901)  time: 0.1413  data: 0.0402  max mem: 1250\n"
     ]
    },
    {
     "name": "stderr",
     "output_type": "stream",
     "text": [
      "602it [01:25,  6.90it/s]"
     ]
    },
    {
     "name": "stdout",
     "output_type": "stream",
     "text": [
      "Epoch: [40]  [ 600/2437]  eta: 0:04:21  lr: 0.000001  loss: 0.5056 (0.6362)  bbox_regression: 0.1508 (0.1475)  classification: 0.3667 (0.4887)  time: 0.1499  data: 0.0445  max mem: 1250\n"
     ]
    },
    {
     "name": "stderr",
     "output_type": "stream",
     "text": [
      "702it [01:40,  7.10it/s]"
     ]
    },
    {
     "name": "stdout",
     "output_type": "stream",
     "text": [
      "Epoch: [40]  [ 700/2437]  eta: 0:04:08  lr: 0.000001  loss: 0.5668 (0.6361)  bbox_regression: 0.1350 (0.1477)  classification: 0.4425 (0.4884)  time: 0.1433  data: 0.0424  max mem: 1250\n"
     ]
    },
    {
     "name": "stderr",
     "output_type": "stream",
     "text": [
      "802it [01:55,  7.39it/s]"
     ]
    },
    {
     "name": "stdout",
     "output_type": "stream",
     "text": [
      "Epoch: [40]  [ 800/2437]  eta: 0:03:54  lr: 0.000001  loss: 0.6582 (0.6347)  bbox_regression: 0.1293 (0.1472)  classification: 0.4855 (0.4875)  time: 0.1380  data: 0.0405  max mem: 1250\n"
     ]
    },
    {
     "name": "stderr",
     "output_type": "stream",
     "text": [
      "902it [02:08,  7.31it/s]"
     ]
    },
    {
     "name": "stdout",
     "output_type": "stream",
     "text": [
      "Epoch: [40]  [ 900/2437]  eta: 0:03:39  lr: 0.000001  loss: 0.5921 (0.6329)  bbox_regression: 0.1485 (0.1466)  classification: 0.4008 (0.4863)  time: 0.1379  data: 0.0406  max mem: 1250\n"
     ]
    },
    {
     "name": "stderr",
     "output_type": "stream",
     "text": [
      "1002it [02:22,  7.12it/s]"
     ]
    },
    {
     "name": "stdout",
     "output_type": "stream",
     "text": [
      "Epoch: [40]  [1000/2437]  eta: 0:03:24  lr: 0.000001  loss: 0.5093 (0.6368)  bbox_regression: 0.1280 (0.1466)  classification: 0.3960 (0.4901)  time: 0.1380  data: 0.0409  max mem: 1250\n"
     ]
    },
    {
     "name": "stderr",
     "output_type": "stream",
     "text": [
      "1102it [02:36,  7.19it/s]"
     ]
    },
    {
     "name": "stdout",
     "output_type": "stream",
     "text": [
      "Epoch: [40]  [1100/2437]  eta: 0:03:10  lr: 0.000001  loss: 0.5949 (0.6372)  bbox_regression: 0.1066 (0.1473)  classification: 0.4726 (0.4899)  time: 0.1384  data: 0.0399  max mem: 1250\n"
     ]
    },
    {
     "name": "stderr",
     "output_type": "stream",
     "text": [
      "1202it [02:50,  6.78it/s]"
     ]
    },
    {
     "name": "stdout",
     "output_type": "stream",
     "text": [
      "Epoch: [40]  [1200/2437]  eta: 0:02:55  lr: 0.000001  loss: 0.5916 (0.6404)  bbox_regression: 0.1357 (0.1478)  classification: 0.4539 (0.4926)  time: 0.1436  data: 0.0463  max mem: 1250\n"
     ]
    },
    {
     "name": "stderr",
     "output_type": "stream",
     "text": [
      "1302it [03:04,  7.19it/s]"
     ]
    },
    {
     "name": "stdout",
     "output_type": "stream",
     "text": [
      "Epoch: [40]  [1300/2437]  eta: 0:02:40  lr: 0.000001  loss: 0.5504 (0.6428)  bbox_regression: 0.1606 (0.1488)  classification: 0.3875 (0.4941)  time: 0.1373  data: 0.0409  max mem: 1250\n"
     ]
    },
    {
     "name": "stderr",
     "output_type": "stream",
     "text": [
      "1402it [03:18,  7.15it/s]"
     ]
    },
    {
     "name": "stdout",
     "output_type": "stream",
     "text": [
      "Epoch: [40]  [1400/2437]  eta: 0:02:26  lr: 0.000001  loss: 0.4910 (0.6417)  bbox_regression: 0.1279 (0.1487)  classification: 0.3663 (0.4930)  time: 0.1408  data: 0.0419  max mem: 1250\n"
     ]
    },
    {
     "name": "stderr",
     "output_type": "stream",
     "text": [
      "1502it [03:32,  7.39it/s]"
     ]
    },
    {
     "name": "stdout",
     "output_type": "stream",
     "text": [
      "Epoch: [40]  [1500/2437]  eta: 0:02:12  lr: 0.000001  loss: 0.5584 (0.6426)  bbox_regression: 0.1270 (0.1488)  classification: 0.4312 (0.4938)  time: 0.1370  data: 0.0399  max mem: 1250\n"
     ]
    },
    {
     "name": "stderr",
     "output_type": "stream",
     "text": [
      "1602it [03:45,  7.09it/s]"
     ]
    },
    {
     "name": "stdout",
     "output_type": "stream",
     "text": [
      "Epoch: [40]  [1600/2437]  eta: 0:01:58  lr: 0.000001  loss: 0.5251 (0.6453)  bbox_regression: 0.1241 (0.1497)  classification: 0.3894 (0.4955)  time: 0.1382  data: 0.0411  max mem: 1250\n"
     ]
    },
    {
     "name": "stderr",
     "output_type": "stream",
     "text": [
      "1702it [03:59,  7.27it/s]"
     ]
    },
    {
     "name": "stdout",
     "output_type": "stream",
     "text": [
      "Epoch: [40]  [1700/2437]  eta: 0:01:43  lr: 0.000001  loss: 0.5355 (0.6443)  bbox_regression: 0.1353 (0.1496)  classification: 0.4103 (0.4947)  time: 0.1475  data: 0.0492  max mem: 1250\n"
     ]
    },
    {
     "name": "stderr",
     "output_type": "stream",
     "text": [
      "1802it [04:13,  7.37it/s]"
     ]
    },
    {
     "name": "stdout",
     "output_type": "stream",
     "text": [
      "Epoch: [40]  [1800/2437]  eta: 0:01:29  lr: 0.000001  loss: 0.5991 (0.6447)  bbox_regression: 0.1323 (0.1494)  classification: 0.4350 (0.4953)  time: 0.1374  data: 0.0405  max mem: 1250\n"
     ]
    },
    {
     "name": "stderr",
     "output_type": "stream",
     "text": [
      "1902it [04:27,  7.05it/s]"
     ]
    },
    {
     "name": "stdout",
     "output_type": "stream",
     "text": [
      "Epoch: [40]  [1900/2437]  eta: 0:01:15  lr: 0.000001  loss: 0.5416 (0.6434)  bbox_regression: 0.1340 (0.1491)  classification: 0.4266 (0.4942)  time: 0.1391  data: 0.0410  max mem: 1250\n"
     ]
    },
    {
     "name": "stderr",
     "output_type": "stream",
     "text": [
      "2002it [04:41,  7.16it/s]"
     ]
    },
    {
     "name": "stdout",
     "output_type": "stream",
     "text": [
      "Epoch: [40]  [2000/2437]  eta: 0:01:01  lr: 0.000001  loss: 0.6550 (0.6462)  bbox_regression: 0.1534 (0.1501)  classification: 0.5040 (0.4961)  time: 0.1375  data: 0.0401  max mem: 1250\n"
     ]
    },
    {
     "name": "stderr",
     "output_type": "stream",
     "text": [
      "2102it [04:55,  7.51it/s]"
     ]
    },
    {
     "name": "stdout",
     "output_type": "stream",
     "text": [
      "Epoch: [40]  [2100/2437]  eta: 0:00:47  lr: 0.000001  loss: 0.5588 (0.6435)  bbox_regression: 0.1356 (0.1495)  classification: 0.4219 (0.4940)  time: 0.1364  data: 0.0404  max mem: 1250\n"
     ]
    },
    {
     "name": "stderr",
     "output_type": "stream",
     "text": [
      "2202it [05:09,  7.35it/s]"
     ]
    },
    {
     "name": "stdout",
     "output_type": "stream",
     "text": [
      "Epoch: [40]  [2200/2437]  eta: 0:00:33  lr: 0.000001  loss: 0.5696 (0.6459)  bbox_regression: 0.1380 (0.1498)  classification: 0.4439 (0.4961)  time: 0.1375  data: 0.0403  max mem: 1250\n"
     ]
    },
    {
     "name": "stderr",
     "output_type": "stream",
     "text": [
      "2302it [05:22,  7.22it/s]"
     ]
    },
    {
     "name": "stdout",
     "output_type": "stream",
     "text": [
      "Epoch: [40]  [2300/2437]  eta: 0:00:19  lr: 0.000001  loss: 0.5483 (0.6455)  bbox_regression: 0.1311 (0.1496)  classification: 0.4138 (0.4960)  time: 0.1400  data: 0.0407  max mem: 1250\n"
     ]
    },
    {
     "name": "stderr",
     "output_type": "stream",
     "text": [
      "2402it [05:36,  7.05it/s]"
     ]
    },
    {
     "name": "stdout",
     "output_type": "stream",
     "text": [
      "Epoch: [40]  [2400/2437]  eta: 0:00:05  lr: 0.000001  loss: 0.6823 (0.6479)  bbox_regression: 0.1608 (0.1499)  classification: 0.4933 (0.4980)  time: 0.1398  data: 0.0424  max mem: 1250\n"
     ]
    },
    {
     "name": "stderr",
     "output_type": "stream",
     "text": [
      "2437it [05:41,  7.13it/s]\n"
     ]
    },
    {
     "name": "stdout",
     "output_type": "stream",
     "text": [
      "Epoch: [40]  [2436/2437]  eta: 0:00:00  lr: 0.000001  loss: 0.5307 (0.6469)  bbox_regression: 0.1227 (0.1497)  classification: 0.4050 (0.4971)  time: 0.1375  data: 0.0402  max mem: 1250\n",
      "flag\n",
      "Epoch: [40] Total time: 0:05:41 (0.1402 s / it)\n",
      "saved dict\n",
      "creating index...\n",
      "index created!\n",
      "<torch.utils.data.dataloader.DataLoader object at 0x0000024C1147B310>\n",
      "Test:  [  0/100]  eta: 0:00:03  model_time: 0.0220 (0.0220)  evaluator_time: 0.0010 (0.0010)  time: 0.0365  data: 0.0125  max mem: 1250\n",
      "Test:  [ 99/100]  eta: 0:00:00  model_time: 0.0290 (0.0271)  evaluator_time: 0.0000 (0.0005)  time: 0.0444  data: 0.0137  max mem: 1250\n",
      "flag\n",
      "Test: Total time: 0:00:04 (0.0414 s / it)\n",
      "Averaged stats: model_time: 0.0290 (0.0271)  evaluator_time: 0.0000 (0.0005)\n",
      "Accumulating evaluation results...\n",
      "DONE (t=0.01s).\n",
      "IoU metric: bbox\n",
      " Average Precision  (AP) @[ IoU=0.50:0.95 | area=   all | maxDets=100 ] = 0.765\n",
      " Average Precision  (AP) @[ IoU=0.50      | area=   all | maxDets=100 ] = 0.929\n",
      " Average Precision  (AP) @[ IoU=0.75      | area=   all | maxDets=100 ] = 0.926\n",
      " Average Precision  (AP) @[ IoU=0.50:0.95 | area= small | maxDets=100 ] = -1.000\n",
      " Average Precision  (AP) @[ IoU=0.50:0.95 | area=medium | maxDets=100 ] = 0.000\n",
      " Average Precision  (AP) @[ IoU=0.50:0.95 | area= large | maxDets=100 ] = 0.769\n",
      " Average Recall     (AR) @[ IoU=0.50:0.95 | area=   all | maxDets=  1 ] = 0.796\n",
      " Average Recall     (AR) @[ IoU=0.50:0.95 | area=   all | maxDets= 10 ] = 0.804\n",
      " Average Recall     (AR) @[ IoU=0.50:0.95 | area=   all | maxDets=100 ] = 0.804\n",
      " Average Recall     (AR) @[ IoU=0.50:0.95 | area= small | maxDets=100 ] = -1.000\n",
      " Average Recall     (AR) @[ IoU=0.50:0.95 | area=medium | maxDets=100 ] = 0.000\n",
      " Average Recall     (AR) @[ IoU=0.50:0.95 | area= large | maxDets=100 ] = 0.808\n",
      "creating index...\n",
      "index created!\n",
      "<torch.utils.data.dataloader.DataLoader object at 0x0000024C1147A470>\n",
      "Test:  [  0/100]  eta: 0:00:05  model_time: 0.0390 (0.0390)  evaluator_time: 0.0010 (0.0010)  time: 0.0540  data: 0.0130  max mem: 1250\n",
      "Test:  [ 99/100]  eta: 0:00:00  model_time: 0.0402 (0.0390)  evaluator_time: 0.0010 (0.0007)  time: 0.0573  data: 0.0147  max mem: 1250\n",
      "flag\n",
      "Test: Total time: 0:00:05 (0.0555 s / it)\n",
      "Averaged stats: model_time: 0.0402 (0.0390)  evaluator_time: 0.0010 (0.0007)\n",
      "Accumulating evaluation results...\n",
      "DONE (t=0.02s).\n",
      "IoU metric: bbox\n",
      " Average Precision  (AP) @[ IoU=0.50:0.95 | area=   all | maxDets=100 ] = 0.402\n",
      " Average Precision  (AP) @[ IoU=0.50      | area=   all | maxDets=100 ] = 0.609\n",
      " Average Precision  (AP) @[ IoU=0.75      | area=   all | maxDets=100 ] = 0.434\n",
      " Average Precision  (AP) @[ IoU=0.50:0.95 | area= small | maxDets=100 ] = -1.000\n",
      " Average Precision  (AP) @[ IoU=0.50:0.95 | area=medium | maxDets=100 ] = -1.000\n",
      " Average Precision  (AP) @[ IoU=0.50:0.95 | area= large | maxDets=100 ] = 0.402\n",
      " Average Recall     (AR) @[ IoU=0.50:0.95 | area=   all | maxDets=  1 ] = 0.509\n",
      " Average Recall     (AR) @[ IoU=0.50:0.95 | area=   all | maxDets= 10 ] = 0.531\n",
      " Average Recall     (AR) @[ IoU=0.50:0.95 | area=   all | maxDets=100 ] = 0.531\n",
      " Average Recall     (AR) @[ IoU=0.50:0.95 | area= small | maxDets=100 ] = -1.000\n",
      " Average Recall     (AR) @[ IoU=0.50:0.95 | area=medium | maxDets=100 ] = -1.000\n",
      " Average Recall     (AR) @[ IoU=0.50:0.95 | area= large | maxDets=100 ] = 0.531\n"
     ]
    },
    {
     "name": "stderr",
     "output_type": "stream",
     "text": [
      "0it [00:00, ?it/s]"
     ]
    },
    {
     "name": "stdout",
     "output_type": "stream",
     "text": [
      "<torch.utils.data.dataloader.DataLoader object at 0x0000024C1147A620>\n"
     ]
    },
    {
     "name": "stderr",
     "output_type": "stream",
     "text": [
      "1it [00:00,  3.49it/s]"
     ]
    },
    {
     "name": "stdout",
     "output_type": "stream",
     "text": [
      "Epoch: [41]  [   0/2437]  eta: 0:11:40  lr: 0.000001  loss: 0.5224 (0.5224)  bbox_regression: 0.1154 (0.1154)  classification: 0.4070 (0.4070)  time: 0.2873  data: 0.0575  max mem: 1250\n"
     ]
    },
    {
     "name": "stderr",
     "output_type": "stream",
     "text": [
      "102it [00:14,  7.25it/s]"
     ]
    },
    {
     "name": "stdout",
     "output_type": "stream",
     "text": [
      "Epoch: [41]  [ 100/2437]  eta: 0:05:29  lr: 0.000001  loss: 0.5147 (0.6299)  bbox_regression: 0.1247 (0.1417)  classification: 0.3741 (0.4882)  time: 0.1403  data: 0.0409  max mem: 1250\n"
     ]
    },
    {
     "name": "stderr",
     "output_type": "stream",
     "text": [
      "202it [00:28,  7.18it/s]"
     ]
    },
    {
     "name": "stdout",
     "output_type": "stream",
     "text": [
      "Epoch: [41]  [ 200/2437]  eta: 0:05:13  lr: 0.000001  loss: 0.6421 (0.6385)  bbox_regression: 0.1275 (0.1474)  classification: 0.4909 (0.4911)  time: 0.1388  data: 0.0408  max mem: 1250\n"
     ]
    },
    {
     "name": "stderr",
     "output_type": "stream",
     "text": [
      "302it [00:43,  6.83it/s]"
     ]
    },
    {
     "name": "stdout",
     "output_type": "stream",
     "text": [
      "Epoch: [41]  [ 300/2437]  eta: 0:05:07  lr: 0.000001  loss: 0.5802 (0.6423)  bbox_regression: 0.1309 (0.1468)  classification: 0.4223 (0.4955)  time: 0.1501  data: 0.0507  max mem: 1250\n"
     ]
    },
    {
     "name": "stderr",
     "output_type": "stream",
     "text": [
      "402it [00:57,  7.27it/s]"
     ]
    },
    {
     "name": "stdout",
     "output_type": "stream",
     "text": [
      "Epoch: [41]  [ 400/2437]  eta: 0:04:50  lr: 0.000001  loss: 0.6048 (0.6444)  bbox_regression: 0.1426 (0.1481)  classification: 0.4351 (0.4964)  time: 0.1369  data: 0.0390  max mem: 1250\n"
     ]
    },
    {
     "name": "stderr",
     "output_type": "stream",
     "text": [
      "502it [01:12,  7.00it/s]"
     ]
    },
    {
     "name": "stdout",
     "output_type": "stream",
     "text": [
      "Epoch: [41]  [ 500/2437]  eta: 0:04:38  lr: 0.000001  loss: 0.6469 (0.6569)  bbox_regression: 0.1726 (0.1518)  classification: 0.4662 (0.5051)  time: 0.1473  data: 0.0440  max mem: 1250\n"
     ]
    },
    {
     "name": "stderr",
     "output_type": "stream",
     "text": [
      "602it [01:26,  6.95it/s]"
     ]
    },
    {
     "name": "stdout",
     "output_type": "stream",
     "text": [
      "Epoch: [41]  [ 600/2437]  eta: 0:04:25  lr: 0.000001  loss: 0.6702 (0.6573)  bbox_regression: 0.1403 (0.1509)  classification: 0.5017 (0.5064)  time: 0.1471  data: 0.0432  max mem: 1250\n"
     ]
    },
    {
     "name": "stderr",
     "output_type": "stream",
     "text": [
      "702it [01:41,  6.88it/s]"
     ]
    },
    {
     "name": "stdout",
     "output_type": "stream",
     "text": [
      "Epoch: [41]  [ 700/2437]  eta: 0:04:11  lr: 0.000001  loss: 0.5252 (0.6530)  bbox_regression: 0.1248 (0.1507)  classification: 0.3994 (0.5023)  time: 0.1439  data: 0.0419  max mem: 1250\n"
     ]
    },
    {
     "name": "stderr",
     "output_type": "stream",
     "text": [
      "802it [01:55,  7.01it/s]"
     ]
    },
    {
     "name": "stdout",
     "output_type": "stream",
     "text": [
      "Epoch: [41]  [ 800/2437]  eta: 0:03:56  lr: 0.000001  loss: 0.6168 (0.6524)  bbox_regression: 0.1195 (0.1501)  classification: 0.4590 (0.5023)  time: 0.1415  data: 0.0420  max mem: 1250\n"
     ]
    },
    {
     "name": "stderr",
     "output_type": "stream",
     "text": [
      "902it [02:10,  6.83it/s]"
     ]
    },
    {
     "name": "stdout",
     "output_type": "stream",
     "text": [
      "Epoch: [41]  [ 900/2437]  eta: 0:03:41  lr: 0.000001  loss: 0.5816 (0.6517)  bbox_regression: 0.1335 (0.1488)  classification: 0.4646 (0.5029)  time: 0.1422  data: 0.0426  max mem: 1250\n"
     ]
    },
    {
     "name": "stderr",
     "output_type": "stream",
     "text": [
      "1002it [02:24,  7.01it/s]"
     ]
    },
    {
     "name": "stdout",
     "output_type": "stream",
     "text": [
      "Epoch: [41]  [1000/2437]  eta: 0:03:26  lr: 0.000001  loss: 0.5279 (0.6503)  bbox_regression: 0.1280 (0.1490)  classification: 0.3655 (0.5013)  time: 0.1428  data: 0.0431  max mem: 1250\n"
     ]
    },
    {
     "name": "stderr",
     "output_type": "stream",
     "text": [
      "1102it [02:38,  7.05it/s]"
     ]
    },
    {
     "name": "stdout",
     "output_type": "stream",
     "text": [
      "Epoch: [41]  [1100/2437]  eta: 0:03:12  lr: 0.000001  loss: 0.5366 (0.6500)  bbox_regression: 0.1518 (0.1489)  classification: 0.3902 (0.5011)  time: 0.1419  data: 0.0419  max mem: 1250\n"
     ]
    },
    {
     "name": "stderr",
     "output_type": "stream",
     "text": [
      "1202it [02:53,  7.08it/s]"
     ]
    },
    {
     "name": "stdout",
     "output_type": "stream",
     "text": [
      "Epoch: [41]  [1200/2437]  eta: 0:02:58  lr: 0.000001  loss: 0.6113 (0.6506)  bbox_regression: 0.1327 (0.1489)  classification: 0.4973 (0.5017)  time: 0.1414  data: 0.0415  max mem: 1250\n"
     ]
    },
    {
     "name": "stderr",
     "output_type": "stream",
     "text": [
      "1302it [03:08,  6.06it/s]"
     ]
    },
    {
     "name": "stdout",
     "output_type": "stream",
     "text": [
      "Epoch: [41]  [1300/2437]  eta: 0:02:44  lr: 0.000001  loss: 0.5325 (0.6491)  bbox_regression: 0.1490 (0.1496)  classification: 0.3817 (0.4995)  time: 0.1619  data: 0.0463  max mem: 1250\n"
     ]
    },
    {
     "name": "stderr",
     "output_type": "stream",
     "text": [
      "1402it [03:24,  6.35it/s]"
     ]
    },
    {
     "name": "stdout",
     "output_type": "stream",
     "text": [
      "Epoch: [41]  [1400/2437]  eta: 0:02:31  lr: 0.000001  loss: 0.5859 (0.6461)  bbox_regression: 0.1350 (0.1490)  classification: 0.4420 (0.4971)  time: 0.1545  data: 0.0438  max mem: 1250\n"
     ]
    },
    {
     "name": "stderr",
     "output_type": "stream",
     "text": [
      "1502it [03:40,  6.51it/s]"
     ]
    },
    {
     "name": "stdout",
     "output_type": "stream",
     "text": [
      "Epoch: [41]  [1500/2437]  eta: 0:02:17  lr: 0.000001  loss: 0.4780 (0.6473)  bbox_regression: 0.1319 (0.1503)  classification: 0.3503 (0.4970)  time: 0.1541  data: 0.0441  max mem: 1250\n"
     ]
    },
    {
     "name": "stderr",
     "output_type": "stream",
     "text": [
      "1602it [03:55,  6.57it/s]"
     ]
    },
    {
     "name": "stdout",
     "output_type": "stream",
     "text": [
      "Epoch: [41]  [1600/2437]  eta: 0:02:03  lr: 0.000001  loss: 0.6500 (0.6473)  bbox_regression: 0.1493 (0.1504)  classification: 0.5250 (0.4969)  time: 0.1562  data: 0.0452  max mem: 1250\n"
     ]
    },
    {
     "name": "stderr",
     "output_type": "stream",
     "text": [
      "1702it [04:11,  6.53it/s]"
     ]
    },
    {
     "name": "stdout",
     "output_type": "stream",
     "text": [
      "Epoch: [41]  [1700/2437]  eta: 0:01:48  lr: 0.000001  loss: 0.6073 (0.6483)  bbox_regression: 0.1352 (0.1507)  classification: 0.4633 (0.4975)  time: 0.1551  data: 0.0443  max mem: 1250\n"
     ]
    },
    {
     "name": "stderr",
     "output_type": "stream",
     "text": [
      "1802it [04:27,  6.18it/s]"
     ]
    },
    {
     "name": "stdout",
     "output_type": "stream",
     "text": [
      "Epoch: [41]  [1800/2437]  eta: 0:01:34  lr: 0.000001  loss: 0.5825 (0.6487)  bbox_regression: 0.1510 (0.1510)  classification: 0.3674 (0.4977)  time: 0.1632  data: 0.0473  max mem: 1250\n"
     ]
    },
    {
     "name": "stderr",
     "output_type": "stream",
     "text": [
      "1902it [04:43,  6.54it/s]"
     ]
    },
    {
     "name": "stdout",
     "output_type": "stream",
     "text": [
      "Epoch: [41]  [1900/2437]  eta: 0:01:19  lr: 0.000001  loss: 0.5419 (0.6463)  bbox_regression: 0.1376 (0.1506)  classification: 0.3946 (0.4957)  time: 0.1568  data: 0.0441  max mem: 1250\n"
     ]
    },
    {
     "name": "stderr",
     "output_type": "stream",
     "text": [
      "2002it [04:58,  6.61it/s]"
     ]
    },
    {
     "name": "stdout",
     "output_type": "stream",
     "text": [
      "Epoch: [41]  [2000/2437]  eta: 0:01:05  lr: 0.000001  loss: 0.6182 (0.6478)  bbox_regression: 0.1386 (0.1511)  classification: 0.4613 (0.4968)  time: 0.1594  data: 0.0455  max mem: 1250\n"
     ]
    },
    {
     "name": "stderr",
     "output_type": "stream",
     "text": [
      "2102it [05:14,  6.35it/s]"
     ]
    },
    {
     "name": "stdout",
     "output_type": "stream",
     "text": [
      "Epoch: [41]  [2100/2437]  eta: 0:00:50  lr: 0.000001  loss: 0.5313 (0.6500)  bbox_regression: 0.1443 (0.1516)  classification: 0.4258 (0.4984)  time: 0.1604  data: 0.0454  max mem: 1250\n"
     ]
    },
    {
     "name": "stderr",
     "output_type": "stream",
     "text": [
      "2202it [05:30,  6.57it/s]"
     ]
    },
    {
     "name": "stdout",
     "output_type": "stream",
     "text": [
      "Epoch: [41]  [2200/2437]  eta: 0:00:35  lr: 0.000001  loss: 0.5772 (0.6501)  bbox_regression: 0.1418 (0.1514)  classification: 0.4525 (0.4987)  time: 0.1645  data: 0.0479  max mem: 1250\n"
     ]
    },
    {
     "name": "stderr",
     "output_type": "stream",
     "text": [
      "2302it [05:45,  5.79it/s]"
     ]
    },
    {
     "name": "stdout",
     "output_type": "stream",
     "text": [
      "Epoch: [41]  [2300/2437]  eta: 0:00:20  lr: 0.000001  loss: 0.5755 (0.6490)  bbox_regression: 0.1289 (0.1510)  classification: 0.4164 (0.4980)  time: 0.1516  data: 0.0442  max mem: 1250\n"
     ]
    },
    {
     "name": "stderr",
     "output_type": "stream",
     "text": [
      "2402it [06:00,  6.17it/s]"
     ]
    },
    {
     "name": "stdout",
     "output_type": "stream",
     "text": [
      "Epoch: [41]  [2400/2437]  eta: 0:00:05  lr: 0.000001  loss: 0.5570 (0.6501)  bbox_regression: 0.1286 (0.1514)  classification: 0.4361 (0.4987)  time: 0.1567  data: 0.0453  max mem: 1250\n"
     ]
    },
    {
     "name": "stderr",
     "output_type": "stream",
     "text": [
      "2437it [06:05,  6.66it/s]\n"
     ]
    },
    {
     "name": "stdout",
     "output_type": "stream",
     "text": [
      "Epoch: [41]  [2436/2437]  eta: 0:00:00  lr: 0.000001  loss: 0.5829 (0.6504)  bbox_regression: 0.1286 (0.1513)  classification: 0.4418 (0.4991)  time: 0.1705  data: 0.0496  max mem: 1250\n",
      "flag\n",
      "Epoch: [41] Total time: 0:06:05 (0.1502 s / it)\n",
      "saved dict\n",
      "creating index...\n",
      "index created!\n",
      "<torch.utils.data.dataloader.DataLoader object at 0x0000024C1147B310>\n",
      "Test:  [  0/100]  eta: 0:00:03  model_time: 0.0251 (0.0251)  evaluator_time: 0.0005 (0.0005)  time: 0.0392  data: 0.0136  max mem: 1250\n",
      "Test:  [ 99/100]  eta: 0:00:00  model_time: 0.0313 (0.0307)  evaluator_time: 0.0010 (0.0006)  time: 0.0465  data: 0.0133  max mem: 1250\n",
      "flag\n",
      "Test: Total time: 0:00:04 (0.0457 s / it)\n",
      "Averaged stats: model_time: 0.0313 (0.0307)  evaluator_time: 0.0010 (0.0006)\n",
      "Accumulating evaluation results...\n",
      "DONE (t=0.01s).\n",
      "IoU metric: bbox\n",
      " Average Precision  (AP) @[ IoU=0.50:0.95 | area=   all | maxDets=100 ] = 0.765\n",
      " Average Precision  (AP) @[ IoU=0.50      | area=   all | maxDets=100 ] = 0.929\n",
      " Average Precision  (AP) @[ IoU=0.75      | area=   all | maxDets=100 ] = 0.926\n",
      " Average Precision  (AP) @[ IoU=0.50:0.95 | area= small | maxDets=100 ] = -1.000\n",
      " Average Precision  (AP) @[ IoU=0.50:0.95 | area=medium | maxDets=100 ] = 0.000\n",
      " Average Precision  (AP) @[ IoU=0.50:0.95 | area= large | maxDets=100 ] = 0.769\n",
      " Average Recall     (AR) @[ IoU=0.50:0.95 | area=   all | maxDets=  1 ] = 0.796\n",
      " Average Recall     (AR) @[ IoU=0.50:0.95 | area=   all | maxDets= 10 ] = 0.804\n",
      " Average Recall     (AR) @[ IoU=0.50:0.95 | area=   all | maxDets=100 ] = 0.804\n",
      " Average Recall     (AR) @[ IoU=0.50:0.95 | area= small | maxDets=100 ] = -1.000\n",
      " Average Recall     (AR) @[ IoU=0.50:0.95 | area=medium | maxDets=100 ] = 0.000\n",
      " Average Recall     (AR) @[ IoU=0.50:0.95 | area= large | maxDets=100 ] = 0.808\n",
      "creating index...\n",
      "index created!\n",
      "<torch.utils.data.dataloader.DataLoader object at 0x0000024C1147A470>\n",
      "Test:  [  0/100]  eta: 0:00:05  model_time: 0.0440 (0.0440)  evaluator_time: 0.0010 (0.0010)  time: 0.0585  data: 0.0125  max mem: 1250\n",
      "Test:  [ 99/100]  eta: 0:00:00  model_time: 0.0346 (0.0359)  evaluator_time: 0.0010 (0.0007)  time: 0.0506  data: 0.0133  max mem: 1250\n",
      "flag\n",
      "Test: Total time: 0:00:05 (0.0515 s / it)\n",
      "Averaged stats: model_time: 0.0346 (0.0359)  evaluator_time: 0.0010 (0.0007)\n",
      "Accumulating evaluation results...\n",
      "DONE (t=0.02s).\n",
      "IoU metric: bbox\n",
      " Average Precision  (AP) @[ IoU=0.50:0.95 | area=   all | maxDets=100 ] = 0.402\n",
      " Average Precision  (AP) @[ IoU=0.50      | area=   all | maxDets=100 ] = 0.610\n",
      " Average Precision  (AP) @[ IoU=0.75      | area=   all | maxDets=100 ] = 0.434\n",
      " Average Precision  (AP) @[ IoU=0.50:0.95 | area= small | maxDets=100 ] = -1.000\n",
      " Average Precision  (AP) @[ IoU=0.50:0.95 | area=medium | maxDets=100 ] = -1.000\n",
      " Average Precision  (AP) @[ IoU=0.50:0.95 | area= large | maxDets=100 ] = 0.402\n",
      " Average Recall     (AR) @[ IoU=0.50:0.95 | area=   all | maxDets=  1 ] = 0.509\n",
      " Average Recall     (AR) @[ IoU=0.50:0.95 | area=   all | maxDets= 10 ] = 0.531\n",
      " Average Recall     (AR) @[ IoU=0.50:0.95 | area=   all | maxDets=100 ] = 0.531\n",
      " Average Recall     (AR) @[ IoU=0.50:0.95 | area= small | maxDets=100 ] = -1.000\n",
      " Average Recall     (AR) @[ IoU=0.50:0.95 | area=medium | maxDets=100 ] = -1.000\n",
      " Average Recall     (AR) @[ IoU=0.50:0.95 | area= large | maxDets=100 ] = 0.531\n"
     ]
    },
    {
     "name": "stderr",
     "output_type": "stream",
     "text": [
      "0it [00:00, ?it/s]"
     ]
    },
    {
     "name": "stdout",
     "output_type": "stream",
     "text": [
      "<torch.utils.data.dataloader.DataLoader object at 0x0000024C1147A620>\n"
     ]
    },
    {
     "name": "stderr",
     "output_type": "stream",
     "text": [
      "2it [00:00,  5.14it/s]"
     ]
    },
    {
     "name": "stdout",
     "output_type": "stream",
     "text": [
      "Epoch: [42]  [   0/2437]  eta: 0:09:28  lr: 0.000001  loss: 1.3813 (1.3813)  bbox_regression: 0.3013 (0.3013)  classification: 1.0801 (1.0801)  time: 0.2333  data: 0.0569  max mem: 1250\n"
     ]
    },
    {
     "name": "stderr",
     "output_type": "stream",
     "text": [
      "102it [00:16,  5.97it/s]"
     ]
    },
    {
     "name": "stdout",
     "output_type": "stream",
     "text": [
      "Epoch: [42]  [ 100/2437]  eta: 0:06:12  lr: 0.000001  loss: 0.5735 (0.6213)  bbox_regression: 0.1594 (0.1451)  classification: 0.4086 (0.4762)  time: 0.1589  data: 0.0456  max mem: 1250\n"
     ]
    },
    {
     "name": "stderr",
     "output_type": "stream",
     "text": [
      "202it [00:31,  6.46it/s]"
     ]
    },
    {
     "name": "stdout",
     "output_type": "stream",
     "text": [
      "Epoch: [42]  [ 200/2437]  eta: 0:05:50  lr: 0.000001  loss: 0.5695 (0.6321)  bbox_regression: 0.1428 (0.1519)  classification: 0.3845 (0.4801)  time: 0.1520  data: 0.0419  max mem: 1250\n"
     ]
    },
    {
     "name": "stderr",
     "output_type": "stream",
     "text": [
      "302it [00:47,  6.44it/s]"
     ]
    },
    {
     "name": "stdout",
     "output_type": "stream",
     "text": [
      "Epoch: [42]  [ 300/2437]  eta: 0:05:33  lr: 0.000001  loss: 0.5169 (0.6307)  bbox_regression: 0.1271 (0.1472)  classification: 0.4028 (0.4835)  time: 0.1550  data: 0.0438  max mem: 1250\n"
     ]
    },
    {
     "name": "stderr",
     "output_type": "stream",
     "text": [
      "402it [01:02,  6.51it/s]"
     ]
    },
    {
     "name": "stdout",
     "output_type": "stream",
     "text": [
      "Epoch: [42]  [ 400/2437]  eta: 0:05:16  lr: 0.000001  loss: 0.6053 (0.6278)  bbox_regression: 0.1308 (0.1477)  classification: 0.4640 (0.4801)  time: 0.1509  data: 0.0415  max mem: 1250\n"
     ]
    },
    {
     "name": "stderr",
     "output_type": "stream",
     "text": [
      "502it [01:17,  6.54it/s]"
     ]
    },
    {
     "name": "stdout",
     "output_type": "stream",
     "text": [
      "Epoch: [42]  [ 500/2437]  eta: 0:04:59  lr: 0.000001  loss: 0.5572 (0.6376)  bbox_regression: 0.1290 (0.1476)  classification: 0.4282 (0.4900)  time: 0.1527  data: 0.0438  max mem: 1250\n"
     ]
    },
    {
     "name": "stderr",
     "output_type": "stream",
     "text": [
      "602it [01:32,  6.58it/s]"
     ]
    },
    {
     "name": "stdout",
     "output_type": "stream",
     "text": [
      "Epoch: [42]  [ 600/2437]  eta: 0:04:43  lr: 0.000001  loss: 0.5695 (0.6354)  bbox_regression: 0.1432 (0.1469)  classification: 0.4759 (0.4885)  time: 0.1536  data: 0.0439  max mem: 1250\n"
     ]
    },
    {
     "name": "stderr",
     "output_type": "stream",
     "text": [
      "702it [01:48,  6.62it/s]"
     ]
    },
    {
     "name": "stdout",
     "output_type": "stream",
     "text": [
      "Epoch: [42]  [ 700/2437]  eta: 0:04:27  lr: 0.000001  loss: 0.5188 (0.6401)  bbox_regression: 0.1208 (0.1482)  classification: 0.3678 (0.4918)  time: 0.1508  data: 0.0415  max mem: 1250\n"
     ]
    },
    {
     "name": "stderr",
     "output_type": "stream",
     "text": [
      "802it [02:03,  6.67it/s]"
     ]
    },
    {
     "name": "stdout",
     "output_type": "stream",
     "text": [
      "Epoch: [42]  [ 800/2437]  eta: 0:04:11  lr: 0.000001  loss: 0.6634 (0.6437)  bbox_regression: 0.1504 (0.1486)  classification: 0.4619 (0.4951)  time: 0.1526  data: 0.0436  max mem: 1250\n"
     ]
    },
    {
     "name": "stderr",
     "output_type": "stream",
     "text": [
      "902it [02:19,  6.08it/s]"
     ]
    },
    {
     "name": "stdout",
     "output_type": "stream",
     "text": [
      "Epoch: [42]  [ 900/2437]  eta: 0:03:57  lr: 0.000001  loss: 0.5572 (0.6439)  bbox_regression: 0.1064 (0.1477)  classification: 0.4146 (0.4962)  time: 0.1585  data: 0.0434  max mem: 1250\n"
     ]
    },
    {
     "name": "stderr",
     "output_type": "stream",
     "text": [
      "1002it [02:35,  6.44it/s]"
     ]
    },
    {
     "name": "stdout",
     "output_type": "stream",
     "text": [
      "Epoch: [42]  [1000/2437]  eta: 0:03:42  lr: 0.000001  loss: 0.5083 (0.6419)  bbox_regression: 0.1284 (0.1467)  classification: 0.4057 (0.4951)  time: 0.1544  data: 0.0449  max mem: 1250\n"
     ]
    },
    {
     "name": "stderr",
     "output_type": "stream",
     "text": [
      "1102it [02:50,  6.46it/s]"
     ]
    },
    {
     "name": "stdout",
     "output_type": "stream",
     "text": [
      "Epoch: [42]  [1100/2437]  eta: 0:03:26  lr: 0.000001  loss: 0.6100 (0.6437)  bbox_regression: 0.1449 (0.1475)  classification: 0.4820 (0.4962)  time: 0.1534  data: 0.0432  max mem: 1250\n"
     ]
    },
    {
     "name": "stderr",
     "output_type": "stream",
     "text": [
      "1202it [03:06,  5.91it/s]"
     ]
    },
    {
     "name": "stdout",
     "output_type": "stream",
     "text": [
      "Epoch: [42]  [1200/2437]  eta: 0:03:11  lr: 0.000001  loss: 0.6024 (0.6434)  bbox_regression: 0.1459 (0.1481)  classification: 0.4499 (0.4953)  time: 0.1622  data: 0.0503  max mem: 1250\n"
     ]
    },
    {
     "name": "stderr",
     "output_type": "stream",
     "text": [
      "1302it [03:21,  6.42it/s]"
     ]
    },
    {
     "name": "stdout",
     "output_type": "stream",
     "text": [
      "Epoch: [42]  [1300/2437]  eta: 0:02:56  lr: 0.000001  loss: 0.5987 (0.6424)  bbox_regression: 0.1327 (0.1482)  classification: 0.4523 (0.4942)  time: 0.1571  data: 0.0455  max mem: 1250\n"
     ]
    },
    {
     "name": "stderr",
     "output_type": "stream",
     "text": [
      "1402it [03:37,  6.40it/s]"
     ]
    },
    {
     "name": "stdout",
     "output_type": "stream",
     "text": [
      "Epoch: [42]  [1400/2437]  eta: 0:02:40  lr: 0.000001  loss: 0.6744 (0.6465)  bbox_regression: 0.1472 (0.1495)  classification: 0.4858 (0.4970)  time: 0.1536  data: 0.0432  max mem: 1250\n"
     ]
    },
    {
     "name": "stderr",
     "output_type": "stream",
     "text": [
      "1502it [03:52,  6.55it/s]"
     ]
    },
    {
     "name": "stdout",
     "output_type": "stream",
     "text": [
      "Epoch: [42]  [1500/2437]  eta: 0:02:25  lr: 0.000001  loss: 0.5976 (0.6464)  bbox_regression: 0.1542 (0.1497)  classification: 0.4148 (0.4967)  time: 0.1522  data: 0.0429  max mem: 1250\n"
     ]
    },
    {
     "name": "stderr",
     "output_type": "stream",
     "text": [
      "1602it [04:08,  6.49it/s]"
     ]
    },
    {
     "name": "stdout",
     "output_type": "stream",
     "text": [
      "Epoch: [42]  [1600/2437]  eta: 0:02:09  lr: 0.000001  loss: 0.6361 (0.6471)  bbox_regression: 0.1431 (0.1496)  classification: 0.4930 (0.4975)  time: 0.1531  data: 0.0436  max mem: 1250\n"
     ]
    },
    {
     "name": "stderr",
     "output_type": "stream",
     "text": [
      "1702it [04:23,  6.54it/s]"
     ]
    },
    {
     "name": "stdout",
     "output_type": "stream",
     "text": [
      "Epoch: [42]  [1700/2437]  eta: 0:01:54  lr: 0.000001  loss: 0.5825 (0.6475)  bbox_regression: 0.1286 (0.1496)  classification: 0.4583 (0.4979)  time: 0.1537  data: 0.0434  max mem: 1250\n"
     ]
    },
    {
     "name": "stderr",
     "output_type": "stream",
     "text": [
      "1802it [04:39,  6.60it/s]"
     ]
    },
    {
     "name": "stdout",
     "output_type": "stream",
     "text": [
      "Epoch: [42]  [1800/2437]  eta: 0:01:38  lr: 0.000001  loss: 0.5262 (0.6453)  bbox_regression: 0.1467 (0.1490)  classification: 0.3854 (0.4963)  time: 0.1542  data: 0.0430  max mem: 1250\n"
     ]
    },
    {
     "name": "stderr",
     "output_type": "stream",
     "text": [
      "1902it [04:54,  6.51it/s]"
     ]
    },
    {
     "name": "stdout",
     "output_type": "stream",
     "text": [
      "Epoch: [42]  [1900/2437]  eta: 0:01:23  lr: 0.000001  loss: 0.4856 (0.6465)  bbox_regression: 0.1300 (0.1494)  classification: 0.3743 (0.4971)  time: 0.1543  data: 0.0430  max mem: 1250\n"
     ]
    },
    {
     "name": "stderr",
     "output_type": "stream",
     "text": [
      "2002it [05:10,  6.67it/s]"
     ]
    },
    {
     "name": "stdout",
     "output_type": "stream",
     "text": [
      "Epoch: [42]  [2000/2437]  eta: 0:01:07  lr: 0.000001  loss: 0.6008 (0.6485)  bbox_regression: 0.1320 (0.1502)  classification: 0.4484 (0.4983)  time: 0.1533  data: 0.0444  max mem: 1250\n"
     ]
    },
    {
     "name": "stderr",
     "output_type": "stream",
     "text": [
      "2102it [05:25,  6.42it/s]"
     ]
    },
    {
     "name": "stdout",
     "output_type": "stream",
     "text": [
      "Epoch: [42]  [2100/2437]  eta: 0:00:52  lr: 0.000001  loss: 0.5173 (0.6484)  bbox_regression: 0.1438 (0.1501)  classification: 0.3857 (0.4983)  time: 0.1541  data: 0.0421  max mem: 1250\n"
     ]
    },
    {
     "name": "stderr",
     "output_type": "stream",
     "text": [
      "2202it [05:40,  6.66it/s]"
     ]
    },
    {
     "name": "stdout",
     "output_type": "stream",
     "text": [
      "Epoch: [42]  [2200/2437]  eta: 0:00:36  lr: 0.000001  loss: 0.5301 (0.6491)  bbox_regression: 0.1441 (0.1500)  classification: 0.4054 (0.4991)  time: 0.1518  data: 0.0417  max mem: 1250\n"
     ]
    },
    {
     "name": "stderr",
     "output_type": "stream",
     "text": [
      "2302it [05:56,  6.56it/s]"
     ]
    },
    {
     "name": "stdout",
     "output_type": "stream",
     "text": [
      "Epoch: [42]  [2300/2437]  eta: 0:00:21  lr: 0.000001  loss: 0.5203 (0.6499)  bbox_regression: 0.1285 (0.1503)  classification: 0.4025 (0.4996)  time: 0.1530  data: 0.0423  max mem: 1250\n"
     ]
    },
    {
     "name": "stderr",
     "output_type": "stream",
     "text": [
      "2402it [06:12,  6.61it/s]"
     ]
    },
    {
     "name": "stdout",
     "output_type": "stream",
     "text": [
      "Epoch: [42]  [2400/2437]  eta: 0:00:05  lr: 0.000001  loss: 0.5425 (0.6512)  bbox_regression: 0.1462 (0.1510)  classification: 0.4439 (0.5002)  time: 0.1542  data: 0.0434  max mem: 1250\n"
     ]
    },
    {
     "name": "stderr",
     "output_type": "stream",
     "text": [
      "2437it [06:17,  6.46it/s]\n"
     ]
    },
    {
     "name": "stdout",
     "output_type": "stream",
     "text": [
      "Epoch: [42]  [2436/2437]  eta: 0:00:00  lr: 0.000001  loss: 0.5532 (0.6510)  bbox_regression: 0.1465 (0.1509)  classification: 0.4288 (0.5000)  time: 0.1508  data: 0.0433  max mem: 1250\n",
      "flag\n",
      "Epoch: [42] Total time: 0:06:17 (0.1549 s / it)\n",
      "saved dict\n",
      "creating index...\n",
      "index created!\n",
      "<torch.utils.data.dataloader.DataLoader object at 0x0000024C1147B310>\n",
      "Test:  [  0/100]  eta: 0:00:03  model_time: 0.0244 (0.0244)  evaluator_time: 0.0010 (0.0010)  time: 0.0390  data: 0.0135  max mem: 1250\n",
      "Test:  [ 99/100]  eta: 0:00:00  model_time: 0.0310 (0.0301)  evaluator_time: 0.0010 (0.0007)  time: 0.0457  data: 0.0131  max mem: 1250\n",
      "flag\n",
      "Test: Total time: 0:00:04 (0.0449 s / it)\n",
      "Averaged stats: model_time: 0.0310 (0.0301)  evaluator_time: 0.0010 (0.0007)\n",
      "Accumulating evaluation results...\n",
      "DONE (t=0.01s).\n",
      "IoU metric: bbox\n",
      " Average Precision  (AP) @[ IoU=0.50:0.95 | area=   all | maxDets=100 ] = 0.764\n",
      " Average Precision  (AP) @[ IoU=0.50      | area=   all | maxDets=100 ] = 0.929\n",
      " Average Precision  (AP) @[ IoU=0.75      | area=   all | maxDets=100 ] = 0.926\n",
      " Average Precision  (AP) @[ IoU=0.50:0.95 | area= small | maxDets=100 ] = -1.000\n",
      " Average Precision  (AP) @[ IoU=0.50:0.95 | area=medium | maxDets=100 ] = 0.000\n",
      " Average Precision  (AP) @[ IoU=0.50:0.95 | area= large | maxDets=100 ] = 0.768\n",
      " Average Recall     (AR) @[ IoU=0.50:0.95 | area=   all | maxDets=  1 ] = 0.795\n",
      " Average Recall     (AR) @[ IoU=0.50:0.95 | area=   all | maxDets= 10 ] = 0.804\n",
      " Average Recall     (AR) @[ IoU=0.50:0.95 | area=   all | maxDets=100 ] = 0.804\n",
      " Average Recall     (AR) @[ IoU=0.50:0.95 | area= small | maxDets=100 ] = -1.000\n",
      " Average Recall     (AR) @[ IoU=0.50:0.95 | area=medium | maxDets=100 ] = 0.000\n",
      " Average Recall     (AR) @[ IoU=0.50:0.95 | area= large | maxDets=100 ] = 0.807\n",
      "creating index...\n",
      "index created!\n",
      "<torch.utils.data.dataloader.DataLoader object at 0x0000024C1147A470>\n",
      "Test:  [  0/100]  eta: 0:00:05  model_time: 0.0417 (0.0417)  evaluator_time: 0.0000 (0.0000)  time: 0.0557  data: 0.0125  max mem: 1250\n",
      "Test:  [ 99/100]  eta: 0:00:00  model_time: 0.0326 (0.0339)  evaluator_time: 0.0010 (0.0007)  time: 0.0468  data: 0.0128  max mem: 1250\n",
      "flag\n",
      "Test: Total time: 0:00:04 (0.0491 s / it)\n",
      "Averaged stats: model_time: 0.0326 (0.0339)  evaluator_time: 0.0010 (0.0007)\n",
      "Accumulating evaluation results...\n",
      "DONE (t=0.02s).\n",
      "IoU metric: bbox\n",
      " Average Precision  (AP) @[ IoU=0.50:0.95 | area=   all | maxDets=100 ] = 0.402\n",
      " Average Precision  (AP) @[ IoU=0.50      | area=   all | maxDets=100 ] = 0.610\n",
      " Average Precision  (AP) @[ IoU=0.75      | area=   all | maxDets=100 ] = 0.434\n",
      " Average Precision  (AP) @[ IoU=0.50:0.95 | area= small | maxDets=100 ] = -1.000\n",
      " Average Precision  (AP) @[ IoU=0.50:0.95 | area=medium | maxDets=100 ] = -1.000\n",
      " Average Precision  (AP) @[ IoU=0.50:0.95 | area= large | maxDets=100 ] = 0.402\n",
      " Average Recall     (AR) @[ IoU=0.50:0.95 | area=   all | maxDets=  1 ] = 0.509\n",
      " Average Recall     (AR) @[ IoU=0.50:0.95 | area=   all | maxDets= 10 ] = 0.531\n",
      " Average Recall     (AR) @[ IoU=0.50:0.95 | area=   all | maxDets=100 ] = 0.531\n",
      " Average Recall     (AR) @[ IoU=0.50:0.95 | area= small | maxDets=100 ] = -1.000\n",
      " Average Recall     (AR) @[ IoU=0.50:0.95 | area=medium | maxDets=100 ] = -1.000\n",
      " Average Recall     (AR) @[ IoU=0.50:0.95 | area= large | maxDets=100 ] = 0.531\n"
     ]
    },
    {
     "name": "stderr",
     "output_type": "stream",
     "text": [
      "0it [00:00, ?it/s]"
     ]
    },
    {
     "name": "stdout",
     "output_type": "stream",
     "text": [
      "<torch.utils.data.dataloader.DataLoader object at 0x0000024C1147A620>\n"
     ]
    },
    {
     "name": "stderr",
     "output_type": "stream",
     "text": [
      "2it [00:00,  5.36it/s]"
     ]
    },
    {
     "name": "stdout",
     "output_type": "stream",
     "text": [
      "Epoch: [43]  [   0/2437]  eta: 0:08:46  lr: 0.000001  loss: 0.4977 (0.4977)  bbox_regression: 0.1460 (0.1460)  classification: 0.3517 (0.3517)  time: 0.2161  data: 0.0507  max mem: 1250\n"
     ]
    },
    {
     "name": "stderr",
     "output_type": "stream",
     "text": [
      "102it [00:15,  6.51it/s]"
     ]
    },
    {
     "name": "stdout",
     "output_type": "stream",
     "text": [
      "Epoch: [43]  [ 100/2437]  eta: 0:06:02  lr: 0.000001  loss: 0.6946 (0.6438)  bbox_regression: 0.1469 (0.1618)  classification: 0.4738 (0.4820)  time: 0.1543  data: 0.0436  max mem: 1250\n"
     ]
    },
    {
     "name": "stderr",
     "output_type": "stream",
     "text": [
      "202it [00:31,  6.51it/s]"
     ]
    },
    {
     "name": "stdout",
     "output_type": "stream",
     "text": [
      "Epoch: [43]  [ 200/2437]  eta: 0:05:44  lr: 0.000001  loss: 0.5906 (0.6509)  bbox_regression: 0.1280 (0.1560)  classification: 0.4816 (0.4950)  time: 0.1525  data: 0.0430  max mem: 1250\n"
     ]
    },
    {
     "name": "stderr",
     "output_type": "stream",
     "text": [
      "302it [00:46,  6.53it/s]"
     ]
    },
    {
     "name": "stdout",
     "output_type": "stream",
     "text": [
      "Epoch: [43]  [ 300/2437]  eta: 0:05:29  lr: 0.000001  loss: 0.5556 (0.6434)  bbox_regression: 0.1264 (0.1526)  classification: 0.4139 (0.4908)  time: 0.1532  data: 0.0437  max mem: 1250\n"
     ]
    },
    {
     "name": "stderr",
     "output_type": "stream",
     "text": [
      "402it [01:01,  7.32it/s]"
     ]
    },
    {
     "name": "stdout",
     "output_type": "stream",
     "text": [
      "Epoch: [43]  [ 400/2437]  eta: 0:05:10  lr: 0.000001  loss: 0.4917 (0.6418)  bbox_regression: 0.1318 (0.1522)  classification: 0.3666 (0.4896)  time: 0.1396  data: 0.0416  max mem: 1250\n"
     ]
    },
    {
     "name": "stderr",
     "output_type": "stream",
     "text": [
      "502it [01:15,  7.17it/s]"
     ]
    },
    {
     "name": "stdout",
     "output_type": "stream",
     "text": [
      "Epoch: [43]  [ 500/2437]  eta: 0:04:50  lr: 0.000001  loss: 0.5501 (0.6519)  bbox_regression: 0.1544 (0.1520)  classification: 0.4305 (0.4999)  time: 0.1399  data: 0.0413  max mem: 1250\n"
     ]
    },
    {
     "name": "stderr",
     "output_type": "stream",
     "text": [
      "602it [01:29,  7.25it/s]"
     ]
    },
    {
     "name": "stdout",
     "output_type": "stream",
     "text": [
      "Epoch: [43]  [ 600/2437]  eta: 0:04:31  lr: 0.000001  loss: 0.5099 (0.6509)  bbox_regression: 0.1179 (0.1515)  classification: 0.3875 (0.4994)  time: 0.1364  data: 0.0394  max mem: 1250\n"
     ]
    },
    {
     "name": "stderr",
     "output_type": "stream",
     "text": [
      "702it [01:42,  7.28it/s]"
     ]
    },
    {
     "name": "stdout",
     "output_type": "stream",
     "text": [
      "Epoch: [43]  [ 700/2437]  eta: 0:04:14  lr: 0.000001  loss: 0.5930 (0.6555)  bbox_regression: 0.1399 (0.1519)  classification: 0.4452 (0.5035)  time: 0.1383  data: 0.0412  max mem: 1250\n"
     ]
    },
    {
     "name": "stderr",
     "output_type": "stream",
     "text": [
      "802it [01:56,  7.22it/s]"
     ]
    },
    {
     "name": "stdout",
     "output_type": "stream",
     "text": [
      "Epoch: [43]  [ 800/2437]  eta: 0:03:58  lr: 0.000001  loss: 0.5574 (0.6574)  bbox_regression: 0.1351 (0.1515)  classification: 0.4237 (0.5059)  time: 0.1391  data: 0.0415  max mem: 1250\n"
     ]
    },
    {
     "name": "stderr",
     "output_type": "stream",
     "text": [
      "902it [02:10,  7.50it/s]"
     ]
    },
    {
     "name": "stdout",
     "output_type": "stream",
     "text": [
      "Epoch: [43]  [ 900/2437]  eta: 0:03:42  lr: 0.000001  loss: 0.5716 (0.6556)  bbox_regression: 0.1455 (0.1516)  classification: 0.4028 (0.5040)  time: 0.1391  data: 0.0407  max mem: 1250\n"
     ]
    },
    {
     "name": "stderr",
     "output_type": "stream",
     "text": [
      "1002it [02:24,  7.29it/s]"
     ]
    },
    {
     "name": "stdout",
     "output_type": "stream",
     "text": [
      "Epoch: [43]  [1000/2437]  eta: 0:03:26  lr: 0.000001  loss: 0.5587 (0.6508)  bbox_regression: 0.1542 (0.1514)  classification: 0.4044 (0.4994)  time: 0.1371  data: 0.0405  max mem: 1250\n"
     ]
    },
    {
     "name": "stderr",
     "output_type": "stream",
     "text": [
      "1102it [02:38,  7.31it/s]"
     ]
    },
    {
     "name": "stdout",
     "output_type": "stream",
     "text": [
      "Epoch: [43]  [1100/2437]  eta: 0:03:11  lr: 0.000001  loss: 0.4834 (0.6523)  bbox_regression: 0.1324 (0.1520)  classification: 0.3249 (0.5003)  time: 0.1372  data: 0.0407  max mem: 1250\n"
     ]
    },
    {
     "name": "stderr",
     "output_type": "stream",
     "text": [
      "1202it [02:52,  7.08it/s]"
     ]
    },
    {
     "name": "stdout",
     "output_type": "stream",
     "text": [
      "Epoch: [43]  [1200/2437]  eta: 0:02:57  lr: 0.000001  loss: 0.6492 (0.6522)  bbox_regression: 0.1367 (0.1517)  classification: 0.5275 (0.5005)  time: 0.1375  data: 0.0400  max mem: 1250\n"
     ]
    },
    {
     "name": "stderr",
     "output_type": "stream",
     "text": [
      "1302it [03:05,  7.22it/s]"
     ]
    },
    {
     "name": "stdout",
     "output_type": "stream",
     "text": [
      "Epoch: [43]  [1300/2437]  eta: 0:02:42  lr: 0.000001  loss: 0.4854 (0.6499)  bbox_regression: 0.1367 (0.1509)  classification: 0.3470 (0.4990)  time: 0.1380  data: 0.0418  max mem: 1250\n"
     ]
    },
    {
     "name": "stderr",
     "output_type": "stream",
     "text": [
      "1402it [03:19,  7.22it/s]"
     ]
    },
    {
     "name": "stdout",
     "output_type": "stream",
     "text": [
      "Epoch: [43]  [1400/2437]  eta: 0:02:27  lr: 0.000001  loss: 0.6178 (0.6481)  bbox_regression: 0.1344 (0.1500)  classification: 0.4464 (0.4981)  time: 0.1390  data: 0.0405  max mem: 1250\n"
     ]
    },
    {
     "name": "stderr",
     "output_type": "stream",
     "text": [
      "1502it [03:33,  7.25it/s]"
     ]
    },
    {
     "name": "stdout",
     "output_type": "stream",
     "text": [
      "Epoch: [43]  [1500/2437]  eta: 0:02:13  lr: 0.000001  loss: 0.5553 (0.6478)  bbox_regression: 0.1473 (0.1501)  classification: 0.4209 (0.4977)  time: 0.1382  data: 0.0416  max mem: 1250\n"
     ]
    },
    {
     "name": "stderr",
     "output_type": "stream",
     "text": [
      "1602it [03:47,  7.20it/s]"
     ]
    },
    {
     "name": "stdout",
     "output_type": "stream",
     "text": [
      "Epoch: [43]  [1600/2437]  eta: 0:01:58  lr: 0.000001  loss: 0.5559 (0.6495)  bbox_regression: 0.1236 (0.1505)  classification: 0.4369 (0.4990)  time: 0.1374  data: 0.0414  max mem: 1250\n"
     ]
    },
    {
     "name": "stderr",
     "output_type": "stream",
     "text": [
      "1702it [04:01,  7.21it/s]"
     ]
    },
    {
     "name": "stdout",
     "output_type": "stream",
     "text": [
      "Epoch: [43]  [1700/2437]  eta: 0:01:44  lr: 0.000001  loss: 0.5450 (0.6487)  bbox_regression: 0.1301 (0.1504)  classification: 0.4149 (0.4983)  time: 0.1365  data: 0.0405  max mem: 1250\n"
     ]
    },
    {
     "name": "stderr",
     "output_type": "stream",
     "text": [
      "1802it [04:14,  7.35it/s]"
     ]
    },
    {
     "name": "stdout",
     "output_type": "stream",
     "text": [
      "Epoch: [43]  [1800/2437]  eta: 0:01:30  lr: 0.000001  loss: 0.6475 (0.6475)  bbox_regression: 0.1438 (0.1503)  classification: 0.4972 (0.4972)  time: 0.1371  data: 0.0403  max mem: 1250\n"
     ]
    },
    {
     "name": "stderr",
     "output_type": "stream",
     "text": [
      "1902it [04:28,  7.13it/s]"
     ]
    },
    {
     "name": "stdout",
     "output_type": "stream",
     "text": [
      "Epoch: [43]  [1900/2437]  eta: 0:01:15  lr: 0.000001  loss: 0.6389 (0.6481)  bbox_regression: 0.1378 (0.1503)  classification: 0.4865 (0.4978)  time: 0.1386  data: 0.0415  max mem: 1250\n"
     ]
    },
    {
     "name": "stderr",
     "output_type": "stream",
     "text": [
      "2002it [04:42,  7.38it/s]"
     ]
    },
    {
     "name": "stdout",
     "output_type": "stream",
     "text": [
      "Epoch: [43]  [2000/2437]  eta: 0:01:01  lr: 0.000001  loss: 0.6923 (0.6481)  bbox_regression: 0.1407 (0.1505)  classification: 0.5475 (0.4975)  time: 0.1384  data: 0.0419  max mem: 1250\n"
     ]
    },
    {
     "name": "stderr",
     "output_type": "stream",
     "text": [
      "2102it [04:55,  7.37it/s]"
     ]
    },
    {
     "name": "stdout",
     "output_type": "stream",
     "text": [
      "Epoch: [43]  [2100/2437]  eta: 0:00:47  lr: 0.000001  loss: 0.5929 (0.6486)  bbox_regression: 0.1316 (0.1510)  classification: 0.4331 (0.4976)  time: 0.1374  data: 0.0407  max mem: 1250\n"
     ]
    },
    {
     "name": "stderr",
     "output_type": "stream",
     "text": [
      "2202it [05:09,  7.12it/s]"
     ]
    },
    {
     "name": "stdout",
     "output_type": "stream",
     "text": [
      "Epoch: [43]  [2200/2437]  eta: 0:00:33  lr: 0.000001  loss: 0.5743 (0.6481)  bbox_regression: 0.1177 (0.1506)  classification: 0.4506 (0.4975)  time: 0.1368  data: 0.0393  max mem: 1250\n"
     ]
    },
    {
     "name": "stderr",
     "output_type": "stream",
     "text": [
      "2302it [05:23,  7.20it/s]"
     ]
    },
    {
     "name": "stdout",
     "output_type": "stream",
     "text": [
      "Epoch: [43]  [2300/2437]  eta: 0:00:19  lr: 0.000001  loss: 0.6047 (0.6482)  bbox_regression: 0.1582 (0.1507)  classification: 0.4514 (0.4975)  time: 0.1376  data: 0.0407  max mem: 1250\n"
     ]
    },
    {
     "name": "stderr",
     "output_type": "stream",
     "text": [
      "2402it [05:37,  7.12it/s]"
     ]
    },
    {
     "name": "stdout",
     "output_type": "stream",
     "text": [
      "Epoch: [43]  [2400/2437]  eta: 0:00:05  lr: 0.000001  loss: 0.5594 (0.6489)  bbox_regression: 0.1340 (0.1510)  classification: 0.4433 (0.4980)  time: 0.1385  data: 0.0415  max mem: 1250\n"
     ]
    },
    {
     "name": "stderr",
     "output_type": "stream",
     "text": [
      "2437it [05:42,  7.12it/s]\n"
     ]
    },
    {
     "name": "stdout",
     "output_type": "stream",
     "text": [
      "Epoch: [43]  [2436/2437]  eta: 0:00:00  lr: 0.000001  loss: 0.5402 (0.6498)  bbox_regression: 0.1345 (0.1511)  classification: 0.3933 (0.4987)  time: 0.1345  data: 0.0394  max mem: 1250\n",
      "flag\n",
      "Epoch: [43] Total time: 0:05:42 (0.1404 s / it)\n",
      "saved dict\n",
      "creating index...\n",
      "index created!\n",
      "<torch.utils.data.dataloader.DataLoader object at 0x0000024C1147B310>\n",
      "Test:  [  0/100]  eta: 0:00:04  model_time: 0.0290 (0.0290)  evaluator_time: 0.0010 (0.0010)  time: 0.0430  data: 0.0120  max mem: 1250\n",
      "Test:  [ 99/100]  eta: 0:00:00  model_time: 0.0280 (0.0275)  evaluator_time: 0.0000 (0.0005)  time: 0.0435  data: 0.0122  max mem: 1250\n",
      "flag\n",
      "Test: Total time: 0:00:04 (0.0413 s / it)\n",
      "Averaged stats: model_time: 0.0280 (0.0275)  evaluator_time: 0.0000 (0.0005)\n",
      "Accumulating evaluation results...\n",
      "DONE (t=0.01s).\n",
      "IoU metric: bbox\n",
      " Average Precision  (AP) @[ IoU=0.50:0.95 | area=   all | maxDets=100 ] = 0.766\n",
      " Average Precision  (AP) @[ IoU=0.50      | area=   all | maxDets=100 ] = 0.929\n",
      " Average Precision  (AP) @[ IoU=0.75      | area=   all | maxDets=100 ] = 0.926\n",
      " Average Precision  (AP) @[ IoU=0.50:0.95 | area= small | maxDets=100 ] = -1.000\n",
      " Average Precision  (AP) @[ IoU=0.50:0.95 | area=medium | maxDets=100 ] = 0.000\n",
      " Average Precision  (AP) @[ IoU=0.50:0.95 | area= large | maxDets=100 ] = 0.769\n",
      " Average Recall     (AR) @[ IoU=0.50:0.95 | area=   all | maxDets=  1 ] = 0.796\n",
      " Average Recall     (AR) @[ IoU=0.50:0.95 | area=   all | maxDets= 10 ] = 0.805\n",
      " Average Recall     (AR) @[ IoU=0.50:0.95 | area=   all | maxDets=100 ] = 0.805\n",
      " Average Recall     (AR) @[ IoU=0.50:0.95 | area= small | maxDets=100 ] = -1.000\n",
      " Average Recall     (AR) @[ IoU=0.50:0.95 | area=medium | maxDets=100 ] = 0.000\n",
      " Average Recall     (AR) @[ IoU=0.50:0.95 | area= large | maxDets=100 ] = 0.808\n",
      "creating index...\n",
      "index created!\n",
      "<torch.utils.data.dataloader.DataLoader object at 0x0000024C1147A470>\n",
      "Test:  [  0/100]  eta: 0:00:05  model_time: 0.0365 (0.0365)  evaluator_time: 0.0010 (0.0010)  time: 0.0515  data: 0.0130  max mem: 1250\n",
      "Test:  [ 99/100]  eta: 0:00:00  model_time: 0.0295 (0.0325)  evaluator_time: 0.0010 (0.0006)  time: 0.0440  data: 0.0122  max mem: 1250\n",
      "flag\n",
      "Test: Total time: 0:00:04 (0.0466 s / it)\n",
      "Averaged stats: model_time: 0.0295 (0.0325)  evaluator_time: 0.0010 (0.0006)\n",
      "Accumulating evaluation results...\n",
      "DONE (t=0.02s).\n",
      "IoU metric: bbox\n",
      " Average Precision  (AP) @[ IoU=0.50:0.95 | area=   all | maxDets=100 ] = 0.402\n",
      " Average Precision  (AP) @[ IoU=0.50      | area=   all | maxDets=100 ] = 0.611\n",
      " Average Precision  (AP) @[ IoU=0.75      | area=   all | maxDets=100 ] = 0.434\n",
      " Average Precision  (AP) @[ IoU=0.50:0.95 | area= small | maxDets=100 ] = -1.000\n",
      " Average Precision  (AP) @[ IoU=0.50:0.95 | area=medium | maxDets=100 ] = -1.000\n",
      " Average Precision  (AP) @[ IoU=0.50:0.95 | area= large | maxDets=100 ] = 0.402\n",
      " Average Recall     (AR) @[ IoU=0.50:0.95 | area=   all | maxDets=  1 ] = 0.509\n",
      " Average Recall     (AR) @[ IoU=0.50:0.95 | area=   all | maxDets= 10 ] = 0.531\n",
      " Average Recall     (AR) @[ IoU=0.50:0.95 | area=   all | maxDets=100 ] = 0.531\n",
      " Average Recall     (AR) @[ IoU=0.50:0.95 | area= small | maxDets=100 ] = -1.000\n",
      " Average Recall     (AR) @[ IoU=0.50:0.95 | area=medium | maxDets=100 ] = -1.000\n",
      " Average Recall     (AR) @[ IoU=0.50:0.95 | area= large | maxDets=100 ] = 0.531\n"
     ]
    },
    {
     "name": "stderr",
     "output_type": "stream",
     "text": [
      "0it [00:00, ?it/s]"
     ]
    },
    {
     "name": "stdout",
     "output_type": "stream",
     "text": [
      "<torch.utils.data.dataloader.DataLoader object at 0x0000024C1147A620>\n"
     ]
    },
    {
     "name": "stderr",
     "output_type": "stream",
     "text": [
      "2it [00:00,  4.99it/s]"
     ]
    },
    {
     "name": "stdout",
     "output_type": "stream",
     "text": [
      "Epoch: [44]  [   0/2437]  eta: 0:08:53  lr: 0.000001  loss: 0.9323 (0.9323)  bbox_regression: 0.2563 (0.2563)  classification: 0.6760 (0.6760)  time: 0.2190  data: 0.0465  max mem: 1250\n"
     ]
    },
    {
     "name": "stderr",
     "output_type": "stream",
     "text": [
      "102it [00:14,  7.30it/s]"
     ]
    },
    {
     "name": "stdout",
     "output_type": "stream",
     "text": [
      "Epoch: [44]  [ 100/2437]  eta: 0:05:29  lr: 0.000001  loss: 0.6205 (0.7178)  bbox_regression: 0.1300 (0.1587)  classification: 0.4546 (0.5591)  time: 0.1383  data: 0.0404  max mem: 1250\n"
     ]
    },
    {
     "name": "stderr",
     "output_type": "stream",
     "text": [
      "202it [00:28,  7.22it/s]"
     ]
    },
    {
     "name": "stdout",
     "output_type": "stream",
     "text": [
      "Epoch: [44]  [ 200/2437]  eta: 0:05:11  lr: 0.000001  loss: 0.5932 (0.6702)  bbox_regression: 0.1367 (0.1511)  classification: 0.4431 (0.5191)  time: 0.1363  data: 0.0396  max mem: 1250\n"
     ]
    },
    {
     "name": "stderr",
     "output_type": "stream",
     "text": [
      "302it [00:41,  7.29it/s]"
     ]
    },
    {
     "name": "stdout",
     "output_type": "stream",
     "text": [
      "Epoch: [44]  [ 300/2437]  eta: 0:04:56  lr: 0.000001  loss: 0.5820 (0.6537)  bbox_regression: 0.1454 (0.1496)  classification: 0.3939 (0.5041)  time: 0.1418  data: 0.0420  max mem: 1250\n"
     ]
    },
    {
     "name": "stderr",
     "output_type": "stream",
     "text": [
      "402it [00:55,  7.14it/s]"
     ]
    },
    {
     "name": "stdout",
     "output_type": "stream",
     "text": [
      "Epoch: [44]  [ 400/2437]  eta: 0:04:41  lr: 0.000001  loss: 0.5477 (0.6517)  bbox_regression: 0.1285 (0.1477)  classification: 0.4192 (0.5041)  time: 0.1387  data: 0.0410  max mem: 1250\n"
     ]
    },
    {
     "name": "stderr",
     "output_type": "stream",
     "text": [
      "502it [01:09,  7.61it/s]"
     ]
    },
    {
     "name": "stdout",
     "output_type": "stream",
     "text": [
      "Epoch: [44]  [ 500/2437]  eta: 0:04:27  lr: 0.000001  loss: 0.5503 (0.6540)  bbox_regression: 0.1468 (0.1485)  classification: 0.3996 (0.5055)  time: 0.1352  data: 0.0395  max mem: 1250\n"
     ]
    },
    {
     "name": "stderr",
     "output_type": "stream",
     "text": [
      "602it [01:23,  7.04it/s]"
     ]
    },
    {
     "name": "stdout",
     "output_type": "stream",
     "text": [
      "Epoch: [44]  [ 600/2437]  eta: 0:04:13  lr: 0.000001  loss: 0.5483 (0.6596)  bbox_regression: 0.1366 (0.1503)  classification: 0.4283 (0.5092)  time: 0.1383  data: 0.0408  max mem: 1250\n"
     ]
    },
    {
     "name": "stderr",
     "output_type": "stream",
     "text": [
      "702it [01:36,  7.31it/s]"
     ]
    },
    {
     "name": "stdout",
     "output_type": "stream",
     "text": [
      "Epoch: [44]  [ 700/2437]  eta: 0:03:59  lr: 0.000001  loss: 0.5416 (0.6565)  bbox_regression: 0.1384 (0.1505)  classification: 0.4056 (0.5060)  time: 0.1367  data: 0.0400  max mem: 1250\n"
     ]
    },
    {
     "name": "stderr",
     "output_type": "stream",
     "text": [
      "802it [01:50,  5.97it/s]"
     ]
    },
    {
     "name": "stdout",
     "output_type": "stream",
     "text": [
      "Epoch: [44]  [ 800/2437]  eta: 0:03:45  lr: 0.000001  loss: 0.5847 (0.6558)  bbox_regression: 0.1449 (0.1504)  classification: 0.4117 (0.5053)  time: 0.1454  data: 0.0479  max mem: 1250\n"
     ]
    },
    {
     "name": "stderr",
     "output_type": "stream",
     "text": [
      "902it [02:04,  7.35it/s]"
     ]
    },
    {
     "name": "stdout",
     "output_type": "stream",
     "text": [
      "Epoch: [44]  [ 900/2437]  eta: 0:03:32  lr: 0.000001  loss: 0.5807 (0.6523)  bbox_regression: 0.1206 (0.1505)  classification: 0.4255 (0.5018)  time: 0.1382  data: 0.0395  max mem: 1250\n"
     ]
    },
    {
     "name": "stderr",
     "output_type": "stream",
     "text": [
      "1002it [02:18,  7.23it/s]"
     ]
    },
    {
     "name": "stdout",
     "output_type": "stream",
     "text": [
      "Epoch: [44]  [1000/2437]  eta: 0:03:18  lr: 0.000001  loss: 0.5566 (0.6510)  bbox_regression: 0.1372 (0.1508)  classification: 0.4329 (0.5001)  time: 0.1391  data: 0.0418  max mem: 1250\n"
     ]
    },
    {
     "name": "stderr",
     "output_type": "stream",
     "text": [
      "1102it [02:31,  7.33it/s]"
     ]
    },
    {
     "name": "stdout",
     "output_type": "stream",
     "text": [
      "Epoch: [44]  [1100/2437]  eta: 0:03:04  lr: 0.000001  loss: 0.6469 (0.6539)  bbox_regression: 0.1284 (0.1510)  classification: 0.5185 (0.5029)  time: 0.1378  data: 0.0413  max mem: 1250\n"
     ]
    },
    {
     "name": "stderr",
     "output_type": "stream",
     "text": [
      "1202it [02:45,  7.33it/s]"
     ]
    },
    {
     "name": "stdout",
     "output_type": "stream",
     "text": [
      "Epoch: [44]  [1200/2437]  eta: 0:02:50  lr: 0.000001  loss: 0.5528 (0.6536)  bbox_regression: 0.1373 (0.1509)  classification: 0.4246 (0.5028)  time: 0.1364  data: 0.0409  max mem: 1250\n"
     ]
    },
    {
     "name": "stderr",
     "output_type": "stream",
     "text": [
      "1302it [02:59,  7.35it/s]"
     ]
    },
    {
     "name": "stdout",
     "output_type": "stream",
     "text": [
      "Epoch: [44]  [1300/2437]  eta: 0:02:36  lr: 0.000001  loss: 0.5879 (0.6512)  bbox_regression: 0.1245 (0.1509)  classification: 0.4506 (0.5003)  time: 0.1363  data: 0.0393  max mem: 1250\n"
     ]
    },
    {
     "name": "stderr",
     "output_type": "stream",
     "text": [
      "1402it [03:13,  7.09it/s]"
     ]
    },
    {
     "name": "stdout",
     "output_type": "stream",
     "text": [
      "Epoch: [44]  [1400/2437]  eta: 0:02:22  lr: 0.000001  loss: 0.6770 (0.6564)  bbox_regression: 0.1656 (0.1521)  classification: 0.5733 (0.5043)  time: 0.1390  data: 0.0414  max mem: 1250\n"
     ]
    },
    {
     "name": "stderr",
     "output_type": "stream",
     "text": [
      "1502it [03:26,  7.42it/s]"
     ]
    },
    {
     "name": "stdout",
     "output_type": "stream",
     "text": [
      "Epoch: [44]  [1500/2437]  eta: 0:02:09  lr: 0.000001  loss: 0.5835 (0.6545)  bbox_regression: 0.1315 (0.1519)  classification: 0.4634 (0.5025)  time: 0.1354  data: 0.0389  max mem: 1250\n"
     ]
    },
    {
     "name": "stderr",
     "output_type": "stream",
     "text": [
      "1602it [03:40,  7.09it/s]"
     ]
    },
    {
     "name": "stdout",
     "output_type": "stream",
     "text": [
      "Epoch: [44]  [1600/2437]  eta: 0:01:55  lr: 0.000001  loss: 0.5661 (0.6554)  bbox_regression: 0.1457 (0.1520)  classification: 0.4424 (0.5034)  time: 0.1362  data: 0.0382  max mem: 1250\n"
     ]
    },
    {
     "name": "stderr",
     "output_type": "stream",
     "text": [
      "1702it [03:54,  7.44it/s]"
     ]
    },
    {
     "name": "stdout",
     "output_type": "stream",
     "text": [
      "Epoch: [44]  [1700/2437]  eta: 0:01:41  lr: 0.000001  loss: 0.6384 (0.6545)  bbox_regression: 0.1388 (0.1518)  classification: 0.4792 (0.5027)  time: 0.1351  data: 0.0395  max mem: 1250\n"
     ]
    },
    {
     "name": "stderr",
     "output_type": "stream",
     "text": [
      "1802it [04:08,  7.26it/s]"
     ]
    },
    {
     "name": "stdout",
     "output_type": "stream",
     "text": [
      "Epoch: [44]  [1800/2437]  eta: 0:01:27  lr: 0.000001  loss: 0.4980 (0.6533)  bbox_regression: 0.1176 (0.1515)  classification: 0.3460 (0.5018)  time: 0.1415  data: 0.0452  max mem: 1250\n"
     ]
    },
    {
     "name": "stderr",
     "output_type": "stream",
     "text": [
      "1902it [04:21,  7.47it/s]"
     ]
    },
    {
     "name": "stdout",
     "output_type": "stream",
     "text": [
      "Epoch: [44]  [1900/2437]  eta: 0:01:13  lr: 0.000001  loss: 0.4745 (0.6511)  bbox_regression: 0.1148 (0.1513)  classification: 0.3792 (0.4999)  time: 0.1356  data: 0.0392  max mem: 1250\n"
     ]
    },
    {
     "name": "stderr",
     "output_type": "stream",
     "text": [
      "2002it [04:35,  7.34it/s]"
     ]
    },
    {
     "name": "stdout",
     "output_type": "stream",
     "text": [
      "Epoch: [44]  [2000/2437]  eta: 0:01:00  lr: 0.000001  loss: 0.6154 (0.6512)  bbox_regression: 0.1472 (0.1518)  classification: 0.4462 (0.4994)  time: 0.1372  data: 0.0405  max mem: 1250\n"
     ]
    },
    {
     "name": "stderr",
     "output_type": "stream",
     "text": [
      "2102it [04:49,  7.46it/s]"
     ]
    },
    {
     "name": "stdout",
     "output_type": "stream",
     "text": [
      "Epoch: [44]  [2100/2437]  eta: 0:00:46  lr: 0.000001  loss: 0.5604 (0.6512)  bbox_regression: 0.1392 (0.1520)  classification: 0.4084 (0.4992)  time: 0.1367  data: 0.0413  max mem: 1250\n"
     ]
    },
    {
     "name": "stderr",
     "output_type": "stream",
     "text": [
      "2202it [05:02,  6.96it/s]"
     ]
    },
    {
     "name": "stdout",
     "output_type": "stream",
     "text": [
      "Epoch: [44]  [2200/2437]  eta: 0:00:32  lr: 0.000001  loss: 0.6856 (0.6510)  bbox_regression: 0.1547 (0.1518)  classification: 0.5238 (0.4992)  time: 0.1388  data: 0.0414  max mem: 1250\n"
     ]
    },
    {
     "name": "stderr",
     "output_type": "stream",
     "text": [
      "2302it [05:16,  7.36it/s]"
     ]
    },
    {
     "name": "stdout",
     "output_type": "stream",
     "text": [
      "Epoch: [44]  [2300/2437]  eta: 0:00:18  lr: 0.000001  loss: 0.5391 (0.6509)  bbox_regression: 0.1300 (0.1515)  classification: 0.4339 (0.4994)  time: 0.1374  data: 0.0404  max mem: 1250\n"
     ]
    },
    {
     "name": "stderr",
     "output_type": "stream",
     "text": [
      "2402it [05:30,  7.31it/s]"
     ]
    },
    {
     "name": "stdout",
     "output_type": "stream",
     "text": [
      "Epoch: [44]  [2400/2437]  eta: 0:00:05  lr: 0.000001  loss: 0.5514 (0.6521)  bbox_regression: 0.1391 (0.1516)  classification: 0.3963 (0.5005)  time: 0.1349  data: 0.0396  max mem: 1250\n"
     ]
    },
    {
     "name": "stderr",
     "output_type": "stream",
     "text": [
      "2437it [05:35,  7.27it/s]\n"
     ]
    },
    {
     "name": "stdout",
     "output_type": "stream",
     "text": [
      "Epoch: [44]  [2436/2437]  eta: 0:00:00  lr: 0.000001  loss: 0.7015 (0.6526)  bbox_regression: 0.1536 (0.1517)  classification: 0.5286 (0.5010)  time: 0.1322  data: 0.0385  max mem: 1250\n",
      "flag\n",
      "Epoch: [44] Total time: 0:05:35 (0.1375 s / it)\n",
      "saved dict\n",
      "creating index...\n",
      "index created!\n",
      "<torch.utils.data.dataloader.DataLoader object at 0x0000024C1147B310>\n",
      "Test:  [  0/100]  eta: 0:00:03  model_time: 0.0195 (0.0195)  evaluator_time: 0.0010 (0.0010)  time: 0.0335  data: 0.0120  max mem: 1250\n",
      "Test:  [ 99/100]  eta: 0:00:00  model_time: 0.0280 (0.0269)  evaluator_time: 0.0010 (0.0006)  time: 0.0417  data: 0.0122  max mem: 1250\n",
      "flag\n",
      "Test: Total time: 0:00:04 (0.0407 s / it)\n",
      "Averaged stats: model_time: 0.0280 (0.0269)  evaluator_time: 0.0010 (0.0006)\n",
      "Accumulating evaluation results...\n",
      "DONE (t=0.01s).\n",
      "IoU metric: bbox\n",
      " Average Precision  (AP) @[ IoU=0.50:0.95 | area=   all | maxDets=100 ] = 0.765\n",
      " Average Precision  (AP) @[ IoU=0.50      | area=   all | maxDets=100 ] = 0.929\n",
      " Average Precision  (AP) @[ IoU=0.75      | area=   all | maxDets=100 ] = 0.926\n",
      " Average Precision  (AP) @[ IoU=0.50:0.95 | area= small | maxDets=100 ] = -1.000\n",
      " Average Precision  (AP) @[ IoU=0.50:0.95 | area=medium | maxDets=100 ] = 0.000\n",
      " Average Precision  (AP) @[ IoU=0.50:0.95 | area= large | maxDets=100 ] = 0.768\n",
      " Average Recall     (AR) @[ IoU=0.50:0.95 | area=   all | maxDets=  1 ] = 0.795\n",
      " Average Recall     (AR) @[ IoU=0.50:0.95 | area=   all | maxDets= 10 ] = 0.804\n",
      " Average Recall     (AR) @[ IoU=0.50:0.95 | area=   all | maxDets=100 ] = 0.804\n",
      " Average Recall     (AR) @[ IoU=0.50:0.95 | area= small | maxDets=100 ] = -1.000\n",
      " Average Recall     (AR) @[ IoU=0.50:0.95 | area=medium | maxDets=100 ] = 0.000\n",
      " Average Recall     (AR) @[ IoU=0.50:0.95 | area= large | maxDets=100 ] = 0.807\n",
      "creating index...\n",
      "index created!\n",
      "<torch.utils.data.dataloader.DataLoader object at 0x0000024C1147A470>\n",
      "Test:  [  0/100]  eta: 0:00:04  model_time: 0.0360 (0.0360)  evaluator_time: 0.0000 (0.0000)  time: 0.0490  data: 0.0120  max mem: 1250\n",
      "Test:  [ 99/100]  eta: 0:00:00  model_time: 0.0300 (0.0325)  evaluator_time: 0.0010 (0.0006)  time: 0.0448  data: 0.0122  max mem: 1250\n",
      "flag\n",
      "Test: Total time: 0:00:04 (0.0467 s / it)\n",
      "Averaged stats: model_time: 0.0300 (0.0325)  evaluator_time: 0.0010 (0.0006)\n",
      "Accumulating evaluation results...\n",
      "DONE (t=0.02s).\n",
      "IoU metric: bbox\n",
      " Average Precision  (AP) @[ IoU=0.50:0.95 | area=   all | maxDets=100 ] = 0.402\n",
      " Average Precision  (AP) @[ IoU=0.50      | area=   all | maxDets=100 ] = 0.611\n",
      " Average Precision  (AP) @[ IoU=0.75      | area=   all | maxDets=100 ] = 0.434\n",
      " Average Precision  (AP) @[ IoU=0.50:0.95 | area= small | maxDets=100 ] = -1.000\n",
      " Average Precision  (AP) @[ IoU=0.50:0.95 | area=medium | maxDets=100 ] = -1.000\n",
      " Average Precision  (AP) @[ IoU=0.50:0.95 | area= large | maxDets=100 ] = 0.402\n",
      " Average Recall     (AR) @[ IoU=0.50:0.95 | area=   all | maxDets=  1 ] = 0.509\n",
      " Average Recall     (AR) @[ IoU=0.50:0.95 | area=   all | maxDets= 10 ] = 0.531\n",
      " Average Recall     (AR) @[ IoU=0.50:0.95 | area=   all | maxDets=100 ] = 0.531\n",
      " Average Recall     (AR) @[ IoU=0.50:0.95 | area= small | maxDets=100 ] = -1.000\n",
      " Average Recall     (AR) @[ IoU=0.50:0.95 | area=medium | maxDets=100 ] = -1.000\n",
      " Average Recall     (AR) @[ IoU=0.50:0.95 | area= large | maxDets=100 ] = 0.531\n"
     ]
    },
    {
     "name": "stderr",
     "output_type": "stream",
     "text": [
      "0it [00:00, ?it/s]"
     ]
    },
    {
     "name": "stdout",
     "output_type": "stream",
     "text": [
      "<torch.utils.data.dataloader.DataLoader object at 0x0000024C1147A620>\n"
     ]
    },
    {
     "name": "stderr",
     "output_type": "stream",
     "text": [
      "2it [00:00,  5.22it/s]"
     ]
    },
    {
     "name": "stdout",
     "output_type": "stream",
     "text": [
      "Epoch: [45]  [   0/2437]  eta: 0:09:24  lr: 0.000001  loss: 0.9170 (0.9170)  bbox_regression: 0.1184 (0.1184)  classification: 0.7986 (0.7986)  time: 0.2317  data: 0.0482  max mem: 1250\n"
     ]
    },
    {
     "name": "stderr",
     "output_type": "stream",
     "text": [
      "102it [00:14,  7.38it/s]"
     ]
    },
    {
     "name": "stdout",
     "output_type": "stream",
     "text": [
      "Epoch: [45]  [ 100/2437]  eta: 0:05:23  lr: 0.000001  loss: 0.6043 (0.6635)  bbox_regression: 0.1430 (0.1485)  classification: 0.4825 (0.5151)  time: 0.1377  data: 0.0399  max mem: 1250\n"
     ]
    },
    {
     "name": "stderr",
     "output_type": "stream",
     "text": [
      "202it [00:27,  7.40it/s]"
     ]
    },
    {
     "name": "stdout",
     "output_type": "stream",
     "text": [
      "Epoch: [45]  [ 200/2437]  eta: 0:05:08  lr: 0.000001  loss: 0.4877 (0.6605)  bbox_regression: 0.1413 (0.1516)  classification: 0.3724 (0.5089)  time: 0.1387  data: 0.0401  max mem: 1250\n"
     ]
    },
    {
     "name": "stderr",
     "output_type": "stream",
     "text": [
      "302it [00:41,  7.29it/s]"
     ]
    },
    {
     "name": "stdout",
     "output_type": "stream",
     "text": [
      "Epoch: [45]  [ 300/2437]  eta: 0:04:54  lr: 0.000001  loss: 0.5014 (0.6570)  bbox_regression: 0.1300 (0.1501)  classification: 0.3687 (0.5069)  time: 0.1390  data: 0.0410  max mem: 1250\n"
     ]
    },
    {
     "name": "stderr",
     "output_type": "stream",
     "text": [
      "402it [00:55,  7.32it/s]"
     ]
    },
    {
     "name": "stdout",
     "output_type": "stream",
     "text": [
      "Epoch: [45]  [ 400/2437]  eta: 0:04:40  lr: 0.000001  loss: 0.5614 (0.6447)  bbox_regression: 0.1185 (0.1472)  classification: 0.4274 (0.4975)  time: 0.1365  data: 0.0389  max mem: 1250\n"
     ]
    },
    {
     "name": "stderr",
     "output_type": "stream",
     "text": [
      "502it [01:09,  7.19it/s]"
     ]
    },
    {
     "name": "stdout",
     "output_type": "stream",
     "text": [
      "Epoch: [45]  [ 500/2437]  eta: 0:04:26  lr: 0.000001  loss: 0.6108 (0.6475)  bbox_regression: 0.1552 (0.1494)  classification: 0.4323 (0.4981)  time: 0.1375  data: 0.0406  max mem: 1250\n"
     ]
    },
    {
     "name": "stderr",
     "output_type": "stream",
     "text": [
      "602it [01:22,  7.52it/s]"
     ]
    },
    {
     "name": "stdout",
     "output_type": "stream",
     "text": [
      "Epoch: [45]  [ 600/2437]  eta: 0:04:12  lr: 0.000001  loss: 0.5721 (0.6450)  bbox_regression: 0.1456 (0.1488)  classification: 0.3898 (0.4962)  time: 0.1355  data: 0.0392  max mem: 1250\n"
     ]
    },
    {
     "name": "stderr",
     "output_type": "stream",
     "text": [
      "702it [01:36,  7.09it/s]"
     ]
    },
    {
     "name": "stdout",
     "output_type": "stream",
     "text": [
      "Epoch: [45]  [ 700/2437]  eta: 0:03:58  lr: 0.000001  loss: 0.4679 (0.6480)  bbox_regression: 0.1439 (0.1496)  classification: 0.3488 (0.4984)  time: 0.1407  data: 0.0412  max mem: 1250\n"
     ]
    },
    {
     "name": "stderr",
     "output_type": "stream",
     "text": [
      "802it [01:50,  7.18it/s]"
     ]
    },
    {
     "name": "stdout",
     "output_type": "stream",
     "text": [
      "Epoch: [45]  [ 800/2437]  eta: 0:03:44  lr: 0.000001  loss: 0.5274 (0.6457)  bbox_regression: 0.1230 (0.1496)  classification: 0.3818 (0.4961)  time: 0.1369  data: 0.0401  max mem: 1250\n"
     ]
    },
    {
     "name": "stderr",
     "output_type": "stream",
     "text": [
      "902it [02:03,  7.20it/s]"
     ]
    },
    {
     "name": "stdout",
     "output_type": "stream",
     "text": [
      "Epoch: [45]  [ 900/2437]  eta: 0:03:30  lr: 0.000001  loss: 0.4665 (0.6418)  bbox_regression: 0.1183 (0.1492)  classification: 0.3631 (0.4925)  time: 0.1365  data: 0.0403  max mem: 1250\n"
     ]
    },
    {
     "name": "stderr",
     "output_type": "stream",
     "text": [
      "1002it [02:17,  7.16it/s]"
     ]
    },
    {
     "name": "stdout",
     "output_type": "stream",
     "text": [
      "Epoch: [45]  [1000/2437]  eta: 0:03:17  lr: 0.000001  loss: 0.5634 (0.6470)  bbox_regression: 0.1307 (0.1504)  classification: 0.4300 (0.4966)  time: 0.1359  data: 0.0402  max mem: 1250\n"
     ]
    },
    {
     "name": "stderr",
     "output_type": "stream",
     "text": [
      "1102it [02:31,  6.39it/s]"
     ]
    },
    {
     "name": "stdout",
     "output_type": "stream",
     "text": [
      "Epoch: [45]  [1100/2437]  eta: 0:03:03  lr: 0.000001  loss: 0.6406 (0.6555)  bbox_regression: 0.1347 (0.1517)  classification: 0.5107 (0.5038)  time: 0.1452  data: 0.0468  max mem: 1250\n"
     ]
    },
    {
     "name": "stderr",
     "output_type": "stream",
     "text": [
      "1202it [02:44,  7.33it/s]"
     ]
    },
    {
     "name": "stdout",
     "output_type": "stream",
     "text": [
      "Epoch: [45]  [1200/2437]  eta: 0:02:49  lr: 0.000001  loss: 0.5217 (0.6543)  bbox_regression: 0.1302 (0.1512)  classification: 0.4131 (0.5031)  time: 0.1349  data: 0.0391  max mem: 1250\n"
     ]
    },
    {
     "name": "stderr",
     "output_type": "stream",
     "text": [
      "1302it [02:58,  7.18it/s]"
     ]
    },
    {
     "name": "stdout",
     "output_type": "stream",
     "text": [
      "Epoch: [45]  [1300/2437]  eta: 0:02:35  lr: 0.000001  loss: 0.5949 (0.6535)  bbox_regression: 0.1295 (0.1504)  classification: 0.4485 (0.5030)  time: 0.1361  data: 0.0398  max mem: 1250\n"
     ]
    },
    {
     "name": "stderr",
     "output_type": "stream",
     "text": [
      "1402it [03:12,  7.21it/s]"
     ]
    },
    {
     "name": "stdout",
     "output_type": "stream",
     "text": [
      "Epoch: [45]  [1400/2437]  eta: 0:02:22  lr: 0.000001  loss: 0.5505 (0.6519)  bbox_regression: 0.1286 (0.1504)  classification: 0.4274 (0.5015)  time: 0.1375  data: 0.0404  max mem: 1250\n"
     ]
    },
    {
     "name": "stderr",
     "output_type": "stream",
     "text": [
      "1502it [03:26,  7.14it/s]"
     ]
    },
    {
     "name": "stdout",
     "output_type": "stream",
     "text": [
      "Epoch: [45]  [1500/2437]  eta: 0:02:08  lr: 0.000001  loss: 0.5331 (0.6517)  bbox_regression: 0.1303 (0.1504)  classification: 0.4027 (0.5013)  time: 0.1380  data: 0.0405  max mem: 1250\n"
     ]
    },
    {
     "name": "stderr",
     "output_type": "stream",
     "text": [
      "1602it [03:39,  7.32it/s]"
     ]
    },
    {
     "name": "stdout",
     "output_type": "stream",
     "text": [
      "Epoch: [45]  [1600/2437]  eta: 0:01:54  lr: 0.000001  loss: 0.5233 (0.6494)  bbox_regression: 0.1367 (0.1497)  classification: 0.3898 (0.4997)  time: 0.1362  data: 0.0399  max mem: 1250\n"
     ]
    },
    {
     "name": "stderr",
     "output_type": "stream",
     "text": [
      "1702it [03:53,  7.51it/s]"
     ]
    },
    {
     "name": "stdout",
     "output_type": "stream",
     "text": [
      "Epoch: [45]  [1700/2437]  eta: 0:01:41  lr: 0.000001  loss: 0.5647 (0.6476)  bbox_regression: 0.1295 (0.1489)  classification: 0.4375 (0.4987)  time: 0.1355  data: 0.0404  max mem: 1250\n"
     ]
    },
    {
     "name": "stderr",
     "output_type": "stream",
     "text": [
      "1802it [04:07,  7.23it/s]"
     ]
    },
    {
     "name": "stdout",
     "output_type": "stream",
     "text": [
      "Epoch: [45]  [1800/2437]  eta: 0:01:27  lr: 0.000001  loss: 0.6466 (0.6485)  bbox_regression: 0.1172 (0.1492)  classification: 0.4951 (0.4994)  time: 0.1362  data: 0.0409  max mem: 1250\n"
     ]
    },
    {
     "name": "stderr",
     "output_type": "stream",
     "text": [
      "1902it [04:20,  7.51it/s]"
     ]
    },
    {
     "name": "stdout",
     "output_type": "stream",
     "text": [
      "Epoch: [45]  [1900/2437]  eta: 0:01:13  lr: 0.000001  loss: 0.5743 (0.6475)  bbox_regression: 0.1322 (0.1491)  classification: 0.4308 (0.4983)  time: 0.1345  data: 0.0398  max mem: 1250\n"
     ]
    },
    {
     "name": "stderr",
     "output_type": "stream",
     "text": [
      "2002it [04:34,  7.30it/s]"
     ]
    },
    {
     "name": "stdout",
     "output_type": "stream",
     "text": [
      "Epoch: [45]  [2000/2437]  eta: 0:00:59  lr: 0.000001  loss: 0.5544 (0.6483)  bbox_regression: 0.1181 (0.1490)  classification: 0.4324 (0.4993)  time: 0.1372  data: 0.0413  max mem: 1250\n"
     ]
    },
    {
     "name": "stderr",
     "output_type": "stream",
     "text": [
      "2102it [04:47,  7.29it/s]"
     ]
    },
    {
     "name": "stdout",
     "output_type": "stream",
     "text": [
      "Epoch: [45]  [2100/2437]  eta: 0:00:46  lr: 0.000001  loss: 0.5258 (0.6472)  bbox_regression: 0.1385 (0.1490)  classification: 0.4010 (0.4982)  time: 0.1363  data: 0.0399  max mem: 1250\n"
     ]
    },
    {
     "name": "stderr",
     "output_type": "stream",
     "text": [
      "2202it [05:01,  7.42it/s]"
     ]
    },
    {
     "name": "stdout",
     "output_type": "stream",
     "text": [
      "Epoch: [45]  [2200/2437]  eta: 0:00:32  lr: 0.000001  loss: 0.5161 (0.6482)  bbox_regression: 0.1318 (0.1498)  classification: 0.3698 (0.4984)  time: 0.1373  data: 0.0407  max mem: 1250\n"
     ]
    },
    {
     "name": "stderr",
     "output_type": "stream",
     "text": [
      "2302it [05:15,  6.85it/s]"
     ]
    },
    {
     "name": "stdout",
     "output_type": "stream",
     "text": [
      "Epoch: [45]  [2300/2437]  eta: 0:00:18  lr: 0.000001  loss: 0.6568 (0.6495)  bbox_regression: 0.1314 (0.1501)  classification: 0.4981 (0.4994)  time: 0.1378  data: 0.0405  max mem: 1250\n"
     ]
    },
    {
     "name": "stderr",
     "output_type": "stream",
     "text": [
      "2402it [05:29,  7.32it/s]"
     ]
    },
    {
     "name": "stdout",
     "output_type": "stream",
     "text": [
      "Epoch: [45]  [2400/2437]  eta: 0:00:05  lr: 0.000001  loss: 0.6079 (0.6494)  bbox_regression: 0.1288 (0.1503)  classification: 0.4410 (0.4991)  time: 0.1363  data: 0.0397  max mem: 1250\n"
     ]
    },
    {
     "name": "stderr",
     "output_type": "stream",
     "text": [
      "2437it [05:34,  7.28it/s]\n"
     ]
    },
    {
     "name": "stdout",
     "output_type": "stream",
     "text": [
      "Epoch: [45]  [2436/2437]  eta: 0:00:00  lr: 0.000001  loss: 0.5294 (0.6490)  bbox_regression: 0.1294 (0.1503)  classification: 0.3451 (0.4987)  time: 0.1345  data: 0.0386  max mem: 1250\n",
      "flag\n",
      "Epoch: [45] Total time: 0:05:34 (0.1373 s / it)\n",
      "saved dict\n",
      "creating index...\n",
      "index created!\n",
      "<torch.utils.data.dataloader.DataLoader object at 0x0000024C1147B310>\n",
      "Test:  [  0/100]  eta: 0:00:03  model_time: 0.0200 (0.0200)  evaluator_time: 0.0000 (0.0000)  time: 0.0330  data: 0.0120  max mem: 1250\n",
      "Test:  [ 99/100]  eta: 0:00:00  model_time: 0.0280 (0.0271)  evaluator_time: 0.0000 (0.0005)  time: 0.0424  data: 0.0121  max mem: 1250\n",
      "flag\n",
      "Test: Total time: 0:00:04 (0.0407 s / it)\n",
      "Averaged stats: model_time: 0.0280 (0.0271)  evaluator_time: 0.0000 (0.0005)\n",
      "Accumulating evaluation results...\n",
      "DONE (t=0.01s).\n",
      "IoU metric: bbox\n",
      " Average Precision  (AP) @[ IoU=0.50:0.95 | area=   all | maxDets=100 ] = 0.764\n",
      " Average Precision  (AP) @[ IoU=0.50      | area=   all | maxDets=100 ] = 0.929\n",
      " Average Precision  (AP) @[ IoU=0.75      | area=   all | maxDets=100 ] = 0.926\n",
      " Average Precision  (AP) @[ IoU=0.50:0.95 | area= small | maxDets=100 ] = -1.000\n",
      " Average Precision  (AP) @[ IoU=0.50:0.95 | area=medium | maxDets=100 ] = 0.000\n",
      " Average Precision  (AP) @[ IoU=0.50:0.95 | area= large | maxDets=100 ] = 0.767\n",
      " Average Recall     (AR) @[ IoU=0.50:0.95 | area=   all | maxDets=  1 ] = 0.795\n",
      " Average Recall     (AR) @[ IoU=0.50:0.95 | area=   all | maxDets= 10 ] = 0.803\n",
      " Average Recall     (AR) @[ IoU=0.50:0.95 | area=   all | maxDets=100 ] = 0.803\n",
      " Average Recall     (AR) @[ IoU=0.50:0.95 | area= small | maxDets=100 ] = -1.000\n",
      " Average Recall     (AR) @[ IoU=0.50:0.95 | area=medium | maxDets=100 ] = 0.000\n",
      " Average Recall     (AR) @[ IoU=0.50:0.95 | area= large | maxDets=100 ] = 0.807\n",
      "creating index...\n",
      "index created!\n",
      "<torch.utils.data.dataloader.DataLoader object at 0x0000024C1147A470>\n",
      "Test:  [  0/100]  eta: 0:00:05  model_time: 0.0375 (0.0375)  evaluator_time: 0.0010 (0.0010)  time: 0.0515  data: 0.0110  max mem: 1250\n",
      "Test:  [ 99/100]  eta: 0:00:00  model_time: 0.0315 (0.0329)  evaluator_time: 0.0010 (0.0006)  time: 0.0461  data: 0.0121  max mem: 1250\n",
      "flag\n",
      "Test: Total time: 0:00:04 (0.0469 s / it)\n",
      "Averaged stats: model_time: 0.0315 (0.0329)  evaluator_time: 0.0010 (0.0006)\n",
      "Accumulating evaluation results...\n",
      "DONE (t=0.02s).\n",
      "IoU metric: bbox\n",
      " Average Precision  (AP) @[ IoU=0.50:0.95 | area=   all | maxDets=100 ] = 0.403\n",
      " Average Precision  (AP) @[ IoU=0.50      | area=   all | maxDets=100 ] = 0.612\n",
      " Average Precision  (AP) @[ IoU=0.75      | area=   all | maxDets=100 ] = 0.436\n",
      " Average Precision  (AP) @[ IoU=0.50:0.95 | area= small | maxDets=100 ] = -1.000\n",
      " Average Precision  (AP) @[ IoU=0.50:0.95 | area=medium | maxDets=100 ] = -1.000\n",
      " Average Precision  (AP) @[ IoU=0.50:0.95 | area= large | maxDets=100 ] = 0.403\n",
      " Average Recall     (AR) @[ IoU=0.50:0.95 | area=   all | maxDets=  1 ] = 0.509\n",
      " Average Recall     (AR) @[ IoU=0.50:0.95 | area=   all | maxDets= 10 ] = 0.531\n",
      " Average Recall     (AR) @[ IoU=0.50:0.95 | area=   all | maxDets=100 ] = 0.531\n",
      " Average Recall     (AR) @[ IoU=0.50:0.95 | area= small | maxDets=100 ] = -1.000\n",
      " Average Recall     (AR) @[ IoU=0.50:0.95 | area=medium | maxDets=100 ] = -1.000\n",
      " Average Recall     (AR) @[ IoU=0.50:0.95 | area= large | maxDets=100 ] = 0.531\n"
     ]
    },
    {
     "name": "stderr",
     "output_type": "stream",
     "text": [
      "0it [00:00, ?it/s]"
     ]
    },
    {
     "name": "stdout",
     "output_type": "stream",
     "text": [
      "<torch.utils.data.dataloader.DataLoader object at 0x0000024C1147A620>\n"
     ]
    },
    {
     "name": "stderr",
     "output_type": "stream",
     "text": [
      "2it [00:00,  4.73it/s]"
     ]
    },
    {
     "name": "stdout",
     "output_type": "stream",
     "text": [
      "Epoch: [46]  [   0/2437]  eta: 0:09:33  lr: 0.000001  loss: 0.4302 (0.4302)  bbox_regression: 0.0755 (0.0755)  classification: 0.3547 (0.3547)  time: 0.2352  data: 0.0503  max mem: 1250\n"
     ]
    },
    {
     "name": "stderr",
     "output_type": "stream",
     "text": [
      "102it [00:14,  7.32it/s]"
     ]
    },
    {
     "name": "stdout",
     "output_type": "stream",
     "text": [
      "Epoch: [46]  [ 100/2437]  eta: 0:05:23  lr: 0.000001  loss: 0.5488 (0.6897)  bbox_regression: 0.1217 (0.1565)  classification: 0.4306 (0.5332)  time: 0.1356  data: 0.0393  max mem: 1250\n"
     ]
    },
    {
     "name": "stderr",
     "output_type": "stream",
     "text": [
      "202it [00:27,  7.08it/s]"
     ]
    },
    {
     "name": "stdout",
     "output_type": "stream",
     "text": [
      "Epoch: [46]  [ 200/2437]  eta: 0:05:09  lr: 0.000001  loss: 0.5244 (0.6663)  bbox_regression: 0.1316 (0.1572)  classification: 0.4026 (0.5091)  time: 0.1374  data: 0.0397  max mem: 1250\n"
     ]
    },
    {
     "name": "stderr",
     "output_type": "stream",
     "text": [
      "302it [00:41,  7.20it/s]"
     ]
    },
    {
     "name": "stdout",
     "output_type": "stream",
     "text": [
      "Epoch: [46]  [ 300/2437]  eta: 0:04:54  lr: 0.000001  loss: 0.6188 (0.6734)  bbox_regression: 0.1355 (0.1526)  classification: 0.4688 (0.5208)  time: 0.1392  data: 0.0408  max mem: 1250\n"
     ]
    },
    {
     "name": "stderr",
     "output_type": "stream",
     "text": [
      "402it [00:55,  7.34it/s]"
     ]
    },
    {
     "name": "stdout",
     "output_type": "stream",
     "text": [
      "Epoch: [46]  [ 400/2437]  eta: 0:04:40  lr: 0.000001  loss: 0.6500 (0.6792)  bbox_regression: 0.1401 (0.1541)  classification: 0.4840 (0.5251)  time: 0.1368  data: 0.0401  max mem: 1250\n"
     ]
    },
    {
     "name": "stderr",
     "output_type": "stream",
     "text": [
      "502it [01:09,  7.11it/s]"
     ]
    },
    {
     "name": "stdout",
     "output_type": "stream",
     "text": [
      "Epoch: [46]  [ 500/2437]  eta: 0:04:27  lr: 0.000001  loss: 0.6607 (0.6716)  bbox_regression: 0.1716 (0.1546)  classification: 0.4758 (0.5170)  time: 0.1373  data: 0.0398  max mem: 1250\n"
     ]
    },
    {
     "name": "stderr",
     "output_type": "stream",
     "text": [
      "602it [01:22,  7.29it/s]"
     ]
    },
    {
     "name": "stdout",
     "output_type": "stream",
     "text": [
      "Epoch: [46]  [ 600/2437]  eta: 0:04:13  lr: 0.000001  loss: 0.5909 (0.6714)  bbox_regression: 0.1262 (0.1554)  classification: 0.4438 (0.5160)  time: 0.1379  data: 0.0402  max mem: 1250\n"
     ]
    },
    {
     "name": "stderr",
     "output_type": "stream",
     "text": [
      "702it [01:36,  7.22it/s]"
     ]
    },
    {
     "name": "stdout",
     "output_type": "stream",
     "text": [
      "Epoch: [46]  [ 700/2437]  eta: 0:03:59  lr: 0.000001  loss: 0.5693 (0.6738)  bbox_regression: 0.1278 (0.1551)  classification: 0.4400 (0.5187)  time: 0.1376  data: 0.0395  max mem: 1250\n"
     ]
    },
    {
     "name": "stderr",
     "output_type": "stream",
     "text": [
      "802it [01:50,  7.41it/s]"
     ]
    },
    {
     "name": "stdout",
     "output_type": "stream",
     "text": [
      "Epoch: [46]  [ 800/2437]  eta: 0:03:45  lr: 0.000001  loss: 0.5357 (0.6725)  bbox_regression: 0.1226 (0.1553)  classification: 0.4164 (0.5172)  time: 0.1363  data: 0.0397  max mem: 1250\n"
     ]
    },
    {
     "name": "stderr",
     "output_type": "stream",
     "text": [
      "902it [02:04,  7.29it/s]"
     ]
    },
    {
     "name": "stdout",
     "output_type": "stream",
     "text": [
      "Epoch: [46]  [ 900/2437]  eta: 0:03:31  lr: 0.000001  loss: 0.5784 (0.6711)  bbox_regression: 0.1384 (0.1557)  classification: 0.4467 (0.5154)  time: 0.1371  data: 0.0410  max mem: 1250\n"
     ]
    },
    {
     "name": "stderr",
     "output_type": "stream",
     "text": [
      "1002it [02:18,  7.23it/s]"
     ]
    },
    {
     "name": "stdout",
     "output_type": "stream",
     "text": [
      "Epoch: [46]  [1000/2437]  eta: 0:03:17  lr: 0.000001  loss: 0.6767 (0.6685)  bbox_regression: 0.1672 (0.1554)  classification: 0.4866 (0.5131)  time: 0.1381  data: 0.0406  max mem: 1250\n"
     ]
    },
    {
     "name": "stderr",
     "output_type": "stream",
     "text": [
      "1102it [02:31,  7.29it/s]"
     ]
    },
    {
     "name": "stdout",
     "output_type": "stream",
     "text": [
      "Epoch: [46]  [1100/2437]  eta: 0:03:04  lr: 0.000001  loss: 0.5751 (0.6670)  bbox_regression: 0.1407 (0.1550)  classification: 0.4256 (0.5120)  time: 0.1374  data: 0.0391  max mem: 1250\n"
     ]
    },
    {
     "name": "stderr",
     "output_type": "stream",
     "text": [
      "1202it [02:45,  7.32it/s]"
     ]
    },
    {
     "name": "stdout",
     "output_type": "stream",
     "text": [
      "Epoch: [46]  [1200/2437]  eta: 0:02:50  lr: 0.000001  loss: 0.5462 (0.6662)  bbox_regression: 0.1358 (0.1545)  classification: 0.4282 (0.5117)  time: 0.1377  data: 0.0408  max mem: 1250\n"
     ]
    },
    {
     "name": "stderr",
     "output_type": "stream",
     "text": [
      "1302it [02:59,  7.17it/s]"
     ]
    },
    {
     "name": "stdout",
     "output_type": "stream",
     "text": [
      "Epoch: [46]  [1300/2437]  eta: 0:02:36  lr: 0.000001  loss: 0.5322 (0.6638)  bbox_regression: 0.1270 (0.1541)  classification: 0.4241 (0.5097)  time: 0.1378  data: 0.0409  max mem: 1250\n"
     ]
    },
    {
     "name": "stderr",
     "output_type": "stream",
     "text": [
      "1402it [03:12,  7.15it/s]"
     ]
    },
    {
     "name": "stdout",
     "output_type": "stream",
     "text": [
      "Epoch: [46]  [1400/2437]  eta: 0:02:22  lr: 0.000001  loss: 0.5472 (0.6596)  bbox_regression: 0.1448 (0.1532)  classification: 0.4115 (0.5065)  time: 0.1384  data: 0.0394  max mem: 1250\n"
     ]
    },
    {
     "name": "stderr",
     "output_type": "stream",
     "text": [
      "1502it [03:26,  7.46it/s]"
     ]
    },
    {
     "name": "stdout",
     "output_type": "stream",
     "text": [
      "Epoch: [46]  [1500/2437]  eta: 0:02:08  lr: 0.000001  loss: 0.5482 (0.6587)  bbox_regression: 0.1303 (0.1531)  classification: 0.4195 (0.5056)  time: 0.1369  data: 0.0391  max mem: 1250\n"
     ]
    },
    {
     "name": "stderr",
     "output_type": "stream",
     "text": [
      "1602it [03:40,  7.28it/s]"
     ]
    },
    {
     "name": "stdout",
     "output_type": "stream",
     "text": [
      "Epoch: [46]  [1600/2437]  eta: 0:01:55  lr: 0.000001  loss: 0.6488 (0.6602)  bbox_regression: 0.1345 (0.1532)  classification: 0.4996 (0.5070)  time: 0.1389  data: 0.0415  max mem: 1250\n"
     ]
    },
    {
     "name": "stderr",
     "output_type": "stream",
     "text": [
      "1702it [03:54,  7.27it/s]"
     ]
    },
    {
     "name": "stdout",
     "output_type": "stream",
     "text": [
      "Epoch: [46]  [1700/2437]  eta: 0:01:41  lr: 0.000001  loss: 0.6220 (0.6601)  bbox_regression: 0.1476 (0.1532)  classification: 0.4309 (0.5069)  time: 0.1356  data: 0.0401  max mem: 1250\n"
     ]
    },
    {
     "name": "stderr",
     "output_type": "stream",
     "text": [
      "1802it [04:07,  7.38it/s]"
     ]
    },
    {
     "name": "stdout",
     "output_type": "stream",
     "text": [
      "Epoch: [46]  [1800/2437]  eta: 0:01:27  lr: 0.000001  loss: 0.5271 (0.6598)  bbox_regression: 0.1251 (0.1533)  classification: 0.3747 (0.5065)  time: 0.1356  data: 0.0402  max mem: 1250\n"
     ]
    },
    {
     "name": "stderr",
     "output_type": "stream",
     "text": [
      "1902it [04:21,  7.29it/s]"
     ]
    },
    {
     "name": "stdout",
     "output_type": "stream",
     "text": [
      "Epoch: [46]  [1900/2437]  eta: 0:01:13  lr: 0.000001  loss: 0.5248 (0.6589)  bbox_regression: 0.1145 (0.1530)  classification: 0.4033 (0.5058)  time: 0.1363  data: 0.0399  max mem: 1250\n"
     ]
    },
    {
     "name": "stderr",
     "output_type": "stream",
     "text": [
      "2002it [04:34,  7.25it/s]"
     ]
    },
    {
     "name": "stdout",
     "output_type": "stream",
     "text": [
      "Epoch: [46]  [2000/2437]  eta: 0:00:59  lr: 0.000001  loss: 0.5051 (0.6577)  bbox_regression: 0.1192 (0.1523)  classification: 0.3758 (0.5054)  time: 0.1347  data: 0.0393  max mem: 1250\n"
     ]
    },
    {
     "name": "stderr",
     "output_type": "stream",
     "text": [
      "2102it [04:48,  7.28it/s]"
     ]
    },
    {
     "name": "stdout",
     "output_type": "stream",
     "text": [
      "Epoch: [46]  [2100/2437]  eta: 0:00:46  lr: 0.000001  loss: 0.5109 (0.6546)  bbox_regression: 0.1245 (0.1516)  classification: 0.3798 (0.5030)  time: 0.1381  data: 0.0419  max mem: 1250\n"
     ]
    },
    {
     "name": "stderr",
     "output_type": "stream",
     "text": [
      "2202it [05:02,  7.45it/s]"
     ]
    },
    {
     "name": "stdout",
     "output_type": "stream",
     "text": [
      "Epoch: [46]  [2200/2437]  eta: 0:00:32  lr: 0.000001  loss: 0.5135 (0.6532)  bbox_regression: 0.1269 (0.1517)  classification: 0.3718 (0.5016)  time: 0.1339  data: 0.0380  max mem: 1250\n"
     ]
    },
    {
     "name": "stderr",
     "output_type": "stream",
     "text": [
      "2302it [05:16,  7.48it/s]"
     ]
    },
    {
     "name": "stdout",
     "output_type": "stream",
     "text": [
      "Epoch: [46]  [2300/2437]  eta: 0:00:18  lr: 0.000001  loss: 0.5125 (0.6523)  bbox_regression: 0.1265 (0.1520)  classification: 0.4122 (0.5003)  time: 0.1351  data: 0.0388  max mem: 1250\n"
     ]
    },
    {
     "name": "stderr",
     "output_type": "stream",
     "text": [
      "2402it [05:29,  7.08it/s]"
     ]
    },
    {
     "name": "stdout",
     "output_type": "stream",
     "text": [
      "Epoch: [46]  [2400/2437]  eta: 0:00:05  lr: 0.000001  loss: 0.7053 (0.6529)  bbox_regression: 0.1685 (0.1520)  classification: 0.5154 (0.5008)  time: 0.1394  data: 0.0413  max mem: 1250\n"
     ]
    },
    {
     "name": "stderr",
     "output_type": "stream",
     "text": [
      "2437it [05:34,  7.28it/s]\n"
     ]
    },
    {
     "name": "stdout",
     "output_type": "stream",
     "text": [
      "Epoch: [46]  [2436/2437]  eta: 0:00:00  lr: 0.000001  loss: 0.6277 (0.6524)  bbox_regression: 0.1522 (0.1519)  classification: 0.4825 (0.5005)  time: 0.1333  data: 0.0386  max mem: 1250\n",
      "flag\n",
      "Epoch: [46] Total time: 0:05:34 (0.1374 s / it)\n",
      "saved dict\n",
      "creating index...\n",
      "index created!\n",
      "<torch.utils.data.dataloader.DataLoader object at 0x0000024C1147B310>\n",
      "Test:  [  0/100]  eta: 0:00:03  model_time: 0.0240 (0.0240)  evaluator_time: 0.0010 (0.0010)  time: 0.0370  data: 0.0120  max mem: 1250\n",
      "Test:  [ 99/100]  eta: 0:00:00  model_time: 0.0290 (0.0280)  evaluator_time: 0.0010 (0.0006)  time: 0.0428  data: 0.0124  max mem: 1250\n",
      "flag\n",
      "Test: Total time: 0:00:04 (0.0417 s / it)\n",
      "Averaged stats: model_time: 0.0290 (0.0280)  evaluator_time: 0.0010 (0.0006)\n",
      "Accumulating evaluation results...\n",
      "DONE (t=0.01s).\n",
      "IoU metric: bbox\n",
      " Average Precision  (AP) @[ IoU=0.50:0.95 | area=   all | maxDets=100 ] = 0.764\n",
      " Average Precision  (AP) @[ IoU=0.50      | area=   all | maxDets=100 ] = 0.929\n",
      " Average Precision  (AP) @[ IoU=0.75      | area=   all | maxDets=100 ] = 0.926\n",
      " Average Precision  (AP) @[ IoU=0.50:0.95 | area= small | maxDets=100 ] = -1.000\n",
      " Average Precision  (AP) @[ IoU=0.50:0.95 | area=medium | maxDets=100 ] = 0.000\n",
      " Average Precision  (AP) @[ IoU=0.50:0.95 | area= large | maxDets=100 ] = 0.767\n",
      " Average Recall     (AR) @[ IoU=0.50:0.95 | area=   all | maxDets=  1 ] = 0.795\n",
      " Average Recall     (AR) @[ IoU=0.50:0.95 | area=   all | maxDets= 10 ] = 0.803\n",
      " Average Recall     (AR) @[ IoU=0.50:0.95 | area=   all | maxDets=100 ] = 0.803\n",
      " Average Recall     (AR) @[ IoU=0.50:0.95 | area= small | maxDets=100 ] = -1.000\n",
      " Average Recall     (AR) @[ IoU=0.50:0.95 | area=medium | maxDets=100 ] = 0.000\n",
      " Average Recall     (AR) @[ IoU=0.50:0.95 | area= large | maxDets=100 ] = 0.807\n",
      "creating index...\n",
      "index created!\n",
      "<torch.utils.data.dataloader.DataLoader object at 0x0000024C1147A470>\n",
      "Test:  [  0/100]  eta: 0:00:05  model_time: 0.0390 (0.0390)  evaluator_time: 0.0000 (0.0000)  time: 0.0520  data: 0.0130  max mem: 1250\n",
      "Test:  [ 99/100]  eta: 0:00:00  model_time: 0.0310 (0.0336)  evaluator_time: 0.0010 (0.0006)  time: 0.0457  data: 0.0122  max mem: 1250\n",
      "flag\n",
      "Test: Total time: 0:00:04 (0.0477 s / it)\n",
      "Averaged stats: model_time: 0.0310 (0.0336)  evaluator_time: 0.0010 (0.0006)\n",
      "Accumulating evaluation results...\n",
      "DONE (t=0.02s).\n",
      "IoU metric: bbox\n",
      " Average Precision  (AP) @[ IoU=0.50:0.95 | area=   all | maxDets=100 ] = 0.403\n",
      " Average Precision  (AP) @[ IoU=0.50      | area=   all | maxDets=100 ] = 0.612\n",
      " Average Precision  (AP) @[ IoU=0.75      | area=   all | maxDets=100 ] = 0.436\n",
      " Average Precision  (AP) @[ IoU=0.50:0.95 | area= small | maxDets=100 ] = -1.000\n",
      " Average Precision  (AP) @[ IoU=0.50:0.95 | area=medium | maxDets=100 ] = -1.000\n",
      " Average Precision  (AP) @[ IoU=0.50:0.95 | area= large | maxDets=100 ] = 0.403\n",
      " Average Recall     (AR) @[ IoU=0.50:0.95 | area=   all | maxDets=  1 ] = 0.509\n",
      " Average Recall     (AR) @[ IoU=0.50:0.95 | area=   all | maxDets= 10 ] = 0.531\n",
      " Average Recall     (AR) @[ IoU=0.50:0.95 | area=   all | maxDets=100 ] = 0.531\n",
      " Average Recall     (AR) @[ IoU=0.50:0.95 | area= small | maxDets=100 ] = -1.000\n",
      " Average Recall     (AR) @[ IoU=0.50:0.95 | area=medium | maxDets=100 ] = -1.000\n",
      " Average Recall     (AR) @[ IoU=0.50:0.95 | area= large | maxDets=100 ] = 0.531\n"
     ]
    },
    {
     "name": "stderr",
     "output_type": "stream",
     "text": [
      "0it [00:00, ?it/s]"
     ]
    },
    {
     "name": "stdout",
     "output_type": "stream",
     "text": [
      "<torch.utils.data.dataloader.DataLoader object at 0x0000024C1147A620>\n"
     ]
    },
    {
     "name": "stderr",
     "output_type": "stream",
     "text": [
      "2it [00:00,  4.92it/s]"
     ]
    },
    {
     "name": "stdout",
     "output_type": "stream",
     "text": [
      "Epoch: [47]  [   0/2437]  eta: 0:09:42  lr: 0.000001  loss: 0.8273 (0.8273)  bbox_regression: 0.1881 (0.1881)  classification: 0.6393 (0.6393)  time: 0.2390  data: 0.0490  max mem: 1250\n"
     ]
    },
    {
     "name": "stderr",
     "output_type": "stream",
     "text": [
      "102it [00:14,  7.06it/s]"
     ]
    },
    {
     "name": "stdout",
     "output_type": "stream",
     "text": [
      "Epoch: [47]  [ 100/2437]  eta: 0:05:26  lr: 0.000001  loss: 0.5398 (0.6381)  bbox_regression: 0.1335 (0.1542)  classification: 0.4236 (0.4838)  time: 0.1381  data: 0.0404  max mem: 1250\n"
     ]
    },
    {
     "name": "stderr",
     "output_type": "stream",
     "text": [
      "202it [00:27,  7.30it/s]"
     ]
    },
    {
     "name": "stdout",
     "output_type": "stream",
     "text": [
      "Epoch: [47]  [ 200/2437]  eta: 0:05:09  lr: 0.000001  loss: 0.6462 (0.6512)  bbox_regression: 0.1498 (0.1480)  classification: 0.4521 (0.5032)  time: 0.1375  data: 0.0401  max mem: 1250\n"
     ]
    },
    {
     "name": "stderr",
     "output_type": "stream",
     "text": [
      "302it [00:41,  7.07it/s]"
     ]
    },
    {
     "name": "stdout",
     "output_type": "stream",
     "text": [
      "Epoch: [47]  [ 300/2437]  eta: 0:04:56  lr: 0.000001  loss: 0.5447 (0.6598)  bbox_regression: 0.1434 (0.1520)  classification: 0.3965 (0.5078)  time: 0.1388  data: 0.0403  max mem: 1250\n"
     ]
    },
    {
     "name": "stderr",
     "output_type": "stream",
     "text": [
      "402it [00:55,  6.98it/s]"
     ]
    },
    {
     "name": "stdout",
     "output_type": "stream",
     "text": [
      "Epoch: [47]  [ 400/2437]  eta: 0:04:42  lr: 0.000001  loss: 0.5658 (0.6624)  bbox_regression: 0.1396 (0.1548)  classification: 0.4465 (0.5077)  time: 0.1367  data: 0.0395  max mem: 1250\n"
     ]
    },
    {
     "name": "stderr",
     "output_type": "stream",
     "text": [
      "502it [01:09,  7.29it/s]"
     ]
    },
    {
     "name": "stdout",
     "output_type": "stream",
     "text": [
      "Epoch: [47]  [ 500/2437]  eta: 0:04:28  lr: 0.000001  loss: 0.5971 (0.6597)  bbox_regression: 0.1531 (0.1552)  classification: 0.4973 (0.5045)  time: 0.1371  data: 0.0399  max mem: 1250\n"
     ]
    },
    {
     "name": "stderr",
     "output_type": "stream",
     "text": [
      "602it [01:23,  7.37it/s]"
     ]
    },
    {
     "name": "stdout",
     "output_type": "stream",
     "text": [
      "Epoch: [47]  [ 600/2437]  eta: 0:04:14  lr: 0.000001  loss: 0.5569 (0.6565)  bbox_regression: 0.1302 (0.1536)  classification: 0.4043 (0.5029)  time: 0.1375  data: 0.0398  max mem: 1250\n"
     ]
    },
    {
     "name": "stderr",
     "output_type": "stream",
     "text": [
      "702it [01:37,  7.21it/s]"
     ]
    },
    {
     "name": "stdout",
     "output_type": "stream",
     "text": [
      "Epoch: [47]  [ 700/2437]  eta: 0:04:00  lr: 0.000001  loss: 0.6290 (0.6497)  bbox_regression: 0.1426 (0.1520)  classification: 0.4359 (0.4977)  time: 0.1380  data: 0.0409  max mem: 1250\n"
     ]
    },
    {
     "name": "stderr",
     "output_type": "stream",
     "text": [
      "802it [01:50,  7.49it/s]"
     ]
    },
    {
     "name": "stdout",
     "output_type": "stream",
     "text": [
      "Epoch: [47]  [ 800/2437]  eta: 0:03:46  lr: 0.000001  loss: 0.5662 (0.6531)  bbox_regression: 0.1147 (0.1529)  classification: 0.4676 (0.5002)  time: 0.1369  data: 0.0405  max mem: 1250\n"
     ]
    },
    {
     "name": "stderr",
     "output_type": "stream",
     "text": [
      "902it [02:04,  7.34it/s]"
     ]
    },
    {
     "name": "stdout",
     "output_type": "stream",
     "text": [
      "Epoch: [47]  [ 900/2437]  eta: 0:03:32  lr: 0.000001  loss: 0.6691 (0.6525)  bbox_regression: 0.1480 (0.1526)  classification: 0.5235 (0.5000)  time: 0.1360  data: 0.0390  max mem: 1250\n"
     ]
    },
    {
     "name": "stderr",
     "output_type": "stream",
     "text": [
      "1002it [02:18,  7.07it/s]"
     ]
    },
    {
     "name": "stdout",
     "output_type": "stream",
     "text": [
      "Epoch: [47]  [1000/2437]  eta: 0:03:18  lr: 0.000001  loss: 0.6347 (0.6526)  bbox_regression: 0.1331 (0.1512)  classification: 0.5011 (0.5014)  time: 0.1398  data: 0.0419  max mem: 1250\n"
     ]
    },
    {
     "name": "stderr",
     "output_type": "stream",
     "text": [
      "1102it [02:32,  7.23it/s]"
     ]
    },
    {
     "name": "stdout",
     "output_type": "stream",
     "text": [
      "Epoch: [47]  [1100/2437]  eta: 0:03:04  lr: 0.000001  loss: 0.6603 (0.6542)  bbox_regression: 0.1585 (0.1511)  classification: 0.4647 (0.5031)  time: 0.1379  data: 0.0393  max mem: 1250\n"
     ]
    },
    {
     "name": "stderr",
     "output_type": "stream",
     "text": [
      "1202it [02:45,  7.26it/s]"
     ]
    },
    {
     "name": "stdout",
     "output_type": "stream",
     "text": [
      "Epoch: [47]  [1200/2437]  eta: 0:02:50  lr: 0.000001  loss: 0.5474 (0.6519)  bbox_regression: 0.1563 (0.1517)  classification: 0.3966 (0.5001)  time: 0.1391  data: 0.0412  max mem: 1250\n"
     ]
    },
    {
     "name": "stderr",
     "output_type": "stream",
     "text": [
      "1302it [02:59,  7.28it/s]"
     ]
    },
    {
     "name": "stdout",
     "output_type": "stream",
     "text": [
      "Epoch: [47]  [1300/2437]  eta: 0:02:36  lr: 0.000001  loss: 0.5853 (0.6515)  bbox_regression: 0.1432 (0.1516)  classification: 0.4505 (0.4999)  time: 0.1378  data: 0.0410  max mem: 1250\n"
     ]
    },
    {
     "name": "stderr",
     "output_type": "stream",
     "text": [
      "1402it [03:13,  7.37it/s]"
     ]
    },
    {
     "name": "stdout",
     "output_type": "stream",
     "text": [
      "Epoch: [47]  [1400/2437]  eta: 0:02:23  lr: 0.000001  loss: 0.5428 (0.6508)  bbox_regression: 0.1366 (0.1512)  classification: 0.3854 (0.4996)  time: 0.1374  data: 0.0399  max mem: 1250\n"
     ]
    },
    {
     "name": "stderr",
     "output_type": "stream",
     "text": [
      "1502it [03:27,  7.07it/s]"
     ]
    },
    {
     "name": "stdout",
     "output_type": "stream",
     "text": [
      "Epoch: [47]  [1500/2437]  eta: 0:02:09  lr: 0.000001  loss: 0.5683 (0.6506)  bbox_regression: 0.1266 (0.1514)  classification: 0.4211 (0.4992)  time: 0.1381  data: 0.0401  max mem: 1250\n"
     ]
    },
    {
     "name": "stderr",
     "output_type": "stream",
     "text": [
      "1602it [03:41,  7.22it/s]"
     ]
    },
    {
     "name": "stdout",
     "output_type": "stream",
     "text": [
      "Epoch: [47]  [1600/2437]  eta: 0:01:55  lr: 0.000001  loss: 0.5607 (0.6509)  bbox_regression: 0.1346 (0.1512)  classification: 0.4266 (0.4996)  time: 0.1386  data: 0.0391  max mem: 1250\n"
     ]
    },
    {
     "name": "stderr",
     "output_type": "stream",
     "text": [
      "1702it [03:54,  7.11it/s]"
     ]
    },
    {
     "name": "stdout",
     "output_type": "stream",
     "text": [
      "Epoch: [47]  [1700/2437]  eta: 0:01:41  lr: 0.000001  loss: 0.5455 (0.6483)  bbox_regression: 0.1385 (0.1505)  classification: 0.3967 (0.4978)  time: 0.1391  data: 0.0418  max mem: 1250\n"
     ]
    },
    {
     "name": "stderr",
     "output_type": "stream",
     "text": [
      "1802it [04:08,  7.18it/s]"
     ]
    },
    {
     "name": "stdout",
     "output_type": "stream",
     "text": [
      "Epoch: [47]  [1800/2437]  eta: 0:01:27  lr: 0.000001  loss: 0.5818 (0.6491)  bbox_regression: 0.1355 (0.1509)  classification: 0.3683 (0.4982)  time: 0.1386  data: 0.0405  max mem: 1250\n"
     ]
    },
    {
     "name": "stderr",
     "output_type": "stream",
     "text": [
      "1902it [04:22,  7.14it/s]"
     ]
    },
    {
     "name": "stdout",
     "output_type": "stream",
     "text": [
      "Epoch: [47]  [1900/2437]  eta: 0:01:14  lr: 0.000001  loss: 0.5302 (0.6478)  bbox_regression: 0.1521 (0.1513)  classification: 0.3968 (0.4966)  time: 0.1354  data: 0.0387  max mem: 1250\n"
     ]
    },
    {
     "name": "stderr",
     "output_type": "stream",
     "text": [
      "2002it [04:36,  7.34it/s]"
     ]
    },
    {
     "name": "stdout",
     "output_type": "stream",
     "text": [
      "Epoch: [47]  [2000/2437]  eta: 0:01:00  lr: 0.000001  loss: 0.6095 (0.6511)  bbox_regression: 0.1525 (0.1518)  classification: 0.4299 (0.4993)  time: 0.1360  data: 0.0399  max mem: 1250\n"
     ]
    },
    {
     "name": "stderr",
     "output_type": "stream",
     "text": [
      "2102it [04:49,  7.26it/s]"
     ]
    },
    {
     "name": "stdout",
     "output_type": "stream",
     "text": [
      "Epoch: [47]  [2100/2437]  eta: 0:00:46  lr: 0.000001  loss: 0.5268 (0.6517)  bbox_regression: 0.1197 (0.1521)  classification: 0.4208 (0.4995)  time: 0.1358  data: 0.0397  max mem: 1250\n"
     ]
    },
    {
     "name": "stderr",
     "output_type": "stream",
     "text": [
      "2202it [05:03,  7.36it/s]"
     ]
    },
    {
     "name": "stdout",
     "output_type": "stream",
     "text": [
      "Epoch: [47]  [2200/2437]  eta: 0:00:32  lr: 0.000001  loss: 0.6091 (0.6531)  bbox_regression: 0.1225 (0.1524)  classification: 0.4493 (0.5007)  time: 0.1353  data: 0.0395  max mem: 1250\n"
     ]
    },
    {
     "name": "stderr",
     "output_type": "stream",
     "text": [
      "2302it [05:17,  7.37it/s]"
     ]
    },
    {
     "name": "stdout",
     "output_type": "stream",
     "text": [
      "Epoch: [47]  [2300/2437]  eta: 0:00:18  lr: 0.000001  loss: 0.6505 (0.6542)  bbox_regression: 0.1535 (0.1522)  classification: 0.4531 (0.5020)  time: 0.1355  data: 0.0404  max mem: 1250\n"
     ]
    },
    {
     "name": "stderr",
     "output_type": "stream",
     "text": [
      "2402it [05:30,  7.34it/s]"
     ]
    },
    {
     "name": "stdout",
     "output_type": "stream",
     "text": [
      "Epoch: [47]  [2400/2437]  eta: 0:00:05  lr: 0.000001  loss: 0.5379 (0.6548)  bbox_regression: 0.1273 (0.1519)  classification: 0.3794 (0.5029)  time: 0.1352  data: 0.0390  max mem: 1250\n"
     ]
    },
    {
     "name": "stderr",
     "output_type": "stream",
     "text": [
      "2437it [05:35,  7.26it/s]\n"
     ]
    },
    {
     "name": "stdout",
     "output_type": "stream",
     "text": [
      "Epoch: [47]  [2436/2437]  eta: 0:00:00  lr: 0.000001  loss: 0.5049 (0.6538)  bbox_regression: 0.1219 (0.1518)  classification: 0.3778 (0.5020)  time: 0.1339  data: 0.0382  max mem: 1250\n",
      "flag\n",
      "Epoch: [47] Total time: 0:05:35 (0.1377 s / it)\n",
      "saved dict\n",
      "creating index...\n",
      "index created!\n",
      "<torch.utils.data.dataloader.DataLoader object at 0x0000024C1147B310>\n",
      "Test:  [  0/100]  eta: 0:00:03  model_time: 0.0210 (0.0210)  evaluator_time: 0.0010 (0.0010)  time: 0.0350  data: 0.0130  max mem: 1250\n",
      "Test:  [ 99/100]  eta: 0:00:00  model_time: 0.0280 (0.0274)  evaluator_time: 0.0000 (0.0005)  time: 0.0423  data: 0.0121  max mem: 1250\n",
      "flag\n",
      "Test: Total time: 0:00:04 (0.0410 s / it)\n",
      "Averaged stats: model_time: 0.0280 (0.0274)  evaluator_time: 0.0000 (0.0005)\n",
      "Accumulating evaluation results...\n",
      "DONE (t=0.01s).\n",
      "IoU metric: bbox\n",
      " Average Precision  (AP) @[ IoU=0.50:0.95 | area=   all | maxDets=100 ] = 0.764\n",
      " Average Precision  (AP) @[ IoU=0.50      | area=   all | maxDets=100 ] = 0.929\n",
      " Average Precision  (AP) @[ IoU=0.75      | area=   all | maxDets=100 ] = 0.926\n",
      " Average Precision  (AP) @[ IoU=0.50:0.95 | area= small | maxDets=100 ] = -1.000\n",
      " Average Precision  (AP) @[ IoU=0.50:0.95 | area=medium | maxDets=100 ] = 0.000\n",
      " Average Precision  (AP) @[ IoU=0.50:0.95 | area= large | maxDets=100 ] = 0.767\n",
      " Average Recall     (AR) @[ IoU=0.50:0.95 | area=   all | maxDets=  1 ] = 0.795\n",
      " Average Recall     (AR) @[ IoU=0.50:0.95 | area=   all | maxDets= 10 ] = 0.803\n",
      " Average Recall     (AR) @[ IoU=0.50:0.95 | area=   all | maxDets=100 ] = 0.803\n",
      " Average Recall     (AR) @[ IoU=0.50:0.95 | area= small | maxDets=100 ] = -1.000\n",
      " Average Recall     (AR) @[ IoU=0.50:0.95 | area=medium | maxDets=100 ] = 0.000\n",
      " Average Recall     (AR) @[ IoU=0.50:0.95 | area= large | maxDets=100 ] = 0.807\n",
      "creating index...\n",
      "index created!\n",
      "<torch.utils.data.dataloader.DataLoader object at 0x0000024C1147A470>\n",
      "Test:  [  0/100]  eta: 0:00:05  model_time: 0.0370 (0.0370)  evaluator_time: 0.0000 (0.0000)  time: 0.0500  data: 0.0120  max mem: 1250\n",
      "Test:  [ 99/100]  eta: 0:00:00  model_time: 0.0320 (0.0329)  evaluator_time: 0.0010 (0.0005)  time: 0.0457  data: 0.0119  max mem: 1250\n",
      "flag\n",
      "Test: Total time: 0:00:04 (0.0469 s / it)\n",
      "Averaged stats: model_time: 0.0320 (0.0329)  evaluator_time: 0.0010 (0.0005)\n",
      "Accumulating evaluation results...\n",
      "DONE (t=0.02s).\n",
      "IoU metric: bbox\n",
      " Average Precision  (AP) @[ IoU=0.50:0.95 | area=   all | maxDets=100 ] = 0.402\n",
      " Average Precision  (AP) @[ IoU=0.50      | area=   all | maxDets=100 ] = 0.611\n",
      " Average Precision  (AP) @[ IoU=0.75      | area=   all | maxDets=100 ] = 0.434\n",
      " Average Precision  (AP) @[ IoU=0.50:0.95 | area= small | maxDets=100 ] = -1.000\n",
      " Average Precision  (AP) @[ IoU=0.50:0.95 | area=medium | maxDets=100 ] = -1.000\n",
      " Average Precision  (AP) @[ IoU=0.50:0.95 | area= large | maxDets=100 ] = 0.402\n",
      " Average Recall     (AR) @[ IoU=0.50:0.95 | area=   all | maxDets=  1 ] = 0.509\n",
      " Average Recall     (AR) @[ IoU=0.50:0.95 | area=   all | maxDets= 10 ] = 0.531\n",
      " Average Recall     (AR) @[ IoU=0.50:0.95 | area=   all | maxDets=100 ] = 0.531\n",
      " Average Recall     (AR) @[ IoU=0.50:0.95 | area= small | maxDets=100 ] = -1.000\n",
      " Average Recall     (AR) @[ IoU=0.50:0.95 | area=medium | maxDets=100 ] = -1.000\n",
      " Average Recall     (AR) @[ IoU=0.50:0.95 | area= large | maxDets=100 ] = 0.531\n"
     ]
    },
    {
     "name": "stderr",
     "output_type": "stream",
     "text": [
      "0it [00:00, ?it/s]"
     ]
    },
    {
     "name": "stdout",
     "output_type": "stream",
     "text": [
      "<torch.utils.data.dataloader.DataLoader object at 0x0000024C1147A620>\n"
     ]
    },
    {
     "name": "stderr",
     "output_type": "stream",
     "text": [
      "2it [00:00,  3.67it/s]"
     ]
    },
    {
     "name": "stdout",
     "output_type": "stream",
     "text": [
      "Epoch: [48]  [   0/2437]  eta: 0:18:28  lr: 0.000001  loss: 0.2870 (0.2870)  bbox_regression: 0.1040 (0.1040)  classification: 0.1830 (0.1830)  time: 0.4549  data: 0.2311  max mem: 1250\n"
     ]
    },
    {
     "name": "stderr",
     "output_type": "stream",
     "text": [
      "102it [00:14,  7.21it/s]"
     ]
    },
    {
     "name": "stdout",
     "output_type": "stream",
     "text": [
      "Epoch: [48]  [ 100/2437]  eta: 0:05:26  lr: 0.000001  loss: 0.7102 (0.6604)  bbox_regression: 0.1691 (0.1574)  classification: 0.5306 (0.5029)  time: 0.1369  data: 0.0397  max mem: 1250\n"
     ]
    },
    {
     "name": "stderr",
     "output_type": "stream",
     "text": [
      "202it [00:27,  7.15it/s]"
     ]
    },
    {
     "name": "stdout",
     "output_type": "stream",
     "text": [
      "Epoch: [48]  [ 200/2437]  eta: 0:05:08  lr: 0.000001  loss: 0.5803 (0.6383)  bbox_regression: 0.1528 (0.1513)  classification: 0.4274 (0.4870)  time: 0.1361  data: 0.0390  max mem: 1250\n"
     ]
    },
    {
     "name": "stderr",
     "output_type": "stream",
     "text": [
      "302it [00:41,  7.33it/s]"
     ]
    },
    {
     "name": "stdout",
     "output_type": "stream",
     "text": [
      "Epoch: [48]  [ 300/2437]  eta: 0:04:55  lr: 0.000001  loss: 0.6205 (0.6509)  bbox_regression: 0.1436 (0.1528)  classification: 0.4528 (0.4981)  time: 0.1373  data: 0.0405  max mem: 1250\n"
     ]
    },
    {
     "name": "stderr",
     "output_type": "stream",
     "text": [
      "402it [00:55,  7.36it/s]"
     ]
    },
    {
     "name": "stdout",
     "output_type": "stream",
     "text": [
      "Epoch: [48]  [ 400/2437]  eta: 0:04:41  lr: 0.000001  loss: 0.6223 (0.6521)  bbox_regression: 0.1457 (0.1530)  classification: 0.4893 (0.4991)  time: 0.1369  data: 0.0394  max mem: 1250\n"
     ]
    },
    {
     "name": "stderr",
     "output_type": "stream",
     "text": [
      "502it [01:09,  7.20it/s]"
     ]
    },
    {
     "name": "stdout",
     "output_type": "stream",
     "text": [
      "Epoch: [48]  [ 500/2437]  eta: 0:04:26  lr: 0.000001  loss: 0.6762 (0.6529)  bbox_regression: 0.1349 (0.1511)  classification: 0.5292 (0.5018)  time: 0.1393  data: 0.0403  max mem: 1250\n"
     ]
    },
    {
     "name": "stderr",
     "output_type": "stream",
     "text": [
      "602it [01:23,  7.29it/s]"
     ]
    },
    {
     "name": "stdout",
     "output_type": "stream",
     "text": [
      "Epoch: [48]  [ 600/2437]  eta: 0:04:13  lr: 0.000001  loss: 0.4983 (0.6432)  bbox_regression: 0.1092 (0.1493)  classification: 0.3728 (0.4940)  time: 0.1375  data: 0.0406  max mem: 1250\n"
     ]
    },
    {
     "name": "stderr",
     "output_type": "stream",
     "text": [
      "702it [01:36,  7.16it/s]"
     ]
    },
    {
     "name": "stdout",
     "output_type": "stream",
     "text": [
      "Epoch: [48]  [ 700/2437]  eta: 0:03:59  lr: 0.000001  loss: 0.4891 (0.6400)  bbox_regression: 0.1262 (0.1485)  classification: 0.3640 (0.4914)  time: 0.1391  data: 0.0412  max mem: 1250\n"
     ]
    },
    {
     "name": "stderr",
     "output_type": "stream",
     "text": [
      "802it [01:50,  7.02it/s]"
     ]
    },
    {
     "name": "stdout",
     "output_type": "stream",
     "text": [
      "Epoch: [48]  [ 800/2437]  eta: 0:03:45  lr: 0.000001  loss: 0.6043 (0.6466)  bbox_regression: 0.1456 (0.1490)  classification: 0.4325 (0.4976)  time: 0.1388  data: 0.0414  max mem: 1250\n"
     ]
    },
    {
     "name": "stderr",
     "output_type": "stream",
     "text": [
      "902it [02:04,  7.24it/s]"
     ]
    },
    {
     "name": "stdout",
     "output_type": "stream",
     "text": [
      "Epoch: [48]  [ 900/2437]  eta: 0:03:31  lr: 0.000001  loss: 0.6109 (0.6501)  bbox_regression: 0.1431 (0.1498)  classification: 0.4591 (0.5004)  time: 0.1389  data: 0.0413  max mem: 1250\n"
     ]
    },
    {
     "name": "stderr",
     "output_type": "stream",
     "text": [
      "1002it [02:18,  7.24it/s]"
     ]
    },
    {
     "name": "stdout",
     "output_type": "stream",
     "text": [
      "Epoch: [48]  [1000/2437]  eta: 0:03:18  lr: 0.000001  loss: 0.5515 (0.6510)  bbox_regression: 0.1329 (0.1492)  classification: 0.4304 (0.5018)  time: 0.1384  data: 0.0410  max mem: 1250\n"
     ]
    },
    {
     "name": "stderr",
     "output_type": "stream",
     "text": [
      "1102it [02:32,  7.34it/s]"
     ]
    },
    {
     "name": "stdout",
     "output_type": "stream",
     "text": [
      "Epoch: [48]  [1100/2437]  eta: 0:03:04  lr: 0.000001  loss: 0.5959 (0.6499)  bbox_regression: 0.1255 (0.1483)  classification: 0.4556 (0.5016)  time: 0.1425  data: 0.0452  max mem: 1250\n"
     ]
    },
    {
     "name": "stderr",
     "output_type": "stream",
     "text": [
      "1202it [02:45,  7.45it/s]"
     ]
    },
    {
     "name": "stdout",
     "output_type": "stream",
     "text": [
      "Epoch: [48]  [1200/2437]  eta: 0:02:50  lr: 0.000001  loss: 0.6914 (0.6500)  bbox_regression: 0.1408 (0.1482)  classification: 0.4866 (0.5018)  time: 0.1353  data: 0.0395  max mem: 1250\n"
     ]
    },
    {
     "name": "stderr",
     "output_type": "stream",
     "text": [
      "1302it [02:59,  7.28it/s]"
     ]
    },
    {
     "name": "stdout",
     "output_type": "stream",
     "text": [
      "Epoch: [48]  [1300/2437]  eta: 0:02:36  lr: 0.000001  loss: 0.5506 (0.6516)  bbox_regression: 0.1365 (0.1493)  classification: 0.4262 (0.5024)  time: 0.1378  data: 0.0416  max mem: 1250\n"
     ]
    },
    {
     "name": "stderr",
     "output_type": "stream",
     "text": [
      "1402it [03:13,  7.30it/s]"
     ]
    },
    {
     "name": "stdout",
     "output_type": "stream",
     "text": [
      "Epoch: [48]  [1400/2437]  eta: 0:02:22  lr: 0.000001  loss: 0.6699 (0.6511)  bbox_regression: 0.1560 (0.1497)  classification: 0.5139 (0.5014)  time: 0.1360  data: 0.0395  max mem: 1250\n"
     ]
    },
    {
     "name": "stderr",
     "output_type": "stream",
     "text": [
      "1502it [03:26,  7.09it/s]"
     ]
    },
    {
     "name": "stdout",
     "output_type": "stream",
     "text": [
      "Epoch: [48]  [1500/2437]  eta: 0:02:08  lr: 0.000001  loss: 0.6511 (0.6522)  bbox_regression: 0.1361 (0.1516)  classification: 0.4715 (0.5005)  time: 0.1399  data: 0.0419  max mem: 1250\n"
     ]
    },
    {
     "name": "stderr",
     "output_type": "stream",
     "text": [
      "1602it [03:40,  7.23it/s]"
     ]
    },
    {
     "name": "stdout",
     "output_type": "stream",
     "text": [
      "Epoch: [48]  [1600/2437]  eta: 0:01:55  lr: 0.000001  loss: 0.5691 (0.6520)  bbox_regression: 0.1231 (0.1512)  classification: 0.4519 (0.5008)  time: 0.1387  data: 0.0420  max mem: 1250\n"
     ]
    },
    {
     "name": "stderr",
     "output_type": "stream",
     "text": [
      "1702it [03:54,  7.47it/s]"
     ]
    },
    {
     "name": "stdout",
     "output_type": "stream",
     "text": [
      "Epoch: [48]  [1700/2437]  eta: 0:01:41  lr: 0.000001  loss: 0.5688 (0.6523)  bbox_regression: 0.1206 (0.1518)  classification: 0.4279 (0.5006)  time: 0.1374  data: 0.0387  max mem: 1250\n"
     ]
    },
    {
     "name": "stderr",
     "output_type": "stream",
     "text": [
      "1802it [04:08,  7.08it/s]"
     ]
    },
    {
     "name": "stdout",
     "output_type": "stream",
     "text": [
      "Epoch: [48]  [1800/2437]  eta: 0:01:27  lr: 0.000001  loss: 0.5251 (0.6515)  bbox_regression: 0.1335 (0.1516)  classification: 0.4042 (0.4999)  time: 0.1362  data: 0.0385  max mem: 1250\n"
     ]
    },
    {
     "name": "stderr",
     "output_type": "stream",
     "text": [
      "1902it [04:21,  7.45it/s]"
     ]
    },
    {
     "name": "stdout",
     "output_type": "stream",
     "text": [
      "Epoch: [48]  [1900/2437]  eta: 0:01:13  lr: 0.000001  loss: 0.6215 (0.6508)  bbox_regression: 0.1465 (0.1514)  classification: 0.4417 (0.4993)  time: 0.1362  data: 0.0392  max mem: 1250\n"
     ]
    },
    {
     "name": "stderr",
     "output_type": "stream",
     "text": [
      "2002it [04:35,  7.32it/s]"
     ]
    },
    {
     "name": "stdout",
     "output_type": "stream",
     "text": [
      "Epoch: [48]  [2000/2437]  eta: 0:01:00  lr: 0.000001  loss: 0.5784 (0.6521)  bbox_regression: 0.1499 (0.1520)  classification: 0.4478 (0.5001)  time: 0.1360  data: 0.0399  max mem: 1250\n"
     ]
    },
    {
     "name": "stderr",
     "output_type": "stream",
     "text": [
      "2102it [04:49,  7.45it/s]"
     ]
    },
    {
     "name": "stdout",
     "output_type": "stream",
     "text": [
      "Epoch: [48]  [2100/2437]  eta: 0:00:46  lr: 0.000001  loss: 0.5641 (0.6505)  bbox_regression: 0.1450 (0.1518)  classification: 0.4006 (0.4988)  time: 0.1371  data: 0.0399  max mem: 1250\n"
     ]
    },
    {
     "name": "stderr",
     "output_type": "stream",
     "text": [
      "2202it [05:02,  7.39it/s]"
     ]
    },
    {
     "name": "stdout",
     "output_type": "stream",
     "text": [
      "Epoch: [48]  [2200/2437]  eta: 0:00:32  lr: 0.000001  loss: 0.5425 (0.6513)  bbox_regression: 0.1183 (0.1518)  classification: 0.4186 (0.4995)  time: 0.1360  data: 0.0403  max mem: 1250\n"
     ]
    },
    {
     "name": "stderr",
     "output_type": "stream",
     "text": [
      "2302it [05:16,  7.49it/s]"
     ]
    },
    {
     "name": "stdout",
     "output_type": "stream",
     "text": [
      "Epoch: [48]  [2300/2437]  eta: 0:00:18  lr: 0.000001  loss: 0.6557 (0.6518)  bbox_regression: 0.1241 (0.1518)  classification: 0.5030 (0.5000)  time: 0.1364  data: 0.0404  max mem: 1250\n"
     ]
    },
    {
     "name": "stderr",
     "output_type": "stream",
     "text": [
      "2402it [05:30,  7.21it/s]"
     ]
    },
    {
     "name": "stdout",
     "output_type": "stream",
     "text": [
      "Epoch: [48]  [2400/2437]  eta: 0:00:05  lr: 0.000001  loss: 0.6822 (0.6516)  bbox_regression: 0.1323 (0.1516)  classification: 0.4704 (0.5000)  time: 0.1360  data: 0.0395  max mem: 1250\n"
     ]
    },
    {
     "name": "stderr",
     "output_type": "stream",
     "text": [
      "2437it [05:34,  7.27it/s]\n"
     ]
    },
    {
     "name": "stdout",
     "output_type": "stream",
     "text": [
      "Epoch: [48]  [2436/2437]  eta: 0:00:00  lr: 0.000001  loss: 0.5794 (0.6515)  bbox_regression: 0.1336 (0.1516)  classification: 0.4143 (0.5000)  time: 0.1339  data: 0.0386  max mem: 1250\n",
      "flag\n",
      "Epoch: [48] Total time: 0:05:34 (0.1375 s / it)\n",
      "saved dict\n",
      "creating index...\n",
      "index created!\n",
      "<torch.utils.data.dataloader.DataLoader object at 0x0000024C1147B310>\n",
      "Test:  [  0/100]  eta: 0:00:03  model_time: 0.0203 (0.0203)  evaluator_time: 0.0010 (0.0010)  time: 0.0343  data: 0.0130  max mem: 1250\n",
      "Test:  [ 99/100]  eta: 0:00:00  model_time: 0.0280 (0.0266)  evaluator_time: 0.0000 (0.0006)  time: 0.0425  data: 0.0122  max mem: 1250\n",
      "flag\n",
      "Test: Total time: 0:00:04 (0.0403 s / it)\n",
      "Averaged stats: model_time: 0.0280 (0.0266)  evaluator_time: 0.0000 (0.0006)\n",
      "Accumulating evaluation results...\n",
      "DONE (t=0.01s).\n",
      "IoU metric: bbox\n",
      " Average Precision  (AP) @[ IoU=0.50:0.95 | area=   all | maxDets=100 ] = 0.764\n",
      " Average Precision  (AP) @[ IoU=0.50      | area=   all | maxDets=100 ] = 0.929\n",
      " Average Precision  (AP) @[ IoU=0.75      | area=   all | maxDets=100 ] = 0.926\n",
      " Average Precision  (AP) @[ IoU=0.50:0.95 | area= small | maxDets=100 ] = -1.000\n",
      " Average Precision  (AP) @[ IoU=0.50:0.95 | area=medium | maxDets=100 ] = 0.000\n",
      " Average Precision  (AP) @[ IoU=0.50:0.95 | area= large | maxDets=100 ] = 0.767\n",
      " Average Recall     (AR) @[ IoU=0.50:0.95 | area=   all | maxDets=  1 ] = 0.795\n",
      " Average Recall     (AR) @[ IoU=0.50:0.95 | area=   all | maxDets= 10 ] = 0.803\n",
      " Average Recall     (AR) @[ IoU=0.50:0.95 | area=   all | maxDets=100 ] = 0.803\n",
      " Average Recall     (AR) @[ IoU=0.50:0.95 | area= small | maxDets=100 ] = -1.000\n",
      " Average Recall     (AR) @[ IoU=0.50:0.95 | area=medium | maxDets=100 ] = 0.000\n",
      " Average Recall     (AR) @[ IoU=0.50:0.95 | area= large | maxDets=100 ] = 0.807\n",
      "creating index...\n",
      "index created!\n",
      "<torch.utils.data.dataloader.DataLoader object at 0x0000024C1147A470>\n",
      "Test:  [  0/100]  eta: 0:00:04  model_time: 0.0350 (0.0350)  evaluator_time: 0.0000 (0.0000)  time: 0.0480  data: 0.0120  max mem: 1250\n",
      "Test:  [ 99/100]  eta: 0:00:00  model_time: 0.0320 (0.0333)  evaluator_time: 0.0010 (0.0006)  time: 0.0467  data: 0.0122  max mem: 1250\n",
      "flag\n",
      "Test: Total time: 0:00:04 (0.0473 s / it)\n",
      "Averaged stats: model_time: 0.0320 (0.0333)  evaluator_time: 0.0010 (0.0006)\n",
      "Accumulating evaluation results...\n",
      "DONE (t=0.02s).\n",
      "IoU metric: bbox\n",
      " Average Precision  (AP) @[ IoU=0.50:0.95 | area=   all | maxDets=100 ] = 0.403\n",
      " Average Precision  (AP) @[ IoU=0.50      | area=   all | maxDets=100 ] = 0.612\n",
      " Average Precision  (AP) @[ IoU=0.75      | area=   all | maxDets=100 ] = 0.436\n",
      " Average Precision  (AP) @[ IoU=0.50:0.95 | area= small | maxDets=100 ] = -1.000\n",
      " Average Precision  (AP) @[ IoU=0.50:0.95 | area=medium | maxDets=100 ] = -1.000\n",
      " Average Precision  (AP) @[ IoU=0.50:0.95 | area= large | maxDets=100 ] = 0.403\n",
      " Average Recall     (AR) @[ IoU=0.50:0.95 | area=   all | maxDets=  1 ] = 0.509\n",
      " Average Recall     (AR) @[ IoU=0.50:0.95 | area=   all | maxDets= 10 ] = 0.531\n",
      " Average Recall     (AR) @[ IoU=0.50:0.95 | area=   all | maxDets=100 ] = 0.531\n",
      " Average Recall     (AR) @[ IoU=0.50:0.95 | area= small | maxDets=100 ] = -1.000\n",
      " Average Recall     (AR) @[ IoU=0.50:0.95 | area=medium | maxDets=100 ] = -1.000\n",
      " Average Recall     (AR) @[ IoU=0.50:0.95 | area= large | maxDets=100 ] = 0.531\n"
     ]
    },
    {
     "name": "stderr",
     "output_type": "stream",
     "text": [
      "0it [00:00, ?it/s]"
     ]
    },
    {
     "name": "stdout",
     "output_type": "stream",
     "text": [
      "<torch.utils.data.dataloader.DataLoader object at 0x0000024C1147A620>\n"
     ]
    },
    {
     "name": "stderr",
     "output_type": "stream",
     "text": [
      "2it [00:00,  4.71it/s]"
     ]
    },
    {
     "name": "stdout",
     "output_type": "stream",
     "text": [
      "Epoch: [49]  [   0/2437]  eta: 0:09:42  lr: 0.000001  loss: 0.6992 (0.6992)  bbox_regression: 0.1237 (0.1237)  classification: 0.5756 (0.5756)  time: 0.2388  data: 0.0483  max mem: 1250\n"
     ]
    },
    {
     "name": "stderr",
     "output_type": "stream",
     "text": [
      "102it [00:14,  7.34it/s]"
     ]
    },
    {
     "name": "stdout",
     "output_type": "stream",
     "text": [
      "Epoch: [49]  [ 100/2437]  eta: 0:05:25  lr: 0.000001  loss: 0.5985 (0.7125)  bbox_regression: 0.1586 (0.1549)  classification: 0.4816 (0.5576)  time: 0.1363  data: 0.0394  max mem: 1250\n"
     ]
    },
    {
     "name": "stderr",
     "output_type": "stream",
     "text": [
      "202it [00:27,  7.21it/s]"
     ]
    },
    {
     "name": "stdout",
     "output_type": "stream",
     "text": [
      "Epoch: [49]  [ 200/2437]  eta: 0:05:10  lr: 0.000001  loss: 0.5826 (0.6782)  bbox_regression: 0.1310 (0.1514)  classification: 0.3893 (0.5268)  time: 0.1374  data: 0.0406  max mem: 1250\n"
     ]
    },
    {
     "name": "stderr",
     "output_type": "stream",
     "text": [
      "302it [00:41,  7.30it/s]"
     ]
    },
    {
     "name": "stdout",
     "output_type": "stream",
     "text": [
      "Epoch: [49]  [ 300/2437]  eta: 0:04:56  lr: 0.000001  loss: 0.5674 (0.6540)  bbox_regression: 0.1228 (0.1472)  classification: 0.4353 (0.5068)  time: 0.1376  data: 0.0402  max mem: 1250\n"
     ]
    },
    {
     "name": "stderr",
     "output_type": "stream",
     "text": [
      "402it [00:55,  7.32it/s]"
     ]
    },
    {
     "name": "stdout",
     "output_type": "stream",
     "text": [
      "Epoch: [49]  [ 400/2437]  eta: 0:04:42  lr: 0.000001  loss: 0.5804 (0.6473)  bbox_regression: 0.1431 (0.1459)  classification: 0.4442 (0.5014)  time: 0.1366  data: 0.0399  max mem: 1250\n"
     ]
    },
    {
     "name": "stderr",
     "output_type": "stream",
     "text": [
      "502it [01:09,  7.23it/s]"
     ]
    },
    {
     "name": "stdout",
     "output_type": "stream",
     "text": [
      "Epoch: [49]  [ 500/2437]  eta: 0:04:28  lr: 0.000001  loss: 0.6290 (0.6501)  bbox_regression: 0.1396 (0.1483)  classification: 0.4751 (0.5018)  time: 0.1356  data: 0.0395  max mem: 1250\n"
     ]
    },
    {
     "name": "stderr",
     "output_type": "stream",
     "text": [
      "602it [01:23,  7.00it/s]"
     ]
    },
    {
     "name": "stdout",
     "output_type": "stream",
     "text": [
      "Epoch: [49]  [ 600/2437]  eta: 0:04:14  lr: 0.000001  loss: 0.6348 (0.6501)  bbox_regression: 0.1334 (0.1506)  classification: 0.4894 (0.4995)  time: 0.1393  data: 0.0413  max mem: 1250\n"
     ]
    },
    {
     "name": "stderr",
     "output_type": "stream",
     "text": [
      "702it [01:37,  7.13it/s]"
     ]
    },
    {
     "name": "stdout",
     "output_type": "stream",
     "text": [
      "Epoch: [49]  [ 700/2437]  eta: 0:04:00  lr: 0.000001  loss: 0.6751 (0.6544)  bbox_regression: 0.1741 (0.1529)  classification: 0.4908 (0.5016)  time: 0.1390  data: 0.0400  max mem: 1250\n"
     ]
    },
    {
     "name": "stderr",
     "output_type": "stream",
     "text": [
      "802it [01:50,  7.43it/s]"
     ]
    },
    {
     "name": "stdout",
     "output_type": "stream",
     "text": [
      "Epoch: [49]  [ 800/2437]  eta: 0:03:46  lr: 0.000001  loss: 0.5781 (0.6498)  bbox_regression: 0.1285 (0.1521)  classification: 0.4606 (0.4977)  time: 0.1358  data: 0.0394  max mem: 1250\n"
     ]
    },
    {
     "name": "stderr",
     "output_type": "stream",
     "text": [
      "902it [02:05,  7.01it/s]"
     ]
    },
    {
     "name": "stdout",
     "output_type": "stream",
     "text": [
      "Epoch: [49]  [ 900/2437]  eta: 0:03:33  lr: 0.000001  loss: 0.5052 (0.6472)  bbox_regression: 0.1096 (0.1513)  classification: 0.3816 (0.4958)  time: 0.1509  data: 0.0422  max mem: 1250\n"
     ]
    },
    {
     "name": "stderr",
     "output_type": "stream",
     "text": [
      "1002it [02:18,  7.24it/s]"
     ]
    },
    {
     "name": "stdout",
     "output_type": "stream",
     "text": [
      "Epoch: [49]  [1000/2437]  eta: 0:03:19  lr: 0.000001  loss: 0.5020 (0.6515)  bbox_regression: 0.1364 (0.1529)  classification: 0.3672 (0.4987)  time: 0.1382  data: 0.0407  max mem: 1250\n"
     ]
    },
    {
     "name": "stderr",
     "output_type": "stream",
     "text": [
      "1102it [02:32,  7.36it/s]"
     ]
    },
    {
     "name": "stdout",
     "output_type": "stream",
     "text": [
      "Epoch: [49]  [1100/2437]  eta: 0:03:05  lr: 0.000001  loss: 0.4980 (0.6507)  bbox_regression: 0.1258 (0.1531)  classification: 0.3957 (0.4976)  time: 0.1382  data: 0.0406  max mem: 1250\n"
     ]
    },
    {
     "name": "stderr",
     "output_type": "stream",
     "text": [
      "1202it [02:46,  7.26it/s]"
     ]
    },
    {
     "name": "stdout",
     "output_type": "stream",
     "text": [
      "Epoch: [49]  [1200/2437]  eta: 0:02:51  lr: 0.000001  loss: 0.5312 (0.6540)  bbox_regression: 0.1325 (0.1537)  classification: 0.3836 (0.5002)  time: 0.1393  data: 0.0419  max mem: 1250\n"
     ]
    },
    {
     "name": "stderr",
     "output_type": "stream",
     "text": [
      "1302it [03:00,  7.24it/s]"
     ]
    },
    {
     "name": "stdout",
     "output_type": "stream",
     "text": [
      "Epoch: [49]  [1300/2437]  eta: 0:02:37  lr: 0.000001  loss: 0.5781 (0.6573)  bbox_regression: 0.1381 (0.1544)  classification: 0.4384 (0.5028)  time: 0.1377  data: 0.0411  max mem: 1250\n"
     ]
    },
    {
     "name": "stderr",
     "output_type": "stream",
     "text": [
      "1402it [03:14,  7.20it/s]"
     ]
    },
    {
     "name": "stdout",
     "output_type": "stream",
     "text": [
      "Epoch: [49]  [1400/2437]  eta: 0:02:23  lr: 0.000001  loss: 0.5817 (0.6551)  bbox_regression: 0.1494 (0.1539)  classification: 0.4355 (0.5013)  time: 0.1490  data: 0.0497  max mem: 1250\n"
     ]
    },
    {
     "name": "stderr",
     "output_type": "stream",
     "text": [
      "1502it [03:28,  7.11it/s]"
     ]
    },
    {
     "name": "stdout",
     "output_type": "stream",
     "text": [
      "Epoch: [49]  [1500/2437]  eta: 0:02:09  lr: 0.000001  loss: 0.5819 (0.6535)  bbox_regression: 0.1453 (0.1533)  classification: 0.4295 (0.5002)  time: 0.1466  data: 0.0470  max mem: 1250\n"
     ]
    },
    {
     "name": "stderr",
     "output_type": "stream",
     "text": [
      "1602it [03:42,  6.25it/s]"
     ]
    },
    {
     "name": "stdout",
     "output_type": "stream",
     "text": [
      "Epoch: [49]  [1600/2437]  eta: 0:01:56  lr: 0.000001  loss: 0.5923 (0.6519)  bbox_regression: 0.1326 (0.1527)  classification: 0.4690 (0.4992)  time: 0.1602  data: 0.0588  max mem: 1250\n"
     ]
    },
    {
     "name": "stderr",
     "output_type": "stream",
     "text": [
      "1702it [03:57,  7.23it/s]"
     ]
    },
    {
     "name": "stdout",
     "output_type": "stream",
     "text": [
      "Epoch: [49]  [1700/2437]  eta: 0:01:42  lr: 0.000001  loss: 0.5187 (0.6525)  bbox_regression: 0.1329 (0.1524)  classification: 0.3902 (0.5000)  time: 0.1365  data: 0.0396  max mem: 1250\n"
     ]
    },
    {
     "name": "stderr",
     "output_type": "stream",
     "text": [
      "1802it [04:11,  7.12it/s]"
     ]
    },
    {
     "name": "stdout",
     "output_type": "stream",
     "text": [
      "Epoch: [49]  [1800/2437]  eta: 0:01:28  lr: 0.000001  loss: 0.5675 (0.6510)  bbox_regression: 0.1557 (0.1521)  classification: 0.4181 (0.4989)  time: 0.1388  data: 0.0398  max mem: 1250\n"
     ]
    },
    {
     "name": "stderr",
     "output_type": "stream",
     "text": [
      "1902it [04:24,  7.48it/s]"
     ]
    },
    {
     "name": "stdout",
     "output_type": "stream",
     "text": [
      "Epoch: [49]  [1900/2437]  eta: 0:01:14  lr: 0.000001  loss: 0.5140 (0.6511)  bbox_regression: 0.1165 (0.1520)  classification: 0.3812 (0.4991)  time: 0.1364  data: 0.0384  max mem: 1250\n"
     ]
    },
    {
     "name": "stderr",
     "output_type": "stream",
     "text": [
      "2002it [04:38,  7.43it/s]"
     ]
    },
    {
     "name": "stdout",
     "output_type": "stream",
     "text": [
      "Epoch: [49]  [2000/2437]  eta: 0:01:00  lr: 0.000001  loss: 0.6125 (0.6530)  bbox_regression: 0.1446 (0.1520)  classification: 0.4541 (0.5011)  time: 0.1380  data: 0.0407  max mem: 1250\n"
     ]
    },
    {
     "name": "stderr",
     "output_type": "stream",
     "text": [
      "2102it [04:52,  7.21it/s]"
     ]
    },
    {
     "name": "stdout",
     "output_type": "stream",
     "text": [
      "Epoch: [49]  [2100/2437]  eta: 0:00:46  lr: 0.000001  loss: 0.5581 (0.6532)  bbox_regression: 0.1374 (0.1518)  classification: 0.4208 (0.5014)  time: 0.1374  data: 0.0405  max mem: 1250\n"
     ]
    },
    {
     "name": "stderr",
     "output_type": "stream",
     "text": [
      "2202it [05:06,  7.49it/s]"
     ]
    },
    {
     "name": "stdout",
     "output_type": "stream",
     "text": [
      "Epoch: [49]  [2200/2437]  eta: 0:00:32  lr: 0.000001  loss: 0.6476 (0.6525)  bbox_regression: 0.1560 (0.1515)  classification: 0.5074 (0.5010)  time: 0.1363  data: 0.0403  max mem: 1250\n"
     ]
    },
    {
     "name": "stderr",
     "output_type": "stream",
     "text": [
      "2302it [05:19,  7.32it/s]"
     ]
    },
    {
     "name": "stdout",
     "output_type": "stream",
     "text": [
      "Epoch: [49]  [2300/2437]  eta: 0:00:19  lr: 0.000001  loss: 0.5381 (0.6518)  bbox_regression: 0.1297 (0.1513)  classification: 0.4062 (0.5005)  time: 0.1363  data: 0.0407  max mem: 1250\n"
     ]
    },
    {
     "name": "stderr",
     "output_type": "stream",
     "text": [
      "2402it [05:33,  7.31it/s]"
     ]
    },
    {
     "name": "stdout",
     "output_type": "stream",
     "text": [
      "Epoch: [49]  [2400/2437]  eta: 0:00:05  lr: 0.000001  loss: 0.6540 (0.6510)  bbox_regression: 0.1262 (0.1509)  classification: 0.5088 (0.5001)  time: 0.1344  data: 0.0389  max mem: 1250\n"
     ]
    },
    {
     "name": "stderr",
     "output_type": "stream",
     "text": [
      "2437it [05:38,  7.20it/s]\n"
     ]
    },
    {
     "name": "stdout",
     "output_type": "stream",
     "text": [
      "Epoch: [49]  [2436/2437]  eta: 0:00:00  lr: 0.000001  loss: 0.5830 (0.6504)  bbox_regression: 0.1344 (0.1507)  classification: 0.4212 (0.4997)  time: 0.1357  data: 0.0398  max mem: 1250\n",
      "flag\n",
      "Epoch: [49] Total time: 0:05:38 (0.1388 s / it)\n",
      "saved dict\n",
      "creating index...\n",
      "index created!\n",
      "<torch.utils.data.dataloader.DataLoader object at 0x0000024C1147B310>\n",
      "Test:  [  0/100]  eta: 0:00:03  model_time: 0.0200 (0.0200)  evaluator_time: 0.0000 (0.0000)  time: 0.0330  data: 0.0120  max mem: 1250\n",
      "Test:  [ 99/100]  eta: 0:00:00  model_time: 0.0280 (0.0261)  evaluator_time: 0.0010 (0.0006)  time: 0.0424  data: 0.0120  max mem: 1250\n",
      "flag\n",
      "Test: Total time: 0:00:03 (0.0399 s / it)\n",
      "Averaged stats: model_time: 0.0280 (0.0261)  evaluator_time: 0.0010 (0.0006)\n",
      "Accumulating evaluation results...\n",
      "DONE (t=0.01s).\n",
      "IoU metric: bbox\n",
      " Average Precision  (AP) @[ IoU=0.50:0.95 | area=   all | maxDets=100 ] = 0.764\n",
      " Average Precision  (AP) @[ IoU=0.50      | area=   all | maxDets=100 ] = 0.929\n",
      " Average Precision  (AP) @[ IoU=0.75      | area=   all | maxDets=100 ] = 0.926\n",
      " Average Precision  (AP) @[ IoU=0.50:0.95 | area= small | maxDets=100 ] = -1.000\n",
      " Average Precision  (AP) @[ IoU=0.50:0.95 | area=medium | maxDets=100 ] = 0.000\n",
      " Average Precision  (AP) @[ IoU=0.50:0.95 | area= large | maxDets=100 ] = 0.767\n",
      " Average Recall     (AR) @[ IoU=0.50:0.95 | area=   all | maxDets=  1 ] = 0.794\n",
      " Average Recall     (AR) @[ IoU=0.50:0.95 | area=   all | maxDets= 10 ] = 0.803\n",
      " Average Recall     (AR) @[ IoU=0.50:0.95 | area=   all | maxDets=100 ] = 0.803\n",
      " Average Recall     (AR) @[ IoU=0.50:0.95 | area= small | maxDets=100 ] = -1.000\n",
      " Average Recall     (AR) @[ IoU=0.50:0.95 | area=medium | maxDets=100 ] = 0.000\n",
      " Average Recall     (AR) @[ IoU=0.50:0.95 | area= large | maxDets=100 ] = 0.806\n",
      "creating index...\n",
      "index created!\n",
      "<torch.utils.data.dataloader.DataLoader object at 0x0000024C1147A470>\n",
      "Test:  [  0/100]  eta: 0:00:04  model_time: 0.0350 (0.0350)  evaluator_time: 0.0000 (0.0000)  time: 0.0480  data: 0.0120  max mem: 1250\n",
      "Test:  [ 99/100]  eta: 0:00:00  model_time: 0.0310 (0.0325)  evaluator_time: 0.0010 (0.0006)  time: 0.0457  data: 0.0125  max mem: 1250\n",
      "flag\n",
      "Test: Total time: 0:00:04 (0.0464 s / it)\n",
      "Averaged stats: model_time: 0.0310 (0.0325)  evaluator_time: 0.0010 (0.0006)\n",
      "Accumulating evaluation results...\n",
      "DONE (t=0.02s).\n",
      "IoU metric: bbox\n",
      " Average Precision  (AP) @[ IoU=0.50:0.95 | area=   all | maxDets=100 ] = 0.402\n",
      " Average Precision  (AP) @[ IoU=0.50      | area=   all | maxDets=100 ] = 0.611\n",
      " Average Precision  (AP) @[ IoU=0.75      | area=   all | maxDets=100 ] = 0.434\n",
      " Average Precision  (AP) @[ IoU=0.50:0.95 | area= small | maxDets=100 ] = -1.000\n",
      " Average Precision  (AP) @[ IoU=0.50:0.95 | area=medium | maxDets=100 ] = -1.000\n",
      " Average Precision  (AP) @[ IoU=0.50:0.95 | area= large | maxDets=100 ] = 0.402\n",
      " Average Recall     (AR) @[ IoU=0.50:0.95 | area=   all | maxDets=  1 ] = 0.509\n",
      " Average Recall     (AR) @[ IoU=0.50:0.95 | area=   all | maxDets= 10 ] = 0.531\n",
      " Average Recall     (AR) @[ IoU=0.50:0.95 | area=   all | maxDets=100 ] = 0.531\n",
      " Average Recall     (AR) @[ IoU=0.50:0.95 | area= small | maxDets=100 ] = -1.000\n",
      " Average Recall     (AR) @[ IoU=0.50:0.95 | area=medium | maxDets=100 ] = -1.000\n",
      " Average Recall     (AR) @[ IoU=0.50:0.95 | area= large | maxDets=100 ] = 0.531\n",
      "training time: 17880.204399824142s\n"
     ]
    }
   ],
   "source": [
    "from engine import train_one_epoch, evaluate\n",
    "import utils\n",
    "import time\n",
    "train_data=AnimalDataset(get_transform(train=False),train_imgs,train_labels)\n",
    "val_data=AnimalDataset(get_transform(train=False),train_imgs[:100],train_labels[:100])\n",
    "test_data=AnimalDataset(get_transform(train=False),test_imgs[:100],test_labels[:100])\n",
    "device = torch.device('cuda') if torch.cuda.is_available() else torch.device('cpu')\n",
    "\n",
    "# our dataset has two classes only - background and person\n",
    "\n",
    "\n",
    "# define training and validation data loaders\n",
    "train_loader = torch.utils.data.DataLoader(\n",
    "    train_data, batch_size=4, shuffle=True, num_workers=0,\n",
    "    collate_fn=utils.collate_fn)\n",
    "val_loader = torch.utils.data.DataLoader(\n",
    "    val_data, batch_size=1, shuffle=False, num_workers=0,\n",
    "    collate_fn=utils.collate_fn)\n",
    "test_loader = torch.utils.data.DataLoader(\n",
    "    test_data, batch_size=1, shuffle=False, num_workers=0,\n",
    "    collate_fn=utils.collate_fn)\n",
    "\n",
    "# get the model using our helper function\n",
    "\n",
    "model =get_model_instance_vgg19(len(classes)+1)\n",
    "# move model to the right device\n",
    "model.to(device)\n",
    "\n",
    "# construct an optimizer\n",
    "params = [p for p in model.parameters() if p.requires_grad]\n",
    "optimizer = torch.optim.SGD(params, lr=0.005,\n",
    "                            momentum=0.9, weight_decay=0.0005)\n",
    "# and a learning rate scheduler\n",
    "lr_scheduler = torch.optim.lr_scheduler.StepLR(optimizer,\n",
    "                                                step_size=10,\n",
    "                                                gamma=0.1)\n",
    "\n",
    "# let's train it for 10 epochs\n",
    "num_epochs = 50\n",
    "starttime=time.time()\n",
    "\n",
    "for epoch in range(num_epochs):\n",
    "    # train for one epoch, printing every 10 iterations\n",
    "    train_one_epoch(model, optimizer, train_loader, device, epoch, print_freq=100)\n",
    "    # update the learning rate\n",
    "    torch.save(model.state_dict(), \"./model/SSD/SSD_vgg19\"+str(epoch)+\".pt\")\n",
    "    \n",
    "    print('saved dict')\n",
    "    lr_scheduler.step()\n",
    "    # evaluate on the test dataset\n",
    "    evaluate(model,val_loader, device=device)\n",
    "    evaluate(model,test_loader, device=device)\n",
    "print(\"training time: \"+str(time.time()-starttime)+\"s\")"
   ]
  },
  {
   "cell_type": "code",
   "execution_count": 17,
   "id": "ef33b14c-09ab-4ed2-a448-c5fc1ec9e084",
   "metadata": {},
   "outputs": [],
   "source": [
    "import time\n",
    "\n",
    "from PIL import Image, ImageDraw,ImageFont\n",
    "from engine import train_one_epoch, evaluate\n",
    "import utils\n",
    "# Load the model\\\n",
    "model=get_model_instance_vgg19(len(classes)+1)\n",
    "model.load_state_dict(torch.load('./model/SSD/SSD_vgg1920.pt'))\n",
    "model.to('cuda')\n",
    "model.eval()\n",
    "test_data=AnimalDataset(get_transform(train=False),train_imgs[6969:6970],train_labels[6969:6970])\n",
    "# Load a batch of images\n",
    "test_loader = torch.utils.data.DataLoader(\n",
    "    test_data, batch_size=1, shuffle=False, num_workers=4,\n",
    "    collate_fn=utils.collate_fn)\n",
    "\n",
    "timecount=0\n",
    "for imgs,target in test_loader:\n",
    "    print('hi')\n",
    "    images = list(img.to('cuda') for img in imgs)\n",
    "    torch.cuda.synchronize()\n",
    "    start_time = time.time()\n",
    "    # Run the model on the images\n",
    "    with torch.no_grad():\n",
    "        \n",
    "        outputs = model(images)\n",
    "    timecount+=time.time()-start_time\n",
    "    # Measure the end time\n",
    "    boxes = outputs[0]['boxes']\n",
    "\n",
    "    # Load the image using PIL\n",
    "    \n",
    "\n",
    "    # Draw the boxes on the image\n",
    "    \n",
    "        \n",
    "\n",
    "    # Display the image\n",
    "    img = Image.open(train_imgs[6969])\n",
    "\n",
    "    # Create a drawing object\n",
    "    draw = ImageDraw.Draw(img)\n",
    "\n",
    "    # Define the font to use for the labels\n",
    "    font = ImageFont.truetype(\"/usr/share/fonts/truetype/abyssinica/AbyssinicaSIL-Regular.ttf\", 16)\n",
    "\n",
    "    # Define the bounding boxes and labels\n",
    "    \n",
    "    labels = [classes[label]for label in outputs[0]['labels']]\n",
    "    print(labels)\n",
    "    print(boxes)\n",
    "    # Draw the bounding boxes and labels\n",
    "    for box, label in zip(boxes, labels):\n",
    "        draw.rectangle(box.tolist(), outline=\"red\", width=2)\n",
    "        draw.text((box), label, font=font)\n",
    "\n",
    "    # Display the image\n",
    "    img.show()\n",
    "# Measure the start time\n",
    "\n",
    "\n",
    "# Calculate the inference time per image"
   ]
  },
  {
   "cell_type": "code",
   "execution_count": 54,
   "id": "b662f688-dca1-4490-906c-c90b3754f778",
   "metadata": {},
   "outputs": [
    {
     "name": "stdout",
     "output_type": "stream",
     "text": [
      "[{'boxes': tensor([[206.8491, 411.0158, 611.4329, 930.5374],\n",
      "        [206.8491, 411.0158, 611.4329, 930.5374],\n",
      "        [206.8491, 411.0158, 611.4329, 930.5374]], device='cuda:0'), 'scores': tensor([0.8746, 0.0252, 0.0106], device='cuda:0'), 'labels': tensor([18,  9, 23], device='cuda:0')}]\n",
      "['Monkey']\n",
      "[tensor([206.8491, 411.0158, 611.4329, 930.5374], device='cuda:0')]\n"
     ]
    }
   ],
   "source": [
    "import time\n",
    "from PIL import Image, ImageDraw,ImageFont\n",
    "i=3415\n",
    "model=get_model_instance_vgg19(len(classes)+1)\n",
    "model.load_state_dict(torch.load('./model/SSD/SSD_vgg1920.pt'))\n",
    "model.to('cuda')\n",
    "model.eval()\n",
    "test_data=AnimalDataset(get_transform(train=False),train_imgs[i:i+1],train_labels[i:i+1])\n",
    "# Load a batch of images\n",
    "test_loader = torch.utils.data.DataLoader(\n",
    "    test_data, batch_size=1, shuffle=False, num_workers=4,\n",
    "    collate_fn=utils.collate_fn)\n",
    "\n",
    "timecount=0\n",
    "for imgs,target in test_loader:\n",
    "    images = list(img.to('cuda') for img in imgs)\n",
    "    torch.cuda.synchronize()\n",
    "    start_time = time.time()\n",
    "    # Run the model on the images\n",
    "    with torch.no_grad():\n",
    "        \n",
    "        outputs = model(images)\n",
    "    timecount+=time.time()-start_time\n",
    "    # Measure the end time\n",
    "    print(outputs)\n",
    "    max_pred=torch.argmax(outputs[0]['scores'])\n",
    "    boxes = [outputs[0]['boxes'][max_pred]   ]  \n",
    "    # Load the image using PIL\n",
    "    \n",
    "\n",
    "    # Draw the boxes on the image\n",
    "    \n",
    "        \n",
    "\n",
    "    # Display the image\n",
    "    img = Image.open(train_imgs[i])\n",
    "\n",
    "    # Create a drawing object\n",
    "    draw = ImageDraw.Draw(img)\n",
    "\n",
    "    # Define the font to use for the labels\n",
    "    font = ImageFont.truetype(\"/usr/share/fonts/truetype/abyssinica/AbyssinicaSIL-Regular.ttf\", 16)\n",
    "\n",
    "    # Define the bounding boxes and labels\n",
    "    \n",
    "    labels = [classes[outputs[0]['labels'][max_pred]-1]]\n",
    "    print(labels)\n",
    "    print(boxes)\n",
    "    # Draw the bounding boxes and labels\n",
    "    for box, label in zip(boxes, labels):\n",
    "        draw.rectangle(box.tolist(), outline=\"red\", width=2)\n",
    "        draw.text((box), label, font=font)\n",
    "\n",
    "    # Display the image\n",
    "    img.show()\n",
    "# Measure the start time\n",
    "\n"
   ]
  },
  {
   "cell_type": "code",
   "execution_count": null,
   "id": "5624f8e7-566f-483f-a8c6-cfb0095b5468",
   "metadata": {},
   "outputs": [],
   "source": []
  }
 ],
 "metadata": {
  "kernelspec": {
   "display_name": "Python 3 (ipykernel)",
   "language": "python",
   "name": "python3"
  },
  "language_info": {
   "codemirror_mode": {
    "name": "ipython",
    "version": 3
   },
   "file_extension": ".py",
   "mimetype": "text/x-python",
   "name": "python",
   "nbconvert_exporter": "python",
   "pygments_lexer": "ipython3",
   "version": "3.10.9"
  }
 },
 "nbformat": 4,
 "nbformat_minor": 5
}
